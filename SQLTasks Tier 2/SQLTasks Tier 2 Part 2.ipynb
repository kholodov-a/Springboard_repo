{
 "cells": [
  {
   "cell_type": "markdown",
   "metadata": {},
   "source": [
    "## /* PART 2: SQLite\n",
    "\n",
    "Export the country club data from PHPMyAdmin, and connect to a local SQLite instance from Jupyter notebook \n",
    "for the following questions.  \n"
   ]
  },
  {
   "cell_type": "markdown",
   "metadata": {},
   "source": [
    "\n",
    "## My answer\n",
    "\n",
    "Unfortunately, I couldn’t find a direct way to export the country club data from PHPMyAdmin into SQLite. \n",
    "As a result, I followed these steps:\n",
    "1.\tDownloaded each table from PHPMyAdmin in .json format (3 files, named after each table).\n",
    "2.\tRemoved all comments from the downloaded files.\n",
    "3.\tDeveloped a Python script to create a SQLite database with 3 tables (Bookings, Facilities, and Members) \n",
    "\tand to insert data from the downloaded .json files, using the Pandas DataFrame method to_sql.\n",
    "\n",
    "Here is my Python script:"
   ]
  },
  {
   "cell_type": "code",
   "execution_count": 42,
   "metadata": {},
   "outputs": [],
   "source": [
    "import sqlite3\n",
    "import pandas as pd\n",
    "import json\n",
    "\n",
    "connection = sqlite3.connect(\"country_club_SQLite.db\")\n",
    "cursor = connection.cursor()\n",
    "cursor.execute(\"CREATE TABLE IF NOT EXISTS 'Bookings' \\\n",
    "    ('bookid'   INTEGER, \\\n",
    "    'facid'     INTEGER, \\\n",
    "    'memid'     INTEGER, \\\n",
    "    'starttime' TEXT, \\\n",
    "    'slots'     INTEGER);\")\n",
    "\n",
    "cursor.execute(\"CREATE TABLE IF NOT EXISTS 'Members' \\\n",
    "    ('memid'    INTEGER, \\\n",
    "    'surname'   TEXT, \\\n",
    "    'firstname' TEXT, \\\n",
    "    'address'   TEXT, \\\n",
    "    'zipcode'   INTEGER, \\\n",
    "    'telephone' TEXT, \\\n",
    "    'recommendedby' TEXT, \\\n",
    "    'joindate'  TEXT);\")\n",
    "\n",
    "cursor.execute(\"CREATE TABLE IF NOT EXISTS 'Facilities' \\\n",
    "  ('facid' INTEGER, \\\n",
    "  'name' TEXT, \\\n",
    "  'membercost' NUMERIC, \\\n",
    "  'guestcost' NUMERIC, \\\n",
    "  'initialoutlay' INTEGER, \\\n",
    "  'monthlymaintenance' INTEGER);\")\n",
    "\n",
    "connection.commit()\n",
    "\n",
    "tables = ['Bookings', 'Facilities', 'Members']\n",
    "\n",
    "for table in tables:\n",
    "    with open(table + \".json\") as file:\n",
    "        data = json.load(file)\n",
    "    df = pd.DataFrame(data)\n",
    "    df.to_sql(table, connection, if_exists='append', index=False)\n",
    "    connection.commit()"
   ]
  },
  {
   "cell_type": "markdown",
   "metadata": {},
   "source": [
    "### However, after that I connected to the database which was provided with Tier Two package.\n",
    "...but both databases give the same result"
   ]
  },
  {
   "cell_type": "code",
   "execution_count": 48,
   "metadata": {},
   "outputs": [],
   "source": [
    "database_file = \"sqlite_db_pythonsqlite.db\"         # database provided with the task\n",
    "# database_file = \"country_club_SQLite.db\"          # my SQLite database"
   ]
  },
  {
   "cell_type": "markdown",
   "metadata": {},
   "source": [
    "## QUESTIONS:\n",
    "/* Q10: Produce a list of facilities with a total revenue less than 1000.\n",
    "The output of facility name and total revenue, sorted by revenue. Remember\n",
    "that there's a different cost for guests and members! */"
   ]
  },
  {
   "cell_type": "code",
   "execution_count": 49,
   "metadata": {},
   "outputs": [
    {
     "name": "stdout",
     "output_type": "stream",
     "text": [
      "              name  revenue\n",
      "0     Table Tennis    180.0\n",
      "1    Snooker Table    240.0\n",
      "2       Pool Table    270.0\n",
      "3  Badminton Court   1906.5\n",
      "4     Squash Court  13468.0\n",
      "5   Tennis Court 1  13860.0\n",
      "6   Tennis Court 2  14310.0\n",
      "7   Massage Room 2  14454.6\n",
      "8   Massage Room 1  50351.6\n"
     ]
    }
   ],
   "source": [
    "import sqlite3\n",
    "import pandas as pd\n",
    "\n",
    "connection = sqlite3.connect(database_file)\n",
    "\n",
    "my_query = \"\\\n",
    "    SELECT \\\n",
    "        f.name,  \\\n",
    "        SUM(CASE WHEN b.memid = 0 THEN f.guestcost * b.slots \\\n",
    "                ELSE f.membercost * b.slots END) AS revenue\\\n",
    "    FROM Bookings AS b\\\n",
    "    LEFT JOIN Facilities AS f\\\n",
    "    ON b.facid = f.facid \\\n",
    "    GROUP BY f.name \\\n",
    "    ORDER BY revenue\"\n",
    "\n",
    "df = pd.read_sql_query(my_query, connection)\n",
    "print(df)"
   ]
  },
  {
   "cell_type": "markdown",
   "metadata": {},
   "source": [
    "\n",
    "/* Q11: Produce a report of members and who recommended them in alphabetic surname,firstname order */"
   ]
  },
  {
   "cell_type": "code",
   "execution_count": 50,
   "metadata": {},
   "outputs": [
    {
     "name": "stdout",
     "output_type": "stream",
     "text": [
      "              surname  firstname rec_by_surname rec_by_firstname\n",
      "0               Bader   Florence       Stibbons           Ponder\n",
      "1               Baker       Anne       Stibbons           Ponder\n",
      "2               Baker    Timothy        Farrell           Jemima\n",
      "3              Boothe        Tim         Rownam              Tim\n",
      "4             Butters     Gerald          Smith           Darren\n",
      "5              Coplin       Joan          Baker          Timothy\n",
      "6             Crumpet      Erica          Smith            Tracy\n",
      "7                Dare      Nancy       Joplette           Janice\n",
      "8             Farrell      David           None             None\n",
      "9             Farrell     Jemima           None             None\n",
      "10              GUEST      GUEST           None             None\n",
      "11            Genting    Matthew        Butters           Gerald\n",
      "12               Hunt       John        Purview        Millicent\n",
      "13              Jones      David       Joplette           Janice\n",
      "14              Jones    Douglas          Jones            David\n",
      "15           Joplette     Janice          Smith           Darren\n",
      "16          Mackenzie       Anna          Smith           Darren\n",
      "17               Owen    Charles          Smith           Darren\n",
      "18             Pinker      David        Farrell           Jemima\n",
      "19            Purview  Millicent          Smith            Tracy\n",
      "20             Rownam        Tim           None             None\n",
      "21             Rumney  Henrietta        Genting          Matthew\n",
      "22             Sarwin  Ramnaresh          Bader         Florence\n",
      "23              Smith     Darren           None             None\n",
      "24              Smith     Darren           None             None\n",
      "25              Smith       Jack          Smith           Darren\n",
      "26              Smith      Tracy           None             None\n",
      "27           Stibbons     Ponder          Tracy           Burton\n",
      "28              Tracy     Burton           None             None\n",
      "29         Tupperware   Hyacinth           None             None\n",
      "30  Worthington-Smyth      Henry          Smith            Tracy\n"
     ]
    }
   ],
   "source": [
    "import sqlite3\n",
    "import pandas as pd\n",
    "\n",
    "connection = sqlite3.connect(database_file)\n",
    "\n",
    "my_query = \"\\\n",
    "    SELECT \\\n",
    "        m.surname, \\\n",
    "        m.firstname, \\\n",
    "        r.surname AS rec_by_surname, \\\n",
    "        r.firstname AS rec_by_firstname\\\n",
    "    FROM Members AS m \\\n",
    "    LEFT JOIN Members AS r\\\n",
    "    ON r.memid = m.recommendedby \\\n",
    "    ORDER BY m.surname, m.firstname\"\n",
    "\n",
    "df = pd.read_sql_query(my_query, connection)\n",
    "print(df)"
   ]
  },
  {
   "cell_type": "markdown",
   "metadata": {},
   "source": [
    "/* Q12: Find the facilities with their usage by member, but not guests */"
   ]
  },
  {
   "cell_type": "code",
   "execution_count": 51,
   "metadata": {},
   "outputs": [
    {
     "name": "stdout",
     "output_type": "stream",
     "text": [
      "              name  usage_by_members\n",
      "0  Badminton Court               344\n",
      "1   Massage Room 1               421\n",
      "2   Massage Room 2                27\n",
      "3       Pool Table               783\n",
      "4    Snooker Table               421\n",
      "5     Squash Court               195\n",
      "6     Table Tennis               385\n",
      "7   Tennis Court 1               308\n",
      "8   Tennis Court 2               276\n"
     ]
    }
   ],
   "source": [
    "import sqlite3\n",
    "import pandas as pd\n",
    "\n",
    "connection = sqlite3.connect(database_file)\n",
    "\n",
    "my_query = \"\\\n",
    "    SELECT \\\n",
    "        f.name, \\\n",
    "        COUNT(b.memid) AS usage_by_members \\\n",
    "    FROM Bookings AS b \\\n",
    "    INNER JOIN Facilities AS f \\\n",
    "    ON b.facid = f.facid \\\n",
    "    WHERE b.memid != 0 \\\n",
    "    GROUP BY f.name;\"\n",
    "\n",
    "df = pd.read_sql_query(my_query, connection)\n",
    "print(df)"
   ]
  },
  {
   "cell_type": "markdown",
   "metadata": {},
   "source": [
    "\n",
    "\n",
    "/* Q13: Find the facilities usage by month, but not guests */"
   ]
  },
  {
   "cell_type": "code",
   "execution_count": 52,
   "metadata": {},
   "outputs": [
    {
     "name": "stdout",
     "output_type": "stream",
     "text": [
      "               name month  usage_by_members\n",
      "0   Badminton Court    07                51\n",
      "1   Badminton Court    08               132\n",
      "2   Badminton Court    09               161\n",
      "3    Massage Room 1    07                77\n",
      "4    Massage Room 1    08               153\n",
      "5    Massage Room 1    09               191\n",
      "6    Massage Room 2    07                 4\n",
      "7    Massage Room 2    08                 9\n",
      "8    Massage Room 2    09                14\n",
      "9        Pool Table    07               103\n",
      "10       Pool Table    08               272\n",
      "11       Pool Table    09               408\n",
      "12    Snooker Table    07                68\n",
      "13    Snooker Table    08               154\n",
      "14    Snooker Table    09               199\n",
      "15     Squash Court    07                23\n",
      "16     Squash Court    08                85\n",
      "17     Squash Court    09                87\n",
      "18     Table Tennis    07                48\n",
      "19     Table Tennis    08               143\n",
      "20     Table Tennis    09               194\n",
      "21   Tennis Court 1    07                65\n",
      "22   Tennis Court 1    08               111\n",
      "23   Tennis Court 1    09               132\n",
      "24   Tennis Court 2    07                41\n",
      "25   Tennis Court 2    08               109\n",
      "26   Tennis Court 2    09               126\n"
     ]
    }
   ],
   "source": [
    "import sqlite3\n",
    "import pandas as pd\n",
    "\n",
    "connection = sqlite3.connect(database_file)\n",
    "\n",
    "my_query = \"\\\n",
    "\tSELECT \\\n",
    "\t\tf.name, \\\n",
    "\t\tstrftime('%m', DATE(b.starttime)) AS month, \\\n",
    "\t\tCOUNT(b.memid) AS usage_by_members \\\n",
    "\tFROM Bookings AS b \\\n",
    "\tINNER JOIN Facilities AS f \\\n",
    "\tON b.facid = f.facid \\\n",
    "\tWHERE b.memid != 0 \\\n",
    "    GROUP BY f.name, month \\\n",
    "\tORDER BY f.name, month;\"\n",
    "\n",
    "df = pd.read_sql_query(my_query, connection)\n",
    "print(df) "
   ]
  },
  {
   "cell_type": "markdown",
   "metadata": {},
   "source": []
  }
 ],
 "metadata": {
  "kernelspec": {
   "display_name": "base",
   "language": "python",
   "name": "python3"
  },
  "language_info": {
   "codemirror_mode": {
    "name": "ipython",
    "version": 3
   },
   "file_extension": ".py",
   "mimetype": "text/x-python",
   "name": "python",
   "nbconvert_exporter": "python",
   "pygments_lexer": "ipython3",
   "version": "3.12.4"
  }
 },
 "nbformat": 4,
 "nbformat_minor": 2
}
