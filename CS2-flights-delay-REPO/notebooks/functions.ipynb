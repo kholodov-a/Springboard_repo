{
 "cells": [
  {
   "cell_type": "code",
   "execution_count": 1,
   "metadata": {},
   "outputs": [],
   "source": [
    "import zipfile\n",
    "import pandas as pd\n",
    "import os\n",
    "import seaborn as sns\n",
    "import matplotlib.pyplot as plt\n",
    "import numpy as np\n",
    "import datetime\n",
    "from dateutil import tz\n",
    "from time import time\n",
    "import pickle\n",
    "import scipy.stats as st\n",
    "\n",
    "os.chdir('/Users/a.kholodov/Documents/02. Personal/20. Education/50. Universities/Springboard/Springboard_git/Springboard _repo/CS2-flights-delay-REPO')\n",
    "\n",
    "# pd.set_option('display.max_rows', 130)\n",
    "# pd.set_option('display.width', 200)\n",
    "\n",
    "# Loading timezones for IATA codes of airports\n",
    "IATAtz_df = pd.read_csv('https://raw.githubusercontent.com/hroptatyr/dateutils/tzmaps/iata.tzmap', \n",
    "                        sep = '\\t', \n",
    "                        index_col=0, \n",
    "                        header=None)\n",
    "\n",
    "# Dictionary with IATA codes as keys and timezones as values\n",
    "IATAtz = IATAtz_df.to_dict('dict')[1]\n",
    "del(IATAtz_df)\n",
    "\n",
    "# List of dates of start/end of DST\n",
    "DST = pd.to_datetime(['2014-03-09', '2014-11-02', '2015-03-08', '2015-11-01', \n",
    "       '2016-03-13', '2016-11-06', '2017-03-12', '2017-11-05', \n",
    "       '2018-03-11', '2018-11-04'])\n"
   ]
  },
  {
   "cell_type": "code",
   "execution_count": 2,
   "metadata": {},
   "outputs": [],
   "source": [
    "fields_to_load = {\n",
    "    # 'Year':                 np.int16,               \n",
    "    # 'Quarter':              np.int8,                \n",
    "    # 'Month':                np.int8,                \n",
    "    # 'DayofMonth':           np.int8,\n",
    "    # 'DayOfWeek':            np.int8,\n",
    "    'FlightDate':           'str',\n",
    "    'Reporting_Airline':    'category',\n",
    "    'Flight_Number_Reporting_Airline':  np.int16,\n",
    "    # 'OriginAirportID':      'category',\n",
    "    'Origin':               'category',\n",
    "    # 'DestAirportID':        'category',\n",
    "    'Dest':                 'category',\n",
    "    'CRSDepTime':           np.int16,\n",
    "    'DepTime':              'float32',\n",
    "    'DepDelay':             'float32',\n",
    "    'DepartureDelayGroups': 'category',\n",
    "    'DepTimeBlk':           'category',\n",
    "    'CRSArrTime':           np.int16,\n",
    "    'ArrTime':              'float32',\n",
    "    'ArrDelay':             'float32',\n",
    "    # 'Distance':             'float32',\n",
    "    'ArrivalDelayGroups':   'category',\n",
    "    'ArrTimeBlk':           'category',\n",
    "    'Cancelled':            np.int8,        # boolean\n",
    "    'CancellationCode':     'category',\n",
    "    'Diverted':             np.int8,        # boolean\n",
    "    'CarrierDelay':         'float32',\n",
    "    'WeatherDelay':         'float32',\n",
    "    'NASDelay':             'float32',\n",
    "    'SecurityDelay':        'float32',\n",
    "    'LateAircraftDelay':    'float32',\n",
    "    'CRSElapsedTime':       'float32',\n",
    "    'ActualElapsedTime':    'float32',\n",
    "    'AirTime':              'float32',\n",
    "    'DivReachedDest':       'float32',      # boolean\n",
    "    'DivActualElapsedTime': 'float32',\n",
    "    'DivArrDelay':          'float32'}"
   ]
  },
  {
   "cell_type": "code",
   "execution_count": 3,
   "metadata": {},
   "outputs": [],
   "source": [
    "# [FUNCTION]\n",
    "\n",
    "# # Convert Arrival and Departure times (CRS and Actual) to minutes\n",
    "def time_to_minutes(df):\n",
    "    return df // 100 * 60 + df % 100"
   ]
  },
  {
   "cell_type": "code",
   "execution_count": 4,
   "metadata": {},
   "outputs": [],
   "source": [
    "# [FUNCTION]\n",
    "\n",
    "def get_CRS_datetime(dates, dep_m, arr_m):\n",
    "    \"\"\"\n",
    "    Description\n",
    "    ------------\n",
    "    Calculate scheduled(CRS) Departure datetime (timezone naive) based on Flight Date and Departure time (minutes)\n",
    "    Calculate scheduled(CRS) Arrival datetiem (timezone naive) based on Flight Date and Arrival time (minutes). \n",
    "        Arrival time is increased by one day from Fllght Date if the difference between CRS Arrival and Departure time \n",
    "        is equal or less than -60 minutes, and decreased by one day if the difference is at least +1380 minutes.\n",
    "\n",
    "    Parameters:\n",
    "    ------------\n",
    "    dates - pandas Series with FlightDate\n",
    "    dep_m - pandas Seiries with CRS Departure time in minutes \n",
    "    arr_m - pandas Seiries with CRS Arrival time in minutes\n",
    "\n",
    "    Returns:\n",
    "    ------------\n",
    "    departure_datetime - CRS Departure datetime (timezone naive) (pd.Series)\n",
    "    arrival_datetime - CRS Arrival datetime (timezone naive) (pd.Series)\n",
    "    \"\"\"\n",
    "\n",
    "    df = pd.DataFrame() \n",
    "    df['departure_datetime'] = pd.to_datetime(dates) + pd.to_timedelta(dep_m, unit='min')\n",
    "\n",
    "    # Filter for scheduled flights arriving next or privios day\n",
    "    arr_next_day_filter = arr_m - dep_m  <= -60\n",
    "    arr_previous_day_filter = arr_m - dep_m  >= 1380\n",
    "\n",
    "    # For all scheduled flights by default arrival date is eaueal to departure date\n",
    "    df['arrival_datetime'] = dates\n",
    "\n",
    "    # Adding one day to the date if flight arrived next day\n",
    "    df.loc[arr_next_day_filter, 'arrival_datetime'] = df.loc[arr_next_day_filter, 'arrival_datetime'] \\\n",
    "                                                        + datetime.timedelta(1)\n",
    "    # Adding one day to the date if flight arrived day befor departure day\n",
    "    df.loc[arr_previous_day_filter, 'arrival_datetime'] = df.loc[arr_previous_day_filter, 'arrival_datetime'] \\\n",
    "                                                        + datetime.timedelta(-1)\n",
    "    # Finally adding actual arrival time to get actual arrival datetime\n",
    "    df['arrival_datetime'] = df['arrival_datetime'] + pd.to_timedelta(arr_m, 'm')\n",
    "\n",
    "    return df['departure_datetime'], df['arrival_datetime']\n"
   ]
  },
  {
   "cell_type": "code",
   "execution_count": 5,
   "metadata": {},
   "outputs": [],
   "source": [
    "# [FUNCTION]\n",
    "\n",
    "def get_Actual_datetime(dates, CRSdep_min, dep_min, arr_min, dep_delay):\n",
    "    \"\"\"\n",
    "    Description\n",
    "    ------------\n",
    "    Calculate Actual Departure datetime (timezone naive) based on Flight Date, Departure time (minutes) and Departure \n",
    "        delay (minutes)\n",
    "    Calculate Actual Arrival datetiem (timezone naive) based on Flight Date, Actual Departure date in accordance with \n",
    "        Departure delay and Arrival time (minutes). Arrival time is increased by one day from Departure Date if \n",
    "        the difference between CRS Arrival and Departure time is equal or less than -60 minutes, and decreased by one day \n",
    "        if the difference is at least +1380 minutes.\n",
    "\n",
    "    Parameters:\n",
    "    ------------\n",
    "    dates - FlightDate (pd.Series)\n",
    "    CRSdep_min - Actual Departure time in minutes (pd.Series)\n",
    "    dep_min - Actual Departure time in minutes (pd.Series)\n",
    "    arr_min - Actual Arrival time in minutes (pd.Series)\n",
    "    dep_delay - departure delay in minutes (pd.Series)\n",
    "\n",
    "    Returns:\n",
    "    ------------\n",
    "    departure_datetime - Actual Departure datetime (timezone naive) (pd.Series)\n",
    "    arrival_datetime - Actual Arrival datetime (timezone naive) (pd.Series)\n",
    "    \"\"\"\n",
    "\n",
    "    # Filters for flights having DepTime_min and ArrTime_min \n",
    "    # These filters actually for not cancelled flights, but they differ each other because some flights cancelles after departure\n",
    "    # So they have departure time but didn't fly \n",
    "    ActDep_exists_filter = ~dep_min.isna()\n",
    "    ActArr_exists_filter = ~arr_min.isna()\n",
    "\n",
    "    # Calculating the array with 'day shift' due to flight delay. NOTICE: some flights have -1 day shift because day had a \n",
    "    # small negative delay having a scheduled departure time several minutes after midnight\n",
    "    d = np.zeros([len(dates)], dtype='int')\n",
    "    d = ((CRSdep_min.fillna(0) + dep_delay.fillna(0)) // 1440).astype(int)\n",
    "    day_deltas_due_to_delay = pd.to_timedelta(d, unit='days')\n",
    "\n",
    "    # Calculating actual departure datetime\n",
    "    df = pd.DataFrame() #pd.NaT, index = [*range(0, len(dates))], columns= ['departure_datetime', 'arrival_datetime'])\n",
    "    df.loc[ActDep_exists_filter, 'departure_datetime'] = dates[ActDep_exists_filter] \\\n",
    "                                                + day_deltas_due_to_delay[ActDep_exists_filter] \\\n",
    "                                                + pd.to_timedelta(dep_min[ActDep_exists_filter], 'm')\n",
    "\n",
    "    # Calculating actual arrival datetime\n",
    "\n",
    "    # Filter for flights arrived next or previous day\n",
    "    Arrived_next_day = arr_min - dep_min  <= -60\n",
    "    Arrived_previous_day = arr_min - dep_min  >= 1380\n",
    "\n",
    "    # For all arrived flights at first arrival date is eaueal to departure date\n",
    "    df.loc[ActArr_exists_filter, 'arrival_datetime'] = dates[ActArr_exists_filter] \\\n",
    "                                                + day_deltas_due_to_delay[ActArr_exists_filter] \n",
    "    # Adding one day to the date if flight arrived next day\n",
    "    df.loc[ActArr_exists_filter & Arrived_next_day, 'arrival_datetime'] = \\\n",
    "            df.loc[ActArr_exists_filter & Arrived_next_day, 'arrival_datetime'] + datetime.timedelta(1)\n",
    "    \n",
    "    # Adding one day to the date if flight arrived previous day\n",
    "    df.loc[ActArr_exists_filter & Arrived_previous_day, 'arrival_datetime'] = \\\n",
    "            df.loc[ActArr_exists_filter & Arrived_previous_day, 'arrival_datetime'] + datetime.timedelta(-1)\n",
    "    \n",
    "    # Finally adding actual arrival time to get actual arrival datetime\n",
    "    df.loc[ActArr_exists_filter, 'arrival_datetime'] = \\\n",
    "            df.loc[ActArr_exists_filter, 'arrival_datetime'] + pd.to_timedelta(arr_min.loc[ActArr_exists_filter], 'm')\n",
    "    \n",
    "    return df['departure_datetime'], df['arrival_datetime']"
   ]
  },
  {
   "cell_type": "code",
   "execution_count": 6,
   "metadata": {},
   "outputs": [],
   "source": [
    "# [FUNCTION]\n",
    "\n",
    "# Function to convert datetime timezone naive to UTC timezone\n",
    "def convert_column_to_UTC(df, dt_field, IATA_code_field):\n",
    "    return [row[dt_field].tz_localize(tz=tz.gettz(IATAtz[row[IATA_code_field]]), ambiguous=True, nonexistent='shift_forward')\n",
    "             .astimezone(tz.UTC) for _, row in df.iterrows()]\n",
    "\n",
    "# Function to convert datetime timezone naive to UTC timezone\n",
    "def local_to_UTC(dt_naive, IATA_code):\n",
    "    return dt_naive.tz_localize(tz=tz.gettz(IATAtz[IATA_code]), ambiguous=True, nonexistent='shift_forward').astimezone(tz.UTC)\n",
    "\n",
    "# Function to convert UTC datetime to timezone naive\n",
    "def UTC_to_local(dt_UTC, IATA_code):\n",
    "    return dt_UTC.astimezone(tz.gettz(IATAtz[IATA_code])).replace(tzinfo=None)"
   ]
  },
  {
   "cell_type": "code",
   "execution_count": 7,
   "metadata": {},
   "outputs": [],
   "source": [
    "# [FUNCTION]\n",
    "\n",
    "def add_local_tz(df, dt_field, IATA_code_field):\n",
    "    '''Function to add to the series of datetime a timezone specified by airports IATA codes\n",
    "    \n",
    "    Papameters\n",
    "    ------------\n",
    "    df                  DataFrame   - dataset with flights records\n",
    "    dt_field            str         - name of the field with tz-naive datetime\n",
    "    IATA_code_filed     str         - name of the field with IATA airport code\n",
    "    '''\n",
    "    return [row[dt_field].tz_localize(tz=tz.gettz(IATAtz[row[IATA_code_field]]), ambiguous=True ,nonexistent='shift_forward')\n",
    "        for _, row in df.iterrows()]"
   ]
  },
  {
   "cell_type": "code",
   "execution_count": 8,
   "metadata": {},
   "outputs": [],
   "source": [
    "# [FUNCTION]\n",
    "\n",
    "def memory_usage_per_type(data_frame):\n",
    "    '''\n",
    "    Source: https://medium.com/@alielagrebi/optimize-the-pandas-dataframe-memory-consuming-for-low-environment-24aa74cf9413\n",
    "    '''\n",
    "    types = ['number', 'object', 'datetimetz', 'category', 'bool']\n",
    "    for tp in types:\n",
    "        selected_col = data_frame.select_dtypes(include=[tp])\n",
    "        memory_usage_per_type_b = selected_col.memory_usage(deep=True).sum()\n",
    "        memory_usage_per_type_mb = memory_usage_per_type_b / 1024**2\n",
    "        print('memory usage for {} columns: {:03.3f} MB'.format(tp, memory_usage_per_type_mb))\n",
    "    \n",
    "\n",
    "def memory_usage(data_frame):\n",
    "    return data_frame.memory_usage(deep=True).sum() / 1024**2"
   ]
  },
  {
   "cell_type": "code",
   "execution_count": 9,
   "metadata": {},
   "outputs": [],
   "source": [
    "# [FUNCTION]\n",
    "# Return the sliice of dataset where at least one of two fields of a row is DST start or finish date\n",
    "\n",
    "def isDST(ds, field1, field2):\n",
    "    return (pd.to_datetime(ds.loc[:, field1].dt.date).isin(DST) \n",
    "            | pd.to_datetime(ds.loc[:,field2].dt.date).isin(DST))"
   ]
  },
  {
   "cell_type": "code",
   "execution_count": 10,
   "metadata": {},
   "outputs": [],
   "source": [
    "# [FUNCTION]\n",
    "\n",
    "def correct_IDL(df, time_type):\n",
    "    '''\n",
    "    Description\n",
    "    ------------\n",
    "    Correcting time data for HML and GUM airports which are across IDL \n",
    "\n",
    "    Parameters:\n",
    "    ------------\n",
    "    df - flights dataset (pd.DateFrame)\n",
    "    time_type - 'CRS' for scheduled times and 'Act' for actual\n",
    "    \n",
    "    Returns:\n",
    "    ------------\n",
    "    none\n",
    "    '''\n",
    "    if time_type not in ['CRS', 'Act']:\n",
    "        print('Wrong parameter:', time_type)\n",
    "        return -1\n",
    "    \n",
    "    diff = 'diff_' + time_type\n",
    "    arrUTC = time_type + 'Arr_UTC'\n",
    "    UTCElapsed = 'UTCElapsedTime_' + time_type\n",
    "\n",
    "    error_1440_filter = df[diff].isin([1440, -1440])\n",
    "    error_1440 = df[error_1440_filter]\n",
    "    HNL_GUM_filter = (error_1440['Origin'].isin(['HNL', 'GUM'])) & (error_1440['Dest'].isin(['HNL', 'GUM']))\n",
    "    error_1440 = error_1440[HNL_GUM_filter]\n",
    "    print(error_1440[['Origin', 'Dest', \n",
    "                'CRSDepDT', 'CRSArrDT',\n",
    "                'CRSDep_UTC', 'CRSArr_UTC', \n",
    "                'CRSElapsedTime', 'UTCElapsedTime_CRS', 'diff_CRS']])\n",
    "    error_1440[diff].astype(int)\n",
    "    error_1440[arrUTC] -= pd.to_timedelta(error_1440[diff], 'min')\n",
    "    error_1440[UTCElapsed] -= error_1440[diff]\n",
    "    error_1440[diff] = 0\n",
    "    print(error_1440[['Origin', 'Dest', \n",
    "                'CRSDepDT', 'CRSArrDT',\n",
    "                'CRSDep_UTC', 'CRSArr_UTC', \n",
    "                'CRSElapsedTime', 'UTCElapsedTime_CRS', 'diff_CRS']])\n",
    "\n",
    "    df[error_1440_filter] = error_1440\n",
    "    del(error_1440)\n",
    "\n",
    "    return 1"
   ]
  },
  {
   "cell_type": "code",
   "execution_count": 11,
   "metadata": {},
   "outputs": [],
   "source": [
    "# [FUNCTION]\n",
    "\n",
    "def get_outliers_range(values):\n",
    "    q25, q75 = values.quantile([0.25, 0.75])\n",
    "    return q25 - (q75 - q25) * 1.5, q75 + (q75 - q25) * 1.5"
   ]
  },
  {
   "cell_type": "markdown",
   "metadata": {},
   "source": [
    "# Loading the data"
   ]
  },
  {
   "cell_type": "code",
   "execution_count": 12,
   "metadata": {},
   "outputs": [],
   "source": [
    "# Loading preprocessed dataset\n",
    "\n",
    "input_file_name = 'data/processed/processed_2014_2018.pickle'\n",
    "with open(input_file_name, 'rb') as in_file:\n",
    "    flights = pickle.load(in_file)"
   ]
  },
  {
   "cell_type": "code",
   "execution_count": 13,
   "metadata": {},
   "outputs": [],
   "source": [
    "rout_info = ['Flight_Number_Reporting_Airline', 'Origin', 'Dest', 'CRSDepDT', 'CRSElapsedTime']"
   ]
  },
  {
   "cell_type": "code",
   "execution_count": 14,
   "metadata": {},
   "outputs": [
    {
     "data": {
      "text/html": [
       "<div>\n",
       "<style scoped>\n",
       "    .dataframe tbody tr th:only-of-type {\n",
       "        vertical-align: middle;\n",
       "    }\n",
       "\n",
       "    .dataframe tbody tr th {\n",
       "        vertical-align: top;\n",
       "    }\n",
       "\n",
       "    .dataframe thead th {\n",
       "        text-align: right;\n",
       "    }\n",
       "</style>\n",
       "<table border=\"1\" class=\"dataframe\">\n",
       "  <thead>\n",
       "    <tr style=\"text-align: right;\">\n",
       "      <th></th>\n",
       "      <th>Flight_Number_Reporting_Airline</th>\n",
       "      <th>Origin</th>\n",
       "      <th>Dest</th>\n",
       "      <th>CRSDepDT</th>\n",
       "      <th>CRSElapsedTime</th>\n",
       "    </tr>\n",
       "  </thead>\n",
       "  <tbody>\n",
       "    <tr>\n",
       "      <th>23805801</th>\n",
       "      <td>5972</td>\n",
       "      <td>ORD</td>\n",
       "      <td>LGA</td>\n",
       "      <td>2018-02-07 12:30:00</td>\n",
       "      <td>-60.0</td>\n",
       "    </tr>\n",
       "    <tr>\n",
       "      <th>23814169</th>\n",
       "      <td>3418</td>\n",
       "      <td>BNA</td>\n",
       "      <td>EWR</td>\n",
       "      <td>2018-02-17 17:00:00</td>\n",
       "      <td>-60.0</td>\n",
       "    </tr>\n",
       "    <tr>\n",
       "      <th>23814172</th>\n",
       "      <td>3650</td>\n",
       "      <td>IAH</td>\n",
       "      <td>SDF</td>\n",
       "      <td>2018-02-24 19:45:00</td>\n",
       "      <td>-60.0</td>\n",
       "    </tr>\n",
       "    <tr>\n",
       "      <th>23814174</th>\n",
       "      <td>3540</td>\n",
       "      <td>ORD</td>\n",
       "      <td>CLT</td>\n",
       "      <td>2018-02-26 14:25:00</td>\n",
       "      <td>-60.0</td>\n",
       "    </tr>\n",
       "    <tr>\n",
       "      <th>28530440</th>\n",
       "      <td>3534</td>\n",
       "      <td>ORD</td>\n",
       "      <td>TVC</td>\n",
       "      <td>2018-10-09 21:20:00</td>\n",
       "      <td>-99.0</td>\n",
       "    </tr>\n",
       "  </tbody>\n",
       "</table>\n",
       "</div>"
      ],
      "text/plain": [
       "          Flight_Number_Reporting_Airline Origin Dest            CRSDepDT  \\\n",
       "23805801                             5972    ORD  LGA 2018-02-07 12:30:00   \n",
       "23814169                             3418    BNA  EWR 2018-02-17 17:00:00   \n",
       "23814172                             3650    IAH  SDF 2018-02-24 19:45:00   \n",
       "23814174                             3540    ORD  CLT 2018-02-26 14:25:00   \n",
       "28530440                             3534    ORD  TVC 2018-10-09 21:20:00   \n",
       "\n",
       "          CRSElapsedTime  \n",
       "23805801           -60.0  \n",
       "23814169           -60.0  \n",
       "23814172           -60.0  \n",
       "23814174           -60.0  \n",
       "28530440           -99.0  "
      ]
     },
     "execution_count": 14,
     "metadata": {},
     "output_type": "execute_result"
    }
   ],
   "source": [
    "elapsed_less_then_ZERO = flights['CRSElapsedTime'] < 0\n",
    "flights[elapsed_less_then_ZERO][rout_info]"
   ]
  },
  {
   "cell_type": "code",
   "execution_count": 15,
   "metadata": {},
   "outputs": [],
   "source": [
    "flights = flights[~elapsed_less_then_ZERO]"
   ]
  },
  {
   "cell_type": "code",
   "execution_count": 16,
   "metadata": {},
   "outputs": [],
   "source": [
    "# Analysis of difference between 'ActualElapsedTime' and 'CRSElapsedTime'\n",
    "flights['ElapsedTimeDiff'] = flights['ActualElapsedTime'] - flights['CRSElapsedTime']\n",
    "flights['RelElapTimeDiff'] = (flights['ElapsedTimeDiff'] / flights['CRSElapsedTime']).astype(float)"
   ]
  },
  {
   "cell_type": "code",
   "execution_count": 17,
   "metadata": {},
   "outputs": [],
   "source": [
    "ET_less_30_min = flights['CRSElapsedTime'] < 30"
   ]
  },
  {
   "cell_type": "code",
   "execution_count": 18,
   "metadata": {},
   "outputs": [],
   "source": [
    "outlier_limit_low, outlier_limit_high = get_outliers_range(flights['RelElapTimeDiff'])\n",
    "\n",
    "# Filtering flights that had actual elapsed time to short relative to scheduled \n",
    "relative_diff_low_outliers = (flights['RelElapTimeDiff'] < outlier_limit_low) \n",
    "relative_diff_higher_outliers = (flights['RelElapTimeDiff'] > outlier_limit_high)\n",
    "outliers = (flights['RelElapTimeDiff'] < outlier_limit_low) | (flights['RelElapTimeDiff'] > outlier_limit_high)"
   ]
  },
  {
   "cell_type": "code",
   "execution_count": 19,
   "metadata": {},
   "outputs": [
    {
     "data": {
      "image/png": "[encoded data removed]",
      "text/plain": [
       "<Figure size 640x480 with 1 Axes>"
      ]
     },
     "metadata": {},
     "output_type": "display_data"
    }
   ],
   "source": [
    "bins = np.arange(0, 35, 5)\n",
    "plt.hist(flights[relative_diff_higher_outliers & ET_less_30_min]['CRSElapsedTime'], bins = bins)\n",
    "plt.show()"
   ]
  },
  {
   "cell_type": "code",
   "execution_count": 20,
   "metadata": {},
   "outputs": [
    {
     "name": "stdout",
     "output_type": "stream",
     "text": [
      "          Flight_Number_Reporting_Airline Origin Dest            CRSDepDT  CRSElapsedTime  ActualElapsedTime\n",
      "2435800                                65    WRG  PSG 2014-06-08 10:48:00            19.0               30.0\n",
      "2437272                                65    WRG  PSG 2014-06-09 10:48:00            19.0               25.0\n",
      "2437750                                65    WRG  PSG 2014-06-10 10:48:00            19.0               24.0\n",
      "2438131                                65    WRG  PSG 2014-06-15 10:48:00            19.0               23.0\n",
      "2443225                                65    WRG  PSG 2014-06-14 10:48:00            19.0               31.0\n",
      "2935878                                65    WRG  PSG 2014-07-01 10:48:00            19.0               23.0\n",
      "2939064                                65    WRG  PSG 2014-07-04 10:48:00            19.0               24.0\n",
      "3004362                                65    WRG  PSG 2014-07-06 10:49:00            19.0               23.0\n",
      "3100525                              6039    COS  DEN 2014-07-11 18:25:00            18.0               57.0\n",
      "8625842                                65    WRG  PSG 2015-06-13 10:53:00            18.0               29.0\n",
      "8629353                                65    WRG  PSG 2015-06-09 10:53:00            18.0               28.0\n",
      "8632091                                65    WRG  PSG 2015-06-23 10:53:00            18.0               22.0\n",
      "8632896                                65    WRG  PSG 2015-06-21 10:53:00            18.0               25.0\n",
      "8636080                                65    WRG  PSG 2015-06-28 10:53:00            18.0               28.0\n",
      "8649251                                65    WRG  PSG 2015-06-12 10:53:00            18.0               22.0\n",
      "8649777                                65    WRG  PSG 2015-06-17 10:53:00            18.0               29.0\n",
      "8687170                                65    WRG  PSG 2015-06-07 10:53:00            18.0               28.0\n",
      "8785092                                65    WRG  PSG 2015-07-02 10:53:00            18.0               23.0\n",
      "8788748                                65    WRG  PSG 2015-07-09 10:53:00            18.0               27.0\n",
      "8799822                                65    WRG  PSG 2015-07-07 10:53:00            18.0               22.0\n",
      "14005485                               65    WRG  PSG 2016-06-09 11:10:00            18.0               27.0\n",
      "14006206                               65    WRG  PSG 2016-06-05 11:10:00            18.0               22.0\n",
      "14006842                               65    WRG  PSG 2016-06-10 11:10:00            18.0               23.0\n",
      "14008182                               65    WRG  PSG 2016-06-07 11:10:00            18.0               22.0\n",
      "14010053                               65    WRG  PSG 2016-06-19 11:10:00            18.0               22.0\n",
      "14010659                               65    WRG  PSG 2016-06-11 11:10:00            18.0               27.0\n",
      "14011291                               65    WRG  PSG 2016-06-16 11:10:00            18.0               24.0\n",
      "14011942                               65    WRG  PSG 2016-06-21 11:10:00            18.0               33.0\n",
      "14012622                               65    WRG  PSG 2016-06-13 11:10:00            18.0               22.0\n",
      "14013282                               65    WRG  PSG 2016-06-18 11:10:00            18.0               23.0\n",
      "14014096                               65    WRG  PSG 2016-06-22 11:10:00            18.0               24.0\n",
      "14014732                               65    WRG  PSG 2016-06-27 11:10:00            18.0               22.0\n",
      "14015265                               65    WRG  PSG 2016-06-28 11:10:00            18.0               23.0\n",
      "14020485                               65    WRG  PSG 2016-06-30 11:10:00            18.0               23.0\n",
      "14339527                               65    WRG  PSG 2016-06-20 11:10:00            18.0               29.0\n",
      "14340167                               65    WRG  PSG 2016-06-25 11:10:00            18.0               24.0\n",
      "14493851                               65    WRG  PSG 2016-07-02 11:10:00            18.0               28.0\n",
      "14494893                               65    WRG  PSG 2016-07-06 11:10:00            18.0               23.0\n",
      "14495590                               65    WRG  PSG 2016-07-01 11:10:00            18.0               24.0\n",
      "14496611                               65    WRG  PSG 2016-07-04 11:10:00            18.0               26.0\n",
      "14497107                               65    WRG  PSG 2016-07-05 11:10:00            18.0               32.0\n",
      "14497724                               65    WRG  PSG 2016-07-10 11:10:00            18.0               23.0\n",
      "14503168                               65    WRG  PSG 2016-07-11 11:10:00            18.0               24.0\n",
      "14503806                               65    WRG  PSG 2016-07-16 11:10:00            18.0               25.0\n",
      "14803643                               65    WRG  PSG 2016-07-09 11:10:00            18.0               23.0\n",
      "19792889                               65    WRG  PSG 2017-06-04 10:51:00            18.0               47.0\n",
      "19793436                               65    WRG  PSG 2017-06-05 10:51:00            18.0               36.0\n",
      "19793991                               65    WRG  PSG 2017-06-06 10:51:00            18.0               22.0\n",
      "19796193                               65    WRG  PSG 2017-06-10 10:51:00            18.0               26.0\n",
      "19797834                               65    WRG  PSG 2017-06-13 10:51:00            18.0               40.0\n",
      "19798381                               65    WRG  PSG 2017-06-14 10:51:00            18.0               25.0\n",
      "19798929                               65    WRG  PSG 2017-06-15 10:51:00            18.0               22.0\n",
      "19801115                               65    WRG  PSG 2017-06-19 10:51:00            18.0               26.0\n",
      "19802761                               65    WRG  PSG 2017-06-22 10:51:00            18.0               28.0\n",
      "19803864                               65    WRG  PSG 2017-06-24 10:51:00            18.0               25.0\n",
      "19804394                               65    WRG  PSG 2017-06-25 10:51:00            18.0               27.0\n",
      "19804946                               65    WRG  PSG 2017-06-26 10:51:00            18.0               31.0\n",
      "19805500                               65    WRG  PSG 2017-06-27 10:51:00            18.0               22.0\n",
      "19806040                               65    WRG  PSG 2017-06-28 10:51:00            18.0               24.0\n",
      "19807145                               65    WRG  PSG 2017-06-30 10:51:00            18.0               28.0\n",
      "20055916                               65    WRG  PSG 2017-07-03 10:51:00            18.0               29.0\n",
      "20056465                               65    WRG  PSG 2017-07-04 10:51:00            18.0               30.0\n",
      "20056981                               65    WRG  PSG 2017-07-05 10:51:00            18.0               22.0\n",
      "20059183                               65    WRG  PSG 2017-07-09 10:51:00            18.0               22.0\n",
      "20059738                               65    WRG  PSG 2017-07-10 10:51:00            18.0               32.0\n",
      "20060841                               65    WRG  PSG 2017-07-12 10:51:00            18.0               23.0\n",
      "29505861                             5051    PUB  LBL 2018-11-26 21:31:00            19.0               42.0\n"
     ]
    }
   ],
   "source": [
    "# Filtering the flights with Elapsed time between 15 and 20 minutes, which relative difference of ETs is high\n",
    "pd.set_option('display.max_rows', 70)\n",
    "pd.set_option('display.width', 120)\n",
    "print(flights[relative_diff_higher_outliers & (15 < flights['CRSElapsedTime']) & \n",
    "              (flights['CRSElapsedTime'] < 20)][rout_info + ['ActualElapsedTime']])\n",
    "pd.reset_option('display.max_rows')\n",
    "pd.reset_option('display.width')"
   ]
  },
  {
   "cell_type": "markdown",
   "metadata": {},
   "source": [
    "These flights look like delayed normal short flights "
   ]
  },
  {
   "cell_type": "code",
   "execution_count": 21,
   "metadata": {},
   "outputs": [
    {
     "data": {
      "text/html": [
       "<div>\n",
       "<style scoped>\n",
       "    .dataframe tbody tr th:only-of-type {\n",
       "        vertical-align: middle;\n",
       "    }\n",
       "\n",
       "    .dataframe tbody tr th {\n",
       "        vertical-align: top;\n",
       "    }\n",
       "\n",
       "    .dataframe thead th {\n",
       "        text-align: right;\n",
       "    }\n",
       "</style>\n",
       "<table border=\"1\" class=\"dataframe\">\n",
       "  <thead>\n",
       "    <tr style=\"text-align: right;\">\n",
       "      <th></th>\n",
       "      <th>Flight_Number_Reporting_Airline</th>\n",
       "      <th>Origin</th>\n",
       "      <th>Dest</th>\n",
       "      <th>CRSDepDT</th>\n",
       "      <th>CRSElapsedTime</th>\n",
       "      <th>ActualElapsedTime</th>\n",
       "    </tr>\n",
       "  </thead>\n",
       "  <tbody>\n",
       "    <tr>\n",
       "      <th>18294052</th>\n",
       "      <td>5035</td>\n",
       "      <td>FWA</td>\n",
       "      <td>ORD</td>\n",
       "      <td>2017-03-29 19:24:00</td>\n",
       "      <td>4.0</td>\n",
       "      <td>67.0</td>\n",
       "    </tr>\n",
       "    <tr>\n",
       "      <th>19335470</th>\n",
       "      <td>7410</td>\n",
       "      <td>DTW</td>\n",
       "      <td>CIU</td>\n",
       "      <td>2017-05-22 15:10:00</td>\n",
       "      <td>1.0</td>\n",
       "      <td>83.0</td>\n",
       "    </tr>\n",
       "    <tr>\n",
       "      <th>26019611</th>\n",
       "      <td>5132</td>\n",
       "      <td>SLN</td>\n",
       "      <td>HYS</td>\n",
       "      <td>2018-06-02 17:10:00</td>\n",
       "      <td>5.0</td>\n",
       "      <td>42.0</td>\n",
       "    </tr>\n",
       "    <tr>\n",
       "      <th>26634021</th>\n",
       "      <td>5903</td>\n",
       "      <td>MTJ</td>\n",
       "      <td>DFW</td>\n",
       "      <td>2018-07-10 12:27:00</td>\n",
       "      <td>1.0</td>\n",
       "      <td>182.0</td>\n",
       "    </tr>\n",
       "    <tr>\n",
       "      <th>26989871</th>\n",
       "      <td>4493</td>\n",
       "      <td>MSP</td>\n",
       "      <td>LGA</td>\n",
       "      <td>2018-07-04 07:09:00</td>\n",
       "      <td>1.0</td>\n",
       "      <td>174.0</td>\n",
       "    </tr>\n",
       "    <tr>\n",
       "      <th>27319025</th>\n",
       "      <td>5123</td>\n",
       "      <td>CLT</td>\n",
       "      <td>PGV</td>\n",
       "      <td>2018-08-19 22:25:00</td>\n",
       "      <td>1.0</td>\n",
       "      <td>66.0</td>\n",
       "    </tr>\n",
       "  </tbody>\n",
       "</table>\n",
       "</div>"
      ],
      "text/plain": [
       "          Flight_Number_Reporting_Airline Origin Dest            CRSDepDT  \\\n",
       "18294052                             5035    FWA  ORD 2017-03-29 19:24:00   \n",
       "19335470                             7410    DTW  CIU 2017-05-22 15:10:00   \n",
       "26019611                             5132    SLN  HYS 2018-06-02 17:10:00   \n",
       "26634021                             5903    MTJ  DFW 2018-07-10 12:27:00   \n",
       "26989871                             4493    MSP  LGA 2018-07-04 07:09:00   \n",
       "27319025                             5123    CLT  PGV 2018-08-19 22:25:00   \n",
       "\n",
       "          CRSElapsedTime  ActualElapsedTime  \n",
       "18294052             4.0               67.0  \n",
       "19335470             1.0               83.0  \n",
       "26019611             5.0               42.0  \n",
       "26634021             1.0              182.0  \n",
       "26989871             1.0              174.0  \n",
       "27319025             1.0               66.0  "
      ]
     },
     "execution_count": 21,
     "metadata": {},
     "output_type": "execute_result"
    }
   ],
   "source": [
    "# Filtering the flights with Elapsed time less than 15, which relative difference of ETs is high\n",
    "flights[relative_diff_higher_outliers & (flights['CRSElapsedTime'] < 15)][rout_info + ['ActualElapsedTime']]"
   ]
  },
  {
   "cell_type": "markdown",
   "metadata": {},
   "source": [
    "And these flights seem very strange due to extreemly short scheduled elapsed times. I'm goitng to drop them"
   ]
  },
  {
   "cell_type": "code",
   "execution_count": 22,
   "metadata": {},
   "outputs": [],
   "source": [
    "flights = flights[~(relative_diff_higher_outliers & (flights['CRSElapsedTime'] < 15))]"
   ]
  },
  {
   "cell_type": "code",
   "execution_count": 23,
   "metadata": {},
   "outputs": [],
   "source": [
    "outlier_limit_low, outlier_limit_high = get_outliers_range(flights['RelElapTimeDiff'])\n",
    "\n",
    "# Filtering flights that had actual elapsed time too short or lond relative to their scheduled time\n",
    "relative_diff_low_outliers = (flights['RelElapTimeDiff'] < outlier_limit_low) \n",
    "relative_diff_higher_outliers = (flights['RelElapTimeDiff'] > outlier_limit_high)\n",
    "outliers = (flights['RelElapTimeDiff'] < outlier_limit_low) | (flights['RelElapTimeDiff'] > outlier_limit_high)"
   ]
  },
  {
   "cell_type": "code",
   "execution_count": 24,
   "metadata": {},
   "outputs": [
    {
     "name": "stdout",
     "output_type": "stream",
     "text": [
      "In 2014-2018 there were 1,389,106 flights with relative ET difference out of range (-25.23%, +16.66%%), which represent 4.61% of total flights\n"
     ]
    }
   ],
   "source": [
    "# Printing some summary for ALL OUTLIERS\n",
    "print('In 2014-2018 there were {:,d} flights with relative ET difference out of range ({:.2%}, {:+.2%}%), which represent {:.2%} of total flights'\n",
    "      .format(n:=flights[outliers]['Flight_Number_Reporting_Airline'].count(), \n",
    "              outlier_limit_low, \n",
    "              outlier_limit_high, \n",
    "              n / len(flights)))"
   ]
  },
  {
   "cell_type": "code",
   "execution_count": 25,
   "metadata": {},
   "outputs": [
    {
     "name": "stdout",
     "output_type": "stream",
     "text": [
      "          Flight_Number_Reporting_Airline Origin Dest            CRSDepDT  CRSElapsedTime  ActualElapsedTime  ElapsedTimeDiff  RelElapTimeDiff  diff_CRS  diff_Act\n",
      "21568647                             5028    SBP  SFO 2017-10-09 08:55:00           302.0               52.0           -250.0        -0.827637       0.0       0.0\n",
      "27060967                             5132    SLN  HYS 2018-07-17 05:40:00           161.0               44.0           -117.0        -0.726562       0.0       0.0\n",
      "10814398                              969    SAN  SFO 2015-11-03 20:15:00           285.0               84.0           -201.0        -0.705078       0.0       0.0\n",
      "23159729                             4656    RDM  MFR 2018-01-07 11:10:00           137.0               41.0            -96.0        -0.700684     -60.0       0.0\n",
      "24184719                             4528    MKE  DTW 2018-03-29 05:27:00           253.0               76.0           -177.0        -0.699707       0.0       0.0\n",
      "...                                   ...    ...  ...                 ...             ...                ...              ...              ...       ...       ...\n",
      "20074201                             5168    ORD  DLH 2017-07-06 12:20:00           103.0               77.0            -26.0        -0.252441       0.0       0.0\n",
      "22290973                             3558    HLN  SLC 2017-11-29 06:10:00           103.0               77.0            -26.0        -0.252441       0.0       0.0\n",
      "12441084                             2197    CMH  ATL 2016-02-18 05:50:00            99.0               74.0            -25.0        -0.252441       0.0       0.0\n",
      "2196474                              5247    BWI  DTW 2014-05-24 17:07:00           107.0               80.0            -27.0        -0.252441       0.0       0.0\n",
      "16650569                             4094    IAH  TUL 2016-11-14 07:35:00           107.0               80.0            -27.0        -0.252441       0.0       0.0\n",
      "\n",
      "[263661 rows x 10 columns]\n",
      "\n"
     ]
    }
   ],
   "source": [
    "pd.set_option('display.width', 200)\n",
    "# Printing the TOP-10 fasterst flights\n",
    "print(flights[relative_diff_low_outliers][rout_info + ['ActualElapsedTime', \n",
    "                        'ElapsedTimeDiff',\n",
    "                        'RelElapTimeDiff', \n",
    "                        'diff_CRS', 'diff_Act']]\n",
    "      .sort_values('RelElapTimeDiff', ascending=True))\n",
    "print()\n",
    "pd.reset_option('display.width')"
   ]
  },
  {
   "cell_type": "code",
   "execution_count": 29,
   "metadata": {},
   "outputs": [
    {
     "data": {
      "image/png": "[encoded data removed]",
      "text/plain": [
       "<Figure size 621.486x500 with 1 Axes>"
      ]
     },
     "metadata": {},
     "output_type": "display_data"
    }
   ],
   "source": [
    "line_x = [0, 700]\n",
    "line_y = [0, 700]\n",
    "flights_sample = flights.sample(n=1000000)\n",
    "sns.relplot(data=flights_sample,\n",
    "            x='CRSElapsedTime', \n",
    "            y='ActualElapsedTime',\n",
    "            hue='RelElapTimeDiff',\n",
    "            kind='scatter')\n",
    "plt.xlabel('Scheduled elapsed time (min)')\n",
    "plt.ylabel('Actual elapsed time (min)')\n",
    "plt.plot(line_x, line_y, color ='r')\n",
    "plt.show()"
   ]
  },
  {
   "cell_type": "code",
   "execution_count": 40,
   "metadata": {},
   "outputs": [
    {
     "name": "stdout",
     "output_type": "stream",
     "text": [
      "<class 'pandas.core.frame.DataFrame'>\n",
      "Index: 30144604 entries, 0 to 30144614\n",
      "Data columns (total 38 columns):\n",
      " #   Column                           Dtype                  \n",
      "---  ------                           -----                  \n",
      " 0   Reporting_Airline                category               \n",
      " 1   Flight_Number_Reporting_Airline  int16                  \n",
      " 2   Origin                           category               \n",
      " 3   Dest                             category               \n",
      " 4   DepDelay                         float16                \n",
      " 5   DepartureDelayGroups             category               \n",
      " 6   DepTimeBlk                       category               \n",
      " 7   ArrDelay                         float16                \n",
      " 8   ArrivalDelayGroups               category               \n",
      " 9   ArrTimeBlk                       category               \n",
      " 10  Cancelled                        bool                   \n",
      " 11  CancellationCode                 category               \n",
      " 12  Diverted                         bool                   \n",
      " 13  CRSElapsedTime                   float16                \n",
      " 14  ActualElapsedTime                float16                \n",
      " 15  AirTime                          float16                \n",
      " 16  CarrierDelay                     float16                \n",
      " 17  WeatherDelay                     float16                \n",
      " 18  NASDelay                         float16                \n",
      " 19  SecurityDelay                    float16                \n",
      " 20  LateAircraftDelay                float16                \n",
      " 21  DivReachedDest                   bool                   \n",
      " 22  DivActualElapsedTime             float16                \n",
      " 23  DivArrDelay                      float16                \n",
      " 24  CRSDepDT                         datetime64[ns]         \n",
      " 25  CRSArrDT                         datetime64[ns]         \n",
      " 26  DepDT                            datetime64[ns]         \n",
      " 27  ArrDT                            datetime64[ns]         \n",
      " 28  CRSDep_UTC                       datetime64[ns, tzutc()]\n",
      " 29  CRSArr_UTC                       datetime64[ns, tzutc()]\n",
      " 30  ActDep_UTC                       datetime64[ns, tzutc()]\n",
      " 31  ActArr_UTC                       datetime64[ns, tzutc()]\n",
      " 32  UTCElapsedTime_CRS               float16                \n",
      " 33  UTCElapsedTime_Act               float16                \n",
      " 34  diff_CRS                         float16                \n",
      " 35  diff_Act                         float16                \n",
      " 36  ElapsedTimeDiff                  float16                \n",
      " 37  RelElapTimeDiff                  float64                \n",
      "dtypes: bool(3), category(8), datetime64[ns, tzutc()](4), datetime64[ns](4), float16(17), float64(1), int16(1)\n",
      "memory usage: 3.6 GB\n"
     ]
    }
   ],
   "source": [
    "flights.info()"
   ]
  },
  {
   "cell_type": "code",
   "execution_count": 45,
   "metadata": {},
   "outputs": [
    {
     "name": "stdout",
     "output_type": "stream",
     "text": [
      "          Flight_Number_Reporting_Airline Origin Dest            CRSDepDT  CRSElapsedTime            CRSArrDT                CRSDep_UTC                CRSArr_UTC               DepDT               ArrDT                ActDep_UTC                ActArr_UTC  ActualElapsedTime  Diverted  Cancelled  RelElapTimeDiff  diff_CRS  diff_Act\n",
      "26995609                             5879    LGA  IAH 2018-07-12 06:10:00            24.0 2018-07-12 08:54:00 2018-07-12 10:10:00+00:00 2018-07-12 13:54:00+00:00 2018-07-12 08:14:00 2018-07-12 11:02:00 2018-07-12 12:14:00+00:00 2018-07-12 16:02:00+00:00              228.0     False      False         8.500000     200.0       0.0\n",
      "17604178                             2615    JAX  FLL 2017-01-06 11:47:00            77.0 2017-01-06 13:04:00 2017-01-06 16:47:00+00:00 2017-01-06 18:04:00+00:00 2017-01-06 12:57:00 2017-01-06 20:30:00 2017-01-06 17:57:00+00:00 2017-01-07 01:30:00+00:00              453.0     False      False         4.882812       0.0       0.0\n",
      "22534193                             2066    AVL  ATL 2017-12-17 11:58:00            64.0 2017-12-17 13:02:00 2017-12-17 16:58:00+00:00 2017-12-17 18:02:00+00:00 2017-12-17 11:55:00 2017-12-17 18:05:00 2017-12-17 16:55:00+00:00 2017-12-17 23:05:00+00:00              370.0     False      False         4.781250       0.0       0.0\n",
      "13649647                             1492    AUS  IAH 2016-05-27 15:01:00            59.0 2016-05-27 16:00:00 2016-05-27 20:01:00+00:00 2016-05-27 21:00:00+00:00 2016-05-27 19:53:00 2016-05-28 01:11:00 2016-05-28 00:53:00+00:00 2016-05-28 06:11:00+00:00              318.0     False      False         4.390625       0.0       0.0\n",
      "16646892                             3998    ORD  FSD 2016-11-27 00:05:00           110.0 2016-11-27 01:55:00 2016-11-27 06:05:00+00:00 2016-11-27 07:55:00+00:00 2016-11-26 23:57:00 2016-11-27 09:31:00 2016-11-27 05:57:00+00:00 2016-11-27 15:31:00+00:00              574.0     False      False         4.218750       0.0       0.0\n",
      "...                                   ...    ...  ...                 ...             ...                 ...                       ...                       ...                 ...                 ...                       ...                       ...                ...       ...        ...              ...       ...       ...\n",
      "17395428                             2178    DFW  AMA 2017-01-15 18:55:00            75.0 2017-01-15 20:10:00 2017-01-16 00:55:00+00:00 2017-01-16 02:10:00+00:00 2017-01-15 19:59:00 2017-01-15 23:45:00 2017-01-16 01:59:00+00:00 2017-01-16 05:45:00+00:00              226.0     False      False         2.013672       0.0       0.0\n",
      "13221943                             2593    STL  ORD 2016-04-25 19:00:00            81.0 2016-04-25 20:21:00 2016-04-26 00:00:00+00:00 2016-04-26 01:21:00+00:00 2016-04-25 18:49:00 2016-04-25 22:53:00 2016-04-25 23:49:00+00:00 2016-04-26 03:53:00+00:00              244.0     False      False         2.011719       0.0       0.0\n",
      "22589829                             3556    MOB  ATL 2017-12-17 11:25:00            88.0 2017-12-17 13:53:00 2017-12-17 17:25:00+00:00 2017-12-17 18:53:00+00:00 2017-12-17 11:10:00 2017-12-17 16:35:00 2017-12-17 17:10:00+00:00 2017-12-17 21:35:00+00:00              265.0     False      False         2.011719       0.0       0.0\n",
      "3905125                              2965    SGF  DFW 2014-08-17 06:30:00            80.0 2014-08-17 07:50:00 2014-08-17 11:30:00+00:00 2014-08-17 12:50:00+00:00 2014-08-17 06:22:00 2014-08-17 10:23:00 2014-08-17 11:22:00+00:00 2014-08-17 15:23:00+00:00              241.0     False      False         2.011719       0.0       0.0\n",
      "6621037                               975    DFW  MSY 2015-02-27 12:45:00            81.0 2015-02-27 14:06:00 2015-02-27 18:45:00+00:00 2015-02-27 20:06:00+00:00 2015-02-27 13:01:00 2015-02-27 17:05:00 2015-02-27 19:01:00+00:00 2015-02-27 23:05:00+00:00              244.0     False      False         2.011719       0.0       0.0\n",
      "\n",
      "[590 rows x 18 columns]\n"
     ]
    }
   ],
   "source": [
    "pd.set_option('display.width', 400)\n",
    "print(flights[flights['RelElapTimeDiff'] > 2][rout_info + ['CRSArrDT', 'CRSDep_UTC', 'CRSArr_UTC', 'DepDT', 'ArrDT', 'ActDep_UTC', 'ActArr_UTC',\n",
    "                                                           'ActualElapsedTime', 'Diverted', 'Cancelled', 'RelElapTimeDiff', 'diff_CRS', 'diff_Act']].sort_values('RelElapTimeDiff', ascending = False))\n",
    "pd.reset_option('display.width')"
   ]
  },
  {
   "cell_type": "code",
   "execution_count": 26,
   "metadata": {},
   "outputs": [
    {
     "name": "stdout",
     "output_type": "stream",
     "text": [
      "Cancelled  Diverted\n",
      "False      False       263661\n",
      "Name: Flight_Number_Reporting_Airline, dtype: int64\n"
     ]
    }
   ],
   "source": [
    "print(flights[relative_diff_low_outliers].groupby(['Cancelled', 'Diverted'])['Flight_Number_Reporting_Airline'].agg('count'))"
   ]
  },
  {
   "cell_type": "code",
   "execution_count": 27,
   "metadata": {},
   "outputs": [
    {
     "name": "stdout",
     "output_type": "stream",
     "text": [
      "263661\n",
      "0\n",
      "0\n"
     ]
    }
   ],
   "source": [
    "print(len(flights[relative_diff_low_outliers]))\n",
    "print(flights[relative_diff_low_outliers]['Cancelled'].sum())\n",
    "print(flights[relative_diff_low_outliers]['Diverted'].sum())"
   ]
  },
  {
   "cell_type": "code",
   "execution_count": 28,
   "metadata": {},
   "outputs": [
    {
     "name": "stdout",
     "output_type": "stream",
     "text": [
      "Cancelled  Diverted\n",
      "False      False       1125445\n",
      "Name: Flight_Number_Reporting_Airline, dtype: int64\n"
     ]
    }
   ],
   "source": [
    "print(flights[relative_diff_higher_outliers].groupby(['Cancelled', 'Diverted'])['Flight_Number_Reporting_Airline'].agg('count'))"
   ]
  },
  {
   "cell_type": "code",
   "execution_count": 29,
   "metadata": {},
   "outputs": [
    {
     "name": "stdout",
     "output_type": "stream",
     "text": [
      "1125445\n",
      "0\n",
      "0\n"
     ]
    }
   ],
   "source": [
    "print(len(flights[relative_diff_higher_outliers]))\n",
    "print(flights[relative_diff_higher_outliers]['Cancelled'].sum())\n",
    "print(flights[relative_diff_higher_outliers]['Diverted'].sum())"
   ]
  },
  {
   "cell_type": "code",
   "execution_count": 30,
   "metadata": {},
   "outputs": [
    {
     "name": "stdout",
     "output_type": "stream",
     "text": [
      "<class 'pandas.core.frame.DataFrame'>\n",
      "Index: 30144604 entries, 0 to 30144614\n",
      "Data columns (total 38 columns):\n",
      " #   Column                           Dtype                  \n",
      "---  ------                           -----                  \n",
      " 0   Reporting_Airline                category               \n",
      " 1   Flight_Number_Reporting_Airline  int16                  \n",
      " 2   Origin                           category               \n",
      " 3   Dest                             category               \n",
      " 4   DepDelay                         float16                \n",
      " 5   DepartureDelayGroups             category               \n",
      " 6   DepTimeBlk                       category               \n",
      " 7   ArrDelay                         float16                \n",
      " 8   ArrivalDelayGroups               category               \n",
      " 9   ArrTimeBlk                       category               \n",
      " 10  Cancelled                        bool                   \n",
      " 11  CancellationCode                 category               \n",
      " 12  Diverted                         bool                   \n",
      " 13  CRSElapsedTime                   float16                \n",
      " 14  ActualElapsedTime                float16                \n",
      " 15  AirTime                          float16                \n",
      " 16  CarrierDelay                     float16                \n",
      " 17  WeatherDelay                     float16                \n",
      " 18  NASDelay                         float16                \n",
      " 19  SecurityDelay                    float16                \n",
      " 20  LateAircraftDelay                float16                \n",
      " 21  DivReachedDest                   bool                   \n",
      " 22  DivActualElapsedTime             float16                \n",
      " 23  DivArrDelay                      float16                \n",
      " 24  CRSDepDT                         datetime64[ns]         \n",
      " 25  CRSArrDT                         datetime64[ns]         \n",
      " 26  DepDT                            datetime64[ns]         \n",
      " 27  ArrDT                            datetime64[ns]         \n",
      " 28  CRSDep_UTC                       datetime64[ns, tzutc()]\n",
      " 29  CRSArr_UTC                       datetime64[ns, tzutc()]\n",
      " 30  ActDep_UTC                       datetime64[ns, tzutc()]\n",
      " 31  ActArr_UTC                       datetime64[ns, tzutc()]\n",
      " 32  UTCElapsedTime_CRS               float16                \n",
      " 33  UTCElapsedTime_Act               float16                \n",
      " 34  diff_CRS                         float16                \n",
      " 35  diff_Act                         float16                \n",
      " 36  ElapsedTimeDiff                  float16                \n",
      " 37  RelElapTimeDiff                  float64                \n",
      "dtypes: bool(3), category(8), datetime64[ns, tzutc()](4), datetime64[ns](4), float16(17), float64(1), int16(1)\n",
      "memory usage: 3.6 GB\n"
     ]
    }
   ],
   "source": [
    "flights.info()"
   ]
  },
  {
   "cell_type": "code",
   "execution_count": 31,
   "metadata": {},
   "outputs": [
    {
     "data": {
      "text/html": [
       "<div>\n",
       "<style scoped>\n",
       "    .dataframe tbody tr th:only-of-type {\n",
       "        vertical-align: middle;\n",
       "    }\n",
       "\n",
       "    .dataframe tbody tr th {\n",
       "        vertical-align: top;\n",
       "    }\n",
       "\n",
       "    .dataframe thead th {\n",
       "        text-align: right;\n",
       "    }\n",
       "</style>\n",
       "<table border=\"1\" class=\"dataframe\">\n",
       "  <thead>\n",
       "    <tr style=\"text-align: right;\">\n",
       "      <th></th>\n",
       "      <th>ArrDT</th>\n",
       "      <th>ArrDelay</th>\n",
       "      <th>DivArrDelay</th>\n",
       "    </tr>\n",
       "  </thead>\n",
       "  <tbody>\n",
       "    <tr>\n",
       "      <th>2937</th>\n",
       "      <td>2014-01-27 20:53:00</td>\n",
       "      <td>NaN</td>\n",
       "      <td>115.0</td>\n",
       "    </tr>\n",
       "    <tr>\n",
       "      <th>3147</th>\n",
       "      <td>2014-01-27 20:46:00</td>\n",
       "      <td>NaN</td>\n",
       "      <td>626.0</td>\n",
       "    </tr>\n",
       "    <tr>\n",
       "      <th>3492</th>\n",
       "      <td>2014-01-25 19:31:00</td>\n",
       "      <td>NaN</td>\n",
       "      <td>227.0</td>\n",
       "    </tr>\n",
       "    <tr>\n",
       "      <th>5187</th>\n",
       "      <td>2014-01-28 01:59:00</td>\n",
       "      <td>NaN</td>\n",
       "      <td>338.0</td>\n",
       "    </tr>\n",
       "    <tr>\n",
       "      <th>6040</th>\n",
       "      <td>2014-01-28 20:33:00</td>\n",
       "      <td>NaN</td>\n",
       "      <td>193.0</td>\n",
       "    </tr>\n",
       "    <tr>\n",
       "      <th>6885</th>\n",
       "      <td>2014-01-28 02:04:00</td>\n",
       "      <td>NaN</td>\n",
       "      <td>135.0</td>\n",
       "    </tr>\n",
       "    <tr>\n",
       "      <th>7758</th>\n",
       "      <td>2014-01-29 22:25:00</td>\n",
       "      <td>NaN</td>\n",
       "      <td>137.0</td>\n",
       "    </tr>\n",
       "    <tr>\n",
       "      <th>9181</th>\n",
       "      <td>2014-01-30 15:30:00</td>\n",
       "      <td>NaN</td>\n",
       "      <td>280.0</td>\n",
       "    </tr>\n",
       "    <tr>\n",
       "      <th>11361</th>\n",
       "      <td>2014-01-31 04:52:00</td>\n",
       "      <td>NaN</td>\n",
       "      <td>467.0</td>\n",
       "    </tr>\n",
       "    <tr>\n",
       "      <th>11876</th>\n",
       "      <td>2014-01-30 23:28:00</td>\n",
       "      <td>NaN</td>\n",
       "      <td>345.0</td>\n",
       "    </tr>\n",
       "  </tbody>\n",
       "</table>\n",
       "</div>"
      ],
      "text/plain": [
       "                    ArrDT  ArrDelay  DivArrDelay\n",
       "2937  2014-01-27 20:53:00       NaN        115.0\n",
       "3147  2014-01-27 20:46:00       NaN        626.0\n",
       "3492  2014-01-25 19:31:00       NaN        227.0\n",
       "5187  2014-01-28 01:59:00       NaN        338.0\n",
       "6040  2014-01-28 20:33:00       NaN        193.0\n",
       "6885  2014-01-28 02:04:00       NaN        135.0\n",
       "7758  2014-01-29 22:25:00       NaN        137.0\n",
       "9181  2014-01-30 15:30:00       NaN        280.0\n",
       "11361 2014-01-31 04:52:00       NaN        467.0\n",
       "11876 2014-01-30 23:28:00       NaN        345.0"
      ]
     },
     "execution_count": 31,
     "metadata": {},
     "output_type": "execute_result"
    }
   ],
   "source": [
    "flights[flights['DivReachedDest']][['ArrDT', 'ArrDelay', 'DivArrDelay']].head(10)"
   ]
  },
  {
   "cell_type": "code",
   "execution_count": 32,
   "metadata": {},
   "outputs": [
    {
     "data": {
      "text/html": [
       "<div>\n",
       "<style scoped>\n",
       "    .dataframe tbody tr th:only-of-type {\n",
       "        vertical-align: middle;\n",
       "    }\n",
       "\n",
       "    .dataframe tbody tr th {\n",
       "        vertical-align: top;\n",
       "    }\n",
       "\n",
       "    .dataframe thead th {\n",
       "        text-align: right;\n",
       "    }\n",
       "</style>\n",
       "<table border=\"1\" class=\"dataframe\">\n",
       "  <thead>\n",
       "    <tr style=\"text-align: right;\">\n",
       "      <th></th>\n",
       "      <th>ArrDT</th>\n",
       "      <th>ArrDelay</th>\n",
       "      <th>DivArrDelay</th>\n",
       "    </tr>\n",
       "  </thead>\n",
       "  <tbody>\n",
       "  </tbody>\n",
       "</table>\n",
       "</div>"
      ],
      "text/plain": [
       "Empty DataFrame\n",
       "Columns: [ArrDT, ArrDelay, DivArrDelay]\n",
       "Index: []"
      ]
     },
     "execution_count": 32,
     "metadata": {},
     "output_type": "execute_result"
    }
   ],
   "source": [
    "flights[flights['DivReachedDest'] & ~flights['ArrDelay'].isna()][['ArrDT', 'ArrDelay', 'DivArrDelay']].head(10)"
   ]
  },
  {
   "cell_type": "code",
   "execution_count": 33,
   "metadata": {},
   "outputs": [],
   "source": [
    "del(flights)"
   ]
  },
  {
   "cell_type": "code",
   "execution_count": 34,
   "metadata": {},
   "outputs": [],
   "source": [
    "del(relative_diff_higher_outliers, relative_diff_low_outliers, outliers)"
   ]
  },
  {
   "cell_type": "code",
   "execution_count": null,
   "metadata": {},
   "outputs": [],
   "source": []
  }
 ],
 "metadata": {
  "kernelspec": {
   "display_name": "base",
   "language": "python",
   "name": "python3"
  },
  "language_info": {
   "codemirror_mode": {
    "name": "ipython",
    "version": 3
   },
   "file_extension": ".py",
   "mimetype": "text/x-python",
   "name": "python",
   "nbconvert_exporter": "python",
   "pygments_lexer": "ipython3",
   "version": "3.12.4"
  }
 },
 "nbformat": 4,
 "nbformat_minor": 2
}
