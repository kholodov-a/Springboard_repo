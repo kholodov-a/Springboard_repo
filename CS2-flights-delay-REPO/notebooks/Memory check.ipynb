{
 "cells": [
  {
   "cell_type": "code",
   "execution_count": 2,
   "metadata": {},
   "outputs": [],
   "source": [
    "import pandas as pd\n",
    "import pickle\n",
    "\n",
    "flights = pd.DataFrame()\n",
    "input_file_name = 'data/processed/processed_' + str(2014) + '_' + str(1) + '.pickle'"
   ]
  },
  {
   "cell_type": "code",
   "execution_count": 4,
   "metadata": {},
   "outputs": [],
   "source": [
    "def memory_usage_per_type(data_frame):\n",
    "    '''\n",
    "    Source: https://medium.com/@alielagrebi/optimize-the-pandas-dataframe-memory-consuming-for-low-environment-24aa74cf9413\n",
    "    '''\n",
    "    types = ['number', 'object', 'datetimetz', 'category', 'bool']\n",
    "    for tp in types:\n",
    "        selected_col = data_frame.select_dtypes(include=[tp])\n",
    "        memory_usage_per_type_b = selected_col.memory_usage(deep=True).sum()\n",
    "        memory_usage_per_type_mb = memory_usage_per_type_b / 1024**2\n",
    "        print('memory usage for {} columns: {:03.3f} MB'.format(tp, memory_usage_per_type_mb))\n",
    "    \n",
    "\n",
    "def memory_usage(data_frame):\n",
    "    return data_frame.memory_usage(deep=True).sum() / 1024**2"
   ]
  },
  {
   "cell_type": "code",
   "execution_count": 3,
   "metadata": {},
   "outputs": [
    {
     "name": "stdout",
     "output_type": "stream",
     "text": [
      "data/processed/processed_2014_1.pickle\n",
      "<class 'pandas.core.frame.DataFrame'>\n",
      "RangeIndex: 471949 entries, 0 to 471948\n",
      "Data columns (total 38 columns):\n",
      " #   Column                           Non-Null Count   Dtype                  \n",
      "---  ------                           --------------   -----                  \n",
      " 0   Reporting_Airline                471949 non-null  category               \n",
      " 1   Flight_Number_Reporting_Airline  471949 non-null  int16                  \n",
      " 2   OriginAirportID                  471949 non-null  category               \n",
      " 3   Origin                           471949 non-null  category               \n",
      " 4   DestAirportID                    471949 non-null  category               \n",
      " 5   Dest                             471949 non-null  category               \n",
      " 6   DepDelay                         441622 non-null  float16                \n",
      " 7   DepartureDelayGroups             441622 non-null  category               \n",
      " 8   DepTimeBlk                       471949 non-null  category               \n",
      " 9   ArrDelay                         439620 non-null  float16                \n",
      " 10  ArrivalDelayGroups               439620 non-null  category               \n",
      " 11  ArrTimeBlk                       471949 non-null  category               \n",
      " 12  Cancelled                        471949 non-null  bool                   \n",
      " 13  CancellationCode                 30852 non-null   category               \n",
      " 14  Diverted                         471949 non-null  bool                   \n",
      " 15  CRSElapsedTime                   471949 non-null  float16                \n",
      " 16  ActualElapsedTime                439620 non-null  float16                \n",
      " 17  AirTime                          439620 non-null  float16                \n",
      " 18  CarrierDelay                     119994 non-null  float16                \n",
      " 19  WeatherDelay                     119994 non-null  float16                \n",
      " 20  NASDelay                         119994 non-null  float16                \n",
      " 21  SecurityDelay                    119994 non-null  float16                \n",
      " 22  LateAircraftDelay                119994 non-null  float16                \n",
      " 23  DivReachedDest                   471949 non-null  bool                   \n",
      " 24  DivActualElapsedTime             833 non-null     float16                \n",
      " 25  DivArrDelay                      833 non-null     float16                \n",
      " 26  CRSDepDT                         471949 non-null  datetime64[ns]         \n",
      " 27  CRSArrDT                         471949 non-null  datetime64[ns]         \n",
      " 28  DepDT                            441622 non-null  datetime64[ns]         \n",
      " 29  ArrDT                            440453 non-null  datetime64[ns]         \n",
      " 30  CRSDep_UTC                       471949 non-null  datetime64[ns, tzutc()]\n",
      " 31  CRSArr_UTC                       471949 non-null  datetime64[ns, tzutc()]\n",
      " 32  Dep_UTC                          441622 non-null  datetime64[ns, tzutc()]\n",
      " 33  Arr_UTC                          440453 non-null  datetime64[ns, tzutc()]\n",
      " 34  UTCElapsedTime_CRS               471949 non-null  float16                \n",
      " 35  UTCElapsedTime_Act               440453 non-null  float16                \n",
      " 36  diff_CRS                         471949 non-null  float16                \n",
      " 37  diff_Act                         439620 non-null  float16                \n",
      "dtypes: bool(3), category(10), datetime64[ns, tzutc()](4), datetime64[ns](4), float16(16), int16(1)\n",
      "memory usage: 51.8 MB\n"
     ]
    }
   ],
   "source": [
    "print(input_file_name)\n",
    "with open(input_file_name, 'rb') as in_file:\n",
    "    flights = pickle.load(in_file)\n",
    "flights.info()"
   ]
  },
  {
   "cell_type": "code",
   "execution_count": 5,
   "metadata": {},
   "outputs": [
    {
     "name": "stdout",
     "output_type": "stream",
     "text": [
      "memory usage for number columns: 15.303 MB\n",
      "memory usage for object columns: 0.000 MB\n",
      "memory usage for datetimetz columns: 14.403 MB\n",
      "memory usage for category columns: 6.367 MB\n",
      "memory usage for bool columns: 1.350 MB\n",
      "\n",
      "Memory usage by dataframe 51.83 MB\n"
     ]
    }
   ],
   "source": [
    "memory_usage_per_type(flights)\n",
    "print('\\nMemory usage by dataframe {:.2f} MB'.format(memory_usage(flights)) )"
   ]
  },
  {
   "cell_type": "code",
   "execution_count": null,
   "metadata": {},
   "outputs": [],
   "source": []
  }
 ],
 "metadata": {
  "kernelspec": {
   "display_name": "base",
   "language": "python",
   "name": "python3"
  },
  "language_info": {
   "codemirror_mode": {
    "name": "ipython",
    "version": 3
   },
   "file_extension": ".py",
   "mimetype": "text/x-python",
   "name": "python",
   "nbconvert_exporter": "python",
   "pygments_lexer": "ipython3",
   "version": "3.12.4"
  }
 },
 "nbformat": 4,
 "nbformat_minor": 2
}
