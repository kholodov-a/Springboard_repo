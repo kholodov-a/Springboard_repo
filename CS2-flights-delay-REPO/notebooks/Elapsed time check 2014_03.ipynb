{
 "cells": [
  {
   "cell_type": "code",
   "execution_count": 2,
   "metadata": {},
   "outputs": [],
   "source": [
    "import zipfile\n",
    "import pandas as pd\n",
    "import os\n",
    "import matplotlib.pyplot as plt\n",
    "import numpy as np\n",
    "import datetime\n",
    "from dateutil import tz\n",
    "os.chdir('/Users/a.kholodov/Documents/02. Personal/20. Education/50. Universities/Springboard/Springboard_git/Springboard _repo/CS2-flights-delay-REPO')\n",
    "\n",
    "# pd.set_option('display.max_rows', 130)\n",
    "# pd.set_option('display.width', 200)\n",
    "\n",
    "# Loading timezones for IATA codes of airports\n",
    "IATAtz_df = pd.read_csv('https://raw.githubusercontent.com/hroptatyr/dateutils/tzmaps/iata.tzmap', \n",
    "                        sep = '\\t', \n",
    "                        index_col=0, \n",
    "                        header=None)\n",
    "\n",
    "# Dictionary with IATA codes as keys and timezones as values\n",
    "IATAtz = IATAtz_df.to_dict('dict')[1]\n",
    "del(IATAtz_df)"
   ]
  },
  {
   "cell_type": "code",
   "execution_count": 3,
   "metadata": {},
   "outputs": [],
   "source": [
    "data_types = {\n",
    "    'FlightDate':           'str',\n",
    "    'Flight_Number_Reporting_Airline':  np.int16,\n",
    "    'Origin':               'category',\n",
    "    'Dest':                 'category',\n",
    "    'CRSDepTime':           np.int16,\n",
    "    'DepTime':              np.float32,\n",
    "    'DepDelay':             np.float32,\n",
    "    'CRSArrTime':           np.int16,\n",
    "    'ArrTime':              np.float32,\n",
    "    'ArrDelay':             np.float32,\n",
    "    'Cancelled':            np.int8,        # boolean\n",
    "    'Diverted':             np.int8,        # boolean\n",
    "    'CRSElapsedTime':       np.float32,\n",
    "    'ActualElapsedTime':    np.float32,\n",
    "    'AirTime':              np.float32}"
   ]
  },
  {
   "cell_type": "code",
   "execution_count": 4,
   "metadata": {},
   "outputs": [],
   "source": [
    "def load_data_from(zip_file, data_file, field_type=None):\n",
    "    '''\n",
    "    zip_file - path and name of source zip-file contaning 60 csv files\n",
    "    dat_faile - path and name of csv-file with data\n",
    "    field_type - dictinary with fields to load and thiers relative data types\n",
    "    '''\n",
    "    # reading the file\n",
    "    with zipfile.ZipFile(zip_file) as zip_source:\n",
    "        with zip_source.open(data_file) as file:\n",
    "            if field_type != None:\n",
    "                df = pd.read_csv(file, header = 0, \n",
    "                                usecols = field_type.keys(),\n",
    "                                dtype = field_type)\n",
    "            else:\n",
    "                df = pd.read_csv(file, header = 0, low_memory=False)\n",
    "\n",
    "    # Converting dates and boolean        \n",
    "    if 'FlightDate' in df.columns:\n",
    "        df['FlightDate'] = pd.to_datetime(df['FlightDate'])\n",
    "    if 'DivReachedDest' in df.columns:\n",
    "        df['DivReachedDest'] = df['DivReachedDest'].fillna(0)\n",
    "    if 'Cancelled' in df.columns:\n",
    "        df['Cancelled'] = df['Cancelled'].astype('bool')\n",
    "    if 'Diverted' in df.columns:\n",
    "        df['Diverted'] = df['Diverted'].astype('bool')\n",
    "    if 'DivReachedDest' in df.columns:\n",
    "        df['DivReachedDest'] = df['DivReachedDest'].astype('bool')\n",
    "    return df"
   ]
  },
  {
   "cell_type": "code",
   "execution_count": 5,
   "metadata": {},
   "outputs": [],
   "source": [
    "# The most important combinations of fields for analysis\n",
    "Date_details = ['FlightDate']\n",
    "DepTime_details = ['CRSDepTime', 'DepTime']\n",
    "ArrTime_details = ['CRSArrTime', 'ArrTime']\n",
    "DepTime_min_details = ['CRSDepTime_min', 'DepTime_min']\n",
    "ArrTime_min_details = ['CRSArrTime_min', 'ArrTime_min']\n",
    "ElapsedTime_details = ['CRSElapsedTime', 'ActualElapsedTime']\n",
    "CRS_details = ['CRSDepTime', 'CRSArrTime', 'CRSElapsedTime']\n",
    "CRS_min_details = ['CRSDepTime_min', 'CRSArrTime_min', 'CRSElapsedTime']\n",
    "Route_datails = ['Origin', 'Dest']"
   ]
  },
  {
   "cell_type": "code",
   "execution_count": 6,
   "metadata": {},
   "outputs": [],
   "source": [
    "# Loading some dataset just for tests\n",
    "source_zip = 'data/interim/csv_flight.zip'\n",
    "source_path = 'csv_flight/report_'\n",
    "\n",
    "flights = load_data_from(source_zip, source_path + '2014_3.csv', data_types)"
   ]
  },
  {
   "cell_type": "code",
   "execution_count": null,
   "metadata": {},
   "outputs": [],
   "source": [
    "flights.info()"
   ]
  },
  {
   "cell_type": "code",
   "execution_count": 8,
   "metadata": {},
   "outputs": [],
   "source": [
    "# Fuilter for all flights from SEA to JFK airport and back\n",
    "SEA_JFK = (flights['Origin'] == 'SEA') & (flights['Dest'] == 'JFK')\n",
    "JFK_SEA = (flights['Origin'] == 'JFK') & (flights['Dest'] == 'SEA')"
   ]
  },
  {
   "cell_type": "code",
   "execution_count": null,
   "metadata": {},
   "outputs": [],
   "source": [
    "print(flights[SEA_JFK][Date_details + CRS_details].head(10))\n",
    "\n",
    "del(SEA_JFK)"
   ]
  },
  {
   "cell_type": "code",
   "execution_count": null,
   "metadata": {},
   "outputs": [],
   "source": [
    "print(flights[JFK_SEA][Date_details + CRS_details].head(10))\n",
    "\n",
    "del(JFK_SEA)"
   ]
  },
  {
   "cell_type": "code",
   "execution_count": null,
   "metadata": {},
   "outputs": [],
   "source": [
    "# Filter for flights when CRS Arrival time is less of equal than CRS Departure time\n",
    "CRSArrTime_less_than_CRSDepTime = flights['CRSArrTime'] <= flights['CRSDepTime']\n",
    "\n",
    "# Filter for flights lasting less than 60 minutes (CRS)\n",
    "less_than_60_min = flights['CRSElapsedTime'] < 60\n",
    "\n",
    "# Flights where CRS Arrival time less than CRS Departure time AND a flight was less than 60 min\n",
    "# To evaluate is it possible to 'travel in time' - to arrive the same day earlier \n",
    "print(flights[CRSArrTime_less_than_CRSDepTime & less_than_60_min][Date_details + CRS_details] \\\n",
    "    .sort_values('CRSElapsedTime').head())\n",
    "\n",
    "del(CRSArrTime_less_than_CRSDepTime)"
   ]
  },
  {
   "cell_type": "markdown",
   "metadata": {},
   "source": [
    "### Examining the CRS Elapsed time"
   ]
  },
  {
   "cell_type": "code",
   "execution_count": 12,
   "metadata": {},
   "outputs": [],
   "source": [
    "# [TRANSFORMATION]\n",
    "# # Convert Arrival and Departure times (CRS and Actual) to minutes\n",
    "flights['CRSArrTime_min'] = flights['CRSArrTime'] // 100 * 60 + flights['CRSArrTime'] % 100\n",
    "flights['CRSDepTime_min'] = flights['CRSDepTime'] // 100 * 60 + flights['CRSDepTime'] % 100\n",
    "flights['ArrTime_min'] = flights['ArrTime'] // 100 * 60 + flights['ArrTime'] % 100\n",
    "flights['DepTime_min'] = flights['DepTime'] // 100 * 60 + flights['DepTime'] % 100"
   ]
  },
  {
   "cell_type": "code",
   "execution_count": null,
   "metadata": {},
   "outputs": [],
   "source": [
    "# Filter for flights when CRS Arrival time is less of equal than CRS Departure time\n",
    "CRSArr_less_than_CRSDep_min = flights['CRSArrTime_min'] <= flights['CRSDepTime_min']\n",
    "\n",
    "# FOR TIMES EXPRESSED IN MINUTES !!!\n",
    "# Flights where CRS Arrival time less than CRS Departure time AND a flight was less than 60 min\n",
    "# To evaluate is it possible to 'travel in time' - to arrive the same day earlier \n",
    "flights[CRSArr_less_than_CRSDep_min & less_than_60_min][Date_details + CRS_min_details] \\\n",
    "    .sort_values('CRSElapsedTime').head()"
   ]
  },
  {
   "cell_type": "code",
   "execution_count": null,
   "metadata": {},
   "outputs": [],
   "source": [
    "# ... and the END of the table\n",
    "flights[CRSArr_less_than_CRSDep_min & less_than_60_min][Date_details + CRS_min_details] \\\n",
    "    .sort_values('CRSElapsedTime').tail()"
   ]
  },
  {
   "cell_type": "code",
   "execution_count": 15,
   "metadata": {},
   "outputs": [],
   "source": [
    "# [TRANSFORMATION]\n",
    "# Calculation of the difference between departure and arrival time \n",
    "flights['CRS_Arr_minus_Dep'] = flights['CRSArrTime_min'] - flights['CRSDepTime_min'] "
   ]
  },
  {
   "cell_type": "code",
   "execution_count": null,
   "metadata": {},
   "outputs": [],
   "source": [
    "# Examine the difference between CRS Arrival and Departure times\n",
    "bins = np.arange(-1440, 1440, 100)\n",
    "plt.hist(flights['CRS_Arr_minus_Dep'], density=True,  bins = bins)\n",
    "plt.show()"
   ]
  },
  {
   "cell_type": "code",
   "execution_count": null,
   "metadata": {},
   "outputs": [],
   "source": [
    "# Examine MORE CLOSELY the difference between CRS Arrival and Departure times \n",
    "bins = np.arange(-540, 60, 60)\n",
    "plt.hist(flights['CRS_Arr_minus_Dep'], density=True,  bins = bins)\n",
    "plt.xticks(bins)\n",
    "plt.show()"
   ]
  },
  {
   "cell_type": "code",
   "execution_count": null,
   "metadata": {},
   "outputs": [],
   "source": [
    "# Examine the difference between CRS Arrival and Departure times\n",
    "flights['CRS_Arr_minus_Dep'].describe()"
   ]
  },
  {
   "cell_type": "code",
   "execution_count": null,
   "metadata": {},
   "outputs": [],
   "source": [
    "# Are there any values between -900 and -200\n",
    "diff_between_900_200 = (flights['CRS_Arr_minus_Dep'] > -480) & (flights['CRS_Arr_minus_Dep'] < -60)\n",
    "print(flights[diff_between_900_200])\n",
    "\n",
    "del(diff_between_900_200)"
   ]
  },
  {
   "cell_type": "markdown",
   "metadata": {},
   "source": [
    "It is possible to ‘travel in time’ only for a maximum of 60 minutes. All other differences occur when flights take off before midnight and land the next day. I can use a threshold of -60 minutes to adjust the departure date by adding one day in order to calculate the arrival date."
   ]
  },
  {
   "cell_type": "code",
   "execution_count": 20,
   "metadata": {},
   "outputs": [],
   "source": [
    "# [TRANSFORMATION]\n",
    "# Creating two fields:  CRSDepDateNS - CRS Departure date timezone naive (datetime)\n",
    "#                       CRSArrDateNS - CRS Arrival date timezone naive, which is next day if the difference \n",
    "#                                   between CRS Arrival and Departure time more than 60 minutes (datetime) \n",
    "flights['CRSDepDT_tz'] = pd.to_datetime(flights['FlightDate']) + pd.to_timedelta(flights['CRSDepTime_min'], unit='min')\n",
    "\n",
    "# Filter for scheduled flights arriving next or privios day\n",
    "CRS_Arrived_next_day = flights['CRSArrTime_min'] - flights['CRSDepTime_min']  <= -60\n",
    "CRS_Arrived_previous_day = flights['CRSArrTime_min'] - flights['CRSDepTime_min']  >= 1380\n",
    "\n",
    "# For all scheduled flights by default arrival date is eaueal to departure date\n",
    "flights['CRSArrDT_tz'] = flights['FlightDate']\n",
    "\n",
    "# Adding one day to the date if flight arrived next day\n",
    "flights.loc[CRS_Arrived_next_day, 'CRSArrDT_tz'] = flights.loc[CRS_Arrived_next_day, 'CRSArrDT_tz'] \\\n",
    "                                                    + datetime.timedelta(1)\n",
    "# Adding one day to the date if flight arrived day befor departure day\n",
    "flights.loc[CRS_Arrived_previous_day, 'CRSArrDT_tz'] = flights.loc[CRS_Arrived_previous_day, 'CRSArrDT_tz'] \\\n",
    "                                                    + datetime.timedelta(-1)\n",
    "# Finally adding actual arrival time to get actual arrival datetime\n",
    "flights['CRSArrDT_tz'] = flights['CRSArrDT_tz'] + pd.to_timedelta(flights['CRSArrTime_min'], 'm')"
   ]
  },
  {
   "cell_type": "code",
   "execution_count": null,
   "metadata": {},
   "outputs": [],
   "source": [
    "# Check for actual departure and arrival datetimes \n",
    "print('Flights arrived next day after departure\\n', \n",
    "      flights[CRS_Arrived_next_day][['FlightDate', 'CRSDepTime', 'CRSDepDT_tz', 'DepDelay', 'CRSArrDT_tz', 'CRSArrTime']].head())\n",
    "print('Flights arrived the same day as departured\\n',\n",
    "      flights[~CRS_Arrived_next_day][['FlightDate', 'CRSDepTime', 'CRSDepDT_tz', 'DepDelay', 'CRSArrDT_tz', 'CRSArrTime']].head())"
   ]
  },
  {
   "cell_type": "code",
   "execution_count": 22,
   "metadata": {},
   "outputs": [],
   "source": [
    "# [TRANSFORMATION]\n",
    "\n",
    "# Creating two fields:  ActDepDateNS - Actual Departure date timezone naive (datetime)\n",
    "#                       ActArrDateNS - Actual Arrival date timezone naive, which is next day if the difference \n",
    "#                                   between CRS Arrival and Departure time more than 60 minutes (datetime)\n",
    "\n",
    "# Filters for flights having DepTime_min and ArrTime_min \n",
    "# These filters actually for not cancelled flights, but they differ each other because some flights cancelles after departure\n",
    "# So they have departure time but didn't fly \n",
    "DepTime_not_NA = ~flights['DepTime_min'].isna()\n",
    "ArrTime_not_NA = ~flights['ArrTime_min'].isna()\n",
    "\n",
    "# Array with 'day shift' due to flight delay. NOTICE: some flights have -1 day shift because day had a small negative delay \n",
    "# having a scheduled departure time several minutes after midnight\n",
    "day_deltas_due_to_delay = pd.to_timedelta((flights['CRSDepTime_min'] + flights['DepDelay']) // 1440, 'd')\n",
    "\n",
    "# Calculating actual departure datetime\n",
    "flights.loc[DepTime_not_NA, 'ActDepDT_tz'] = flights[DepTime_not_NA]['FlightDate'] \\\n",
    "                                            + day_deltas_due_to_delay[DepTime_not_NA] \\\n",
    "                                            + pd.to_timedelta(flights[DepTime_not_NA]['DepTime_min'], 'm')\n",
    "\n",
    "\n",
    "# Calculating actual arrival datetime\n",
    "\n",
    "# Filter for flights arrived next or previous day\n",
    "Arrived_next_day = flights['ArrTime_min'] - flights['DepTime_min']  <= -60\n",
    "Arrived_previous_day = flights['ArrTime_min'] - flights['DepTime_min']  >= 1380\n",
    "\n",
    "# For all arrived flights at first arrival date is eaueal to departure date\n",
    "flights.loc[ArrTime_not_NA, 'ActArrDT_tz'] = flights[ArrTime_not_NA]['FlightDate'] \\\n",
    "                                            + day_deltas_due_to_delay[ArrTime_not_NA] \n",
    "# Adding one day to the date if flight arrived next day\n",
    "flights.loc[ArrTime_not_NA & Arrived_next_day, 'ActArrDT_tz'] = flights.loc[ArrTime_not_NA & Arrived_next_day, 'ActArrDT_tz'] \\\n",
    "                                                            + datetime.timedelta(1)\n",
    "# Adding one day to the date if flight arrived next day\n",
    "flights.loc[ArrTime_not_NA & Arrived_previous_day, 'ActArrDT_tz'] = flights.loc[ArrTime_not_NA & Arrived_previous_day, 'ActArrDT_tz'] \\\n",
    "                                                            + datetime.timedelta(-1)\n",
    "# Finally adding actual arrival time to get actual arrival datetime\n",
    "flights.loc[ArrTime_not_NA, 'ActArrDT_tz'] = flights.loc[ArrTime_not_NA, 'ActArrDT_tz'] \\\n",
    "                                                            + pd.to_timedelta(flights.loc[ArrTime_not_NA, 'ArrTime_min'], 'm')"
   ]
  },
  {
   "cell_type": "code",
   "execution_count": null,
   "metadata": {},
   "outputs": [],
   "source": [
    "# Check for actual departure and arrival datetimes \n",
    "check_fields = ['FlightDate', 'DepTime', 'ActDepDT_tz', 'DepDelay', 'ActArrDT_tz', 'ArrTime']\n",
    "print('Flights arrived next day after departure\\n', \n",
    "      flights[Arrived_next_day][check_fields].head())\n",
    "print('Flights arrived the same day as departured\\n',\n",
    "      flights[~Arrived_next_day][check_fields].head())"
   ]
  },
  {
   "cell_type": "code",
   "execution_count": 24,
   "metadata": {},
   "outputs": [],
   "source": [
    "# [TRANSFORMATION]\n",
    "# Function to add to the series of datetime a timezone specified by airports IATA codes\n",
    "def add_local_tz(df, dt_field, IATA_code_field):\n",
    "    return [row[dt_field].tz_localize(tz=tz.gettz(IATAtz[row[IATA_code_field]]), nonexistent='shift_forward') \n",
    "            for _, row in df.iterrows()]"
   ]
  },
  {
   "cell_type": "code",
   "execution_count": 25,
   "metadata": {},
   "outputs": [],
   "source": [
    "# [TRANSFORMATION]\n",
    "# Adding local timezones to the Departure and Arrival times \n",
    "flights['CRSDepDT_tz'] = add_local_tz(flights, 'CRSDepDT_tz', 'Origin')\n",
    "flights['CRSArrDT_tz'] = add_local_tz(flights, 'CRSArrDT_tz', 'Dest')\n",
    "flights['ActDepDT_tz'] = add_local_tz(flights, 'ActDepDT_tz', 'Origin')\n",
    "flights['ActArrDT_tz'] = add_local_tz(flights, 'ActArrDT_tz', 'Dest')"
   ]
  },
  {
   "cell_type": "code",
   "execution_count": null,
   "metadata": {},
   "outputs": [],
   "source": [
    "# check CRS fields\n",
    "check_fields_CRS = ['FlightDate', 'CRSDepDT_tz', 'CRSDepTime', 'CRSArrDT_tz', 'CRSArrTime', 'CRSElapsedTime']\n",
    "print(flights[CRSArr_less_than_CRSDep_min][check_fields_CRS].head())\n",
    "print(flights[~CRSArr_less_than_CRSDep_min][check_fields_CRS].head())"
   ]
  },
  {
   "cell_type": "code",
   "execution_count": null,
   "metadata": {},
   "outputs": [],
   "source": [
    "# check ACTUAL fields\n",
    "check_fields_CRS = ['FlightDate', 'ActDepDT_tz', 'DepTime', 'ActArrDT_tz', 'ArrTime', 'ActualElapsedTime']\n",
    "print(flights[Arrived_next_day][check_fields_CRS].head())\n",
    "print(flights[~Arrived_next_day][check_fields_CRS].head())"
   ]
  },
  {
   "cell_type": "code",
   "execution_count": 28,
   "metadata": {},
   "outputs": [],
   "source": [
    "# Function to convert datetime with localizes timezone to UTC timezone\n",
    "def convert_to_UTC(df, dt_field):\n",
    "    return pd.to_datetime([row[dt_field].astimezone(tz.UTC) for _, row in df.iterrows()])"
   ]
  },
  {
   "cell_type": "code",
   "execution_count": 29,
   "metadata": {},
   "outputs": [],
   "source": [
    "# Getting UTC timezone for scheduled (CRS) departure and arrival times\n",
    "flights['CRSDep_UTC'] = convert_to_UTC(flights, 'CRSDepDT_tz')\n",
    "flights['CRSArr_UTC'] = convert_to_UTC(flights, 'CRSArrDT_tz')\n",
    "\n",
    "# We have to filter for non-NA values because astimezone doesn't work wiht NaN/NaT\n",
    "nonNA_Dep = ~flights['ActDepDT_tz'].isna()\n",
    "flights.loc[nonNA_Dep, 'ActDep_UTC'] = convert_to_UTC(flights[nonNA_Dep], 'ActDepDT_tz')\n",
    "\n",
    "# We have to filter for non-NA values because astimezone doesn't work wiht NaN/NaT\n",
    "nonNA_Arr = ~flights['ActArrDT_tz'].isna()\n",
    "flights.loc[nonNA_Arr, 'ActArr_UTC'] = convert_to_UTC(flights[nonNA_Arr], 'ActArrDT_tz')"
   ]
  },
  {
   "cell_type": "code",
   "execution_count": null,
   "metadata": {},
   "outputs": [],
   "source": [
    "# Check CRS\n",
    "fields_to_check_UTC_CRS = ['CRSDepDT_tz', 'CRSDep_UTC', 'CRSArrDT_tz', 'CRSArr_UTC']\n",
    "print(flights[fields_to_check_UTC_CRS].head())\n",
    "\n",
    "# Check ACTUAL\n",
    "fields_to_check_UTC_Act = ['ActDepDT_tz', 'ActDep_UTC', 'ActArrDT_tz', 'ActArr_UTC']\n",
    "print(flights[fields_to_check_UTC_Act].head())"
   ]
  },
  {
   "cell_type": "code",
   "execution_count": 31,
   "metadata": {},
   "outputs": [],
   "source": [
    "# [TRANSFORTATION]\n",
    "# Calculating Elapsed time based on UTC times\n",
    "flights['UTCElapsedTime_CRS'] = (flights['CRSArr_UTC'] - flights['CRSDep_UTC']).dt.total_seconds() / 60\n",
    "\n",
    "flights.loc[nonNA_Arr, 'UTCElapsedTime_Act'] = pd.to_timedelta((flights.loc[nonNA_Arr, 'ActArr_UTC'] - \n",
    "                                                                flights.loc[nonNA_Arr, 'ActDep_UTC'])).dt.total_seconds() / 60\n",
    "\n"
   ]
  },
  {
   "cell_type": "code",
   "execution_count": 32,
   "metadata": {},
   "outputs": [],
   "source": [
    "# [TRANSFORMATINO]\n",
    "# The difference between UTC-based Elapsed time and CRS/ACTUAL Elapsed time\n",
    "flights['diff_CRS'] = flights['UTCElapsedTime_CRS'] - flights['CRSElapsedTime']\n",
    "flights['diff_Act'] = flights['UTCElapsedTime_Act'] - flights['ActualElapsedTime']"
   ]
  },
  {
   "cell_type": "code",
   "execution_count": null,
   "metadata": {},
   "outputs": [],
   "source": [
    "# Examine the flights having difference between UTC-Based and CRS Elapsed times \n",
    "diff_not_zero = flights[flights['diff_CRS'] != 0][fields_to_check_UTC_CRS + ['CRSElapsedTime', 'UTCElapsedTime_CRS']]\n",
    "print('There are', len(diff_not_zero), 'flights where CRS Elapsed time differ from CRS Elapsed time culculated based on UTC')\n",
    "diff_not_zero.head()\n",
    "\n",
    "del(diff_not_zero)"
   ]
  },
  {
   "cell_type": "code",
   "execution_count": null,
   "metadata": {},
   "outputs": [],
   "source": [
    "flights['diff_CRS'].value_counts()"
   ]
  },
  {
   "cell_type": "markdown",
   "metadata": {},
   "source": [
    "There are 76 flights in the datased where we have a difference between UTC and CRS elapsed time.\n"
   ]
  },
  {
   "cell_type": "markdown",
   "metadata": {},
   "source": [
    "Let’s take a detailed look at one of these flights: the first one from the table above, with ID = 86022, which has a -60 minute difference between UTC and CRS elapsed times."
   ]
  },
  {
   "cell_type": "code",
   "execution_count": null,
   "metadata": {},
   "outputs": [],
   "source": [
    "# Let's take a look on the first flight with diffeence\n",
    "flights.iloc[86022]"
   ]
  },
  {
   "cell_type": "markdown",
   "metadata": {},
   "source": [
    "First, we see that this flight took place during the spring 2014 DST, and the difference between UTC and CRS elapsed times is exactly 60 minutes. But which time is correct? Let’s take a look at this flight on other days."
   ]
  },
  {
   "cell_type": "code",
   "execution_count": null,
   "metadata": {},
   "outputs": [],
   "source": [
    "flights[(flights['Flight_Number_Reporting_Airline'] == 103) &\n",
    "         (flights['Origin'] == 'SEA')][['CRSArrDT_tz', 'CRSElapsedTime', 'UTCElapsedTime_CRS', 'diff_CRS']]"
   ]
  },
  {
   "cell_type": "markdown",
   "metadata": {},
   "source": [
    "It seems that the only flight having the difference is the filight landed 9th March 2014 and the UTC-based elapsed time is correct (CRSElapsedTime has the wrong value for DST day). Let's examine other flights having difference of 60 min."
   ]
  },
  {
   "cell_type": "code",
   "execution_count": null,
   "metadata": {},
   "outputs": [],
   "source": [
    "diff_60_min = flights[flights['diff_CRS'] == -60][['CRSDepDT_tz', 'CRSArrDT_tz', 'CRSElapsedTime', 'UTCElapsedTime_CRS', 'diff_CRS']]\n",
    "print(len(diff_60_min), 'records')\n",
    "diff_60_min\n",
    "\n",
    "del(diff_60_min)"
   ]
  },
  {
   "cell_type": "markdown",
   "metadata": {},
   "source": [
    "We can see that all flights with a -60 minute difference between UTC and CRS elapsed times occurred during DST. There are 13 such records in the dataset.\n",
    "\n",
    "We can conclude that the CRS elapsed time is incorrect for all 13 flights that passed through DST.\n",
    "\n",
    "This explains the discrepancy between UTC and CRS elapsed times for 13 out of the 76 flights in the dataset. But what about the remaining flights with a similar difference?"
   ]
  },
  {
   "cell_type": "code",
   "execution_count": null,
   "metadata": {},
   "outputs": [],
   "source": [
    "flights['UTCElapsedTime_CRS'].describe()"
   ]
  },
  {
   "cell_type": "markdown",
   "metadata": {},
   "source": [
    "There is another interesting fact - some flights has also engative UTC elapsed time! How is this possible?"
   ]
  },
  {
   "cell_type": "code",
   "execution_count": null,
   "metadata": {},
   "outputs": [],
   "source": [
    "error_less_0 = flights[flights['UTCElapsedTime_CRS'] < 0]\n",
    "print(len(error_less_0))\n",
    "error_less_0[\n",
    "    ['CRSDepDT_tz', \n",
    "     'Origin', \n",
    "     'CRSArrDT_tz', \n",
    "     'Dest', \n",
    "     'CRSElapsedTime', \n",
    "     'UTCElapsedTime_CRS', \n",
    "     'diff_CRS']]\n"
   ]
  },
  {
   "cell_type": "markdown",
   "metadata": {},
   "source": [
    "There are 31 flights with a negative UTC elapsed time. Previously, we analyzed the differences between UTC and CRS elapsed times and found that 31 flights had a -1440 minute difference. These are the same flights. A difference of 1440 minutes is equivalent to 24 hours.\n",
    "\n",
    "All 31 flights were from HNL to GUM, which is interesting because HNL is in the UTC-10 timezone, while GUM is in the UTC+10 timezone. These two airports are located across the International Date Line (IDL)."
   ]
  },
  {
   "cell_type": "code",
   "execution_count": 40,
   "metadata": {},
   "outputs": [],
   "source": [
    "error_less_0[['CRSDep_UTC', 'CRSDepDT_tz', 'Origin', 'CRSArr_UTC', 'CRSArrDT_tz', 'Dest', 'diff_CRS']].head()\n",
    "\n",
    "del(error_less_0)"
   ]
  },
  {
   "cell_type": "markdown",
   "metadata": {},
   "source": [
    "The easiest way to correct this is to find all flight with UTC Departures less than UTC Arrival and add 24 x 60 minutes to the UTC Elapsed time"
   ]
  },
  {
   "cell_type": "markdown",
   "metadata": {},
   "source": [
    "There ara other flights which have the \"oposite\" difference - they differ on +1440 minutes. "
   ]
  },
  {
   "cell_type": "code",
   "execution_count": null,
   "metadata": {},
   "outputs": [],
   "source": [
    "error_plus_1440 = flights[flights['diff_CRS'] == 1440]\n",
    "print(len(error_plus_1440))\n",
    "error_plus_1440[['CRSDep_UTC', 'CRSDepDT_tz', 'Origin', 'CRSArr_UTC', 'CRSArrDT_tz', 'Dest', 'diff_CRS']]\n",
    "\n",
    "del(error_plus_1440)"
   ]
  },
  {
   "cell_type": "markdown",
   "metadata": {},
   "source": [
    "All these flight are back flights from GUM to HLN across Internation Date Line (IDL). The ramedy is simillar - to subtract 24 x 60 (1440) minutes from UTC elapsed time. \n",
    "\n",
    "There is just one flight with unexamined yet difference. "
   ]
  },
  {
   "cell_type": "code",
   "execution_count": null,
   "metadata": {},
   "outputs": [],
   "source": [
    "error_minus_36 = flights[flights['diff_CRS'] == -36]\n",
    "print(len(error_minus_36), 'records')\n",
    "error_minus_36[['Flight_Number_Reporting_Airline', 'CRSDep_UTC', 'CRSDepDT_tz', 'Origin', 'CRSArr_UTC', \n",
    "               'CRSArrDT_tz', 'Dest', 'CRSElapsedTime', 'UTCElapsedTime_CRS', \n",
    "               'ActualElapsedTime', 'diff_CRS', 'Cancelled', 'Diverted']].T\n",
    "\n",
    "del(error_minus_36)"
   ]
  },
  {
   "cell_type": "code",
   "execution_count": null,
   "metadata": {},
   "outputs": [],
   "source": [
    "flights[(flights['Flight_Number_Reporting_Airline'] == 317) &\n",
    "        (flights['Origin'] == 'DEN') &\n",
    "        (flights['Dest'] == 'PSP')] [['CRSElapsedTime', 'UTCElapsedTime_CRS', 'diff_CRS']]"
   ]
  },
  {
   "cell_type": "markdown",
   "metadata": {},
   "source": [
    "In this case we see that CRS Elapsed time is:\n",
    "1. also inconsistent with CRS Departure and CRS Arrival times\n",
    "2. all other flights for this route have the equal CRS and UTC elapsed times which is 129 minutes  \n",
    "\n",
    "So this can be an error"
   ]
  },
  {
   "cell_type": "markdown",
   "metadata": {},
   "source": [
    "### Checking ACTUAL time"
   ]
  },
  {
   "cell_type": "code",
   "execution_count": null,
   "metadata": {},
   "outputs": [],
   "source": [
    "flights['diff_Act'].value_counts()"
   ]
  },
  {
   "cell_type": "markdown",
   "metadata": {},
   "source": [
    "It appears that the actual elapsed time shows the same differences as the scheduled elapsed time between the two types of flight duration: one calculated using UTC arrival and departure times, and the other based on the ActualElapsedTime provided in the dataset. Let’s take a closer look.\n",
    "\n",
    "The total number of discrepancies is 78, with the following breakdown:\n",
    "*\t+/-1440 minutes: 60 records, likely related to flights crossing the International Date Line (IDL) from HNL to GUM and back.\n",
    "*\t-60 minutes: 15 records, possibly due to flights occurring during the transition to Daylight Saving Time (DST) in the spring.\n",
    "*\tOther: 3 records with small, random differences, which could be attributed to minor errors."
   ]
  },
  {
   "cell_type": "code",
   "execution_count": null,
   "metadata": {},
   "outputs": [],
   "source": [
    "error_1440 = flights[flights['diff_Act'].isin([1440, -1440])]\n",
    "print('There are:', len(error_1440), 'records with differenc +/-1440 min (equal to 24 hours)')\n",
    "print('Which airports are presented among these flights:', *set(error_1440['Origin']).union(set(error_1440['Origin'])))\n",
    "\n",
    "del(error_1440)"
   ]
  },
  {
   "cell_type": "markdown",
   "metadata": {},
   "source": [
    "All these flights are again between two airports across IDL. We already know this problem and know how to cue it. "
   ]
  },
  {
   "cell_type": "code",
   "execution_count": 46,
   "metadata": {},
   "outputs": [],
   "source": [
    "error_60 = flights[flights['diff_Act'] == -60][['Flight_Number_Reporting_Airline', 'ActDepDT_tz', 'ActArrDT_tz',\n",
    "                                           'ActDep_UTC', 'ActArr_UTC', 'Origin', 'Dest', 'ActualElapsedTime', 'UTCElapsedTime_Act']]"
   ]
  },
  {
   "cell_type": "code",
   "execution_count": null,
   "metadata": {},
   "outputs": [],
   "source": [
    "error_60['DST_Origin'] = pd.to_datetime(\"2014-03-09 01:59:59\")\n",
    "error_60['DST_Dest'] = pd.to_datetime(\"2014-03-09 02:00:01\")\n",
    "error_60['DST_Origin'] = add_local_tz(error_60, 'DST_Origin', 'Origin')\n",
    "error_60['DST_Dest'] = add_local_tz(error_60, 'DST_Dest', 'Dest')\n",
    "\n",
    "print((error_60['ActDepDT_tz'] < error_60['DST_Origin']).all())\n",
    "print(error_60[~(error_60['ActArrDT_tz'] > error_60['DST_Dest'])].T)"
   ]
  },
  {
   "cell_type": "markdown",
   "metadata": {},
   "source": [
    "All these flights departured before the transition to DST and arrived after it. This is the reason they have a wrong ActualElapsedTime. It's worth to mention that thiers arrival time is correct.\n"
   ]
  },
  {
   "cell_type": "code",
   "execution_count": null,
   "metadata": {},
   "outputs": [],
   "source": [
    "other = flights[(flights['diff_Act'] > -60) & (flights['diff_Act'] < 10) & (flights['diff_Act'] != 0)]\n",
    "print(len(other))\n",
    "other[['Flight_Number_Reporting_Airline',\n",
    "       'ActDepDT_tz', \n",
    "       'ActArrDT_tz',\n",
    "       'Origin', \n",
    "       'Dest', \n",
    "       'ActDep_UTC',\n",
    "       'ActArr_UTC',\n",
    "       'diff_Act', \n",
    "       'ActualElapsedTime', \n",
    "       'UTCElapsedTime_Act']].T"
   ]
  },
  {
   "cell_type": "markdown",
   "metadata": {},
   "source": [
    "First of all, we notice that all these differences appear again on the spring DST start date.\n",
    "Secondly, it looks like the first two flights have minor errors that we can disregard, and we can use UTC elapsed time instead of Actual elapsed time. However, the third flight has a significant difference. Let’s examine it in more detail."
   ]
  },
  {
   "cell_type": "code",
   "execution_count": null,
   "metadata": {},
   "outputs": [],
   "source": [
    "flights[(flights['Flight_Number_Reporting_Airline'] == 5702) &\\\n",
    "        (flights['Origin'] == 'ORD') &\\\n",
    "        (flights['Dest'] == 'CAE')] [['Flight_Number_Reporting_Airline',\n",
    "       'ActDepDT_tz', \n",
    "       'ActArrDT_tz',\n",
    "       'Origin', \n",
    "       'Dest', \n",
    "       'ActDep_UTC',\n",
    "       'ActArr_UTC',\n",
    "       'diff_Act', \n",
    "       'ActualElapsedTime', \n",
    "       'UTCElapsedTime_Act']]"
   ]
  },
  {
   "cell_type": "markdown",
   "metadata": {},
   "source": [
    "We observe that the same flight on other days has a duration close to the actual elapsed time recorded on March 9th. The elapsed time based on UTC, however, is significantly different from the real duration, which suggests that either the actual departure or arrival time (or both) is incorrect. There are several options to address this, such as adjusting the departure or arrival time based on the average duration of similar flights. However, due to the insignificance of this error (1 out of almost 500k flights in total, and 25 flights on this route in the same month), the simplest solution is to drop this record on the next stage."
   ]
  }
 ],
 "metadata": {
  "kernelspec": {
   "display_name": "base",
   "language": "python",
   "name": "python3"
  },
  "language_info": {
   "codemirror_mode": {
    "name": "ipython",
    "version": 3
   },
   "file_extension": ".py",
   "mimetype": "text/x-python",
   "name": "python",
   "nbconvert_exporter": "python",
   "pygments_lexer": "ipython3",
   "version": "3.12.4"
  }
 },
 "nbformat": 4,
 "nbformat_minor": 2
}
