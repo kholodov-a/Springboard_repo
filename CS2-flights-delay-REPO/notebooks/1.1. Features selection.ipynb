{
 "cells": [
  {
   "cell_type": "markdown",
   "metadata": {},
   "source": [
    "# Features selection\n",
    "\n",
    "The original dataset, US Domestic Flights Delay Prediction (2013 - 2018) (Source: [Kaggle](https://www.kaggle.com/datasets/gabrielluizone/us-domestic-flights-delay-prediction-2013-2018)), is provided as a 1.54 GB zip archive. Once decompressed, it contains 60 files with a total size of 13.6 GB. Each file represents one month of data, spanning from January 2014 to December 2018.\n",
    "\n"
   ]
  },
  {
   "cell_type": "markdown",
   "metadata": {},
   "source": [
    "## Modules Initialisation"
   ]
  },
  {
   "cell_type": "code",
   "execution_count": 1,
   "metadata": {},
   "outputs": [],
   "source": [
    "from DataWrangling import *\n",
    "import pandas as pd\n",
    "import numpy as np\n",
    "import seaborn as sns\n",
    "import matplotlib.pyplot as plt"
   ]
  },
  {
   "cell_type": "markdown",
   "metadata": {},
   "source": [
    "## Loading the first file"
   ]
  },
  {
   "cell_type": "code",
   "execution_count": 2,
   "metadata": {},
   "outputs": [],
   "source": [
    "home_dir = Path.cwd().parent\n",
    "source_zip_file = home_dir / 'data' / 'interim' / 'csv_flight.zip'\n",
    "data_file = 'csv_flight/report_2014_1.csv'\n",
    "\n",
    "# reading the first file to evaluate the data\n",
    "flights_2014_1 = load_data_from(source_zip_file, data_file)"
   ]
  },
  {
   "cell_type": "markdown",
   "metadata": {},
   "source": [
    "## Data size"
   ]
  },
  {
   "cell_type": "code",
   "execution_count": 3,
   "metadata": {},
   "outputs": [
    {
     "name": "stdout",
     "output_type": "stream",
     "text": [
      "Shape of the one-month dataset: (471949, 110)\n",
      "It uses 717.16 MB\n",
      "memory usage for number columns: 316.860 MB\n",
      "memory usage for object columns: 395.352 MB\n",
      "memory usage for datetimetz columns: 0.000 MB\n",
      "memory usage for category columns: 0.000 MB\n",
      "memory usage for bool columns: 1.350 MB\n"
     ]
    }
   ],
   "source": [
    "print('Shape of the one-month dataset:', flights_2014_1.shape)\n",
    "print('It uses {:.2f} MB'.format(memory_usage(flights_2014_1)))\n",
    "memory_usage_per_type(flights_2014_1)"
   ]
  },
  {
   "cell_type": "markdown",
   "metadata": {},
   "source": [
    "One month of data contains 471,949 rows and 110 columns, with a total memory size of 1.35 GB. The estimated size of the entire dataset, without reorganization or cleaning, may exceed 81 GB, which could be challenging to process locally. Therefore, a key goal of data preparation will be to reduce the dataset size without compromising its quality"
   ]
  },
  {
   "cell_type": "markdown",
   "metadata": {},
   "source": [
    "## Data structure and check\n",
    "### Date of the flight"
   ]
  },
  {
   "cell_type": "code",
   "execution_count": 4,
   "metadata": {},
   "outputs": [
    {
     "data": {
      "text/html": [
       "<div>\n",
       "<style scoped>\n",
       "    .dataframe tbody tr th:only-of-type {\n",
       "        vertical-align: middle;\n",
       "    }\n",
       "\n",
       "    .dataframe tbody tr th {\n",
       "        vertical-align: top;\n",
       "    }\n",
       "\n",
       "    .dataframe thead th {\n",
       "        text-align: right;\n",
       "    }\n",
       "</style>\n",
       "<table border=\"1\" class=\"dataframe\">\n",
       "  <thead>\n",
       "    <tr style=\"text-align: right;\">\n",
       "      <th></th>\n",
       "      <th>Year</th>\n",
       "      <th>Quarter</th>\n",
       "      <th>Month</th>\n",
       "      <th>DayofMonth</th>\n",
       "      <th>DayOfWeek</th>\n",
       "      <th>FlightDate</th>\n",
       "    </tr>\n",
       "  </thead>\n",
       "  <tbody>\n",
       "    <tr>\n",
       "      <th>0</th>\n",
       "      <td>2014</td>\n",
       "      <td>1</td>\n",
       "      <td>1</td>\n",
       "      <td>30</td>\n",
       "      <td>4</td>\n",
       "      <td>2014-01-30</td>\n",
       "    </tr>\n",
       "    <tr>\n",
       "      <th>1</th>\n",
       "      <td>2014</td>\n",
       "      <td>1</td>\n",
       "      <td>1</td>\n",
       "      <td>31</td>\n",
       "      <td>5</td>\n",
       "      <td>2014-01-31</td>\n",
       "    </tr>\n",
       "    <tr>\n",
       "      <th>2</th>\n",
       "      <td>2014</td>\n",
       "      <td>1</td>\n",
       "      <td>1</td>\n",
       "      <td>1</td>\n",
       "      <td>3</td>\n",
       "      <td>2014-01-01</td>\n",
       "    </tr>\n",
       "    <tr>\n",
       "      <th>3</th>\n",
       "      <td>2014</td>\n",
       "      <td>1</td>\n",
       "      <td>1</td>\n",
       "      <td>2</td>\n",
       "      <td>4</td>\n",
       "      <td>2014-01-02</td>\n",
       "    </tr>\n",
       "    <tr>\n",
       "      <th>4</th>\n",
       "      <td>2014</td>\n",
       "      <td>1</td>\n",
       "      <td>1</td>\n",
       "      <td>3</td>\n",
       "      <td>5</td>\n",
       "      <td>2014-01-03</td>\n",
       "    </tr>\n",
       "  </tbody>\n",
       "</table>\n",
       "</div>"
      ],
      "text/plain": [
       "   Year  Quarter  Month  DayofMonth  DayOfWeek FlightDate\n",
       "0  2014        1      1          30          4 2014-01-30\n",
       "1  2014        1      1          31          5 2014-01-31\n",
       "2  2014        1      1           1          3 2014-01-01\n",
       "3  2014        1      1           2          4 2014-01-02\n",
       "4  2014        1      1           3          5 2014-01-03"
      ]
     },
     "execution_count": 4,
     "metadata": {},
     "output_type": "execute_result"
    }
   ],
   "source": [
    "flights_2014_1.iloc[:,:6].head()"
   ]
  },
  {
   "cell_type": "markdown",
   "metadata": {},
   "source": [
    "0. **Year**\n",
    "    * **Description:** Year\n",
    "    * **Data type:** int16\n",
    "    * **Drop**\n",
    "    * **Comment:** We have a flight date which includes this data\n",
    "\n",
    "1. **Quarter**  \n",
    "    * **Description:** Quarter (1-4)  \n",
    "    * **Data type:** int8\n",
    "    * **Drop**\n",
    "    * **Comment:** We have a flight date which includes this data\n",
    "\n",
    "2. **Month**  \n",
    "    * **Description:** Month (1-12)  \n",
    "    * **Data type:** int8\n",
    "    * **Drop**\n",
    "    * **Comment:** We have a flight date which includes this data\n",
    "\n",
    "3. **DayofMonth**  \n",
    "    * **Description:** Day of month  \n",
    "    * **Data type:** int8\n",
    "    * **Drop**\n",
    "    * **Comment:** We have a flight date which includes this data\n",
    "\n",
    "4. **DayOfWeek**  \n",
    "    * **Description:** Day of week  \n",
    "    * **Data type:** int8\n",
    "    * **Drop**\n",
    "    * **Comment:** We have a flight date which includes this data\n",
    "\n",
    "5. **FlightDate**  \n",
    "    * **Description:** Flight Date (yyyymmdd)\n",
    "    * **Data type:** datetime\n",
    "    * **Keep**"
   ]
  },
  {
   "cell_type": "markdown",
   "metadata": {},
   "source": [
    "Values check for Date of the flight: the data accurate, there is no outliers or NA."
   ]
  },
  {
   "cell_type": "code",
   "execution_count": 5,
   "metadata": {},
   "outputs": [
    {
     "data": {
      "text/plain": [
       "count                           471949\n",
       "mean     2014-01-15 22:29:46.967659264\n",
       "min                2014-01-01 00:00:00\n",
       "25%                2014-01-08 00:00:00\n",
       "50%                2014-01-16 00:00:00\n",
       "75%                2014-01-24 00:00:00\n",
       "max                2014-01-31 00:00:00\n",
       "Name: FlightDate, dtype: object"
      ]
     },
     "execution_count": 5,
     "metadata": {},
     "output_type": "execute_result"
    }
   ],
   "source": [
    "flights_2014_1['FlightDate'].describe()"
   ]
  },
  {
   "cell_type": "markdown",
   "metadata": {},
   "source": [
    "I need to change the data type during the data transformation from object to datetime to use memory efficiently."
   ]
  },
  {
   "cell_type": "code",
   "execution_count": 6,
   "metadata": {},
   "outputs": [
    {
     "data": {
      "text/plain": [
       "0"
      ]
     },
     "execution_count": 6,
     "metadata": {},
     "output_type": "execute_result"
    }
   ],
   "source": [
    "flights_2014_1['FlightDate'].isna().sum()"
   ]
  },
  {
   "cell_type": "markdown",
   "metadata": {},
   "source": [
    "###  Airline's and flight's details "
   ]
  },
  {
   "cell_type": "code",
   "execution_count": 7,
   "metadata": {},
   "outputs": [
    {
     "data": {
      "text/html": [
       "<div>\n",
       "<style scoped>\n",
       "    .dataframe tbody tr th:only-of-type {\n",
       "        vertical-align: middle;\n",
       "    }\n",
       "\n",
       "    .dataframe tbody tr th {\n",
       "        vertical-align: top;\n",
       "    }\n",
       "\n",
       "    .dataframe thead th {\n",
       "        text-align: right;\n",
       "    }\n",
       "</style>\n",
       "<table border=\"1\" class=\"dataframe\">\n",
       "  <thead>\n",
       "    <tr style=\"text-align: right;\">\n",
       "      <th></th>\n",
       "      <th>Reporting_Airline</th>\n",
       "      <th>DOT_ID_Reporting_Airline</th>\n",
       "      <th>IATA_CODE_Reporting_Airline</th>\n",
       "      <th>Tail_Number</th>\n",
       "    </tr>\n",
       "  </thead>\n",
       "  <tbody>\n",
       "    <tr>\n",
       "      <th>0</th>\n",
       "      <td>AA</td>\n",
       "      <td>19805</td>\n",
       "      <td>AA</td>\n",
       "      <td>N006AA</td>\n",
       "    </tr>\n",
       "    <tr>\n",
       "      <th>1</th>\n",
       "      <td>AA</td>\n",
       "      <td>19805</td>\n",
       "      <td>AA</td>\n",
       "      <td>N003AA</td>\n",
       "    </tr>\n",
       "    <tr>\n",
       "      <th>2</th>\n",
       "      <td>AA</td>\n",
       "      <td>19805</td>\n",
       "      <td>AA</td>\n",
       "      <td>N002AA</td>\n",
       "    </tr>\n",
       "    <tr>\n",
       "      <th>3</th>\n",
       "      <td>AA</td>\n",
       "      <td>19805</td>\n",
       "      <td>AA</td>\n",
       "      <td>N002AA</td>\n",
       "    </tr>\n",
       "    <tr>\n",
       "      <th>4</th>\n",
       "      <td>AA</td>\n",
       "      <td>19805</td>\n",
       "      <td>AA</td>\n",
       "      <td>N014AA</td>\n",
       "    </tr>\n",
       "  </tbody>\n",
       "</table>\n",
       "</div>"
      ],
      "text/plain": [
       "  Reporting_Airline  DOT_ID_Reporting_Airline IATA_CODE_Reporting_Airline  \\\n",
       "0                AA                     19805                          AA   \n",
       "1                AA                     19805                          AA   \n",
       "2                AA                     19805                          AA   \n",
       "3                AA                     19805                          AA   \n",
       "4                AA                     19805                          AA   \n",
       "\n",
       "  Tail_Number  \n",
       "0      N006AA  \n",
       "1      N003AA  \n",
       "2      N002AA  \n",
       "3      N002AA  \n",
       "4      N014AA  "
      ]
     },
     "execution_count": 7,
     "metadata": {},
     "output_type": "execute_result"
    }
   ],
   "source": [
    "flights_2014_1.iloc[:, 6:10].head()"
   ]
  },
  {
   "cell_type": "markdown",
   "metadata": {},
   "source": [
    "\n",
    "6. **Reporting_Airline**\n",
    "    * **Description:**  Unique Carrier Code. When the same code has been used by multiple carriers, a numeric suffix is used for earlier users, for example, PA, PA(1), PA(2). Use this field for analysis across a range of years. \n",
    "    * **Data type:** category \n",
    "    * **Keep**\n",
    "    * **Comment:** I decided to keep this field and drop DOT_ID_Reporting_Airline and IATA_CODE_Reporting_Airline because it is declared as unique and recomended by data provider as such | \n",
    "\n",
    "7. **DOT_ID_Reporting_Airline**\n",
    "    * **Description** An identification number assigned by US DOT to identify a unique airline (carrier). A unique airline (carrier) is defined as one holding and reporting under the same DOT certificate regardless of its Code, Name, or holding company/corporation.\n",
    "    * **Drop**\n",
    "    * **Comment:** Not unique\n",
    "    \n",
    "8. **IATA_CODE_Reporting_Airline**\n",
    "    * **Description:** Code assigned by IATA and commonly used to identify a carrier. As the same code may have been assigned to different carriers over time, the code is not always unique. For analysis, use the Unique Carrier Code.\n",
    "    * **Drop**\n",
    "    * **Comment:** Not unique\n",
    "\n",
    "9. **Tail_Number**\n",
    "    * **Description:** Tail Number\n",
    "    * **Drop**\n",
    "    * **Comment:** Irrelevant to the purposes of the project\n",
    "\n",
    "10. **Flight_Number_Reporting_Airline**\n",
    "    * **Description:** Flight Number\n",
    "    * **Data type:** int16\n",
    "    * **Keep**\n",
    "    * **Comment:** Unique number of the flight at a specific day/time"
   ]
  },
  {
   "cell_type": "code",
   "execution_count": 8,
   "metadata": {},
   "outputs": [
    {
     "data": {
      "text/plain": [
       "array(['AA', 'AS', 'DL', 'EV', 'B6', 'F9', 'FL', 'HA', 'MQ', 'US', 'OO',\n",
       "       'VX', 'WN', 'UA'], dtype=object)"
      ]
     },
     "execution_count": 8,
     "metadata": {},
     "output_type": "execute_result"
    }
   ],
   "source": [
    "flights_2014_1['Reporting_Airline'].unique()"
   ]
  },
  {
   "cell_type": "code",
   "execution_count": 9,
   "metadata": {},
   "outputs": [
    {
     "data": {
      "text/plain": [
       "count    471949.000000\n",
       "mean       2304.719605\n",
       "std        1857.378202\n",
       "min           1.000000\n",
       "25%         707.000000\n",
       "50%        1780.000000\n",
       "75%        3583.000000\n",
       "max        8404.000000\n",
       "Name: Flight_Number_Reporting_Airline, dtype: float64"
      ]
     },
     "execution_count": 9,
     "metadata": {},
     "output_type": "execute_result"
    }
   ],
   "source": [
    "flights_2014_1['Flight_Number_Reporting_Airline'].describe()"
   ]
  },
  {
   "cell_type": "code",
   "execution_count": 10,
   "metadata": {},
   "outputs": [
    {
     "name": "stdout",
     "output_type": "stream",
     "text": [
      "<class 'pandas.core.frame.DataFrame'>\n",
      "RangeIndex: 471949 entries, 0 to 471948\n",
      "Data columns (total 2 columns):\n",
      " #   Column                           Non-Null Count   Dtype \n",
      "---  ------                           --------------   ----- \n",
      " 0   Reporting_Airline                471949 non-null  object\n",
      " 1   Flight_Number_Reporting_Airline  471949 non-null  int64 \n",
      "dtypes: int64(1), object(1)\n",
      "memory usage: 7.2+ MB\n"
     ]
    }
   ],
   "source": [
    "flights_2014_1[['Reporting_Airline', 'Flight_Number_Reporting_Airline']].info()"
   ]
  },
  {
   "cell_type": "code",
   "execution_count": 11,
   "metadata": {},
   "outputs": [
    {
     "data": {
      "text/plain": [
       "Reporting_Airline                  0\n",
       "Flight_Number_Reporting_Airline    0\n",
       "dtype: int64"
      ]
     },
     "execution_count": 11,
     "metadata": {},
     "output_type": "execute_result"
    }
   ],
   "source": [
    "flights_2014_1[['Reporting_Airline', 'Flight_Number_Reporting_Airline']].isna().sum()"
   ]
  },
  {
   "cell_type": "markdown",
   "metadata": {},
   "source": [
    "The data in the fields Reporting_Airline and Flight_Number_Reporting_Airline is accurate, there is no outliers or NA but I need to change the data type during the data transformation."
   ]
  },
  {
   "cell_type": "markdown",
   "metadata": {},
   "source": [
    "###  Origin and Destination detailes"
   ]
  },
  {
   "cell_type": "code",
   "execution_count": 12,
   "metadata": {},
   "outputs": [
    {
     "data": {
      "text/html": [
       "<div>\n",
       "<style scoped>\n",
       "    .dataframe tbody tr th:only-of-type {\n",
       "        vertical-align: middle;\n",
       "    }\n",
       "\n",
       "    .dataframe tbody tr th {\n",
       "        vertical-align: top;\n",
       "    }\n",
       "\n",
       "    .dataframe thead th {\n",
       "        text-align: right;\n",
       "    }\n",
       "</style>\n",
       "<table border=\"1\" class=\"dataframe\">\n",
       "  <thead>\n",
       "    <tr style=\"text-align: right;\">\n",
       "      <th></th>\n",
       "      <th>DestAirportID</th>\n",
       "      <th>DestAirportSeqID</th>\n",
       "      <th>DestCityMarketID</th>\n",
       "      <th>Dest</th>\n",
       "      <th>DestCityName</th>\n",
       "      <th>DestState</th>\n",
       "      <th>DestStateFips</th>\n",
       "      <th>DestStateName</th>\n",
       "      <th>DestWac</th>\n",
       "    </tr>\n",
       "  </thead>\n",
       "  <tbody>\n",
       "    <tr>\n",
       "      <th>0</th>\n",
       "      <td>12278</td>\n",
       "      <td>1227802</td>\n",
       "      <td>30928</td>\n",
       "      <td>ICT</td>\n",
       "      <td>Wichita, KS</td>\n",
       "      <td>KS</td>\n",
       "      <td>20</td>\n",
       "      <td>Kansas</td>\n",
       "      <td>62</td>\n",
       "    </tr>\n",
       "    <tr>\n",
       "      <th>1</th>\n",
       "      <td>12278</td>\n",
       "      <td>1227802</td>\n",
       "      <td>30928</td>\n",
       "      <td>ICT</td>\n",
       "      <td>Wichita, KS</td>\n",
       "      <td>KS</td>\n",
       "      <td>20</td>\n",
       "      <td>Kansas</td>\n",
       "      <td>62</td>\n",
       "    </tr>\n",
       "    <tr>\n",
       "      <th>2</th>\n",
       "      <td>11298</td>\n",
       "      <td>1129803</td>\n",
       "      <td>30194</td>\n",
       "      <td>DFW</td>\n",
       "      <td>Dallas/Fort Worth, TX</td>\n",
       "      <td>TX</td>\n",
       "      <td>48</td>\n",
       "      <td>Texas</td>\n",
       "      <td>74</td>\n",
       "    </tr>\n",
       "    <tr>\n",
       "      <th>3</th>\n",
       "      <td>11298</td>\n",
       "      <td>1129803</td>\n",
       "      <td>30194</td>\n",
       "      <td>DFW</td>\n",
       "      <td>Dallas/Fort Worth, TX</td>\n",
       "      <td>TX</td>\n",
       "      <td>48</td>\n",
       "      <td>Texas</td>\n",
       "      <td>74</td>\n",
       "    </tr>\n",
       "    <tr>\n",
       "      <th>4</th>\n",
       "      <td>11298</td>\n",
       "      <td>1129803</td>\n",
       "      <td>30194</td>\n",
       "      <td>DFW</td>\n",
       "      <td>Dallas/Fort Worth, TX</td>\n",
       "      <td>TX</td>\n",
       "      <td>48</td>\n",
       "      <td>Texas</td>\n",
       "      <td>74</td>\n",
       "    </tr>\n",
       "    <tr>\n",
       "      <th>5</th>\n",
       "      <td>11298</td>\n",
       "      <td>1129803</td>\n",
       "      <td>30194</td>\n",
       "      <td>DFW</td>\n",
       "      <td>Dallas/Fort Worth, TX</td>\n",
       "      <td>TX</td>\n",
       "      <td>48</td>\n",
       "      <td>Texas</td>\n",
       "      <td>74</td>\n",
       "    </tr>\n",
       "  </tbody>\n",
       "</table>\n",
       "</div>"
      ],
      "text/plain": [
       "   DestAirportID  DestAirportSeqID  DestCityMarketID Dest  \\\n",
       "0          12278           1227802             30928  ICT   \n",
       "1          12278           1227802             30928  ICT   \n",
       "2          11298           1129803             30194  DFW   \n",
       "3          11298           1129803             30194  DFW   \n",
       "4          11298           1129803             30194  DFW   \n",
       "5          11298           1129803             30194  DFW   \n",
       "\n",
       "            DestCityName DestState  DestStateFips DestStateName  DestWac  \n",
       "0            Wichita, KS        KS             20        Kansas       62  \n",
       "1            Wichita, KS        KS             20        Kansas       62  \n",
       "2  Dallas/Fort Worth, TX        TX             48         Texas       74  \n",
       "3  Dallas/Fort Worth, TX        TX             48         Texas       74  \n",
       "4  Dallas/Fort Worth, TX        TX             48         Texas       74  \n",
       "5  Dallas/Fort Worth, TX        TX             48         Texas       74  "
      ]
     },
     "execution_count": 12,
     "metadata": {},
     "output_type": "execute_result"
    }
   ],
   "source": [
    "DestFields = ['DestAirportID', \n",
    "                'DestAirportSeqID', \n",
    "                'DestCityMarketID',\n",
    "                'Dest',\n",
    "                'DestCityName',\n",
    "                'DestState',\n",
    "                'DestStateFips',\n",
    "                'DestStateName',\n",
    "                'DestWac']\n",
    "flights_2014_1.loc[:5, DestFields]"
   ]
  },
  {
   "cell_type": "code",
   "execution_count": 13,
   "metadata": {},
   "outputs": [
    {
     "data": {
      "text/html": [
       "<div>\n",
       "<style scoped>\n",
       "    .dataframe tbody tr th:only-of-type {\n",
       "        vertical-align: middle;\n",
       "    }\n",
       "\n",
       "    .dataframe tbody tr th {\n",
       "        vertical-align: top;\n",
       "    }\n",
       "\n",
       "    .dataframe thead th {\n",
       "        text-align: right;\n",
       "    }\n",
       "</style>\n",
       "<table border=\"1\" class=\"dataframe\">\n",
       "  <thead>\n",
       "    <tr style=\"text-align: right;\">\n",
       "      <th></th>\n",
       "      <th>OriginAirportID</th>\n",
       "      <th>OriginAirportSeqID</th>\n",
       "      <th>OriginCityMarketID</th>\n",
       "      <th>Origin</th>\n",
       "      <th>OriginCityName</th>\n",
       "      <th>OriginState</th>\n",
       "      <th>OriginStateFips</th>\n",
       "      <th>OriginStateName</th>\n",
       "      <th>OriginWac</th>\n",
       "    </tr>\n",
       "  </thead>\n",
       "  <tbody>\n",
       "    <tr>\n",
       "      <th>0</th>\n",
       "      <td>11298</td>\n",
       "      <td>1129803</td>\n",
       "      <td>30194</td>\n",
       "      <td>DFW</td>\n",
       "      <td>Dallas/Fort Worth, TX</td>\n",
       "      <td>TX</td>\n",
       "      <td>48</td>\n",
       "      <td>Texas</td>\n",
       "      <td>74</td>\n",
       "    </tr>\n",
       "    <tr>\n",
       "      <th>1</th>\n",
       "      <td>11298</td>\n",
       "      <td>1129803</td>\n",
       "      <td>30194</td>\n",
       "      <td>DFW</td>\n",
       "      <td>Dallas/Fort Worth, TX</td>\n",
       "      <td>TX</td>\n",
       "      <td>48</td>\n",
       "      <td>Texas</td>\n",
       "      <td>74</td>\n",
       "    </tr>\n",
       "    <tr>\n",
       "      <th>2</th>\n",
       "      <td>12278</td>\n",
       "      <td>1227802</td>\n",
       "      <td>30928</td>\n",
       "      <td>ICT</td>\n",
       "      <td>Wichita, KS</td>\n",
       "      <td>KS</td>\n",
       "      <td>20</td>\n",
       "      <td>Kansas</td>\n",
       "      <td>62</td>\n",
       "    </tr>\n",
       "    <tr>\n",
       "      <th>3</th>\n",
       "      <td>12278</td>\n",
       "      <td>1227802</td>\n",
       "      <td>30928</td>\n",
       "      <td>ICT</td>\n",
       "      <td>Wichita, KS</td>\n",
       "      <td>KS</td>\n",
       "      <td>20</td>\n",
       "      <td>Kansas</td>\n",
       "      <td>62</td>\n",
       "    </tr>\n",
       "    <tr>\n",
       "      <th>4</th>\n",
       "      <td>12278</td>\n",
       "      <td>1227802</td>\n",
       "      <td>30928</td>\n",
       "      <td>ICT</td>\n",
       "      <td>Wichita, KS</td>\n",
       "      <td>KS</td>\n",
       "      <td>20</td>\n",
       "      <td>Kansas</td>\n",
       "      <td>62</td>\n",
       "    </tr>\n",
       "    <tr>\n",
       "      <th>5</th>\n",
       "      <td>12278</td>\n",
       "      <td>1227802</td>\n",
       "      <td>30928</td>\n",
       "      <td>ICT</td>\n",
       "      <td>Wichita, KS</td>\n",
       "      <td>KS</td>\n",
       "      <td>20</td>\n",
       "      <td>Kansas</td>\n",
       "      <td>62</td>\n",
       "    </tr>\n",
       "  </tbody>\n",
       "</table>\n",
       "</div>"
      ],
      "text/plain": [
       "   OriginAirportID  OriginAirportSeqID  OriginCityMarketID Origin  \\\n",
       "0            11298             1129803               30194    DFW   \n",
       "1            11298             1129803               30194    DFW   \n",
       "2            12278             1227802               30928    ICT   \n",
       "3            12278             1227802               30928    ICT   \n",
       "4            12278             1227802               30928    ICT   \n",
       "5            12278             1227802               30928    ICT   \n",
       "\n",
       "          OriginCityName OriginState  OriginStateFips OriginStateName  \\\n",
       "0  Dallas/Fort Worth, TX          TX               48           Texas   \n",
       "1  Dallas/Fort Worth, TX          TX               48           Texas   \n",
       "2            Wichita, KS          KS               20          Kansas   \n",
       "3            Wichita, KS          KS               20          Kansas   \n",
       "4            Wichita, KS          KS               20          Kansas   \n",
       "5            Wichita, KS          KS               20          Kansas   \n",
       "\n",
       "   OriginWac  \n",
       "0         74  \n",
       "1         74  \n",
       "2         62  \n",
       "3         62  \n",
       "4         62  \n",
       "5         62  "
      ]
     },
     "execution_count": 13,
     "metadata": {},
     "output_type": "execute_result"
    }
   ],
   "source": [
    "OriginFields = ['OriginAirportID', \n",
    "                'OriginAirportSeqID', \n",
    "                'OriginCityMarketID',\n",
    "                'Origin',\n",
    "                'OriginCityName',\n",
    "                'OriginState',\n",
    "                'OriginStateFips',\n",
    "                'OriginStateName',\n",
    "                'OriginWac']\n",
    "flights_2014_1.loc[:5, OriginFields]"
   ]
  },
  {
   "cell_type": "markdown",
   "metadata": {},
   "source": [
    "Origin and Destination data has the same structure so I will treat it the same way.\n",
    "\n",
    "11.\t**OriginAirportID / 20. DestAirportID**  \n",
    "    * **Description:** Origin/Destination Airport, Airport ID. An identification number assigned by US DOT to identify a unique airport. Use this field for airport analysis across a range of years because an airport can change its airport code and airport codes can be reused.  \n",
    "    * **Data type:** category  \n",
    "    * **Keep**  \n",
    "    * **Comment:** I decided to keep these codes because of its uniqueness, assuared by data provider.  \n",
    "    \n",
    "12.\t**OriginAirportSeqID / 21. DestAirportSeqID**  \n",
    "    * **Description:** Origin/Destination Airport, Airport Sequence ID. An identification number assigned by US DOT to identify a unique airport at a given point of time. Airport attributes, such as airport name or coordinates, may change over time.\n",
    "    * **Drop**\n",
    "13.\t**OriginCityMarketID / 22. DestCityMarketID**\n",
    "    * **Description:** Origin/Destination Airport, City Market ID. City Market ID is an identification number assigned by US DOT to identify a city market. Use this field to consolidate airports serving the same city market.\n",
    "    * **Drop**\n",
    "14.\t**Origin / 23. Dest**\n",
    "    * **Description:** Origin/Destination Airport\n",
    "    * **Data type:** category\n",
    "    * **Keep**\n",
    "    * **Comment:** This core is IATA code of the airport, which is represented in most traveling documents. It could be useful in the model.\n",
    "15.\t**OriginCityName / 24. DestCityName**\n",
    "    * **Description:** Origin/Destination Airport, City Name\n",
    "    * **Drop**\n",
    "16.\t**OriginState / 25. DestState**\n",
    "    * **Description:** Origin/Destination Airport, State Code\n",
    "    * **Drop**\n",
    "17.\t**OriginStateFips / 26. DestStateFips**\n",
    "    * **Description:** Origin/Destination Airport, State Fips\n",
    "    * **Drop**\n",
    "18.\t**OriginStateName / 27. DestStateName**\n",
    "    * **Description:** Origin/Destination Airport, State Name\n",
    "    * **Drop**\n",
    "19.\t**OriginWac / 28. DestWac**\n",
    "    * **Description:** Origin/Destination Airport, World Area Code\n",
    "    * **Drop**"
   ]
  },
  {
   "cell_type": "code",
   "execution_count": 14,
   "metadata": {},
   "outputs": [
    {
     "data": {
      "text/plain": [
       "array([11298, 12278, 13303, 10666, 14057, 13830, 13796, 14893, 12758,\n",
       "       12173, 14831, 14747, 14679, 12982, 10299, 11278, 11618, 12892,\n",
       "       13204, 10721, 13930, 11697, 13487, 14100, 10551, 10170, 14709,\n",
       "       10754, 11630, 12819, 12523, 10926, 15991, 14828, 14256, 15841,\n",
       "       13873, 13970, 14107, 14771, 14262, 14908, 10800, 13891, 12889,\n",
       "       15376, 10423, 11292, 14683, 11884, 14869, 12266, 10397, 15016,\n",
       "       13198, 10165, 11193, 10713, 15624, 14730, 14027, 12953, 12478,\n",
       "       10994, 10693, 10781, 10599, 11481, 15304, 14635, 11433, 10821,\n",
       "       10868, 13342, 11042, 11066, 13244, 10257, 11109, 13485, 10529,\n",
       "       11775, 11996, 12448, 14193, 11641, 11057, 12206, 12264, 10208,\n",
       "       10792, 11267, 12992, 14843, 11624, 10874, 14122, 15412, 14524,\n",
       "       11973, 10140, 13871, 13495, 15370, 14576, 11721, 13851, 13931,\n",
       "       15249, 12217, 11252, 15024, 13232, 10849, 12451, 14685, 12339,\n",
       "       14492, 13577, 11503, 13360, 11995, 14986, 12191, 15323, 14570,\n",
       "       11986, 15096, 13422, 11540, 11637, 12094, 12323, 10620, 12945,\n",
       "       10980, 12441, 11423, 11146, 14307, 10431, 14321, 10279, 14842,\n",
       "       10747, 10185, 14814, 13502, 13061, 13158, 12915, 10785, 12951,\n",
       "       11982, 12197, 11413, 10728, 14457, 13367, 14696, 10136, 15411,\n",
       "       14674, 11003, 11140, 13296, 13230, 13433, 11049, 14574, 12884,\n",
       "       12896, 15380, 13029, 11921, 13256, 11203, 10434, 15919, 14254,\n",
       "       12954, 10732, 15070, 13933, 15027, 11259, 13377, 12177, 11612,\n",
       "       11778, 11617, 14108, 10135, 10731, 13795, 11308, 14098, 11537,\n",
       "       14783, 11953, 10408, 12007, 13277, 15607, 11150, 10685, 10581,\n",
       "       11823, 10990, 10146, 11977, 11726, 10627, 11315, 14711, 12389,\n",
       "       12320, 11603, 10643, 15356, 14689, 11638, 12402, 14222, 12891,\n",
       "       14588, 15295, 11867, 10155, 14960, 14952, 12511, 11980, 10268,\n",
       "       11111, 10361, 11067, 13290, 14633, 11274, 10372, 10469, 11905,\n",
       "       13459, 15048, 15401, 12003, 11122, 11648, 13264, 12016, 12391,\n",
       "       11337, 13486, 11865, 14794, 11041, 11076, 12280, 13476, 10561,\n",
       "       16218, 11695, 14489, 14006, 10157, 14487, 12012, 12129, 14698,\n",
       "       13024, 13076, 13388, 13344, 11898, 14252, 12156, 13184, 13127,\n",
       "       15041, 14543, 10930, 11471, 11002, 13424, 12888, 14905, 10141,\n",
       "       10333, 10631, 15389, 10739, 10779, 10918, 12335, 14520, 12343,\n",
       "       14113, 11525, 11097, 13964])"
      ]
     },
     "execution_count": 14,
     "metadata": {},
     "output_type": "execute_result"
    }
   ],
   "source": [
    "flights_2014_1.loc[:, 'OriginAirportID'].unique()"
   ]
  },
  {
   "cell_type": "code",
   "execution_count": 15,
   "metadata": {},
   "outputs": [
    {
     "data": {
      "text/plain": [
       "array([12278, 11298, 15304, 13830, 14831, 12758, 14893, 14747, 14057,\n",
       "       13796, 12173, 14679, 10299, 12982, 10666, 11278, 12892, 11618,\n",
       "       13204, 10721, 13930, 14100, 11697, 13487, 10551, 10170, 14709,\n",
       "       10754, 11630, 12819, 12523, 15991, 10926, 14828, 14256, 15841,\n",
       "       13873, 13970, 14107, 14771, 14262, 14908, 10800, 13891, 12889,\n",
       "       15376, 10423, 11292, 11884, 14683, 14869, 12266, 10397, 15016,\n",
       "       13198, 10165, 12953, 10713, 12478, 10821, 15624, 14027, 11433,\n",
       "       13495, 14492, 11066, 13232, 14986, 11996, 11986, 10868, 10994,\n",
       "       13342, 12448, 11995, 10599, 13244, 14321, 11481, 12264, 11042,\n",
       "       11057, 14635, 13303, 12339, 11193, 13485, 10529, 14193, 14843,\n",
       "       12206, 10792, 11267, 10693, 12992, 11624, 10874, 15412, 14122,\n",
       "       14524, 11973, 10140, 13871, 15370, 14576, 15024, 10781, 11721,\n",
       "       13851, 13931, 15249, 12217, 11252, 14685, 10849, 12451, 14730,\n",
       "       11503, 13577, 11641, 13360, 11637, 11540, 12191, 14570, 14307,\n",
       "       15096, 13422, 12094, 10208, 12945, 11775, 10620, 12441, 10980,\n",
       "       15323, 12323, 10257, 11423, 11146, 11109, 10431, 10279, 14814,\n",
       "       14842, 10185, 13502, 10747, 13158, 10728, 12915, 11982, 11413,\n",
       "       14457, 13061, 13367, 14696, 10136, 15411, 13230, 11003, 11140,\n",
       "       10434, 13296, 13433, 11049, 12951, 12896, 13029, 15380, 10785,\n",
       "       13256, 11203, 12197, 12954, 14254, 10732, 15070, 13933, 15027,\n",
       "       13377, 15919, 12884, 11259, 14574, 10627, 12177, 11921, 11612,\n",
       "       11778, 11617, 14108, 10731, 13795, 11308, 14098, 14783, 10990,\n",
       "       11953, 10408, 12007, 13277, 10135, 15607, 11150, 10685, 11537,\n",
       "       10146, 10581, 11823, 11977, 11726, 14674, 11315, 14711, 12389,\n",
       "       12320, 11638, 10643, 15356, 14689, 11603, 12402, 14222, 14588,\n",
       "       11067, 11867, 10155, 14960, 15295, 11980, 10268, 13290, 10361,\n",
       "       14952, 14633, 11274, 15048, 13459, 12891, 11905, 12511, 10372,\n",
       "       15401, 11111, 13476, 11122, 12391, 12016, 10469, 11337, 14489,\n",
       "       14794, 11041, 16218, 12280, 13127, 11695, 10561, 14487, 12012,\n",
       "       12003, 11002, 11097, 13264, 14698, 11648, 10157, 13076, 14252,\n",
       "       10930, 13344, 11471, 13388, 13184, 11898, 13486, 12156, 12129,\n",
       "       11076, 15041, 14006, 11865, 13024, 14543, 12888, 13424, 14905,\n",
       "       15389, 10141, 10333, 10631, 10739, 12343, 10779, 10918, 14520,\n",
       "       12335, 14113, 11525, 13964])"
      ]
     },
     "execution_count": 15,
     "metadata": {},
     "output_type": "execute_result"
    }
   ],
   "source": [
    "flights_2014_1.loc[:, 'DestAirportID'].unique()"
   ]
  },
  {
   "cell_type": "code",
   "execution_count": 16,
   "metadata": {},
   "outputs": [
    {
     "data": {
      "text/plain": [
       "array(['DFW', 'ICT', 'MIA', 'BLI', 'PDX', 'OGG', 'OAK', 'SMF', 'KOA',\n",
       "       'HNL', 'SJC', 'SEA', 'SAN', 'LIH', 'ANC', 'DCA', 'EWR', 'LAX',\n",
       "       'MCO', 'BOS', 'ORD', 'FLL', 'MSP', 'PHL', 'BET', 'ADQ', 'SCC',\n",
       "       'BRW', 'FAI', 'KTN', 'JNU', 'CDV', 'YAK', 'SIT', 'PSG', 'WRG',\n",
       "       'OME', 'OTZ', 'PHX', 'SFO', 'PSP', 'SNA', 'BUR', 'ONT', 'LAS',\n",
       "       'TUS', 'AUS', 'DEN', 'SAT', 'GEG', 'SLC', 'IAH', 'ATL', 'STL',\n",
       "       'MCI', 'ADK', 'CVG', 'BOI', 'VPS', 'SDF', 'PBI', 'LGA', 'JFK',\n",
       "       'CHS', 'BNA', 'BTR', 'BHM', 'ECP', 'TPA', 'RSW', 'DTW', 'BWI',\n",
       "       'CAE', 'MKE', 'CLE', 'CMH', 'MEM', 'ALB', 'COS', 'MSN', 'BDL',\n",
       "       'FSD', 'GSP', 'JAN', 'PNS', 'FAY', 'CLT', 'HRL', 'IAD', 'AGS',\n",
       "       'BUF', 'DAY', 'LIT', 'SJU', 'EYW', 'CAK', 'PIT', 'TYS', 'RIC',\n",
       "       'GPT', 'ABQ', 'OMA', 'MSY', 'TUL', 'ROC', 'FNT', 'OKC', 'ORF',\n",
       "       'TLH', 'HSV', 'DAB', 'STT', 'MDW', 'BZN', 'JAX', 'SAV', 'IND',\n",
       "       'RDU', 'MYR', 'EGE', 'MLB', 'GSO', 'SRQ', 'HOU', 'TRI', 'RNO',\n",
       "       'GRR', 'SYR', 'MOB', 'ELP', 'FAR', 'HDN', 'ILM', 'BIL', 'LEX',\n",
       "       'CHA', 'JAC', 'DSM', 'CRW', 'PVD', 'AVL', 'PWM', 'AMA', 'SJT',\n",
       "       'BRO', 'AEX', 'SHV', 'MTJ', 'LRD', 'MAF', 'LCH', 'BTV', 'LFT',\n",
       "       'GRK', 'HPN', 'DRO', 'BPT', 'RAP', 'MLI', 'SBN', 'ABI', 'TYR',\n",
       "       'SAF', 'CID', 'CRP', 'MHT', 'MDT', 'MOT', 'CLL', 'ROA', 'LAN',\n",
       "       'LBB', 'TVC', 'LNK', 'GJT', 'MFE', 'CWA', 'AVP', 'XNA', 'PSE',\n",
       "       'LGB', 'BQN', 'SWF', 'ORH', 'STX', 'DAL', 'MLU', 'HOB', 'EVV',\n",
       "       'FSM', 'EWN', 'PIA', 'ABE', 'BQK', 'OAJ', 'DHN', 'PHF', 'ELM',\n",
       "       'SGF', 'GNV', 'ATW', 'GTR', 'MGM', 'VLD', 'CSG', 'BMI', 'BGR',\n",
       "       'FWA', 'CHO', 'ABY', 'GRB', 'FOE', 'BIS', 'DIK', 'SCE', 'ISN',\n",
       "       'ILG', 'EUG', 'BKG', 'TTN', 'SBA', 'FAT', 'ITO', 'PPG', 'LAW',\n",
       "       'ROW', 'TOL', 'GCK', 'ACT', 'SPS', 'SPI', 'JLN', 'GRI', 'ALO',\n",
       "       'COU', 'ART', 'CMI', 'MHK', 'RST', 'DBQ', 'ASE', 'AZO', 'GGG',\n",
       "       'MQT', 'SUX', 'TXK', 'GTF', 'CPR', 'FCA', 'MFR', 'GUM', 'ISP',\n",
       "       'DLH', 'MSO', 'GCC', 'SGU', 'CLD', 'CMX', 'IDA', 'MRY', 'BFL',\n",
       "       'YUM', 'FLG', 'RDM', 'PAH', 'ACV', 'RDD', 'GUC', 'HIB', 'SBP',\n",
       "       'LMT', 'LSE', 'MMH', 'MKG', 'GFK', 'PSC', 'HLN', 'MBS', 'LWS',\n",
       "       'SUN', 'RKS', 'CEC', 'EAU', 'CIC', 'MOD', 'LAR', 'SMX', 'ABR',\n",
       "       'APN', 'BJI', 'TWF', 'BRD', 'BTM', 'CDC', 'IMT', 'RHI', 'INL',\n",
       "       'PIH', 'EKO', 'COD', 'OTH'], dtype=object)"
      ]
     },
     "execution_count": 16,
     "metadata": {},
     "output_type": "execute_result"
    }
   ],
   "source": [
    "flights_2014_1.loc[:, 'Origin'].unique()"
   ]
  },
  {
   "cell_type": "code",
   "execution_count": 17,
   "metadata": {},
   "outputs": [
    {
     "data": {
      "text/plain": [
       "array(['ICT', 'DFW', 'TPA', 'OGG', 'SJC', 'KOA', 'SMF', 'SEA', 'PDX',\n",
       "       'OAK', 'HNL', 'SAN', 'ANC', 'LIH', 'BLI', 'DCA', 'LAX', 'EWR',\n",
       "       'MCO', 'BOS', 'ORD', 'PHL', 'FLL', 'MSP', 'BET', 'ADQ', 'SCC',\n",
       "       'BRW', 'FAI', 'KTN', 'JNU', 'YAK', 'CDV', 'SIT', 'PSG', 'WRG',\n",
       "       'OME', 'OTZ', 'PHX', 'SFO', 'PSP', 'SNA', 'BUR', 'ONT', 'LAS',\n",
       "       'TUS', 'AUS', 'DEN', 'GEG', 'SAT', 'SLC', 'IAH', 'ATL', 'STL',\n",
       "       'MCI', 'ADK', 'LGA', 'BOI', 'JFK', 'BWI', 'VPS', 'PBI', 'DTW',\n",
       "       'MSY', 'RDU', 'CMH', 'MDW', 'SRQ', 'GSP', 'GRR', 'CAE', 'CHS',\n",
       "       'MKE', 'JAN', 'GSO', 'BHM', 'MEM', 'PWM', 'ECP', 'IAD', 'CLE',\n",
       "       'CLT', 'RSW', 'MIA', 'IND', 'CVG', 'MSN', 'BDL', 'PNS', 'SJU',\n",
       "       'HRL', 'BUF', 'DAY', 'BNA', 'LIT', 'EYW', 'CAK', 'TYS', 'PIT',\n",
       "       'RIC', 'GPT', 'ABQ', 'OMA', 'TUL', 'ROC', 'STT', 'BTR', 'FNT',\n",
       "       'OKC', 'ORF', 'TLH', 'HSV', 'DAB', 'SAV', 'BZN', 'JAX', 'SDF',\n",
       "       'EGE', 'MYR', 'FAY', 'MLB', 'FAR', 'ELP', 'HOU', 'RNO', 'PVD',\n",
       "       'SYR', 'MOB', 'HDN', 'AGS', 'LEX', 'FSD', 'BIL', 'JAC', 'CHA',\n",
       "       'TRI', 'ILM', 'ALB', 'DSM', 'CRW', 'COS', 'AVL', 'AMA', 'SHV',\n",
       "       'SJT', 'AEX', 'MTJ', 'BRO', 'MAF', 'BPT', 'LCH', 'GRK', 'DRO',\n",
       "       'RAP', 'LRD', 'MLI', 'SBN', 'ABI', 'TYR', 'MDT', 'CID', 'CRP',\n",
       "       'AVP', 'MHT', 'MOT', 'CLL', 'LFT', 'LBB', 'LNK', 'TVC', 'BTV',\n",
       "       'MFE', 'CWA', 'HPN', 'LGB', 'PSE', 'BQN', 'SWF', 'ORH', 'STX',\n",
       "       'MLU', 'XNA', 'LAN', 'DAL', 'ROA', 'BIS', 'HOB', 'GJT', 'EVV',\n",
       "       'FSM', 'EWN', 'PIA', 'BQK', 'OAJ', 'DHN', 'PHF', 'SGF', 'CHO',\n",
       "       'GNV', 'ATW', 'GTR', 'MGM', 'ABE', 'VLD', 'CSG', 'BMI', 'ELM',\n",
       "       'ABY', 'BGR', 'FWA', 'GRB', 'FOE', 'SAF', 'DIK', 'SCE', 'ISN',\n",
       "       'ILG', 'FAT', 'BKG', 'TTN', 'SBA', 'EUG', 'ITO', 'PPG', 'ROW',\n",
       "       'CMI', 'GCK', 'ACT', 'SPS', 'TOL', 'GRI', 'ALO', 'MHK', 'ART',\n",
       "       'SPI', 'RST', 'DBQ', 'SUX', 'MQT', 'LAW', 'GGG', 'JLN', 'ASE',\n",
       "       'TXK', 'COU', 'MRY', 'CPR', 'ISP', 'GUM', 'AZO', 'DLH', 'RDM',\n",
       "       'SGU', 'CLD', 'YUM', 'IDA', 'LWS', 'FLG', 'BFL', 'RDD', 'GUC',\n",
       "       'GTF', 'CIC', 'COD', 'MFR', 'SBP', 'FCA', 'ACV', 'LSE', 'PSC',\n",
       "       'CEC', 'MKG', 'EAU', 'MMH', 'MBS', 'GFK', 'MSO', 'HLN', 'HIB',\n",
       "       'CMX', 'SUN', 'PAH', 'GCC', 'LMT', 'RKS', 'LAR', 'MOD', 'SMX',\n",
       "       'TWF', 'ABR', 'APN', 'BJI', 'BRD', 'INL', 'BTM', 'CDC', 'RHI',\n",
       "       'IMT', 'PIH', 'EKO', 'OTH'], dtype=object)"
      ]
     },
     "execution_count": 17,
     "metadata": {},
     "output_type": "execute_result"
    }
   ],
   "source": [
    "flights_2014_1.loc[:, 'Dest'].unique()"
   ]
  },
  {
   "cell_type": "code",
   "execution_count": 18,
   "metadata": {},
   "outputs": [
    {
     "name": "stdout",
     "output_type": "stream",
     "text": [
      "Number of unique OriginAirport IDs: 301 \n",
      "Number of unique Origin codes: 301\n"
     ]
    }
   ],
   "source": [
    "# Check for equal number of Origin Airport IDs and Origin (IATA codes)\n",
    "print('Number of unique OriginAirport IDs:', flights_2014_1.loc[:, 'OriginAirportID'].nunique(),\n",
    "      '\\nNumber of unique Origin codes:', flights_2014_1.loc[:, 'Origin'].nunique())"
   ]
  },
  {
   "cell_type": "code",
   "execution_count": 19,
   "metadata": {},
   "outputs": [
    {
     "name": "stdout",
     "output_type": "stream",
     "text": [
      "Number of unique DestAirport IDs: 301 \n",
      "Number of unique Destination codes: 301\n"
     ]
    }
   ],
   "source": [
    "# Check for equal number of Origin Airport IDs and Origin (IATA codes)\n",
    "print('Number of unique DestAirport IDs:', flights_2014_1.loc[:, 'DestAirportID'].nunique(),\n",
    "      '\\nNumber of unique Destination codes:', flights_2014_1.loc[:, 'Dest'].nunique())"
   ]
  },
  {
   "cell_type": "code",
   "execution_count": 20,
   "metadata": {},
   "outputs": [
    {
     "data": {
      "text/plain": [
       "OriginAirportID    0\n",
       "Origin             0\n",
       "DestAirportID      0\n",
       "Dest               0\n",
       "dtype: int64"
      ]
     },
     "execution_count": 20,
     "metadata": {},
     "output_type": "execute_result"
    }
   ],
   "source": [
    "# Check for NA-values in the fields, I suppose to keep\n",
    "flights_2014_1[['OriginAirportID', 'Origin', 'DestAirportID', 'Dest']].isna().sum()"
   ]
  },
  {
   "cell_type": "markdown",
   "metadata": {},
   "source": [
    "The numbers of unique codes for OriginalAirportID/DestAirportID and Origin/Dest are equal, and they don't have NA-values."
   ]
  },
  {
   "cell_type": "markdown",
   "metadata": {},
   "source": [
    "###  Departure and Arrival times (scheduled and actual)"
   ]
  },
  {
   "cell_type": "code",
   "execution_count": 21,
   "metadata": {},
   "outputs": [
    {
     "data": {
      "text/html": [
       "<div>\n",
       "<style scoped>\n",
       "    .dataframe tbody tr th:only-of-type {\n",
       "        vertical-align: middle;\n",
       "    }\n",
       "\n",
       "    .dataframe tbody tr th {\n",
       "        vertical-align: top;\n",
       "    }\n",
       "\n",
       "    .dataframe thead th {\n",
       "        text-align: right;\n",
       "    }\n",
       "</style>\n",
       "<table border=\"1\" class=\"dataframe\">\n",
       "  <thead>\n",
       "    <tr style=\"text-align: right;\">\n",
       "      <th></th>\n",
       "      <th>CRSDepTime</th>\n",
       "      <th>DepTime</th>\n",
       "      <th>DepDelay</th>\n",
       "      <th>DepDelayMinutes</th>\n",
       "      <th>DepDel15</th>\n",
       "      <th>DepartureDelayGroups</th>\n",
       "      <th>DepTimeBlk</th>\n",
       "    </tr>\n",
       "  </thead>\n",
       "  <tbody>\n",
       "    <tr>\n",
       "      <th>0</th>\n",
       "      <td>940</td>\n",
       "      <td>935.0</td>\n",
       "      <td>-5.0</td>\n",
       "      <td>0.0</td>\n",
       "      <td>0.0</td>\n",
       "      <td>-1.0</td>\n",
       "      <td>0900-0959</td>\n",
       "    </tr>\n",
       "    <tr>\n",
       "      <th>1</th>\n",
       "      <td>940</td>\n",
       "      <td>951.0</td>\n",
       "      <td>11.0</td>\n",
       "      <td>11.0</td>\n",
       "      <td>0.0</td>\n",
       "      <td>0.0</td>\n",
       "      <td>0900-0959</td>\n",
       "    </tr>\n",
       "    <tr>\n",
       "      <th>2</th>\n",
       "      <td>1135</td>\n",
       "      <td>1144.0</td>\n",
       "      <td>9.0</td>\n",
       "      <td>9.0</td>\n",
       "      <td>0.0</td>\n",
       "      <td>0.0</td>\n",
       "      <td>1100-1159</td>\n",
       "    </tr>\n",
       "    <tr>\n",
       "      <th>3</th>\n",
       "      <td>1135</td>\n",
       "      <td>1134.0</td>\n",
       "      <td>-1.0</td>\n",
       "      <td>0.0</td>\n",
       "      <td>0.0</td>\n",
       "      <td>-1.0</td>\n",
       "      <td>1100-1159</td>\n",
       "    </tr>\n",
       "    <tr>\n",
       "      <th>4</th>\n",
       "      <td>1135</td>\n",
       "      <td>1129.0</td>\n",
       "      <td>-6.0</td>\n",
       "      <td>0.0</td>\n",
       "      <td>0.0</td>\n",
       "      <td>-1.0</td>\n",
       "      <td>1100-1159</td>\n",
       "    </tr>\n",
       "    <tr>\n",
       "      <th>5</th>\n",
       "      <td>1135</td>\n",
       "      <td>1141.0</td>\n",
       "      <td>6.0</td>\n",
       "      <td>6.0</td>\n",
       "      <td>0.0</td>\n",
       "      <td>0.0</td>\n",
       "      <td>1100-1159</td>\n",
       "    </tr>\n",
       "  </tbody>\n",
       "</table>\n",
       "</div>"
      ],
      "text/plain": [
       "   CRSDepTime  DepTime  DepDelay  DepDelayMinutes  DepDel15  \\\n",
       "0         940    935.0      -5.0              0.0       0.0   \n",
       "1         940    951.0      11.0             11.0       0.0   \n",
       "2        1135   1144.0       9.0              9.0       0.0   \n",
       "3        1135   1134.0      -1.0              0.0       0.0   \n",
       "4        1135   1129.0      -6.0              0.0       0.0   \n",
       "5        1135   1141.0       6.0              6.0       0.0   \n",
       "\n",
       "   DepartureDelayGroups DepTimeBlk  \n",
       "0                  -1.0  0900-0959  \n",
       "1                   0.0  0900-0959  \n",
       "2                   0.0  1100-1159  \n",
       "3                  -1.0  1100-1159  \n",
       "4                  -1.0  1100-1159  \n",
       "5                   0.0  1100-1159  "
      ]
     },
     "execution_count": 21,
     "metadata": {},
     "output_type": "execute_result"
    }
   ],
   "source": [
    "# Sample of the block of data for departure times\n",
    "DepFields = ['CRSDepTime', \n",
    "             'DepTime',\n",
    "             'DepDelay',\n",
    "             'DepDelayMinutes',\n",
    "             'DepDel15',\n",
    "             'DepartureDelayGroups',\n",
    "             'DepTimeBlk']\n",
    "flights_2014_1.loc[:5, DepFields]"
   ]
  },
  {
   "cell_type": "code",
   "execution_count": 22,
   "metadata": {},
   "outputs": [
    {
     "data": {
      "text/html": [
       "<div>\n",
       "<style scoped>\n",
       "    .dataframe tbody tr th:only-of-type {\n",
       "        vertical-align: middle;\n",
       "    }\n",
       "\n",
       "    .dataframe tbody tr th {\n",
       "        vertical-align: top;\n",
       "    }\n",
       "\n",
       "    .dataframe thead th {\n",
       "        text-align: right;\n",
       "    }\n",
       "</style>\n",
       "<table border=\"1\" class=\"dataframe\">\n",
       "  <thead>\n",
       "    <tr style=\"text-align: right;\">\n",
       "      <th></th>\n",
       "      <th>CRSArrTime</th>\n",
       "      <th>ArrTime</th>\n",
       "      <th>ArrDelay</th>\n",
       "      <th>ArrDelayMinutes</th>\n",
       "      <th>ArrDel15</th>\n",
       "      <th>ArrivalDelayGroups</th>\n",
       "      <th>ArrTimeBlk</th>\n",
       "    </tr>\n",
       "  </thead>\n",
       "  <tbody>\n",
       "    <tr>\n",
       "      <th>0</th>\n",
       "      <td>1055</td>\n",
       "      <td>1051.0</td>\n",
       "      <td>-4.0</td>\n",
       "      <td>0.0</td>\n",
       "      <td>0.0</td>\n",
       "      <td>-1.0</td>\n",
       "      <td>1000-1059</td>\n",
       "    </tr>\n",
       "    <tr>\n",
       "      <th>1</th>\n",
       "      <td>1055</td>\n",
       "      <td>1115.0</td>\n",
       "      <td>20.0</td>\n",
       "      <td>20.0</td>\n",
       "      <td>1.0</td>\n",
       "      <td>1.0</td>\n",
       "      <td>1000-1059</td>\n",
       "    </tr>\n",
       "    <tr>\n",
       "      <th>2</th>\n",
       "      <td>1300</td>\n",
       "      <td>1302.0</td>\n",
       "      <td>2.0</td>\n",
       "      <td>2.0</td>\n",
       "      <td>0.0</td>\n",
       "      <td>0.0</td>\n",
       "      <td>1300-1359</td>\n",
       "    </tr>\n",
       "    <tr>\n",
       "      <th>3</th>\n",
       "      <td>1300</td>\n",
       "      <td>1253.0</td>\n",
       "      <td>-7.0</td>\n",
       "      <td>0.0</td>\n",
       "      <td>0.0</td>\n",
       "      <td>-1.0</td>\n",
       "      <td>1300-1359</td>\n",
       "    </tr>\n",
       "    <tr>\n",
       "      <th>4</th>\n",
       "      <td>1300</td>\n",
       "      <td>1244.0</td>\n",
       "      <td>-16.0</td>\n",
       "      <td>0.0</td>\n",
       "      <td>0.0</td>\n",
       "      <td>-2.0</td>\n",
       "      <td>1300-1359</td>\n",
       "    </tr>\n",
       "    <tr>\n",
       "      <th>5</th>\n",
       "      <td>1300</td>\n",
       "      <td>1301.0</td>\n",
       "      <td>1.0</td>\n",
       "      <td>1.0</td>\n",
       "      <td>0.0</td>\n",
       "      <td>0.0</td>\n",
       "      <td>1300-1359</td>\n",
       "    </tr>\n",
       "  </tbody>\n",
       "</table>\n",
       "</div>"
      ],
      "text/plain": [
       "   CRSArrTime  ArrTime  ArrDelay  ArrDelayMinutes  ArrDel15  \\\n",
       "0        1055   1051.0      -4.0              0.0       0.0   \n",
       "1        1055   1115.0      20.0             20.0       1.0   \n",
       "2        1300   1302.0       2.0              2.0       0.0   \n",
       "3        1300   1253.0      -7.0              0.0       0.0   \n",
       "4        1300   1244.0     -16.0              0.0       0.0   \n",
       "5        1300   1301.0       1.0              1.0       0.0   \n",
       "\n",
       "   ArrivalDelayGroups ArrTimeBlk  \n",
       "0                -1.0  1000-1059  \n",
       "1                 1.0  1000-1059  \n",
       "2                 0.0  1300-1359  \n",
       "3                -1.0  1300-1359  \n",
       "4                -2.0  1300-1359  \n",
       "5                 0.0  1300-1359  "
      ]
     },
     "execution_count": 22,
     "metadata": {},
     "output_type": "execute_result"
    }
   ],
   "source": [
    "# Sample of the block of data for arrival times\n",
    "ArrFields = ['CRSArrTime', \n",
    "             'ArrTime',\n",
    "             'ArrDelay',\n",
    "             'ArrDelayMinutes',\n",
    "             'ArrDel15',\n",
    "             'ArrivalDelayGroups',\n",
    "             'ArrTimeBlk']\n",
    "flights_2014_1.loc[:5, ArrFields]"
   ]
  },
  {
   "cell_type": "markdown",
   "metadata": {},
   "source": [
    "Two groups of data, for Departure and Arrival times, share the same structure and have similar meanings, differing only in whether they refer to departure or arrival. Therefore, I will group and describe them together. \n",
    "\n",
    "All time data in the dataset is in integer format (HHMM). For further analysis, it would be useful to convert this into the number of minutes from the start of the day\n",
    "\n",
    "29.\t**CRSDepTime  40. CRSArrTime** \n",
    "    * **Description:** CRS Departure/Arrival Time (local time: hhmm)\n",
    "    * **Data type:** float\n",
    "    * **Keep**\n",
    "    * **Comment:** CRS (Computer Reservation System) represents the scuduled time for the flight. I decided to keep this data at this stage becuase it's not clear yet which will be the drivers of the future model - time or categorical time blocks, such as DepTimeBlk or ArrTimeBlk. I suppose to make this decision later. Needs to conver to the number of minutes.\n",
    "30.\t**DepTime  41. ArrTime**  \n",
    "    * **Description:** Actual Departure/Arrival Time (local time: hhmm)\n",
    "    * **Data type:** float\n",
    "    * **Keep**\n",
    "    * **Comment:** Needs to conver to the number of minutes.\n",
    "31.\t**DepDelay  42. ArrDelay**  \n",
    "    * **Description:** Difference in minutes between scheduled and actual departure/arrival time. Early departures/arrival show negative numbers.\n",
    "    * **Data type:** float\n",
    "    * **Keep**\n",
    "32.\t**DepDelayMinutes  43. ArrDelayMinutes**\n",
    "    * **Description:** Difference in minutes between scheduled and actual departure/arrival time. Early departures/arrival set to 0.\n",
    "    * **Drop**\n",
    "    * **Comment:** This data dublicates partially the field DepDelay and ArrDelay with only differency that this data doesnt't show the negative values - departures or arrivals earlier\n",
    "33.\t**DepDel15  44. ArrDel15**\n",
    "    * **Description:** Departure/Arrival Delay Indicator, 15 Minutes or More (1=Yes)\n",
    "    * **Drop**\n",
    "    * **Comment:** This field represents a boolean data indicating wheather or not the flight delayed. We have the same, and even more detailed information, in the fields with the delay in minutes\n",
    "34.\t**DepartureDelayGroups  45. ArrivalDelayGroups**\n",
    "    * **Description:** Departure/Arrival Delay intervals, every (15 minutes from <-15 to >180)\n",
    "    * **Data type:** category\n",
    "    * **Keep**\n",
    "    * **Comment:** This categorical data can be useful for prediction model instead of actual delay time. We have to decide and choose it later.\n",
    "35.\t**DepTimeBlk  46. ArrTimeBlk**\n",
    "    * **Description:** CRS Departure Time Block, Hourly Intervals\n",
    "    * **Data type:** category\n",
    "    * **Keep**\n",
    "    * **Comment:** This categorical data probably will be more usefull for the prediction model comparing to the acrual departure or arrival times in minutes. \n",
    "\n",
    "The following data represents various times and durations for processes that I believe are highly correlated with the data described above. I don’t think this data adds value to the prediction model, so I plan to drop it\n",
    "36.\tTaxiOut: Taxi Out Time, in Minutes  \n",
    "37.\tWheelsOff: Wheels Off Time (local time: hhmm)  \n",
    "38.\tWheelsOn: Wheels On Time (local time: hhmm)  \n",
    "39.\tTaxiIn: Taxi In Time, in Minutes  \n",
    "\n"
   ]
  },
  {
   "cell_type": "markdown",
   "metadata": {},
   "source": [
    "Let’s check the fields that are supposed to be kept for null values and inconsistent data."
   ]
  },
  {
   "cell_type": "code",
   "execution_count": 23,
   "metadata": {},
   "outputs": [
    {
     "data": {
      "text/html": [
       "<div>\n",
       "<style scoped>\n",
       "    .dataframe tbody tr th:only-of-type {\n",
       "        vertical-align: middle;\n",
       "    }\n",
       "\n",
       "    .dataframe tbody tr th {\n",
       "        vertical-align: top;\n",
       "    }\n",
       "\n",
       "    .dataframe thead th {\n",
       "        text-align: right;\n",
       "    }\n",
       "</style>\n",
       "<table border=\"1\" class=\"dataframe\">\n",
       "  <thead>\n",
       "    <tr style=\"text-align: right;\">\n",
       "      <th></th>\n",
       "      <th>CRSDepTime</th>\n",
       "      <th>DepTime</th>\n",
       "      <th>DepDelay</th>\n",
       "      <th>DepDelayMinutes</th>\n",
       "      <th>DepDel15</th>\n",
       "      <th>DepartureDelayGroups</th>\n",
       "    </tr>\n",
       "  </thead>\n",
       "  <tbody>\n",
       "    <tr>\n",
       "      <th>count</th>\n",
       "      <td>471949.000000</td>\n",
       "      <td>441622.000000</td>\n",
       "      <td>441622.000000</td>\n",
       "      <td>441622.000000</td>\n",
       "      <td>441622.000000</td>\n",
       "      <td>441622.000000</td>\n",
       "    </tr>\n",
       "    <tr>\n",
       "      <th>mean</th>\n",
       "      <td>1324.137998</td>\n",
       "      <td>1340.554716</td>\n",
       "      <td>16.049397</td>\n",
       "      <td>18.382259</td>\n",
       "      <td>0.267820</td>\n",
       "      <td>0.468930</td>\n",
       "    </tr>\n",
       "    <tr>\n",
       "      <th>std</th>\n",
       "      <td>459.332673</td>\n",
       "      <td>473.999078</td>\n",
       "      <td>45.539116</td>\n",
       "      <td>44.463942</td>\n",
       "      <td>0.442824</td>\n",
       "      <td>2.503865</td>\n",
       "    </tr>\n",
       "    <tr>\n",
       "      <th>min</th>\n",
       "      <td>5.000000</td>\n",
       "      <td>1.000000</td>\n",
       "      <td>-112.000000</td>\n",
       "      <td>0.000000</td>\n",
       "      <td>0.000000</td>\n",
       "      <td>-2.000000</td>\n",
       "    </tr>\n",
       "    <tr>\n",
       "      <th>25%</th>\n",
       "      <td>930.000000</td>\n",
       "      <td>940.000000</td>\n",
       "      <td>-4.000000</td>\n",
       "      <td>0.000000</td>\n",
       "      <td>0.000000</td>\n",
       "      <td>-1.000000</td>\n",
       "    </tr>\n",
       "    <tr>\n",
       "      <th>50%</th>\n",
       "      <td>1320.000000</td>\n",
       "      <td>1333.000000</td>\n",
       "      <td>0.000000</td>\n",
       "      <td>0.000000</td>\n",
       "      <td>0.000000</td>\n",
       "      <td>0.000000</td>\n",
       "    </tr>\n",
       "    <tr>\n",
       "      <th>75%</th>\n",
       "      <td>1715.000000</td>\n",
       "      <td>1729.000000</td>\n",
       "      <td>17.000000</td>\n",
       "      <td>17.000000</td>\n",
       "      <td>1.000000</td>\n",
       "      <td>1.000000</td>\n",
       "    </tr>\n",
       "    <tr>\n",
       "      <th>max</th>\n",
       "      <td>2359.000000</td>\n",
       "      <td>2400.000000</td>\n",
       "      <td>1560.000000</td>\n",
       "      <td>1560.000000</td>\n",
       "      <td>1.000000</td>\n",
       "      <td>12.000000</td>\n",
       "    </tr>\n",
       "  </tbody>\n",
       "</table>\n",
       "</div>"
      ],
      "text/plain": [
       "          CRSDepTime        DepTime       DepDelay  DepDelayMinutes  \\\n",
       "count  471949.000000  441622.000000  441622.000000    441622.000000   \n",
       "mean     1324.137998    1340.554716      16.049397        18.382259   \n",
       "std       459.332673     473.999078      45.539116        44.463942   \n",
       "min         5.000000       1.000000    -112.000000         0.000000   \n",
       "25%       930.000000     940.000000      -4.000000         0.000000   \n",
       "50%      1320.000000    1333.000000       0.000000         0.000000   \n",
       "75%      1715.000000    1729.000000      17.000000        17.000000   \n",
       "max      2359.000000    2400.000000    1560.000000      1560.000000   \n",
       "\n",
       "            DepDel15  DepartureDelayGroups  \n",
       "count  441622.000000         441622.000000  \n",
       "mean        0.267820              0.468930  \n",
       "std         0.442824              2.503865  \n",
       "min         0.000000             -2.000000  \n",
       "25%         0.000000             -1.000000  \n",
       "50%         0.000000              0.000000  \n",
       "75%         1.000000              1.000000  \n",
       "max         1.000000             12.000000  "
      ]
     },
     "execution_count": 23,
     "metadata": {},
     "output_type": "execute_result"
    }
   ],
   "source": [
    "# Check for values of the Departure block fields\n",
    "flights_2014_1.loc[:, DepFields].describe()"
   ]
  },
  {
   "cell_type": "code",
   "execution_count": 24,
   "metadata": {},
   "outputs": [
    {
     "data": {
      "text/html": [
       "<div>\n",
       "<style scoped>\n",
       "    .dataframe tbody tr th:only-of-type {\n",
       "        vertical-align: middle;\n",
       "    }\n",
       "\n",
       "    .dataframe tbody tr th {\n",
       "        vertical-align: top;\n",
       "    }\n",
       "\n",
       "    .dataframe thead th {\n",
       "        text-align: right;\n",
       "    }\n",
       "</style>\n",
       "<table border=\"1\" class=\"dataframe\">\n",
       "  <thead>\n",
       "    <tr style=\"text-align: right;\">\n",
       "      <th></th>\n",
       "      <th>CRSArrTime</th>\n",
       "      <th>ArrTime</th>\n",
       "      <th>ArrDelay</th>\n",
       "      <th>ArrDelayMinutes</th>\n",
       "      <th>ArrDel15</th>\n",
       "      <th>ArrivalDelayGroups</th>\n",
       "    </tr>\n",
       "  </thead>\n",
       "  <tbody>\n",
       "    <tr>\n",
       "      <th>count</th>\n",
       "      <td>471949.000000</td>\n",
       "      <td>440453.000000</td>\n",
       "      <td>439620.000000</td>\n",
       "      <td>439620.000000</td>\n",
       "      <td>439620.000000</td>\n",
       "      <td>439620.000000</td>\n",
       "    </tr>\n",
       "    <tr>\n",
       "      <th>mean</th>\n",
       "      <td>1510.874029</td>\n",
       "      <td>1501.132577</td>\n",
       "      <td>12.745314</td>\n",
       "      <td>18.775929</td>\n",
       "      <td>0.272949</td>\n",
       "      <td>0.314458</td>\n",
       "    </tr>\n",
       "    <tr>\n",
       "      <th>std</th>\n",
       "      <td>470.669308</td>\n",
       "      <td>496.412439</td>\n",
       "      <td>48.058170</td>\n",
       "      <td>44.886828</td>\n",
       "      <td>0.445476</td>\n",
       "      <td>2.645731</td>\n",
       "    </tr>\n",
       "    <tr>\n",
       "      <th>min</th>\n",
       "      <td>1.000000</td>\n",
       "      <td>1.000000</td>\n",
       "      <td>-112.000000</td>\n",
       "      <td>0.000000</td>\n",
       "      <td>0.000000</td>\n",
       "      <td>-2.000000</td>\n",
       "    </tr>\n",
       "    <tr>\n",
       "      <th>25%</th>\n",
       "      <td>1130.000000</td>\n",
       "      <td>1128.000000</td>\n",
       "      <td>-11.000000</td>\n",
       "      <td>0.000000</td>\n",
       "      <td>0.000000</td>\n",
       "      <td>-1.000000</td>\n",
       "    </tr>\n",
       "    <tr>\n",
       "      <th>50%</th>\n",
       "      <td>1527.000000</td>\n",
       "      <td>1528.000000</td>\n",
       "      <td>-1.000000</td>\n",
       "      <td>0.000000</td>\n",
       "      <td>0.000000</td>\n",
       "      <td>-1.000000</td>\n",
       "    </tr>\n",
       "    <tr>\n",
       "      <th>75%</th>\n",
       "      <td>1910.000000</td>\n",
       "      <td>1915.000000</td>\n",
       "      <td>17.000000</td>\n",
       "      <td>17.000000</td>\n",
       "      <td>1.000000</td>\n",
       "      <td>1.000000</td>\n",
       "    </tr>\n",
       "    <tr>\n",
       "      <th>max</th>\n",
       "      <td>2359.000000</td>\n",
       "      <td>2400.000000</td>\n",
       "      <td>1530.000000</td>\n",
       "      <td>1530.000000</td>\n",
       "      <td>1.000000</td>\n",
       "      <td>12.000000</td>\n",
       "    </tr>\n",
       "  </tbody>\n",
       "</table>\n",
       "</div>"
      ],
      "text/plain": [
       "          CRSArrTime        ArrTime       ArrDelay  ArrDelayMinutes  \\\n",
       "count  471949.000000  440453.000000  439620.000000    439620.000000   \n",
       "mean     1510.874029    1501.132577      12.745314        18.775929   \n",
       "std       470.669308     496.412439      48.058170        44.886828   \n",
       "min         1.000000       1.000000    -112.000000         0.000000   \n",
       "25%      1130.000000    1128.000000     -11.000000         0.000000   \n",
       "50%      1527.000000    1528.000000      -1.000000         0.000000   \n",
       "75%      1910.000000    1915.000000      17.000000        17.000000   \n",
       "max      2359.000000    2400.000000    1530.000000      1530.000000   \n",
       "\n",
       "            ArrDel15  ArrivalDelayGroups  \n",
       "count  439620.000000       439620.000000  \n",
       "mean        0.272949            0.314458  \n",
       "std         0.445476            2.645731  \n",
       "min         0.000000           -2.000000  \n",
       "25%         0.000000           -1.000000  \n",
       "50%         0.000000           -1.000000  \n",
       "75%         1.000000            1.000000  \n",
       "max         1.000000           12.000000  "
      ]
     },
     "execution_count": 24,
     "metadata": {},
     "output_type": "execute_result"
    }
   ],
   "source": [
    "# Check for values of the Arrival block fields\n",
    "flights_2014_1.loc[:, ArrFields].describe()"
   ]
  },
  {
   "cell_type": "code",
   "execution_count": 25,
   "metadata": {},
   "outputs": [
    {
     "data": {
      "text/plain": [
       "CRSDepTime                  0\n",
       "DepTime                 30327\n",
       "DepDelay                30327\n",
       "DepDelayMinutes         30327\n",
       "DepDel15                30327\n",
       "DepartureDelayGroups    30327\n",
       "DepTimeBlk                  0\n",
       "dtype: int64"
      ]
     },
     "execution_count": 25,
     "metadata": {},
     "output_type": "execute_result"
    }
   ],
   "source": [
    "# Check for NA-values in the Departure block fields\n",
    "flights_2014_1.loc[:, DepFields].isna().sum()"
   ]
  },
  {
   "cell_type": "code",
   "execution_count": 26,
   "metadata": {},
   "outputs": [
    {
     "data": {
      "text/plain": [
       "CRSArrTime                0\n",
       "ArrTime               31496\n",
       "ArrDelay              32329\n",
       "ArrDelayMinutes       32329\n",
       "ArrDel15              32329\n",
       "ArrivalDelayGroups    32329\n",
       "ArrTimeBlk                0\n",
       "dtype: int64"
      ]
     },
     "execution_count": 26,
     "metadata": {},
     "output_type": "execute_result"
    }
   ],
   "source": [
    "# Check for NA-values in the Arrival block fields\n",
    "flights_2014_1.loc[:, ArrFields].isna().sum()"
   ]
  },
  {
   "cell_type": "code",
   "execution_count": 27,
   "metadata": {},
   "outputs": [
    {
     "name": "stdout",
     "output_type": "stream",
     "text": [
      "[-1.  0.  1.  2.  6.  4.  3.  5. -2. nan 12.  9. 11.  8. 10.  7.]\n",
      "[-1.  1.  0. -2.  2.  6.  3.  5. nan  7.  4.  8. 12.  9. 10. 11.]\n"
     ]
    }
   ],
   "source": [
    "print(flights_2014_1['DepartureDelayGroups'].unique())\n",
    "print(flights_2014_1['ArrivalDelayGroups'].unique())"
   ]
  },
  {
   "cell_type": "code",
   "execution_count": 28,
   "metadata": {},
   "outputs": [
    {
     "name": "stdout",
     "output_type": "stream",
     "text": [
      "['0001-0559', '0600-0659', '0700-0759', '0800-0859', '0900-0959', '1000-1059', '1100-1159', '1200-1259', '1300-1359', '1400-1459', '1500-1559', '1600-1659', '1700-1759', '1800-1859', '1900-1959', '2000-2059', '2100-2159', '2200-2259', '2300-2359']\n",
      "['0001-0559', '0600-0659', '0700-0759', '0800-0859', '0900-0959', '1000-1059', '1100-1159', '1200-1259', '1300-1359', '1400-1459', '1500-1559', '1600-1659', '1700-1759', '1800-1859', '1900-1959', '2000-2059', '2100-2159', '2200-2259', '2300-2359']\n"
     ]
    }
   ],
   "source": [
    "print(sorted(flights_2014_1['DepTimeBlk'].unique()))\n",
    "print(sorted(flights_2014_1['ArrTimeBlk'].unique()))"
   ]
  },
  {
   "cell_type": "markdown",
   "metadata": {},
   "source": [
    "#### Problems to Analyze and Solve:\n",
    "\n",
    "1.\t**DepTime** and **ArrTime** contain time values of ‘2400’ (while the corresponding CRS times only go up to 2359). These need to be converted to 00:00 of the next day.\n",
    "2.\tThe time values in HHMM format should be converted into the number of minutes from the start of the day.\n",
    "3.\t**DepTime** has the same number of missing values (NA) as DepDelay, but **ArrTime** and **ArrDelay** have different numbers of NA values compared to **DepTime** and **DepDelay**. This discrepancy might be related to canceled or diverted flights and needs further investigation.\n",
    "4.\tDelay Groups (Arrival and Departure) contain NaN values, which also need to be examined."
   ]
  },
  {
   "cell_type": "code",
   "execution_count": 29,
   "metadata": {},
   "outputs": [
    {
     "name": "stdout",
     "output_type": "stream",
     "text": [
      "The Cancelled field has only these values: [False  True]\n",
      "In this dataset there are 30852 cancelled flights in total\n",
      "Among 30327 flights with NA DepTime there are 30327 cancelled flights\n"
     ]
    }
   ],
   "source": [
    "# Test that all flight wtth NA Departure Time (DepTime) were cancelled\n",
    "print('The Cancelled field has only these values:', flights_2014_1['Cancelled'].unique())\n",
    "print('In this dataset there are', int(flights_2014_1['Cancelled'].sum()), 'cancelled flights in total')\n",
    "print('Among', flights_2014_1.DepTime.isna().sum(), 'flights with NA DepTime there are', \n",
    "      flights_2014_1[flights_2014_1.DepTime.isna()]['Cancelled'].count(),'cancelled flights')"
   ]
  },
  {
   "cell_type": "markdown",
   "metadata": {},
   "source": [
    "Okay, we see that all NA values in the **DepTime** field are explained by flight cancellations. However, there’s something interesting: the total number of canceled flights is higher than the number of NA values in the **DepTime** field. Does this mean that some flights were canceled but still have a recorded departure time? Let’s take a closer look"
   ]
  },
  {
   "cell_type": "code",
   "execution_count": 30,
   "metadata": {},
   "outputs": [
    {
     "data": {
      "text/plain": [
       "Cancelled    30852\n",
       "Diverted      1477\n",
       "dtype: int64"
      ]
     },
     "execution_count": 30,
     "metadata": {},
     "output_type": "execute_result"
    }
   ],
   "source": [
    "# How many Cancelled and Diverted flight are there in total?\n",
    "flights_2014_1[['Cancelled', 'Diverted']].agg('sum')"
   ]
  },
  {
   "cell_type": "code",
   "execution_count": 31,
   "metadata": {},
   "outputs": [
    {
     "data": {
      "text/html": [
       "<div>\n",
       "<style scoped>\n",
       "    .dataframe tbody tr th:only-of-type {\n",
       "        vertical-align: middle;\n",
       "    }\n",
       "\n",
       "    .dataframe tbody tr th {\n",
       "        vertical-align: top;\n",
       "    }\n",
       "\n",
       "    .dataframe thead th {\n",
       "        text-align: right;\n",
       "    }\n",
       "</style>\n",
       "<table border=\"1\" class=\"dataframe\">\n",
       "  <thead>\n",
       "    <tr style=\"text-align: right;\">\n",
       "      <th></th>\n",
       "      <th>Cancelled</th>\n",
       "      <th>Diverted</th>\n",
       "    </tr>\n",
       "    <tr>\n",
       "      <th>DepTime</th>\n",
       "      <th></th>\n",
       "      <th></th>\n",
       "    </tr>\n",
       "  </thead>\n",
       "  <tbody>\n",
       "    <tr>\n",
       "      <th>False</th>\n",
       "      <td>30327</td>\n",
       "      <td>0</td>\n",
       "    </tr>\n",
       "    <tr>\n",
       "      <th>True</th>\n",
       "      <td>525</td>\n",
       "      <td>1477</td>\n",
       "    </tr>\n",
       "  </tbody>\n",
       "</table>\n",
       "</div>"
      ],
      "text/plain": [
       "         Cancelled  Diverted\n",
       "DepTime                     \n",
       "False        30327         0\n",
       "True           525      1477"
      ]
     },
     "execution_count": 31,
     "metadata": {},
     "output_type": "execute_result"
    }
   ],
   "source": [
    "# What is a split of flights with/NA Departure Time vs. Cancelled and Diverted flights \n",
    "flights_2014_1.groupby(~flights_2014_1['DepTime'].isna())[['Cancelled', 'Diverted']].agg('sum')"
   ]
  },
  {
   "cell_type": "markdown",
   "metadata": {},
   "source": [
    "We see that 525 flights have a recorded departure time but were canceled."
   ]
  },
  {
   "cell_type": "code",
   "execution_count": 32,
   "metadata": {},
   "outputs": [
    {
     "name": "stdout",
     "output_type": "stream",
     "text": [
      "Are all flights depatured but were cancelled have NA as AirTime? True\n"
     ]
    }
   ],
   "source": [
    "# Check all cancelled flight with existing departure time don't have Time in Air (flight time)\n",
    "departured_cancelled_flights = (~flights_2014_1['DepTime'].isna()) & (flights_2014_1['Cancelled'] == 1)\n",
    "print('Are all flights depatured but were cancelled have NA as AirTime?',\n",
    "      flights_2014_1[departured_cancelled_flights]['AirTime'].isna().all())"
   ]
  },
  {
   "cell_type": "markdown",
   "metadata": {},
   "source": [
    "So, all flights that departed but were canceled never actually took off (as they don’t have AirTime). I can conclude that they left the gate but were canceled before takeoff and returned to the gate."
   ]
  },
  {
   "cell_type": "code",
   "execution_count": 33,
   "metadata": {},
   "outputs": [
    {
     "name": "stdout",
     "output_type": "stream",
     "text": [
      "Number of NA_values in DepartureDelayGoups: 30327\n",
      "Are all cancelled prior departure flights have NA-value in DepartureDelayGroups? True\n"
     ]
    }
   ],
   "source": [
    "# Investigating which flights have NA DepartureDelayGroups\n",
    "NA_DepDelay_group = flights_2014_1['DepartureDelayGroups'].isna()\n",
    "print('Number of NA_values in DepartureDelayGoups:', NA_DepDelay_group.sum())\n",
    "\n",
    "cancelled_before_depurture = flights_2014_1['DepTime'].isna() & (flights_2014_1['Cancelled'] == 1)\n",
    "print('Are all cancelled prior departure flights have NA-value in DepartureDelayGroups?',\n",
    "      flights_2014_1[cancelled_before_depurture]['DepartureDelayGroups'].isna().all())"
   ]
  },
  {
   "cell_type": "markdown",
   "metadata": {},
   "source": [
    "Conclusions:\n",
    "\n",
    "1.\tFlights that have departed can still be canceled after departure (without taking off being returned to the gate) or diverted to a different destination.\n",
    "2.\tAll flights with NA values in the actual Departure Time (‘DepTime’ field) were canceled and also have NA values in the DepartureDelayGroups."
   ]
  },
  {
   "cell_type": "markdown",
   "metadata": {},
   "source": [
    "Let’s examine the Arrival times in more detail."
   ]
  },
  {
   "cell_type": "code",
   "execution_count": 34,
   "metadata": {},
   "outputs": [
    {
     "data": {
      "text/html": [
       "<div>\n",
       "<style scoped>\n",
       "    .dataframe tbody tr th:only-of-type {\n",
       "        vertical-align: middle;\n",
       "    }\n",
       "\n",
       "    .dataframe tbody tr th {\n",
       "        vertical-align: top;\n",
       "    }\n",
       "\n",
       "    .dataframe thead th {\n",
       "        text-align: right;\n",
       "    }\n",
       "</style>\n",
       "<table border=\"1\" class=\"dataframe\">\n",
       "  <thead>\n",
       "    <tr style=\"text-align: right;\">\n",
       "      <th></th>\n",
       "      <th>Cancelled</th>\n",
       "      <th>Diverted</th>\n",
       "    </tr>\n",
       "    <tr>\n",
       "      <th>ArrTime</th>\n",
       "      <th></th>\n",
       "      <th></th>\n",
       "    </tr>\n",
       "  </thead>\n",
       "  <tbody>\n",
       "    <tr>\n",
       "      <th>False</th>\n",
       "      <td>30852</td>\n",
       "      <td>644</td>\n",
       "    </tr>\n",
       "    <tr>\n",
       "      <th>True</th>\n",
       "      <td>0</td>\n",
       "      <td>833</td>\n",
       "    </tr>\n",
       "  </tbody>\n",
       "</table>\n",
       "</div>"
      ],
      "text/plain": [
       "         Cancelled  Diverted\n",
       "ArrTime                     \n",
       "False        30852       644\n",
       "True             0       833"
      ]
     },
     "execution_count": 34,
     "metadata": {},
     "output_type": "execute_result"
    }
   ],
   "source": [
    "# What is a split of flights with/NA Arrival Time vs. Cancelled and Diverted flights \n",
    "flights_2014_1.groupby(~flights_2014_1['ArrTime'].isna())[['Cancelled', 'Diverted']].agg('sum')"
   ]
  },
  {
   "cell_type": "markdown",
   "metadata": {},
   "source": [
    "In this split, it’s interesting to note that some diverted flights (which were directed to other airports) still have an Arrival time. What does this Arrival time indicate? Is it the arrival time at the destination airport or the airport where the flight was diverted? Let’s examine this question using the 'DivReachedDest' field, which indicates whether the flights reached their destination after being diverted."
   ]
  },
  {
   "cell_type": "code",
   "execution_count": 35,
   "metadata": {},
   "outputs": [
    {
     "name": "stdout",
     "output_type": "stream",
     "text": [
      "Number of diverted flights that have ArrTime 833\n",
      "Number of diverted flights reached their initial destination 833\n",
      "Are all these the same flitghts? True\n"
     ]
    }
   ],
   "source": [
    "# Check the numbers from diverted flights' split over w/NA ArrTime \n",
    "diverted_but_arrived = (~flights_2014_1['ArrTime'].isna()) & (flights_2014_1['Diverted'] == 1)\n",
    "print('Number of diverted flights that have ArrTime', \n",
    "      flights_2014_1[diverted_but_arrived]['Flight_Number_Reporting_Airline'].count())\n",
    "print('Number of diverted flights reached their initial destination', \n",
    "      flights_2014_1['DivReachedDest'].sum())\n",
    "print('Are all these the same flitghts?',\n",
    "      flights_2014_1[diverted_but_arrived]['DivReachedDest'].sum() == flights_2014_1['DivReachedDest'].sum())"
   ]
  },
  {
   "cell_type": "markdown",
   "metadata": {},
   "source": [
    "So, yes, all diverted flights that ultimately reached their initial destination have an Arrival time.\n",
    "\n",
    "1.\tAll flights with an actual Arrival Time (‘ArrTime’) either flew directly from the Origin to the Destination or were diverted but eventually reached the Destination.\n",
    "2.\tAll flights with NA in the ArrTime were either canceled or diverted and landed at a different airport (not the Destination airport).\\"
   ]
  },
  {
   "cell_type": "code",
   "execution_count": 36,
   "metadata": {},
   "outputs": [
    {
     "name": "stdout",
     "output_type": "stream",
     "text": [
      "The number of flights with NA value in ArrivalDelayGroups 32329\n",
      "Are all flights with NA value ArrivalDelayGroups were canceled or diverted? True\n"
     ]
    }
   ],
   "source": [
    "# Investigating which flights have NA ArrivalDelayGroups\n",
    "NA_ArrivalDelay_groups = flights_2014_1['ArrivalDelayGroups'].isna()\n",
    "flight_cancelled_OR_diverted = (flights_2014_1['Cancelled'] == 1) | (flights_2014_1['Diverted'] == 1)\n",
    "print('The number of flights with NA value in ArrivalDelayGroups', NA_ArrivalDelay_groups.sum())\n",
    "print('Are all flights with NA value ArrivalDelayGroups were canceled or diverted?',\n",
    "      flights_2014_1[NA_ArrivalDelay_groups & flight_cancelled_OR_diverted]['Flight_Number_Reporting_Airline'].count() ==\n",
    "      flights_2014_1[NA_ArrivalDelay_groups]['Flight_Number_Reporting_Airline'].count())"
   ]
  },
  {
   "cell_type": "markdown",
   "metadata": {},
   "source": [
    "All Diverted or Cancelled flights have NA-value ArrivalDelayGroup"
   ]
  },
  {
   "cell_type": "markdown",
   "metadata": {},
   "source": [
    "### Flight Status and Reasons for Delay  \n",
    "\n",
    "I plan to keep all following fields because they contain information that can be useful for interpreting the departure and arrival time fields and for calculating the actual elapsed time, respectively:\n",
    "\n",
    "47.\t**Cancelled**\n",
    "    * **Description:** Cancelled Flight Indicator (1=Yes)  \n",
    "    * **Data type:** boolean\n",
    "    * **Keep**\n",
    "\n",
    "48.\t**CancellationCode**\n",
    "    * **Description:** Specifies The Reason For Cancellation\n",
    "    * **Data type:**  category\n",
    "    * **Keep**\n",
    "\n",
    "49.\t**Diverted**\n",
    "    * **Description:** Diverted Flight Indicator (1=Yes)  \n",
    "    * **Data type:** boolean\n",
    "    * **Keep**\n",
    "    \n",
    "\n",
    "Next fileds I suppose to keep to analyse the correclation between these reasons for delay with specific airlines, airport or states:\n",
    "\n",
    "56.\t**CarrierDelay**\n",
    "    * **Description**: Carrier Delay, in Minutes  \n",
    "    * **Data type:** float\n",
    "    * **Keep**\n",
    "\n",
    "57.\t**WeatherDelay**  \n",
    "    * **Description**: Weather Delay, in Minutes  \n",
    "    * **Data type:** float\n",
    "    * **Keep**\n",
    "\n",
    "58.\t**NASDelay** \n",
    "    * **Description**: National Air System Delay, in Minutes  \n",
    "    * **Data type:** float\n",
    "    * **Keep**\n",
    "\n",
    "59.\t**SecurityDelay**  \n",
    "    * **Description**: Security Delay, in Minutes  \n",
    "    * **Data type:** float\n",
    "    * **Keep**\n",
    "\n",
    "60.\t**LateAircraftDelay**\n",
    "    * **Description**: Late Aircraft Delay, in Minutes  \n",
    "    * **Data type:** float\n",
    "    * **Keep**"
   ]
  },
  {
   "cell_type": "code",
   "execution_count": 37,
   "metadata": {},
   "outputs": [
    {
     "name": "stdout",
     "output_type": "stream",
     "text": [
      "       Cancelled CancellationCode Diverted\n",
      "count     471949            30852   471949\n",
      "unique         2                3        2\n",
      "top        False                B    False\n",
      "freq      441097            19108   470472\n",
      "\n",
      "Cancelled                0\n",
      "CancellationCode    441097\n",
      "Diverted                 0\n",
      "dtype: int64\n"
     ]
    }
   ],
   "source": [
    "# Discovering the values and NA-values\n",
    "flight_status_fields = ['Cancelled',\n",
    "                        'CancellationCode',\n",
    "                        'Diverted']\n",
    "print(flights_2014_1[flight_status_fields].describe())\n",
    "print()\n",
    "print(flights_2014_1[flight_status_fields].isna().sum())"
   ]
  },
  {
   "cell_type": "code",
   "execution_count": 38,
   "metadata": {},
   "outputs": [
    {
     "data": {
      "text/plain": [
       "array([nan, 'B', 'A', 'C'], dtype=object)"
      ]
     },
     "execution_count": 38,
     "metadata": {},
     "output_type": "execute_result"
    }
   ],
   "source": [
    "# Which values does the Cancellatino Code field have?\n",
    "flights_2014_1['CancellationCode'].unique()"
   ]
  },
  {
   "cell_type": "code",
   "execution_count": 39,
   "metadata": {},
   "outputs": [
    {
     "name": "stdout",
     "output_type": "stream",
     "text": [
      "Cancelled  Diverted\n",
      "False      False           0\n",
      "           True            0\n",
      "True       False       30852\n",
      "Name: CancellationCode, dtype: int64\n",
      "\n",
      "Number of recortds (flights) with absent Cancellation Code but still were cancelled: 0\n"
     ]
    }
   ],
   "source": [
    "# Examining the presence of Cancellation Codes for all Cancelled flights\n",
    "print(flights_2014_1.groupby(['Cancelled', 'Diverted'])['CancellationCode'].agg('count'))\n",
    "no_cancellation_code = flights_2014_1['CancellationCode'].isna()\n",
    "print('\\nNumber of recortds (flights) with absent Cancellation Code but still were cancelled:',\n",
    "      len(flights_2014_1[no_cancellation_code & ('Cancelled' == 0)]))"
   ]
  },
  {
   "cell_type": "markdown",
   "metadata": {},
   "source": [
    "The conclusion is that the data represented in the Flight Status and Cancellation Code fields is accurate and comprehensive."
   ]
  },
  {
   "cell_type": "markdown",
   "metadata": {},
   "source": [
    "### Elapsed time  \n",
    "\n",
    "The scheduled and actual Elapsed Time data are the primary indicators for assessing the accuracy of the dataset. This is why it is important to retain this data, at least in the initial stage. AirTime is also valuable, as it helps identify flights that were canceled after departure, as we have already noted.\n",
    "\n",
    "50.\t**CRSElapsedTime**\n",
    "    * **Description:** CRS Elapsed Time of Flight, in Minutes  \n",
    "    * **Data type:** float\n",
    "    * **Keep**\n",
    "\n",
    "51.\t**ActualElapsedTime**  \n",
    "    * **Description:** Elapsed Time of Flight, in Minutes  \n",
    "    * **Data type:** float\n",
    "    * **Keep**\n",
    "\n",
    "52.\t**AirTime:**  \n",
    "    * **Description:** Flight Time, in Minutes  \n",
    "    * **Data type:** float\n",
    "    * **Keep**\n",
    "\n",
    "\n",
    "The following data can be dropped because it is seemed irrelevant or can be obtaing from another fields:  \n",
    "\n",
    "53.\t**Flights**  \n",
    "    * **Description:** Number of Flights  \n",
    "    * **Drop**  \n",
    "\n",
    "54.\t**Distance**  \n",
    "    * **Description:** Distance between airports (miles)  \n",
    "    * **Drop**  \n",
    "\n",
    "55.\t**DistanceGroup**\n",
    "    * **Description:**  Distance Intervals, every 250 Miles, for Flight Segment  \n",
    "    * **Drop**\n",
    " \n",
    "61.\t**FirstDepTime**  \n",
    "    * **Description:** First Gate Departure Time at Origin Airport  \n",
    "    * **Drop**\n",
    "\n",
    "62.\t**TotalAddGTime**  \n",
    "    * **Description:** Total Ground Time Away from Gate for Gate Return or Cancelled Flight  \n",
    "    * **Drop**\n",
    "\n",
    "63.\t**LongestAddGTime**  \n",
    "    * **Description:** Longest Time Away from Gate for Gate Return or Cancelled Flight  \n",
    "    * **Drop**\n",
    "\n",
    "64.\t**DivAirportLandings**\n",
    "    * **Description:** Number of Diverted Airport Landings  \n",
    "    * **Drop**\n",
    "\n",
    "As we already know, the next fields can be useful in evaluation of an acrual elapsed time when the flight was diverted, so we need to keep them:  \n",
    "\n",
    "65.\t**DivReachedDest**  \n",
    "    * **Description:** Diverted Flight Reaching Scheduled Destination Indicator (1=Yes)  \n",
    "    * **Data type:** boolean\n",
    "    * **Keep**\n",
    "\n",
    "66.\t**DivActualElapsedTime**\n",
    "    * **Description:** Elapsed Time of Diverted Flight Reaching Scheduled Destination, in Minutes. The ActualElapsedTime column remains NULL for all diverted flights.  \n",
    "    * **Data type:** float\n",
    "    * **Keep**\n",
    "\n",
    "67.\t**DivArrDelay**  \n",
    "    * **Description:** Difference in minutes between scheduled and actual arrival time for a diverted flight reaching scheduled destination. The ArrDelay column remains NULL for all diverted flights.  \n",
    "    * **Data Type:** float\n",
    "    * **Keep**\n",
    "\n",
    "The distance beetween the scheduled destination and final diverted airport in miles is unimportant for the purposed model because if the flight landed in different location, it is reasonable for the purpose of model consider this fliaght as not arrived to the distanation.\n",
    "\n",
    "68.\t**DivDistance**\n",
    "    * **Description:** Distance between scheduled destination and final diverted airport (miles). Value will be 0 for diverted flight reaching scheduled destination.  \n",
    "    * **Drop**"
   ]
  },
  {
   "cell_type": "code",
   "execution_count": 40,
   "metadata": {},
   "outputs": [
    {
     "name": "stdout",
     "output_type": "stream",
     "text": [
      "       CRSElapsedTime  ActualElapsedTime        AirTime\n",
      "count   471949.000000      439620.000000  439620.000000\n",
      "mean       137.400615         135.086875     111.636413\n",
      "std         74.130674          74.329305      72.117051\n",
      "min         19.000000          16.000000       7.000000\n",
      "25%         85.000000          80.000000      59.000000\n",
      "50%        118.000000         116.000000      92.000000\n",
      "75%        170.000000         168.000000     142.000000\n",
      "max        670.000000         764.000000     688.000000\n",
      "CRSElapsedTime           0\n",
      "ActualElapsedTime    32329\n",
      "AirTime              32329\n",
      "dtype: int64\n"
     ]
    }
   ],
   "source": [
    "# Checking for possible and NA values for Elapsed time data block\n",
    "elapsed_time_fields = ['CRSElapsedTime',\n",
    "                       'ActualElapsedTime',\n",
    "                       'AirTime']\n",
    "print(flights_2014_1[elapsed_time_fields].describe())\n",
    "print(flights_2014_1[elapsed_time_fields].isna().sum())"
   ]
  },
  {
   "cell_type": "code",
   "execution_count": 41,
   "metadata": {},
   "outputs": [
    {
     "name": "stdout",
     "output_type": "stream",
     "text": [
      "       DivActualElapsedTime  DivArrDelay\n",
      "count            833.000000   833.000000\n",
      "mean             364.955582   228.453782\n",
      "std              195.155613   183.260456\n",
      "min               90.000000     9.000000\n",
      "25%              250.000000   129.000000\n",
      "50%              313.000000   178.000000\n",
      "75%              417.000000   251.000000\n",
      "max             1968.000000  1651.000000\n",
      "\n",
      "DivReachedDest               0\n",
      "DivActualElapsedTime    471116\n",
      "DivArrDelay             471116\n",
      "dtype: int64\n"
     ]
    }
   ],
   "source": [
    "# Checking for possible and NA values for Diverted flights data block\n",
    "diverted_flights_fields = ['DivReachedDest',\n",
    "                       'DivActualElapsedTime',\n",
    "                       'DivArrDelay']\n",
    "print(flights_2014_1[diverted_flights_fields].describe())\n",
    "print()\n",
    "print(flights_2014_1[diverted_flights_fields].isna().sum())"
   ]
  },
  {
   "cell_type": "markdown",
   "metadata": {},
   "source": [
    "### Another information about diverted flights\n",
    "\n",
    "The rest of the dataset contains 5 equal blocks for five airports where the flight can be diverted consiquently. Each block contains:\n",
    "* Diverted Airport Code, Airport ID of Diverted Airport,  \n",
    "* Airport Sequence ID of Diverted Airport,  \n",
    "* Wheels On Time (local time: hhmm) at Diverted Airport Code,  \n",
    "* Total Ground Time Away from Gate at Diverted Airport Code,  \n",
    "* Longest Ground Time Away from Gate at Diverted Airport Code,  \n",
    "* Wheels Off Time (local time: hhmm) at Diverted Airport Code,  \n",
    "* Aircraft Tail Number for Diverted Airport Code\n",
    "\n",
    "All this information is not rellevant to the project and I plan to drop it."
   ]
  },
  {
   "cell_type": "markdown",
   "metadata": {},
   "source": [
    "### Conclusion About Data Structure and Quality:\n",
    "\n",
    "1.\tThe data needed for the project has been selected.\n",
    "2.\tThe proposed data type for each field has been determined.\n",
    "3.\tThe quality of the data is good. The information represented in the dataset is mostly comprehensive, but I will examine it in more detail in the next section.\n",
    "4.\tThe logic regarding canceled and diverted flights, as well as the implications for actual departure and arrival times, time delays, and elapsed times, has been identified and documented.\n",
    "5.\tDuring the data transformation stage, I need to change the data types for the selected fields in the model and address the ‘time-2400’ issue.\n",
    "6.\tI plan to use delay times as a predictive variable in the model. I will not rely on the provided delay times and will calculate them directly by subtracting the actual arrival time from the scheduled arrival time. To ensure the accuracy of these times, I will conduct an extensive check in the following sections by comparing them with elapsed times."
   ]
  }
 ],
 "metadata": {
  "kernelspec": {
   "display_name": "springboard",
   "language": "python",
   "name": "python3"
  },
  "language_info": {
   "codemirror_mode": {
    "name": "ipython",
    "version": 3
   },
   "file_extension": ".py",
   "mimetype": "text/x-python",
   "name": "python",
   "nbconvert_exporter": "python",
   "pygments_lexer": "ipython3",
   "version": "3.12.7"
  }
 },
 "nbformat": 4,
 "nbformat_minor": 2
}
