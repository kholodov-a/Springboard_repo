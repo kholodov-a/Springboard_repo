{
 "cells": [
  {
   "cell_type": "markdown",
   "metadata": {},
   "source": [
    "# Data Collection\n",
    "\n",
    "The original dataset, US Domestic Flights Delay Prediction (2013 - 2018) (Source: [Kaggle](https://www.kaggle.com/datasets/gabrielluizone/us-domestic-flights-delay-prediction-2013-2018)), is provided as a zip archive of 1.54 GB. When decompressed, the archive contains 60 files with a total size of 13.6 GB. Each file corresponds to one month of data, starting from January 2014 and ending in December 2018.\n",
    "\n",
    "Steps for collecting and cleaning the data:\n",
    "\n",
    "*\tLoading the first file\n",
    "*\tEvaluating the data’s size and quality\n",
    "*\tDefining the specific data needed for the project\n",
    "*\tDeveloping a process for data organization and cleaning\n",
    "*\tTesting the code on one month’s data file\n",
    "*\tApplying the code to all files\n",
    "*\tAccumulating the complete dataset\n",
    "\n",
    "\n",
    "The archive file (csv_flight.zip) was downloaded and saved locally."
   ]
  },
  {
   "cell_type": "markdown",
   "metadata": {},
   "source": [
    "## Loading the first file"
   ]
  },
  {
   "cell_type": "code",
   "execution_count": 1,
   "metadata": {},
   "outputs": [],
   "source": [
    "import zipfile\n",
    "import pandas as pd\n",
    "import os\n",
    "import seaborn as sns\n",
    "import matplotlib.pyplot as plt\n",
    "import numpy as np\n",
    "import datetime\n",
    "from dateutil import tz\n",
    "from time import time\n",
    "import pickle\n",
    "import scipy.stats as st\n",
    "\n",
    "os.chdir('/Users/a.kholodov/Documents/02. Personal/20. Education/50. Universities/Springboard/Springboard_git/Springboard _repo/CS2-flights-delay-REPO')\n",
    "\n",
    "# pd.set_option('display.max_rows', 130)\n",
    "# pd.set_option('display.width', 200)\n",
    "\n",
    "# Loading timezones for IATA codes of airports\n",
    "IATAtz_df = pd.read_csv('https://raw.githubusercontent.com/hroptatyr/dateutils/tzmaps/iata.tzmap', \n",
    "                        sep = '\\t', \n",
    "                        index_col=0, \n",
    "                        header=None)\n",
    "\n",
    "# Dictionary with IATA codes as keys and timezones as values\n",
    "IATAtz = IATAtz_df.to_dict('dict')[1]\n",
    "del(IATAtz_df)\n",
    "\n",
    "# List of dates of start/end of DST\n",
    "DST = pd.to_datetime(['2014-03-09', '2014-11-02', '2015-03-08', '2015-11-01', \n",
    "       '2016-03-13', '2016-11-06', '2017-03-12', '2017-11-05', \n",
    "       '2018-03-11', '2018-11-04'])\n"
   ]
  },
  {
   "cell_type": "code",
   "execution_count": null,
   "metadata": {},
   "outputs": [],
   "source": [
    "source_zip_file = 'data/interim/csv_flight.zip'\n",
    "data_file = 'csv_flight/report_2014_1.csv'\n",
    "\n",
    "# reading the first file to evaluate the data\n",
    "with zipfile.ZipFile(source_zip_file) as zip_source:\n",
    "    with zip_source.open(data_file) as data_file:\n",
    "        flights_2014_1 = pd.read_csv(data_file, low_memory=False)"
   ]
  },
  {
   "cell_type": "markdown",
   "metadata": {},
   "source": [
    "## Data size"
   ]
  },
  {
   "cell_type": "code",
   "execution_count": null,
   "metadata": {},
   "outputs": [],
   "source": [
    "print(flights_2014_1.shape)\n",
    "print(flights_2014_1.info())"
   ]
  },
  {
   "cell_type": "markdown",
   "metadata": {},
   "source": [
    "The data for one month contains 471,949 rows and 110 columns, with a total memory size of 396 MB. The estimated size of the entire dataset, without reorganization or cleaning, may exceed 23 GB, which could be challenging to process locally. Therefore, one of the goals of data preparation will be to reduce the dataset size without compromising quality."
   ]
  },
  {
   "cell_type": "markdown",
   "metadata": {},
   "source": [
    "## Data structure and check\n",
    "### Date of the flight"
   ]
  },
  {
   "cell_type": "code",
   "execution_count": null,
   "metadata": {},
   "outputs": [],
   "source": [
    "flights_2014_1.iloc[:,:6].head()"
   ]
  },
  {
   "cell_type": "markdown",
   "metadata": {},
   "source": [
    "0. **Year**\n",
    "    * **Description:** Year\n",
    "    * **Data type:** int16\n",
    "    * **Drop**\n",
    "    * **Comment:** We have a flight date which includes this data\n",
    "\n",
    "1. **Quarter**  \n",
    "    * **Description:** Quarter (1-4)  \n",
    "    * **Data type:** int8\n",
    "    * **Drop**\n",
    "    * **Comment:** We have a flight date which includes this data\n",
    "\n",
    "2. **Month**  \n",
    "    * **Description:** Month (1-12)  \n",
    "    * **Data type:** int8\n",
    "    * **Drop**\n",
    "    * **Comment:** We have a flight date which includes this data\n",
    "\n",
    "3. **DayofMonth**  \n",
    "    * **Description:** Day of month  \n",
    "    * **Data type:** int8\n",
    "    * **Drop**\n",
    "    * **Comment:** We have a flight date which includes this data\n",
    "\n",
    "4. **DayOfWeek**  \n",
    "    * **Description:** Day of week  \n",
    "    * **Data type:** int8\n",
    "    * **Drop**\n",
    "    * **Comment:** We have a flight date which includes this data\n",
    "\n",
    "5. **FlightDate**  \n",
    "    * **Description:** Flight Date (yyyymmdd)\n",
    "    * **Data type:** datetime\n",
    "    * **Keep**"
   ]
  },
  {
   "cell_type": "markdown",
   "metadata": {},
   "source": [
    "Values check for Date of the flight: the data accurate, there is no outliers or NA."
   ]
  },
  {
   "cell_type": "code",
   "execution_count": null,
   "metadata": {},
   "outputs": [],
   "source": [
    "flights_2014_1['FlightDate'].describe()"
   ]
  },
  {
   "cell_type": "code",
   "execution_count": null,
   "metadata": {},
   "outputs": [],
   "source": [
    "flights_2014_1['FlightDate'].value_counts()"
   ]
  },
  {
   "cell_type": "markdown",
   "metadata": {},
   "source": [
    "But we need to change the data type during the data transformation from current type to datetime."
   ]
  },
  {
   "cell_type": "code",
   "execution_count": null,
   "metadata": {},
   "outputs": [],
   "source": [
    "flights_2014_1['FlightDate'].info()"
   ]
  },
  {
   "cell_type": "code",
   "execution_count": null,
   "metadata": {},
   "outputs": [],
   "source": [
    "flights_2014_1['FlightDate'].isna().sum()"
   ]
  },
  {
   "cell_type": "markdown",
   "metadata": {},
   "source": [
    "###  Airline's and flight's details "
   ]
  },
  {
   "cell_type": "code",
   "execution_count": null,
   "metadata": {},
   "outputs": [],
   "source": [
    "flights_2014_1.iloc[:, 6:10].head()"
   ]
  },
  {
   "cell_type": "markdown",
   "metadata": {},
   "source": [
    "\n",
    "6. **Reporting_Airline**\n",
    "    * **Description:**  Unique Carrier Code. When the same code has been used by multiple carriers, a numeric suffix is used for earlier users, for example, PA, PA(1), PA(2). Use this field for analysis across a range of years. \n",
    "    * **Data type:** category \n",
    "    * **Keep**\n",
    "    * **Comment:** I decided to keep this field and drop DOT_ID_Reporting_Airline and IATA_CODE_Reporting_Airline because it is declared as unique and recomended by data provider as such | \n",
    "\n",
    "7. **DOT_ID_Reporting_Airline**\n",
    "    * **Description** An identification number assigned by US DOT to identify a unique airline (carrier). A unique airline (carrier) is defined as one holding and reporting under the same DOT certificate regardless of its Code, Name, or holding company/corporation.\n",
    "    * **Drop**\n",
    "    * **Comment:** Not unique\n",
    "    \n",
    "8. **IATA_CODE_Reporting_Airline**\n",
    "    * **Description:** Code assigned by IATA and commonly used to identify a carrier. As the same code may have been assigned to different carriers over time, the code is not always unique. For analysis, use the Unique Carrier Code.\n",
    "    * **Drop**\n",
    "    * **Comment:** Not unique\n",
    "\n",
    "9. **Tail_Number**\n",
    "    * **Description:** Tail Number\n",
    "    * **Drop**\n",
    "    * **Comment:** Irrelevant to the purposes of the project\n",
    "\n",
    "10. **Flight_Number_Reporting_Airline**\n",
    "    * **Description:** Flight Number\n",
    "    * **Data type:** int16\n",
    "    * **Keep**\n",
    "    * **Comment:** Unique number of the flight at a specific day/time"
   ]
  },
  {
   "cell_type": "code",
   "execution_count": null,
   "metadata": {},
   "outputs": [],
   "source": [
    "flights_2014_1.iloc[:, 6].unique()"
   ]
  },
  {
   "cell_type": "code",
   "execution_count": null,
   "metadata": {},
   "outputs": [],
   "source": [
    "flights_2014_1['Flight_Number_Reporting_Airline'].describe()"
   ]
  },
  {
   "cell_type": "code",
   "execution_count": null,
   "metadata": {},
   "outputs": [],
   "source": [
    "flights_2014_1[['Reporting_Airline', 'Flight_Number_Reporting_Airline']].info()"
   ]
  },
  {
   "cell_type": "code",
   "execution_count": null,
   "metadata": {},
   "outputs": [],
   "source": [
    "flights_2014_1[['Reporting_Airline', 'Flight_Number_Reporting_Airline']].isna().sum()"
   ]
  },
  {
   "cell_type": "markdown",
   "metadata": {},
   "source": [
    "The data in the fields Reporting_Airline and Flight_Number_Reporting_Airline is accurate, there is no outliers or NA, But I need to change the data type during the data transformation."
   ]
  },
  {
   "cell_type": "markdown",
   "metadata": {},
   "source": [
    "###  Origin and Destination detailes"
   ]
  },
  {
   "cell_type": "code",
   "execution_count": null,
   "metadata": {},
   "outputs": [],
   "source": [
    "DestFields = ['DestAirportID', \n",
    "                'DestAirportSeqID', \n",
    "                'DestCityMarketID',\n",
    "                'Dest',\n",
    "                'DestCityName',\n",
    "                'DestState',\n",
    "                'DestStateFips',\n",
    "                'DestStateName',\n",
    "                'DestWac']\n",
    "flights_2014_1.loc[:5, DestFields]"
   ]
  },
  {
   "cell_type": "code",
   "execution_count": null,
   "metadata": {},
   "outputs": [],
   "source": [
    "OriginFields = ['OriginAirportID', \n",
    "                'OriginAirportSeqID', \n",
    "                'OriginCityMarketID',\n",
    "                'Origin',\n",
    "                'OriginCityName',\n",
    "                'OriginState',\n",
    "                'OriginStateFips',\n",
    "                'OriginStateName',\n",
    "                'OriginWac']\n",
    "flights_2014_1.loc[:5, OriginFields]"
   ]
  },
  {
   "cell_type": "markdown",
   "metadata": {},
   "source": [
    "Origin and Destination data has the same structure so I will treat it the same way.\n",
    "\n",
    "11.\t**OriginAirportID / 20. DestAirportID**  \n",
    "    * **Description:** Origin/Destination Airport, Airport ID. An identification number assigned by US DOT to identify a unique airport. Use this field for airport analysis across a range of years because an airport can change its airport code and airport codes can be reused.  \n",
    "    * **Data type:** category  \n",
    "    * **Keep**  \n",
    "    * **Comment:** I decided to keep these codes because of its uniqueness, assuared by data provider.  \n",
    "    \n",
    "12.\t**OriginAirportSeqID / 21. DestAirportSeqID**  \n",
    "    * **Description:** Origin/Destination Airport, Airport Sequence ID. An identification number assigned by US DOT to identify a unique airport at a given point of time. Airport attributes, such as airport name or coordinates, may change over time.\n",
    "    * **Drop**\n",
    "13.\t**OriginCityMarketID / 22. DestCityMarketID**\n",
    "    * **Description:** Origin/Destination Airport, City Market ID. City Market ID is an identification number assigned by US DOT to identify a city market. Use this field to consolidate airports serving the same city market.\n",
    "    * **Drop**\n",
    "14.\t**Origin / 23. Dest**\n",
    "    * **Description:** Origin/Destination Airport\n",
    "    * **Data type:** category\n",
    "    * **Keep**\n",
    "    * **Comment:** This core is IATA code of the airport, which is represented in most traveling documents. It could be useful in the model.\n",
    "15.\t**OriginCityName / 24. DestCityName**\n",
    "    * **Description:** Origin/Destination Airport, City Name\n",
    "    * **Drop**\n",
    "16.\t**OriginState / 25. DestState**\n",
    "    * **Description:** Origin/Destination Airport, State Code\n",
    "    * **Drop**\n",
    "17.\t**OriginStateFips / 26. DestStateFips**\n",
    "    * **Description:** Origin/Destination Airport, State Fips\n",
    "    * **Drop**\n",
    "18.\t**OriginStateName / 27. DestStateName**\n",
    "    * **Description:** Origin/Destination Airport, State Name\n",
    "    * **Drop**\n",
    "19.\t**OriginWac / 28. DestWac**\n",
    "    * **Description:** Origin/Destination Airport, World Area Code\n",
    "    * **Drop**"
   ]
  },
  {
   "cell_type": "code",
   "execution_count": null,
   "metadata": {},
   "outputs": [],
   "source": [
    "flights_2014_1.loc[:, 'OriginAirportID'].unique()"
   ]
  },
  {
   "cell_type": "code",
   "execution_count": null,
   "metadata": {},
   "outputs": [],
   "source": [
    "flights_2014_1.loc[:, 'DestAirportID'].unique()"
   ]
  },
  {
   "cell_type": "code",
   "execution_count": null,
   "metadata": {},
   "outputs": [],
   "source": [
    "flights_2014_1.loc[:, 'Origin'].unique()"
   ]
  },
  {
   "cell_type": "code",
   "execution_count": null,
   "metadata": {},
   "outputs": [],
   "source": [
    "flights_2014_1.loc[:, 'Dest'].unique()"
   ]
  },
  {
   "cell_type": "code",
   "execution_count": null,
   "metadata": {},
   "outputs": [],
   "source": [
    "# Check for equal number of Origin Airport IDs and Origin (IATA codes)\n",
    "print('Number of unique OriginAirport IDs:', flights_2014_1.loc[:, 'OriginAirportID'].nunique(),\n",
    "      '\\nNumber of unique Origin codes:', flights_2014_1.loc[:, 'Origin'].nunique())"
   ]
  },
  {
   "cell_type": "code",
   "execution_count": null,
   "metadata": {},
   "outputs": [],
   "source": [
    "# Check for equal number of Origin Airport IDs and Origin (IATA codes)\n",
    "print('Number of unique DestAirport IDs:', flights_2014_1.loc[:, 'DestAirportID'].nunique(),\n",
    "      '\\nNumber of unique Destination codes:', flights_2014_1.loc[:, 'Dest'].nunique())"
   ]
  },
  {
   "cell_type": "code",
   "execution_count": null,
   "metadata": {},
   "outputs": [],
   "source": [
    "# Check for NA-values in the fields, I suppose to keep\n",
    "flights_2014_1[['OriginAirportID', 'Origin', 'DestAirportID', 'Dest']].isna().sum()"
   ]
  },
  {
   "cell_type": "markdown",
   "metadata": {},
   "source": [
    "The numbers of unique code for OriginalAirportID/DestAirportID and Origin/Dest are equal, and they don't have NA-values."
   ]
  },
  {
   "cell_type": "markdown",
   "metadata": {},
   "source": [
    "###  Departure and Arrival times (scheduled and actual)"
   ]
  },
  {
   "cell_type": "code",
   "execution_count": null,
   "metadata": {},
   "outputs": [],
   "source": [
    "# Sample of the block of data for departure times\n",
    "DepFields = ['CRSDepTime', \n",
    "             'DepTime',\n",
    "             'DepDelay',\n",
    "             'DepDelayMinutes',\n",
    "             'DepDel15',\n",
    "             'DepartureDelayGroups',\n",
    "             'DepTimeBlk']\n",
    "flights_2014_1.loc[:5, DepFields]"
   ]
  },
  {
   "cell_type": "code",
   "execution_count": null,
   "metadata": {},
   "outputs": [],
   "source": [
    "# Sample of the block of data for arrival times\n",
    "ArrFields = ['CRSArrTime', \n",
    "             'ArrTime',\n",
    "             'ArrDelay',\n",
    "             'ArrDelayMinutes',\n",
    "             'ArrDel15',\n",
    "             'ArrivalDelayGroups',\n",
    "             'ArrTimeBlk']\n",
    "flights_2014_1.loc[:5, ArrFields]"
   ]
  },
  {
   "cell_type": "markdown",
   "metadata": {},
   "source": [
    "Two groups of data (for Departure and Arrival time) have the same stricture and similar meaning (with difference in departure or arrival), so I group and describe them togethher.\n",
    "\n",
    "All time date in dataset is integer in format HHMM. I think for the further analysis it's worth to convert it into the number of minutes from the start of the day.\n",
    "\n",
    "29.\t**CRSDepTime  40. CRSArrTime** \n",
    "    * **Description:** CRS Departure/Arrival Time (local time: hhmm)\n",
    "    * **Data type:** float\n",
    "    * **Keep**\n",
    "    * **Comment:** CRS (Computer Reservation System) represents the scuduled time for the flight. I decided to keep this data at this stage becuase it's not clear yet which will be the drivers of the future model - time or categorical time blocks, such as DepTimeBlk or ArrTimeBlk. I suppose to make this decision later. Needs to conver to the number of minutes.\n",
    "30.\t**DepTime  41. ArrTime**  \n",
    "    * **Description:** Actual Departure/Arrival Time (local time: hhmm)\n",
    "    * **Data type:** float\n",
    "    * **Keep**\n",
    "    * **Comment:** Needs to conver to the number of minutes.\n",
    "31.\t**DepDelay  42. ArrDelay**  \n",
    "    * **Description:** Difference in minutes between scheduled and actual departure/arrival time. Early departures/arrival show negative numbers.\n",
    "    * **Data type:** float\n",
    "    * **Keep**\n",
    "32.\t**DepDelayMinutes  43. ArrDelayMinutes**\n",
    "    * **Description:** Difference in minutes between scheduled and actual departure/arrival time. Early departures/arrival set to 0.\n",
    "    * **Drop**\n",
    "    * **Comment:** This data dublicates partially the field DepDelay and ArrDelay with only differency that this data doesnt't show the negative values - departures or arrivals earlier\n",
    "33.\t**DepDel15  44. ArrDel15**\n",
    "    * **Description:** Departure/Arrival Delay Indicator, 15 Minutes or More (1=Yes)\n",
    "    * **Drop**\n",
    "    * **Comment:** This field represents a boolean data indicating wheather or not the flight delayed. We have the same, and even more detailed information, in the fields with the delay in minutes\n",
    "34.\t**DepartureDelayGroups  45. ArrivalDelayGroups**\n",
    "    * **Description:** Departure/Arrival Delay intervals, every (15 minutes from <-15 to >180)\n",
    "    * **Data type:** category\n",
    "    * **Keep**\n",
    "    * **Comment:** This categorical data can be useful for prediction model instead of actual delay time. We have to decide and choose it later.\n",
    "35.\t**DepTimeBlk  46. ArrTimeBlk**\n",
    "    * **Description:** CRS Departure Time Block, Hourly Intervals\n",
    "    * **Data type:** category\n",
    "    * **Keep**\n",
    "    * **Comment:** This categorical data probably will be more usefull for the prediction model comparing to the acrual departure or arrival times in minutes. \n",
    "\n",
    "The folllowing data represent some time and duration for processes which I think highly correlated with data described above. I suppose this data (below) doesn't add any value to the prediction model, and I am going to DROP it.  \n",
    "36.\tTaxiOut: Taxi Out Time, in Minutes  \n",
    "37.\tWheelsOff: Wheels Off Time (local time: hhmm)  \n",
    "38.\tWheelsOn: Wheels On Time (local time: hhmm)  \n",
    "39.\tTaxiIn: Taxi In Time, in Minutes  \n",
    "\n"
   ]
  },
  {
   "cell_type": "markdown",
   "metadata": {},
   "source": [
    "Let's check the fields supposed to be kept for null values and incosistent data "
   ]
  },
  {
   "cell_type": "code",
   "execution_count": null,
   "metadata": {},
   "outputs": [],
   "source": [
    "# Check for values of the Departure block fields\n",
    "flights_2014_1.loc[:, DepFields].describe()"
   ]
  },
  {
   "cell_type": "code",
   "execution_count": null,
   "metadata": {},
   "outputs": [],
   "source": [
    "# Check for values of the Arrival block fields\n",
    "flights_2014_1.loc[:, ArrFields].describe()"
   ]
  },
  {
   "cell_type": "code",
   "execution_count": null,
   "metadata": {},
   "outputs": [],
   "source": [
    "# Check for NA-values in the Departure block fields\n",
    "flights_2014_1.loc[:, DepFields].isna().sum()"
   ]
  },
  {
   "cell_type": "code",
   "execution_count": null,
   "metadata": {},
   "outputs": [],
   "source": [
    "# Check for NA-values in the Arrival block fields\n",
    "flights_2014_1.loc[:, ArrFields].isna().sum()"
   ]
  },
  {
   "cell_type": "code",
   "execution_count": null,
   "metadata": {},
   "outputs": [],
   "source": [
    "print(flights_2014_1['DepartureDelayGroups'].unique())\n",
    "print(flights_2014_1['ArrivalDelayGroups'].unique())"
   ]
  },
  {
   "cell_type": "code",
   "execution_count": null,
   "metadata": {},
   "outputs": [],
   "source": [
    "print(sorted(flights_2014_1['DepTimeBlk'].unique()))\n",
    "print(sorted(flights_2014_1['ArrTimeBlk'].unique()))"
   ]
  },
  {
   "cell_type": "markdown",
   "metadata": {},
   "source": [
    "#### Problems to analyse and solve:\n",
    "1. **DepTime** and **ArrTime** contain time values '2400' (at the same time CRS times contain only 2359). I have to convert it into 0h00m of the next day.\n",
    "2. It is needed to convert time into simple number of minutes from the start of the day.\n",
    "3. DepTime has the same number of NA-values as DepDelay, but ArrTime and ArrDelay have number of NA-values different of those from NA-values in DepTime and DepDelay. Reason can be related to cancelled and diverted flights. There is need to check.\n",
    "4. Delay Groups (Arrival and Departure) contain NaN values. Need to investigate."
   ]
  },
  {
   "cell_type": "code",
   "execution_count": null,
   "metadata": {},
   "outputs": [],
   "source": [
    "# Test that all flight wtth NA Departure Time (DepTime) were cancelled\n",
    "print('The Cancelled field has only these values:', flights_2014_1['Cancelled'].unique())\n",
    "print('In this dataset there are', int(flights_2014_1['Cancelled'].sum()), 'cancelled flights in total')\n",
    "print('Among', flights_2014_1.DepTime.isna().sum(), 'flights with NA DepTime there are', \n",
    "      flights_2014_1[flights_2014_1.DepTime.isna()]['Cancelled'].count(),'cancelled flights')"
   ]
  },
  {
   "cell_type": "markdown",
   "metadata": {},
   "source": [
    "Ok. We see that all NA-values in DepTime field are explained by the flight cancellaiton. \n",
    "However, there is one more interesting thing: the total number of cancelled flight is higher than the number of NA-values in DepTime field. Does it mean that these flight were cancelled but still have departure time? Let's take a look at this. "
   ]
  },
  {
   "cell_type": "code",
   "execution_count": null,
   "metadata": {},
   "outputs": [],
   "source": [
    "# How many Cancelled and Diverted flight are there in total?\n",
    "flights_2014_1[['Cancelled', 'Diverted']].agg('sum')"
   ]
  },
  {
   "cell_type": "code",
   "execution_count": null,
   "metadata": {},
   "outputs": [],
   "source": [
    "# What is a split of flights with/NA Departure Time vs. Cancelled and Diverted flights \n",
    "flights_2014_1.groupby(flights_2014_1['DepTime'].isna())[['Cancelled', 'Diverted']].agg('sum')"
   ]
  },
  {
   "cell_type": "code",
   "execution_count": null,
   "metadata": {},
   "outputs": [],
   "source": [
    "# Check all cancelled flight with existing departure time don't have Time in Air (flight time)\n",
    "departured_cancelled_flights = (~flights_2014_1['DepTime'].isna()) & (flights_2014_1['Cancelled'] == 1)\n",
    "print('Are all flights depatured but cancelled times have NA as AirTime?',\n",
    "      flights_2014_1[departured_cancelled_flights]['AirTime'].isna().all())"
   ]
  },
  {
   "cell_type": "code",
   "execution_count": null,
   "metadata": {},
   "outputs": [],
   "source": [
    "# Investigating which flights have NA DepartureDelayGroups\n",
    "NA_DepDelay_group = flights_2014_1['DepartureDelayGroups'].isna()\n",
    "print('Number of NA_values in DepartureDelayGoups:', NA_DepDelay_group.sum())\n",
    "\n",
    "cancelled_before_depurture = flights_2014_1['DepTime'].isna() & (flights_2014_1['Cancelled'] == 1)\n",
    "print('Are all cancelled prior departure flights have NA-value in DepartureDelayGroups?',\n",
    "      flights_2014_1[cancelled_before_depurture]['DepartureDelayGroups'].isna().all())"
   ]
  },
  {
   "cell_type": "markdown",
   "metadata": {},
   "source": [
    "1. Departured flights still could be cancelled after departure (didn't take off, ruturned to gate) OR diverted to a different destination.\n",
    "2. All flight with NA actual Departure Time ('DepTime' field) were canceled and have NA-Value in DepartureDelayGroups"
   ]
  },
  {
   "cell_type": "markdown",
   "metadata": {},
   "source": [
    "Let’s examine the Arrival times in more detail."
   ]
  },
  {
   "cell_type": "code",
   "execution_count": null,
   "metadata": {},
   "outputs": [],
   "source": [
    "# What is a split of flights with/NA Arrival Time vs. Cancelled and Diverted flights \n",
    "flights_2014_1.groupby(flights_2014_1['ArrTime'].isna())[['Cancelled', 'Diverted']].agg('sum')"
   ]
  },
  {
   "cell_type": "markdown",
   "metadata": {},
   "source": [
    "From this split it is interesting that some diverted (directed to other airports) flights still have Arrival time. What does this arravel time mean? Is it the arrival time to the Destination airport or the airport where the flight had beed diverted?\n",
    "Le't examine this question using the field 'DivReachedDest' marking the flights reached Destination after being diverted."
   ]
  },
  {
   "cell_type": "code",
   "execution_count": null,
   "metadata": {},
   "outputs": [],
   "source": [
    "# Check the numbers from diverted flights' split over w/NA ArrTime \n",
    "diverted_but_arrived = (~flights_2014_1['ArrTime'].isna()) & (flights_2014_1['Diverted'] == 1)\n",
    "print('Number of diverted flights that have ArrTime', \n",
    "      flights_2014_1[diverted_but_arrived]['Flight_Number_Reporting_Airline'].count())\n",
    "print('Number of diverted flights reached initial destination', \n",
    "      flights_2014_1['DivReachedDest'].sum())\n",
    "print('Are all these the same flitghts?',\n",
    "      flights_2014_1[diverted_but_arrived]['DivReachedDest'].sum() == flights_2014_1['DivReachedDest'].sum())"
   ]
  },
  {
   "cell_type": "markdown",
   "metadata": {},
   "source": [
    "So, yes, all diverted flights which finally reached their initial destination have the Arrival time."
   ]
  },
  {
   "cell_type": "markdown",
   "metadata": {},
   "source": [
    "1. All flights having an actual Arrival Time ('ArrTime') split over flied directly from Origin to Destination OR were diverted but finally reached the Destination\n",
    "2. All flights with NA ArrTime were wheather canceled or diverted and landed in different Destination"
   ]
  },
  {
   "cell_type": "code",
   "execution_count": null,
   "metadata": {},
   "outputs": [],
   "source": [
    "# Investigating which flights have NA ArrivalDelayGroups\n",
    "NA_ArrivalDelay_groups = flights_2014_1['ArrivalDelayGroups'].isna()\n",
    "flight_cancelled_OR_diverted = (flights_2014_1['Cancelled'] == 1) | (flights_2014_1['Diverted'] == 1)\n",
    "print('The number of flight with NA-value in ArrivalDelayGroups', NA_ArrivalDelay_groups.sum())\n",
    "print('Are all flights with NA-value ArrivalDelayGroups were canceled or diverted?',\n",
    "      flights_2014_1[NA_ArrivalDelay_groups & flight_cancelled_OR_diverted]['Flight_Number_Reporting_Airline'].count() ==\n",
    "      flights_2014_1[NA_ArrivalDelay_groups]['Flight_Number_Reporting_Airline'].count())"
   ]
  },
  {
   "cell_type": "markdown",
   "metadata": {},
   "source": [
    "All Diverted or Cancelled flights have NA-value ArrivalDelayGroup"
   ]
  },
  {
   "cell_type": "markdown",
   "metadata": {},
   "source": [
    "### Flight Status and Reasons for Delay  \n",
    "\n",
    "I’m going to keep the following fields because they contain information that can be useful for interpreting the departure and arrival time fields and for calculating the actual elapsed time, respectively:\n",
    "\n",
    "47.\t**Cancelled**\n",
    "    * **Description:** Cancelled Flight Indicator (1=Yes)  \n",
    "    * **Data type:** boolean\n",
    "    * **Keep**\n",
    "\n",
    "48.\t**CancellationCode**\n",
    "    * **Description:** Specifies The Reason For Cancellation\n",
    "    * **Data type:**  category\n",
    "    * **Keep**\n",
    "\n",
    "49.\t**Diverted**\n",
    "    * **Description:** Diverted Flight Indicator (1=Yes)  \n",
    "    * **Data type:** boolean\n",
    "    * **Keep**\n",
    "    \n",
    "\n",
    "Next fileds I suppose to keep to analyse the correclation between these reasons for delay with specific airlines, airport or states:\n",
    "\n",
    "56.\t**CarrierDelay**\n",
    "    * **Description**: Carrier Delay, in Minutes  \n",
    "    * **Data type:** float\n",
    "    * **Keep**\n",
    "\n",
    "57.\t**WeatherDelay**  \n",
    "    * **Description**: Weather Delay, in Minutes  \n",
    "    * **Data type:** float\n",
    "    * **Keep**\n",
    "\n",
    "58.\t**NASDelay** \n",
    "    * **Description**: National Air System Delay, in Minutes  \n",
    "    * **Data type:** float\n",
    "    * **Keep**\n",
    "\n",
    "59.\t**SecurityDelay**  \n",
    "    * **Description**: Security Delay, in Minutes  \n",
    "    * **Data type:** float\n",
    "    * **Keep**\n",
    "\n",
    "60.\t**LateAircraftDelay**\n",
    "    * **Description**: Late Aircraft Delay, in Minutes  \n",
    "    * **Data type:** float\n",
    "    * **Keep**"
   ]
  },
  {
   "cell_type": "code",
   "execution_count": null,
   "metadata": {},
   "outputs": [],
   "source": [
    "# Discovering the values and NA-values\n",
    "flight_status_fields = ['Cancelled',\n",
    "                        'CancellationCode',\n",
    "                        'Diverted']\n",
    "print(flights_2014_1[flight_status_fields].describe())\n",
    "print(flights_2014_1[flight_status_fields].isna().sum())"
   ]
  },
  {
   "cell_type": "code",
   "execution_count": null,
   "metadata": {},
   "outputs": [],
   "source": [
    "# Which values does the Cancellatino Code field have?\n",
    "flights_2014_1['CancellationCode'].unique()"
   ]
  },
  {
   "cell_type": "code",
   "execution_count": null,
   "metadata": {},
   "outputs": [],
   "source": [
    "# Examining the presence of Cancellation Codes for all Cancelled flights\n",
    "print(flights_2014_1.groupby(['Cancelled', 'Diverted'])['CancellationCode'].agg('count'))\n",
    "no_cancellation_code = flights_2014_1['CancellationCode'].isna()\n",
    "print('Number of recortds (flights) with absent Cancellation Code but still were cancelled:',\n",
    "      len(flights_2014_1[no_cancellation_code & ('Cancelled' == 0)]))"
   ]
  },
  {
   "cell_type": "markdown",
   "metadata": {},
   "source": [
    "The conclusion is that the data represented in the Flight Status and Cancellation Code fields is accurate and comprehensive."
   ]
  },
  {
   "cell_type": "markdown",
   "metadata": {},
   "source": [
    "### Elapsed time  \n",
    "\n",
    "The scheduled and actual Elapsed Time data are the primary candidates for the outcome of the proposed prediction model, or at least one of the main components for constructing such a variable. This is why it is important to keep this data. Air Time can also be useful because, as we have already seen, it helps with identifying flights that were cancelled after departure.\n",
    "\n",
    "50.\t***CRSElapsedTime**\n",
    "    * **Description:** CRS Elapsed Time of Flight, in Minutes  \n",
    "    * **Data type:** float\n",
    "    * **Keep**\n",
    "\n",
    "51.\t**ActualElapsedTime**  \n",
    "    * **Description:** Elapsed Time of Flight, in Minutes  \n",
    "    * **Data type:** float\n",
    "    * **Keep**\n",
    "\n",
    "52.\t**AirTime:**  \n",
    "    * **Description:** Flight Time, in Minutes  \n",
    "    * **Data type:** float\n",
    "    * **Keep**\n",
    "\n",
    "\n",
    "The following data can be dropped because it is seemed irrelevand or can be obtaing from another fields:  \n",
    "\n",
    "53.\t**Flights**  \n",
    "    * **Description:** Number of Flights  \n",
    "    * **Drop**  \n",
    "\n",
    "54.\t**Distance**  \n",
    "    * **Description:** Distance between airports (miles)  \n",
    "    * **Drop**  \n",
    "\n",
    "55.\t**DistanceGroup**\n",
    "    * **Description:**  Distance Intervals, every 250 Miles, for Flight Segment  \n",
    "    * **Drop**\n",
    " \n",
    "61.\t**FirstDepTime**  \n",
    "    * **Description:** First Gate Departure Time at Origin Airport  \n",
    "    * **Drop**\n",
    "\n",
    "62.\t**TotalAddGTime**  \n",
    "    * **Description:** Total Ground Time Away from Gate for Gate Return or Cancelled Flight  \n",
    "    * **Drop**\n",
    "\n",
    "63.\t**LongestAddGTime**  \n",
    "    * **Description:** Longest Time Away from Gate for Gate Return or Cancelled Flight  \n",
    "    * **Drop**\n",
    "\n",
    "64.\t**DivAirportLandings**\n",
    "    * **Description:** Number of Diverted Airport Landings  \n",
    "    * **Drop**\n",
    "\n",
    "As we already know, the next fields can be useful in evaluation of an acrual elapsed time when the flight was diverted, so we need to keep them:  \n",
    "\n",
    "65.\t**DivReachedDest**  \n",
    "    * **Description:** Diverted Flight Reaching Scheduled Destination Indicator (1=Yes)  \n",
    "    * **Data type:** boolean\n",
    "    * **Keep**\n",
    "\n",
    "66.\t**DivActualElapsedTime**\n",
    "    * **Description:** Elapsed Time of Diverted Flight Reaching Scheduled Destination, in Minutes. The ActualElapsedTime column remains NULL for all diverted flights.  \n",
    "    * **Data type:** float\n",
    "    * **Keep**\n",
    "\n",
    "67.\t**DivArrDelay**  \n",
    "    * **Description:** Difference in minutes between scheduled and actual arrival time for a diverted flight reaching scheduled destination. The ArrDelay column remains NULL for all diverted flights.  \n",
    "    * **Data Type:** float\n",
    "    * **Keep**\n",
    "\n",
    "The distance beetween the scheduled destination and final diverted airport in miles is unimportant for the purposed model because if the flight landed in different location, it is reasonable for the purpose of model consider this fliaght as not arrived to the distanation.\n",
    "\n",
    "68.\t**DivDistance**\n",
    "    * **Description:** Distance between scheduled destination and final diverted airport (miles). Value will be 0 for diverted flight reaching scheduled destination.  \n",
    "    * **Drop**"
   ]
  },
  {
   "cell_type": "code",
   "execution_count": null,
   "metadata": {},
   "outputs": [],
   "source": [
    "# Checking for possible and NA values for Elapsed time data block\n",
    "elapsed_time_fields = ['CRSElapsedTime',\n",
    "                       'ActualElapsedTime',\n",
    "                       'AirTime']\n",
    "print(flights_2014_1[elapsed_time_fields].describe())\n",
    "print(flights_2014_1[elapsed_time_fields].isna().sum())"
   ]
  },
  {
   "cell_type": "code",
   "execution_count": null,
   "metadata": {},
   "outputs": [],
   "source": [
    "# Checking for possible and NA values for Diverted flights data block\n",
    "diverted_flights_fields = ['DivReachedDest',\n",
    "                       'DivActualElapsedTime',\n",
    "                       'DivArrDelay']\n",
    "print(flights_2014_1[diverted_flights_fields].describe())\n",
    "print(flights_2014_1[diverted_flights_fields].isna().sum())"
   ]
  },
  {
   "cell_type": "markdown",
   "metadata": {},
   "source": [
    "### Another infermation about diverted flights\n",
    "\n",
    "The rest of the dataset contains 5 equal blocks for five airports where the flight can be diverted consiquently. Each block contains:\n",
    "* Diverted Airport Code, Airport ID of Diverted Airport,  \n",
    "* Airport Sequence ID of Diverted Airport,  \n",
    "* Wheels On Time (local time: hhmm) at Diverted Airport Code,  \n",
    "* Total Ground Time Away from Gate at Diverted Airport Code,  \n",
    "* Longest Ground Time Away from Gate at Diverted Airport Code,  \n",
    "* Wheels Off Time (local time: hhmm) at Diverted Airport Code,  \n",
    "* Aircraft Tail Number for Diverted Airport Code\n",
    "\n",
    "All this information is not rellevant to the project. "
   ]
  },
  {
   "cell_type": "markdown",
   "metadata": {},
   "source": [
    "### Conclustion about data structure and quality:  \n",
    "\n",
    "1. The data needed for the project is selected\n",
    "2. The proposed data type for each field is selected\n",
    "3. The quality of the data is good. The data represented in the dataset is mostly comprehesive, but I will examine it in more detail in next section.\n",
    "4. The logic of data for calncelled and diverted flights and consiquencies for actual departure and arrival times, time delays and elapsed times was identified and recorded\n",
    "5. On the data transformaiton stage I have to change data types for selected for the model fields and solve the 'time-2400' problem.\n",
    "6. The calculation of the resulting elapsed time, which I suppose to take as a predicted variable of the model, will be realise further on the stage of features engeneering. "
   ]
  },
  {
   "cell_type": "markdown",
   "metadata": {},
   "source": [
    "## Evaluating the Accuracy of Scheduled and Actual Elapsed Times"
   ]
  },
  {
   "cell_type": "markdown",
   "metadata": {},
   "source": [
    "The elapsed times (scheduled and actual), along with departure and arrival times, are expected to play a crucial role in the model. Therefore, I must give special attention to their quality and accuracy.\n",
    "\n",
    "There are 60 data files, which makes it difficult to check all the data at once, so I plan to start by examining one file, ‘report_2014_3.csv,’ to design an approach for handling potential errors. In the future, I will apply this approach to the remaining files.\n",
    "\n",
    "I chose March because the start of Daylight Saving Time (DST) occurs in this month, which may introduce errors into our data."
   ]
  },
  {
   "cell_type": "code",
   "execution_count": 68,
   "metadata": {},
   "outputs": [],
   "source": [
    "# These are fields I plan to examine\n",
    "data_types = {\n",
    "    'FlightDate':           'str',\n",
    "    'Flight_Number_Reporting_Airline':  np.int16,\n",
    "    'Origin':               'category',\n",
    "    'Dest':                 'category',\n",
    "    'CRSDepTime':           np.int16,\n",
    "    'DepTime':              np.float32,\n",
    "    'DepDelay':             np.float32,\n",
    "    'CRSArrTime':           np.int16,\n",
    "    'ArrTime':              np.float32,\n",
    "    'ArrDelay':             np.float32,\n",
    "    'Cancelled':            np.int8,        # boolean\n",
    "    'Diverted':             np.int8,        # boolean\n",
    "    'CRSElapsedTime':       np.float32,\n",
    "    'ActualElapsedTime':    np.float32,\n",
    "    'AirTime':              np.float32}"
   ]
  },
  {
   "cell_type": "code",
   "execution_count": 3,
   "metadata": {},
   "outputs": [],
   "source": [
    "# [FUNCTION]\n",
    "\n",
    "def load_data_from(zip_file, data_file, field_type=None):\n",
    "    '''\n",
    "    Description\n",
    "    -----------\n",
    "    Load data specified as field_type from one data file from zip-archive \n",
    "\n",
    "    Parameters\n",
    "    -----------\n",
    "    zip_file - path and name of source zip-file contaning 60 csv files\n",
    "    dat_faile - path and name of csv-file with data\n",
    "    field_type - dictinary with fields to load and thiers relative data types\n",
    "\n",
    "    Returns\n",
    "    ==========\n",
    "    DataFrame with data loaded\n",
    "    '''\n",
    "\n",
    "    # reading the file\n",
    "    with zipfile.ZipFile(zip_file) as zip_source:\n",
    "        with zip_source.open(data_file) as file:\n",
    "            if field_type != None:\n",
    "                df = pd.read_csv(file, header = 0, \n",
    "                                usecols = field_type.keys(),\n",
    "                                dtype = field_type)\n",
    "            else:\n",
    "                df = pd.read_csv(file, header = 0, low_memory=False)\n",
    "\n",
    "    # Converting dates and boolean        \n",
    "    if 'FlightDate' in df.columns:\n",
    "        df['FlightDate'] = pd.to_datetime(df['FlightDate'])\n",
    "    if 'DivReachedDest' in df.columns:\n",
    "        df['DivReachedDest'] = df['DivReachedDest'].fillna(0)\n",
    "    if 'Cancelled' in df.columns:\n",
    "        df['Cancelled'] = df['Cancelled'].astype('bool')\n",
    "    if 'Diverted' in df.columns:\n",
    "        df['Diverted'] = df['Diverted'].astype('bool')\n",
    "    if 'DivReachedDest' in df.columns:\n",
    "        df['DivReachedDest'] = df['DivReachedDest'].astype('bool')\n",
    "    return df"
   ]
  },
  {
   "cell_type": "code",
   "execution_count": 70,
   "metadata": {},
   "outputs": [],
   "source": [
    "# The most important combinations of fields for analysis\n",
    "Date_details = ['FlightDate']\n",
    "DepTime_details = ['CRSDepTime', 'DepTime']\n",
    "ArrTime_details = ['CRSArrTime', 'ArrTime']\n",
    "DepTime_min_details = ['CRSDepTime_min', 'DepTime_min']\n",
    "ArrTime_min_details = ['CRSArrTime_min', 'ArrTime_min']\n",
    "ElapsedTime_details = ['CRSElapsedTime', 'ActualElapsedTime']\n",
    "CRS_details = ['CRSDepTime', 'CRSArrTime', 'CRSElapsedTime']\n",
    "CRS_min_details = ['CRSDepTime_min', 'CRSArrTime_min', 'CRSElapsedTime']\n",
    "Route_datails = ['Origin', 'Dest']"
   ]
  },
  {
   "cell_type": "code",
   "execution_count": 71,
   "metadata": {},
   "outputs": [],
   "source": [
    "# Loading some dataset just for tests\n",
    "source_zip = 'data/interim/csv_flight.zip'\n",
    "source_path = 'csv_flight/report_'\n",
    "\n",
    "flights = load_data_from(source_zip, source_path + '2014_3.csv', data_types)"
   ]
  },
  {
   "cell_type": "code",
   "execution_count": null,
   "metadata": {},
   "outputs": [],
   "source": [
    "flights.info()"
   ]
  },
  {
   "cell_type": "markdown",
   "metadata": {},
   "source": [
    "To evaluate the accuracy of departure times, arrival times, and durations (both scheduled and actual), I need to calculate the UTC datetimes for both departure and arrival. The original data includes the scheduled flight date, along with two sets of data (scheduled and actual) for departure and arrival times, as well as elapsed time. To calculate the scheduled departure datetime in the local timezone, I can combine the ‘FlightDate’ with the departure time from ‘CRSDepTime.’ For the arrival time, I first need to determine the correct date, as flights may arrive on the next day — or even the previous day — due to timezone differences. I plan to use a criterion based on the difference between the departure and arrival times to indicate a change in date. A threshold for this time difference could serve as the indicator."
   ]
  },
  {
   "cell_type": "markdown",
   "metadata": {},
   "source": [
    "In original data set all time data is provided in format HHMM, which is not conviniet for the purposes of calculation and comparison. I convert it into the simple number of minutes from midnight. "
   ]
  },
  {
   "cell_type": "code",
   "execution_count": 4,
   "metadata": {},
   "outputs": [],
   "source": [
    "# [FUNCTION]\n",
    "\n",
    "# # Convert Arrival and Departure times (CRS and Actual) to minutes\n",
    "def time_to_minutes(df):\n",
    "    return df // 100 * 60 + df % 100"
   ]
  },
  {
   "cell_type": "code",
   "execution_count": 74,
   "metadata": {},
   "outputs": [],
   "source": [
    "flights['CRSDepTime_min'] = time_to_minutes(flights['CRSDepTime'])\n",
    "flights['CRSArrTime_min'] = time_to_minutes(flights['CRSArrTime'])\n",
    "flights['DepTime_min'] = time_to_minutes(flights['DepTime'])\n",
    "flights['ArrTime_min'] = time_to_minutes(flights['ArrTime'])\n"
   ]
  },
  {
   "cell_type": "markdown",
   "metadata": {},
   "source": [
    "My hypothesis is that all flights arriving the next day will have a significant negative difference between arrival and departure times (in minutes). For example, if a flight departs at 1420 min (equivalent to 23:40) and arrives at 75 minutes  (equivalent to 1:15 AM), it definitely arrived the next day. However, the negative differece can occur not only when the date changes but also when a flight departs from one timezone and arrives in another where the time difference with UTC is larger. In this case, the flight’s duration should be less than the time difference. Let’s examine this for short flights (less than 60 minutes) to chose a correct threshhold. "
   ]
  },
  {
   "cell_type": "code",
   "execution_count": null,
   "metadata": {},
   "outputs": [],
   "source": [
    "# Filter for flights when CRS Arrival time is less of equal than CRS Departure time\n",
    "CRSArr_less_than_CRSDep_min = flights['CRSArrTime_min'] <= flights['CRSDepTime_min']\n",
    "less_than_60_min = flights['CRSElapsedTime'] < 60\n",
    "\n",
    "# FOR TIMES EXPRESSED IN MINUTES !!!\n",
    "# Flights where CRS Arrival time less than CRS Departure time AND a flight was less than 60 min\n",
    "# To evaluate is it possible to 'travel in time' - to arrive the same day earlier \n",
    "flights[CRSArr_less_than_CRSDep_min & less_than_60_min][Date_details + CRS_min_details] \\\n",
    "    .sort_values('CRSElapsedTime').head()"
   ]
  },
  {
   "cell_type": "markdown",
   "metadata": {},
   "source": [
    "We see in the table above the first three flight have negative difference and definitely arrived the next day, but the last two also have negative difference but arrived the same day."
   ]
  },
  {
   "cell_type": "code",
   "execution_count": null,
   "metadata": {},
   "outputs": [],
   "source": [
    "# ... and the END of the table\n",
    "flights[CRSArr_less_than_CRSDep_min & less_than_60_min][Date_details + CRS_min_details] \\\n",
    "    .sort_values('CRSElapsedTime').tail()"
   ]
  },
  {
   "cell_type": "markdown",
   "metadata": {},
   "source": [
    "In this table all flights have negative difference between arrival and departure time but all of them arrived the same day"
   ]
  },
  {
   "cell_type": "code",
   "execution_count": 77,
   "metadata": {},
   "outputs": [],
   "source": [
    "# [TRANSFORMATION]\n",
    "# Calculation of the difference between departure and arrival time \n",
    "flights['CRS_Arr_minus_Dep'] = flights['CRSArrTime_min'] - flights['CRSDepTime_min'] "
   ]
  },
  {
   "cell_type": "code",
   "execution_count": null,
   "metadata": {},
   "outputs": [],
   "source": [
    "# Examine the difference between CRS Arrival and Departure times\n",
    "bins = np.arange(-1440, 1440, 100)\n",
    "plt.hist(flights['CRS_Arr_minus_Dep'], density=True,  bins = bins)\n",
    "plt.show()"
   ]
  },
  {
   "cell_type": "markdown",
   "metadata": {},
   "source": [
    "We can see that the time difference between arrival and departure can be negative or possitive but it seems that there is a certain gap in negative values. Let's zoom this histogram in. "
   ]
  },
  {
   "cell_type": "code",
   "execution_count": null,
   "metadata": {},
   "outputs": [],
   "source": [
    "# Examine MORE CLOSELY the difference between CRS Arrival and Departure times \n",
    "bins = np.arange(-540, 60, 60)\n",
    "plt.hist(flights['CRS_Arr_minus_Dep'], density=True,  bins = bins)\n",
    "plt.xticks(bins)\n",
    "plt.show()"
   ]
  },
  {
   "cell_type": "markdown",
   "metadata": {},
   "source": [
    "We see that there is no negative values between -8 hours (-480 min) and -1 hour (-60 min). However, to be sure let's examine the data."
   ]
  },
  {
   "cell_type": "code",
   "execution_count": null,
   "metadata": {},
   "outputs": [],
   "source": [
    "# Are there any values between -900 and -200\n",
    "diff_between_900_200 = (flights['CRS_Arr_minus_Dep'] > -480) & (flights['CRS_Arr_minus_Dep'] < -60)\n",
    "print(flights[diff_between_900_200])\n",
    "\n",
    "del(diff_between_900_200)"
   ]
  },
  {
   "cell_type": "markdown",
   "metadata": {},
   "source": [
    "Yes, there is no values between -480 and -60 minutes. \n",
    "It is possible to ‘travel in time’ only for a maximum of 60 minutes. All other differences occur when flights take off before midnight and land the next day. I can use a threshold of -60 minutes to adjust the departure date by adding one day in order to calculate the arrival date."
   ]
  },
  {
   "cell_type": "code",
   "execution_count": null,
   "metadata": {},
   "outputs": [],
   "source": [
    "# Are there any values between -900 and -200\n",
    "diff_greater_than_1300 = (flights['CRS_Arr_minus_Dep'] > 1300)\n",
    "print(flights[diff_greater_than_1300])\n",
    "\n",
    "del(diff_greater_than_1300)"
   ]
  },
  {
   "cell_type": "markdown",
   "metadata": {},
   "source": [
    "There are no records with positive difference more than 1300 minutes, but when this occures it means the flight has arrived at the previouse day due to timezone difference. I will use this calculating arrival dates. "
   ]
  },
  {
   "cell_type": "markdown",
   "metadata": {},
   "source": [
    "### Calculating dates of departure and arrivel timezone naive "
   ]
  },
  {
   "cell_type": "markdown",
   "metadata": {},
   "source": [
    "#### Scheduled dates"
   ]
  },
  {
   "cell_type": "code",
   "execution_count": 5,
   "metadata": {},
   "outputs": [],
   "source": [
    "# [FUNCTION]\n",
    "\n",
    "def get_CRS_datetime(dates, dep_m, arr_m):\n",
    "    \"\"\"\n",
    "    Description\n",
    "    ------------\n",
    "    Calculate scheduled(CRS) Departure datetime (timezone naive) based on Flight Date and Departure time (minutes)\n",
    "    Calculate scheduled(CRS) Arrival datetiem (timezone naive) based on Flight Date and Arrival time (minutes). \n",
    "        Arrival time is increased by one day from Fllght Date if the difference between CRS Arrival and Departure time \n",
    "        is equal or less than -60 minutes, and decreased by one day if the difference is at least +1380 minutes.\n",
    "\n",
    "    Parameters:\n",
    "    ------------\n",
    "    dates - pandas Series with FlightDate\n",
    "    dep_m - pandas Seiries with CRS Departure time in minutes \n",
    "    arr_m - pandas Seiries with CRS Arrival time in minutes\n",
    "\n",
    "    Returns:\n",
    "    ------------\n",
    "    departure_datetime - CRS Departure datetime (timezone naive) (pd.Series)\n",
    "    arrival_datetime - CRS Arrival datetime (timezone naive) (pd.Series)\n",
    "    \"\"\"\n",
    "\n",
    "    df = pd.DataFrame() \n",
    "    df['departure_datetime'] = pd.to_datetime(dates) + pd.to_timedelta(dep_m, unit='min')\n",
    "\n",
    "    # Filter for scheduled flights arriving next or privios day\n",
    "    arr_next_day_filter = arr_m - dep_m  <= -60\n",
    "    arr_previous_day_filter = arr_m - dep_m  >= 1380\n",
    "\n",
    "    # For all scheduled flights by default arrival date is eaueal to departure date\n",
    "    df['arrival_datetime'] = dates\n",
    "\n",
    "    # Adding one day to the date if flight arrived next day\n",
    "    df.loc[arr_next_day_filter, 'arrival_datetime'] = df.loc[arr_next_day_filter, 'arrival_datetime'] \\\n",
    "                                                        + datetime.timedelta(1)\n",
    "    # Adding one day to the date if flight arrived day befor departure day\n",
    "    df.loc[arr_previous_day_filter, 'arrival_datetime'] = df.loc[arr_previous_day_filter, 'arrival_datetime'] \\\n",
    "                                                        + datetime.timedelta(-1)\n",
    "    # Finally adding actual arrival time to get actual arrival datetime\n",
    "    df['arrival_datetime'] = df['arrival_datetime'] + pd.to_timedelta(arr_m, 'm')\n",
    "\n",
    "    return df['departure_datetime'], df['arrival_datetime']\n"
   ]
  },
  {
   "cell_type": "code",
   "execution_count": 83,
   "metadata": {},
   "outputs": [],
   "source": [
    "# converting CRS times (departure and arrival into datetime with correct arrival date - the previous, the same or the next day)\n",
    "flights['CRSDepDT'], flights['CRSArrDT'] = get_CRS_datetime(flights['FlightDate'], \n",
    "                                                                              flights['CRSDepTime_min'], \n",
    "                                                                              flights['CRSArrTime_min'])"
   ]
  },
  {
   "cell_type": "code",
   "execution_count": null,
   "metadata": {},
   "outputs": [],
   "source": [
    "\n",
    "# Check for actual departure and arrival datetimes \n",
    "pd.set_option('display.width', 200)\n",
    "\n",
    "CRS_Arrived_next_day = flights['CRSArrTime_min'] - flights['CRSDepTime_min']  <= -60\n",
    "CRS_Arrived_previous_day = flights['CRSArrTime_min'] - flights['CRSDepTime_min']  >= 1380\n",
    "fields_to_check = ['FlightDate', 'CRSDepDT', 'CRSDepTime', 'CRSArrDT', 'CRSArrTime']\n",
    "print('Flights arrived next day after departure\\n', flights[CRS_Arrived_next_day][fields_to_check].head())\n",
    "print('Flights arrived the same day as departured\\n', flights[~CRS_Arrived_next_day][fields_to_check].head())\n",
    "print('Flights arrived the previous day as departured\\n', flights[CRS_Arrived_previous_day][fields_to_check].head())"
   ]
  },
  {
   "cell_type": "markdown",
   "metadata": {},
   "source": [
    "#### Actual dates\n",
    "\n",
    "Calculating actual date we have to take into account that even the departure date can differ from the dataset's flight date, because this date is for scheduled time, but actual time can move to the next or previous day due to flight positive or negative delay."
   ]
  },
  {
   "cell_type": "code",
   "execution_count": 6,
   "metadata": {},
   "outputs": [],
   "source": [
    "# [FUNCTION]\n",
    "\n",
    "def get_Actual_datetime(dates, CRSdep_min, dep_min, arr_min, dep_delay):\n",
    "    \"\"\"\n",
    "    Description\n",
    "    ------------\n",
    "    Calculate Actual Departure datetime (timezone naive) based on Flight Date, Departure time (minutes) and Departure \n",
    "        delay (minutes)\n",
    "    Calculate Actual Arrival datetiem (timezone naive) based on Flight Date, Actual Departure date in accordance with \n",
    "        Departure delay and Arrival time (minutes). Arrival time is increased by one day from Departure Date if \n",
    "        the difference between CRS Arrival and Departure time is equal or less than -60 minutes, and decreased by one day \n",
    "        if the difference is at least +1380 minutes.\n",
    "\n",
    "    Parameters:\n",
    "    ------------\n",
    "    dates - FlightDate (pd.Series)\n",
    "    CRSdep_min - Actual Departure time in minutes (pd.Series)\n",
    "    dep_min - Actual Departure time in minutes (pd.Series)\n",
    "    arr_min - Actual Arrival time in minutes (pd.Series)\n",
    "    dep_delay - departure delay in minutes (pd.Series)\n",
    "\n",
    "    Returns:\n",
    "    ------------\n",
    "    departure_datetime - Actual Departure datetime (timezone naive) (pd.Series)\n",
    "    arrival_datetime - Actual Arrival datetime (timezone naive) (pd.Series)\n",
    "    \"\"\"\n",
    "\n",
    "    # Filters for flights having DepTime_min and ArrTime_min \n",
    "    # These filters actually for not cancelled flights, but they differ each other because some flights cancelles after departure\n",
    "    # So they have departure time but didn't fly \n",
    "    ActDep_exists_filter = ~dep_min.isna()\n",
    "    ActArr_exists_filter = ~arr_min.isna()\n",
    "\n",
    "    # Calculating the array with 'day shift' due to flight delay. NOTICE: some flights have -1 day shift because day had a \n",
    "    # small negative delay having a scheduled departure time several minutes after midnight\n",
    "    d = np.zeros([len(dates)], dtype='int')\n",
    "    d = ((CRSdep_min.fillna(0) + dep_delay.fillna(0)) // 1440).astype(int)\n",
    "    day_deltas_due_to_delay = pd.to_timedelta(d, unit='days')\n",
    "\n",
    "    # Calculating actual departure datetime\n",
    "    df = pd.DataFrame() #pd.NaT, index = [*range(0, len(dates))], columns= ['departure_datetime', 'arrival_datetime'])\n",
    "    df.loc[ActDep_exists_filter, 'departure_datetime'] = dates[ActDep_exists_filter] \\\n",
    "                                                + day_deltas_due_to_delay[ActDep_exists_filter] \\\n",
    "                                                + pd.to_timedelta(dep_min[ActDep_exists_filter], 'm')\n",
    "\n",
    "    # Calculating actual arrival datetime\n",
    "\n",
    "    # Filter for flights arrived next or previous day\n",
    "    Arrived_next_day = arr_min - dep_min  <= -60\n",
    "    Arrived_previous_day = arr_min - dep_min  >= 1380\n",
    "\n",
    "    # For all arrived flights at first arrival date is eaueal to departure date\n",
    "    df.loc[ActArr_exists_filter, 'arrival_datetime'] = dates[ActArr_exists_filter] \\\n",
    "                                                + day_deltas_due_to_delay[ActArr_exists_filter] \n",
    "    # Adding one day to the date if flight arrived next day\n",
    "    df.loc[ActArr_exists_filter & Arrived_next_day, 'arrival_datetime'] = \\\n",
    "            df.loc[ActArr_exists_filter & Arrived_next_day, 'arrival_datetime'] + datetime.timedelta(1)\n",
    "    \n",
    "    # Adding one day to the date if flight arrived previous day\n",
    "    df.loc[ActArr_exists_filter & Arrived_previous_day, 'arrival_datetime'] = \\\n",
    "            df.loc[ActArr_exists_filter & Arrived_previous_day, 'arrival_datetime'] + datetime.timedelta(-1)\n",
    "    \n",
    "    # Finally adding actual arrival time to get actual arrival datetime\n",
    "    df.loc[ActArr_exists_filter, 'arrival_datetime'] = \\\n",
    "            df.loc[ActArr_exists_filter, 'arrival_datetime'] + pd.to_timedelta(arr_min.loc[ActArr_exists_filter], 'm')\n",
    "    \n",
    "    return df['departure_datetime'], df['arrival_datetime']"
   ]
  },
  {
   "cell_type": "code",
   "execution_count": 86,
   "metadata": {},
   "outputs": [],
   "source": [
    "flights['ActDepDT'], flights['ActArrDT'] = get_Actual_datetime(flights['FlightDate'], \n",
    "                                                                flights['CRSDepTime_min'],\n",
    "                                                                flights['DepTime_min'],\n",
    "                                                                flights['ArrTime_min'],\n",
    "                                                                flights['DepDelay'])"
   ]
  },
  {
   "cell_type": "code",
   "execution_count": null,
   "metadata": {},
   "outputs": [],
   "source": [
    "# Check for actual departure and arrival datetimes \n",
    "Arrived_next_day = flights['ArrTime_min'] - flights['DepTime_min']  <= -60\n",
    "Arrived_previous_day = flights['ArrTime_min'] - flights['DepTime_min']  >= 1380\n",
    "fields_to_check = ['FlightDate', 'CRSDepTime', 'DepDelay', 'ActDepDT', 'DepTime', 'ActArrDT', 'ArrTime']\n",
    "\n",
    "print('\\nFlights arrived next day after departure\\n', flights[Arrived_next_day][fields_to_check].head())\n",
    "print('\\nFlights arrived the same day as departured\\n', flights[~Arrived_next_day][fields_to_check].head())\n",
    "print('\\nFlights arrived the previous day as departured\\n', flights[Arrived_previous_day][fields_to_check].head())"
   ]
  },
  {
   "cell_type": "markdown",
   "metadata": {},
   "source": [
    "#### Converting datetimes to UTC timezone"
   ]
  },
  {
   "cell_type": "code",
   "execution_count": 8,
   "metadata": {},
   "outputs": [],
   "source": [
    "# [FUNCTION]\n",
    "\n",
    "# Function to convert datetime timezone naive to UTC timezone\n",
    "def convert_column_to_UTC(df, dt_field, IATA_code_field):\n",
    "    return [row[dt_field].tz_localize(tz=tz.gettz(IATAtz[row[IATA_code_field]]), ambiguous=True, nonexistent='shift_forward')\n",
    "             .astimezone(tz.UTC) for _, row in df.iterrows()]\n",
    "\n",
    "# Function to convert datetime timezone naive to UTC timezone\n",
    "def local_to_UTC(dt_naive, IATA_code):\n",
    "    return dt_naive.tz_localize(tz=tz.gettz(IATAtz[IATA_code]), ambiguous=True, nonexistent='shift_forward').astimezone(tz.UTC)\n",
    "\n",
    "# Function to convert UTC datetime to timezone naive\n",
    "def UTC_to_local(dt_UTC, IATA_code):\n",
    "    return dt_UTC.astimezone(tz.gettz(IATAtz[IATA_code])).replace(tzinfo=None)"
   ]
  },
  {
   "cell_type": "code",
   "execution_count": null,
   "metadata": {},
   "outputs": [],
   "source": [
    "# Getting UTC timezone for scheduled (CRS) departure and arrival times\n",
    "flights['CRSDep_UTC'] = convert_column_to_UTC(flights, 'CRSDepDT', 'Origin')\n",
    "flights['CRSArr_UTC'] = convert_column_to_UTC(flights, 'CRSArrDT', 'Dest')\n",
    "\n",
    "# We have to filter for non-NA values because astimezone doesn't work wiht NaN/NaT\n",
    "nonNA_Dep = ~flights['ActDepDT'].isna()\n",
    "flights['ActDep_UTC'] = pd.NaT\n",
    "flights['ActDep_UTC'] = flights['ActDep_UTC'].dt.tz_localize(tz.UTC)\n",
    "flights.loc[nonNA_Dep, 'ActDep_UTC'] = convert_column_to_UTC(flights[nonNA_Dep], 'ActDepDT', 'Origin')\n",
    "\n",
    "# We have to filter for non-NA values because astimezone doesn't work wiht NaN/NaT\n",
    "nonNA_Arr = ~flights['ActArrDT'].isna()\n",
    "flights['ActArr_UTC'] = pd.NaT\n",
    "flights['ActArr_UTC'] = flights['ActArr_UTC'].dt.tz_localize(tz.UTC)\n",
    "flights.loc[nonNA_Arr, 'ActArr_UTC'] = convert_column_to_UTC(flights[nonNA_Arr], 'ActArrDT', 'Dest')"
   ]
  },
  {
   "cell_type": "code",
   "execution_count": null,
   "metadata": {},
   "outputs": [],
   "source": [
    "# Check CRS\n",
    "fields_to_check_UTC_CRS = ['CRSDepDT', 'CRSDep_UTC', 'CRSArrDT', 'CRSArr_UTC']\n",
    "print(flights[fields_to_check_UTC_CRS].head())\n",
    "\n",
    "# Check ACTUAL\n",
    "fields_to_check_UTC_Act = ['ActDepDT', 'ActDep_UTC', 'ActArrDT', 'ActArr_UTC']\n",
    "print(flights[fields_to_check_UTC_Act].head())"
   ]
  },
  {
   "cell_type": "markdown",
   "metadata": {},
   "source": [
    "#### Calculating scheduled and actual elapsed times based on UTC departure and arrival"
   ]
  },
  {
   "cell_type": "code",
   "execution_count": 67,
   "metadata": {},
   "outputs": [],
   "source": [
    "# [TRANSFORTATION]\n",
    "# Calculating Elapsed time based on UTC times\n",
    "flights['UTCElapsedTime_CRS'] = (flights['CRSArr_UTC'] - flights['CRSDep_UTC']).dt.total_seconds() / 60\n",
    "\n",
    "flights.loc[nonNA_Arr, 'UTCElapsedTime_Act'] = pd.to_timedelta((flights.loc[nonNA_Arr, 'ActArr_UTC'] - \n",
    "                                                                flights.loc[nonNA_Arr, 'ActDep_UTC'])).dt.total_seconds() / 60\n",
    "\n"
   ]
  },
  {
   "cell_type": "code",
   "execution_count": 68,
   "metadata": {},
   "outputs": [],
   "source": [
    "# [TRANSFORMATINO]\n",
    "# The difference between UTC-based Elapsed time and CRS/ACTUAL Elapsed time\n",
    "flights['diff_CRS'] = flights['UTCElapsedTime_CRS'] - flights['CRSElapsedTime']\n",
    "flights['diff_Act'] = flights['UTCElapsedTime_Act'] - flights['ActualElapsedTime']"
   ]
  },
  {
   "cell_type": "markdown",
   "metadata": {},
   "source": [
    "### Examining the accuracy of CRS Elapsed time"
   ]
  },
  {
   "cell_type": "code",
   "execution_count": null,
   "metadata": {},
   "outputs": [],
   "source": [
    "# Examine the flights having difference between UTC-Based and CRS Elapsed times \n",
    "diff_not_zero = flights[flights['diff_CRS'] != 0][fields_to_check_UTC_CRS + ['CRSElapsedTime', 'UTCElapsedTime_CRS']]\n",
    "print('There are', len(diff_not_zero), 'flights where CRS Elapsed time differ from CRS Elapsed time culculated based on UTC')\n",
    "diff_not_zero.head()\n",
    "\n",
    "del(diff_not_zero)"
   ]
  },
  {
   "cell_type": "code",
   "execution_count": null,
   "metadata": {},
   "outputs": [],
   "source": [
    "flights['diff_CRS'].value_counts()"
   ]
  },
  {
   "cell_type": "markdown",
   "metadata": {},
   "source": [
    "There are 76 flights in the datased where we have a difference between UTC and CRS elapsed time.\n"
   ]
  },
  {
   "cell_type": "markdown",
   "metadata": {},
   "source": [
    "Let’s take a detailed look at one of these flights: the first one from the table above, with ID = 86022, which has a -60 minute difference between UTC and CRS elapsed times."
   ]
  },
  {
   "cell_type": "code",
   "execution_count": null,
   "metadata": {},
   "outputs": [],
   "source": [
    "flights[flights['diff_CRS'] != 0].head()"
   ]
  },
  {
   "cell_type": "code",
   "execution_count": null,
   "metadata": {},
   "outputs": [],
   "source": [
    "# Let's take a look on the first flight with diffeence\n",
    "flights.iloc[86022]"
   ]
  },
  {
   "cell_type": "markdown",
   "metadata": {},
   "source": [
    "First, we see that this flight took place during the on March 9th 2014 - the spring start of DST, and the difference between UTC and CRS elapsed times is exactly 60 minutes. But which time is correct? Let’s take a look at this flight on other days."
   ]
  },
  {
   "cell_type": "code",
   "execution_count": null,
   "metadata": {},
   "outputs": [],
   "source": [
    "flights[(flights['Flight_Number_Reporting_Airline'] == 103) &\n",
    "         (flights['Origin'] == 'SEA')][['CRSArrTime', 'CRSElapsedTime', 'UTCElapsedTime_CRS', 'diff_CRS']]"
   ]
  },
  {
   "cell_type": "markdown",
   "metadata": {},
   "source": [
    "It seems that the only flight having the difference is the filight landed 9th March 2014 and the UTC-based elapsed time is correct (CRSElapsedTime has the wrong value for DST day). Let's examine other flights having difference of 60 min."
   ]
  },
  {
   "cell_type": "code",
   "execution_count": null,
   "metadata": {},
   "outputs": [],
   "source": [
    "diff_60_min = flights[flights['diff_CRS'] == -60][['CRSDepTime', 'CRSArrTime', 'CRSElapsedTime', 'UTCElapsedTime_CRS', 'diff_CRS']]\n",
    "print(len(diff_60_min), 'records')\n",
    "diff_60_min\n",
    "\n",
    "del(diff_60_min)"
   ]
  },
  {
   "cell_type": "markdown",
   "metadata": {},
   "source": [
    "We can see that all flights with a -60 minute difference between UTC and CRS elapsed times occurred during DST. There are 13 such records in the dataset.\n",
    "\n",
    "We can conclude that the CRS elapsed time is incorrect for all 13 flights that passed through DST.\n",
    "\n",
    "This explains the discrepancy between UTC and CRS elapsed times for 13 out of the 76 flights in the dataset. But what about the remaining flights with a difference?"
   ]
  },
  {
   "cell_type": "code",
   "execution_count": null,
   "metadata": {},
   "outputs": [],
   "source": [
    "flights['UTCElapsedTime_CRS'].describe()"
   ]
  },
  {
   "cell_type": "markdown",
   "metadata": {},
   "source": [
    "There is another interesting fact - some flights has also a negative UTC elapsed time! How is this possible?"
   ]
  },
  {
   "cell_type": "code",
   "execution_count": null,
   "metadata": {},
   "outputs": [],
   "source": [
    "error_less_0 = flights[flights['UTCElapsedTime_CRS'] < 0]\n",
    "print(len(error_less_0))\n",
    "error_less_0[\n",
    "    ['CRSDepTime', \n",
    "     'Origin', \n",
    "     'CRSArrTime', \n",
    "     'Dest', \n",
    "     'CRSElapsedTime', \n",
    "     'UTCElapsedTime_CRS', \n",
    "     'diff_CRS']]\n"
   ]
  },
  {
   "cell_type": "markdown",
   "metadata": {},
   "source": [
    "There are 31 flights with a negative UTC elapsed time. Previously, we analyzed the differences between UTC and CRS elapsed times and found that 31 flights had a -1440 minute difference. These are the same flights. A difference of 1440 minutes is equivalent to 24 hours.\n",
    "\n",
    "All 31 flights were from HNL to GUM, which is interesting because HNL is in the UTC-10 timezone, while GUM is in the UTC+10 timezone. These two airports are located across the International Date Line (IDL)."
   ]
  },
  {
   "cell_type": "code",
   "execution_count": null,
   "metadata": {},
   "outputs": [],
   "source": [
    "print(error_less_0[['CRSDep_UTC', 'CRSDepTime', 'Origin', 'CRSArr_UTC', 'CRSArrTime', 'Dest', 'diff_CRS']].head())\n",
    "\n",
    "del(error_less_0)"
   ]
  },
  {
   "cell_type": "markdown",
   "metadata": {},
   "source": [
    "The easiest way to correct this is to find all flight with UTC Departures less than UTC Arrival and add 24 x 60 minutes to the UTC Elapsed time"
   ]
  },
  {
   "cell_type": "markdown",
   "metadata": {},
   "source": [
    "There ara other flights which have the \"oposite\" difference - they differ on +1440 minutes. "
   ]
  },
  {
   "cell_type": "code",
   "execution_count": null,
   "metadata": {},
   "outputs": [],
   "source": [
    "error_plus_1440 = flights[flights['diff_CRS'] == 1440]\n",
    "print(len(error_plus_1440))\n",
    "print(error_plus_1440[['CRSDep_UTC', 'CRSDepTime', 'Origin', 'CRSArr_UTC', 'CRSArrTime', 'Dest', 'diff_CRS']])\n",
    "\n",
    "del(error_plus_1440)"
   ]
  },
  {
   "cell_type": "markdown",
   "metadata": {},
   "source": [
    "All these flight are back flights from GUM to HLN across Internation Date Line (IDL). The ramedy is simillar - to subtract 24 x 60 (1440) minutes from UTC elapsed time. \n",
    "\n",
    "There is just one flight with unexamined yet difference. "
   ]
  },
  {
   "cell_type": "code",
   "execution_count": null,
   "metadata": {},
   "outputs": [],
   "source": [
    "error_minus_36 = flights[flights['diff_CRS'] == -36]\n",
    "print(len(error_minus_36), 'records')\n",
    "print(error_minus_36[['Flight_Number_Reporting_Airline', 'CRSDep_UTC', 'CRSDepTime', 'Origin', 'CRSArr_UTC', \n",
    "               'CRSArrTime', 'Dest', 'CRSElapsedTime', 'UTCElapsedTime_CRS', \n",
    "               'ActualElapsedTime', 'diff_CRS', 'Cancelled', 'Diverted']].T)\n",
    "\n",
    "del(error_minus_36)"
   ]
  },
  {
   "cell_type": "code",
   "execution_count": null,
   "metadata": {},
   "outputs": [],
   "source": [
    "flights[(flights['Flight_Number_Reporting_Airline'] == 317) &\n",
    "        (flights['Origin'] == 'DEN') &\n",
    "        (flights['Dest'] == 'PSP')] [['CRSElapsedTime', 'UTCElapsedTime_CRS', 'diff_CRS']]"
   ]
  },
  {
   "cell_type": "markdown",
   "metadata": {},
   "source": [
    "In this case we see that CRS Elapsed time is:\n",
    "1. also inconsistent with CRS Departure and CRS Arrival times\n",
    "2. all other flights for this route have the equal CRS and UTC elapsed times which is 129 minutes  \n",
    "\n",
    "So this can be an error"
   ]
  },
  {
   "cell_type": "markdown",
   "metadata": {},
   "source": [
    "### Checking ACTUAL time"
   ]
  },
  {
   "cell_type": "code",
   "execution_count": null,
   "metadata": {},
   "outputs": [],
   "source": [
    "flights['diff_Act'].value_counts()"
   ]
  },
  {
   "cell_type": "markdown",
   "metadata": {},
   "source": [
    "It appears that the actual elapsed time shows the same differences as the scheduled elapsed time between the two types of flight duration: one calculated using UTC arrival and departure times, and the other based on the ActualElapsedTime provided in the dataset. Let’s take a closer look.\n",
    "\n",
    "The total number of discrepancies is 78, with the following breakdown:\n",
    "*\t+/-1440 minutes: 60 records, likely related to flights crossing the International Date Line (IDL) from HNL to GUM and back.\n",
    "*\t-60 minutes: 15 records, possibly due to flights occurring during the transition to Daylight Saving Time (DST) in the spring.\n",
    "*\tOther: 3 records with small, random differences, which could be attributed to minor errors."
   ]
  },
  {
   "cell_type": "code",
   "execution_count": null,
   "metadata": {},
   "outputs": [],
   "source": [
    "error_1440 = flights[flights['diff_Act'].isin([1440, -1440])]\n",
    "print('There are:', len(error_1440), 'records with differenc +/-1440 min (equal to 24 hours)')\n",
    "print('Which airports are presented among these flights? -', *set(error_1440['Origin']).union(set(error_1440['Origin'])))\n",
    "\n",
    "del(error_1440)"
   ]
  },
  {
   "cell_type": "markdown",
   "metadata": {},
   "source": [
    "All these flights are again between two airports across IDL. We already know this problem and know how to cue it. "
   ]
  },
  {
   "cell_type": "code",
   "execution_count": null,
   "metadata": {},
   "outputs": [],
   "source": [
    "flights.info()"
   ]
  },
  {
   "cell_type": "code",
   "execution_count": 84,
   "metadata": {},
   "outputs": [],
   "source": [
    "fields_to_check = ['Flight_Number_Reporting_Airline', 'ActDepDT', 'ActArrDT',\n",
    "                   'Origin', 'Dest', 'ActualElapsedTime', 'UTCElapsedTime_Act']\n",
    "error_60 = flights[flights['diff_Act'] == -60][fields_to_check]"
   ]
  },
  {
   "cell_type": "code",
   "execution_count": 9,
   "metadata": {},
   "outputs": [],
   "source": [
    "# [FUNCTION]\n",
    "\n",
    "def add_local_tz(df, dt_field, IATA_code_field):\n",
    "    '''Function to add to the series of datetime a timezone specified by airports IATA codes\n",
    "    \n",
    "    Papameters\n",
    "    ------------\n",
    "    df                  DataFrame   - dataset with flights records\n",
    "    dt_field            str         - name of the field with tz-naive datetime\n",
    "    IATA_code_filed     str         - name of the field with IATA airport code\n",
    "    '''\n",
    "    return [row[dt_field].tz_localize(tz=tz.gettz(IATAtz[row[IATA_code_field]]), ambiguous=True ,nonexistent='shift_forward')\n",
    "        for _, row in df.iterrows()]"
   ]
  },
  {
   "cell_type": "code",
   "execution_count": null,
   "metadata": {},
   "outputs": [],
   "source": [
    "error_60['ActDepDT_tz'] = add_local_tz(error_60, 'ActDepDT', 'Origin')\n",
    "error_60['ActArrDT_tz'] = add_local_tz(error_60, 'ActArrDT', 'Dest')\n",
    "\n",
    "print(error_60[fields_to_check])\n",
    "print(len(error_60))"
   ]
  },
  {
   "cell_type": "markdown",
   "metadata": {},
   "source": [
    "All these flights departured before the transition to DST and arrived after it (except one flight 125 from SEA to FAI). This is the reason they have a wrong ActualElapsedTime. It's worth to mention that theirs arrival time is correct.\n"
   ]
  },
  {
   "cell_type": "code",
   "execution_count": null,
   "metadata": {},
   "outputs": [],
   "source": [
    "flights[(flights['Flight_Number_Reporting_Airline'] == 125) &\n",
    "         (flights['Origin'] == 'SEA') &\n",
    "         (flights['Dest'] == 'FAI')] [['Flight_Number_Reporting_Airline', \n",
    "                                       'ActDepDT', 'ActArrDT', \n",
    "                                       'Origin', 'Dest', \n",
    "                                       'ActualElapsedTime', 'UTCElapsedTime_Act', 'diff_CRS']]"
   ]
  },
  {
   "cell_type": "markdown",
   "metadata": {},
   "source": [
    "The flight 125 from SEA to FAI has the wrong Actual Elapsed time only on March 9th 2014. On all other days the actual elapsed times are equil to UTC-based actual elapsed time. "
   ]
  },
  {
   "cell_type": "markdown",
   "metadata": {},
   "source": [
    "Let's analyse remaining flights with differencies"
   ]
  },
  {
   "cell_type": "code",
   "execution_count": null,
   "metadata": {},
   "outputs": [],
   "source": [
    "fields_to_check = ['Flight_Number_Reporting_Airline',\n",
    "       'ActDepDT', \n",
    "       'ActArrDT',\n",
    "       'Origin', \n",
    "       'Dest', \n",
    "       'ActDep_UTC',\n",
    "       'ActArr_UTC',\n",
    "       'diff_Act', \n",
    "       'ActualElapsedTime', \n",
    "       'UTCElapsedTime_Act']\n",
    "other = flights[(flights['diff_Act'] > -60) & (flights['diff_Act'] < 10) & (flights['diff_Act'] != 0)]\n",
    "print(len(other))\n",
    "other[fields_to_check].T"
   ]
  },
  {
   "cell_type": "markdown",
   "metadata": {},
   "source": [
    "First of all, we notice that all these differences appear again on the spring DST start date.\n",
    "Secondly, it looks like the first two flights have minor errors that we can disregard, and we can use UTC elapsed time instead of Actual elapsed time. However, the third flight has a significant difference. Let’s examine it in more detail."
   ]
  },
  {
   "cell_type": "code",
   "execution_count": null,
   "metadata": {},
   "outputs": [],
   "source": [
    "flights[(flights['Flight_Number_Reporting_Airline'] == 5702) &\\\n",
    "        (flights['Origin'] == 'ORD') & (flights['Dest'] == 'CAE')] [fields_to_check]"
   ]
  },
  {
   "cell_type": "markdown",
   "metadata": {},
   "source": [
    "We observe that the same flight on other days has a duration close to the actual elapsed time recorded on March 9th. The elapsed time based on UTC, however, is significantly different from the real duration, which suggests that either the actual departure or arrival time (or both) is incorrect. There are several options to address this, such as adjusting the departure or arrival time based on the average duration of similar flights. However, due to the insignificance of this error (1 out of almost 500k flights in total, and 25 flights on this route in the same month), the simplest solution is to drop this record on the next stage."
   ]
  },
  {
   "cell_type": "markdown",
   "metadata": {},
   "source": [
    "### Conclusions for evaluation of the accuracy of Scheduled and Actual Elapsed Times  \n",
    "1. The most of data accurate\n",
    "2. The flights across IDL (particularly GUM and HNL airports) reqieres substructuo of 1440 minutes (24hours) due to the date change.\n",
    "3. The start of DST creates minor errors in elapsed time calculation and requires correction.\n",
    "4. Therea are absulute minorite of flights that have indiscrepencies between elapsed time and departur and arrival time (3 flight for more about 500k records for March 2014.)"
   ]
  },
  {
   "cell_type": "markdown",
   "metadata": {},
   "source": [
    "## Data transformation"
   ]
  },
  {
   "cell_type": "markdown",
   "metadata": {},
   "source": [
    "### Preprocessing 60 files with data (one file - one month)"
   ]
  },
  {
   "cell_type": "code",
   "execution_count": 90,
   "metadata": {},
   "outputs": [],
   "source": [
    "fields_to_load = {\n",
    "    # 'Year':                 np.int16,               \n",
    "    # 'Quarter':              np.int8,                \n",
    "    # 'Month':                np.int8,                \n",
    "    # 'DayofMonth':           np.int8,\n",
    "    # 'DayOfWeek':            np.int8,\n",
    "    'FlightDate':           'str',\n",
    "    'Reporting_Airline':    'category',\n",
    "    'Flight_Number_Reporting_Airline':  np.int16,\n",
    "    # 'OriginAirportID':      'category',\n",
    "    'Origin':               'category',\n",
    "    # 'DestAirportID':        'category',\n",
    "    'Dest':                 'category',\n",
    "    'CRSDepTime':           np.int16,\n",
    "    'DepTime':              'float32',\n",
    "    'DepDelay':             'float32',\n",
    "    'DepartureDelayGroups': 'category',\n",
    "    'DepTimeBlk':           'category',\n",
    "    'CRSArrTime':           np.int16,\n",
    "    'ArrTime':              'float32',\n",
    "    'ArrDelay':             'float32',\n",
    "    # 'Distance':             'float32',\n",
    "    'ArrivalDelayGroups':   'category',\n",
    "    'ArrTimeBlk':           'category',\n",
    "    'Cancelled':            np.int8,        # boolean\n",
    "    'CancellationCode':     'category',\n",
    "    'Diverted':             np.int8,        # boolean\n",
    "    'CarrierDelay':         'float32',\n",
    "    'WeatherDelay':         'float32',\n",
    "    'NASDelay':             'float32',\n",
    "    'SecurityDelay':        'float32',\n",
    "    'LateAircraftDelay':    'float32',\n",
    "    'CRSElapsedTime':       'float32',\n",
    "    'ActualElapsedTime':    'float32',\n",
    "    'AirTime':              'float32',\n",
    "    'DivReachedDest':       'float32',      # boolean\n",
    "    'DivActualElapsedTime': 'float32',\n",
    "    'DivArrDelay':          'float32'}"
   ]
  },
  {
   "cell_type": "code",
   "execution_count": null,
   "metadata": {},
   "outputs": [],
   "source": [
    "source_zip = 'data/interim/csv_flight.zip'\n",
    "source_path = 'csv_flight/report_'\n",
    "counter = 0\n",
    "total_time = 0\n",
    "\n",
    "# Fields to downcast type from 'float32' to 'float16'\n",
    "downcast_fields = ['DepDelay', 'ArrDelay', 'CarrierDelay', 'WeatherDelay','NASDelay', 'SecurityDelay', 'LateAircraftDelay', \n",
    "                   'CRSElapsedTime', 'ActualElapsedTime', 'AirTime', 'DivActualElapsedTime', 'DivArrDelay', 'UTCElapsedTime_CRS',\n",
    "                   'UTCElapsedTime_Act', 'diff_CRS', 'diff_Act']\n",
    "\n",
    "for year in range(2014, 2019):\n",
    "    for month in range(1, 13): \n",
    "        t_start = time()\n",
    "        counter += 1\n",
    "        source_data = source_path + str(year) + '_' + str(month) + '.csv'\n",
    "        print(source_data + ' ', end='')\n",
    "\n",
    "        flights = pd.DataFrame()\n",
    "        flights = load_data_from(source_zip, source_data, fields_to_load)\n",
    "\n",
    "        flights['CRSArrTime_min'] = time_to_minutes(flights['CRSArrTime'])\n",
    "        flights['CRSDepTime_min'] = time_to_minutes(flights['CRSDepTime'])\n",
    "        flights['ArrTime_min'] = time_to_minutes(flights['ArrTime'])\n",
    "        flights['DepTime_min'] = time_to_minutes(flights['DepTime'])\n",
    "\n",
    "        flights['CRSDepDT'], flights['CRSArrDT'] = get_CRS_datetime(flights['FlightDate'], \n",
    "                                                                    flights['CRSDepTime_min'], \n",
    "                                                                    flights['CRSArrTime_min'])\n",
    "\n",
    "        flights['DepDT'], flights['ArrDT'] = get_Actual_datetime(flights['FlightDate'],\n",
    "                                                                flights['CRSDepTime_min'],  \n",
    "                                                                flights['DepTime_min'], \n",
    "                                                                flights['ArrTime_min'],\n",
    "                                                                flights['DepDelay'])\n",
    "\n",
    "        # Getting UTC timezone for scheduled (CRS) departure and arrival times\n",
    "        flights['CRSDep_UTC'] = convert_column_to_UTC(flights, 'CRSDepDT', 'Origin')\n",
    "        flights['CRSArr_UTC'] = convert_column_to_UTC(flights, 'CRSArrDT', 'Dest')\n",
    "\n",
    "        # We have to filter for non-NA values because astimezone doesn't work wiht NaN/NaT\n",
    "        nonNA_Dep = ~flights['DepTime'].isna()\n",
    "        flights['ActDep_UTC'] = pd.NaT\n",
    "        flights['ActDep_UTC'] = flights['ActDep_UTC'].dt.tz_localize(tz.UTC)\n",
    "        flights.loc[nonNA_Dep, 'ActDep_UTC'] = pd.to_datetime(convert_column_to_UTC(flights[nonNA_Dep], 'DepDT', 'Origin'))\n",
    "\n",
    "        # We have to filter for non-NA values because astimezone doesn't work wiht NaN/NaT\n",
    "        nonNA_Arr = ~flights['ArrTime'].isna()\n",
    "        flights['ActArr_UTC'] = pd.NaT\n",
    "        flights['ActArr_UTC'] = flights['ActArr_UTC'].dt.tz_localize(tz.UTC)\n",
    "        flights.loc[nonNA_Arr, 'ActArr_UTC'] = convert_column_to_UTC(flights[nonNA_Arr], 'ArrDT', 'Dest')\n",
    "\n",
    "        # Calculating Elapsed time based on UTC times\n",
    "        flights['UTCElapsedTime_CRS'] = (flights['CRSArr_UTC'] - flights['CRSDep_UTC']).dt.total_seconds() / 60\n",
    "        flights.loc[nonNA_Arr, 'UTCElapsedTime_Act'] = pd.to_timedelta((flights.loc[nonNA_Arr, 'ActArr_UTC'] - \n",
    "                                                                flights.loc[nonNA_Arr, 'ActDep_UTC'])).dt.total_seconds() / 60\n",
    "\n",
    "        flights['diff_CRS'] = flights['UTCElapsedTime_CRS'] - flights['CRSElapsedTime']\n",
    "        flights['diff_Act'] = flights['UTCElapsedTime_Act'] - flights['ActualElapsedTime']\n",
    "       \n",
    "        # Cleaning the dataset\n",
    "        flights.drop(['FlightDate', \n",
    "                    'DepTime', 'DepTime_min', 'ArrTime', 'ArrTime_min',\n",
    "                    'CRSDepTime', 'CRSDepTime_min', 'CRSArrTime', 'CRSArrTime_min'], axis = 1, inplace = True)\n",
    "        flights[downcast_fields] = flights[downcast_fields].astype('float16')\n",
    "\n",
    "        # Export data\n",
    "        output_file_name = 'data/processed/processed_' + str(year) + '_' + str(month) + '.pickle'\n",
    "        with open(output_file_name, 'wb') as out_file:\n",
    "            pickle.dump(flights, out_file, protocol=pickle.HIGHEST_PROTOCOL)\n",
    "\n",
    "        t_end = time()\n",
    "        elapsed_t = t_end - t_start\n",
    "        total_time += elapsed_t\n",
    "        print(round(elapsed_t, 1), 'sec, total time:', round(total_time, 1), \\\n",
    "            'sec, avg: ', round(total_time / counter, 1), 'sec, remaining time (estimate)', \n",
    "            round(total_time / counter * (60 - counter) /60), 'min.')\n",
    "\n",
    "print('\\nTotal files:', counter)\n",
    "print('Total time:', round(total_time / 60, 1), 'min')\n",
    "print('Average time:', round(total_time / counter, 1), 'sec')\n",
    "del(flights)"
   ]
  },
  {
   "cell_type": "code",
   "execution_count": null,
   "metadata": {},
   "outputs": [],
   "source": [
    "print('Total files:', counter)\n",
    "print('Total time:', round(total_time / 60, 1), 'min')\n",
    "print('Average time:', round(total_time / counter, 1), 'sec')"
   ]
  },
  {
   "cell_type": "markdown",
   "metadata": {},
   "source": [
    "### Loading the total dataset"
   ]
  },
  {
   "cell_type": "code",
   "execution_count": 10,
   "metadata": {},
   "outputs": [],
   "source": [
    "# [FUNCTION]\n",
    "\n",
    "def memory_usage_per_type(data_frame):\n",
    "    '''\n",
    "    Source: https://medium.com/@alielagrebi/optimize-the-pandas-dataframe-memory-consuming-for-low-environment-24aa74cf9413\n",
    "    '''\n",
    "    types = ['number', 'object', 'datetimetz', 'category', 'bool']\n",
    "    for tp in types:\n",
    "        selected_col = data_frame.select_dtypes(include=[tp])\n",
    "        memory_usage_per_type_b = selected_col.memory_usage(deep=True).sum()\n",
    "        memory_usage_per_type_mb = memory_usage_per_type_b / 1024**2\n",
    "        print('memory usage for {} columns: {:03.3f} MB'.format(tp, memory_usage_per_type_mb))\n",
    "    \n",
    "\n",
    "def memory_usage(data_frame):\n",
    "    return data_frame.memory_usage(deep=True).sum() / 1024**2\n"
   ]
  },
  {
   "cell_type": "code",
   "execution_count": null,
   "metadata": {},
   "outputs": [],
   "source": [
    "flights = pd.DataFrame()\n",
    "flights_list = []\n",
    "for year in range(2014, 2019):\n",
    "    for month in range(1, 13): \n",
    "        input_file_name = 'data/processed/processed_' + str(year) + '_' + str(month) + '.pickle'\n",
    "        print(input_file_name)\n",
    "        with open(input_file_name, 'rb') as in_file:\n",
    "            flights_list.append(pickle.load(in_file))\n",
    "\n",
    "flights = pd.concat(flights_list, axis=0, ignore_index=True)\n",
    "del(flights_list)"
   ]
  },
  {
   "cell_type": "code",
   "execution_count": null,
   "metadata": {},
   "outputs": [],
   "source": [
    "# There 35 flights which doesn't have CRS Elapsed Time \n",
    "# I will assign UTC Elapsed TIme (CRS) to CRS Elapsed Time for these flights\n",
    "# and set their diff_CRS field to 0\n",
    "\n",
    "flights_with_zero_CRS_ET = flights['CRSElapsedTime'].isna()\n",
    "\n",
    "print('Number of records with NaN CRS Elapsed Time before:', flights['CRSElapsedTime'].isna().sum())\n",
    "flights[flights_with_zero_CRS_ET][['CRSElapsedTime', 'UTCElapsedTime_CRS', 'diff_CRS', 'CRSDepDT', 'CRSArrDT']]\n",
    "flights.loc[flights_with_zero_CRS_ET, 'CRSElapsedTime'], flights.loc[flights_with_zero_CRS_ET, 'diff_CRS'] = \\\n",
    "    flights.loc[flights_with_zero_CRS_ET, 'UTCElapsedTime_CRS'],  0\n",
    "print('Number of records with NaN CRS Elapsed Time before:', flights['CRSElapsedTime'].isna().sum())\n"
   ]
  },
  {
   "cell_type": "code",
   "execution_count": null,
   "metadata": {},
   "outputs": [],
   "source": [
    "flights.info()"
   ]
  },
  {
   "cell_type": "markdown",
   "metadata": {},
   "source": [
    "Let's check the memory usage"
   ]
  },
  {
   "cell_type": "code",
   "execution_count": null,
   "metadata": {},
   "outputs": [],
   "source": [
    "memory_usage_per_type(flights)\n",
    "print('Memory usage by dataframe {:.2f} MB'.format(memory_usage(flights)) )"
   ]
  },
  {
   "cell_type": "markdown",
   "metadata": {},
   "source": [
    "All 'category' fileds become 'object' and use a lot of memory. Let's change them back to 'category' to save memory"
   ]
  },
  {
   "cell_type": "code",
   "execution_count": 20,
   "metadata": {},
   "outputs": [],
   "source": [
    "category_fields = ['Reporting_Airline', 'Origin', 'Dest', 'CancellationCode']\n",
    "flights[category_fields] = flights[category_fields].astype('category')"
   ]
  },
  {
   "cell_type": "code",
   "execution_count": null,
   "metadata": {},
   "outputs": [],
   "source": [
    "print(flights.info())"
   ]
  },
  {
   "cell_type": "code",
   "execution_count": null,
   "metadata": {},
   "outputs": [],
   "source": [
    "memory_usage_per_type(flights)\n",
    "print('Memory usage by dataframe {:.2f} MB'.format(memory_usage(flights)) )"
   ]
  },
  {
   "cell_type": "markdown",
   "metadata": {},
   "source": [
    "Saving the total dataset to .pickle file without correcting the elapsed time errors identified earlier"
   ]
  },
  {
   "cell_type": "code",
   "execution_count": 23,
   "metadata": {},
   "outputs": [],
   "source": [
    "output_file_name = 'data/processed/processed_2014_2018.pickle'\n",
    "with open(output_file_name, 'wb') as out_file:\n",
    "    pickle.dump(flights, out_file, protocol=pickle.HIGHEST_PROTOCOL)\n"
   ]
  },
  {
   "cell_type": "markdown",
   "metadata": {},
   "source": [
    "### Correcting elapsed times errrors"
   ]
  },
  {
   "cell_type": "code",
   "execution_count": 1,
   "metadata": {},
   "outputs": [
    {
     "ename": "FileNotFoundError",
     "evalue": "[Errno 2] No such file or directory: 'data/processed/processed_2014_2018.pickle'",
     "output_type": "error",
     "traceback": [
      "\u001b[0;31m---------------------------------------------------------------------------\u001b[0m",
      "\u001b[0;31mFileNotFoundError\u001b[0m                         Traceback (most recent call last)",
      "Cell \u001b[0;32mIn[1], line 4\u001b[0m\n\u001b[1;32m      1\u001b[0m \u001b[38;5;66;03m# Loading preprocessed dataset\u001b[39;00m\n\u001b[1;32m      3\u001b[0m input_file_name \u001b[38;5;241m=\u001b[39m \u001b[38;5;124m'\u001b[39m\u001b[38;5;124mdata/processed/processed_2014_2018.pickle\u001b[39m\u001b[38;5;124m'\u001b[39m\n\u001b[0;32m----> 4\u001b[0m \u001b[38;5;28;01mwith\u001b[39;00m \u001b[38;5;28mopen\u001b[39m(input_file_name, \u001b[38;5;124m'\u001b[39m\u001b[38;5;124mrb\u001b[39m\u001b[38;5;124m'\u001b[39m) \u001b[38;5;28;01mas\u001b[39;00m in_file:\n\u001b[1;32m      5\u001b[0m     flights \u001b[38;5;241m=\u001b[39m pickle\u001b[38;5;241m.\u001b[39mload(in_file)\n",
      "File \u001b[0;32m~/Documents/01_Education/SpringBoard/anaconda3/lib/python3.12/site-packages/IPython/core/interactiveshell.py:324\u001b[0m, in \u001b[0;36m_modified_open\u001b[0;34m(file, *args, **kwargs)\u001b[0m\n\u001b[1;32m    317\u001b[0m \u001b[38;5;28;01mif\u001b[39;00m file \u001b[38;5;129;01min\u001b[39;00m {\u001b[38;5;241m0\u001b[39m, \u001b[38;5;241m1\u001b[39m, \u001b[38;5;241m2\u001b[39m}:\n\u001b[1;32m    318\u001b[0m     \u001b[38;5;28;01mraise\u001b[39;00m \u001b[38;5;167;01mValueError\u001b[39;00m(\n\u001b[1;32m    319\u001b[0m         \u001b[38;5;124mf\u001b[39m\u001b[38;5;124m\"\u001b[39m\u001b[38;5;124mIPython won\u001b[39m\u001b[38;5;124m'\u001b[39m\u001b[38;5;124mt let you open fd=\u001b[39m\u001b[38;5;132;01m{\u001b[39;00mfile\u001b[38;5;132;01m}\u001b[39;00m\u001b[38;5;124m by default \u001b[39m\u001b[38;5;124m\"\u001b[39m\n\u001b[1;32m    320\u001b[0m         \u001b[38;5;124m\"\u001b[39m\u001b[38;5;124mas it is likely to crash IPython. If you know what you are doing, \u001b[39m\u001b[38;5;124m\"\u001b[39m\n\u001b[1;32m    321\u001b[0m         \u001b[38;5;124m\"\u001b[39m\u001b[38;5;124myou can use builtins\u001b[39m\u001b[38;5;124m'\u001b[39m\u001b[38;5;124m open.\u001b[39m\u001b[38;5;124m\"\u001b[39m\n\u001b[1;32m    322\u001b[0m     )\n\u001b[0;32m--> 324\u001b[0m \u001b[38;5;28;01mreturn\u001b[39;00m io_open(file, \u001b[38;5;241m*\u001b[39margs, \u001b[38;5;241m*\u001b[39m\u001b[38;5;241m*\u001b[39mkwargs)\n",
      "\u001b[0;31mFileNotFoundError\u001b[0m: [Errno 2] No such file or directory: 'data/processed/processed_2014_2018.pickle'"
     ]
    }
   ],
   "source": [
    "# Loading preprocessed dataset\n",
    "\n",
    "input_file_name = 'data/processed/processed_2014_2018.pickle'\n",
    "with open(input_file_name, 'rb') as in_file:\n",
    "    flights = pickle.load(in_file)"
   ]
  },
  {
   "cell_type": "code",
   "execution_count": 115,
   "metadata": {},
   "outputs": [],
   "source": [
    "pd.reset_option('display.max_rows')\n",
    "pd.reset_option('display.width')"
   ]
  },
  {
   "cell_type": "markdown",
   "metadata": {},
   "source": [
    "#### Scheduled (CRS) and UTC_based scheduled elapsed times"
   ]
  },
  {
   "cell_type": "code",
   "execution_count": 116,
   "metadata": {},
   "outputs": [
    {
     "data": {
      "text/plain": [
       "diff_CRS\n",
       " 0.0       30140198\n",
       "-1440.0        1827\n",
       " 1440.0        1826\n",
       "-60.0           251\n",
       " 60.0           180\n",
       "             ...   \n",
       " 6.0              1\n",
       " 1315.0           1\n",
       " 67.0             1\n",
       " 160.0            1\n",
       " 61.0             1\n",
       "Name: count, Length: 113, dtype: int64"
      ]
     },
     "execution_count": 116,
     "metadata": {},
     "output_type": "execute_result"
    }
   ],
   "source": [
    "flights['diff_CRS'].value_counts()"
   ]
  },
  {
   "cell_type": "code",
   "execution_count": 117,
   "metadata": {},
   "outputs": [],
   "source": [
    "# [FUNCTION]\n",
    "# Return the sliice of dataset where at least one of two fields of a row is DST start or finish date\n",
    "\n",
    "def isDST(ds, field1, field2):\n",
    "    return (pd.to_datetime(ds.loc[:, field1].dt.date).isin(DST) \n",
    "            | pd.to_datetime(ds.loc[:,field2].dt.date).isin(DST))"
   ]
  },
  {
   "cell_type": "code",
   "execution_count": 118,
   "metadata": {},
   "outputs": [],
   "source": [
    "# [FUNCTION]\n",
    "\n",
    "def correct_IDL(df, time_type):\n",
    "    '''\n",
    "    Description\n",
    "    ------------\n",
    "    Correcting time data for HML and GUM airports which are across IDL \n",
    "\n",
    "    Parameters:\n",
    "    ------------\n",
    "    df - flights dataset (pd.DateFrame)\n",
    "    time_type - 'CRS' for scheduled times and 'Act' for actual\n",
    "    \n",
    "    Returns:\n",
    "    ------------\n",
    "    none\n",
    "    '''\n",
    "    if time_type not in ['CRS', 'Act']:\n",
    "        print('Wrong parameter:', time_type)\n",
    "        return -1\n",
    "    \n",
    "    diff = 'diff_' + time_type\n",
    "    arrUTC = time_type + 'Arr_UTC'\n",
    "    UTCElapsed = 'UTCElapsedTime_' + time_type\n",
    "\n",
    "    error_1440_filter = df[diff].isin([1440, -1440])\n",
    "    error_1440 = df[error_1440_filter]\n",
    "    HNL_GUM_filter = (error_1440['Origin'].isin(['HNL', 'GUM'])) & (error_1440['Dest'].isin(['HNL', 'GUM']))\n",
    "    error_1440 = error_1440[HNL_GUM_filter]\n",
    "    print(error_1440[['Origin', 'Dest', \n",
    "                'CRSDepDT', 'CRSArrDT',\n",
    "                'CRSDep_UTC', 'CRSArr_UTC', \n",
    "                'CRSElapsedTime', 'UTCElapsedTime_CRS', 'diff_CRS']])\n",
    "    error_1440[diff].astype(int)\n",
    "    error_1440[arrUTC] -= pd.to_timedelta(error_1440[diff], 'min')\n",
    "    error_1440[UTCElapsed] -= error_1440[diff]\n",
    "    error_1440[diff] = 0\n",
    "    print(error_1440[['Origin', 'Dest', \n",
    "                'CRSDepDT', 'CRSArrDT',\n",
    "                'CRSDep_UTC', 'CRSArr_UTC', \n",
    "                'CRSElapsedTime', 'UTCElapsedTime_CRS', 'diff_CRS']])\n",
    "\n",
    "    df[error_1440_filter] = error_1440\n",
    "    del(error_1440)\n",
    "\n",
    "    return 1"
   ]
  },
  {
   "cell_type": "code",
   "execution_count": 119,
   "metadata": {},
   "outputs": [
    {
     "name": "stdout",
     "output_type": "stream",
     "text": [
      "         Origin Dest            CRSDepDT            CRSArrDT  \\\n",
      "138284      GUM  HNL 2014-01-22 07:15:00 2014-01-22 18:15:00   \n",
      "138286      HNL  GUM 2014-01-22 14:50:00 2014-01-22 18:40:00   \n",
      "162264      GUM  HNL 2014-01-09 07:15:00 2014-01-09 18:15:00   \n",
      "162266      HNL  GUM 2014-01-09 14:50:00 2014-01-09 18:40:00   \n",
      "295788      GUM  HNL 2014-01-31 07:15:00 2014-01-31 18:15:00   \n",
      "...         ...  ...                 ...                 ...   \n",
      "29923405    GUM  HNL 2018-12-03 07:50:00 2018-12-03 18:55:00   \n",
      "29925084    HNL  GUM 2018-12-02 15:15:00 2018-12-02 19:05:00   \n",
      "29925085    GUM  HNL 2018-12-02 07:50:00 2018-12-02 18:55:00   \n",
      "29926466    HNL  GUM 2018-12-01 15:15:00 2018-12-01 19:05:00   \n",
      "29926467    GUM  HNL 2018-12-01 07:50:00 2018-12-01 18:55:00   \n",
      "\n",
      "                        CRSDep_UTC                CRSArr_UTC  CRSElapsedTime  \\\n",
      "138284   2014-01-21 21:15:00+00:00 2014-01-23 04:15:00+00:00           420.0   \n",
      "138286   2014-01-23 00:50:00+00:00 2014-01-22 08:40:00+00:00           470.0   \n",
      "162264   2014-01-08 21:15:00+00:00 2014-01-10 04:15:00+00:00           420.0   \n",
      "162266   2014-01-10 00:50:00+00:00 2014-01-09 08:40:00+00:00           470.0   \n",
      "295788   2014-01-30 21:15:00+00:00 2014-02-01 04:15:00+00:00           420.0   \n",
      "...                            ...                       ...             ...   \n",
      "29923405 2018-12-02 21:50:00+00:00 2018-12-04 04:55:00+00:00           425.0   \n",
      "29925084 2018-12-03 01:15:00+00:00 2018-12-02 09:05:00+00:00           470.0   \n",
      "29925085 2018-12-01 21:50:00+00:00 2018-12-03 04:55:00+00:00           425.0   \n",
      "29926466 2018-12-02 01:15:00+00:00 2018-12-01 09:05:00+00:00           470.0   \n",
      "29926467 2018-11-30 21:50:00+00:00 2018-12-02 04:55:00+00:00           425.0   \n",
      "\n",
      "          UTCElapsedTime_CRS  diff_CRS  \n",
      "138284                1860.0    1440.0  \n",
      "138286                -970.0   -1440.0  \n",
      "162264                1860.0    1440.0  \n",
      "162266                -970.0   -1440.0  \n",
      "295788                1860.0    1440.0  \n",
      "...                      ...       ...  \n",
      "29923405              1865.0    1440.0  \n",
      "29925084              -970.0   -1440.0  \n",
      "29925085              1865.0    1440.0  \n",
      "29926466              -970.0   -1440.0  \n",
      "29926467              1865.0    1440.0  \n",
      "\n",
      "[3653 rows x 9 columns]\n",
      "         Origin Dest            CRSDepDT            CRSArrDT  \\\n",
      "138284      GUM  HNL 2014-01-22 07:15:00 2014-01-22 18:15:00   \n",
      "138286      HNL  GUM 2014-01-22 14:50:00 2014-01-22 18:40:00   \n",
      "162264      GUM  HNL 2014-01-09 07:15:00 2014-01-09 18:15:00   \n",
      "162266      HNL  GUM 2014-01-09 14:50:00 2014-01-09 18:40:00   \n",
      "295788      GUM  HNL 2014-01-31 07:15:00 2014-01-31 18:15:00   \n",
      "...         ...  ...                 ...                 ...   \n",
      "29923405    GUM  HNL 2018-12-03 07:50:00 2018-12-03 18:55:00   \n",
      "29925084    HNL  GUM 2018-12-02 15:15:00 2018-12-02 19:05:00   \n",
      "29925085    GUM  HNL 2018-12-02 07:50:00 2018-12-02 18:55:00   \n",
      "29926466    HNL  GUM 2018-12-01 15:15:00 2018-12-01 19:05:00   \n",
      "29926467    GUM  HNL 2018-12-01 07:50:00 2018-12-01 18:55:00   \n",
      "\n",
      "                        CRSDep_UTC                CRSArr_UTC  CRSElapsedTime  \\\n",
      "138284   2014-01-21 21:15:00+00:00 2014-01-22 04:15:00+00:00           420.0   \n",
      "138286   2014-01-23 00:50:00+00:00 2014-01-23 08:40:00+00:00           470.0   \n",
      "162264   2014-01-08 21:15:00+00:00 2014-01-09 04:15:00+00:00           420.0   \n",
      "162266   2014-01-10 00:50:00+00:00 2014-01-10 08:40:00+00:00           470.0   \n",
      "295788   2014-01-30 21:15:00+00:00 2014-01-31 04:15:00+00:00           420.0   \n",
      "...                            ...                       ...             ...   \n",
      "29923405 2018-12-02 21:50:00+00:00 2018-12-03 04:55:00+00:00           425.0   \n",
      "29925084 2018-12-03 01:15:00+00:00 2018-12-03 09:05:00+00:00           470.0   \n",
      "29925085 2018-12-01 21:50:00+00:00 2018-12-02 04:55:00+00:00           425.0   \n",
      "29926466 2018-12-02 01:15:00+00:00 2018-12-02 09:05:00+00:00           470.0   \n",
      "29926467 2018-11-30 21:50:00+00:00 2018-12-01 04:55:00+00:00           425.0   \n",
      "\n",
      "          UTCElapsedTime_CRS  diff_CRS  \n",
      "138284                 420.0         0  \n",
      "138286                 470.0         0  \n",
      "162264                 420.0         0  \n",
      "162266                 470.0         0  \n",
      "295788                 420.0         0  \n",
      "...                      ...       ...  \n",
      "29923405               425.0         0  \n",
      "29925084               470.0         0  \n",
      "29925085               425.0         0  \n",
      "29926466               470.0         0  \n",
      "29926467               425.0         0  \n",
      "\n",
      "[3653 rows x 9 columns]\n",
      "         Origin Dest            CRSDepDT            CRSArrDT  \\\n",
      "138284      GUM  HNL 2014-01-22 07:15:00 2014-01-22 18:15:00   \n",
      "138286      HNL  GUM 2014-01-22 14:50:00 2014-01-22 18:40:00   \n",
      "162264      GUM  HNL 2014-01-09 07:15:00 2014-01-09 18:15:00   \n",
      "162266      HNL  GUM 2014-01-09 14:50:00 2014-01-09 18:40:00   \n",
      "295788      GUM  HNL 2014-01-31 07:15:00 2014-01-31 18:15:00   \n",
      "...         ...  ...                 ...                 ...   \n",
      "29923405    GUM  HNL 2018-12-03 07:50:00 2018-12-03 18:55:00   \n",
      "29925084    HNL  GUM 2018-12-02 15:15:00 2018-12-02 19:05:00   \n",
      "29925085    GUM  HNL 2018-12-02 07:50:00 2018-12-02 18:55:00   \n",
      "29926466    HNL  GUM 2018-12-01 15:15:00 2018-12-01 19:05:00   \n",
      "29926467    GUM  HNL 2018-12-01 07:50:00 2018-12-01 18:55:00   \n",
      "\n",
      "                        CRSDep_UTC                CRSArr_UTC  CRSElapsedTime  \\\n",
      "138284   2014-01-21 21:15:00+00:00 2014-01-22 04:15:00+00:00           420.0   \n",
      "138286   2014-01-23 00:50:00+00:00 2014-01-23 08:40:00+00:00           470.0   \n",
      "162264   2014-01-08 21:15:00+00:00 2014-01-09 04:15:00+00:00           420.0   \n",
      "162266   2014-01-10 00:50:00+00:00 2014-01-10 08:40:00+00:00           470.0   \n",
      "295788   2014-01-30 21:15:00+00:00 2014-01-31 04:15:00+00:00           420.0   \n",
      "...                            ...                       ...             ...   \n",
      "29923405 2018-12-02 21:50:00+00:00 2018-12-03 04:55:00+00:00           425.0   \n",
      "29925084 2018-12-03 01:15:00+00:00 2018-12-03 09:05:00+00:00           470.0   \n",
      "29925085 2018-12-01 21:50:00+00:00 2018-12-02 04:55:00+00:00           425.0   \n",
      "29926466 2018-12-02 01:15:00+00:00 2018-12-02 09:05:00+00:00           470.0   \n",
      "29926467 2018-11-30 21:50:00+00:00 2018-12-01 04:55:00+00:00           425.0   \n",
      "\n",
      "          UTCElapsedTime_CRS  diff_CRS  \n",
      "138284                 420.0       0.0  \n",
      "138286                 470.0       0.0  \n",
      "162264                 420.0       0.0  \n",
      "162266                 470.0       0.0  \n",
      "295788                 420.0       0.0  \n",
      "...                      ...       ...  \n",
      "29923405               425.0       0.0  \n",
      "29925084               470.0       0.0  \n",
      "29925085               425.0       0.0  \n",
      "29926466               470.0       0.0  \n",
      "29926467               425.0       0.0  \n",
      "\n",
      "[3623 rows x 9 columns]\n",
      "         Origin Dest            CRSDepDT            CRSArrDT  \\\n",
      "138284      GUM  HNL 2014-01-22 07:15:00 2014-01-22 18:15:00   \n",
      "138286      HNL  GUM 2014-01-22 14:50:00 2014-01-22 18:40:00   \n",
      "162264      GUM  HNL 2014-01-09 07:15:00 2014-01-09 18:15:00   \n",
      "162266      HNL  GUM 2014-01-09 14:50:00 2014-01-09 18:40:00   \n",
      "295788      GUM  HNL 2014-01-31 07:15:00 2014-01-31 18:15:00   \n",
      "...         ...  ...                 ...                 ...   \n",
      "29923405    GUM  HNL 2018-12-03 07:50:00 2018-12-03 18:55:00   \n",
      "29925084    HNL  GUM 2018-12-02 15:15:00 2018-12-02 19:05:00   \n",
      "29925085    GUM  HNL 2018-12-02 07:50:00 2018-12-02 18:55:00   \n",
      "29926466    HNL  GUM 2018-12-01 15:15:00 2018-12-01 19:05:00   \n",
      "29926467    GUM  HNL 2018-12-01 07:50:00 2018-12-01 18:55:00   \n",
      "\n",
      "                        CRSDep_UTC                CRSArr_UTC  CRSElapsedTime  \\\n",
      "138284   2014-01-21 21:15:00+00:00 2014-01-22 04:15:00+00:00           420.0   \n",
      "138286   2014-01-23 00:50:00+00:00 2014-01-23 08:40:00+00:00           470.0   \n",
      "162264   2014-01-08 21:15:00+00:00 2014-01-09 04:15:00+00:00           420.0   \n",
      "162266   2014-01-10 00:50:00+00:00 2014-01-10 08:40:00+00:00           470.0   \n",
      "295788   2014-01-30 21:15:00+00:00 2014-01-31 04:15:00+00:00           420.0   \n",
      "...                            ...                       ...             ...   \n",
      "29923405 2018-12-02 21:50:00+00:00 2018-12-03 04:55:00+00:00           425.0   \n",
      "29925084 2018-12-03 01:15:00+00:00 2018-12-03 09:05:00+00:00           470.0   \n",
      "29925085 2018-12-01 21:50:00+00:00 2018-12-02 04:55:00+00:00           425.0   \n",
      "29926466 2018-12-02 01:15:00+00:00 2018-12-02 09:05:00+00:00           470.0   \n",
      "29926467 2018-11-30 21:50:00+00:00 2018-12-01 04:55:00+00:00           425.0   \n",
      "\n",
      "          UTCElapsedTime_CRS  diff_CRS  \n",
      "138284                 420.0       0.0  \n",
      "138286                 470.0       0.0  \n",
      "162264                 420.0       0.0  \n",
      "162266                 470.0       0.0  \n",
      "295788                 420.0       0.0  \n",
      "...                      ...       ...  \n",
      "29923405               425.0       0.0  \n",
      "29925084               470.0       0.0  \n",
      "29925085               425.0       0.0  \n",
      "29926466               470.0       0.0  \n",
      "29926467               425.0       0.0  \n",
      "\n",
      "[3623 rows x 9 columns]\n"
     ]
    },
    {
     "data": {
      "text/plain": [
       "1"
      ]
     },
     "execution_count": 119,
     "metadata": {},
     "output_type": "execute_result"
    }
   ],
   "source": [
    "correct_IDL(flights, 'CRS')\n",
    "correct_IDL(flights, 'Act')"
   ]
  },
  {
   "cell_type": "code",
   "execution_count": 120,
   "metadata": {},
   "outputs": [
    {
     "name": "stdout",
     "output_type": "stream",
     "text": [
      "diff_CRS\n",
      " 0.0       30143851\n",
      "-60.0           251\n",
      " 60.0           180\n",
      " 1.0            103\n",
      "-1.0             31\n",
      "             ...   \n",
      " 6.0              1\n",
      " 1315.0           1\n",
      " 67.0             1\n",
      " 160.0            1\n",
      " 61.0             1\n",
      "Name: count, Length: 111, dtype: int64\n",
      "Total number of records with different CRS Elapsed time (UTC-based vs. source data): 764\n",
      "diff_Act\n",
      " 0.0      29588477\n",
      "-60.0          158\n",
      " 60.0          123\n",
      " 1.0            91\n",
      "-1.0            31\n",
      " 120.0          11\n",
      " 2.0             4\n",
      "-10.0            4\n",
      "-8.0             3\n",
      "-21.0            3\n",
      "-2.0             3\n",
      "-40.0            3\n",
      "-19.0            3\n",
      " 5.0             2\n",
      "-41.0            2\n",
      " 11.0            2\n",
      "-7.0             2\n",
      "-4.0             1\n",
      " 27.0            1\n",
      " 4.0             1\n",
      "-51.0            1\n",
      " 67.0            1\n",
      " 41.0            1\n",
      "-20.0            1\n",
      "-31.0            1\n",
      " 16.0            1\n",
      "-70.0            1\n",
      "-32.0            1\n",
      "-26.0            1\n",
      "-33.0            1\n",
      " 40.0            1\n",
      "-6.0             1\n",
      "-16.0            1\n",
      "-9.0             1\n",
      "-29.0            1\n",
      "-27.0            1\n",
      " 17.0            1\n",
      "-15.0            1\n",
      "-34.0            1\n",
      " 7.0             1\n",
      "Name: count, dtype: int64\n",
      "Total number of records with different Actual Elapsed time (UTC-based vs. source data): 468\n"
     ]
    }
   ],
   "source": [
    "print(flights['diff_CRS'].value_counts())\n",
    "print('Total number of records with different CRS Elapsed time (UTC-based vs. source data):', (flights['diff_CRS'] != 0).sum())\n",
    "print(flights['diff_Act'].value_counts())\n",
    "print('Total number of records with different Actual Elapsed time (UTC-based vs. source data):', ((flights['diff_Act'] != 0) & (~flights['diff_Act'].isna())).sum())\n"
   ]
  },
  {
   "cell_type": "code",
   "execution_count": 145,
   "metadata": {},
   "outputs": [],
   "source": [
    "def correct_error_of_time(df, time_type):\n",
    "\n",
    "    if time_type not in ['CRS', 'Act']:\n",
    "        print('Wrong parameter:', time_type)\n",
    "        return -1\n",
    "\n",
    "    diff = 'diff_' + time_type\n",
    "    arrUTC = time_type + 'Arr_UTC'\n",
    "    depUTC = time_type + 'Dep_UTC'\n",
    "    UTCElapsed = 'UTCElapsedTime_' + time_type\n",
    "    if time_type == 'Act':\n",
    "        ElapsedTime = 'ActualElapsedTime'\n",
    "        arrDT = 'ArrDT'\n",
    "        depDT = 'DepDT'\n",
    "    else:\n",
    "        ElapsedTime = 'CRSElapsedTime'\n",
    "        arrDT = time_type + 'ArrDT'\n",
    "        depDT = time_type + 'DepDT'\n",
    "\n",
    "    # Confidence interval \n",
    "    differencies = df[(df[diff] != 0) & (~df['Diverted']) & (~df[diff].isna())]\n",
    "    total_number = len(differencies)\n",
    "    counter_niether = 0\n",
    "    counter_unique = 0\n",
    "\n",
    "    for ind, row in differencies.iterrows():\n",
    "        # similar_df_filter = (df['Flight_Number_Reporting_Airline'] == row['Flight_Number_Reporting_Airline']) \\\n",
    "        similar_df_filter = (df['Origin'] == row['Origin']) \\\n",
    "                                & (df['Dest'] == row['Dest'])\n",
    "        similar_df = df[similar_df_filter][ElapsedTime]\n",
    "        similar_df = similar_df[similar_df.notna()]\n",
    "        similar_df = similar_df.astype(int)\n",
    "        if (len(similar_df) - 1) > 0:\n",
    "            min_ci_time, max_ci_time = st.t.interval(0.95, len(similar_df)-1, \n",
    "                                                        loc=np.mean(similar_df), \n",
    "                                                        scale=st.sem(similar_df))\n",
    "            mid_time = (min_ci_time + max_ci_time) / 2\n",
    "\n",
    "            ET_from_mid_time = abs(row[ElapsedTime] - mid_time)\n",
    "            UTC_from_mid_time = abs(row[UTCElapsed] - mid_time)\n",
    "\n",
    "            if (ET_from_mid_time < UTC_from_mid_time) & (ET_from_mid_time / mid_time < .12):   # Sourced ET is closer to mediad time\n",
    "                df.loc[ind, arrUTC] = local_to_UTC(row[arrDT], row['Dest'])\n",
    "                df.loc[ind, UTCElapsed] = (df.loc[ind, arrUTC] - df.loc[ind, depUTC]).total_seconds()/60\n",
    "                df.loc[ind, diff] = (df.loc[ind, ElapsedTime] - df.loc[ind, ElapsedTime])\n",
    "            elif (ET_from_mid_time > UTC_from_mid_time) & (UTC_from_mid_time / mid_time  < .12): # UTC-based ET is closer to median timm\n",
    "                df.loc[ind, arrDT] = UTC_to_local(row[arrUTC], row['Dest'])\n",
    "                df.loc[ind, ElapsedTime] = (df.loc[ind, arrUTC] - df.loc[ind, depUTC]).total_seconds()/60\n",
    "                df.loc[ind, diff] = (df.loc[ind, ElapsedTime] - df.loc[ind, ElapsedTime])\n",
    "            else:\n",
    "                print('Both elapsed times too far from midian time. Index:', ind)\n",
    "                print('Number of simillar df:', len(similar_df), \n",
    "                    'Confidence interval (', round(min_ci_time, 1), ',', round(max_ci_time, 1), \n",
    "                    '). CRS Elapsed time:', row[ElapsedTime], 'UTC (CRS) Elapsed time', row[UTCElapsed])\n",
    "                counter_niether += 1\n",
    "        else:\n",
    "            print(ind, 'Flight number', row['Flight_Number_Reporting_Airline'], 'from', row['Origin'], 'to', row['Dest'], \n",
    "                'on', row['CRSDepDT'], 'is unique')\n",
    "            counter_unique += 1\n",
    "\n",
    "    print('Total number of cases', total_number )\n",
    "    print('Not corrected because both elapsed time are too far from median:', counter_niether)\n",
    "    print('Not corrected because there are few simillar df:', counter_unique)\n",
    "\n",
    "        "
   ]
  },
  {
   "cell_type": "code",
   "execution_count": 123,
   "metadata": {},
   "outputs": [
    {
     "name": "stdout",
     "output_type": "stream",
     "text": [
      "Both elapsed times too far from midian time. Index: 596430\n",
      "Number of simillar df: 41811 Confidence interval ( 96.2 , 96.3 ). CRS Elapsed time: 360.0 UTC (CRS) Elapsed time 325.0\n",
      "Both elapsed times too far from midian time. Index: 4921314\n",
      "Number of simillar df: 33690 Confidence interval ( 218.5 , 218.6 ). CRS Elapsed time: 101.0 UTC (CRS) Elapsed time 161.0\n",
      "Both elapsed times too far from midian time. Index: 4921317\n",
      "Number of simillar df: 7686 Confidence interval ( 225.3 , 225.7 ). CRS Elapsed time: 110.0 UTC (CRS) Elapsed time 170.0\n",
      "Both elapsed times too far from midian time. Index: 8037414\n",
      "Number of simillar df: 13056 Confidence interval ( 84.8 , 84.9 ). CRS Elapsed time: 175.0 UTC (CRS) Elapsed time 180.0\n",
      "Both elapsed times too far from midian time. Index: 8240532\n",
      "Number of simillar df: 6104 Confidence interval ( 169.4 , 169.7 ). CRS Elapsed time: 264.0 UTC (CRS) Elapsed time 324.0\n",
      "Both elapsed times too far from midian time. Index: 9349310\n",
      "Number of simillar df: 274 Confidence interval ( 139.6 , 142.7 ). CRS Elapsed time: 185.0 UTC (CRS) Elapsed time 125.0\n",
      "Both elapsed times too far from midian time. Index: 10158689\n",
      "Number of simillar df: 5853 Confidence interval ( 48.5 , 48.8 ). CRS Elapsed time: 205.0 UTC (CRS) Elapsed time 145.0\n",
      "Both elapsed times too far from midian time. Index: 10177950\n",
      "Number of simillar df: 35785 Confidence interval ( 91.2 , 91.3 ). CRS Elapsed time: 210.0 UTC (CRS) Elapsed time 150.0\n",
      "Both elapsed times too far from midian time. Index: 10178233\n",
      "Number of simillar df: 35785 Confidence interval ( 91.2 , 91.3 ). CRS Elapsed time: 210.0 UTC (CRS) Elapsed time 150.0\n",
      "Both elapsed times too far from midian time. Index: 10179489\n",
      "Number of simillar df: 35785 Confidence interval ( 91.2 , 91.3 ). CRS Elapsed time: 210.0 UTC (CRS) Elapsed time 150.0\n",
      "Both elapsed times too far from midian time. Index: 10179693\n",
      "Number of simillar df: 35785 Confidence interval ( 91.2 , 91.3 ). CRS Elapsed time: 210.0 UTC (CRS) Elapsed time 150.0\n",
      "Both elapsed times too far from midian time. Index: 10179998\n",
      "Number of simillar df: 35785 Confidence interval ( 91.2 , 91.3 ). CRS Elapsed time: 210.0 UTC (CRS) Elapsed time 150.0\n",
      "Both elapsed times too far from midian time. Index: 10180408\n",
      "Number of simillar df: 35785 Confidence interval ( 91.2 , 91.3 ). CRS Elapsed time: 210.0 UTC (CRS) Elapsed time 150.0\n",
      "Both elapsed times too far from midian time. Index: 10180703\n",
      "Number of simillar df: 35785 Confidence interval ( 91.2 , 91.3 ). CRS Elapsed time: 210.0 UTC (CRS) Elapsed time 150.0\n",
      "Both elapsed times too far from midian time. Index: 10180924\n",
      "Number of simillar df: 35785 Confidence interval ( 91.2 , 91.3 ). CRS Elapsed time: 210.0 UTC (CRS) Elapsed time 150.0\n",
      "Both elapsed times too far from midian time. Index: 10181793\n",
      "Number of simillar df: 35785 Confidence interval ( 91.2 , 91.3 ). CRS Elapsed time: 210.0 UTC (CRS) Elapsed time 150.0\n",
      "Both elapsed times too far from midian time. Index: 10181874\n",
      "Number of simillar df: 35785 Confidence interval ( 91.2 , 91.3 ). CRS Elapsed time: 210.0 UTC (CRS) Elapsed time 150.0\n",
      "Both elapsed times too far from midian time. Index: 10182126\n",
      "Number of simillar df: 35785 Confidence interval ( 91.2 , 91.3 ). CRS Elapsed time: 210.0 UTC (CRS) Elapsed time 150.0\n",
      "Both elapsed times too far from midian time. Index: 10182402\n",
      "Number of simillar df: 35785 Confidence interval ( 91.2 , 91.3 ). CRS Elapsed time: 210.0 UTC (CRS) Elapsed time 150.0\n",
      "Both elapsed times too far from midian time. Index: 10183531\n",
      "Number of simillar df: 35785 Confidence interval ( 91.2 , 91.3 ). CRS Elapsed time: 210.0 UTC (CRS) Elapsed time 150.0\n",
      "Both elapsed times too far from midian time. Index: 10294064\n",
      "Number of simillar df: 33690 Confidence interval ( 218.5 , 218.6 ). CRS Elapsed time: 99.0 UTC (CRS) Elapsed time 159.0\n",
      "Both elapsed times too far from midian time. Index: 10294069\n",
      "Number of simillar df: 7686 Confidence interval ( 225.3 , 225.7 ). CRS Elapsed time: 102.0 UTC (CRS) Elapsed time 162.0\n",
      "Both elapsed times too far from midian time. Index: 11972615\n",
      "Number of simillar df: 41811 Confidence interval ( 96.2 , 96.3 ). CRS Elapsed time: 360.0 UTC (CRS) Elapsed time 325.0\n",
      "15212492 Flight number 5141 from CWA to CMX on 2016-08-11 15:00:00 is unique\n",
      "Both elapsed times too far from midian time. Index: 16414790\n",
      "Number of simillar df: 7686 Confidence interval ( 225.2 , 225.6 ). CRS Elapsed time: 100.0 UTC (CRS) Elapsed time 160.0\n",
      "Both elapsed times too far from midian time. Index: 17082655\n",
      "Number of simillar df: 1556 Confidence interval ( 48.2 , 49.9 ). CRS Elapsed time: 175.0 UTC (CRS) Elapsed time 115.0\n",
      "Both elapsed times too far from midian time. Index: 17138405\n",
      "Number of simillar df: 77041 Confidence interval ( 90.2 , 90.3 ). CRS Elapsed time: 105.0 UTC (CRS) Elapsed time 165.0\n",
      "Both elapsed times too far from midian time. Index: 17207403\n",
      "Number of simillar df: 7434 Confidence interval ( 147.6 , 148.0 ). CRS Elapsed time: 106.0 UTC (CRS) Elapsed time 166.0\n",
      "18269147 Flight number 3004 from GRR to AZO on 2017-03-08 00:39:00 is unique\n",
      "Both elapsed times too far from midian time. Index: 18686979\n",
      "Number of simillar df: 1460 Confidence interval ( 79.2 , 79.4 ). CRS Elapsed time: 91.0 UTC (CRS) Elapsed time 288.0\n",
      "Both elapsed times too far from midian time. Index: 19586365\n",
      "Number of simillar df: 5728 Confidence interval ( 317.0 , 317.4 ). CRS Elapsed time: 230.0 UTC (CRS) Elapsed time 170.0\n",
      "21444741 Flight number 3122 from IAD to CHO on 2017-09-05 01:25:00 is unique\n",
      "Both elapsed times too far from midian time. Index: 22311756\n",
      "Number of simillar df: 6414 Confidence interval ( 234.2 , 234.6 ). CRS Elapsed time: 324.0 UTC (CRS) Elapsed time 323.0\n",
      "Both elapsed times too far from midian time. Index: 23159729\n",
      "Number of simillar df: 2 Confidence interval ( -390.7 , 587.7 ). CRS Elapsed time: 137.0 UTC (CRS) Elapsed time 77.0\n",
      "Both elapsed times too far from midian time. Index: 23339831\n",
      "Number of simillar df: 8023 Confidence interval ( 117.4 , 117.7 ). CRS Elapsed time: 132.0 UTC (CRS) Elapsed time 168.0\n",
      "Both elapsed times too far from midian time. Index: 24777732\n",
      "Number of simillar df: 402 Confidence interval ( 47.6 , 48.7 ). CRS Elapsed time: 95.0 UTC (CRS) Elapsed time 55.0\n",
      "Both elapsed times too far from midian time. Index: 25548558\n",
      "Number of simillar df: 4084 Confidence interval ( 83.2 , 83.6 ). CRS Elapsed time: 92.0 UTC (CRS) Elapsed time 107.0\n",
      "Both elapsed times too far from midian time. Index: 25563369\n",
      "Number of simillar df: 1915 Confidence interval ( 98.8 , 99.4 ). CRS Elapsed time: 148.0 UTC (CRS) Elapsed time 88.0\n",
      "Both elapsed times too far from midian time. Index: 25563432\n",
      "Number of simillar df: 10355 Confidence interval ( 78.1 , 78.3 ). CRS Elapsed time: 86.0 UTC (CRS) Elapsed time 87.0\n",
      "Both elapsed times too far from midian time. Index: 25563441\n",
      "Number of simillar df: 8860 Confidence interval ( 186.8 , 187.2 ). CRS Elapsed time: 145.0 UTC (CRS) Elapsed time 1175.0\n",
      "Both elapsed times too far from midian time. Index: 25563481\n",
      "Number of simillar df: 3013 Confidence interval ( 98.2 , 98.8 ). CRS Elapsed time: 131.0 UTC (CRS) Elapsed time 71.0\n",
      "Both elapsed times too far from midian time. Index: 25927265\n",
      "Number of simillar df: 11 Confidence interval ( 89.8 , 127.3 ). CRS Elapsed time: 92.0 UTC (CRS) Elapsed time 152.0\n",
      "Both elapsed times too far from midian time. Index: 25927266\n",
      "Number of simillar df: 11 Confidence interval ( 89.8 , 127.3 ). CRS Elapsed time: 152.0 UTC (CRS) Elapsed time 212.0\n",
      "Both elapsed times too far from midian time. Index: 25927267\n",
      "Number of simillar df: 11 Confidence interval ( 89.8 , 127.3 ). CRS Elapsed time: 152.0 UTC (CRS) Elapsed time 212.0\n",
      "Both elapsed times too far from midian time. Index: 25927268\n",
      "Number of simillar df: 11 Confidence interval ( 89.8 , 127.3 ). CRS Elapsed time: 152.0 UTC (CRS) Elapsed time 212.0\n",
      "Both elapsed times too far from midian time. Index: 25927276\n",
      "Number of simillar df: 11 Confidence interval ( 173.9 , 211.7 ). CRS Elapsed time: 149.0 UTC (CRS) Elapsed time 89.0\n",
      "Both elapsed times too far from midian time. Index: 25927277\n",
      "Number of simillar df: 11 Confidence interval ( 173.9 , 211.7 ). CRS Elapsed time: 149.0 UTC (CRS) Elapsed time 89.0\n",
      "Both elapsed times too far from midian time. Index: 25927278\n",
      "Number of simillar df: 11 Confidence interval ( 173.9 , 211.7 ). CRS Elapsed time: 149.0 UTC (CRS) Elapsed time 89.0\n",
      "Both elapsed times too far from midian time. Index: 26523118\n",
      "Number of simillar df: 11 Confidence interval ( 89.8 , 127.3 ). CRS Elapsed time: 92.0 UTC (CRS) Elapsed time 152.0\n",
      "Both elapsed times too far from midian time. Index: 26523119\n",
      "Number of simillar df: 11 Confidence interval ( 89.8 , 127.3 ). CRS Elapsed time: 92.0 UTC (CRS) Elapsed time 152.0\n",
      "Both elapsed times too far from midian time. Index: 26523120\n",
      "Number of simillar df: 11 Confidence interval ( 89.8 , 127.3 ). CRS Elapsed time: 92.0 UTC (CRS) Elapsed time 152.0\n",
      "Both elapsed times too far from midian time. Index: 26523121\n",
      "Number of simillar df: 11 Confidence interval ( 89.8 , 127.3 ). CRS Elapsed time: 92.0 UTC (CRS) Elapsed time 152.0\n",
      "Both elapsed times too far from midian time. Index: 26653545\n",
      "Number of simillar df: 4028 Confidence interval ( 167.5 , 167.9 ). CRS Elapsed time: 245.0 UTC (CRS) Elapsed time 185.0\n",
      "Both elapsed times too far from midian time. Index: 26995628\n",
      "Number of simillar df: 14696 Confidence interval ( 242.2 , 242.7 ). CRS Elapsed time: 203.0 UTC (CRS) Elapsed time 343.0\n",
      "Both elapsed times too far from midian time. Index: 26995647\n",
      "Number of simillar df: 2665 Confidence interval ( 119.4 , 120.2 ). CRS Elapsed time: 133.0 UTC (CRS) Elapsed time 153.0\n",
      "Both elapsed times too far from midian time. Index: 26995666\n",
      "Number of simillar df: 14696 Confidence interval ( 242.2 , 242.7 ). CRS Elapsed time: 203.0 UTC (CRS) Elapsed time 343.0\n",
      "Both elapsed times too far from midian time. Index: 27005808\n",
      "Number of simillar df: 8860 Confidence interval ( 186.8 , 187.2 ). CRS Elapsed time: 270.0 UTC (CRS) Elapsed time 273.0\n",
      "Both elapsed times too far from midian time. Index: 27005850\n",
      "Number of simillar df: 7060 Confidence interval ( 102.1 , 102.4 ). CRS Elapsed time: 165.0 UTC (CRS) Elapsed time 315.0\n",
      "Both elapsed times too far from midian time. Index: 27005852\n",
      "Number of simillar df: 4127 Confidence interval ( 81.1 , 81.8 ). CRS Elapsed time: 559.0 UTC (CRS) Elapsed time 94.0\n",
      "Both elapsed times too far from midian time. Index: 27073918\n",
      "Number of simillar df: 4266 Confidence interval ( 137.2 , 137.7 ). CRS Elapsed time: 5.0 UTC (CRS) Elapsed time 65.0\n",
      "Both elapsed times too far from midian time. Index: 27250023\n",
      "Number of simillar df: 11 Confidence interval ( 89.8 , 127.3 ). CRS Elapsed time: 92.0 UTC (CRS) Elapsed time 152.0\n",
      "Both elapsed times too far from midian time. Index: 27250024\n",
      "Number of simillar df: 11 Confidence interval ( 89.8 , 127.3 ). CRS Elapsed time: 93.0 UTC (CRS) Elapsed time 153.0\n",
      "Both elapsed times too far from midian time. Index: 27250025\n",
      "Number of simillar df: 11 Confidence interval ( 89.8 , 127.3 ). CRS Elapsed time: 93.0 UTC (CRS) Elapsed time 153.0\n",
      "Both elapsed times too far from midian time. Index: 27731147\n",
      "Number of simillar df: 4127 Confidence interval ( 81.1 , 81.8 ). CRS Elapsed time: 559.0 UTC (CRS) Elapsed time 94.0\n",
      "Both elapsed times too far from midian time. Index: 27731167\n",
      "Number of simillar df: 28889 Confidence interval ( 149.7 , 149.8 ). CRS Elapsed time: 124.0 UTC (CRS) Elapsed time 240.0\n",
      "Both elapsed times too far from midian time. Index: 27731170\n",
      "Number of simillar df: 6333 Confidence interval ( 246.1 , 246.8 ). CRS Elapsed time: 179.0 UTC (CRS) Elapsed time 274.0\n",
      "Both elapsed times too far from midian time. Index: 27930927\n",
      "Number of simillar df: 23436 Confidence interval ( 130.5 , 130.7 ). CRS Elapsed time: 87.0 UTC (CRS) Elapsed time 187.0\n",
      "Both elapsed times too far from midian time. Index: 28530440\n",
      "Number of simillar df: 7978 Confidence interval ( 65.9 , 66.1 ). CRS Elapsed time: -99.0 UTC (CRS) Elapsed time 76.0\n",
      "Both elapsed times too far from midian time. Index: 28530459\n",
      "Number of simillar df: 12866 Confidence interval ( 79.1 , 79.3 ). CRS Elapsed time: 200.0 UTC (CRS) Elapsed time 140.0\n",
      "Both elapsed times too far from midian time. Index: 29086796\n",
      "Number of simillar df: 7686 Confidence interval ( 225.2 , 225.6 ). CRS Elapsed time: 113.0 UTC (CRS) Elapsed time 173.0\n",
      "Both elapsed times too far from midian time. Index: 29086841\n",
      "Number of simillar df: 33690 Confidence interval ( 218.4 , 218.6 ). CRS Elapsed time: 110.0 UTC (CRS) Elapsed time 170.0\n",
      "Both elapsed times too far from midian time. Index: 29288296\n",
      "Number of simillar df: 5922 Confidence interval ( 155.6 , 156.0 ). CRS Elapsed time: 127.0 UTC (CRS) Elapsed time 247.0\n",
      "Both elapsed times too far from midian time. Index: 29633095\n",
      "Number of simillar df: 26845 Confidence interval ( 76.6 , 76.8 ). CRS Elapsed time: 90.0 UTC (CRS) Elapsed time 91.0\n",
      "Both elapsed times too far from midian time. Index: 29826993\n",
      "Number of simillar df: 7 Confidence interval ( 16.1 , 107.7 ). CRS Elapsed time: 133.0 UTC (CRS) Elapsed time 194.0\n",
      "Total number of cases 487\n",
      "Not corrected because both elapsed time are too far from median: 71\n",
      "Not corrected because there are few simillar df: 3\n"
     ]
    }
   ],
   "source": [
    "correct_error_of_time(flights, 'CRS')\n",
    "correct_error_of_time(flights, 'Act')\n"
   ]
  },
  {
   "cell_type": "code",
   "execution_count": 110,
   "metadata": {},
   "outputs": [
    {
     "name": "stdout",
     "output_type": "stream",
     "text": [
      "Both elapsed times too far from midian time. Index: 988573\n",
      "Number of simillar df: 33598 Confidence interval ( 211.6 , 211.9 ). CRS Elapsed time: 259.0 UTC (CRS) Elapsed time 253.0\n",
      "Both elapsed times too far from midian time. Index: 1136526\n",
      "Number of simillar df: 2816 Confidence interval ( 116.8 , 117.7 ). CRS Elapsed time: 91.0 UTC (CRS) Elapsed time 40.0\n",
      "Both elapsed times too far from midian time. Index: 1367250\n",
      "Number of simillar df: 7791 Confidence interval ( 178.2 , 178.7 ). CRS Elapsed time: 257.0 UTC (CRS) Elapsed time 197.0\n",
      "Both elapsed times too far from midian time. Index: 4921314\n",
      "Number of simillar df: 33598 Confidence interval ( 211.6 , 211.9 ). CRS Elapsed time: 158.0 UTC (CRS) Elapsed time 278.0\n",
      "Both elapsed times too far from midian time. Index: 4921317\n",
      "Number of simillar df: 7658 Confidence interval ( 218.9 , 219.5 ). CRS Elapsed time: 155.0 UTC (CRS) Elapsed time 275.0\n",
      "Both elapsed times too far from midian time. Index: 4956434\n",
      "Number of simillar df: 32996 Confidence interval ( 200.4 , 200.6 ). CRS Elapsed time: 179.0 UTC (CRS) Elapsed time 119.0\n",
      "Both elapsed times too far from midian time. Index: 6882206\n",
      "Number of simillar df: 7658 Confidence interval ( 218.9 , 219.5 ). CRS Elapsed time: 281.0 UTC (CRS) Elapsed time 292.0\n",
      "Both elapsed times too far from midian time. Index: 6882415\n",
      "Number of simillar df: 19372 Confidence interval ( 226.5 , 226.9 ). CRS Elapsed time: 310.0 UTC (CRS) Elapsed time 250.0\n",
      "Both elapsed times too far from midian time. Index: 6916395\n",
      "Number of simillar df: 20781 Confidence interval ( 166.8 , 167.2 ). CRS Elapsed time: 149.0 UTC (CRS) Elapsed time 115.0\n",
      "Both elapsed times too far from midian time. Index: 6920465\n",
      "Number of simillar df: 42483 Confidence interval ( 148.8 , 149.2 ). CRS Elapsed time: 167.0 UTC (CRS) Elapsed time 165.0\n",
      "Both elapsed times too far from midian time. Index: 7080700\n",
      "Number of simillar df: 13261 Confidence interval ( 193.1 , 193.7 ). CRS Elapsed time: 218.0 UTC (CRS) Elapsed time 158.0\n",
      "Both elapsed times too far from midian time. Index: 7171569\n",
      "Number of simillar df: 41056 Confidence interval ( 124.8 , 125.1 ). CRS Elapsed time: 167.0 UTC (CRS) Elapsed time 107.0\n",
      "Both elapsed times too far from midian time. Index: 8037414\n",
      "Number of simillar df: 12979 Confidence interval ( 79.4 , 79.7 ). CRS Elapsed time: 187.0 UTC (CRS) Elapsed time 192.0\n",
      "Both elapsed times too far from midian time. Index: 10177950\n",
      "Number of simillar df: 35554 Confidence interval ( 87.0 , 87.3 ). CRS Elapsed time: 203.0 UTC (CRS) Elapsed time 143.0\n",
      "Both elapsed times too far from midian time. Index: 10178233\n",
      "Number of simillar df: 35554 Confidence interval ( 87.0 , 87.3 ). CRS Elapsed time: 210.0 UTC (CRS) Elapsed time 150.0\n",
      "Both elapsed times too far from midian time. Index: 10179489\n",
      "Number of simillar df: 35554 Confidence interval ( 87.0 , 87.3 ). CRS Elapsed time: 204.0 UTC (CRS) Elapsed time 144.0\n",
      "Both elapsed times too far from midian time. Index: 10179693\n",
      "Number of simillar df: 35554 Confidence interval ( 87.0 , 87.3 ). CRS Elapsed time: 204.0 UTC (CRS) Elapsed time 144.0\n",
      "Both elapsed times too far from midian time. Index: 10179998\n",
      "Number of simillar df: 35554 Confidence interval ( 87.0 , 87.3 ). CRS Elapsed time: 203.0 UTC (CRS) Elapsed time 143.0\n",
      "Both elapsed times too far from midian time. Index: 10180408\n",
      "Number of simillar df: 35554 Confidence interval ( 87.0 , 87.3 ). CRS Elapsed time: 206.0 UTC (CRS) Elapsed time 146.0\n",
      "Both elapsed times too far from midian time. Index: 10180703\n",
      "Number of simillar df: 35554 Confidence interval ( 87.0 , 87.3 ). CRS Elapsed time: 188.0 UTC (CRS) Elapsed time 128.0\n",
      "Both elapsed times too far from midian time. Index: 10180924\n",
      "Number of simillar df: 35554 Confidence interval ( 87.0 , 87.3 ). CRS Elapsed time: 196.0 UTC (CRS) Elapsed time 136.0\n",
      "Both elapsed times too far from midian time. Index: 10181793\n",
      "Number of simillar df: 35554 Confidence interval ( 87.0 , 87.3 ). CRS Elapsed time: 193.0 UTC (CRS) Elapsed time 133.0\n",
      "Both elapsed times too far from midian time. Index: 10181874\n",
      "Number of simillar df: 35554 Confidence interval ( 87.0 , 87.3 ). CRS Elapsed time: 209.0 UTC (CRS) Elapsed time 149.0\n",
      "Both elapsed times too far from midian time. Index: 10182126\n",
      "Number of simillar df: 35554 Confidence interval ( 87.0 , 87.3 ). CRS Elapsed time: 213.0 UTC (CRS) Elapsed time 153.0\n",
      "Both elapsed times too far from midian time. Index: 10182402\n",
      "Number of simillar df: 35554 Confidence interval ( 87.0 , 87.3 ). CRS Elapsed time: 196.0 UTC (CRS) Elapsed time 136.0\n",
      "Both elapsed times too far from midian time. Index: 10183531\n",
      "Number of simillar df: 35554 Confidence interval ( 87.0 , 87.3 ). CRS Elapsed time: 215.0 UTC (CRS) Elapsed time 155.0\n",
      "Both elapsed times too far from midian time. Index: 10294064\n",
      "Number of simillar df: 33598 Confidence interval ( 211.6 , 211.9 ). CRS Elapsed time: 153.0 UTC (CRS) Elapsed time 273.0\n",
      "Both elapsed times too far from midian time. Index: 10294069\n",
      "Number of simillar df: 7658 Confidence interval ( 218.9 , 219.5 ). CRS Elapsed time: 154.0 UTC (CRS) Elapsed time 274.0\n",
      "Both elapsed times too far from midian time. Index: 12708939\n",
      "Number of simillar df: 7658 Confidence interval ( 218.9 , 219.5 ). CRS Elapsed time: 267.0 UTC (CRS) Elapsed time 284.0\n",
      "Both elapsed times too far from midian time. Index: 12933259\n",
      "Number of simillar df: 33888 Confidence interval ( 123.4 , 123.8 ). CRS Elapsed time: 111.0 UTC (CRS) Elapsed time 95.0\n",
      "Both elapsed times too far from midian time. Index: 16414790\n",
      "Number of simillar df: 7658 Confidence interval ( 218.9 , 219.5 ). CRS Elapsed time: 143.0 UTC (CRS) Elapsed time 263.0\n",
      "Both elapsed times too far from midian time. Index: 17138405\n",
      "Number of simillar df: 74987 Confidence interval ( 89.7 , 89.9 ). CRS Elapsed time: 64.0 UTC (CRS) Elapsed time 124.0\n",
      "Both elapsed times too far from midian time. Index: 17207403\n",
      "Number of simillar df: 7181 Confidence interval ( 144.3 , 145.0 ). CRS Elapsed time: 196.0 UTC (CRS) Elapsed time 256.0\n",
      "Both elapsed times too far from midian time. Index: 17242963\n",
      "Number of simillar df: 3508 Confidence interval ( 171.6 , 172.6 ). CRS Elapsed time: 463.0 UTC (CRS) Elapsed time 474.0\n",
      "Both elapsed times too far from midian time. Index: 18230357\n",
      "Number of simillar df: 5639 Confidence interval ( 220.0 , 220.9 ). CRS Elapsed time: 193.0 UTC (CRS) Elapsed time 133.0\n",
      "Both elapsed times too far from midian time. Index: 18231274\n",
      "Number of simillar df: 5681 Confidence interval ( 160.3 , 161.1 ). CRS Elapsed time: 144.0 UTC (CRS) Elapsed time 137.0\n",
      "Both elapsed times too far from midian time. Index: 18231808\n",
      "Number of simillar df: 6216 Confidence interval ( 78.5 , 79.1 ). CRS Elapsed time: 63.0 UTC (CRS) Elapsed time 42.0\n",
      "Both elapsed times too far from midian time. Index: 18231854\n",
      "Number of simillar df: 6694 Confidence interval ( 142.1 , 142.6 ). CRS Elapsed time: 128.0 UTC (CRS) Elapsed time 108.0\n",
      "Both elapsed times too far from midian time. Index: 18479957\n",
      "Number of simillar df: 7658 Confidence interval ( 218.9 , 219.5 ). CRS Elapsed time: 286.0 UTC (CRS) Elapsed time 290.0\n",
      "Both elapsed times too far from midian time. Index: 18480309\n",
      "Number of simillar df: 33598 Confidence interval ( 211.6 , 211.9 ). CRS Elapsed time: 293.0 UTC (CRS) Elapsed time 233.0\n",
      "Both elapsed times too far from midian time. Index: 19586365\n",
      "Number of simillar df: 5656 Confidence interval ( 309.7 , 310.5 ). CRS Elapsed time: 209.0 UTC (CRS) Elapsed time 149.0\n",
      "Both elapsed times too far from midian time. Index: 22241754\n",
      "Number of simillar df: 7612 Confidence interval ( 64.2 , 64.7 ). CRS Elapsed time: 57.0 UTC (CRS) Elapsed time 117.0\n",
      "Both elapsed times too far from midian time. Index: 22296093\n",
      "Number of simillar df: 3656 Confidence interval ( 323.0 , 324.2 ). CRS Elapsed time: 230.0 UTC (CRS) Elapsed time 290.0\n",
      "Both elapsed times too far from midian time. Index: 22296191\n",
      "Number of simillar df: 33598 Confidence interval ( 211.6 , 211.9 ). CRS Elapsed time: 168.0 UTC (CRS) Elapsed time 288.0\n",
      "Both elapsed times too far from midian time. Index: 22296504\n",
      "Number of simillar df: 2855 Confidence interval ( 306.6 , 307.6 ). CRS Elapsed time: 262.0 UTC (CRS) Elapsed time 382.0\n",
      "Both elapsed times too far from midian time. Index: 22309943\n",
      "Number of simillar df: 7174 Confidence interval ( 275.7 , 276.5 ). CRS Elapsed time: 246.0 UTC (CRS) Elapsed time 247.0\n",
      "Both elapsed times too far from midian time. Index: 22310255\n",
      "Number of simillar df: 31136 Confidence interval ( 189.7 , 190.1 ). CRS Elapsed time: 165.0 UTC (CRS) Elapsed time 105.0\n",
      "Both elapsed times too far from midian time. Index: 22310260\n",
      "Number of simillar df: 7174 Confidence interval ( 275.7 , 276.5 ). CRS Elapsed time: 242.0 UTC (CRS) Elapsed time 243.0\n",
      "Both elapsed times too far from midian time. Index: 22310387\n",
      "Number of simillar df: 12502 Confidence interval ( 188.3 , 188.9 ). CRS Elapsed time: 166.0 UTC (CRS) Elapsed time 167.0\n",
      "Both elapsed times too far from midian time. Index: 22310714\n",
      "Number of simillar df: 12502 Confidence interval ( 188.3 , 188.9 ). CRS Elapsed time: 158.0 UTC (CRS) Elapsed time 159.0\n",
      "Both elapsed times too far from midian time. Index: 22311155\n",
      "Number of simillar df: 7174 Confidence interval ( 275.7 , 276.5 ). CRS Elapsed time: 246.0 UTC (CRS) Elapsed time 247.0\n",
      "Both elapsed times too far from midian time. Index: 22311301\n",
      "Number of simillar df: 12502 Confidence interval ( 188.3 , 188.9 ). CRS Elapsed time: 165.0 UTC (CRS) Elapsed time 166.0\n",
      "Both elapsed times too far from midian time. Index: 22311579\n",
      "Number of simillar df: 12502 Confidence interval ( 188.3 , 188.9 ). CRS Elapsed time: 165.0 UTC (CRS) Elapsed time 166.0\n",
      "Both elapsed times too far from midian time. Index: 22311756\n",
      "Number of simillar df: 6365 Confidence interval ( 225.6 , 226.4 ). CRS Elapsed time: 316.0 UTC (CRS) Elapsed time 315.0\n",
      "Both elapsed times too far from midian time. Index: 22312106\n",
      "Number of simillar df: 15813 Confidence interval ( 206.0 , 206.4 ). CRS Elapsed time: 243.0 UTC (CRS) Elapsed time 244.0\n",
      "Both elapsed times too far from midian time. Index: 22312173\n",
      "Number of simillar df: 12502 Confidence interval ( 188.3 , 188.9 ). CRS Elapsed time: 167.0 UTC (CRS) Elapsed time 168.0\n",
      "Both elapsed times too far from midian time. Index: 22312504\n",
      "Number of simillar df: 12502 Confidence interval ( 188.3 , 188.9 ). CRS Elapsed time: 166.0 UTC (CRS) Elapsed time 167.0\n",
      "Both elapsed times too far from midian time. Index: 22313583\n",
      "Number of simillar df: 7174 Confidence interval ( 275.7 , 276.5 ). CRS Elapsed time: 247.0 UTC (CRS) Elapsed time 248.0\n",
      "Both elapsed times too far from midian time. Index: 22313693\n",
      "Number of simillar df: 12502 Confidence interval ( 188.3 , 188.9 ). CRS Elapsed time: 167.0 UTC (CRS) Elapsed time 168.0\n",
      "Both elapsed times too far from midian time. Index: 22313828\n",
      "Number of simillar df: 7174 Confidence interval ( 275.7 , 276.5 ). CRS Elapsed time: 242.0 UTC (CRS) Elapsed time 243.0\n",
      "Both elapsed times too far from midian time. Index: 22314283\n",
      "Number of simillar df: 12502 Confidence interval ( 188.3 , 188.9 ). CRS Elapsed time: 161.0 UTC (CRS) Elapsed time 162.0\n",
      "Both elapsed times too far from midian time. Index: 22314378\n",
      "Number of simillar df: 7174 Confidence interval ( 275.7 , 276.5 ). CRS Elapsed time: 247.0 UTC (CRS) Elapsed time 248.0\n",
      "Both elapsed times too far from midian time. Index: 22314470\n",
      "Number of simillar df: 12502 Confidence interval ( 188.3 , 188.9 ). CRS Elapsed time: 165.0 UTC (CRS) Elapsed time 166.0\n",
      "Both elapsed times too far from midian time. Index: 22316785\n",
      "Number of simillar df: 19379 Confidence interval ( 162.2 , 162.5 ). CRS Elapsed time: 181.0 UTC (CRS) Elapsed time 180.0\n",
      "Both elapsed times too far from midian time. Index: 22318383\n",
      "Number of simillar df: 12502 Confidence interval ( 188.3 , 188.9 ). CRS Elapsed time: 166.0 UTC (CRS) Elapsed time 167.0\n",
      "Both elapsed times too far from midian time. Index: 22857015\n",
      "Number of simillar df: 5667 Confidence interval ( 347.2 , 348.2 ). CRS Elapsed time: 714.0 UTC (CRS) Elapsed time 781.0\n",
      "Both elapsed times too far from midian time. Index: 23506257\n",
      "Number of simillar df: 5366 Confidence interval ( 173.8 , 174.8 ). CRS Elapsed time: 326.0 UTC (CRS) Elapsed time 367.0\n",
      "Both elapsed times too far from midian time. Index: 23786086\n",
      "Number of simillar df: 7141 Confidence interval ( 86.4 , 86.9 ). CRS Elapsed time: 74.0 UTC (CRS) Elapsed time 76.0\n",
      "Both elapsed times too far from midian time. Index: 24235719\n",
      "Number of simillar df: 3173 Confidence interval ( 223.4 , 224.3 ). CRS Elapsed time: 260.0 UTC (CRS) Elapsed time 200.0\n",
      "Both elapsed times too far from midian time. Index: 24436909\n",
      "Number of simillar df: 32996 Confidence interval ( 200.4 , 200.6 ). CRS Elapsed time: 288.0 UTC (CRS) Elapsed time 228.0\n",
      "Both elapsed times too far from midian time. Index: 24437383\n",
      "Number of simillar df: 32996 Confidence interval ( 200.4 , 200.6 ). CRS Elapsed time: 288.0 UTC (CRS) Elapsed time 228.0\n",
      "Both elapsed times too far from midian time. Index: 24437393\n",
      "Number of simillar df: 32996 Confidence interval ( 200.4 , 200.6 ). CRS Elapsed time: 281.0 UTC (CRS) Elapsed time 221.0\n",
      "Both elapsed times too far from midian time. Index: 24562826\n",
      "Number of simillar df: 834 Confidence interval ( 262.7 , 264.5 ). CRS Elapsed time: 234.0 UTC (CRS) Elapsed time 294.0\n",
      "Both elapsed times too far from midian time. Index: 24580925\n",
      "Number of simillar df: 17336 Confidence interval ( 187.3 , 187.8 ). CRS Elapsed time: 168.0 UTC (CRS) Elapsed time 108.0\n",
      "Both elapsed times too far from midian time. Index: 25563369\n",
      "Number of simillar df: 1856 Confidence interval ( 93.6 , 94.8 ). CRS Elapsed time: 125.0 UTC (CRS) Elapsed time 65.0\n",
      "Both elapsed times too far from midian time. Index: 25927275\n",
      "Number of simillar df: 10 Confidence interval ( 131.6 , 155.4 ). CRS Elapsed time: 186.0 UTC (CRS) Elapsed time 126.0\n",
      "Both elapsed times too far from midian time. Index: 26323708\n",
      "Number of simillar df: 34137 Confidence interval ( 114.4 , 114.7 ). CRS Elapsed time: 93.0 UTC (CRS) Elapsed time 33.0\n",
      "Both elapsed times too far from midian time. Index: 27075078\n",
      "Number of simillar df: 3921 Confidence interval ( 134.8 , 135.9 ). CRS Elapsed time: 188.0 UTC (CRS) Elapsed time 118.0\n",
      "Both elapsed times too far from midian time. Index: 29086796\n",
      "Number of simillar df: 7658 Confidence interval ( 218.9 , 219.5 ). CRS Elapsed time: 164.0 UTC (CRS) Elapsed time 284.0\n",
      "Both elapsed times too far from midian time. Index: 29086841\n",
      "Number of simillar df: 33598 Confidence interval ( 211.6 , 211.9 ). CRS Elapsed time: 156.0 UTC (CRS) Elapsed time 276.0\n",
      "Both elapsed times too far from midian time. Index: 29086857\n",
      "Number of simillar df: 45080 Confidence interval ( 162.7 , 163.0 ). CRS Elapsed time: 107.0 UTC (CRS) Elapsed time 227.0\n",
      "Both elapsed times too far from midian time. Index: 29260448\n",
      "Number of simillar df: 8603 Confidence interval ( 160.3 , 161.0 ). CRS Elapsed time: 221.0 UTC (CRS) Elapsed time 181.0\n",
      "Total number of cases 468\n",
      "Not corrected because both elapsed time are too far from median: 82\n",
      "Not corrected because there are few simillar df: 0\n"
     ]
    }
   ],
   "source": []
  },
  {
   "cell_type": "code",
   "execution_count": 124,
   "metadata": {},
   "outputs": [
    {
     "name": "stdout",
     "output_type": "stream",
     "text": [
      "diff_CRS\n",
      " 0.0      30144264\n",
      "-60.0          135\n",
      " 60.0           95\n",
      "-120.0           9\n",
      " 120.0           5\n",
      "            ...   \n",
      " 160.0           1\n",
      " 2.0             1\n",
      " 131.0           1\n",
      "-58.0            1\n",
      " 61.0            1\n",
      "Name: count, Length: 78, dtype: int64\n",
      "Total number of records with different CRS Elapsed time (UTC-based vs. source data): 351\n",
      "diff_Act\n",
      " 0.0      29588477\n",
      "-60.0          158\n",
      " 60.0          123\n",
      " 1.0            91\n",
      "-1.0            31\n",
      " 120.0          11\n",
      " 2.0             4\n",
      "-10.0            4\n",
      "-8.0             3\n",
      "-21.0            3\n",
      "-2.0             3\n",
      "-40.0            3\n",
      "-19.0            3\n",
      " 5.0             2\n",
      "-41.0            2\n",
      " 11.0            2\n",
      "-7.0             2\n",
      "-4.0             1\n",
      " 27.0            1\n",
      " 4.0             1\n",
      "-51.0            1\n",
      " 67.0            1\n",
      " 41.0            1\n",
      "-20.0            1\n",
      "-31.0            1\n",
      " 16.0            1\n",
      "-70.0            1\n",
      "-32.0            1\n",
      "-26.0            1\n",
      "-33.0            1\n",
      " 40.0            1\n",
      "-6.0             1\n",
      "-16.0            1\n",
      "-9.0             1\n",
      "-29.0            1\n",
      "-27.0            1\n",
      " 17.0            1\n",
      "-15.0            1\n",
      "-34.0            1\n",
      " 7.0             1\n",
      "Name: count, dtype: int64\n",
      "Total number of records with different Actual Elapsed time (UTC-based vs. source data): 468\n"
     ]
    }
   ],
   "source": [
    "print(flights['diff_CRS'].value_counts())\n",
    "print('Total number of records with different CRS Elapsed time (UTC-based vs. source data):', (flights['diff_CRS'] != 0).sum())\n",
    "print(flights['diff_Act'].value_counts())\n",
    "print('Total number of records with different Actual Elapsed time (UTC-based vs. source data):', ((flights['diff_Act'] != 0) & (~flights['diff_Act'].isna())).sum())\n"
   ]
  },
  {
   "cell_type": "code",
   "execution_count": 126,
   "metadata": {},
   "outputs": [
    {
     "name": "stdout",
     "output_type": "stream",
     "text": [
      "There are 8 flights with very small difference which can be attrabuted to minor\n"
     ]
    }
   ],
   "source": [
    "# How many flights have difference in CRS but this difference is less then 5 minutes?\n",
    "difference_CRS_less_5_min = (abs(flights['diff_CRS']) < 5) & (abs(flights['diff_CRS']) != 0)\n",
    "print('There are', len(flights[difference_CRS_less_5_min]), 'flights with very small scheduled difference of which can be attrabuted to minor')"
   ]
  },
  {
   "cell_type": "code",
   "execution_count": 127,
   "metadata": {},
   "outputs": [
    {
     "name": "stdout",
     "output_type": "stream",
     "text": [
      "Number of records with minor errors in CRS Elapsed Time (before): 8\n",
      "Number of records with minor errors in CRS Elapsed Time (after) 0\n"
     ]
    }
   ],
   "source": [
    "print('Number of records with minor errors in CRS Elapsed Time (before):', len(flights[difference_CRS_less_5_min]))\n",
    "flights.loc[difference_CRS_less_5_min, 'CRSElapsedTime'], flights.loc[difference_CRS_less_5_min, 'diff_CRS'] = \\\n",
    "    flights.loc[difference_CRS_less_5_min, 'UTCElapsedTime_CRS'],  0\n",
    "print('Number of records with minor errors in CRS Elapsed Time (after)', len(flights[(abs(flights['diff_CRS']) < 5) & (abs(flights['diff_CRS']) != 0)]))"
   ]
  },
  {
   "cell_type": "code",
   "execution_count": 129,
   "metadata": {},
   "outputs": [
    {
     "name": "stdout",
     "output_type": "stream",
     "text": [
      "There are 131 flights with very small actual difference which can be attrabuted to minor\n"
     ]
    }
   ],
   "source": [
    "# How many flights have difference in Actual elapsed times but this difference is less then 5 minutes?\n",
    "difference_Act_less_5_min = (abs(flights['diff_Act']) < 5) & (abs(flights['diff_Act']) != 0)\n",
    "print('There are', len(flights[difference_Act_less_5_min]), 'flights with very small actual difference which can be attrabuted to minor')"
   ]
  },
  {
   "cell_type": "code",
   "execution_count": 130,
   "metadata": {},
   "outputs": [
    {
     "name": "stdout",
     "output_type": "stream",
     "text": [
      "Number of records with minor errors in Actual Elapsed Time (before): 131\n",
      "Number of records with minor errors in Actual Elapsed Time (after) 0\n"
     ]
    }
   ],
   "source": [
    "print('Number of records with minor errors in Actual Elapsed Time (before):', len(flights[difference_Act_less_5_min]))\n",
    "flights.loc[difference_Act_less_5_min, 'ActElapsedTime'], flights.loc[difference_Act_less_5_min, 'diff_Act'] = \\\n",
    "    flights.loc[difference_Act_less_5_min, 'UTCElapsedTime_Act'],  0\n",
    "print('Number of records with minor errors in Actual Elapsed Time (after)', len(flights[(abs(flights['diff_Act']) < 5) & (abs(flights['diff_Act']) != 0)]))"
   ]
  },
  {
   "cell_type": "code",
   "execution_count": 131,
   "metadata": {},
   "outputs": [],
   "source": [
    "output_file_name = 'data/processed/processed_2014_2018_final.pickle'\n",
    "with open(output_file_name, 'wb') as out_file:\n",
    "    pickle.dump(flights, out_file, protocol=pickle.HIGHEST_PROTOCOL)\n"
   ]
  },
  {
   "cell_type": "markdown",
   "metadata": {},
   "source": [
    "### Checking the difference between scheduled and actual elapsed times"
   ]
  },
  {
   "cell_type": "code",
   "execution_count": 132,
   "metadata": {},
   "outputs": [],
   "source": [
    "# Loading preprocessed dataset\n",
    "\n",
    "input_file_name = 'data/processed/processed_2014_2018_final.pickle'\n",
    "with open(input_file_name, 'rb') as in_file:\n",
    "    flights = pickle.load(in_file)"
   ]
  },
  {
   "cell_type": "code",
   "execution_count": 133,
   "metadata": {},
   "outputs": [],
   "source": [
    "# Analysis of difference between 'ActualElapsedTime' and 'CRSElapsedTime'\n",
    "flights['ElapsedTimeDiff'] = flights['ActualElapsedTime'] - flights['CRSElapsedTime']"
   ]
  },
  {
   "cell_type": "code",
   "execution_count": 134,
   "metadata": {},
   "outputs": [],
   "source": [
    "non_NA_ET_diff = ~flights['ElapsedTimeDiff'].isna()\n"
   ]
  },
  {
   "cell_type": "code",
   "execution_count": 135,
   "metadata": {},
   "outputs": [],
   "source": [
    "Act_vs_CRS_ET = flights[non_NA_ET_diff]['ElapsedTimeDiff']\n",
    "Act_vs_CRS_ET = Act_vs_CRS_ET.astype(float)\n",
    "sample_mean = Act_vs_CRS_ET.mean()\n",
    "sample_std = Act_vs_CRS_ET.std()"
   ]
  },
  {
   "cell_type": "code",
   "execution_count": 136,
   "metadata": {},
   "outputs": [],
   "source": [
    "rng = np.random.default_rng(18)\n",
    "gauss_distr = rng.normal(sample_mean,\n",
    "                        sample_std,\n",
    "                        size=1000000)\n",
    "\n",
    "bins = np.arange(-50,50)"
   ]
  },
  {
   "cell_type": "code",
   "execution_count": 137,
   "metadata": {},
   "outputs": [
    {
     "data": {
      "image/png": "[encoded data removed]",
      "text/plain": [
       "<Figure size 640x480 with 1 Axes>"
      ]
     },
     "metadata": {},
     "output_type": "display_data"
    }
   ],
   "source": [
    "plt.hist(Act_vs_CRS_ET, bins=bins, density=True)\n",
    "plt.hist(gauss_distr, histtype='step', bins=bins, color='r', density=True)\n",
    "plt.xlim(-50,50)\n",
    "plt.show()"
   ]
  },
  {
   "cell_type": "code",
   "execution_count": 138,
   "metadata": {},
   "outputs": [
    {
     "name": "stdout",
     "output_type": "stream",
     "text": [
      "Mean difference between scheduled and actual time -4.73\n",
      "Standard deviation of the difference 13.1\n"
     ]
    }
   ],
   "source": [
    "print('Mean difference between scheduled and actual time', round(sample_mean, 2))\n",
    "print('Standard deviation of the difference', round(sample_std, 2))"
   ]
  },
  {
   "cell_type": "markdown",
   "metadata": {},
   "source": [
    "The diffence between acheduled and actual elapsed time is not normally distribute (despite being very close), In average the actual elapsed time less than the scheduled (-4.73 min). However, this is the duration of the flight and not a arrival time."
   ]
  },
  {
   "cell_type": "markdown",
   "metadata": {},
   "source": [
    "It is interesting to examine the most negative values of the difference between scheduled and actual elapsed time: how shorter the actual duration of flight can be against its scheduled duration?"
   ]
  },
  {
   "cell_type": "code",
   "execution_count": 139,
   "metadata": {},
   "outputs": [
    {
     "data": {
      "text/plain": [
       "count    2.958894e+07\n",
       "mean    -4.733704e+00\n",
       "std      1.310128e+01\n",
       "min     -2.500000e+02\n",
       "25%     -1.200000e+01\n",
       "50%     -6.000000e+00\n",
       "75%      1.000000e+00\n",
       "max      4.850000e+02\n",
       "Name: ElapsedTimeDiff, dtype: float64"
      ]
     },
     "execution_count": 139,
     "metadata": {},
     "output_type": "execute_result"
    }
   ],
   "source": [
    "flights['ElapsedTimeDiff'].astype(float).describe()"
   ]
  },
  {
   "cell_type": "markdown",
   "metadata": {},
   "source": [
    "Interesting!!!! Some flights lasted more than 200 minutes less/more than they were scheduled!!! For sure there are errors in data."
   ]
  },
  {
   "cell_type": "markdown",
   "metadata": {},
   "source": [
    "How many flights have an elapsed time difference that is an outlier in the range?\n",
    "To answer this question let's first calculate the relative difference of elapsed time, because on long distanced the absolute difference in minutes can be higher."
   ]
  },
  {
   "cell_type": "code",
   "execution_count": 142,
   "metadata": {},
   "outputs": [],
   "source": [
    "# Calculating the relative difference of elapsed time\n",
    "flights['RelElapTimeDiff'] = (flights['ElapsedTimeDiff'] / flights['CRSElapsedTime']).astype(float)\n"
   ]
  },
  {
   "cell_type": "code",
   "execution_count": 143,
   "metadata": {},
   "outputs": [
    {
     "name": "stdout",
     "output_type": "stream",
     "text": [
      "Mean relative difference between scheduled and actual time (%) -3.42\n",
      "Standard deviation of the relative difference (%) 12.13\n"
     ]
    }
   ],
   "source": [
    "print('Mean relative difference between scheduled and actual time (%)', round(flights['RelElapTimeDiff'].mean() * 100, 2))\n",
    "print('Standard deviation of the relative difference (%)', round(flights['RelElapTimeDiff'].std() * 100, 2))"
   ]
  },
  {
   "cell_type": "code",
   "execution_count": 144,
   "metadata": {},
   "outputs": [
    {
     "data": {
      "image/png": "[encoded data removed]",
      "text/plain": [
       "<Figure size 640x480 with 1 Axes>"
      ]
     },
     "metadata": {},
     "output_type": "display_data"
    }
   ],
   "source": [
    "rng = np.random.default_rng(18)\n",
    "gauss_distr = rng.normal(flights['RelElapTimeDiff'].mean(),\n",
    "                        flights['RelElapTimeDiff'].std(),\n",
    "                        size=1000000)\n",
    "\n",
    "bins = np.arange(-1, 1, 0.01)\n",
    "\n",
    "plt.hist(flights['RelElapTimeDiff'], bins=bins, density=True)\n",
    "plt.hist(gauss_distr, histtype='step', bins=bins, color='r', density=True)\n",
    "plt.xlim(-0.5, 0.5)\n",
    "plt.show()"
   ]
  },
  {
   "cell_type": "code",
   "execution_count": 162,
   "metadata": {},
   "outputs": [
    {
     "name": "stdout",
     "output_type": "stream",
     "text": [
      "All flights with actual elapsed time less than -25.23 percents or higher than 16.66 percents of scheduled elapsed time are deffinitely outliers\n"
     ]
    }
   ],
   "source": [
    "\n",
    "q25, q50, q75 = flights['RelElapTimeDiff'].quantile([0.25, 0.5, 0.75])\n",
    "outlier_limit_low = q25 - (q75 - q25) * 1.5\n",
    "outlier_limit_high = q75 + (q75 - q25) * 1.5\n",
    "print('All flights with actual elapsed time less than', round(outlier_limit_low * 100, 2), 'percents or higher than', round(outlier_limit_high *100, 2), 'percents of scheduled elapsed time are deffinitely outliers')"
   ]
  },
  {
   "cell_type": "code",
   "execution_count": 173,
   "metadata": {},
   "outputs": [
    {
     "name": "stdout",
     "output_type": "stream",
     "text": [
      "                    CRSDepDT Origin Dest  ActualElapsedTime  CRSElapsedTime  ElapsedTimeDiff  RelElapTimeDiff  diff_CRS  diff_Act\n",
      "28530440 2018-10-09 21:20:00    ORD  TVC               60.0           -99.0            159.0        -1.606445     175.0       0.0\n",
      "21568647 2017-10-09 08:55:00    SBP  SFO               52.0           302.0           -250.0        -0.827637       0.0       0.0\n",
      "27060967 2018-07-17 05:40:00    SLN  HYS               44.0           161.0           -117.0        -0.726562       0.0       0.0\n",
      "10814398 2015-11-03 20:15:00    SAN  SFO               84.0           285.0           -201.0        -0.705078       0.0       0.0\n",
      "23159729 2018-01-07 11:10:00    RDM  MFR               41.0           137.0            -96.0        -0.700684     -60.0       0.0\n",
      "24184719 2018-03-29 05:27:00    MKE  DTW               76.0           253.0           -177.0        -0.699707       0.0       0.0\n",
      "24791714 2018-04-26 06:07:00    PSP  SLC               93.0           290.0           -197.0        -0.679199       0.0       0.0\n",
      "5769493  2014-12-10 21:00:00    MCN  ATL               21.0            60.0            -39.0        -0.649902       0.0       0.0\n",
      "9013490  2015-07-17 17:40:00    BHM  ATL               30.0            77.0            -47.0        -0.610352       0.0       0.0\n",
      "29274662 2018-11-17 17:09:00    PIB  MEI               16.0            41.0            -25.0        -0.609863       0.0       0.0\n",
      "                    CRSDepDT Origin Dest  ActualElapsedTime  CRSElapsedTime  ElapsedTimeDiff  RelElapTimeDiff  diff_CRS  diff_Act\n",
      "16646892 2016-11-27 00:05:00    ORD  FSD              574.0           110.0            464.0         4.218750       0.0       0.0\n",
      "13649647 2016-05-27 15:01:00    AUS  IAH              318.0            59.0            259.0         4.390625       0.0       0.0\n",
      "22534193 2017-12-17 11:58:00    AVL  ATL              370.0            64.0            306.0         4.781250       0.0       0.0\n",
      "17604178 2017-01-06 11:47:00    JAX  FLL              453.0            77.0            376.0         4.882812       0.0       0.0\n",
      "26019611 2018-06-02 17:10:00    SLN  HYS               42.0             5.0             37.0         7.398438       0.0       0.0\n",
      "18294052 2017-03-29 19:24:00    FWA  ORD               67.0             4.0             63.0        15.750000       0.0       0.0\n",
      "27319025 2018-08-19 22:25:00    CLT  PGV               66.0             1.0             65.0        65.000000       0.0       0.0\n",
      "19335470 2017-05-22 15:10:00    DTW  CIU               83.0             1.0             82.0        82.000000       0.0       0.0\n",
      "26989871 2018-07-04 07:09:00    MSP  LGA              174.0             1.0            173.0       173.000000       0.0       0.0\n",
      "26634021 2018-07-10 12:27:00    MTJ  DFW              182.0             1.0            181.0       181.000000       0.0       0.0\n",
      "In 2014-2018 there were 1389169 flight arrived earlier for more than -25.23 % ( 4.61 % of total flights)\n"
     ]
    }
   ],
   "source": [
    "pd.set_option('display.width', 200)\n",
    "# Filtering flights that had actual elapsed time to short relative to scheduled \n",
    "actual_time_less_than_CRRS = (flights['RelElapTimeDiff'] < outlier_limit_low) | (flights['RelElapTimeDiff'] > outlier_limit_high)\n",
    "\n",
    "# Printing the TOP-10 fasters flights\n",
    "SuperFastFlights = flights[actual_time_less_than_CRRS]\n",
    "print(SuperFastFlights[['CRSDepDT',\n",
    "                        'Origin', \n",
    "                        'Dest',\n",
    "                        'ActualElapsedTime', \n",
    "                        'CRSElapsedTime', \n",
    "                        'ElapsedTimeDiff',\n",
    "                        'RelElapTimeDiff', \n",
    "                        'diff_CRS', 'diff_Act']]\n",
    "      .sort_values('RelElapTimeDiff', ascending=True).head(10))\n",
    "\n",
    "print(SuperFastFlights[['CRSDepDT',\n",
    "                        'Origin', \n",
    "                        'Dest',\n",
    "                        'ActualElapsedTime', \n",
    "                        'CRSElapsedTime', \n",
    "                        'ElapsedTimeDiff',\n",
    "                        'RelElapTimeDiff', \n",
    "                        'diff_CRS', 'diff_Act']]\n",
    "      .sort_values('RelElapTimeDiff', ascending=True).tail(10))\n",
    "\n",
    "# Printing some summary for these flights\n",
    "print('In 2014-2018 there were', \n",
    "      SuperFastFlights['Flight_Number_Reporting_Airline'].count(), \n",
    "      'flight arrived earlier for more than', round(outlier_limit_low * 100, 2), '% (', \n",
    "      round(SuperFastFlights['Flight_Number_Reporting_Airline'].count() / len(flights) * 100, 2),\n",
    "      '% of total flights)')"
   ]
  },
  {
   "cell_type": "code",
   "execution_count": 176,
   "metadata": {},
   "outputs": [
    {
     "name": "stdout",
     "output_type": "stream",
     "text": [
      "                    CRSDepDT            CRSArrDT                CRSDep_UTC                CRSArr_UTC Origin Dest  ActualElapsedTime  CRSElapsedTime  ElapsedTimeDiff  RelElapTimeDiff  diff_CRS  \\\n",
      "16646892 2016-11-27 00:05:00 2016-11-27 01:55:00 2016-11-27 06:05:00+00:00 2016-11-27 07:55:00+00:00    ORD  FSD              574.0           110.0            464.0         4.218750       0.0   \n",
      "13649647 2016-05-27 15:01:00 2016-05-27 16:00:00 2016-05-27 20:01:00+00:00 2016-05-27 21:00:00+00:00    AUS  IAH              318.0            59.0            259.0         4.390625       0.0   \n",
      "22534193 2017-12-17 11:58:00 2017-12-17 13:02:00 2017-12-17 16:58:00+00:00 2017-12-17 18:02:00+00:00    AVL  ATL              370.0            64.0            306.0         4.781250       0.0   \n",
      "17604178 2017-01-06 11:47:00 2017-01-06 13:04:00 2017-01-06 16:47:00+00:00 2017-01-06 18:04:00+00:00    JAX  FLL              453.0            77.0            376.0         4.882812       0.0   \n",
      "26019611 2018-06-02 17:10:00 2018-06-02 17:15:00 2018-06-02 22:10:00+00:00 2018-06-02 22:15:00+00:00    SLN  HYS               42.0             5.0             37.0         7.398438       0.0   \n",
      "18294052 2017-03-29 19:24:00 2017-03-29 18:28:00 2017-03-29 23:24:00+00:00 2017-03-29 23:28:00+00:00    FWA  ORD               67.0             4.0             63.0        15.750000       0.0   \n",
      "27319025 2018-08-19 22:25:00 2018-08-19 22:26:00 2018-08-20 02:25:00+00:00 2018-08-20 02:26:00+00:00    CLT  PGV               66.0             1.0             65.0        65.000000       0.0   \n",
      "19335470 2017-05-22 15:10:00 2017-05-22 15:11:00 2017-05-22 19:10:00+00:00 2017-05-22 19:11:00+00:00    DTW  CIU               83.0             1.0             82.0        82.000000       0.0   \n",
      "26989871 2018-07-04 07:09:00 2018-07-04 08:10:00 2018-07-04 12:09:00+00:00 2018-07-04 12:10:00+00:00    MSP  LGA              174.0             1.0            173.0       173.000000       0.0   \n",
      "26634021 2018-07-10 12:27:00 2018-07-10 13:28:00 2018-07-10 18:27:00+00:00 2018-07-10 18:28:00+00:00    MTJ  DFW              182.0             1.0            181.0       181.000000       0.0   \n",
      "\n",
      "          diff_Act  \n",
      "16646892       0.0  \n",
      "13649647       0.0  \n",
      "22534193       0.0  \n",
      "17604178       0.0  \n",
      "26019611       0.0  \n",
      "18294052       0.0  \n",
      "27319025       0.0  \n",
      "19335470       0.0  \n",
      "26989871       0.0  \n",
      "26634021       0.0  \n"
     ]
    }
   ],
   "source": [
    "print(SuperFastFlights[['CRSDepDT', 'CRSArrDT',\n",
    "                        'CRSDep_UTC', 'CRSArr_UTC',\n",
    "                        'Origin', \n",
    "                        'Dest',\n",
    "                        'ActualElapsedTime', \n",
    "                        'CRSElapsedTime', \n",
    "                        'ElapsedTimeDiff',\n",
    "                        'RelElapTimeDiff', \n",
    "                        'diff_CRS', 'diff_Act']]\n",
    "      .sort_values('RelElapTimeDiff', ascending=True).tail(10))"
   ]
  },
  {
   "cell_type": "code",
   "execution_count": 156,
   "metadata": {},
   "outputs": [
    {
     "name": "stdout",
     "output_type": "stream",
     "text": [
      "Reporting_Airline                                         YX\n",
      "Flight_Number_Reporting_Airline                         3534\n",
      "Origin                                                   ORD\n",
      "Dest                                                     TVC\n",
      "DepDelay                                               524.0\n",
      "DepartureDelayGroups                                      12\n",
      "DepTimeBlk                                         2100-2159\n",
      "ArrDelay                                               508.0\n",
      "ArrivalDelayGroups                                        12\n",
      "ArrTimeBlk                                         2300-2359\n",
      "Cancelled                                              False\n",
      "CancellationCode                                         NaN\n",
      "Diverted                                               False\n",
      "CRSElapsedTime                                         -99.0\n",
      "ActualElapsedTime                                       60.0\n",
      "AirTime                                                 39.0\n",
      "CarrierDelay                                             0.0\n",
      "WeatherDelay                                           508.0\n",
      "NASDelay                                                 0.0\n",
      "SecurityDelay                                            0.0\n",
      "LateAircraftDelay                                        0.0\n",
      "DivReachedDest                                         False\n",
      "DivActualElapsedTime                                     NaN\n",
      "DivArrDelay                                              NaN\n",
      "CRSDepDT                                 2018-10-09 21:20:00\n",
      "CRSArrDT                                 2018-10-09 23:36:00\n",
      "DepDT                                    2018-10-10 06:04:00\n",
      "ArrDT                                    2018-10-10 08:04:00\n",
      "CRSDep_UTC                         2018-10-10 02:20:00+00:00\n",
      "CRSArr_UTC                         2018-10-10 03:36:00+00:00\n",
      "ActDep_UTC                         2018-10-10 11:04:00+00:00\n",
      "ActArr_UTC                         2018-10-10 12:04:00+00:00\n",
      "UTCElapsedTime_CRS                                      76.0\n",
      "UTCElapsedTime_Act                                      60.0\n",
      "diff_CRS                                               175.0\n",
      "diff_Act                                                 0.0\n",
      "ElapsedTimeDiff                                        159.0\n",
      "ActElapsedTime                                           NaN\n",
      "RelElapTimeDiff                                    -1.606445\n",
      "Name: 28530440, dtype: object\n",
      "Flight number: 3534\n"
     ]
    }
   ],
   "source": [
    "# Details for the flight ind = 21568647 which has the most significant difference between scheduled and actual \n",
    "# elapsed times\n",
    "\n",
    "print(flights.iloc[28530440].T)\n",
    "print('Flight number:', flights.iloc[28530440]['Flight_Number_Reporting_Airline'])"
   ]
  },
  {
   "cell_type": "code",
   "execution_count": null,
   "metadata": {},
   "outputs": [],
   "source": [
    "# Details for the flight ind = 26994453 which has the second most significant difference between scheduled and actual \n",
    "# elapsed times\n",
    "print(flights.iloc[21568647][data_details + route_details + DepArr_details + elapsed_time_fields])\n",
    "print('Flight number:', flights.iloc[21568647]['Flight_Number_Reporting_Airline'])\n"
   ]
  },
  {
   "cell_type": "markdown",
   "metadata": {},
   "source": [
    "The second most differing flight has the same story: Google [search](https://www.google.com/maps/dir/LaGuardia+Airport+(LGA),+East+Elmhurst,+NY,+USA/Dallas+Fort+Worth+International+Airport+(DFW),+2400+Aviation+Dr,+Dallas,+TX+75261,+United+States/@36.3681193,-96.0279203,5z/data=!3m1!4b1!4m14!4m13!1m5!1m1!1s0x89c25f8983424db5:0x772fc4660e9666b3!2m2!1d-73.8742467!2d40.7766422!1m5!1m1!1s0x864c2a660d222aa7:0x73323f5e067d201c!2m2!1d-97.0335765!2d32.8990434!3e4?entry=ttu&g_ep=EgoyMDI0MTAwMi4xIKXMDSoASAFQAw%3D%3D) shows the estimated time of the direct flight 3h 40m which again closer to the actual elapsed time and far away from scheduled 431 min - more than 7h!"
   ]
  },
  {
   "cell_type": "code",
   "execution_count": null,
   "metadata": {},
   "outputs": [],
   "source": [
    "# load source file for accessing some detailes that were deleted in the result dataset\n",
    "_fl = load_data_from(source_zip, source_path + '2017_10.csv')\n",
    "\n",
    "# tiltering the flight of interest \n",
    "ind = _fl[(_fl['Flight_Number_Reporting_Airline'] == 5028) \n",
    "    & (_fl['DayofMonth'] == 9) \n",
    "    & (_fl['Origin'] == 'SBP')\n",
    "    & (_fl['Dest'] == 'SFO')].index\n",
    "flight_top1 = _fl.iloc[*ind]\n",
    "\n",
    "# Printing results \n",
    "pd.set_option('display.max_rows', 115)\n",
    "print(_fl.iloc[*ind][:70])"
   ]
  },
  {
   "cell_type": "code",
   "execution_count": null,
   "metadata": {},
   "outputs": [],
   "source": [
    "# load source file for accessing some detailes that were deleted in the result dataset\n",
    "_fl = load_data_from(source_zip, source_path + '2018_7.csv')\n",
    "\n",
    "# tiltering the flight of interest \n",
    "ind = _fl[(_fl['Flight_Number_Reporting_Airline'] == 5935) \n",
    "    & (_fl['DayofMonth'] == 25) \n",
    "    & (_fl['Origin'] == 'DFW')\n",
    "    & (_fl['Dest'] == 'LGA')].index\n",
    "flight_top2 = _fl.iloc[*ind]\n",
    "\n",
    "# Printing results \n",
    "pd.set_option('display.max_rows', 115)\n",
    "print(_fl.iloc[*ind][:70])"
   ]
  },
  {
   "cell_type": "markdown",
   "metadata": {},
   "source": [
    "These two flight were quite ordinary flights: they were not canceled or diverted, they had just one flight (field 'Fligths'), and as we know from Google search above their actual elapsed time seems reasonable but their GRSElapsedTime doesn't. "
   ]
  },
  {
   "cell_type": "markdown",
   "metadata": {},
   "source": [
    "Could the CRS Elapsed Time have been calculated incorrectly due to timezone differences?\n",
    "Let's check it"
   ]
  },
  {
   "cell_type": "code",
   "execution_count": 2,
   "metadata": {},
   "outputs": [],
   "source": [
    "# [FUNCTION]\n",
    "\n",
    "# The fastest flight - TOP1\n",
    "def time_check(list_of_flights):\n",
    "    for a in list_of_flights:\n",
    "        CRSDepTime = datetime(a.Year, a.Month, a.DayofMonth, a.CRSDepTime // 100, a.CRSDepTime % 100)\n",
    "        CRSArrTime = datetime(a.Year, a.Month, a.DayofMonth, a.CRSArrTime // 100, a.CRSArrTime % 100)\n",
    "\n",
    "        print('Flight #', a.Flight_Number_Reporting_Airline)\n",
    "        print('CRS: ')\n",
    "        print(a.Origin, '\\nTime zone: ', tz.gettz(IATAtz[a.Origin]))\n",
    "        print('Local departure time:      ', CRSDepTime)\n",
    "        print('Local departure time (tz): ', airport_time_tz(CRSDepTime, a.Origin))\n",
    "        print('UTC Departure time:        ', airport_time_UTC(CRSDepTime, a.Origin))\n",
    "        print('')\n",
    "        print(a.Dest, '\\nTime zone: ', tz.gettz(IATAtz[a.Dest]))\n",
    "        print('Local departure time:      ', CRSArrTime)\n",
    "        print('Local departure time (tz): ', airport_time_tz(CRSArrTime, a.Dest))\n",
    "        print('UTC Departure time:        ', airport_time_UTC(CRSArrTime, a.Dest))\n",
    "        print('')\n",
    "        print('Elapsed time (CRS):', round(a.CRSElapsedTime / 60, 2))\n",
    "        print('Elapsed time (UTC):', round((airport_time_UTC(CRSArrTime, a.Dest) - airport_time_UTC(CRSDepTime, a.Origin)).seconds / 3600, 2))\n",
    "        print('\\n')\n"
   ]
  },
  {
   "cell_type": "code",
   "execution_count": null,
   "metadata": {},
   "outputs": [],
   "source": [
    "time_check([flight_top1, flight_top2])\n",
    "\n"
   ]
  },
  {
   "cell_type": "markdown",
   "metadata": {},
   "source": [
    "As we can wee there is no error due to incorrect calculatinb elapsed time for different timezones of Origin and Destination. \n",
    "Let's check all outliers flights"
   ]
  },
  {
   "cell_type": "markdown",
   "metadata": {},
   "source": [
    "Ok, we see that the data for the flight wiht the earliest arrival is correct. \n",
    "Let's check correctness of Elapsed times for the sample of 1000 flights"
   ]
  },
  {
   "cell_type": "code",
   "execution_count": null,
   "metadata": {},
   "outputs": [],
   "source": [
    "# Check for correctness of CRS ET (elapsed times) for all records (rows)\n",
    "from datetime import datetime\n",
    "\n",
    "# filtering only flights that were not cancelled or diverted\n",
    "not_canceled_or_diverted = (flights['Cancelled'] != 1) & (flights['Diverted'] != 1)\n",
    "ordinary_flights = flights[not_canceled_or_diverted]\n",
    "print('Number of not cancelled or diverted flights', len(ordinary_flights))"
   ]
  },
  {
   "cell_type": "code",
   "execution_count": null,
   "metadata": {},
   "outputs": [],
   "source": []
  }
 ],
 "metadata": {
  "kernelspec": {
   "display_name": "base",
   "language": "python",
   "name": "python3"
  },
  "language_info": {
   "codemirror_mode": {
    "name": "ipython",
    "version": 3
   },
   "file_extension": ".py",
   "mimetype": "text/x-python",
   "name": "python",
   "nbconvert_exporter": "python",
   "pygments_lexer": "ipython3",
   "version": "3.12.4"
  }
 },
 "nbformat": 4,
 "nbformat_minor": 2
}
