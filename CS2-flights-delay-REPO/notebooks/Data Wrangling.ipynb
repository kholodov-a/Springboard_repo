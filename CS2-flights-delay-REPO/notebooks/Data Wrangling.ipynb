{
 "cells": [
  {
   "cell_type": "markdown",
   "metadata": {},
   "source": [
    "# Data Collection\n",
    "\n",
    "The original dataset, US Domestic Flights Delay Prediction (2013 - 2018) (Source: [Kaggle](https://www.kaggle.com/datasets/gabrielluizone/us-domestic-flights-delay-prediction-2013-2018)), is provided as a zip archive of 1.54 GB. When decompressed, the archive contains 60 files with a total size of 13.6 GB. Each file corresponds to one month of data, starting from January 2014 and ending in December 2018.\n",
    "\n",
    "Steps for collecting and cleaning the data:\n",
    "\n",
    "*\tLoading the first file\n",
    "*\tEvaluating the data’s size and quality\n",
    "*\tDefining the specific data needed for the project\n",
    "*\tDeveloping a process for data organization and cleaning\n",
    "*\tTesting the code on one month’s data file\n",
    "*\tApplying the code to all files\n",
    "*\tAccumulating the complete dataset\n",
    "\n",
    "\n",
    "The archive file (csv_flight.zip) was downloaded and saved locally."
   ]
  },
  {
   "cell_type": "markdown",
   "metadata": {},
   "source": [
    "## Loading the first file"
   ]
  },
  {
   "cell_type": "code",
   "execution_count": 2,
   "metadata": {},
   "outputs": [
    {
     "data": {
      "text/plain": [
       "'/Users/a.kholodov/Documents/02. Personal/20. Education/50. Universities/Springboard/Springboard_git/Springboard _repo/CS2-flights-delay-REPO'"
      ]
     },
     "execution_count": 2,
     "metadata": {},
     "output_type": "execute_result"
    }
   ],
   "source": [
    "# import required modules\n",
    "import zipfile\n",
    "import os\n",
    "import pandas as pd\n",
    "os.chdir('/Users/a.kholodov/Documents/02. Personal/20. Education/50. Universities/Springboard/Springboard_git/Springboard _repo/CS2-flights-delay-REPO')\n",
    "os.getcwd()"
   ]
  },
  {
   "cell_type": "code",
   "execution_count": 3,
   "metadata": {},
   "outputs": [],
   "source": [
    "\n",
    "source_zip_file = 'data/interim/csv_flight.zip'\n",
    "data_file = 'csv_flight/report_2014_1.csv'\n",
    "\n",
    "# reading the first file to evaluate the data\n",
    "with zipfile.ZipFile(source_zip_file) as zip_source:\n",
    "    with zip_source.open(data_file) as data_file:\n",
    "        flights_2014_1 = pd.read_csv(data_file, low_memory=False)"
   ]
  },
  {
   "cell_type": "markdown",
   "metadata": {},
   "source": [
    "## Data size"
   ]
  },
  {
   "cell_type": "code",
   "execution_count": 4,
   "metadata": {},
   "outputs": [
    {
     "name": "stdout",
     "output_type": "stream",
     "text": [
      "(471949, 110)\n",
      "<class 'pandas.core.frame.DataFrame'>\n",
      "RangeIndex: 471949 entries, 0 to 471948\n",
      "Columns: 110 entries, Year to Unnamed: 109\n",
      "dtypes: float64(70), int64(21), object(19)\n",
      "memory usage: 396.1+ MB\n",
      "None\n"
     ]
    }
   ],
   "source": [
    "print(flights_2014_1.shape)\n",
    "print(flights_2014_1.info())"
   ]
  },
  {
   "cell_type": "markdown",
   "metadata": {},
   "source": [
    "The data for one month contains 471,949 rows and 110 columns, with a total memory size of 396 MB. The estimated size of the entire dataset, without reorganization or cleaning, may exceed 23 GB, which could be challenging to process locally. Therefore, one of the goals of data preparation will be to reduce the dataset size without compromising quality."
   ]
  },
  {
   "cell_type": "markdown",
   "metadata": {},
   "source": [
    "## Data structure and check\n",
    "### Date of the flight"
   ]
  },
  {
   "cell_type": "code",
   "execution_count": 5,
   "metadata": {},
   "outputs": [
    {
     "data": {
      "text/html": [
       "<div>\n",
       "<style scoped>\n",
       "    .dataframe tbody tr th:only-of-type {\n",
       "        vertical-align: middle;\n",
       "    }\n",
       "\n",
       "    .dataframe tbody tr th {\n",
       "        vertical-align: top;\n",
       "    }\n",
       "\n",
       "    .dataframe thead th {\n",
       "        text-align: right;\n",
       "    }\n",
       "</style>\n",
       "<table border=\"1\" class=\"dataframe\">\n",
       "  <thead>\n",
       "    <tr style=\"text-align: right;\">\n",
       "      <th></th>\n",
       "      <th>Year</th>\n",
       "      <th>Quarter</th>\n",
       "      <th>Month</th>\n",
       "      <th>DayofMonth</th>\n",
       "      <th>DayOfWeek</th>\n",
       "      <th>FlightDate</th>\n",
       "    </tr>\n",
       "  </thead>\n",
       "  <tbody>\n",
       "    <tr>\n",
       "      <th>0</th>\n",
       "      <td>2014</td>\n",
       "      <td>1</td>\n",
       "      <td>1</td>\n",
       "      <td>30</td>\n",
       "      <td>4</td>\n",
       "      <td>2014-01-30</td>\n",
       "    </tr>\n",
       "    <tr>\n",
       "      <th>1</th>\n",
       "      <td>2014</td>\n",
       "      <td>1</td>\n",
       "      <td>1</td>\n",
       "      <td>31</td>\n",
       "      <td>5</td>\n",
       "      <td>2014-01-31</td>\n",
       "    </tr>\n",
       "    <tr>\n",
       "      <th>2</th>\n",
       "      <td>2014</td>\n",
       "      <td>1</td>\n",
       "      <td>1</td>\n",
       "      <td>1</td>\n",
       "      <td>3</td>\n",
       "      <td>2014-01-01</td>\n",
       "    </tr>\n",
       "    <tr>\n",
       "      <th>3</th>\n",
       "      <td>2014</td>\n",
       "      <td>1</td>\n",
       "      <td>1</td>\n",
       "      <td>2</td>\n",
       "      <td>4</td>\n",
       "      <td>2014-01-02</td>\n",
       "    </tr>\n",
       "    <tr>\n",
       "      <th>4</th>\n",
       "      <td>2014</td>\n",
       "      <td>1</td>\n",
       "      <td>1</td>\n",
       "      <td>3</td>\n",
       "      <td>5</td>\n",
       "      <td>2014-01-03</td>\n",
       "    </tr>\n",
       "  </tbody>\n",
       "</table>\n",
       "</div>"
      ],
      "text/plain": [
       "   Year  Quarter  Month  DayofMonth  DayOfWeek  FlightDate\n",
       "0  2014        1      1          30          4  2014-01-30\n",
       "1  2014        1      1          31          5  2014-01-31\n",
       "2  2014        1      1           1          3  2014-01-01\n",
       "3  2014        1      1           2          4  2014-01-02\n",
       "4  2014        1      1           3          5  2014-01-03"
      ]
     },
     "execution_count": 5,
     "metadata": {},
     "output_type": "execute_result"
    }
   ],
   "source": [
    "flights_2014_1.iloc[:,:6].head()"
   ]
  },
  {
   "cell_type": "markdown",
   "metadata": {},
   "source": [
    "0. **Year**\n",
    "    * **Description:** Year\n",
    "    * **Data type:** int16\n",
    "    * **Keep**\n",
    "    * **Comment:** Despite there is a field FlightData, I decided to keep separat fileds because they can correlate with flights delay\n",
    "\n",
    "1. **Quarter**  \n",
    "    * **Description:** Quarter (1-4)  \n",
    "    * **Data type:** int8\n",
    "    * **Keep**\n",
    "\n",
    "2. **Month**  \n",
    "    * **Description:** Month (1-12)  \n",
    "    * **Data type:** int8\n",
    "    * **Keep**\n",
    "\n",
    "3. **DayofMonth**  \n",
    "    * **Description:** Day of month  \n",
    "    * **Data type:** int8\n",
    "    * **Keep**\n",
    "\n",
    "4. **DayOfWeek**  \n",
    "    * **Description:** Day of week  \n",
    "    * **Data type:** int8\n",
    "    * **Keep**  \n",
    "\n",
    "5. **FlightDate**  \n",
    "    * **Description:** Flight Date (yyyymmdd)\n",
    "    * **Data type:** datetime\n",
    "    * **Keep**"
   ]
  },
  {
   "cell_type": "markdown",
   "metadata": {},
   "source": [
    "Values check for fields of Date of the flight: the data accurate, there is no outliers or NA."
   ]
  },
  {
   "cell_type": "code",
   "execution_count": 6,
   "metadata": {},
   "outputs": [
    {
     "data": {
      "text/html": [
       "<div>\n",
       "<style scoped>\n",
       "    .dataframe tbody tr th:only-of-type {\n",
       "        vertical-align: middle;\n",
       "    }\n",
       "\n",
       "    .dataframe tbody tr th {\n",
       "        vertical-align: top;\n",
       "    }\n",
       "\n",
       "    .dataframe thead th {\n",
       "        text-align: right;\n",
       "    }\n",
       "</style>\n",
       "<table border=\"1\" class=\"dataframe\">\n",
       "  <thead>\n",
       "    <tr style=\"text-align: right;\">\n",
       "      <th></th>\n",
       "      <th>Year</th>\n",
       "      <th>Quarter</th>\n",
       "      <th>Month</th>\n",
       "      <th>DayofMonth</th>\n",
       "      <th>DayOfWeek</th>\n",
       "    </tr>\n",
       "  </thead>\n",
       "  <tbody>\n",
       "    <tr>\n",
       "      <th>count</th>\n",
       "      <td>6.0</td>\n",
       "      <td>6.0</td>\n",
       "      <td>6.0</td>\n",
       "      <td>6.000000</td>\n",
       "      <td>6.000000</td>\n",
       "    </tr>\n",
       "    <tr>\n",
       "      <th>mean</th>\n",
       "      <td>2014.0</td>\n",
       "      <td>1.0</td>\n",
       "      <td>1.0</td>\n",
       "      <td>11.833333</td>\n",
       "      <td>4.500000</td>\n",
       "    </tr>\n",
       "    <tr>\n",
       "      <th>std</th>\n",
       "      <td>0.0</td>\n",
       "      <td>0.0</td>\n",
       "      <td>0.0</td>\n",
       "      <td>14.497126</td>\n",
       "      <td>1.048809</td>\n",
       "    </tr>\n",
       "    <tr>\n",
       "      <th>min</th>\n",
       "      <td>2014.0</td>\n",
       "      <td>1.0</td>\n",
       "      <td>1.0</td>\n",
       "      <td>1.000000</td>\n",
       "      <td>3.000000</td>\n",
       "    </tr>\n",
       "    <tr>\n",
       "      <th>25%</th>\n",
       "      <td>2014.0</td>\n",
       "      <td>1.0</td>\n",
       "      <td>1.0</td>\n",
       "      <td>2.250000</td>\n",
       "      <td>4.000000</td>\n",
       "    </tr>\n",
       "    <tr>\n",
       "      <th>50%</th>\n",
       "      <td>2014.0</td>\n",
       "      <td>1.0</td>\n",
       "      <td>1.0</td>\n",
       "      <td>3.500000</td>\n",
       "      <td>4.500000</td>\n",
       "    </tr>\n",
       "    <tr>\n",
       "      <th>75%</th>\n",
       "      <td>2014.0</td>\n",
       "      <td>1.0</td>\n",
       "      <td>1.0</td>\n",
       "      <td>23.500000</td>\n",
       "      <td>5.000000</td>\n",
       "    </tr>\n",
       "    <tr>\n",
       "      <th>max</th>\n",
       "      <td>2014.0</td>\n",
       "      <td>1.0</td>\n",
       "      <td>1.0</td>\n",
       "      <td>31.000000</td>\n",
       "      <td>6.000000</td>\n",
       "    </tr>\n",
       "  </tbody>\n",
       "</table>\n",
       "</div>"
      ],
      "text/plain": [
       "         Year  Quarter  Month  DayofMonth  DayOfWeek\n",
       "count     6.0      6.0    6.0    6.000000   6.000000\n",
       "mean   2014.0      1.0    1.0   11.833333   4.500000\n",
       "std       0.0      0.0    0.0   14.497126   1.048809\n",
       "min    2014.0      1.0    1.0    1.000000   3.000000\n",
       "25%    2014.0      1.0    1.0    2.250000   4.000000\n",
       "50%    2014.0      1.0    1.0    3.500000   4.500000\n",
       "75%    2014.0      1.0    1.0   23.500000   5.000000\n",
       "max    2014.0      1.0    1.0   31.000000   6.000000"
      ]
     },
     "execution_count": 6,
     "metadata": {},
     "output_type": "execute_result"
    }
   ],
   "source": [
    "flights_2014_1.loc[:5, ['Year', 'Quarter', 'Month', 'DayofMonth', 'DayOfWeek', 'FlightDate']].describe()"
   ]
  },
  {
   "cell_type": "code",
   "execution_count": 7,
   "metadata": {},
   "outputs": [
    {
     "data": {
      "text/plain": [
       "array(['2014-01-30', '2014-01-31', '2014-01-01', '2014-01-02',\n",
       "       '2014-01-03', '2014-01-04', '2014-01-05', '2014-01-06',\n",
       "       '2014-01-07', '2014-01-08', '2014-01-09', '2014-01-10',\n",
       "       '2014-01-11', '2014-01-12', '2014-01-13', '2014-01-14',\n",
       "       '2014-01-15', '2014-01-16', '2014-01-17', '2014-01-18',\n",
       "       '2014-01-19', '2014-01-20', '2014-01-21', '2014-01-22',\n",
       "       '2014-01-23', '2014-01-24', '2014-01-25', '2014-01-26',\n",
       "       '2014-01-27', '2014-01-28', '2014-01-29'], dtype=object)"
      ]
     },
     "execution_count": 7,
     "metadata": {},
     "output_type": "execute_result"
    }
   ],
   "source": [
    "flights_2014_1.iloc[:,5].unique()"
   ]
  },
  {
   "cell_type": "markdown",
   "metadata": {},
   "source": [
    "But we need to change the data type during the data transformation from current type to the types in the table above."
   ]
  },
  {
   "cell_type": "code",
   "execution_count": 8,
   "metadata": {},
   "outputs": [
    {
     "name": "stdout",
     "output_type": "stream",
     "text": [
      "<class 'pandas.core.frame.DataFrame'>\n",
      "RangeIndex: 471949 entries, 0 to 471948\n",
      "Data columns (total 6 columns):\n",
      " #   Column      Non-Null Count   Dtype \n",
      "---  ------      --------------   ----- \n",
      " 0   Year        471949 non-null  int64 \n",
      " 1   Quarter     471949 non-null  int64 \n",
      " 2   Month       471949 non-null  int64 \n",
      " 3   DayofMonth  471949 non-null  int64 \n",
      " 4   DayOfWeek   471949 non-null  int64 \n",
      " 5   FlightDate  471949 non-null  object\n",
      "dtypes: int64(5), object(1)\n",
      "memory usage: 21.6+ MB\n"
     ]
    }
   ],
   "source": [
    "flights_2014_1.iloc[:,:6].info()"
   ]
  },
  {
   "cell_type": "code",
   "execution_count": 9,
   "metadata": {},
   "outputs": [
    {
     "data": {
      "text/plain": [
       "Year          0\n",
       "Quarter       0\n",
       "Month         0\n",
       "DayofMonth    0\n",
       "DayOfWeek     0\n",
       "FlightDate    0\n",
       "dtype: int64"
      ]
     },
     "execution_count": 9,
     "metadata": {},
     "output_type": "execute_result"
    }
   ],
   "source": [
    "flights_2014_1.iloc[:,:6].isna().sum()"
   ]
  },
  {
   "cell_type": "markdown",
   "metadata": {},
   "source": [
    "###  Airline's and flight's details "
   ]
  },
  {
   "cell_type": "code",
   "execution_count": 10,
   "metadata": {},
   "outputs": [
    {
     "data": {
      "text/html": [
       "<div>\n",
       "<style scoped>\n",
       "    .dataframe tbody tr th:only-of-type {\n",
       "        vertical-align: middle;\n",
       "    }\n",
       "\n",
       "    .dataframe tbody tr th {\n",
       "        vertical-align: top;\n",
       "    }\n",
       "\n",
       "    .dataframe thead th {\n",
       "        text-align: right;\n",
       "    }\n",
       "</style>\n",
       "<table border=\"1\" class=\"dataframe\">\n",
       "  <thead>\n",
       "    <tr style=\"text-align: right;\">\n",
       "      <th></th>\n",
       "      <th>Reporting_Airline</th>\n",
       "      <th>DOT_ID_Reporting_Airline</th>\n",
       "      <th>IATA_CODE_Reporting_Airline</th>\n",
       "      <th>Tail_Number</th>\n",
       "    </tr>\n",
       "  </thead>\n",
       "  <tbody>\n",
       "    <tr>\n",
       "      <th>0</th>\n",
       "      <td>AA</td>\n",
       "      <td>19805</td>\n",
       "      <td>AA</td>\n",
       "      <td>N006AA</td>\n",
       "    </tr>\n",
       "    <tr>\n",
       "      <th>1</th>\n",
       "      <td>AA</td>\n",
       "      <td>19805</td>\n",
       "      <td>AA</td>\n",
       "      <td>N003AA</td>\n",
       "    </tr>\n",
       "    <tr>\n",
       "      <th>2</th>\n",
       "      <td>AA</td>\n",
       "      <td>19805</td>\n",
       "      <td>AA</td>\n",
       "      <td>N002AA</td>\n",
       "    </tr>\n",
       "    <tr>\n",
       "      <th>3</th>\n",
       "      <td>AA</td>\n",
       "      <td>19805</td>\n",
       "      <td>AA</td>\n",
       "      <td>N002AA</td>\n",
       "    </tr>\n",
       "    <tr>\n",
       "      <th>4</th>\n",
       "      <td>AA</td>\n",
       "      <td>19805</td>\n",
       "      <td>AA</td>\n",
       "      <td>N014AA</td>\n",
       "    </tr>\n",
       "  </tbody>\n",
       "</table>\n",
       "</div>"
      ],
      "text/plain": [
       "  Reporting_Airline  DOT_ID_Reporting_Airline IATA_CODE_Reporting_Airline  \\\n",
       "0                AA                     19805                          AA   \n",
       "1                AA                     19805                          AA   \n",
       "2                AA                     19805                          AA   \n",
       "3                AA                     19805                          AA   \n",
       "4                AA                     19805                          AA   \n",
       "\n",
       "  Tail_Number  \n",
       "0      N006AA  \n",
       "1      N003AA  \n",
       "2      N002AA  \n",
       "3      N002AA  \n",
       "4      N014AA  "
      ]
     },
     "execution_count": 10,
     "metadata": {},
     "output_type": "execute_result"
    }
   ],
   "source": [
    "flights_2014_1.iloc[:, 6:10].head()"
   ]
  },
  {
   "cell_type": "markdown",
   "metadata": {},
   "source": [
    "\n",
    "6. **Reporting_Airline**\n",
    "    * **Description:**  Unique Carrier Code. When the same code has been used by multiple carriers, a numeric suffix is used for earlier users, for example, PA, PA(1), PA(2). Use this field for analysis across a range of years. \n",
    "    * **Data type:** category \n",
    "    * **Keep**\n",
    "    * **Comment:** I decided to keep this field and drop DOT_ID_Reporting_Airline and IATA_CODE_Reporting_Airline because it is declared as unique and recomended by data provider as such | \n",
    "\n",
    "7. **DOT_ID_Reporting_Airline**\n",
    "    * **Description** An identification number assigned by US DOT to identify a unique airline (carrier). A unique airline (carrier) is defined as one holding and reporting under the same DOT certificate regardless of its Code, Name, or holding company/corporation.\n",
    "    * **Drop**\n",
    "    * **Comment:** Not unique\n",
    "    \n",
    "8. **IATA_CODE_Reporting_Airline**\n",
    "    * **Description:** Code assigned by IATA and commonly used to identify a carrier. As the same code may have been assigned to different carriers over time, the code is not always unique. For analysis, use the Unique Carrier Code.\n",
    "    * **Drop**\n",
    "    * **Comment:** Not unique\n",
    "\n",
    "9. **Tail_Number**\n",
    "    * **Description:** Tail Number\n",
    "    * **Drop**\n",
    "    * **Comment:** Irrelevant to the purposes of the project\n",
    "\n",
    "10. **Flight_Number_Reporting_Airline**\n",
    "    * **Description:** Flight Number\n",
    "    * **Data type:** int16\n",
    "    * **Keep**\n",
    "    * **Comment:** Unique number of the flight at a specific day/time"
   ]
  },
  {
   "cell_type": "code",
   "execution_count": 11,
   "metadata": {},
   "outputs": [
    {
     "data": {
      "text/plain": [
       "array(['AA', 'AS', 'DL', 'EV', 'B6', 'F9', 'FL', 'HA', 'MQ', 'US', 'OO',\n",
       "       'VX', 'WN', 'UA'], dtype=object)"
      ]
     },
     "execution_count": 11,
     "metadata": {},
     "output_type": "execute_result"
    }
   ],
   "source": [
    "flights_2014_1.iloc[:, 6].unique()"
   ]
  },
  {
   "cell_type": "code",
   "execution_count": 12,
   "metadata": {},
   "outputs": [
    {
     "data": {
      "text/plain": [
       "count    471949.000000\n",
       "mean       2304.719605\n",
       "std        1857.378202\n",
       "min           1.000000\n",
       "25%         707.000000\n",
       "50%        1780.000000\n",
       "75%        3583.000000\n",
       "max        8404.000000\n",
       "Name: Flight_Number_Reporting_Airline, dtype: float64"
      ]
     },
     "execution_count": 12,
     "metadata": {},
     "output_type": "execute_result"
    }
   ],
   "source": [
    "flights_2014_1['Flight_Number_Reporting_Airline'].describe()"
   ]
  },
  {
   "cell_type": "code",
   "execution_count": 13,
   "metadata": {},
   "outputs": [
    {
     "name": "stdout",
     "output_type": "stream",
     "text": [
      "<class 'pandas.core.frame.DataFrame'>\n",
      "RangeIndex: 471949 entries, 0 to 471948\n",
      "Data columns (total 2 columns):\n",
      " #   Column                           Non-Null Count   Dtype \n",
      "---  ------                           --------------   ----- \n",
      " 0   Reporting_Airline                471949 non-null  object\n",
      " 1   Flight_Number_Reporting_Airline  471949 non-null  int64 \n",
      "dtypes: int64(1), object(1)\n",
      "memory usage: 7.2+ MB\n"
     ]
    }
   ],
   "source": [
    "flights_2014_1[['Reporting_Airline', 'Flight_Number_Reporting_Airline']].info()"
   ]
  },
  {
   "cell_type": "code",
   "execution_count": 14,
   "metadata": {},
   "outputs": [
    {
     "data": {
      "text/plain": [
       "Reporting_Airline                  0\n",
       "Flight_Number_Reporting_Airline    0\n",
       "dtype: int64"
      ]
     },
     "execution_count": 14,
     "metadata": {},
     "output_type": "execute_result"
    }
   ],
   "source": [
    "flights_2014_1[['Reporting_Airline', 'Flight_Number_Reporting_Airline']].isna().sum()"
   ]
  },
  {
   "cell_type": "markdown",
   "metadata": {},
   "source": [
    "The data in the fields Reporting_Airline and Flight_Number_Reporting_Airline is accurate, there is no outliers or NA, But I need to change the data type during the data transformation."
   ]
  },
  {
   "cell_type": "markdown",
   "metadata": {},
   "source": [
    "###  Origin and Destination detailes"
   ]
  },
  {
   "cell_type": "code",
   "execution_count": 15,
   "metadata": {},
   "outputs": [
    {
     "data": {
      "text/html": [
       "<div>\n",
       "<style scoped>\n",
       "    .dataframe tbody tr th:only-of-type {\n",
       "        vertical-align: middle;\n",
       "    }\n",
       "\n",
       "    .dataframe tbody tr th {\n",
       "        vertical-align: top;\n",
       "    }\n",
       "\n",
       "    .dataframe thead th {\n",
       "        text-align: right;\n",
       "    }\n",
       "</style>\n",
       "<table border=\"1\" class=\"dataframe\">\n",
       "  <thead>\n",
       "    <tr style=\"text-align: right;\">\n",
       "      <th></th>\n",
       "      <th>DestAirportID</th>\n",
       "      <th>DestAirportSeqID</th>\n",
       "      <th>DestCityMarketID</th>\n",
       "      <th>Dest</th>\n",
       "      <th>DestCityName</th>\n",
       "      <th>DestState</th>\n",
       "      <th>DestStateFips</th>\n",
       "      <th>DestStateName</th>\n",
       "      <th>DestWac</th>\n",
       "    </tr>\n",
       "  </thead>\n",
       "  <tbody>\n",
       "    <tr>\n",
       "      <th>0</th>\n",
       "      <td>12278</td>\n",
       "      <td>1227802</td>\n",
       "      <td>30928</td>\n",
       "      <td>ICT</td>\n",
       "      <td>Wichita, KS</td>\n",
       "      <td>KS</td>\n",
       "      <td>20</td>\n",
       "      <td>Kansas</td>\n",
       "      <td>62</td>\n",
       "    </tr>\n",
       "    <tr>\n",
       "      <th>1</th>\n",
       "      <td>12278</td>\n",
       "      <td>1227802</td>\n",
       "      <td>30928</td>\n",
       "      <td>ICT</td>\n",
       "      <td>Wichita, KS</td>\n",
       "      <td>KS</td>\n",
       "      <td>20</td>\n",
       "      <td>Kansas</td>\n",
       "      <td>62</td>\n",
       "    </tr>\n",
       "    <tr>\n",
       "      <th>2</th>\n",
       "      <td>11298</td>\n",
       "      <td>1129803</td>\n",
       "      <td>30194</td>\n",
       "      <td>DFW</td>\n",
       "      <td>Dallas/Fort Worth, TX</td>\n",
       "      <td>TX</td>\n",
       "      <td>48</td>\n",
       "      <td>Texas</td>\n",
       "      <td>74</td>\n",
       "    </tr>\n",
       "    <tr>\n",
       "      <th>3</th>\n",
       "      <td>11298</td>\n",
       "      <td>1129803</td>\n",
       "      <td>30194</td>\n",
       "      <td>DFW</td>\n",
       "      <td>Dallas/Fort Worth, TX</td>\n",
       "      <td>TX</td>\n",
       "      <td>48</td>\n",
       "      <td>Texas</td>\n",
       "      <td>74</td>\n",
       "    </tr>\n",
       "    <tr>\n",
       "      <th>4</th>\n",
       "      <td>11298</td>\n",
       "      <td>1129803</td>\n",
       "      <td>30194</td>\n",
       "      <td>DFW</td>\n",
       "      <td>Dallas/Fort Worth, TX</td>\n",
       "      <td>TX</td>\n",
       "      <td>48</td>\n",
       "      <td>Texas</td>\n",
       "      <td>74</td>\n",
       "    </tr>\n",
       "    <tr>\n",
       "      <th>5</th>\n",
       "      <td>11298</td>\n",
       "      <td>1129803</td>\n",
       "      <td>30194</td>\n",
       "      <td>DFW</td>\n",
       "      <td>Dallas/Fort Worth, TX</td>\n",
       "      <td>TX</td>\n",
       "      <td>48</td>\n",
       "      <td>Texas</td>\n",
       "      <td>74</td>\n",
       "    </tr>\n",
       "  </tbody>\n",
       "</table>\n",
       "</div>"
      ],
      "text/plain": [
       "   DestAirportID  DestAirportSeqID  DestCityMarketID Dest  \\\n",
       "0          12278           1227802             30928  ICT   \n",
       "1          12278           1227802             30928  ICT   \n",
       "2          11298           1129803             30194  DFW   \n",
       "3          11298           1129803             30194  DFW   \n",
       "4          11298           1129803             30194  DFW   \n",
       "5          11298           1129803             30194  DFW   \n",
       "\n",
       "            DestCityName DestState  DestStateFips DestStateName  DestWac  \n",
       "0            Wichita, KS        KS             20        Kansas       62  \n",
       "1            Wichita, KS        KS             20        Kansas       62  \n",
       "2  Dallas/Fort Worth, TX        TX             48         Texas       74  \n",
       "3  Dallas/Fort Worth, TX        TX             48         Texas       74  \n",
       "4  Dallas/Fort Worth, TX        TX             48         Texas       74  \n",
       "5  Dallas/Fort Worth, TX        TX             48         Texas       74  "
      ]
     },
     "execution_count": 15,
     "metadata": {},
     "output_type": "execute_result"
    }
   ],
   "source": [
    "DestFields = ['DestAirportID', \n",
    "                'DestAirportSeqID', \n",
    "                'DestCityMarketID',\n",
    "                'Dest',\n",
    "                'DestCityName',\n",
    "                'DestState',\n",
    "                'DestStateFips',\n",
    "                'DestStateName',\n",
    "                'DestWac']\n",
    "flights_2014_1.loc[:5, DestFields]"
   ]
  },
  {
   "cell_type": "code",
   "execution_count": 16,
   "metadata": {},
   "outputs": [
    {
     "data": {
      "text/html": [
       "<div>\n",
       "<style scoped>\n",
       "    .dataframe tbody tr th:only-of-type {\n",
       "        vertical-align: middle;\n",
       "    }\n",
       "\n",
       "    .dataframe tbody tr th {\n",
       "        vertical-align: top;\n",
       "    }\n",
       "\n",
       "    .dataframe thead th {\n",
       "        text-align: right;\n",
       "    }\n",
       "</style>\n",
       "<table border=\"1\" class=\"dataframe\">\n",
       "  <thead>\n",
       "    <tr style=\"text-align: right;\">\n",
       "      <th></th>\n",
       "      <th>OriginAirportID</th>\n",
       "      <th>OriginAirportSeqID</th>\n",
       "      <th>OriginCityMarketID</th>\n",
       "      <th>Origin</th>\n",
       "      <th>OriginCityName</th>\n",
       "      <th>OriginState</th>\n",
       "      <th>OriginStateFips</th>\n",
       "      <th>OriginStateName</th>\n",
       "      <th>OriginWac</th>\n",
       "    </tr>\n",
       "  </thead>\n",
       "  <tbody>\n",
       "    <tr>\n",
       "      <th>0</th>\n",
       "      <td>11298</td>\n",
       "      <td>1129803</td>\n",
       "      <td>30194</td>\n",
       "      <td>DFW</td>\n",
       "      <td>Dallas/Fort Worth, TX</td>\n",
       "      <td>TX</td>\n",
       "      <td>48</td>\n",
       "      <td>Texas</td>\n",
       "      <td>74</td>\n",
       "    </tr>\n",
       "    <tr>\n",
       "      <th>1</th>\n",
       "      <td>11298</td>\n",
       "      <td>1129803</td>\n",
       "      <td>30194</td>\n",
       "      <td>DFW</td>\n",
       "      <td>Dallas/Fort Worth, TX</td>\n",
       "      <td>TX</td>\n",
       "      <td>48</td>\n",
       "      <td>Texas</td>\n",
       "      <td>74</td>\n",
       "    </tr>\n",
       "    <tr>\n",
       "      <th>2</th>\n",
       "      <td>12278</td>\n",
       "      <td>1227802</td>\n",
       "      <td>30928</td>\n",
       "      <td>ICT</td>\n",
       "      <td>Wichita, KS</td>\n",
       "      <td>KS</td>\n",
       "      <td>20</td>\n",
       "      <td>Kansas</td>\n",
       "      <td>62</td>\n",
       "    </tr>\n",
       "    <tr>\n",
       "      <th>3</th>\n",
       "      <td>12278</td>\n",
       "      <td>1227802</td>\n",
       "      <td>30928</td>\n",
       "      <td>ICT</td>\n",
       "      <td>Wichita, KS</td>\n",
       "      <td>KS</td>\n",
       "      <td>20</td>\n",
       "      <td>Kansas</td>\n",
       "      <td>62</td>\n",
       "    </tr>\n",
       "    <tr>\n",
       "      <th>4</th>\n",
       "      <td>12278</td>\n",
       "      <td>1227802</td>\n",
       "      <td>30928</td>\n",
       "      <td>ICT</td>\n",
       "      <td>Wichita, KS</td>\n",
       "      <td>KS</td>\n",
       "      <td>20</td>\n",
       "      <td>Kansas</td>\n",
       "      <td>62</td>\n",
       "    </tr>\n",
       "    <tr>\n",
       "      <th>5</th>\n",
       "      <td>12278</td>\n",
       "      <td>1227802</td>\n",
       "      <td>30928</td>\n",
       "      <td>ICT</td>\n",
       "      <td>Wichita, KS</td>\n",
       "      <td>KS</td>\n",
       "      <td>20</td>\n",
       "      <td>Kansas</td>\n",
       "      <td>62</td>\n",
       "    </tr>\n",
       "  </tbody>\n",
       "</table>\n",
       "</div>"
      ],
      "text/plain": [
       "   OriginAirportID  OriginAirportSeqID  OriginCityMarketID Origin  \\\n",
       "0            11298             1129803               30194    DFW   \n",
       "1            11298             1129803               30194    DFW   \n",
       "2            12278             1227802               30928    ICT   \n",
       "3            12278             1227802               30928    ICT   \n",
       "4            12278             1227802               30928    ICT   \n",
       "5            12278             1227802               30928    ICT   \n",
       "\n",
       "          OriginCityName OriginState  OriginStateFips OriginStateName  \\\n",
       "0  Dallas/Fort Worth, TX          TX               48           Texas   \n",
       "1  Dallas/Fort Worth, TX          TX               48           Texas   \n",
       "2            Wichita, KS          KS               20          Kansas   \n",
       "3            Wichita, KS          KS               20          Kansas   \n",
       "4            Wichita, KS          KS               20          Kansas   \n",
       "5            Wichita, KS          KS               20          Kansas   \n",
       "\n",
       "   OriginWac  \n",
       "0         74  \n",
       "1         74  \n",
       "2         62  \n",
       "3         62  \n",
       "4         62  \n",
       "5         62  "
      ]
     },
     "execution_count": 16,
     "metadata": {},
     "output_type": "execute_result"
    }
   ],
   "source": [
    "OriginFields = ['OriginAirportID', \n",
    "                'OriginAirportSeqID', \n",
    "                'OriginCityMarketID',\n",
    "                'Origin',\n",
    "                'OriginCityName',\n",
    "                'OriginState',\n",
    "                'OriginStateFips',\n",
    "                'OriginStateName',\n",
    "                'OriginWac']\n",
    "flights_2014_1.loc[:5, OriginFields]"
   ]
  },
  {
   "cell_type": "markdown",
   "metadata": {},
   "source": [
    "Origin and Destination data has the same structure so I will treat it the same way.\n",
    "\n",
    "11.\t**OriginAirportID / 20. DestAirportID**  \n",
    "    * **Description:** Origin/Destination Airport, Airport ID. An identification number assigned by US DOT to identify a unique airport. Use this field for airport analysis across a range of years because an airport can change its airport code and airport codes can be reused.  \n",
    "    * **Data type:** category  \n",
    "    * **Keep**  \n",
    "    * **Comment:** I decided to keep these codes because of its uniqueness, assuared by data provider.  \n",
    "    \n",
    "12.\t**OriginAirportSeqID / 21. DestAirportSeqID**  \n",
    "    * **Description:** Origin/Destination Airport, Airport Sequence ID. An identification number assigned by US DOT to identify a unique airport at a given point of time. Airport attributes, such as airport name or coordinates, may change over time.\n",
    "    * **Drop**\n",
    "13.\t**OriginCityMarketID / 22. DestCityMarketID**\n",
    "    * **Description:** Origin/Destination Airport, City Market ID. City Market ID is an identification number assigned by US DOT to identify a city market. Use this field to consolidate airports serving the same city market.\n",
    "    * **Drop**\n",
    "14.\t**Origin / 23. Dest**\n",
    "    * **Description:** Origin/Destination Airport\n",
    "    * **Data type:** category\n",
    "    * **Keep**\n",
    "    * **Comment:** This core is IATA code of the airport, which is represented in most traveling documents. It could be useful in the model.\n",
    "15.\t**OriginCityName / 24. DestCityName**\n",
    "    * **Description:** Origin/Destination Airport, City Name\n",
    "    * **Drop**\n",
    "16.\t**OriginState / 25. DestState**\n",
    "    * **Description:** Origin/Destination Airport, State Code\n",
    "    * **Drop**\n",
    "17.\t**OriginStateFips / 26. DestStateFips**\n",
    "    * **Description:** Origin/Destination Airport, State Fips\n",
    "    * **Drop**\n",
    "18.\t**OriginStateName / 27. DestStateName**\n",
    "    * **Description:** Origin/Destination Airport, State Name\n",
    "    * **Drop**\n",
    "19.\t**OriginWac / 28. DestWac**\n",
    "    * **Description:** Origin/Destination Airport, World Area Code\n",
    "    * **Drop**"
   ]
  },
  {
   "cell_type": "code",
   "execution_count": 17,
   "metadata": {},
   "outputs": [
    {
     "data": {
      "text/plain": [
       "array([11298, 12278, 13303, 10666, 14057, 13830, 13796, 14893, 12758,\n",
       "       12173, 14831, 14747, 14679, 12982, 10299, 11278, 11618, 12892,\n",
       "       13204, 10721, 13930, 11697, 13487, 14100, 10551, 10170, 14709,\n",
       "       10754, 11630, 12819, 12523, 10926, 15991, 14828, 14256, 15841,\n",
       "       13873, 13970, 14107, 14771, 14262, 14908, 10800, 13891, 12889,\n",
       "       15376, 10423, 11292, 14683, 11884, 14869, 12266, 10397, 15016,\n",
       "       13198, 10165, 11193, 10713, 15624, 14730, 14027, 12953, 12478,\n",
       "       10994, 10693, 10781, 10599, 11481, 15304, 14635, 11433, 10821,\n",
       "       10868, 13342, 11042, 11066, 13244, 10257, 11109, 13485, 10529,\n",
       "       11775, 11996, 12448, 14193, 11641, 11057, 12206, 12264, 10208,\n",
       "       10792, 11267, 12992, 14843, 11624, 10874, 14122, 15412, 14524,\n",
       "       11973, 10140, 13871, 13495, 15370, 14576, 11721, 13851, 13931,\n",
       "       15249, 12217, 11252, 15024, 13232, 10849, 12451, 14685, 12339,\n",
       "       14492, 13577, 11503, 13360, 11995, 14986, 12191, 15323, 14570,\n",
       "       11986, 15096, 13422, 11540, 11637, 12094, 12323, 10620, 12945,\n",
       "       10980, 12441, 11423, 11146, 14307, 10431, 14321, 10279, 14842,\n",
       "       10747, 10185, 14814, 13502, 13061, 13158, 12915, 10785, 12951,\n",
       "       11982, 12197, 11413, 10728, 14457, 13367, 14696, 10136, 15411,\n",
       "       14674, 11003, 11140, 13296, 13230, 13433, 11049, 14574, 12884,\n",
       "       12896, 15380, 13029, 11921, 13256, 11203, 10434, 15919, 14254,\n",
       "       12954, 10732, 15070, 13933, 15027, 11259, 13377, 12177, 11612,\n",
       "       11778, 11617, 14108, 10135, 10731, 13795, 11308, 14098, 11537,\n",
       "       14783, 11953, 10408, 12007, 13277, 15607, 11150, 10685, 10581,\n",
       "       11823, 10990, 10146, 11977, 11726, 10627, 11315, 14711, 12389,\n",
       "       12320, 11603, 10643, 15356, 14689, 11638, 12402, 14222, 12891,\n",
       "       14588, 15295, 11867, 10155, 14960, 14952, 12511, 11980, 10268,\n",
       "       11111, 10361, 11067, 13290, 14633, 11274, 10372, 10469, 11905,\n",
       "       13459, 15048, 15401, 12003, 11122, 11648, 13264, 12016, 12391,\n",
       "       11337, 13486, 11865, 14794, 11041, 11076, 12280, 13476, 10561,\n",
       "       16218, 11695, 14489, 14006, 10157, 14487, 12012, 12129, 14698,\n",
       "       13024, 13076, 13388, 13344, 11898, 14252, 12156, 13184, 13127,\n",
       "       15041, 14543, 10930, 11471, 11002, 13424, 12888, 14905, 10141,\n",
       "       10333, 10631, 15389, 10739, 10779, 10918, 12335, 14520, 12343,\n",
       "       14113, 11525, 11097, 13964])"
      ]
     },
     "execution_count": 17,
     "metadata": {},
     "output_type": "execute_result"
    }
   ],
   "source": [
    "flights_2014_1.loc[:, 'OriginAirportID'].unique()"
   ]
  },
  {
   "cell_type": "code",
   "execution_count": 18,
   "metadata": {},
   "outputs": [
    {
     "data": {
      "text/plain": [
       "array([12278, 11298, 15304, 13830, 14831, 12758, 14893, 14747, 14057,\n",
       "       13796, 12173, 14679, 10299, 12982, 10666, 11278, 12892, 11618,\n",
       "       13204, 10721, 13930, 14100, 11697, 13487, 10551, 10170, 14709,\n",
       "       10754, 11630, 12819, 12523, 15991, 10926, 14828, 14256, 15841,\n",
       "       13873, 13970, 14107, 14771, 14262, 14908, 10800, 13891, 12889,\n",
       "       15376, 10423, 11292, 11884, 14683, 14869, 12266, 10397, 15016,\n",
       "       13198, 10165, 12953, 10713, 12478, 10821, 15624, 14027, 11433,\n",
       "       13495, 14492, 11066, 13232, 14986, 11996, 11986, 10868, 10994,\n",
       "       13342, 12448, 11995, 10599, 13244, 14321, 11481, 12264, 11042,\n",
       "       11057, 14635, 13303, 12339, 11193, 13485, 10529, 14193, 14843,\n",
       "       12206, 10792, 11267, 10693, 12992, 11624, 10874, 15412, 14122,\n",
       "       14524, 11973, 10140, 13871, 15370, 14576, 15024, 10781, 11721,\n",
       "       13851, 13931, 15249, 12217, 11252, 14685, 10849, 12451, 14730,\n",
       "       11503, 13577, 11641, 13360, 11637, 11540, 12191, 14570, 14307,\n",
       "       15096, 13422, 12094, 10208, 12945, 11775, 10620, 12441, 10980,\n",
       "       15323, 12323, 10257, 11423, 11146, 11109, 10431, 10279, 14814,\n",
       "       14842, 10185, 13502, 10747, 13158, 10728, 12915, 11982, 11413,\n",
       "       14457, 13061, 13367, 14696, 10136, 15411, 13230, 11003, 11140,\n",
       "       10434, 13296, 13433, 11049, 12951, 12896, 13029, 15380, 10785,\n",
       "       13256, 11203, 12197, 12954, 14254, 10732, 15070, 13933, 15027,\n",
       "       13377, 15919, 12884, 11259, 14574, 10627, 12177, 11921, 11612,\n",
       "       11778, 11617, 14108, 10731, 13795, 11308, 14098, 14783, 10990,\n",
       "       11953, 10408, 12007, 13277, 10135, 15607, 11150, 10685, 11537,\n",
       "       10146, 10581, 11823, 11977, 11726, 14674, 11315, 14711, 12389,\n",
       "       12320, 11638, 10643, 15356, 14689, 11603, 12402, 14222, 14588,\n",
       "       11067, 11867, 10155, 14960, 15295, 11980, 10268, 13290, 10361,\n",
       "       14952, 14633, 11274, 15048, 13459, 12891, 11905, 12511, 10372,\n",
       "       15401, 11111, 13476, 11122, 12391, 12016, 10469, 11337, 14489,\n",
       "       14794, 11041, 16218, 12280, 13127, 11695, 10561, 14487, 12012,\n",
       "       12003, 11002, 11097, 13264, 14698, 11648, 10157, 13076, 14252,\n",
       "       10930, 13344, 11471, 13388, 13184, 11898, 13486, 12156, 12129,\n",
       "       11076, 15041, 14006, 11865, 13024, 14543, 12888, 13424, 14905,\n",
       "       15389, 10141, 10333, 10631, 10739, 12343, 10779, 10918, 14520,\n",
       "       12335, 14113, 11525, 13964])"
      ]
     },
     "execution_count": 18,
     "metadata": {},
     "output_type": "execute_result"
    }
   ],
   "source": [
    "flights_2014_1.loc[:, 'DestAirportID'].unique()"
   ]
  },
  {
   "cell_type": "code",
   "execution_count": 19,
   "metadata": {},
   "outputs": [
    {
     "data": {
      "text/plain": [
       "array(['DFW', 'ICT', 'MIA', 'BLI', 'PDX', 'OGG', 'OAK', 'SMF', 'KOA',\n",
       "       'HNL', 'SJC', 'SEA', 'SAN', 'LIH', 'ANC', 'DCA', 'EWR', 'LAX',\n",
       "       'MCO', 'BOS', 'ORD', 'FLL', 'MSP', 'PHL', 'BET', 'ADQ', 'SCC',\n",
       "       'BRW', 'FAI', 'KTN', 'JNU', 'CDV', 'YAK', 'SIT', 'PSG', 'WRG',\n",
       "       'OME', 'OTZ', 'PHX', 'SFO', 'PSP', 'SNA', 'BUR', 'ONT', 'LAS',\n",
       "       'TUS', 'AUS', 'DEN', 'SAT', 'GEG', 'SLC', 'IAH', 'ATL', 'STL',\n",
       "       'MCI', 'ADK', 'CVG', 'BOI', 'VPS', 'SDF', 'PBI', 'LGA', 'JFK',\n",
       "       'CHS', 'BNA', 'BTR', 'BHM', 'ECP', 'TPA', 'RSW', 'DTW', 'BWI',\n",
       "       'CAE', 'MKE', 'CLE', 'CMH', 'MEM', 'ALB', 'COS', 'MSN', 'BDL',\n",
       "       'FSD', 'GSP', 'JAN', 'PNS', 'FAY', 'CLT', 'HRL', 'IAD', 'AGS',\n",
       "       'BUF', 'DAY', 'LIT', 'SJU', 'EYW', 'CAK', 'PIT', 'TYS', 'RIC',\n",
       "       'GPT', 'ABQ', 'OMA', 'MSY', 'TUL', 'ROC', 'FNT', 'OKC', 'ORF',\n",
       "       'TLH', 'HSV', 'DAB', 'STT', 'MDW', 'BZN', 'JAX', 'SAV', 'IND',\n",
       "       'RDU', 'MYR', 'EGE', 'MLB', 'GSO', 'SRQ', 'HOU', 'TRI', 'RNO',\n",
       "       'GRR', 'SYR', 'MOB', 'ELP', 'FAR', 'HDN', 'ILM', 'BIL', 'LEX',\n",
       "       'CHA', 'JAC', 'DSM', 'CRW', 'PVD', 'AVL', 'PWM', 'AMA', 'SJT',\n",
       "       'BRO', 'AEX', 'SHV', 'MTJ', 'LRD', 'MAF', 'LCH', 'BTV', 'LFT',\n",
       "       'GRK', 'HPN', 'DRO', 'BPT', 'RAP', 'MLI', 'SBN', 'ABI', 'TYR',\n",
       "       'SAF', 'CID', 'CRP', 'MHT', 'MDT', 'MOT', 'CLL', 'ROA', 'LAN',\n",
       "       'LBB', 'TVC', 'LNK', 'GJT', 'MFE', 'CWA', 'AVP', 'XNA', 'PSE',\n",
       "       'LGB', 'BQN', 'SWF', 'ORH', 'STX', 'DAL', 'MLU', 'HOB', 'EVV',\n",
       "       'FSM', 'EWN', 'PIA', 'ABE', 'BQK', 'OAJ', 'DHN', 'PHF', 'ELM',\n",
       "       'SGF', 'GNV', 'ATW', 'GTR', 'MGM', 'VLD', 'CSG', 'BMI', 'BGR',\n",
       "       'FWA', 'CHO', 'ABY', 'GRB', 'FOE', 'BIS', 'DIK', 'SCE', 'ISN',\n",
       "       'ILG', 'EUG', 'BKG', 'TTN', 'SBA', 'FAT', 'ITO', 'PPG', 'LAW',\n",
       "       'ROW', 'TOL', 'GCK', 'ACT', 'SPS', 'SPI', 'JLN', 'GRI', 'ALO',\n",
       "       'COU', 'ART', 'CMI', 'MHK', 'RST', 'DBQ', 'ASE', 'AZO', 'GGG',\n",
       "       'MQT', 'SUX', 'TXK', 'GTF', 'CPR', 'FCA', 'MFR', 'GUM', 'ISP',\n",
       "       'DLH', 'MSO', 'GCC', 'SGU', 'CLD', 'CMX', 'IDA', 'MRY', 'BFL',\n",
       "       'YUM', 'FLG', 'RDM', 'PAH', 'ACV', 'RDD', 'GUC', 'HIB', 'SBP',\n",
       "       'LMT', 'LSE', 'MMH', 'MKG', 'GFK', 'PSC', 'HLN', 'MBS', 'LWS',\n",
       "       'SUN', 'RKS', 'CEC', 'EAU', 'CIC', 'MOD', 'LAR', 'SMX', 'ABR',\n",
       "       'APN', 'BJI', 'TWF', 'BRD', 'BTM', 'CDC', 'IMT', 'RHI', 'INL',\n",
       "       'PIH', 'EKO', 'COD', 'OTH'], dtype=object)"
      ]
     },
     "execution_count": 19,
     "metadata": {},
     "output_type": "execute_result"
    }
   ],
   "source": [
    "flights_2014_1.loc[:, 'Origin'].unique()"
   ]
  },
  {
   "cell_type": "code",
   "execution_count": 20,
   "metadata": {},
   "outputs": [
    {
     "data": {
      "text/plain": [
       "array(['ICT', 'DFW', 'TPA', 'OGG', 'SJC', 'KOA', 'SMF', 'SEA', 'PDX',\n",
       "       'OAK', 'HNL', 'SAN', 'ANC', 'LIH', 'BLI', 'DCA', 'LAX', 'EWR',\n",
       "       'MCO', 'BOS', 'ORD', 'PHL', 'FLL', 'MSP', 'BET', 'ADQ', 'SCC',\n",
       "       'BRW', 'FAI', 'KTN', 'JNU', 'YAK', 'CDV', 'SIT', 'PSG', 'WRG',\n",
       "       'OME', 'OTZ', 'PHX', 'SFO', 'PSP', 'SNA', 'BUR', 'ONT', 'LAS',\n",
       "       'TUS', 'AUS', 'DEN', 'GEG', 'SAT', 'SLC', 'IAH', 'ATL', 'STL',\n",
       "       'MCI', 'ADK', 'LGA', 'BOI', 'JFK', 'BWI', 'VPS', 'PBI', 'DTW',\n",
       "       'MSY', 'RDU', 'CMH', 'MDW', 'SRQ', 'GSP', 'GRR', 'CAE', 'CHS',\n",
       "       'MKE', 'JAN', 'GSO', 'BHM', 'MEM', 'PWM', 'ECP', 'IAD', 'CLE',\n",
       "       'CLT', 'RSW', 'MIA', 'IND', 'CVG', 'MSN', 'BDL', 'PNS', 'SJU',\n",
       "       'HRL', 'BUF', 'DAY', 'BNA', 'LIT', 'EYW', 'CAK', 'TYS', 'PIT',\n",
       "       'RIC', 'GPT', 'ABQ', 'OMA', 'TUL', 'ROC', 'STT', 'BTR', 'FNT',\n",
       "       'OKC', 'ORF', 'TLH', 'HSV', 'DAB', 'SAV', 'BZN', 'JAX', 'SDF',\n",
       "       'EGE', 'MYR', 'FAY', 'MLB', 'FAR', 'ELP', 'HOU', 'RNO', 'PVD',\n",
       "       'SYR', 'MOB', 'HDN', 'AGS', 'LEX', 'FSD', 'BIL', 'JAC', 'CHA',\n",
       "       'TRI', 'ILM', 'ALB', 'DSM', 'CRW', 'COS', 'AVL', 'AMA', 'SHV',\n",
       "       'SJT', 'AEX', 'MTJ', 'BRO', 'MAF', 'BPT', 'LCH', 'GRK', 'DRO',\n",
       "       'RAP', 'LRD', 'MLI', 'SBN', 'ABI', 'TYR', 'MDT', 'CID', 'CRP',\n",
       "       'AVP', 'MHT', 'MOT', 'CLL', 'LFT', 'LBB', 'LNK', 'TVC', 'BTV',\n",
       "       'MFE', 'CWA', 'HPN', 'LGB', 'PSE', 'BQN', 'SWF', 'ORH', 'STX',\n",
       "       'MLU', 'XNA', 'LAN', 'DAL', 'ROA', 'BIS', 'HOB', 'GJT', 'EVV',\n",
       "       'FSM', 'EWN', 'PIA', 'BQK', 'OAJ', 'DHN', 'PHF', 'SGF', 'CHO',\n",
       "       'GNV', 'ATW', 'GTR', 'MGM', 'ABE', 'VLD', 'CSG', 'BMI', 'ELM',\n",
       "       'ABY', 'BGR', 'FWA', 'GRB', 'FOE', 'SAF', 'DIK', 'SCE', 'ISN',\n",
       "       'ILG', 'FAT', 'BKG', 'TTN', 'SBA', 'EUG', 'ITO', 'PPG', 'ROW',\n",
       "       'CMI', 'GCK', 'ACT', 'SPS', 'TOL', 'GRI', 'ALO', 'MHK', 'ART',\n",
       "       'SPI', 'RST', 'DBQ', 'SUX', 'MQT', 'LAW', 'GGG', 'JLN', 'ASE',\n",
       "       'TXK', 'COU', 'MRY', 'CPR', 'ISP', 'GUM', 'AZO', 'DLH', 'RDM',\n",
       "       'SGU', 'CLD', 'YUM', 'IDA', 'LWS', 'FLG', 'BFL', 'RDD', 'GUC',\n",
       "       'GTF', 'CIC', 'COD', 'MFR', 'SBP', 'FCA', 'ACV', 'LSE', 'PSC',\n",
       "       'CEC', 'MKG', 'EAU', 'MMH', 'MBS', 'GFK', 'MSO', 'HLN', 'HIB',\n",
       "       'CMX', 'SUN', 'PAH', 'GCC', 'LMT', 'RKS', 'LAR', 'MOD', 'SMX',\n",
       "       'TWF', 'ABR', 'APN', 'BJI', 'BRD', 'INL', 'BTM', 'CDC', 'RHI',\n",
       "       'IMT', 'PIH', 'EKO', 'OTH'], dtype=object)"
      ]
     },
     "execution_count": 20,
     "metadata": {},
     "output_type": "execute_result"
    }
   ],
   "source": [
    "flights_2014_1.loc[:, 'Dest'].unique()"
   ]
  },
  {
   "cell_type": "code",
   "execution_count": 21,
   "metadata": {},
   "outputs": [
    {
     "name": "stdout",
     "output_type": "stream",
     "text": [
      "Number of unique OriginAirport IDs: 301 \n",
      "Number of unique Origin codes: 301\n"
     ]
    }
   ],
   "source": [
    "# Check for equal number of Origin Airport IDs and Origin (IATA codes)\n",
    "print('Number of unique OriginAirport IDs:', flights_2014_1.loc[:, 'OriginAirportID'].nunique(),\n",
    "      '\\nNumber of unique Origin codes:', flights_2014_1.loc[:, 'Origin'].nunique())"
   ]
  },
  {
   "cell_type": "code",
   "execution_count": 22,
   "metadata": {},
   "outputs": [
    {
     "name": "stdout",
     "output_type": "stream",
     "text": [
      "Number of unique DestAirport IDs: 301 \n",
      "Number of unique Destination codes: 301\n"
     ]
    }
   ],
   "source": [
    "# Check for equal number of Origin Airport IDs and Origin (IATA codes)\n",
    "print('Number of unique DestAirport IDs:', flights_2014_1.loc[:, 'DestAirportID'].nunique(),\n",
    "      '\\nNumber of unique Destination codes:', flights_2014_1.loc[:, 'Dest'].nunique())"
   ]
  },
  {
   "cell_type": "code",
   "execution_count": 23,
   "metadata": {},
   "outputs": [
    {
     "data": {
      "text/plain": [
       "OriginAirportID    0\n",
       "Origin             0\n",
       "DestAirportID      0\n",
       "Dest               0\n",
       "dtype: int64"
      ]
     },
     "execution_count": 23,
     "metadata": {},
     "output_type": "execute_result"
    }
   ],
   "source": [
    "# Check for NA-values in the fields, I suppose to keep\n",
    "flights_2014_1[['OriginAirportID', 'Origin', 'DestAirportID', 'Dest']].isna().sum()"
   ]
  },
  {
   "cell_type": "markdown",
   "metadata": {},
   "source": [
    "The numbers of unique code for OriginalAirportID/DestAirportID and Origin/Dest are equal, and they don't have NA-values."
   ]
  },
  {
   "cell_type": "markdown",
   "metadata": {},
   "source": [
    "###  Departure and Arrival times (scheduled and actual)"
   ]
  },
  {
   "cell_type": "code",
   "execution_count": 24,
   "metadata": {},
   "outputs": [
    {
     "data": {
      "text/html": [
       "<div>\n",
       "<style scoped>\n",
       "    .dataframe tbody tr th:only-of-type {\n",
       "        vertical-align: middle;\n",
       "    }\n",
       "\n",
       "    .dataframe tbody tr th {\n",
       "        vertical-align: top;\n",
       "    }\n",
       "\n",
       "    .dataframe thead th {\n",
       "        text-align: right;\n",
       "    }\n",
       "</style>\n",
       "<table border=\"1\" class=\"dataframe\">\n",
       "  <thead>\n",
       "    <tr style=\"text-align: right;\">\n",
       "      <th></th>\n",
       "      <th>CRSDepTime</th>\n",
       "      <th>DepTime</th>\n",
       "      <th>DepDelay</th>\n",
       "      <th>DepDelayMinutes</th>\n",
       "      <th>DepDel15</th>\n",
       "      <th>DepartureDelayGroups</th>\n",
       "      <th>DepTimeBlk</th>\n",
       "    </tr>\n",
       "  </thead>\n",
       "  <tbody>\n",
       "    <tr>\n",
       "      <th>0</th>\n",
       "      <td>940</td>\n",
       "      <td>935.0</td>\n",
       "      <td>-5.0</td>\n",
       "      <td>0.0</td>\n",
       "      <td>0.0</td>\n",
       "      <td>-1.0</td>\n",
       "      <td>0900-0959</td>\n",
       "    </tr>\n",
       "    <tr>\n",
       "      <th>1</th>\n",
       "      <td>940</td>\n",
       "      <td>951.0</td>\n",
       "      <td>11.0</td>\n",
       "      <td>11.0</td>\n",
       "      <td>0.0</td>\n",
       "      <td>0.0</td>\n",
       "      <td>0900-0959</td>\n",
       "    </tr>\n",
       "    <tr>\n",
       "      <th>2</th>\n",
       "      <td>1135</td>\n",
       "      <td>1144.0</td>\n",
       "      <td>9.0</td>\n",
       "      <td>9.0</td>\n",
       "      <td>0.0</td>\n",
       "      <td>0.0</td>\n",
       "      <td>1100-1159</td>\n",
       "    </tr>\n",
       "    <tr>\n",
       "      <th>3</th>\n",
       "      <td>1135</td>\n",
       "      <td>1134.0</td>\n",
       "      <td>-1.0</td>\n",
       "      <td>0.0</td>\n",
       "      <td>0.0</td>\n",
       "      <td>-1.0</td>\n",
       "      <td>1100-1159</td>\n",
       "    </tr>\n",
       "    <tr>\n",
       "      <th>4</th>\n",
       "      <td>1135</td>\n",
       "      <td>1129.0</td>\n",
       "      <td>-6.0</td>\n",
       "      <td>0.0</td>\n",
       "      <td>0.0</td>\n",
       "      <td>-1.0</td>\n",
       "      <td>1100-1159</td>\n",
       "    </tr>\n",
       "    <tr>\n",
       "      <th>5</th>\n",
       "      <td>1135</td>\n",
       "      <td>1141.0</td>\n",
       "      <td>6.0</td>\n",
       "      <td>6.0</td>\n",
       "      <td>0.0</td>\n",
       "      <td>0.0</td>\n",
       "      <td>1100-1159</td>\n",
       "    </tr>\n",
       "  </tbody>\n",
       "</table>\n",
       "</div>"
      ],
      "text/plain": [
       "   CRSDepTime  DepTime  DepDelay  DepDelayMinutes  DepDel15  \\\n",
       "0         940    935.0      -5.0              0.0       0.0   \n",
       "1         940    951.0      11.0             11.0       0.0   \n",
       "2        1135   1144.0       9.0              9.0       0.0   \n",
       "3        1135   1134.0      -1.0              0.0       0.0   \n",
       "4        1135   1129.0      -6.0              0.0       0.0   \n",
       "5        1135   1141.0       6.0              6.0       0.0   \n",
       "\n",
       "   DepartureDelayGroups DepTimeBlk  \n",
       "0                  -1.0  0900-0959  \n",
       "1                   0.0  0900-0959  \n",
       "2                   0.0  1100-1159  \n",
       "3                  -1.0  1100-1159  \n",
       "4                  -1.0  1100-1159  \n",
       "5                   0.0  1100-1159  "
      ]
     },
     "execution_count": 24,
     "metadata": {},
     "output_type": "execute_result"
    }
   ],
   "source": [
    "# Sample of the block of data for departure times\n",
    "DepFields = ['CRSDepTime', \n",
    "             'DepTime',\n",
    "             'DepDelay',\n",
    "             'DepDelayMinutes',\n",
    "             'DepDel15',\n",
    "             'DepartureDelayGroups',\n",
    "             'DepTimeBlk']\n",
    "flights_2014_1.loc[:5, DepFields]"
   ]
  },
  {
   "cell_type": "code",
   "execution_count": 25,
   "metadata": {},
   "outputs": [
    {
     "data": {
      "text/html": [
       "<div>\n",
       "<style scoped>\n",
       "    .dataframe tbody tr th:only-of-type {\n",
       "        vertical-align: middle;\n",
       "    }\n",
       "\n",
       "    .dataframe tbody tr th {\n",
       "        vertical-align: top;\n",
       "    }\n",
       "\n",
       "    .dataframe thead th {\n",
       "        text-align: right;\n",
       "    }\n",
       "</style>\n",
       "<table border=\"1\" class=\"dataframe\">\n",
       "  <thead>\n",
       "    <tr style=\"text-align: right;\">\n",
       "      <th></th>\n",
       "      <th>CRSArrTime</th>\n",
       "      <th>ArrTime</th>\n",
       "      <th>ArrDelay</th>\n",
       "      <th>ArrDelayMinutes</th>\n",
       "      <th>ArrDel15</th>\n",
       "      <th>ArrivalDelayGroups</th>\n",
       "      <th>ArrTimeBlk</th>\n",
       "    </tr>\n",
       "  </thead>\n",
       "  <tbody>\n",
       "    <tr>\n",
       "      <th>0</th>\n",
       "      <td>1055</td>\n",
       "      <td>1051.0</td>\n",
       "      <td>-4.0</td>\n",
       "      <td>0.0</td>\n",
       "      <td>0.0</td>\n",
       "      <td>-1.0</td>\n",
       "      <td>1000-1059</td>\n",
       "    </tr>\n",
       "    <tr>\n",
       "      <th>1</th>\n",
       "      <td>1055</td>\n",
       "      <td>1115.0</td>\n",
       "      <td>20.0</td>\n",
       "      <td>20.0</td>\n",
       "      <td>1.0</td>\n",
       "      <td>1.0</td>\n",
       "      <td>1000-1059</td>\n",
       "    </tr>\n",
       "    <tr>\n",
       "      <th>2</th>\n",
       "      <td>1300</td>\n",
       "      <td>1302.0</td>\n",
       "      <td>2.0</td>\n",
       "      <td>2.0</td>\n",
       "      <td>0.0</td>\n",
       "      <td>0.0</td>\n",
       "      <td>1300-1359</td>\n",
       "    </tr>\n",
       "    <tr>\n",
       "      <th>3</th>\n",
       "      <td>1300</td>\n",
       "      <td>1253.0</td>\n",
       "      <td>-7.0</td>\n",
       "      <td>0.0</td>\n",
       "      <td>0.0</td>\n",
       "      <td>-1.0</td>\n",
       "      <td>1300-1359</td>\n",
       "    </tr>\n",
       "    <tr>\n",
       "      <th>4</th>\n",
       "      <td>1300</td>\n",
       "      <td>1244.0</td>\n",
       "      <td>-16.0</td>\n",
       "      <td>0.0</td>\n",
       "      <td>0.0</td>\n",
       "      <td>-2.0</td>\n",
       "      <td>1300-1359</td>\n",
       "    </tr>\n",
       "    <tr>\n",
       "      <th>5</th>\n",
       "      <td>1300</td>\n",
       "      <td>1301.0</td>\n",
       "      <td>1.0</td>\n",
       "      <td>1.0</td>\n",
       "      <td>0.0</td>\n",
       "      <td>0.0</td>\n",
       "      <td>1300-1359</td>\n",
       "    </tr>\n",
       "  </tbody>\n",
       "</table>\n",
       "</div>"
      ],
      "text/plain": [
       "   CRSArrTime  ArrTime  ArrDelay  ArrDelayMinutes  ArrDel15  \\\n",
       "0        1055   1051.0      -4.0              0.0       0.0   \n",
       "1        1055   1115.0      20.0             20.0       1.0   \n",
       "2        1300   1302.0       2.0              2.0       0.0   \n",
       "3        1300   1253.0      -7.0              0.0       0.0   \n",
       "4        1300   1244.0     -16.0              0.0       0.0   \n",
       "5        1300   1301.0       1.0              1.0       0.0   \n",
       "\n",
       "   ArrivalDelayGroups ArrTimeBlk  \n",
       "0                -1.0  1000-1059  \n",
       "1                 1.0  1000-1059  \n",
       "2                 0.0  1300-1359  \n",
       "3                -1.0  1300-1359  \n",
       "4                -2.0  1300-1359  \n",
       "5                 0.0  1300-1359  "
      ]
     },
     "execution_count": 25,
     "metadata": {},
     "output_type": "execute_result"
    }
   ],
   "source": [
    "# Sample of the block of data for arrival times\n",
    "ArrFields = ['CRSArrTime', \n",
    "             'ArrTime',\n",
    "             'ArrDelay',\n",
    "             'ArrDelayMinutes',\n",
    "             'ArrDel15',\n",
    "             'ArrivalDelayGroups',\n",
    "             'ArrTimeBlk']\n",
    "flights_2014_1.loc[:5, ArrFields]"
   ]
  },
  {
   "cell_type": "markdown",
   "metadata": {},
   "source": [
    "Two groups of data (for Departure and Arrival time) have the same stricture and similar meaning (with difference in departure or arrival), so I group and describe them togethher.\n",
    "\n",
    "All time date in dataset is integer in format HHMM. I think for the further analysis it's worth to convert it into the number of minutes from the start of the day.\n",
    "\n",
    "29.\t**CRSDepTime  40. CRSArrTime** \n",
    "    * **Description:** CRS Departure/Arrival Time (local time: hhmm)\n",
    "    * **Data type:** float\n",
    "    * **Keep**\n",
    "    * **Comment:** CRS (Computer Reservation System) represents the scuduled time for the flight. I decided to keep this data at this stage becuase it's not clear yet which will be the drivers of the future model - time or categorical time blocks, such as DepTimeBlk or ArrTimeBlk. I suppose to make this decision later. Needs to conver to the number of minutes.\n",
    "30.\t**DepTime  41. ArrTime**  \n",
    "    * **Description:** Actual Departure/Arrival Time (local time: hhmm)\n",
    "    * **Data type:** float\n",
    "    * **Keep**\n",
    "    * **Comment:** Needs to conver to the number of minutes.\n",
    "31.\t**DepDelay  42. ArrDelay**  \n",
    "    * **Description:** Difference in minutes between scheduled and actual departure/arrival time. Early departures/arrival show negative numbers.\n",
    "    * **Data type:** float\n",
    "    * **Keep**\n",
    "32.\t**DepDelayMinutes  43. ArrDelayMinutes**\n",
    "    * **Description:** Difference in minutes between scheduled and actual departure/arrival time. Early departures/arrival set to 0.\n",
    "    * **Drop**\n",
    "    * **Comment:** This data dublicates partially the field DepDelay and ArrDelay with only differency that this data doesnt't show the negative values - departures or arrivals earlier\n",
    "33.\t**DepDel15  44. ArrDel15**\n",
    "    * **Description:** Departure/Arrival Delay Indicator, 15 Minutes or More (1=Yes)\n",
    "    * **Drop**\n",
    "    * **Comment:** This field represents a boolean data indicating wheather or not the flight delayed. We have the same, and even more detailed information, in the fields with the delay in minutes\n",
    "34.\t**DepartureDelayGroups  45. ArrivalDelayGroups**\n",
    "    * **Description:** Departure/Arrival Delay intervals, every (15 minutes from <-15 to >180)\n",
    "    * **Data type:** category\n",
    "    * **Keep**\n",
    "    * **Comment:** This categorical data can be useful for prediction model instead of actual delay time. We have to decide and choose it later.\n",
    "35.\t**DepTimeBlk  46. ArrTimeBlk**\n",
    "    * **Description:** CRS Departure Time Block, Hourly Intervals\n",
    "    * **Data type:** category\n",
    "    * **Keep**\n",
    "    * **Comment:** This categorical data probably will be more usefull for the prediction model comparing to the acrual departure or arrival times in minutes. \n",
    "\n",
    "The folllowing data represent some time and duration for processes which I think highly correlated with data described above. I suppose this data (below) doesn't add any value to the prediction model, and I am going to DROP it.  \n",
    "36.\tTaxiOut: Taxi Out Time, in Minutes  \n",
    "37.\tWheelsOff: Wheels Off Time (local time: hhmm)  \n",
    "38.\tWheelsOn: Wheels On Time (local time: hhmm)  \n",
    "39.\tTaxiIn: Taxi In Time, in Minutes  \n",
    "\n"
   ]
  },
  {
   "cell_type": "markdown",
   "metadata": {},
   "source": [
    "Let's check the fields supposed to be kept for null values and incosistent data "
   ]
  },
  {
   "cell_type": "code",
   "execution_count": 26,
   "metadata": {},
   "outputs": [
    {
     "data": {
      "text/html": [
       "<div>\n",
       "<style scoped>\n",
       "    .dataframe tbody tr th:only-of-type {\n",
       "        vertical-align: middle;\n",
       "    }\n",
       "\n",
       "    .dataframe tbody tr th {\n",
       "        vertical-align: top;\n",
       "    }\n",
       "\n",
       "    .dataframe thead th {\n",
       "        text-align: right;\n",
       "    }\n",
       "</style>\n",
       "<table border=\"1\" class=\"dataframe\">\n",
       "  <thead>\n",
       "    <tr style=\"text-align: right;\">\n",
       "      <th></th>\n",
       "      <th>CRSDepTime</th>\n",
       "      <th>DepTime</th>\n",
       "      <th>DepDelay</th>\n",
       "      <th>DepDelayMinutes</th>\n",
       "      <th>DepDel15</th>\n",
       "      <th>DepartureDelayGroups</th>\n",
       "    </tr>\n",
       "  </thead>\n",
       "  <tbody>\n",
       "    <tr>\n",
       "      <th>count</th>\n",
       "      <td>471949.000000</td>\n",
       "      <td>441622.000000</td>\n",
       "      <td>441622.000000</td>\n",
       "      <td>441622.000000</td>\n",
       "      <td>441622.000000</td>\n",
       "      <td>441622.000000</td>\n",
       "    </tr>\n",
       "    <tr>\n",
       "      <th>mean</th>\n",
       "      <td>1324.137998</td>\n",
       "      <td>1340.554716</td>\n",
       "      <td>16.049397</td>\n",
       "      <td>18.382259</td>\n",
       "      <td>0.267820</td>\n",
       "      <td>0.468930</td>\n",
       "    </tr>\n",
       "    <tr>\n",
       "      <th>std</th>\n",
       "      <td>459.332673</td>\n",
       "      <td>473.999078</td>\n",
       "      <td>45.539116</td>\n",
       "      <td>44.463942</td>\n",
       "      <td>0.442824</td>\n",
       "      <td>2.503865</td>\n",
       "    </tr>\n",
       "    <tr>\n",
       "      <th>min</th>\n",
       "      <td>5.000000</td>\n",
       "      <td>1.000000</td>\n",
       "      <td>-112.000000</td>\n",
       "      <td>0.000000</td>\n",
       "      <td>0.000000</td>\n",
       "      <td>-2.000000</td>\n",
       "    </tr>\n",
       "    <tr>\n",
       "      <th>25%</th>\n",
       "      <td>930.000000</td>\n",
       "      <td>940.000000</td>\n",
       "      <td>-4.000000</td>\n",
       "      <td>0.000000</td>\n",
       "      <td>0.000000</td>\n",
       "      <td>-1.000000</td>\n",
       "    </tr>\n",
       "    <tr>\n",
       "      <th>50%</th>\n",
       "      <td>1320.000000</td>\n",
       "      <td>1333.000000</td>\n",
       "      <td>0.000000</td>\n",
       "      <td>0.000000</td>\n",
       "      <td>0.000000</td>\n",
       "      <td>0.000000</td>\n",
       "    </tr>\n",
       "    <tr>\n",
       "      <th>75%</th>\n",
       "      <td>1715.000000</td>\n",
       "      <td>1729.000000</td>\n",
       "      <td>17.000000</td>\n",
       "      <td>17.000000</td>\n",
       "      <td>1.000000</td>\n",
       "      <td>1.000000</td>\n",
       "    </tr>\n",
       "    <tr>\n",
       "      <th>max</th>\n",
       "      <td>2359.000000</td>\n",
       "      <td>2400.000000</td>\n",
       "      <td>1560.000000</td>\n",
       "      <td>1560.000000</td>\n",
       "      <td>1.000000</td>\n",
       "      <td>12.000000</td>\n",
       "    </tr>\n",
       "  </tbody>\n",
       "</table>\n",
       "</div>"
      ],
      "text/plain": [
       "          CRSDepTime        DepTime       DepDelay  DepDelayMinutes  \\\n",
       "count  471949.000000  441622.000000  441622.000000    441622.000000   \n",
       "mean     1324.137998    1340.554716      16.049397        18.382259   \n",
       "std       459.332673     473.999078      45.539116        44.463942   \n",
       "min         5.000000       1.000000    -112.000000         0.000000   \n",
       "25%       930.000000     940.000000      -4.000000         0.000000   \n",
       "50%      1320.000000    1333.000000       0.000000         0.000000   \n",
       "75%      1715.000000    1729.000000      17.000000        17.000000   \n",
       "max      2359.000000    2400.000000    1560.000000      1560.000000   \n",
       "\n",
       "            DepDel15  DepartureDelayGroups  \n",
       "count  441622.000000         441622.000000  \n",
       "mean        0.267820              0.468930  \n",
       "std         0.442824              2.503865  \n",
       "min         0.000000             -2.000000  \n",
       "25%         0.000000             -1.000000  \n",
       "50%         0.000000              0.000000  \n",
       "75%         1.000000              1.000000  \n",
       "max         1.000000             12.000000  "
      ]
     },
     "execution_count": 26,
     "metadata": {},
     "output_type": "execute_result"
    }
   ],
   "source": [
    "# Check for values of the Departure block fields\n",
    "flights_2014_1.loc[:, DepFields].describe()"
   ]
  },
  {
   "cell_type": "code",
   "execution_count": 27,
   "metadata": {},
   "outputs": [
    {
     "data": {
      "text/html": [
       "<div>\n",
       "<style scoped>\n",
       "    .dataframe tbody tr th:only-of-type {\n",
       "        vertical-align: middle;\n",
       "    }\n",
       "\n",
       "    .dataframe tbody tr th {\n",
       "        vertical-align: top;\n",
       "    }\n",
       "\n",
       "    .dataframe thead th {\n",
       "        text-align: right;\n",
       "    }\n",
       "</style>\n",
       "<table border=\"1\" class=\"dataframe\">\n",
       "  <thead>\n",
       "    <tr style=\"text-align: right;\">\n",
       "      <th></th>\n",
       "      <th>CRSArrTime</th>\n",
       "      <th>ArrTime</th>\n",
       "      <th>ArrDelay</th>\n",
       "      <th>ArrDelayMinutes</th>\n",
       "      <th>ArrDel15</th>\n",
       "      <th>ArrivalDelayGroups</th>\n",
       "    </tr>\n",
       "  </thead>\n",
       "  <tbody>\n",
       "    <tr>\n",
       "      <th>count</th>\n",
       "      <td>471949.000000</td>\n",
       "      <td>440453.000000</td>\n",
       "      <td>439620.000000</td>\n",
       "      <td>439620.000000</td>\n",
       "      <td>439620.000000</td>\n",
       "      <td>439620.000000</td>\n",
       "    </tr>\n",
       "    <tr>\n",
       "      <th>mean</th>\n",
       "      <td>1510.874029</td>\n",
       "      <td>1501.132577</td>\n",
       "      <td>12.745314</td>\n",
       "      <td>18.775929</td>\n",
       "      <td>0.272949</td>\n",
       "      <td>0.314458</td>\n",
       "    </tr>\n",
       "    <tr>\n",
       "      <th>std</th>\n",
       "      <td>470.669308</td>\n",
       "      <td>496.412439</td>\n",
       "      <td>48.058170</td>\n",
       "      <td>44.886828</td>\n",
       "      <td>0.445476</td>\n",
       "      <td>2.645731</td>\n",
       "    </tr>\n",
       "    <tr>\n",
       "      <th>min</th>\n",
       "      <td>1.000000</td>\n",
       "      <td>1.000000</td>\n",
       "      <td>-112.000000</td>\n",
       "      <td>0.000000</td>\n",
       "      <td>0.000000</td>\n",
       "      <td>-2.000000</td>\n",
       "    </tr>\n",
       "    <tr>\n",
       "      <th>25%</th>\n",
       "      <td>1130.000000</td>\n",
       "      <td>1128.000000</td>\n",
       "      <td>-11.000000</td>\n",
       "      <td>0.000000</td>\n",
       "      <td>0.000000</td>\n",
       "      <td>-1.000000</td>\n",
       "    </tr>\n",
       "    <tr>\n",
       "      <th>50%</th>\n",
       "      <td>1527.000000</td>\n",
       "      <td>1528.000000</td>\n",
       "      <td>-1.000000</td>\n",
       "      <td>0.000000</td>\n",
       "      <td>0.000000</td>\n",
       "      <td>-1.000000</td>\n",
       "    </tr>\n",
       "    <tr>\n",
       "      <th>75%</th>\n",
       "      <td>1910.000000</td>\n",
       "      <td>1915.000000</td>\n",
       "      <td>17.000000</td>\n",
       "      <td>17.000000</td>\n",
       "      <td>1.000000</td>\n",
       "      <td>1.000000</td>\n",
       "    </tr>\n",
       "    <tr>\n",
       "      <th>max</th>\n",
       "      <td>2359.000000</td>\n",
       "      <td>2400.000000</td>\n",
       "      <td>1530.000000</td>\n",
       "      <td>1530.000000</td>\n",
       "      <td>1.000000</td>\n",
       "      <td>12.000000</td>\n",
       "    </tr>\n",
       "  </tbody>\n",
       "</table>\n",
       "</div>"
      ],
      "text/plain": [
       "          CRSArrTime        ArrTime       ArrDelay  ArrDelayMinutes  \\\n",
       "count  471949.000000  440453.000000  439620.000000    439620.000000   \n",
       "mean     1510.874029    1501.132577      12.745314        18.775929   \n",
       "std       470.669308     496.412439      48.058170        44.886828   \n",
       "min         1.000000       1.000000    -112.000000         0.000000   \n",
       "25%      1130.000000    1128.000000     -11.000000         0.000000   \n",
       "50%      1527.000000    1528.000000      -1.000000         0.000000   \n",
       "75%      1910.000000    1915.000000      17.000000        17.000000   \n",
       "max      2359.000000    2400.000000    1530.000000      1530.000000   \n",
       "\n",
       "            ArrDel15  ArrivalDelayGroups  \n",
       "count  439620.000000       439620.000000  \n",
       "mean        0.272949            0.314458  \n",
       "std         0.445476            2.645731  \n",
       "min         0.000000           -2.000000  \n",
       "25%         0.000000           -1.000000  \n",
       "50%         0.000000           -1.000000  \n",
       "75%         1.000000            1.000000  \n",
       "max         1.000000           12.000000  "
      ]
     },
     "execution_count": 27,
     "metadata": {},
     "output_type": "execute_result"
    }
   ],
   "source": [
    "# Check for values of the Arrival block fields\n",
    "flights_2014_1.loc[:, ArrFields].describe()"
   ]
  },
  {
   "cell_type": "code",
   "execution_count": 28,
   "metadata": {},
   "outputs": [
    {
     "data": {
      "text/plain": [
       "CRSDepTime                  0\n",
       "DepTime                 30327\n",
       "DepDelay                30327\n",
       "DepDelayMinutes         30327\n",
       "DepDel15                30327\n",
       "DepartureDelayGroups    30327\n",
       "DepTimeBlk                  0\n",
       "dtype: int64"
      ]
     },
     "execution_count": 28,
     "metadata": {},
     "output_type": "execute_result"
    }
   ],
   "source": [
    "# Check for NA-values in the Departure block fields\n",
    "flights_2014_1.loc[:, DepFields].isna().sum()"
   ]
  },
  {
   "cell_type": "code",
   "execution_count": 29,
   "metadata": {},
   "outputs": [
    {
     "data": {
      "text/plain": [
       "CRSArrTime                0\n",
       "ArrTime               31496\n",
       "ArrDelay              32329\n",
       "ArrDelayMinutes       32329\n",
       "ArrDel15              32329\n",
       "ArrivalDelayGroups    32329\n",
       "ArrTimeBlk                0\n",
       "dtype: int64"
      ]
     },
     "execution_count": 29,
     "metadata": {},
     "output_type": "execute_result"
    }
   ],
   "source": [
    "# Check for NA-values in the Arrival block fields\n",
    "flights_2014_1.loc[:, ArrFields].isna().sum()"
   ]
  },
  {
   "cell_type": "code",
   "execution_count": 30,
   "metadata": {},
   "outputs": [
    {
     "name": "stdout",
     "output_type": "stream",
     "text": [
      "[-1.  0.  1.  2.  6.  4.  3.  5. -2. nan 12.  9. 11.  8. 10.  7.]\n",
      "[-1.  1.  0. -2.  2.  6.  3.  5. nan  7.  4.  8. 12.  9. 10. 11.]\n"
     ]
    }
   ],
   "source": [
    "print(flights_2014_1['DepartureDelayGroups'].unique())\n",
    "print(flights_2014_1['ArrivalDelayGroups'].unique())"
   ]
  },
  {
   "cell_type": "code",
   "execution_count": 31,
   "metadata": {},
   "outputs": [
    {
     "name": "stdout",
     "output_type": "stream",
     "text": [
      "['0001-0559', '0600-0659', '0700-0759', '0800-0859', '0900-0959', '1000-1059', '1100-1159', '1200-1259', '1300-1359', '1400-1459', '1500-1559', '1600-1659', '1700-1759', '1800-1859', '1900-1959', '2000-2059', '2100-2159', '2200-2259', '2300-2359']\n",
      "['0001-0559', '0600-0659', '0700-0759', '0800-0859', '0900-0959', '1000-1059', '1100-1159', '1200-1259', '1300-1359', '1400-1459', '1500-1559', '1600-1659', '1700-1759', '1800-1859', '1900-1959', '2000-2059', '2100-2159', '2200-2259', '2300-2359']\n"
     ]
    }
   ],
   "source": [
    "print(sorted(flights_2014_1['DepTimeBlk'].unique()))\n",
    "print(sorted(flights_2014_1['ArrTimeBlk'].unique()))"
   ]
  },
  {
   "cell_type": "markdown",
   "metadata": {},
   "source": [
    "#### Problems to analyse and solve:\n",
    "1. **DepTime** and **ArrTime** contain time values '2400' (at the same time CRS times contain only 2359). I have to convert it into 0h00m of the next day.\n",
    "2. It is needed to convert time into simple number of minutes from the start of the day.\n",
    "3. DepTime has the same number of NA-values as DepDelay, but ArrTime and ArrDelay have number of NA-values different of those from NA-values in DepTime and DepDelay. Reason can be related to cancelled and diverted flights. There is need to check.\n",
    "4. Delay Groups (Arrival and Departure) contain NaN values. Need to investigate."
   ]
  },
  {
   "cell_type": "code",
   "execution_count": 32,
   "metadata": {},
   "outputs": [
    {
     "name": "stdout",
     "output_type": "stream",
     "text": [
      "The Cancelled field has only these values: [0. 1.]\n",
      "In this dataset there are 30852 cancelled flights in total\n",
      "Among 30327 flights with NA DepTime there are 30327 cancelled flights\n"
     ]
    }
   ],
   "source": [
    "# Test that all flight wtth NA Departure Time (DepTime) were cancelled\n",
    "print('The Cancelled field has only these values:', flights_2014_1['Cancelled'].unique())\n",
    "print('In this dataset there are', int(flights_2014_1['Cancelled'].sum()), 'cancelled flights in total')\n",
    "print('Among', flights_2014_1.DepTime.isna().sum(), 'flights with NA DepTime there are', \n",
    "      flights_2014_1[flights_2014_1.DepTime.isna()]['Cancelled'].count(),'cancelled flights')"
   ]
  },
  {
   "cell_type": "markdown",
   "metadata": {},
   "source": [
    "Ok. We see that all NA-values in DepTime field are explained by the flight cancellaiton. \n",
    "However, there is one more interesting thing: the total number of cancelled flight is higher than the number of NA-values in DepTime field. Does it mean that these flight were cancelled but still have departure time? Let's take a look at this. "
   ]
  },
  {
   "cell_type": "code",
   "execution_count": 33,
   "metadata": {},
   "outputs": [
    {
     "data": {
      "text/plain": [
       "Cancelled    30852.0\n",
       "Diverted      1477.0\n",
       "dtype: float64"
      ]
     },
     "execution_count": 33,
     "metadata": {},
     "output_type": "execute_result"
    }
   ],
   "source": [
    "# How many Cancelled and Diverted flight are there in total?\n",
    "flights_2014_1[['Cancelled', 'Diverted']].agg('sum')"
   ]
  },
  {
   "cell_type": "code",
   "execution_count": 34,
   "metadata": {},
   "outputs": [
    {
     "data": {
      "text/html": [
       "<div>\n",
       "<style scoped>\n",
       "    .dataframe tbody tr th:only-of-type {\n",
       "        vertical-align: middle;\n",
       "    }\n",
       "\n",
       "    .dataframe tbody tr th {\n",
       "        vertical-align: top;\n",
       "    }\n",
       "\n",
       "    .dataframe thead th {\n",
       "        text-align: right;\n",
       "    }\n",
       "</style>\n",
       "<table border=\"1\" class=\"dataframe\">\n",
       "  <thead>\n",
       "    <tr style=\"text-align: right;\">\n",
       "      <th></th>\n",
       "      <th>Cancelled</th>\n",
       "      <th>Diverted</th>\n",
       "    </tr>\n",
       "    <tr>\n",
       "      <th>DepTime</th>\n",
       "      <th></th>\n",
       "      <th></th>\n",
       "    </tr>\n",
       "  </thead>\n",
       "  <tbody>\n",
       "    <tr>\n",
       "      <th>False</th>\n",
       "      <td>525.0</td>\n",
       "      <td>1477.0</td>\n",
       "    </tr>\n",
       "    <tr>\n",
       "      <th>True</th>\n",
       "      <td>30327.0</td>\n",
       "      <td>0.0</td>\n",
       "    </tr>\n",
       "  </tbody>\n",
       "</table>\n",
       "</div>"
      ],
      "text/plain": [
       "         Cancelled  Diverted\n",
       "DepTime                     \n",
       "False        525.0    1477.0\n",
       "True       30327.0       0.0"
      ]
     },
     "execution_count": 34,
     "metadata": {},
     "output_type": "execute_result"
    }
   ],
   "source": [
    "# What is a split of flights with/NA Departure Time vs. Cancelled and Diverted flights \n",
    "flights_2014_1.groupby(flights_2014_1['DepTime'].isna())[['Cancelled', 'Diverted']].agg('sum')"
   ]
  },
  {
   "cell_type": "code",
   "execution_count": 35,
   "metadata": {},
   "outputs": [
    {
     "name": "stdout",
     "output_type": "stream",
     "text": [
      "Are all flights depatured but cancelled times have NA as AirTime? True\n"
     ]
    }
   ],
   "source": [
    "# Check all cancelled flight with existing departure time don't have Time in Air (flight time)\n",
    "departured_cancelled_flights = (~flights_2014_1['DepTime'].isna()) & (flights_2014_1['Cancelled'] == 1)\n",
    "print('Are all flights depatured but cancelled times have NA as AirTime?',\n",
    "      flights_2014_1[departured_cancelled_flights]['AirTime'].isna().all())"
   ]
  },
  {
   "cell_type": "code",
   "execution_count": 36,
   "metadata": {},
   "outputs": [
    {
     "name": "stdout",
     "output_type": "stream",
     "text": [
      "Number of NA_values in DepartureDelayGoups: 30327\n",
      "Are all cancelled prior departure flights have NA-value in DepartureDelayGroups? True\n"
     ]
    }
   ],
   "source": [
    "# Investigating which flights have NA DepartureDelayGroups\n",
    "NA_DepDelay_group = flights_2014_1['DepartureDelayGroups'].isna()\n",
    "print('Number of NA_values in DepartureDelayGoups:', NA_DepDelay_group.sum())\n",
    "\n",
    "cancelled_before_depurture = flights_2014_1['DepTime'].isna() & (flights_2014_1['Cancelled'] == 1)\n",
    "print('Are all cancelled prior departure flights have NA-value in DepartureDelayGroups?',\n",
    "      flights_2014_1[cancelled_before_depurture]['DepartureDelayGroups'].isna().all())"
   ]
  },
  {
   "cell_type": "markdown",
   "metadata": {},
   "source": [
    "1. Departured flights still could be cancelled after departure (didn't take off, ruturned to gate) OR diverted to a different destination.\n",
    "2. All flight with NA actual Departure Time ('DepTime' field) were canceled and have NA-Value in DepartureDelayGroups"
   ]
  },
  {
   "cell_type": "markdown",
   "metadata": {},
   "source": [
    "Let’s examine the Arrival times in more detail."
   ]
  },
  {
   "cell_type": "code",
   "execution_count": 37,
   "metadata": {},
   "outputs": [
    {
     "data": {
      "text/html": [
       "<div>\n",
       "<style scoped>\n",
       "    .dataframe tbody tr th:only-of-type {\n",
       "        vertical-align: middle;\n",
       "    }\n",
       "\n",
       "    .dataframe tbody tr th {\n",
       "        vertical-align: top;\n",
       "    }\n",
       "\n",
       "    .dataframe thead th {\n",
       "        text-align: right;\n",
       "    }\n",
       "</style>\n",
       "<table border=\"1\" class=\"dataframe\">\n",
       "  <thead>\n",
       "    <tr style=\"text-align: right;\">\n",
       "      <th></th>\n",
       "      <th>Cancelled</th>\n",
       "      <th>Diverted</th>\n",
       "    </tr>\n",
       "    <tr>\n",
       "      <th>ArrTime</th>\n",
       "      <th></th>\n",
       "      <th></th>\n",
       "    </tr>\n",
       "  </thead>\n",
       "  <tbody>\n",
       "    <tr>\n",
       "      <th>False</th>\n",
       "      <td>0.0</td>\n",
       "      <td>833.0</td>\n",
       "    </tr>\n",
       "    <tr>\n",
       "      <th>True</th>\n",
       "      <td>30852.0</td>\n",
       "      <td>644.0</td>\n",
       "    </tr>\n",
       "  </tbody>\n",
       "</table>\n",
       "</div>"
      ],
      "text/plain": [
       "         Cancelled  Diverted\n",
       "ArrTime                     \n",
       "False          0.0     833.0\n",
       "True       30852.0     644.0"
      ]
     },
     "execution_count": 37,
     "metadata": {},
     "output_type": "execute_result"
    }
   ],
   "source": [
    "# What is a split of flights with/NA Arrival Time vs. Cancelled and Diverted flights \n",
    "flights_2014_1.groupby(flights_2014_1['ArrTime'].isna())[['Cancelled', 'Diverted']].agg('sum')"
   ]
  },
  {
   "cell_type": "markdown",
   "metadata": {},
   "source": [
    "From this split it is interesting that some diverted (directed to other airports) flights still have Arrival time. What does this arravel time mean? Is it the arrival time to the Destination airport or the airport where the flight had beed diverted?\n",
    "Le't examine this question using the field 'DivReachedDest' marking the flights reached Destination after being diverted."
   ]
  },
  {
   "cell_type": "code",
   "execution_count": 38,
   "metadata": {},
   "outputs": [
    {
     "name": "stdout",
     "output_type": "stream",
     "text": [
      "Number of diverted flights that have ArrTime 833\n",
      "Number of diverted flights reached initial destination 833.0\n",
      "Are all these the same flitghts? True\n"
     ]
    }
   ],
   "source": [
    "# Check the numbers from diverted flights' split over w/NA ArrTime \n",
    "diverted_but_arrived = (~flights_2014_1['ArrTime'].isna()) & (flights_2014_1['Diverted'] == 1)\n",
    "print('Number of diverted flights that have ArrTime', \n",
    "      flights_2014_1[diverted_but_arrived]['Flight_Number_Reporting_Airline'].count())\n",
    "print('Number of diverted flights reached initial destination', \n",
    "      flights_2014_1['DivReachedDest'].sum())\n",
    "print('Are all these the same flitghts?',\n",
    "      flights_2014_1[diverted_but_arrived]['DivReachedDest'].sum() == flights_2014_1['DivReachedDest'].sum())"
   ]
  },
  {
   "cell_type": "markdown",
   "metadata": {},
   "source": [
    "So, yes, all diverted flights which finally reached their initial destination have the Arrival time."
   ]
  },
  {
   "cell_type": "markdown",
   "metadata": {},
   "source": [
    "1. All flights having an actual Arrival Time ('ArrTime') split over flied directly from Origin to Destination OR were diverted but finally reached the Destination\n",
    "2. All flights with NA ArrTime were wheather canceled or diverted and landed in different Destination"
   ]
  },
  {
   "cell_type": "code",
   "execution_count": 39,
   "metadata": {},
   "outputs": [
    {
     "name": "stdout",
     "output_type": "stream",
     "text": [
      "The number of flight with NA-value in ArrivalDelayGroups 32329\n",
      "Are all flights with NA-value ArrivalDelayGroups were canceled or diverted? True\n"
     ]
    }
   ],
   "source": [
    "# Investigating which flights have NA ArrivalDelayGroups\n",
    "NA_ArrivalDelay_groups = flights_2014_1['ArrivalDelayGroups'].isna()\n",
    "flight_cancelled_OR_diverted = (flights_2014_1['Cancelled'] == 1) | (flights_2014_1['Diverted'] == 1)\n",
    "print('The number of flight with NA-value in ArrivalDelayGroups', NA_ArrivalDelay_groups.sum())\n",
    "print('Are all flights with NA-value ArrivalDelayGroups were canceled or diverted?',\n",
    "      flights_2014_1[NA_ArrivalDelay_groups & flight_cancelled_OR_diverted]['Flight_Number_Reporting_Airline'].count() ==\n",
    "      flights_2014_1[NA_ArrivalDelay_groups]['Flight_Number_Reporting_Airline'].count())"
   ]
  },
  {
   "cell_type": "markdown",
   "metadata": {},
   "source": [
    "All Diverted or Cancelled flights have NA-value ArrivalDelayGroup"
   ]
  },
  {
   "cell_type": "markdown",
   "metadata": {},
   "source": [
    "### Flight Status and Reasons for Delay  \n",
    "\n",
    "I’m going to keep the following fields because they contain information that can be useful for interpreting the departure and arrival time fields and for calculating the actual elapsed time, respectively:\n",
    "\n",
    "47.\t**Cancelled**\n",
    "    * **Description:** Cancelled Flight Indicator (1=Yes)  \n",
    "    * **Data type:** boolean\n",
    "    * **Keep**\n",
    "\n",
    "48.\t**CancellationCode**\n",
    "    * **Description:** Specifies The Reason For Cancellation\n",
    "    * **Data type:**  category\n",
    "    * **Keep**\n",
    "\n",
    "49.\t**Diverted**\n",
    "    * **Description:** Diverted Flight Indicator (1=Yes)  \n",
    "    * **Data type:** boolean\n",
    "    * **Keep**\n",
    "    \n",
    "\n",
    "Next fileds I suppose to keep to analyse the correclation between these reasons for delay with specific airlines, airport or states:\n",
    "\n",
    "56.\t**CarrierDelay**\n",
    "    * **Description**: Carrier Delay, in Minutes  \n",
    "    * **Data type:** float\n",
    "    * **Keep**\n",
    "\n",
    "57.\t**WeatherDelay**  \n",
    "    * **Description**: Weather Delay, in Minutes  \n",
    "    * **Data type:** float\n",
    "    * **Keep**\n",
    "\n",
    "58.\t**NASDelay** \n",
    "    * **Description**: National Air System Delay, in Minutes  \n",
    "    * **Data type:** float\n",
    "    * **Keep**\n",
    "\n",
    "59.\t**SecurityDelay**  \n",
    "    * **Description**: Security Delay, in Minutes  \n",
    "    * **Data type:** float\n",
    "    * **Keep**\n",
    "\n",
    "60.\t**LateAircraftDelay**\n",
    "    * **Description**: Late Aircraft Delay, in Minutes  \n",
    "    * **Data type:** float\n",
    "    * **Keep**"
   ]
  },
  {
   "cell_type": "code",
   "execution_count": 40,
   "metadata": {},
   "outputs": [
    {
     "name": "stdout",
     "output_type": "stream",
     "text": [
      "           Cancelled       Diverted\n",
      "count  471949.000000  471949.000000\n",
      "mean        0.065371       0.003130\n",
      "std         0.247180       0.055855\n",
      "min         0.000000       0.000000\n",
      "25%         0.000000       0.000000\n",
      "50%         0.000000       0.000000\n",
      "75%         0.000000       0.000000\n",
      "max         1.000000       1.000000\n",
      "Cancelled                0\n",
      "CancellationCode    441097\n",
      "Diverted                 0\n",
      "dtype: int64\n"
     ]
    }
   ],
   "source": [
    "# Discovering the values and NA-values\n",
    "flight_status_fields = ['Cancelled',\n",
    "                        'CancellationCode',\n",
    "                        'Diverted']\n",
    "print(flights_2014_1[flight_status_fields].describe())\n",
    "print(flights_2014_1[flight_status_fields].isna().sum())"
   ]
  },
  {
   "cell_type": "code",
   "execution_count": 41,
   "metadata": {},
   "outputs": [
    {
     "data": {
      "text/plain": [
       "array([nan, 'B', 'A', 'C'], dtype=object)"
      ]
     },
     "execution_count": 41,
     "metadata": {},
     "output_type": "execute_result"
    }
   ],
   "source": [
    "# Which values does the Cancellatino Code field have?\n",
    "flights_2014_1['CancellationCode'].unique()"
   ]
  },
  {
   "cell_type": "code",
   "execution_count": 42,
   "metadata": {},
   "outputs": [
    {
     "name": "stdout",
     "output_type": "stream",
     "text": [
      "Cancelled  Diverted\n",
      "0.0        0.0             0\n",
      "           1.0             0\n",
      "1.0        0.0         30852\n",
      "Name: CancellationCode, dtype: int64\n",
      "Number of recortds (flights) with absent Cancellation Code but still were cancelled: 0\n"
     ]
    }
   ],
   "source": [
    "# Examining the presence of Cancellation Codes for all Cancelled flights\n",
    "print(flights_2014_1.groupby(['Cancelled', 'Diverted'])['CancellationCode'].agg('count'))\n",
    "no_cancellation_code = flights_2014_1['CancellationCode'].isna()\n",
    "print('Number of recortds (flights) with absent Cancellation Code but still were cancelled:',\n",
    "      len(flights_2014_1[no_cancellation_code & ('Cancelled' == 0)]))"
   ]
  },
  {
   "cell_type": "markdown",
   "metadata": {},
   "source": [
    "The conclusion is that the data represented in the Flight Status and Cancellation Code fields is accurate and comprehensive."
   ]
  },
  {
   "cell_type": "markdown",
   "metadata": {},
   "source": [
    "### Elapsed time  \n",
    "\n",
    "The scheduled and actual Elapsed Time data are the primary candidates for the outcome of the proposed prediction model, or at least one of the main components for constructing such a variable. This is why it is important to keep this data. Air Time can also be useful because, as we have already seen, it helps with identifying flights that were cancelled after departure.\n",
    "\n",
    "50.\t***CRSElapsedTime**\n",
    "    * **Description:** CRS Elapsed Time of Flight, in Minutes  \n",
    "    * **Data type:** float\n",
    "    * **Keep**\n",
    "\n",
    "51.\t**ActualElapsedTime**  \n",
    "    * **Description:** Elapsed Time of Flight, in Minutes  \n",
    "    * **Data type:** float\n",
    "    * **Keep**\n",
    "\n",
    "52.\t**AirTime:**  \n",
    "    * **Description:** Flight Time, in Minutes  \n",
    "    * **Data type:** float\n",
    "    * **Keep**\n",
    "\n",
    "\n",
    "The following data can be dropped because it is seemed irrelevand or can be obtaing from another fields:  \n",
    "\n",
    "53.\t**Flights**  \n",
    "    * **Description:** Number of Flights  \n",
    "    * **Drop**  \n",
    "\n",
    "54.\t**Distance**  \n",
    "    * **Description:** Distance between airports (miles)  \n",
    "    * **Drop**  \n",
    "\n",
    "55.\t**DistanceGroup**\n",
    "    * **Description:**  Distance Intervals, every 250 Miles, for Flight Segment  \n",
    "    * **Drop**\n",
    " \n",
    "61.\t**FirstDepTime**  \n",
    "    * **Description:** First Gate Departure Time at Origin Airport  \n",
    "    * **Drop**\n",
    "\n",
    "62.\t**TotalAddGTime**  \n",
    "    * **Description:** Total Ground Time Away from Gate for Gate Return or Cancelled Flight  \n",
    "    * **Drop**\n",
    "\n",
    "63.\t**LongestAddGTime**  \n",
    "    * **Description:** Longest Time Away from Gate for Gate Return or Cancelled Flight  \n",
    "    * **Drop**\n",
    "\n",
    "64.\t**DivAirportLandings**\n",
    "    * **Description:** Number of Diverted Airport Landings  \n",
    "    * **Drop**\n",
    "\n",
    "As we already know, the next fields can be useful in evaluation of an acrual elapsed time when the flight was diverted, so we need to keep them:  \n",
    "\n",
    "65.\t**DivReachedDest**  \n",
    "    * **Description:** Diverted Flight Reaching Scheduled Destination Indicator (1=Yes)  \n",
    "    * **Data type:** boolean\n",
    "    * **Keep**\n",
    "\n",
    "66.\t**DivActualElapsedTime**\n",
    "    * **Description:** Elapsed Time of Diverted Flight Reaching Scheduled Destination, in Minutes. The ActualElapsedTime column remains NULL for all diverted flights.  \n",
    "    * **Data type:** float\n",
    "    * **Keep**\n",
    "\n",
    "67.\t**DivArrDelay**  \n",
    "    * **Description:** Difference in minutes between scheduled and actual arrival time for a diverted flight reaching scheduled destination. The ArrDelay column remains NULL for all diverted flights.  \n",
    "    * **Data Type:** float\n",
    "    * **Keep**\n",
    "\n",
    "The distance beetween the scheduled destination and final diverted airport in miles is unimportant for the purposed model because if the flight landed in different location, it is reasonable for the purpose of model consider this fliaght as not arrived to the distanation.\n",
    "\n",
    "68.\t**DivDistance**\n",
    "    * **Description:** Distance between scheduled destination and final diverted airport (miles). Value will be 0 for diverted flight reaching scheduled destination.  \n",
    "    * **Drop**"
   ]
  },
  {
   "cell_type": "code",
   "execution_count": 43,
   "metadata": {},
   "outputs": [
    {
     "name": "stdout",
     "output_type": "stream",
     "text": [
      "       CRSElapsedTime  ActualElapsedTime        AirTime\n",
      "count   471949.000000      439620.000000  439620.000000\n",
      "mean       137.400615         135.086875     111.636413\n",
      "std         74.130674          74.329305      72.117051\n",
      "min         19.000000          16.000000       7.000000\n",
      "25%         85.000000          80.000000      59.000000\n",
      "50%        118.000000         116.000000      92.000000\n",
      "75%        170.000000         168.000000     142.000000\n",
      "max        670.000000         764.000000     688.000000\n",
      "CRSElapsedTime           0\n",
      "ActualElapsedTime    32329\n",
      "AirTime              32329\n",
      "dtype: int64\n"
     ]
    }
   ],
   "source": [
    "# Checking for possible and NA values for Elapsed time data block\n",
    "elapsed_time_fields = ['CRSElapsedTime',\n",
    "                       'ActualElapsedTime',\n",
    "                       'AirTime']\n",
    "print(flights_2014_1[elapsed_time_fields].describe())\n",
    "print(flights_2014_1[elapsed_time_fields].isna().sum())"
   ]
  },
  {
   "cell_type": "code",
   "execution_count": 44,
   "metadata": {},
   "outputs": [
    {
     "name": "stdout",
     "output_type": "stream",
     "text": [
      "       DivReachedDest  DivActualElapsedTime  DivArrDelay\n",
      "count     1477.000000            833.000000   833.000000\n",
      "mean         0.563981            364.955582   228.453782\n",
      "std          0.496057            195.155613   183.260456\n",
      "min          0.000000             90.000000     9.000000\n",
      "25%          0.000000            250.000000   129.000000\n",
      "50%          1.000000            313.000000   178.000000\n",
      "75%          1.000000            417.000000   251.000000\n",
      "max          1.000000           1968.000000  1651.000000\n",
      "DivReachedDest          470472\n",
      "DivActualElapsedTime    471116\n",
      "DivArrDelay             471116\n",
      "dtype: int64\n"
     ]
    }
   ],
   "source": [
    "# Checking for possible and NA values for Diverted flights data block\n",
    "diverted_flights_fields = ['DivReachedDest',\n",
    "                       'DivActualElapsedTime',\n",
    "                       'DivArrDelay']\n",
    "print(flights_2014_1[diverted_flights_fields].describe())\n",
    "print(flights_2014_1[diverted_flights_fields].isna().sum())"
   ]
  },
  {
   "cell_type": "markdown",
   "metadata": {},
   "source": [
    "### Another infermation about diverted flights\n",
    "\n",
    "The rest of the dataset contains 5 equal blocks for five airports where the flight can be diverted consiquently. Each block contains:\n",
    "* Diverted Airport Code, Airport ID of Diverted Airport,  \n",
    "* Airport Sequence ID of Diverted Airport,  \n",
    "* Wheels On Time (local time: hhmm) at Diverted Airport Code,  \n",
    "* Total Ground Time Away from Gate at Diverted Airport Code,  \n",
    "* Longest Ground Time Away from Gate at Diverted Airport Code,  \n",
    "* Wheels Off Time (local time: hhmm) at Diverted Airport Code,  \n",
    "* Aircraft Tail Number for Diverted Airport Code\n",
    "\n",
    "All this information is not rellevant to the project. "
   ]
  },
  {
   "cell_type": "markdown",
   "metadata": {},
   "source": [
    "### Conclustion about data structure and quality:  \n",
    "\n",
    "1. The data needed for the project is selected\n",
    "2. The prpoesd data type for each field is selected\n",
    "3. The quality of the data is good. The data represented in the dataset is comprehesive\n",
    "4. The logic of data for calncelled and diverted flights and consiquencies for actual departure and arrival times, time delays and elapsed times was identified and recorded\n",
    "5. On the data transformaiton stage I have to change data types for selected for the model fields and solve the 'time-2400' problem.\n",
    "6. The calculation of the resulting elapsed time, which I suppose to take as a predicted variable of the model, will be realise further on the stage of features engeneering. "
   ]
  },
  {
   "cell_type": "markdown",
   "metadata": {},
   "source": [
    "## Data transformation"
   ]
  },
  {
   "cell_type": "markdown",
   "metadata": {},
   "source": [
    "Let's begin with one file from 60 files to test the aproach. After testing we will use the same process for the rest of files."
   ]
  },
  {
   "cell_type": "code",
   "execution_count": 45,
   "metadata": {},
   "outputs": [],
   "source": [
    "import numpy as np\n",
    "\n",
    "data_types = {\n",
    "    'Year':                 np.int16,               \n",
    "    'Quarter':              np.int8,                \n",
    "    'Month':                np.int8,                \n",
    "    'DayofMonth':           np.int8,\n",
    "    'DayOfWeek':            np.int8,\n",
    "    'FlightDate':           'str',\n",
    "    'Reporting_Airline':    'category',\n",
    "    'Flight_Number_Reporting_Airline':  np.int16,\n",
    "    'OriginAirportID':      'category',\n",
    "    'Origin':               'category',\n",
    "    'DestAirportID':        'category',\n",
    "    'Dest':                 'category',\n",
    "    'CRSDepTime':           np.int16,\n",
    "    'DepTime':              np.float32,\n",
    "    'DepDelay':             np.float32,\n",
    "    'DepartureDelayGroups': 'category',\n",
    "    'DepTimeBlk':           'category',\n",
    "    'CRSArrTime':           np.int16,\n",
    "    'ArrTime':              np.float32,\n",
    "    'ArrDelay':             np.float32,\n",
    "    'ArrivalDelayGroups':   'category',\n",
    "    'ArrTimeBlk':           'category',\n",
    "    'Cancelled':            np.int8,        # boolean\n",
    "    'CancellationCode':     'category',\n",
    "    'Diverted':             np.int8,        # boolean\n",
    "    'CarrierDelay':         np.float32,\n",
    "    'WeatherDelay':         np.float32,\n",
    "    'NASDelay':             np.float32,\n",
    "    'SecurityDelay':        np.float32,\n",
    "    'LateAircraftDelay':    np.float32,\n",
    "    'CRSElapsedTime':       np.float32,\n",
    "    'ActualElapsedTime':    np.float32,\n",
    "    'AirTime':              np.float32,\n",
    "    'DivReachedDest':       np.float32,        # boolean\n",
    "    'DivActualElapsedTime': np.float32,\n",
    "    'DivArrDelay':          np.float32,}"
   ]
  },
  {
   "cell_type": "code",
   "execution_count": 46,
   "metadata": {},
   "outputs": [],
   "source": [
    "def transform_data_from(zip_file, data_file, field_type=None):\n",
    "    # reading the file\n",
    "    with zipfile.ZipFile(zip_file) as zip_source:\n",
    "        with zip_source.open(data_file) as file:\n",
    "            if field_type != None:\n",
    "                df = pd.read_csv(file, header = 0, \n",
    "                                usecols = field_type.keys(),\n",
    "                                dtype = field_type)\n",
    "            else:\n",
    "                df = pd.read_csv(file, header = 0, low_memory=False)\n",
    "\n",
    "    # Converting dates and boolean        \n",
    "    if 'FlightDate' in df.columns:\n",
    "        df['FlightDate'] = pd.to_datetime(df['FlightDate'])\n",
    "    if 'DivReachedDest' in df.columns:\n",
    "        df['DivReachedDest'] = df['DivReachedDest'].fillna(0)\n",
    "    if 'Cancelled' in df.columns:\n",
    "        df['Cancelled'] = df['Cancelled'].astype('bool')\n",
    "    if 'Diverted' in df.columns:\n",
    "        df['Diverted'] = df['Diverted'].astype('bool')\n",
    "    if 'DivReachedDest' in df.columns:\n",
    "        df['DivReachedDest'] = df['DivReachedDest'].astype('bool')\n",
    "    return df"
   ]
  },
  {
   "cell_type": "code",
   "execution_count": 47,
   "metadata": {},
   "outputs": [],
   "source": [
    "source_zip = 'data/interim/csv_flight.zip'\n",
    "source_data = 'csv_flight/report_2014_1.csv'\n",
    "\n",
    "flights_2014_1_new = transform_data_from(source_zip, source_data, data_types)"
   ]
  },
  {
   "cell_type": "code",
   "execution_count": 48,
   "metadata": {},
   "outputs": [
    {
     "data": {
      "text/html": [
       "<div>\n",
       "<style scoped>\n",
       "    .dataframe tbody tr th:only-of-type {\n",
       "        vertical-align: middle;\n",
       "    }\n",
       "\n",
       "    .dataframe tbody tr th {\n",
       "        vertical-align: top;\n",
       "    }\n",
       "\n",
       "    .dataframe thead th {\n",
       "        text-align: right;\n",
       "    }\n",
       "</style>\n",
       "<table border=\"1\" class=\"dataframe\">\n",
       "  <thead>\n",
       "    <tr style=\"text-align: right;\">\n",
       "      <th></th>\n",
       "      <th>Year</th>\n",
       "      <th>Quarter</th>\n",
       "      <th>Month</th>\n",
       "      <th>DayofMonth</th>\n",
       "      <th>DayOfWeek</th>\n",
       "      <th>FlightDate</th>\n",
       "      <th>Reporting_Airline</th>\n",
       "      <th>Flight_Number_Reporting_Airline</th>\n",
       "      <th>OriginAirportID</th>\n",
       "      <th>Origin</th>\n",
       "      <th>DestAirportID</th>\n",
       "      <th>Dest</th>\n",
       "      <th>CRSDepTime</th>\n",
       "      <th>DepTime</th>\n",
       "      <th>DepDelay</th>\n",
       "      <th>DepartureDelayGroups</th>\n",
       "      <th>DepTimeBlk</th>\n",
       "      <th>CRSArrTime</th>\n",
       "      <th>ArrTime</th>\n",
       "      <th>ArrDelay</th>\n",
       "      <th>ArrivalDelayGroups</th>\n",
       "      <th>ArrTimeBlk</th>\n",
       "      <th>Cancelled</th>\n",
       "      <th>CancellationCode</th>\n",
       "      <th>Diverted</th>\n",
       "      <th>CRSElapsedTime</th>\n",
       "      <th>ActualElapsedTime</th>\n",
       "      <th>AirTime</th>\n",
       "      <th>CarrierDelay</th>\n",
       "      <th>WeatherDelay</th>\n",
       "      <th>NASDelay</th>\n",
       "      <th>SecurityDelay</th>\n",
       "      <th>LateAircraftDelay</th>\n",
       "      <th>DivReachedDest</th>\n",
       "      <th>DivActualElapsedTime</th>\n",
       "      <th>DivArrDelay</th>\n",
       "    </tr>\n",
       "  </thead>\n",
       "  <tbody>\n",
       "    <tr>\n",
       "      <th>0</th>\n",
       "      <td>2014</td>\n",
       "      <td>1</td>\n",
       "      <td>1</td>\n",
       "      <td>30</td>\n",
       "      <td>4</td>\n",
       "      <td>2014-01-30</td>\n",
       "      <td>AA</td>\n",
       "      <td>2377</td>\n",
       "      <td>11298</td>\n",
       "      <td>DFW</td>\n",
       "      <td>12278</td>\n",
       "      <td>ICT</td>\n",
       "      <td>940</td>\n",
       "      <td>935.0</td>\n",
       "      <td>-5.0</td>\n",
       "      <td>-1</td>\n",
       "      <td>0900-0959</td>\n",
       "      <td>1055</td>\n",
       "      <td>1051.0</td>\n",
       "      <td>-4.0</td>\n",
       "      <td>-1</td>\n",
       "      <td>1000-1059</td>\n",
       "      <td>False</td>\n",
       "      <td>NaN</td>\n",
       "      <td>False</td>\n",
       "      <td>75.0</td>\n",
       "      <td>76.0</td>\n",
       "      <td>56.0</td>\n",
       "      <td>NaN</td>\n",
       "      <td>NaN</td>\n",
       "      <td>NaN</td>\n",
       "      <td>NaN</td>\n",
       "      <td>NaN</td>\n",
       "      <td>False</td>\n",
       "      <td>NaN</td>\n",
       "      <td>NaN</td>\n",
       "    </tr>\n",
       "    <tr>\n",
       "      <th>1</th>\n",
       "      <td>2014</td>\n",
       "      <td>1</td>\n",
       "      <td>1</td>\n",
       "      <td>31</td>\n",
       "      <td>5</td>\n",
       "      <td>2014-01-31</td>\n",
       "      <td>AA</td>\n",
       "      <td>2377</td>\n",
       "      <td>11298</td>\n",
       "      <td>DFW</td>\n",
       "      <td>12278</td>\n",
       "      <td>ICT</td>\n",
       "      <td>940</td>\n",
       "      <td>951.0</td>\n",
       "      <td>11.0</td>\n",
       "      <td>0</td>\n",
       "      <td>0900-0959</td>\n",
       "      <td>1055</td>\n",
       "      <td>1115.0</td>\n",
       "      <td>20.0</td>\n",
       "      <td>1</td>\n",
       "      <td>1000-1059</td>\n",
       "      <td>False</td>\n",
       "      <td>NaN</td>\n",
       "      <td>False</td>\n",
       "      <td>75.0</td>\n",
       "      <td>84.0</td>\n",
       "      <td>54.0</td>\n",
       "      <td>11.0</td>\n",
       "      <td>0.0</td>\n",
       "      <td>9.0</td>\n",
       "      <td>0.0</td>\n",
       "      <td>0.0</td>\n",
       "      <td>False</td>\n",
       "      <td>NaN</td>\n",
       "      <td>NaN</td>\n",
       "    </tr>\n",
       "    <tr>\n",
       "      <th>2</th>\n",
       "      <td>2014</td>\n",
       "      <td>1</td>\n",
       "      <td>1</td>\n",
       "      <td>1</td>\n",
       "      <td>3</td>\n",
       "      <td>2014-01-01</td>\n",
       "      <td>AA</td>\n",
       "      <td>2377</td>\n",
       "      <td>12278</td>\n",
       "      <td>ICT</td>\n",
       "      <td>11298</td>\n",
       "      <td>DFW</td>\n",
       "      <td>1135</td>\n",
       "      <td>1144.0</td>\n",
       "      <td>9.0</td>\n",
       "      <td>0</td>\n",
       "      <td>1100-1159</td>\n",
       "      <td>1300</td>\n",
       "      <td>1302.0</td>\n",
       "      <td>2.0</td>\n",
       "      <td>0</td>\n",
       "      <td>1300-1359</td>\n",
       "      <td>False</td>\n",
       "      <td>NaN</td>\n",
       "      <td>False</td>\n",
       "      <td>85.0</td>\n",
       "      <td>78.0</td>\n",
       "      <td>57.0</td>\n",
       "      <td>NaN</td>\n",
       "      <td>NaN</td>\n",
       "      <td>NaN</td>\n",
       "      <td>NaN</td>\n",
       "      <td>NaN</td>\n",
       "      <td>False</td>\n",
       "      <td>NaN</td>\n",
       "      <td>NaN</td>\n",
       "    </tr>\n",
       "    <tr>\n",
       "      <th>3</th>\n",
       "      <td>2014</td>\n",
       "      <td>1</td>\n",
       "      <td>1</td>\n",
       "      <td>2</td>\n",
       "      <td>4</td>\n",
       "      <td>2014-01-02</td>\n",
       "      <td>AA</td>\n",
       "      <td>2377</td>\n",
       "      <td>12278</td>\n",
       "      <td>ICT</td>\n",
       "      <td>11298</td>\n",
       "      <td>DFW</td>\n",
       "      <td>1135</td>\n",
       "      <td>1134.0</td>\n",
       "      <td>-1.0</td>\n",
       "      <td>-1</td>\n",
       "      <td>1100-1159</td>\n",
       "      <td>1300</td>\n",
       "      <td>1253.0</td>\n",
       "      <td>-7.0</td>\n",
       "      <td>-1</td>\n",
       "      <td>1300-1359</td>\n",
       "      <td>False</td>\n",
       "      <td>NaN</td>\n",
       "      <td>False</td>\n",
       "      <td>85.0</td>\n",
       "      <td>79.0</td>\n",
       "      <td>53.0</td>\n",
       "      <td>NaN</td>\n",
       "      <td>NaN</td>\n",
       "      <td>NaN</td>\n",
       "      <td>NaN</td>\n",
       "      <td>NaN</td>\n",
       "      <td>False</td>\n",
       "      <td>NaN</td>\n",
       "      <td>NaN</td>\n",
       "    </tr>\n",
       "    <tr>\n",
       "      <th>4</th>\n",
       "      <td>2014</td>\n",
       "      <td>1</td>\n",
       "      <td>1</td>\n",
       "      <td>3</td>\n",
       "      <td>5</td>\n",
       "      <td>2014-01-03</td>\n",
       "      <td>AA</td>\n",
       "      <td>2377</td>\n",
       "      <td>12278</td>\n",
       "      <td>ICT</td>\n",
       "      <td>11298</td>\n",
       "      <td>DFW</td>\n",
       "      <td>1135</td>\n",
       "      <td>1129.0</td>\n",
       "      <td>-6.0</td>\n",
       "      <td>-1</td>\n",
       "      <td>1100-1159</td>\n",
       "      <td>1300</td>\n",
       "      <td>1244.0</td>\n",
       "      <td>-16.0</td>\n",
       "      <td>-2</td>\n",
       "      <td>1300-1359</td>\n",
       "      <td>False</td>\n",
       "      <td>NaN</td>\n",
       "      <td>False</td>\n",
       "      <td>85.0</td>\n",
       "      <td>75.0</td>\n",
       "      <td>52.0</td>\n",
       "      <td>NaN</td>\n",
       "      <td>NaN</td>\n",
       "      <td>NaN</td>\n",
       "      <td>NaN</td>\n",
       "      <td>NaN</td>\n",
       "      <td>False</td>\n",
       "      <td>NaN</td>\n",
       "      <td>NaN</td>\n",
       "    </tr>\n",
       "  </tbody>\n",
       "</table>\n",
       "</div>"
      ],
      "text/plain": [
       "   Year  Quarter  Month  DayofMonth  DayOfWeek FlightDate Reporting_Airline  \\\n",
       "0  2014        1      1          30          4 2014-01-30                AA   \n",
       "1  2014        1      1          31          5 2014-01-31                AA   \n",
       "2  2014        1      1           1          3 2014-01-01                AA   \n",
       "3  2014        1      1           2          4 2014-01-02                AA   \n",
       "4  2014        1      1           3          5 2014-01-03                AA   \n",
       "\n",
       "   Flight_Number_Reporting_Airline OriginAirportID Origin DestAirportID Dest  \\\n",
       "0                             2377           11298    DFW         12278  ICT   \n",
       "1                             2377           11298    DFW         12278  ICT   \n",
       "2                             2377           12278    ICT         11298  DFW   \n",
       "3                             2377           12278    ICT         11298  DFW   \n",
       "4                             2377           12278    ICT         11298  DFW   \n",
       "\n",
       "   CRSDepTime  DepTime  DepDelay DepartureDelayGroups DepTimeBlk  CRSArrTime  \\\n",
       "0         940    935.0      -5.0                   -1  0900-0959        1055   \n",
       "1         940    951.0      11.0                    0  0900-0959        1055   \n",
       "2        1135   1144.0       9.0                    0  1100-1159        1300   \n",
       "3        1135   1134.0      -1.0                   -1  1100-1159        1300   \n",
       "4        1135   1129.0      -6.0                   -1  1100-1159        1300   \n",
       "\n",
       "   ArrTime  ArrDelay ArrivalDelayGroups ArrTimeBlk  Cancelled  \\\n",
       "0   1051.0      -4.0                 -1  1000-1059      False   \n",
       "1   1115.0      20.0                  1  1000-1059      False   \n",
       "2   1302.0       2.0                  0  1300-1359      False   \n",
       "3   1253.0      -7.0                 -1  1300-1359      False   \n",
       "4   1244.0     -16.0                 -2  1300-1359      False   \n",
       "\n",
       "  CancellationCode  Diverted  CRSElapsedTime  ActualElapsedTime  AirTime  \\\n",
       "0              NaN     False            75.0               76.0     56.0   \n",
       "1              NaN     False            75.0               84.0     54.0   \n",
       "2              NaN     False            85.0               78.0     57.0   \n",
       "3              NaN     False            85.0               79.0     53.0   \n",
       "4              NaN     False            85.0               75.0     52.0   \n",
       "\n",
       "   CarrierDelay  WeatherDelay  NASDelay  SecurityDelay  LateAircraftDelay  \\\n",
       "0           NaN           NaN       NaN            NaN                NaN   \n",
       "1          11.0           0.0       9.0            0.0                0.0   \n",
       "2           NaN           NaN       NaN            NaN                NaN   \n",
       "3           NaN           NaN       NaN            NaN                NaN   \n",
       "4           NaN           NaN       NaN            NaN                NaN   \n",
       "\n",
       "   DivReachedDest  DivActualElapsedTime  DivArrDelay  \n",
       "0           False                   NaN          NaN  \n",
       "1           False                   NaN          NaN  \n",
       "2           False                   NaN          NaN  \n",
       "3           False                   NaN          NaN  \n",
       "4           False                   NaN          NaN  "
      ]
     },
     "execution_count": 48,
     "metadata": {},
     "output_type": "execute_result"
    }
   ],
   "source": [
    "pd.set_option('display.max_columns', 200)\n",
    "flights_2014_1_new.head()"
   ]
  },
  {
   "cell_type": "code",
   "execution_count": 49,
   "metadata": {},
   "outputs": [
    {
     "name": "stdout",
     "output_type": "stream",
     "text": [
      "<class 'pandas.core.frame.DataFrame'>\n",
      "RangeIndex: 471949 entries, 0 to 471948\n",
      "Data columns (total 36 columns):\n",
      " #   Column                           Non-Null Count   Dtype         \n",
      "---  ------                           --------------   -----         \n",
      " 0   Year                             471949 non-null  int16         \n",
      " 1   Quarter                          471949 non-null  int8          \n",
      " 2   Month                            471949 non-null  int8          \n",
      " 3   DayofMonth                       471949 non-null  int8          \n",
      " 4   DayOfWeek                        471949 non-null  int8          \n",
      " 5   FlightDate                       471949 non-null  datetime64[ns]\n",
      " 6   Reporting_Airline                471949 non-null  category      \n",
      " 7   Flight_Number_Reporting_Airline  471949 non-null  int16         \n",
      " 8   OriginAirportID                  471949 non-null  category      \n",
      " 9   Origin                           471949 non-null  category      \n",
      " 10  DestAirportID                    471949 non-null  category      \n",
      " 11  Dest                             471949 non-null  category      \n",
      " 12  CRSDepTime                       471949 non-null  int16         \n",
      " 13  DepTime                          441622 non-null  float32       \n",
      " 14  DepDelay                         441622 non-null  float32       \n",
      " 15  DepartureDelayGroups             441622 non-null  category      \n",
      " 16  DepTimeBlk                       471949 non-null  category      \n",
      " 17  CRSArrTime                       471949 non-null  int16         \n",
      " 18  ArrTime                          440453 non-null  float32       \n",
      " 19  ArrDelay                         439620 non-null  float32       \n",
      " 20  ArrivalDelayGroups               439620 non-null  category      \n",
      " 21  ArrTimeBlk                       471949 non-null  category      \n",
      " 22  Cancelled                        471949 non-null  bool          \n",
      " 23  CancellationCode                 30852 non-null   category      \n",
      " 24  Diverted                         471949 non-null  bool          \n",
      " 25  CRSElapsedTime                   471949 non-null  float32       \n",
      " 26  ActualElapsedTime                439620 non-null  float32       \n",
      " 27  AirTime                          439620 non-null  float32       \n",
      " 28  CarrierDelay                     119994 non-null  float32       \n",
      " 29  WeatherDelay                     119994 non-null  float32       \n",
      " 30  NASDelay                         119994 non-null  float32       \n",
      " 31  SecurityDelay                    119994 non-null  float32       \n",
      " 32  LateAircraftDelay                119994 non-null  float32       \n",
      " 33  DivReachedDest                   471949 non-null  bool          \n",
      " 34  DivActualElapsedTime             833 non-null     float32       \n",
      " 35  DivArrDelay                      833 non-null     float32       \n",
      "dtypes: bool(3), category(10), datetime64[ns](1), float32(14), int16(4), int8(4)\n",
      "memory usage: 41.9 MB\n"
     ]
    }
   ],
   "source": [
    "flights_2014_1_new.info()"
   ]
  },
  {
   "cell_type": "code",
   "execution_count": 50,
   "metadata": {},
   "outputs": [
    {
     "name": "stdout",
     "output_type": "stream",
     "text": [
      "<class 'pandas.core.frame.DataFrame'>\n",
      "RangeIndex: 471949 entries, 0 to 471948\n",
      "Columns: 110 entries, Year to Unnamed: 109\n",
      "dtypes: float64(70), int64(21), object(19)\n",
      "memory usage: 396.1+ MB\n"
     ]
    }
   ],
   "source": [
    "# Just to see what was the original size of the dataset\n",
    "flights_2014_1.info()"
   ]
  },
  {
   "cell_type": "markdown",
   "metadata": {},
   "source": [
    "I converted data into new dataset. Elimination of redundant data and changing data types allowed to reduce the memery usage by more than 9 times."
   ]
  },
  {
   "cell_type": "code",
   "execution_count": 51,
   "metadata": {},
   "outputs": [],
   "source": [
    "# To free the memory space I'm deliting datasets, used for discovering the data and testing the data transfortation ideas\n",
    "del(flights_2014_1, flights_2014_1_new)"
   ]
  },
  {
   "cell_type": "code",
   "execution_count": 52,
   "metadata": {},
   "outputs": [
    {
     "name": "stdout",
     "output_type": "stream",
     "text": [
      "csv_flight/report_2014_1.csv\n",
      "csv_flight/report_2014_2.csv\n",
      "csv_flight/report_2014_3.csv\n",
      "csv_flight/report_2014_4.csv\n",
      "csv_flight/report_2014_5.csv\n",
      "csv_flight/report_2014_6.csv\n",
      "csv_flight/report_2014_7.csv\n",
      "csv_flight/report_2014_8.csv\n",
      "csv_flight/report_2014_9.csv\n",
      "csv_flight/report_2014_10.csv\n",
      "csv_flight/report_2014_11.csv\n",
      "csv_flight/report_2014_12.csv\n",
      "csv_flight/report_2015_1.csv\n",
      "csv_flight/report_2015_2.csv\n",
      "csv_flight/report_2015_3.csv\n",
      "csv_flight/report_2015_4.csv\n",
      "csv_flight/report_2015_5.csv\n",
      "csv_flight/report_2015_6.csv\n",
      "csv_flight/report_2015_7.csv\n",
      "csv_flight/report_2015_8.csv\n",
      "csv_flight/report_2015_9.csv\n",
      "csv_flight/report_2015_10.csv\n",
      "csv_flight/report_2015_11.csv\n",
      "csv_flight/report_2015_12.csv\n",
      "csv_flight/report_2016_1.csv\n",
      "csv_flight/report_2016_2.csv\n",
      "csv_flight/report_2016_3.csv\n",
      "csv_flight/report_2016_4.csv\n",
      "csv_flight/report_2016_5.csv\n",
      "csv_flight/report_2016_6.csv\n",
      "csv_flight/report_2016_7.csv\n",
      "csv_flight/report_2016_8.csv\n",
      "csv_flight/report_2016_9.csv\n",
      "csv_flight/report_2016_10.csv\n",
      "csv_flight/report_2016_11.csv\n",
      "csv_flight/report_2016_12.csv\n",
      "csv_flight/report_2017_1.csv\n",
      "csv_flight/report_2017_2.csv\n",
      "csv_flight/report_2017_3.csv\n",
      "csv_flight/report_2017_4.csv\n",
      "csv_flight/report_2017_5.csv\n",
      "csv_flight/report_2017_6.csv\n",
      "csv_flight/report_2017_7.csv\n",
      "csv_flight/report_2017_8.csv\n",
      "csv_flight/report_2017_9.csv\n",
      "csv_flight/report_2017_10.csv\n",
      "csv_flight/report_2017_11.csv\n",
      "csv_flight/report_2017_12.csv\n",
      "csv_flight/report_2018_1.csv\n",
      "csv_flight/report_2018_2.csv\n",
      "csv_flight/report_2018_3.csv\n",
      "csv_flight/report_2018_4.csv\n",
      "csv_flight/report_2018_5.csv\n",
      "csv_flight/report_2018_6.csv\n",
      "csv_flight/report_2018_7.csv\n",
      "csv_flight/report_2018_8.csv\n",
      "csv_flight/report_2018_9.csv\n",
      "csv_flight/report_2018_10.csv\n",
      "csv_flight/report_2018_11.csv\n",
      "csv_flight/report_2018_12.csv\n"
     ]
    }
   ],
   "source": [
    "source_zip = 'data/interim/csv_flight.zip'\n",
    "source_path = 'csv_flight/report_'\n",
    "\n",
    "flights = pd.DataFrame()\n",
    "for year in range(2014, 2019):\n",
    "    for month in range(1, 13):\n",
    "        source_data = source_path + str(year) + '_' + str(month) + '.csv'\n",
    "        print(source_data)\n",
    "        flights = pd.concat([flights, transform_data_from(source_zip, source_data, data_types)], ignore_index=True)"
   ]
  },
  {
   "cell_type": "code",
   "execution_count": 53,
   "metadata": {},
   "outputs": [
    {
     "name": "stdout",
     "output_type": "stream",
     "text": [
      "<class 'pandas.core.frame.DataFrame'>\n",
      "RangeIndex: 30144615 entries, 0 to 30144614\n",
      "Data columns (total 36 columns):\n",
      " #   Column                           Dtype         \n",
      "---  ------                           -----         \n",
      " 0   Year                             int16         \n",
      " 1   Quarter                          int8          \n",
      " 2   Month                            int8          \n",
      " 3   DayofMonth                       int8          \n",
      " 4   DayOfWeek                        int8          \n",
      " 5   FlightDate                       datetime64[ns]\n",
      " 6   Reporting_Airline                object        \n",
      " 7   Flight_Number_Reporting_Airline  int16         \n",
      " 8   OriginAirportID                  object        \n",
      " 9   Origin                           object        \n",
      " 10  DestAirportID                    object        \n",
      " 11  Dest                             object        \n",
      " 12  CRSDepTime                       int16         \n",
      " 13  DepTime                          float32       \n",
      " 14  DepDelay                         float32       \n",
      " 15  DepartureDelayGroups             category      \n",
      " 16  DepTimeBlk                       category      \n",
      " 17  CRSArrTime                       int16         \n",
      " 18  ArrTime                          float32       \n",
      " 19  ArrDelay                         float32       \n",
      " 20  ArrivalDelayGroups               category      \n",
      " 21  ArrTimeBlk                       category      \n",
      " 22  Cancelled                        bool          \n",
      " 23  CancellationCode                 object        \n",
      " 24  Diverted                         bool          \n",
      " 25  CRSElapsedTime                   float32       \n",
      " 26  ActualElapsedTime                float32       \n",
      " 27  AirTime                          float32       \n",
      " 28  CarrierDelay                     float32       \n",
      " 29  WeatherDelay                     float32       \n",
      " 30  NASDelay                         float32       \n",
      " 31  SecurityDelay                    float32       \n",
      " 32  LateAircraftDelay                float32       \n",
      " 33  DivReachedDest                   bool          \n",
      " 34  DivActualElapsedTime             float32       \n",
      " 35  DivArrDelay                      float32       \n",
      "dtypes: bool(3), category(4), datetime64[ns](1), float32(14), int16(4), int8(4), object(6)\n",
      "memory usage: 3.7+ GB\n"
     ]
    }
   ],
   "source": [
    "flights.info()"
   ]
  },
  {
   "cell_type": "code",
   "execution_count": 54,
   "metadata": {},
   "outputs": [
    {
     "data": {
      "text/plain": [
       "30144615"
      ]
     },
     "execution_count": 54,
     "metadata": {},
     "output_type": "execute_result"
    }
   ],
   "source": [
    "len(flights)"
   ]
  },
  {
   "cell_type": "code",
   "execution_count": 55,
   "metadata": {},
   "outputs": [
    {
     "data": {
      "text/plain": [
       "Year                               False\n",
       "Quarter                            False\n",
       "Month                              False\n",
       "DayofMonth                         False\n",
       "DayOfWeek                          False\n",
       "FlightDate                         False\n",
       "Reporting_Airline                  False\n",
       "Flight_Number_Reporting_Airline    False\n",
       "OriginAirportID                    False\n",
       "Origin                             False\n",
       "DestAirportID                      False\n",
       "Dest                               False\n",
       "CRSDepTime                         False\n",
       "DepTime                             True\n",
       "DepDelay                            True\n",
       "DepartureDelayGroups                True\n",
       "DepTimeBlk                         False\n",
       "CRSArrTime                         False\n",
       "ArrTime                             True\n",
       "ArrDelay                            True\n",
       "ArrivalDelayGroups                  True\n",
       "ArrTimeBlk                         False\n",
       "Cancelled                          False\n",
       "CancellationCode                    True\n",
       "Diverted                           False\n",
       "CRSElapsedTime                      True\n",
       "ActualElapsedTime                   True\n",
       "AirTime                             True\n",
       "CarrierDelay                        True\n",
       "WeatherDelay                        True\n",
       "NASDelay                            True\n",
       "SecurityDelay                       True\n",
       "LateAircraftDelay                   True\n",
       "DivReachedDest                     False\n",
       "DivActualElapsedTime                True\n",
       "DivArrDelay                         True\n",
       "dtype: bool"
      ]
     },
     "execution_count": 55,
     "metadata": {},
     "output_type": "execute_result"
    }
   ],
   "source": [
    "flights.isna().any()"
   ]
  },
  {
   "cell_type": "markdown",
   "metadata": {},
   "source": [
    "The most important variables, characterising the date and time, the origin and destination of the flight don't have NA values and so we don't need to do something at this stage.\n",
    "\n",
    "The fileds which I suppose to use to engineer the predicted variable (such as delays and arrival times) still have NA-values, but these values are not errors and have some logic behind thev. For example. as we have seen above, the acctual arrival time and delay have NA in case the flight was cancelled. I have to take this into account when I will engineer the predicted variable. "
   ]
  },
  {
   "cell_type": "code",
   "execution_count": 56,
   "metadata": {},
   "outputs": [
    {
     "data": {
      "image/png": "[encoded data removed]",
      "text/plain": [
       "<Figure size 640x480 with 1 Axes>"
      ]
     },
     "metadata": {},
     "output_type": "display_data"
    }
   ],
   "source": [
    "import matplotlib.pyplot as plt\n",
    "\n",
    "bins = np.arange(1, 9) - 0.5\n",
    "plt.hist(flights['DayOfWeek'], bins = bins)\n",
    "plt.show()"
   ]
  },
  {
   "cell_type": "markdown",
   "metadata": {},
   "source": [
    "We can see that Saturday has the fewest flights. On other days, the average airports load across the country appears to be similar."
   ]
  },
  {
   "cell_type": "code",
   "execution_count": 57,
   "metadata": {},
   "outputs": [
    {
     "data": {
      "image/png": "[encoded data removed]",
      "text/plain": [
       "<Figure size 640x480 with 1 Axes>"
      ]
     },
     "metadata": {},
     "output_type": "display_data"
    }
   ],
   "source": [
    "bins = np.arange(1, 14) - 0.5\n",
    "plt.hist(flights['Month'], bins = bins)\n",
    "plt.show()"
   ]
  },
  {
   "cell_type": "markdown",
   "metadata": {},
   "source": [
    "The least busy month is February, while the summer months have the highest number of flights with peak in July."
   ]
  },
  {
   "cell_type": "code",
   "execution_count": 58,
   "metadata": {},
   "outputs": [
    {
     "data": {
      "text/plain": [
       "(array([5819811., 5819079., 5617658., 5674621., 7213446.]),\n",
       " array([2013.5, 2014.5, 2015.5, 2016.5, 2017.5, 2018.5]),\n",
       " <BarContainer object of 5 artists>)"
      ]
     },
     "execution_count": 58,
     "metadata": {},
     "output_type": "execute_result"
    },
    {
     "data": {
      "image/png": "[encoded data removed]",
      "text/plain": [
       "<Figure size 640x480 with 1 Axes>"
      ]
     },
     "metadata": {},
     "output_type": "display_data"
    }
   ],
   "source": [
    "plt.hist(flights['Year'], bins = [2013.5, 2014.5, 2015.5, 2016.5, 2017.5, 2018.5])"
   ]
  },
  {
   "cell_type": "markdown",
   "metadata": {},
   "source": [
    "The number of flight increased significantly in 2018"
   ]
  },
  {
   "cell_type": "markdown",
   "metadata": {},
   "source": [
    "Now when we have the whole dataset with more than 30 mln of flights over 5 years period let's chech the data quality again."
   ]
  },
  {
   "cell_type": "code",
   "execution_count": 59,
   "metadata": {},
   "outputs": [
    {
     "data": {
      "text/html": [
       "<div>\n",
       "<style scoped>\n",
       "    .dataframe tbody tr th:only-of-type {\n",
       "        vertical-align: middle;\n",
       "    }\n",
       "\n",
       "    .dataframe tbody tr th {\n",
       "        vertical-align: top;\n",
       "    }\n",
       "\n",
       "    .dataframe thead th {\n",
       "        text-align: right;\n",
       "    }\n",
       "</style>\n",
       "<table border=\"1\" class=\"dataframe\">\n",
       "  <thead>\n",
       "    <tr style=\"text-align: right;\">\n",
       "      <th></th>\n",
       "      <th>Year</th>\n",
       "      <th>Quarter</th>\n",
       "      <th>Month</th>\n",
       "      <th>DayofMonth</th>\n",
       "      <th>DayOfWeek</th>\n",
       "      <th>FlightDate</th>\n",
       "    </tr>\n",
       "  </thead>\n",
       "  <tbody>\n",
       "    <tr>\n",
       "      <th>count</th>\n",
       "      <td>3.014462e+07</td>\n",
       "      <td>3.014462e+07</td>\n",
       "      <td>3.014462e+07</td>\n",
       "      <td>3.014462e+07</td>\n",
       "      <td>3.014462e+07</td>\n",
       "      <td>30144615</td>\n",
       "    </tr>\n",
       "    <tr>\n",
       "      <th>mean</th>\n",
       "      <td>2.016088e+03</td>\n",
       "      <td>2.513457e+00</td>\n",
       "      <td>6.539206e+00</td>\n",
       "      <td>1.574781e+01</td>\n",
       "      <td>3.931978e+00</td>\n",
       "      <td>2016-08-02 23:53:27.481891072</td>\n",
       "    </tr>\n",
       "    <tr>\n",
       "      <th>min</th>\n",
       "      <td>2.014000e+03</td>\n",
       "      <td>1.000000e+00</td>\n",
       "      <td>1.000000e+00</td>\n",
       "      <td>1.000000e+00</td>\n",
       "      <td>1.000000e+00</td>\n",
       "      <td>2014-01-01 00:00:00</td>\n",
       "    </tr>\n",
       "    <tr>\n",
       "      <th>25%</th>\n",
       "      <td>2.015000e+03</td>\n",
       "      <td>2.000000e+00</td>\n",
       "      <td>4.000000e+00</td>\n",
       "      <td>8.000000e+00</td>\n",
       "      <td>2.000000e+00</td>\n",
       "      <td>2015-04-20 00:00:00</td>\n",
       "    </tr>\n",
       "    <tr>\n",
       "      <th>50%</th>\n",
       "      <td>2.016000e+03</td>\n",
       "      <td>3.000000e+00</td>\n",
       "      <td>7.000000e+00</td>\n",
       "      <td>1.600000e+01</td>\n",
       "      <td>4.000000e+00</td>\n",
       "      <td>2016-08-10 00:00:00</td>\n",
       "    </tr>\n",
       "    <tr>\n",
       "      <th>75%</th>\n",
       "      <td>2.017000e+03</td>\n",
       "      <td>3.000000e+00</td>\n",
       "      <td>9.000000e+00</td>\n",
       "      <td>2.300000e+01</td>\n",
       "      <td>6.000000e+00</td>\n",
       "      <td>2017-12-10 00:00:00</td>\n",
       "    </tr>\n",
       "    <tr>\n",
       "      <th>max</th>\n",
       "      <td>2.018000e+03</td>\n",
       "      <td>4.000000e+00</td>\n",
       "      <td>1.200000e+01</td>\n",
       "      <td>3.100000e+01</td>\n",
       "      <td>7.000000e+00</td>\n",
       "      <td>2018-12-31 00:00:00</td>\n",
       "    </tr>\n",
       "    <tr>\n",
       "      <th>std</th>\n",
       "      <td>1.450183e+00</td>\n",
       "      <td>1.105441e+00</td>\n",
       "      <td>3.399581e+00</td>\n",
       "      <td>8.775927e+00</td>\n",
       "      <td>1.990354e+00</td>\n",
       "      <td>NaN</td>\n",
       "    </tr>\n",
       "  </tbody>\n",
       "</table>\n",
       "</div>"
      ],
      "text/plain": [
       "               Year       Quarter         Month    DayofMonth     DayOfWeek  \\\n",
       "count  3.014462e+07  3.014462e+07  3.014462e+07  3.014462e+07  3.014462e+07   \n",
       "mean   2.016088e+03  2.513457e+00  6.539206e+00  1.574781e+01  3.931978e+00   \n",
       "min    2.014000e+03  1.000000e+00  1.000000e+00  1.000000e+00  1.000000e+00   \n",
       "25%    2.015000e+03  2.000000e+00  4.000000e+00  8.000000e+00  2.000000e+00   \n",
       "50%    2.016000e+03  3.000000e+00  7.000000e+00  1.600000e+01  4.000000e+00   \n",
       "75%    2.017000e+03  3.000000e+00  9.000000e+00  2.300000e+01  6.000000e+00   \n",
       "max    2.018000e+03  4.000000e+00  1.200000e+01  3.100000e+01  7.000000e+00   \n",
       "std    1.450183e+00  1.105441e+00  3.399581e+00  8.775927e+00  1.990354e+00   \n",
       "\n",
       "                          FlightDate  \n",
       "count                       30144615  \n",
       "mean   2016-08-02 23:53:27.481891072  \n",
       "min              2014-01-01 00:00:00  \n",
       "25%              2015-04-20 00:00:00  \n",
       "50%              2016-08-10 00:00:00  \n",
       "75%              2017-12-10 00:00:00  \n",
       "max              2018-12-31 00:00:00  \n",
       "std                              NaN  "
      ]
     },
     "execution_count": 59,
     "metadata": {},
     "output_type": "execute_result"
    }
   ],
   "source": [
    "flights[['Year', 'Quarter', 'Month', 'DayofMonth', 'DayOfWeek', 'FlightDate']].describe()"
   ]
  },
  {
   "cell_type": "markdown",
   "metadata": {},
   "source": [
    "All fields related to the date and time of the flights are correct and dont have outliers."
   ]
  },
  {
   "cell_type": "code",
   "execution_count": 60,
   "metadata": {},
   "outputs": [
    {
     "data": {
      "text/plain": [
       "Year          0\n",
       "Quarter       0\n",
       "Month         0\n",
       "DayofMonth    0\n",
       "DayOfWeek     0\n",
       "dtype: int64"
      ]
     },
     "execution_count": 60,
     "metadata": {},
     "output_type": "execute_result"
    }
   ],
   "source": [
    "flights[['Year', 'Quarter', 'Month', 'DayofMonth', 'DayOfWeek']].isna().sum()"
   ]
  },
  {
   "cell_type": "code",
   "execution_count": 61,
   "metadata": {},
   "outputs": [
    {
     "data": {
      "text/plain": [
       "array([2014, 2015, 2016, 2017, 2018], dtype=int16)"
      ]
     },
     "execution_count": 61,
     "metadata": {},
     "output_type": "execute_result"
    }
   ],
   "source": [
    "flights['Year'].unique()"
   ]
  },
  {
   "cell_type": "markdown",
   "metadata": {},
   "source": [
    "We also don't have missed data among data related to the date and time of flight."
   ]
  },
  {
   "cell_type": "markdown",
   "metadata": {},
   "source": [
    "We need to correct the actual Departure and Arrival Time fields (‘DepTime’ and ‘ArrTime’) because some entries show a time of 2400, which does not align with the scheduled time format (the maximum time is 2359). These should be adjusted to 00:00 of the next day."
   ]
  },
  {
   "cell_type": "code",
   "execution_count": 62,
   "metadata": {},
   "outputs": [],
   "source": [
    "# !!!!!! Delete before sending\n",
    "flights_etalon = flights.copy()"
   ]
  },
  {
   "cell_type": "code",
   "execution_count": 63,
   "metadata": {},
   "outputs": [
    {
     "name": "stdout",
     "output_type": "stream",
     "text": [
      "There were 15510 rows having 2400 as Departure or Arrival Time\n",
      "There are now 15510 rows having 2400 as Departure or Arrival Time\n"
     ]
    }
   ],
   "source": [
    "# Corrction of 2400 time (it works after change of dtype of datetime fields)\n",
    "\n",
    "import datetime\n",
    "time_2400_filter = (flights.ArrTime == 2400) | (flights.DepTime == 2400)\n",
    "print('There were', sum(time_2400_filter), 'rows having 2400 as Departure or Arrival Time')\n",
    "\n",
    "def fix_time_2400(df, field_name):\n",
    "    row_filter = (df[field_name] == 2400)\n",
    "    for ind in df[row_filter].index:\n",
    "        df.loc[ind, 'FlightDate'] += datetime.timedelta(days=1)\n",
    "        df.loc[ind, 'Month'] = df.loc[ind, 'FlightDate'].month\n",
    "        df.loc[ind, 'DayofMonth'] = df.loc[ind, 'FlightDate'].day\n",
    "        df.loc[ind, 'DayOfWeek'] = df.loc[ind, 'FlightDate'].weekday()\n",
    "        df.loc[ind, 'Year'] = df.loc[ind, 'FlightDate'].year\n",
    "        df.loc[ind, field_name] == 0\n",
    "    return df\n",
    "\n",
    "flights = fix_time_2400(flights, 'ArrTime')\n",
    "flights = fix_time_2400(flights, 'DepTime')\n",
    "\n",
    "print('There are now', sum(time_2400_filter), 'rows having 2400 as Departure or Arrival Time')"
   ]
  },
  {
   "cell_type": "code",
   "execution_count": 64,
   "metadata": {},
   "outputs": [],
   "source": [
    "def change_time_format(name):\n",
    "    time_array = np.array(flights[name])\n",
    "    flights[name] = (time_array // 100) * 60 + (time_array % 100)\n",
    "\n",
    "for fld_name in ['ArrTime', 'DepTime', 'CRSArrTime', 'CRSDepTime']:\n",
    "    change_time_format(fld_name)"
   ]
  },
  {
   "cell_type": "code",
   "execution_count": 65,
   "metadata": {},
   "outputs": [
    {
     "data": {
      "text/html": [
       "<div>\n",
       "<style scoped>\n",
       "    .dataframe tbody tr th:only-of-type {\n",
       "        vertical-align: middle;\n",
       "    }\n",
       "\n",
       "    .dataframe tbody tr th {\n",
       "        vertical-align: top;\n",
       "    }\n",
       "\n",
       "    .dataframe thead th {\n",
       "        text-align: right;\n",
       "    }\n",
       "</style>\n",
       "<table border=\"1\" class=\"dataframe\">\n",
       "  <thead>\n",
       "    <tr style=\"text-align: right;\">\n",
       "      <th></th>\n",
       "      <th>ArrTime</th>\n",
       "      <th>DepTime</th>\n",
       "      <th>CRSArrTime</th>\n",
       "      <th>CRSDepTime</th>\n",
       "    </tr>\n",
       "  </thead>\n",
       "  <tbody>\n",
       "    <tr>\n",
       "      <th>count</th>\n",
       "      <td>2.965071e+07</td>\n",
       "      <td>2.967964e+07</td>\n",
       "      <td>3.014462e+07</td>\n",
       "      <td>3.014462e+07</td>\n",
       "    </tr>\n",
       "    <tr>\n",
       "      <th>mean</th>\n",
       "      <td>8.960396e+02</td>\n",
       "      <td>8.126492e+02</td>\n",
       "      <td>9.066587e+02</td>\n",
       "      <td>8.082625e+02</td>\n",
       "    </tr>\n",
       "    <tr>\n",
       "      <th>std</th>\n",
       "      <td>3.095172e+02</td>\n",
       "      <td>2.959763e+02</td>\n",
       "      <td>3.062836e+02</td>\n",
       "      <td>2.919260e+02</td>\n",
       "    </tr>\n",
       "    <tr>\n",
       "      <th>min</th>\n",
       "      <td>1.000000e+00</td>\n",
       "      <td>1.000000e+00</td>\n",
       "      <td>1.000000e+00</td>\n",
       "      <td>1.000000e+00</td>\n",
       "    </tr>\n",
       "    <tr>\n",
       "      <th>25%</th>\n",
       "      <td>6.560000e+02</td>\n",
       "      <td>5.590000e+02</td>\n",
       "      <td>6.670000e+02</td>\n",
       "      <td>5.550000e+02</td>\n",
       "    </tr>\n",
       "    <tr>\n",
       "      <th>50%</th>\n",
       "      <td>9.110000e+02</td>\n",
       "      <td>8.080000e+02</td>\n",
       "      <td>9.200000e+02</td>\n",
       "      <td>8.020000e+02</td>\n",
       "    </tr>\n",
       "    <tr>\n",
       "      <th>75%</th>\n",
       "      <td>1.157000e+03</td>\n",
       "      <td>1.061000e+03</td>\n",
       "      <td>1.158000e+03</td>\n",
       "      <td>1.050000e+03</td>\n",
       "    </tr>\n",
       "    <tr>\n",
       "      <th>max</th>\n",
       "      <td>1.440000e+03</td>\n",
       "      <td>1.440000e+03</td>\n",
       "      <td>1.440000e+03</td>\n",
       "      <td>1.439000e+03</td>\n",
       "    </tr>\n",
       "  </tbody>\n",
       "</table>\n",
       "</div>"
      ],
      "text/plain": [
       "            ArrTime       DepTime    CRSArrTime    CRSDepTime\n",
       "count  2.965071e+07  2.967964e+07  3.014462e+07  3.014462e+07\n",
       "mean   8.960396e+02  8.126492e+02  9.066587e+02  8.082625e+02\n",
       "std    3.095172e+02  2.959763e+02  3.062836e+02  2.919260e+02\n",
       "min    1.000000e+00  1.000000e+00  1.000000e+00  1.000000e+00\n",
       "25%    6.560000e+02  5.590000e+02  6.670000e+02  5.550000e+02\n",
       "50%    9.110000e+02  8.080000e+02  9.200000e+02  8.020000e+02\n",
       "75%    1.157000e+03  1.061000e+03  1.158000e+03  1.050000e+03\n",
       "max    1.440000e+03  1.440000e+03  1.440000e+03  1.439000e+03"
      ]
     },
     "execution_count": 65,
     "metadata": {},
     "output_type": "execute_result"
    }
   ],
   "source": [
    "flights[['ArrTime', 'DepTime', 'CRSArrTime', 'CRSDepTime']].describe()"
   ]
  },
  {
   "cell_type": "code",
   "execution_count": 66,
   "metadata": {},
   "outputs": [
    {
     "name": "stdout",
     "output_type": "stream",
     "text": [
      "<class 'pandas.core.frame.DataFrame'>\n",
      "RangeIndex: 30144615 entries, 0 to 30144614\n",
      "Data columns (total 36 columns):\n",
      " #   Column                           Dtype         \n",
      "---  ------                           -----         \n",
      " 0   Year                             int16         \n",
      " 1   Quarter                          int8          \n",
      " 2   Month                            int8          \n",
      " 3   DayofMonth                       int8          \n",
      " 4   DayOfWeek                        int8          \n",
      " 5   FlightDate                       datetime64[ns]\n",
      " 6   Reporting_Airline                object        \n",
      " 7   Flight_Number_Reporting_Airline  int16         \n",
      " 8   OriginAirportID                  object        \n",
      " 9   Origin                           object        \n",
      " 10  DestAirportID                    object        \n",
      " 11  Dest                             object        \n",
      " 12  CRSDepTime                       int16         \n",
      " 13  DepTime                          float32       \n",
      " 14  DepDelay                         float32       \n",
      " 15  DepartureDelayGroups             category      \n",
      " 16  DepTimeBlk                       category      \n",
      " 17  CRSArrTime                       int16         \n",
      " 18  ArrTime                          float32       \n",
      " 19  ArrDelay                         float32       \n",
      " 20  ArrivalDelayGroups               category      \n",
      " 21  ArrTimeBlk                       category      \n",
      " 22  Cancelled                        bool          \n",
      " 23  CancellationCode                 object        \n",
      " 24  Diverted                         bool          \n",
      " 25  CRSElapsedTime                   float32       \n",
      " 26  ActualElapsedTime                float32       \n",
      " 27  AirTime                          float32       \n",
      " 28  CarrierDelay                     float32       \n",
      " 29  WeatherDelay                     float32       \n",
      " 30  NASDelay                         float32       \n",
      " 31  SecurityDelay                    float32       \n",
      " 32  LateAircraftDelay                float32       \n",
      " 33  DivReachedDest                   bool          \n",
      " 34  DivActualElapsedTime             float32       \n",
      " 35  DivArrDelay                      float32       \n",
      "dtypes: bool(3), category(4), datetime64[ns](1), float32(14), int16(4), int8(4), object(6)\n",
      "memory usage: 3.7+ GB\n"
     ]
    }
   ],
   "source": [
    "flights.info()"
   ]
  },
  {
   "cell_type": "code",
   "execution_count": 67,
   "metadata": {},
   "outputs": [
    {
     "data": {
      "text/plain": [
       "ArrTime       493904\n",
       "DepTime       464976\n",
       "CRSArrTime         0\n",
       "CRSDepTime         0\n",
       "dtype: int64"
      ]
     },
     "execution_count": 67,
     "metadata": {},
     "output_type": "execute_result"
    }
   ],
   "source": [
    "flights[['ArrTime', 'DepTime', 'CRSArrTime', 'CRSDepTime']].isna().sum()"
   ]
  },
  {
   "cell_type": "markdown",
   "metadata": {},
   "source": [
    "Let's examine the scheduled and actual elapsed time becuase I suppose to use them building a predictive model"
   ]
  },
  {
   "cell_type": "code",
   "execution_count": 68,
   "metadata": {},
   "outputs": [
    {
     "data": {
      "text/html": [
       "<div>\n",
       "<style scoped>\n",
       "    .dataframe tbody tr th:only-of-type {\n",
       "        vertical-align: middle;\n",
       "    }\n",
       "\n",
       "    .dataframe tbody tr th {\n",
       "        vertical-align: top;\n",
       "    }\n",
       "\n",
       "    .dataframe thead th {\n",
       "        text-align: right;\n",
       "    }\n",
       "</style>\n",
       "<table border=\"1\" class=\"dataframe\">\n",
       "  <thead>\n",
       "    <tr style=\"text-align: right;\">\n",
       "      <th></th>\n",
       "      <th>CRSElapsedTime</th>\n",
       "      <th>ActualElapsedTime</th>\n",
       "    </tr>\n",
       "  </thead>\n",
       "  <tbody>\n",
       "    <tr>\n",
       "      <th>count</th>\n",
       "      <td>3.014458e+07</td>\n",
       "      <td>2.958894e+07</td>\n",
       "    </tr>\n",
       "    <tr>\n",
       "      <th>mean</th>\n",
       "      <td>1.423408e+02</td>\n",
       "      <td>1.378260e+02</td>\n",
       "    </tr>\n",
       "    <tr>\n",
       "      <th>std</th>\n",
       "      <td>7.214629e+01</td>\n",
       "      <td>7.182362e+01</td>\n",
       "    </tr>\n",
       "    <tr>\n",
       "      <th>min</th>\n",
       "      <td>-9.900000e+01</td>\n",
       "      <td>1.400000e+01</td>\n",
       "    </tr>\n",
       "    <tr>\n",
       "      <th>25%</th>\n",
       "      <td>8.700000e+01</td>\n",
       "      <td>8.300000e+01</td>\n",
       "    </tr>\n",
       "    <tr>\n",
       "      <th>50%</th>\n",
       "      <td>1.230000e+02</td>\n",
       "      <td>1.190000e+02</td>\n",
       "    </tr>\n",
       "    <tr>\n",
       "      <th>75%</th>\n",
       "      <td>1.740000e+02</td>\n",
       "      <td>1.690000e+02</td>\n",
       "    </tr>\n",
       "    <tr>\n",
       "      <th>max</th>\n",
       "      <td>7.180000e+02</td>\n",
       "      <td>7.840000e+02</td>\n",
       "    </tr>\n",
       "  </tbody>\n",
       "</table>\n",
       "</div>"
      ],
      "text/plain": [
       "       CRSElapsedTime  ActualElapsedTime\n",
       "count    3.014458e+07       2.958894e+07\n",
       "mean     1.423408e+02       1.378260e+02\n",
       "std      7.214629e+01       7.182362e+01\n",
       "min     -9.900000e+01       1.400000e+01\n",
       "25%      8.700000e+01       8.300000e+01\n",
       "50%      1.230000e+02       1.190000e+02\n",
       "75%      1.740000e+02       1.690000e+02\n",
       "max      7.180000e+02       7.840000e+02"
      ]
     },
     "execution_count": 68,
     "metadata": {},
     "output_type": "execute_result"
    }
   ],
   "source": [
    "flights[['CRSElapsedTime', 'ActualElapsedTime']].describe()"
   ]
  },
  {
   "cell_type": "code",
   "execution_count": 69,
   "metadata": {},
   "outputs": [],
   "source": [
    "# Analysis of difference between 'ActualElapsedTime' and 'CRSElapsedTime'\n",
    "flights['ElapsedTimeDiff'] = flights['ActualElapsedTime'] - flights['CRSElapsedTime']"
   ]
  },
  {
   "cell_type": "code",
   "execution_count": 1,
   "metadata": {},
   "outputs": [
    {
     "ename": "NameError",
     "evalue": "name 'flights' is not defined",
     "output_type": "error",
     "traceback": [
      "\u001b[0;31m---------------------------------------------------------------------------\u001b[0m",
      "\u001b[0;31mNameError\u001b[0m                                 Traceback (most recent call last)",
      "Cell \u001b[0;32mIn[1], line 6\u001b[0m\n\u001b[1;32m      3\u001b[0m \u001b[38;5;28;01mimport\u001b[39;00m \u001b[38;5;21;01mnumpy\u001b[39;00m \u001b[38;5;28;01mas\u001b[39;00m \u001b[38;5;21;01mnp\u001b[39;00m\n\u001b[1;32m      5\u001b[0m rng \u001b[38;5;241m=\u001b[39m np\u001b[38;5;241m.\u001b[39mrandom\u001b[38;5;241m.\u001b[39mdefault_rng(\u001b[38;5;241m18\u001b[39m)\n\u001b[0;32m----> 6\u001b[0m gauss_distr \u001b[38;5;241m=\u001b[39m rng\u001b[38;5;241m.\u001b[39mnormal(flights[\u001b[38;5;124m'\u001b[39m\u001b[38;5;124mElapsedTimeDiff\u001b[39m\u001b[38;5;124m'\u001b[39m]\u001b[38;5;241m.\u001b[39mmean(),\n\u001b[1;32m      7\u001b[0m                         flights[\u001b[38;5;124m'\u001b[39m\u001b[38;5;124mElapsedTimeDiff\u001b[39m\u001b[38;5;124m'\u001b[39m]\u001b[38;5;241m.\u001b[39mstd(),\n\u001b[1;32m      8\u001b[0m                         size\u001b[38;5;241m=\u001b[39m\u001b[38;5;241m1000000\u001b[39m)\n\u001b[1;32m     10\u001b[0m bins \u001b[38;5;241m=\u001b[39m np\u001b[38;5;241m.\u001b[39marange(\u001b[38;5;241m-\u001b[39m\u001b[38;5;241m50\u001b[39m,\u001b[38;5;241m50\u001b[39m)\n\u001b[1;32m     12\u001b[0m ElapsedTimeDiff_distrebution \u001b[38;5;241m=\u001b[39m flights[\u001b[38;5;241m~\u001b[39mflights[\u001b[38;5;124m'\u001b[39m\u001b[38;5;124mElapsedTimeDiff\u001b[39m\u001b[38;5;124m'\u001b[39m]\u001b[38;5;241m.\u001b[39misna()][\u001b[38;5;124m'\u001b[39m\u001b[38;5;124mElapsedTimeDiff\u001b[39m\u001b[38;5;124m'\u001b[39m]\n",
      "\u001b[0;31mNameError\u001b[0m: name 'flights' is not defined"
     ]
    }
   ],
   "source": [
    "import seaborn as sns\n",
    "import matplotlib.pyplot as plt\n",
    "import numpy as np\n",
    "\n",
    "rng = np.random.default_rng(18)\n",
    "gauss_distr = rng.normal(flights['ElapsedTimeDiff'].mean(),\n",
    "                        flights['ElapsedTimeDiff'].std(),\n",
    "                        size=1000000)\n",
    "\n",
    "bins = np.arange(-50,50)\n",
    "\n",
    "ElapsedTimeDiff_distrebution = flights[~flights['ElapsedTimeDiff'].isna()]['ElapsedTimeDiff']\n",
    "plt.hist(ElapsedTimeDiff_distrebution, bins=bins, density=True)\n",
    "plt.hist(gauss_distr, histtype='step', bins=bins, color='r', density=True)\n",
    "plt.xlim(-50,50)\n",
    "plt.show()\n"
   ]
  },
  {
   "cell_type": "code",
   "execution_count": 169,
   "metadata": {},
   "outputs": [
    {
     "name": "stdout",
     "output_type": "stream",
     "text": [
      "Mean difference between scheduled and actual time -4.73\n",
      "Standard deviation of the difference 12.57\n"
     ]
    }
   ],
   "source": [
    "print('Mean difference between scheduled and actual time', round(flights['ElapsedTimeDiff'].mean(), 2))\n",
    "print('Standard deviation of the difference', round(flights['ElapsedTimeDiff'].std(), 2))"
   ]
  },
  {
   "cell_type": "markdown",
   "metadata": {},
   "source": [
    "The diffence between acheduled and actual elapsed time is normally distribute, In average the actual elapsed time less than the scheduled (-4.73 min). However, this is the duration of the flight and not a arrival time."
   ]
  },
  {
   "cell_type": "markdown",
   "metadata": {},
   "source": [
    "It is interesting to examine the most negative values of the difference between scheduled and actual elapsed time: how shorter the actual duration of flight can be against its scheduled duration?"
   ]
  },
  {
   "cell_type": "code",
   "execution_count": 170,
   "metadata": {},
   "outputs": [
    {
     "data": {
      "text/plain": [
       "nan"
      ]
     },
     "execution_count": 170,
     "metadata": {},
     "output_type": "execute_result"
    }
   ],
   "source": [
    "np.percentile(flights['ElapsedTimeDiff'], 25)"
   ]
  },
  {
   "cell_type": "code",
   "execution_count": 124,
   "metadata": {},
   "outputs": [
    {
     "data": {
      "text/plain": [
       "count    2.958894e+07\n",
       "mean    -4.733736e+00\n",
       "std      1.256599e+01\n",
       "min     -2.500000e+02\n",
       "25%     -1.200000e+01\n",
       "50%     -6.000000e+00\n",
       "75%      1.000000e+00\n",
       "max      4.850000e+02\n",
       "Name: ElapsedTimeDiff, dtype: float64"
      ]
     },
     "execution_count": 124,
     "metadata": {},
     "output_type": "execute_result"
    }
   ],
   "source": [
    "flights['ElapsedTimeDiff'].describe()"
   ]
  },
  {
   "cell_type": "markdown",
   "metadata": {},
   "source": [
    "Interesting!!!! Some flights lasted 250 minutes less than they were scheduled!!! Is it possiblethat these data can be wrong?"
   ]
  },
  {
   "cell_type": "markdown",
   "metadata": {},
   "source": [
    "How many flights did arrive more than 30 minutes earlier?"
   ]
  },
  {
   "cell_type": "code",
   "execution_count": 125,
   "metadata": {},
   "outputs": [
    {
     "name": "stdout",
     "output_type": "stream",
     "text": [
      "         Origin Dest  ActualElapsedTime  CRSElapsedTime  ElapsedTimeDiff\n",
      "21568647    SBP  SFO               52.0           302.0           -250.0\n",
      "26994453    DFW  LGA              207.0           431.0           -224.0\n",
      "10814398    SAN  SFO               84.0           285.0           -201.0\n",
      "24791714    PSP  SLC               93.0           290.0           -197.0\n",
      "24184719    MKE  DTW               76.0           253.0           -177.0\n",
      "26995623    LGA  IAH              220.0           395.0           -175.0\n",
      "27731190    ORD  DCA              117.0           239.0           -122.0\n",
      "12973578    SFO  BOS              334.0           456.0           -122.0\n",
      "3885970     DEN  ANC              210.0           330.0           -120.0\n",
      "27060967    SLN  HYS               44.0           161.0           -117.0\n",
      "In 2014-2018 there were 428500 flight arrived earlier for more than 30 minutes ( 1.42 %)\n"
     ]
    }
   ],
   "source": [
    "actual_time_less_than_CRRS = flights['ElapsedTimeDiff'] < -30\n",
    "print(flights[actual_time_less_than_CRRS][['Origin', 'Dest','ActualElapsedTime', 'CRSElapsedTime', 'ElapsedTimeDiff']].sort_values('ElapsedTimeDiff', ascending=True).head(10))\n",
    "print('In 2014-2018 there were', flights[actual_time_less_than_CRRS]['Flight_Number_Reporting_Airline'].count(), \n",
    "      'flight arrived earlier for more than 30 minutes (', \n",
    "      round(flights[actual_time_less_than_CRRS]['Flight_Number_Reporting_Airline'].count() / len(flights) * 100, 2),\n",
    "      '%)')"
   ]
  },
  {
   "cell_type": "code",
   "execution_count": 144,
   "metadata": {},
   "outputs": [
    {
     "name": "stdout",
     "output_type": "stream",
     "text": [
      "Year                                2017\n",
      "Quarter                                4\n",
      "Month                                 10\n",
      "DayofMonth                             9\n",
      "DayOfWeek                              1\n",
      "FlightDate           2017-10-09 00:00:00\n",
      "Origin                               SBP\n",
      "Dest                                 SFO\n",
      "CRSDepTime                           535\n",
      "CRSArrTime                           837\n",
      "DepTime                            775.0\n",
      "ArrTime                            827.0\n",
      "CRSElapsedTime                     302.0\n",
      "ActualElapsedTime                   52.0\n",
      "AirTime                             35.0\n",
      "Name: 21568647, dtype: object\n",
      "Flight number: 5028\n"
     ]
    }
   ],
   "source": [
    "# Details for the flight ind = 21568647 which has the most significant difference between scheduled and actual \n",
    "# elapsed times\n",
    "data_details = ['Year', 'Quarter', 'Month', 'DayofMonth', 'DayOfWeek', 'FlightDate']\n",
    "route_details = ['Origin', 'Dest']\n",
    "DepArr_details = ['CRSDepTime', 'CRSArrTime', 'DepTime', 'ArrTime']\n",
    "\n",
    "print(flights.iloc[21568647][data_details + route_details + DepArr_details + elapsed_time_fields])\n",
    "print('Flight number:', flights.iloc[21568647]['Flight_Number_Reporting_Airline'])"
   ]
  },
  {
   "cell_type": "markdown",
   "metadata": {},
   "source": [
    "It seems strange that this flight was scheduled with 302 min of elapsed time (more then 5 hours!!!), because according to Google [search](https://www.google.com/maps/dir/SBP,+Airport+Drive,+San+Luis+Obispo,+CA,+USA/San+Francisco+International+Airport+(SFO),+San+Francisco,+CA,+USA/@36.4210897,-122.8306609,8z/data=!3m1!4b1!4m14!4m13!1m5!1m1!1s0x80ecf6bf3876b9f1:0xf486acd07a0f3bd2!2m2!1d-120.6420121!2d35.2375699!1m5!1m1!1s0x808f778c55555555:0xa4f25c571acded3f!2m2!1d-122.3816274!2d37.6191145!3e4?entry=ttu&g_ep=EgoyMDI0MTAwMi4xIKXMDSoASAFQAw%3D%3D) shows that these airports are quite close to each other and estimated the direct flight time as 1h 5min, which is more close to the acctual elapsed time"
   ]
  },
  {
   "cell_type": "code",
   "execution_count": 134,
   "metadata": {},
   "outputs": [
    {
     "name": "stdout",
     "output_type": "stream",
     "text": [
      "Year                                2018\n",
      "Quarter                                3\n",
      "Month                                  7\n",
      "DayofMonth                            25\n",
      "DayOfWeek                              3\n",
      "FlightDate           2018-07-25 00:00:00\n",
      "Origin                               DFW\n",
      "Dest                                 LGA\n",
      "CRSDepTime                          1084\n",
      "CRSArrTime                           135\n",
      "DepTime                            564.0\n",
      "ArrTime                            831.0\n",
      "CRSElapsedTime                     431.0\n",
      "ActualElapsedTime                  207.0\n",
      "AirTime                            182.0\n",
      "Name: 26994453, dtype: object\n",
      "5935\n"
     ]
    }
   ],
   "source": [
    "# Details for the flight ind = 26994453 which has the second most significant difference between scheduled and actual \n",
    "# elapsed times\n",
    "print(flights.iloc[26994453][data_details + route_details + DepArr_details + elapsed_time_fields])\n",
    "print('Flight number:', flights.iloc[26994453]['Flight_Number_Reporting_Airline'])\n"
   ]
  },
  {
   "cell_type": "markdown",
   "metadata": {},
   "source": [
    "The second most differing flight has the same story: Google [search](https://www.google.com/maps/dir/LaGuardia+Airport+(LGA),+East+Elmhurst,+NY,+USA/Dallas+Fort+Worth+International+Airport+(DFW),+2400+Aviation+Dr,+Dallas,+TX+75261,+United+States/@36.3681193,-96.0279203,5z/data=!3m1!4b1!4m14!4m13!1m5!1m1!1s0x89c25f8983424db5:0x772fc4660e9666b3!2m2!1d-73.8742467!2d40.7766422!1m5!1m1!1s0x864c2a660d222aa7:0x73323f5e067d201c!2m2!1d-97.0335765!2d32.8990434!3e4?entry=ttu&g_ep=EgoyMDI0MTAwMi4xIKXMDSoASAFQAw%3D%3D) shows the estimated time of the direct flight 3h 40m which again closer to the actual elapsed time and far away from scheduled 431 min - more than 7h!"
   ]
  },
  {
   "cell_type": "code",
   "execution_count": 145,
   "metadata": {},
   "outputs": [
    {
     "data": {
      "text/html": [
       "<div>\n",
       "<style scoped>\n",
       "    .dataframe tbody tr th:only-of-type {\n",
       "        vertical-align: middle;\n",
       "    }\n",
       "\n",
       "    .dataframe tbody tr th {\n",
       "        vertical-align: top;\n",
       "    }\n",
       "\n",
       "    .dataframe thead th {\n",
       "        text-align: right;\n",
       "    }\n",
       "</style>\n",
       "<table border=\"1\" class=\"dataframe\">\n",
       "  <thead>\n",
       "    <tr style=\"text-align: right;\">\n",
       "      <th></th>\n",
       "      <th>Year</th>\n",
       "      <th>Quarter</th>\n",
       "      <th>Month</th>\n",
       "      <th>DayofMonth</th>\n",
       "      <th>DayOfWeek</th>\n",
       "      <th>FlightDate</th>\n",
       "      <th>Reporting_Airline</th>\n",
       "      <th>DOT_ID_Reporting_Airline</th>\n",
       "      <th>IATA_CODE_Reporting_Airline</th>\n",
       "      <th>Tail_Number</th>\n",
       "      <th>Flight_Number_Reporting_Airline</th>\n",
       "      <th>OriginAirportID</th>\n",
       "      <th>OriginAirportSeqID</th>\n",
       "      <th>OriginCityMarketID</th>\n",
       "      <th>Origin</th>\n",
       "      <th>OriginCityName</th>\n",
       "      <th>OriginState</th>\n",
       "      <th>OriginStateFips</th>\n",
       "      <th>OriginStateName</th>\n",
       "      <th>OriginWac</th>\n",
       "      <th>DestAirportID</th>\n",
       "      <th>DestAirportSeqID</th>\n",
       "      <th>DestCityMarketID</th>\n",
       "      <th>Dest</th>\n",
       "      <th>DestCityName</th>\n",
       "      <th>DestState</th>\n",
       "      <th>DestStateFips</th>\n",
       "      <th>DestStateName</th>\n",
       "      <th>DestWac</th>\n",
       "      <th>CRSDepTime</th>\n",
       "      <th>DepTime</th>\n",
       "      <th>DepDelay</th>\n",
       "      <th>DepDelayMinutes</th>\n",
       "      <th>DepDel15</th>\n",
       "      <th>DepartureDelayGroups</th>\n",
       "      <th>DepTimeBlk</th>\n",
       "      <th>TaxiOut</th>\n",
       "      <th>WheelsOff</th>\n",
       "      <th>WheelsOn</th>\n",
       "      <th>TaxiIn</th>\n",
       "      <th>CRSArrTime</th>\n",
       "      <th>ArrTime</th>\n",
       "      <th>ArrDelay</th>\n",
       "      <th>ArrDelayMinutes</th>\n",
       "      <th>ArrDel15</th>\n",
       "      <th>ArrivalDelayGroups</th>\n",
       "      <th>ArrTimeBlk</th>\n",
       "      <th>Cancelled</th>\n",
       "      <th>CancellationCode</th>\n",
       "      <th>Diverted</th>\n",
       "      <th>CRSElapsedTime</th>\n",
       "      <th>ActualElapsedTime</th>\n",
       "      <th>AirTime</th>\n",
       "      <th>Flights</th>\n",
       "      <th>Distance</th>\n",
       "      <th>DistanceGroup</th>\n",
       "      <th>CarrierDelay</th>\n",
       "      <th>WeatherDelay</th>\n",
       "      <th>NASDelay</th>\n",
       "      <th>SecurityDelay</th>\n",
       "      <th>LateAircraftDelay</th>\n",
       "      <th>FirstDepTime</th>\n",
       "      <th>TotalAddGTime</th>\n",
       "      <th>LongestAddGTime</th>\n",
       "      <th>DivAirportLandings</th>\n",
       "      <th>DivReachedDest</th>\n",
       "      <th>DivActualElapsedTime</th>\n",
       "      <th>DivArrDelay</th>\n",
       "      <th>DivDistance</th>\n",
       "      <th>Div1Airport</th>\n",
       "      <th>Div1AirportID</th>\n",
       "      <th>Div1AirportSeqID</th>\n",
       "      <th>Div1WheelsOn</th>\n",
       "      <th>Div1TotalGTime</th>\n",
       "      <th>Div1LongestGTime</th>\n",
       "      <th>Div1WheelsOff</th>\n",
       "      <th>Div1TailNum</th>\n",
       "      <th>Div2Airport</th>\n",
       "      <th>Div2AirportID</th>\n",
       "      <th>Div2AirportSeqID</th>\n",
       "      <th>Div2WheelsOn</th>\n",
       "      <th>Div2TotalGTime</th>\n",
       "      <th>Div2LongestGTime</th>\n",
       "      <th>Div2WheelsOff</th>\n",
       "      <th>Div2TailNum</th>\n",
       "      <th>Div3Airport</th>\n",
       "      <th>Div3AirportID</th>\n",
       "      <th>Div3AirportSeqID</th>\n",
       "      <th>Div3WheelsOn</th>\n",
       "      <th>Div3TotalGTime</th>\n",
       "      <th>Div3LongestGTime</th>\n",
       "      <th>Div3WheelsOff</th>\n",
       "      <th>Div3TailNum</th>\n",
       "      <th>Div4Airport</th>\n",
       "      <th>Div4AirportID</th>\n",
       "      <th>Div4AirportSeqID</th>\n",
       "      <th>Div4WheelsOn</th>\n",
       "      <th>Div4TotalGTime</th>\n",
       "      <th>Div4LongestGTime</th>\n",
       "      <th>Div4WheelsOff</th>\n",
       "      <th>Div4TailNum</th>\n",
       "      <th>Div5Airport</th>\n",
       "      <th>Div5AirportID</th>\n",
       "      <th>Div5AirportSeqID</th>\n",
       "      <th>Div5WheelsOn</th>\n",
       "      <th>Div5TotalGTime</th>\n",
       "      <th>Div5LongestGTime</th>\n",
       "      <th>Div5WheelsOff</th>\n",
       "      <th>Div5TailNum</th>\n",
       "      <th>Unnamed: 109</th>\n",
       "    </tr>\n",
       "  </thead>\n",
       "  <tbody>\n",
       "    <tr>\n",
       "      <th>35642</th>\n",
       "      <td>2017</td>\n",
       "      <td>4</td>\n",
       "      <td>10</td>\n",
       "      <td>9</td>\n",
       "      <td>1</td>\n",
       "      <td>2017-10-09</td>\n",
       "      <td>OO</td>\n",
       "      <td>20304</td>\n",
       "      <td>OO</td>\n",
       "      <td>N952SW</td>\n",
       "      <td>5028</td>\n",
       "      <td>14698</td>\n",
       "      <td>1469802</td>\n",
       "      <td>34236</td>\n",
       "      <td>SBP</td>\n",
       "      <td>San Luis Obispo, CA</td>\n",
       "      <td>CA</td>\n",
       "      <td>6</td>\n",
       "      <td>California</td>\n",
       "      <td>91</td>\n",
       "      <td>14771</td>\n",
       "      <td>1477102</td>\n",
       "      <td>32457</td>\n",
       "      <td>SFO</td>\n",
       "      <td>San Francisco, CA</td>\n",
       "      <td>CA</td>\n",
       "      <td>6</td>\n",
       "      <td>California</td>\n",
       "      <td>91</td>\n",
       "      <td>855</td>\n",
       "      <td>1255.0</td>\n",
       "      <td>240.0</td>\n",
       "      <td>240.0</td>\n",
       "      <td>1.0</td>\n",
       "      <td>12.0</td>\n",
       "      <td>0800-0859</td>\n",
       "      <td>13.0</td>\n",
       "      <td>1308.0</td>\n",
       "      <td>1343.0</td>\n",
       "      <td>4.0</td>\n",
       "      <td>1357</td>\n",
       "      <td>1347.0</td>\n",
       "      <td>-10.0</td>\n",
       "      <td>0.0</td>\n",
       "      <td>0.0</td>\n",
       "      <td>-1.0</td>\n",
       "      <td>1300-1359</td>\n",
       "      <td>False</td>\n",
       "      <td>NaN</td>\n",
       "      <td>False</td>\n",
       "      <td>302.0</td>\n",
       "      <td>52.0</td>\n",
       "      <td>35.0</td>\n",
       "      <td>1.0</td>\n",
       "      <td>190.0</td>\n",
       "      <td>1</td>\n",
       "      <td>NaN</td>\n",
       "      <td>NaN</td>\n",
       "      <td>NaN</td>\n",
       "      <td>NaN</td>\n",
       "      <td>NaN</td>\n",
       "      <td>NaN</td>\n",
       "      <td>NaN</td>\n",
       "      <td>NaN</td>\n",
       "      <td>0</td>\n",
       "      <td>False</td>\n",
       "      <td>NaN</td>\n",
       "      <td>NaN</td>\n",
       "      <td>NaN</td>\n",
       "      <td>NaN</td>\n",
       "      <td>NaN</td>\n",
       "      <td>NaN</td>\n",
       "      <td>NaN</td>\n",
       "      <td>NaN</td>\n",
       "      <td>NaN</td>\n",
       "      <td>NaN</td>\n",
       "      <td>NaN</td>\n",
       "      <td>NaN</td>\n",
       "      <td>NaN</td>\n",
       "      <td>NaN</td>\n",
       "      <td>NaN</td>\n",
       "      <td>NaN</td>\n",
       "      <td>NaN</td>\n",
       "      <td>NaN</td>\n",
       "      <td>NaN</td>\n",
       "      <td>NaN</td>\n",
       "      <td>NaN</td>\n",
       "      <td>NaN</td>\n",
       "      <td>NaN</td>\n",
       "      <td>NaN</td>\n",
       "      <td>NaN</td>\n",
       "      <td>NaN</td>\n",
       "      <td>NaN</td>\n",
       "      <td>NaN</td>\n",
       "      <td>NaN</td>\n",
       "      <td>NaN</td>\n",
       "      <td>NaN</td>\n",
       "      <td>NaN</td>\n",
       "      <td>NaN</td>\n",
       "      <td>NaN</td>\n",
       "      <td>NaN</td>\n",
       "      <td>NaN</td>\n",
       "      <td>NaN</td>\n",
       "      <td>NaN</td>\n",
       "      <td>NaN</td>\n",
       "      <td>NaN</td>\n",
       "      <td>NaN</td>\n",
       "      <td>NaN</td>\n",
       "      <td>NaN</td>\n",
       "      <td>NaN</td>\n",
       "    </tr>\n",
       "  </tbody>\n",
       "</table>\n",
       "</div>"
      ],
      "text/plain": [
       "       Year  Quarter  Month  DayofMonth  DayOfWeek FlightDate  \\\n",
       "35642  2017        4     10           9          1 2017-10-09   \n",
       "\n",
       "      Reporting_Airline  DOT_ID_Reporting_Airline IATA_CODE_Reporting_Airline  \\\n",
       "35642                OO                     20304                          OO   \n",
       "\n",
       "      Tail_Number  Flight_Number_Reporting_Airline  OriginAirportID  \\\n",
       "35642      N952SW                             5028            14698   \n",
       "\n",
       "       OriginAirportSeqID  OriginCityMarketID Origin       OriginCityName  \\\n",
       "35642             1469802               34236    SBP  San Luis Obispo, CA   \n",
       "\n",
       "      OriginState  OriginStateFips OriginStateName  OriginWac  DestAirportID  \\\n",
       "35642          CA                6      California         91          14771   \n",
       "\n",
       "       DestAirportSeqID  DestCityMarketID Dest       DestCityName DestState  \\\n",
       "35642           1477102             32457  SFO  San Francisco, CA        CA   \n",
       "\n",
       "       DestStateFips DestStateName  DestWac  CRSDepTime  DepTime  DepDelay  \\\n",
       "35642              6    California       91         855   1255.0     240.0   \n",
       "\n",
       "       DepDelayMinutes  DepDel15  DepartureDelayGroups DepTimeBlk  TaxiOut  \\\n",
       "35642            240.0       1.0                  12.0  0800-0859     13.0   \n",
       "\n",
       "       WheelsOff  WheelsOn  TaxiIn  CRSArrTime  ArrTime  ArrDelay  \\\n",
       "35642     1308.0    1343.0     4.0        1357   1347.0     -10.0   \n",
       "\n",
       "       ArrDelayMinutes  ArrDel15  ArrivalDelayGroups ArrTimeBlk  Cancelled  \\\n",
       "35642              0.0       0.0                -1.0  1300-1359      False   \n",
       "\n",
       "      CancellationCode  Diverted  CRSElapsedTime  ActualElapsedTime  AirTime  \\\n",
       "35642              NaN     False           302.0               52.0     35.0   \n",
       "\n",
       "       Flights  Distance  DistanceGroup  CarrierDelay  WeatherDelay  NASDelay  \\\n",
       "35642      1.0     190.0              1           NaN           NaN       NaN   \n",
       "\n",
       "       SecurityDelay  LateAircraftDelay  FirstDepTime  TotalAddGTime  \\\n",
       "35642            NaN                NaN           NaN            NaN   \n",
       "\n",
       "       LongestAddGTime  DivAirportLandings  DivReachedDest  \\\n",
       "35642              NaN                   0           False   \n",
       "\n",
       "       DivActualElapsedTime  DivArrDelay  DivDistance Div1Airport  \\\n",
       "35642                   NaN          NaN          NaN         NaN   \n",
       "\n",
       "       Div1AirportID  Div1AirportSeqID  Div1WheelsOn  Div1TotalGTime  \\\n",
       "35642            NaN               NaN           NaN             NaN   \n",
       "\n",
       "       Div1LongestGTime  Div1WheelsOff Div1TailNum Div2Airport  Div2AirportID  \\\n",
       "35642               NaN            NaN         NaN         NaN            NaN   \n",
       "\n",
       "       Div2AirportSeqID  Div2WheelsOn  Div2TotalGTime  Div2LongestGTime  \\\n",
       "35642               NaN           NaN             NaN               NaN   \n",
       "\n",
       "       Div2WheelsOff Div2TailNum  Div3Airport  Div3AirportID  \\\n",
       "35642            NaN         NaN          NaN            NaN   \n",
       "\n",
       "       Div3AirportSeqID  Div3WheelsOn  Div3TotalGTime  Div3LongestGTime  \\\n",
       "35642               NaN           NaN             NaN               NaN   \n",
       "\n",
       "       Div3WheelsOff  Div3TailNum  Div4Airport  Div4AirportID  \\\n",
       "35642            NaN          NaN          NaN            NaN   \n",
       "\n",
       "       Div4AirportSeqID  Div4WheelsOn  Div4TotalGTime  Div4LongestGTime  \\\n",
       "35642               NaN           NaN             NaN               NaN   \n",
       "\n",
       "       Div4WheelsOff  Div4TailNum  Div5Airport  Div5AirportID  \\\n",
       "35642            NaN          NaN          NaN            NaN   \n",
       "\n",
       "       Div5AirportSeqID  Div5WheelsOn  Div5TotalGTime  Div5LongestGTime  \\\n",
       "35642               NaN           NaN             NaN               NaN   \n",
       "\n",
       "       Div5WheelsOff  Div5TailNum  Unnamed: 109  \n",
       "35642            NaN          NaN           NaN  "
      ]
     },
     "execution_count": 145,
     "metadata": {},
     "output_type": "execute_result"
    }
   ],
   "source": [
    "_fl = transform_data_from(source_zip, source_path + '2017_10.csv')\n",
    "_fl[(_fl['Flight_Number_Reporting_Airline'] == 5028) \n",
    "    & (_fl['DayofMonth'] == 9) \n",
    "    & (_fl['Origin'] == 'SBP')\n",
    "    & (_fl['Dest'] == 'SFO')]"
   ]
  },
  {
   "cell_type": "code",
   "execution_count": 146,
   "metadata": {},
   "outputs": [
    {
     "data": {
      "text/html": [
       "<div>\n",
       "<style scoped>\n",
       "    .dataframe tbody tr th:only-of-type {\n",
       "        vertical-align: middle;\n",
       "    }\n",
       "\n",
       "    .dataframe tbody tr th {\n",
       "        vertical-align: top;\n",
       "    }\n",
       "\n",
       "    .dataframe thead th {\n",
       "        text-align: right;\n",
       "    }\n",
       "</style>\n",
       "<table border=\"1\" class=\"dataframe\">\n",
       "  <thead>\n",
       "    <tr style=\"text-align: right;\">\n",
       "      <th></th>\n",
       "      <th>Year</th>\n",
       "      <th>Quarter</th>\n",
       "      <th>Month</th>\n",
       "      <th>DayofMonth</th>\n",
       "      <th>DayOfWeek</th>\n",
       "      <th>FlightDate</th>\n",
       "      <th>Reporting_Airline</th>\n",
       "      <th>DOT_ID_Reporting_Airline</th>\n",
       "      <th>IATA_CODE_Reporting_Airline</th>\n",
       "      <th>Tail_Number</th>\n",
       "      <th>Flight_Number_Reporting_Airline</th>\n",
       "      <th>OriginAirportID</th>\n",
       "      <th>OriginAirportSeqID</th>\n",
       "      <th>OriginCityMarketID</th>\n",
       "      <th>Origin</th>\n",
       "      <th>OriginCityName</th>\n",
       "      <th>OriginState</th>\n",
       "      <th>OriginStateFips</th>\n",
       "      <th>OriginStateName</th>\n",
       "      <th>OriginWac</th>\n",
       "      <th>DestAirportID</th>\n",
       "      <th>DestAirportSeqID</th>\n",
       "      <th>DestCityMarketID</th>\n",
       "      <th>Dest</th>\n",
       "      <th>DestCityName</th>\n",
       "      <th>DestState</th>\n",
       "      <th>DestStateFips</th>\n",
       "      <th>DestStateName</th>\n",
       "      <th>DestWac</th>\n",
       "      <th>CRSDepTime</th>\n",
       "      <th>DepTime</th>\n",
       "      <th>DepDelay</th>\n",
       "      <th>DepDelayMinutes</th>\n",
       "      <th>DepDel15</th>\n",
       "      <th>DepartureDelayGroups</th>\n",
       "      <th>DepTimeBlk</th>\n",
       "      <th>TaxiOut</th>\n",
       "      <th>WheelsOff</th>\n",
       "      <th>WheelsOn</th>\n",
       "      <th>TaxiIn</th>\n",
       "      <th>CRSArrTime</th>\n",
       "      <th>ArrTime</th>\n",
       "      <th>ArrDelay</th>\n",
       "      <th>ArrDelayMinutes</th>\n",
       "      <th>ArrDel15</th>\n",
       "      <th>ArrivalDelayGroups</th>\n",
       "      <th>ArrTimeBlk</th>\n",
       "      <th>Cancelled</th>\n",
       "      <th>CancellationCode</th>\n",
       "      <th>Diverted</th>\n",
       "      <th>CRSElapsedTime</th>\n",
       "      <th>ActualElapsedTime</th>\n",
       "      <th>AirTime</th>\n",
       "      <th>Flights</th>\n",
       "      <th>Distance</th>\n",
       "      <th>DistanceGroup</th>\n",
       "      <th>CarrierDelay</th>\n",
       "      <th>WeatherDelay</th>\n",
       "      <th>NASDelay</th>\n",
       "      <th>SecurityDelay</th>\n",
       "      <th>LateAircraftDelay</th>\n",
       "      <th>FirstDepTime</th>\n",
       "      <th>TotalAddGTime</th>\n",
       "      <th>LongestAddGTime</th>\n",
       "      <th>DivAirportLandings</th>\n",
       "      <th>DivReachedDest</th>\n",
       "      <th>DivActualElapsedTime</th>\n",
       "      <th>DivArrDelay</th>\n",
       "      <th>DivDistance</th>\n",
       "      <th>Div1Airport</th>\n",
       "      <th>Div1AirportID</th>\n",
       "      <th>Div1AirportSeqID</th>\n",
       "      <th>Div1WheelsOn</th>\n",
       "      <th>Div1TotalGTime</th>\n",
       "      <th>Div1LongestGTime</th>\n",
       "      <th>Div1WheelsOff</th>\n",
       "      <th>Div1TailNum</th>\n",
       "      <th>Div2Airport</th>\n",
       "      <th>Div2AirportID</th>\n",
       "      <th>Div2AirportSeqID</th>\n",
       "      <th>Div2WheelsOn</th>\n",
       "      <th>Div2TotalGTime</th>\n",
       "      <th>Div2LongestGTime</th>\n",
       "      <th>Div2WheelsOff</th>\n",
       "      <th>Div2TailNum</th>\n",
       "      <th>Div3Airport</th>\n",
       "      <th>Div3AirportID</th>\n",
       "      <th>Div3AirportSeqID</th>\n",
       "      <th>Div3WheelsOn</th>\n",
       "      <th>Div3TotalGTime</th>\n",
       "      <th>Div3LongestGTime</th>\n",
       "      <th>Div3WheelsOff</th>\n",
       "      <th>Div3TailNum</th>\n",
       "      <th>Div4Airport</th>\n",
       "      <th>Div4AirportID</th>\n",
       "      <th>Div4AirportSeqID</th>\n",
       "      <th>Div4WheelsOn</th>\n",
       "      <th>Div4TotalGTime</th>\n",
       "      <th>Div4LongestGTime</th>\n",
       "      <th>Div4WheelsOff</th>\n",
       "      <th>Div4TailNum</th>\n",
       "      <th>Div5Airport</th>\n",
       "      <th>Div5AirportID</th>\n",
       "      <th>Div5AirportSeqID</th>\n",
       "      <th>Div5WheelsOn</th>\n",
       "      <th>Div5TotalGTime</th>\n",
       "      <th>Div5LongestGTime</th>\n",
       "      <th>Div5WheelsOff</th>\n",
       "      <th>Div5TailNum</th>\n",
       "      <th>Unnamed: 109</th>\n",
       "    </tr>\n",
       "  </thead>\n",
       "  <tbody>\n",
       "    <tr>\n",
       "      <th>521680</th>\n",
       "      <td>2018</td>\n",
       "      <td>3</td>\n",
       "      <td>7</td>\n",
       "      <td>25</td>\n",
       "      <td>3</td>\n",
       "      <td>2018-07-25</td>\n",
       "      <td>YX</td>\n",
       "      <td>20452</td>\n",
       "      <td>YX</td>\n",
       "      <td>N874RW</td>\n",
       "      <td>5935</td>\n",
       "      <td>11298</td>\n",
       "      <td>1129806</td>\n",
       "      <td>30194</td>\n",
       "      <td>DFW</td>\n",
       "      <td>Dallas/Fort Worth, TX</td>\n",
       "      <td>TX</td>\n",
       "      <td>48</td>\n",
       "      <td>Texas</td>\n",
       "      <td>74</td>\n",
       "      <td>12953</td>\n",
       "      <td>1295304</td>\n",
       "      <td>31703</td>\n",
       "      <td>LGA</td>\n",
       "      <td>New York, NY</td>\n",
       "      <td>NY</td>\n",
       "      <td>36</td>\n",
       "      <td>New York</td>\n",
       "      <td>22</td>\n",
       "      <td>1804</td>\n",
       "      <td>924.0</td>\n",
       "      <td>920.0</td>\n",
       "      <td>920.0</td>\n",
       "      <td>1.0</td>\n",
       "      <td>12.0</td>\n",
       "      <td>1800-1859</td>\n",
       "      <td>20.0</td>\n",
       "      <td>944.0</td>\n",
       "      <td>1346.0</td>\n",
       "      <td>5.0</td>\n",
       "      <td>215</td>\n",
       "      <td>1351.0</td>\n",
       "      <td>696.0</td>\n",
       "      <td>696.0</td>\n",
       "      <td>1.0</td>\n",
       "      <td>12.0</td>\n",
       "      <td>0001-0559</td>\n",
       "      <td>False</td>\n",
       "      <td>NaN</td>\n",
       "      <td>False</td>\n",
       "      <td>431.0</td>\n",
       "      <td>207.0</td>\n",
       "      <td>182.0</td>\n",
       "      <td>1.0</td>\n",
       "      <td>1389.0</td>\n",
       "      <td>6</td>\n",
       "      <td>657.0</td>\n",
       "      <td>0.0</td>\n",
       "      <td>0.0</td>\n",
       "      <td>0.0</td>\n",
       "      <td>39.0</td>\n",
       "      <td>NaN</td>\n",
       "      <td>NaN</td>\n",
       "      <td>NaN</td>\n",
       "      <td>0.0</td>\n",
       "      <td>False</td>\n",
       "      <td>NaN</td>\n",
       "      <td>NaN</td>\n",
       "      <td>NaN</td>\n",
       "      <td>NaN</td>\n",
       "      <td>NaN</td>\n",
       "      <td>NaN</td>\n",
       "      <td>NaN</td>\n",
       "      <td>NaN</td>\n",
       "      <td>NaN</td>\n",
       "      <td>NaN</td>\n",
       "      <td>NaN</td>\n",
       "      <td>NaN</td>\n",
       "      <td>NaN</td>\n",
       "      <td>NaN</td>\n",
       "      <td>NaN</td>\n",
       "      <td>NaN</td>\n",
       "      <td>NaN</td>\n",
       "      <td>NaN</td>\n",
       "      <td>NaN</td>\n",
       "      <td>NaN</td>\n",
       "      <td>NaN</td>\n",
       "      <td>NaN</td>\n",
       "      <td>NaN</td>\n",
       "      <td>NaN</td>\n",
       "      <td>NaN</td>\n",
       "      <td>NaN</td>\n",
       "      <td>NaN</td>\n",
       "      <td>NaN</td>\n",
       "      <td>NaN</td>\n",
       "      <td>NaN</td>\n",
       "      <td>NaN</td>\n",
       "      <td>NaN</td>\n",
       "      <td>NaN</td>\n",
       "      <td>NaN</td>\n",
       "      <td>NaN</td>\n",
       "      <td>NaN</td>\n",
       "      <td>NaN</td>\n",
       "      <td>NaN</td>\n",
       "      <td>NaN</td>\n",
       "      <td>NaN</td>\n",
       "      <td>NaN</td>\n",
       "      <td>NaN</td>\n",
       "      <td>NaN</td>\n",
       "      <td>NaN</td>\n",
       "    </tr>\n",
       "  </tbody>\n",
       "</table>\n",
       "</div>"
      ],
      "text/plain": [
       "        Year  Quarter  Month  DayofMonth  DayOfWeek FlightDate  \\\n",
       "521680  2018        3      7          25          3 2018-07-25   \n",
       "\n",
       "       Reporting_Airline  DOT_ID_Reporting_Airline  \\\n",
       "521680                YX                     20452   \n",
       "\n",
       "       IATA_CODE_Reporting_Airline Tail_Number  \\\n",
       "521680                          YX      N874RW   \n",
       "\n",
       "        Flight_Number_Reporting_Airline  OriginAirportID  OriginAirportSeqID  \\\n",
       "521680                             5935            11298             1129806   \n",
       "\n",
       "        OriginCityMarketID Origin         OriginCityName OriginState  \\\n",
       "521680               30194    DFW  Dallas/Fort Worth, TX          TX   \n",
       "\n",
       "        OriginStateFips OriginStateName  OriginWac  DestAirportID  \\\n",
       "521680               48           Texas         74          12953   \n",
       "\n",
       "        DestAirportSeqID  DestCityMarketID Dest  DestCityName DestState  \\\n",
       "521680           1295304             31703  LGA  New York, NY        NY   \n",
       "\n",
       "        DestStateFips DestStateName  DestWac  CRSDepTime  DepTime  DepDelay  \\\n",
       "521680             36      New York       22        1804    924.0     920.0   \n",
       "\n",
       "        DepDelayMinutes  DepDel15  DepartureDelayGroups DepTimeBlk  TaxiOut  \\\n",
       "521680            920.0       1.0                  12.0  1800-1859     20.0   \n",
       "\n",
       "        WheelsOff  WheelsOn  TaxiIn  CRSArrTime  ArrTime  ArrDelay  \\\n",
       "521680      944.0    1346.0     5.0         215   1351.0     696.0   \n",
       "\n",
       "        ArrDelayMinutes  ArrDel15  ArrivalDelayGroups ArrTimeBlk  Cancelled  \\\n",
       "521680            696.0       1.0                12.0  0001-0559      False   \n",
       "\n",
       "       CancellationCode  Diverted  CRSElapsedTime  ActualElapsedTime  AirTime  \\\n",
       "521680              NaN     False           431.0              207.0    182.0   \n",
       "\n",
       "        Flights  Distance  DistanceGroup  CarrierDelay  WeatherDelay  \\\n",
       "521680      1.0    1389.0              6         657.0           0.0   \n",
       "\n",
       "        NASDelay  SecurityDelay  LateAircraftDelay  FirstDepTime  \\\n",
       "521680       0.0            0.0               39.0           NaN   \n",
       "\n",
       "        TotalAddGTime  LongestAddGTime  DivAirportLandings  DivReachedDest  \\\n",
       "521680            NaN              NaN                 0.0           False   \n",
       "\n",
       "        DivActualElapsedTime  DivArrDelay  DivDistance Div1Airport  \\\n",
       "521680                   NaN          NaN          NaN         NaN   \n",
       "\n",
       "        Div1AirportID  Div1AirportSeqID  Div1WheelsOn  Div1TotalGTime  \\\n",
       "521680            NaN               NaN           NaN             NaN   \n",
       "\n",
       "        Div1LongestGTime  Div1WheelsOff Div1TailNum Div2Airport  \\\n",
       "521680               NaN            NaN         NaN         NaN   \n",
       "\n",
       "        Div2AirportID  Div2AirportSeqID  Div2WheelsOn  Div2TotalGTime  \\\n",
       "521680            NaN               NaN           NaN             NaN   \n",
       "\n",
       "        Div2LongestGTime  Div2WheelsOff Div2TailNum  Div3Airport  \\\n",
       "521680               NaN            NaN         NaN          NaN   \n",
       "\n",
       "        Div3AirportID  Div3AirportSeqID  Div3WheelsOn  Div3TotalGTime  \\\n",
       "521680            NaN               NaN           NaN             NaN   \n",
       "\n",
       "        Div3LongestGTime  Div3WheelsOff  Div3TailNum  Div4Airport  \\\n",
       "521680               NaN            NaN          NaN          NaN   \n",
       "\n",
       "        Div4AirportID  Div4AirportSeqID  Div4WheelsOn  Div4TotalGTime  \\\n",
       "521680            NaN               NaN           NaN             NaN   \n",
       "\n",
       "        Div4LongestGTime  Div4WheelsOff  Div4TailNum  Div5Airport  \\\n",
       "521680               NaN            NaN          NaN          NaN   \n",
       "\n",
       "        Div5AirportID  Div5AirportSeqID  Div5WheelsOn  Div5TotalGTime  \\\n",
       "521680            NaN               NaN           NaN             NaN   \n",
       "\n",
       "        Div5LongestGTime  Div5WheelsOff  Div5TailNum  Unnamed: 109  \n",
       "521680               NaN            NaN          NaN           NaN  "
      ]
     },
     "execution_count": 146,
     "metadata": {},
     "output_type": "execute_result"
    }
   ],
   "source": [
    "_fl = transform_data_from(source_zip, source_path + '2018_7.csv')\n",
    "_fl[(_fl['Flight_Number_Reporting_Airline'] == 5935) \n",
    "    & (_fl['DayofMonth'] == 25) \n",
    "    & (_fl['Origin'] == 'DFW')\n",
    "    & (_fl['Dest'] == 'LGA')]"
   ]
  },
  {
   "cell_type": "code",
   "execution_count": null,
   "metadata": {},
   "outputs": [],
   "source": []
  },
  {
   "cell_type": "markdown",
   "metadata": {},
   "source": [
    "Despite 1.12% is not segnificant, let's check is the Elapsed time counted correctly, taking into account the difference in timezones of the Origin and Destinion ariports.\n",
    "\n",
    "NOTE: acctually I did this part just for practice, for demonstration and for fun."
   ]
  },
  {
   "cell_type": "code",
   "execution_count": 216,
   "metadata": {},
   "outputs": [],
   "source": [
    "from datetime import datetime, timedelta, timezone\n",
    "from dateutil import tz\n",
    "\n",
    "# Loading timezones for IATA codes of airports\n",
    "IATAtz_df = pd.read_csv('https://raw.githubusercontent.com/hroptatyr/dateutils/tzmaps/iata.tzmap', \n",
    "                        sep = '\\t', \n",
    "                        index_col=0, \n",
    "                        header=None)\n",
    "IATAtz = IATAtz_df.to_dict('dict')[1]"
   ]
  },
  {
   "cell_type": "code",
   "execution_count": 221,
   "metadata": {},
   "outputs": [],
   "source": [
    "def airport_time_tz(dt, IATA_code: str):\n",
    "    return dt.replace(tzinfo=tz.gettz(IATAtz[IATA_code]))\n",
    "\n",
    "def airport_time_UTC(dt, IATA_code: str):\n",
    "    return dt.replace(tzinfo=tz.gettz(IATAtz[IATA_code])).astimezone(tz.UTC)"
   ]
  },
  {
   "cell_type": "code",
   "execution_count": null,
   "metadata": {},
   "outputs": [],
   "source": [
    "a = flights_2014_1.iloc[418380]\n",
    "CRSDepTime = datetime(a.Year, a.Month, a.DayofMonth, a.CRSDepTime // 100, a.CRSDepTime % 100)\n",
    "CRSArrTime = datetime(a.Year, a.Month, a.DayofMonth, a.CRSArrTime // 100, a.CRSArrTime % 100)\n",
    "\n",
    "print('CRS: ')\n",
    "print(a.Origin, '\\nTime zone: ', tz.gettz(IATAtz[a.Origin]))\n",
    "print('Local departure time:      ', CRSDepTime)\n",
    "print('Local departure time (tz): ', airport_time_tz(CRSDepTime, a.Origin))\n",
    "print('UTC Departure time:        ', airport_time_UTC(CRSDepTime, a.Origin))\n",
    "print('')\n",
    "print(a.Dest, '\\nTime zone: ', tz.gettz(IATAtz[a.Dest]))\n",
    "print('Local departure time:      ', CRSArrTime)\n",
    "print('Local departure time (tz): ', airport_time_tz(CRSArrTime, a.Dest))\n",
    "print('UTC Departure time:        ', airport_time_UTC(CRSArrTime, a.Dest))\n",
    "print('')\n",
    "print('Elapsed time (CRS):', round(a.CRSElapsedTime / 60, 2))\n",
    "print('Elapsed time (UTC):', round((airport_time_UTC(CRSArrTime, a.Dest) - airport_time_UTC(CRSDepTime, a.Origin)).seconds / 3600, 2))"
   ]
  },
  {
   "cell_type": "code",
   "execution_count": null,
   "metadata": {},
   "outputs": [],
   "source": [
    "from datetime import datetime, timedelta, timezone\n",
    "from dateutil import tz\n",
    "\n",
    "a = flights_2014_1.iloc[418380]\n",
    "DepTime = datetime(a.Year, a.Month, a.DayofMonth, int(a.DepTime // 100), int(a.DepTime % 100))\n",
    "ArrTime = datetime(a.Year, a.Month, a.DayofMonth, int(a.ArrTime // 100), int(a.ArrTime % 100))\n",
    "\n",
    "print('Actual: ')\n",
    "print(a.Origin, '\\nTime zone: ', tz.gettz(IATAtz[a.Origin]))\n",
    "print('Local departure time:      ', DepTime)\n",
    "print('Local departure time (tz): ', airport_time_tz(DepTime, a.Origin))\n",
    "print('UTC Departure time:        ', airport_time_UTC(DepTime, a.Origin))\n",
    "print('')\n",
    "print(a.Dest, '\\nTime zone: ', tz.gettz(IATAtz[a.Dest]))\n",
    "print('Local departure time:      ', ArrTime)\n",
    "print('Local departure time (tz): ', airport_time_tz(ArrTime, a.Dest))\n",
    "print('UTC Departure time:        ', airport_time_UTC(ArrTime, a.Dest))\n",
    "print('')\n",
    "print('Elapsed time (Act):', round(a.ActualElapsedTime / 60, 2))\n",
    "print('Elapsed time (UTC):', round((airport_time_UTC(ArrTime, a.Dest) - airport_time_UTC(DepTime, a.Origin)).seconds / 3600, 2))"
   ]
  },
  {
   "cell_type": "markdown",
   "metadata": {},
   "source": [
    "Ok, we see that the data for the flight wiht the earliest arrival is correct. \n",
    "Let's check correctness of Elapsed times for the sample of 1000 flights"
   ]
  },
  {
   "cell_type": "code",
   "execution_count": null,
   "metadata": {},
   "outputs": [],
   "source": [
    "import random\n",
    "n = 10000\n",
    "\n",
    "for i in random.sample(range(0, len(flights_2014_1)), n):\n",
    "    a = flights_2014_1.iloc[i]\n",
    "    flag = True\n",
    "    if ~a.Cancelled & ~a.Diverted:\n",
    "        CRSDepTime = datetime(a.Year, a.Month, a.DayofMonth, a.CRSDepTime // 100, a.CRSDepTime % 100)\n",
    "        CRSArrTime = datetime(a.Year, a.Month, a.DayofMonth, a.CRSArrTime // 100, a.CRSArrTime % 100)\n",
    "        DepTime = datetime(a.Year, a.Month, a.DayofMonth, int(a.DepTime // 100), int(a.DepTime % 100))\n",
    "        ArrTime = datetime(a.Year, a.Month, a.DayofMonth, int(a.ArrTime // 100), int(a.ArrTime % 100))\n",
    "        CRSElapseTimeDiff = round(a.CRSElapsedTime / 60, 2) - round((airport_time_UTC(CRSArrTime, a.Dest) - airport_time_UTC(CRSDepTime, a.Origin)).seconds / 3600, 2)\n",
    "        ActElapseTimeDiff = round(a.ActualElapsedTime / 60, 2) - round((airport_time_UTC(ArrTime, a.Dest) - airport_time_UTC(DepTime, a.Origin)).seconds / 3600, 2)\n",
    "        if (CRSElapseTimeDiff != 0) | (ActElapseTimeDiff != 0):\n",
    "            print(a.Flight_Number_Reporting_Airline, CRSElapseTimeDiff, ActElapseTimeDiff)\n",
    "            flag = False\n",
    "if flag:\n",
    "    print('For the sample', n, 'flights all elapsed time calculated correctly')"
   ]
  }
 ],
 "metadata": {
  "kernelspec": {
   "display_name": "base",
   "language": "python",
   "name": "python3"
  },
  "language_info": {
   "codemirror_mode": {
    "name": "ipython",
    "version": 3
   },
   "file_extension": ".py",
   "mimetype": "text/x-python",
   "name": "python",
   "nbconvert_exporter": "python",
   "pygments_lexer": "ipython3",
   "version": "3.12.4"
  }
 },
 "nbformat": 4,
 "nbformat_minor": 2
}
