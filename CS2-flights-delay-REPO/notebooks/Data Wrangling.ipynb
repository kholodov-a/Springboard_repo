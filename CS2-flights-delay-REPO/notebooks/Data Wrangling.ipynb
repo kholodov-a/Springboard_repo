{
 "cells": [
  {
   "cell_type": "markdown",
   "metadata": {},
   "source": [
    "# Data Collection\n",
    "\n",
    "The original dataset, US Domestic Flights Delay Prediction (2013 - 2018) (Source: [Kaggle](https://www.kaggle.com/datasets/gabrielluizone/us-domestic-flights-delay-prediction-2013-2018)), is provided as a zip archive of 1.54 GB. When decompressed, the archive contains 60 files with a total size of 13.6 GB. Each file corresponds to one month of data, starting from January 2014 and ending in December 2018.\n",
    "\n",
    "Steps for collecting and cleaning the data:\n",
    "\n",
    "*\tLoading the first file\n",
    "*\tEvaluating the data’s size and quality\n",
    "*\tDefining the specific data needed for the project\n",
    "*\tDeveloping a process for data organization and cleaning\n",
    "*\tTesting the code on one month’s data file\n",
    "*\tApplying the code to all files\n",
    "*\tAccumulating the complete dataset\n",
    "*   Testing the accuracy of the data, rectifying and cleaning the data\n",
    "\n",
    "\n",
    "The archive file (csv_flight.zip) was downloaded and saved locally."
   ]
  },
  {
   "cell_type": "markdown",
   "metadata": {},
   "source": [
    "## Modules Initialisation and Functions Defenition"
   ]
  },
  {
   "cell_type": "code",
   "execution_count": 1,
   "metadata": {},
   "outputs": [],
   "source": [
    "import zipfile\n",
    "import pandas as pd\n",
    "import os\n",
    "import seaborn as sns\n",
    "import matplotlib.pyplot as plt\n",
    "import numpy as np\n",
    "import datetime\n",
    "from dateutil import tz\n",
    "from time import time\n",
    "import pickle\n",
    "import scipy.stats as st\n",
    "\n",
    "os.chdir('/Users/a.kholodov/Documents/02. Personal/20. Education/50. Universities/Springboard/Springboard_git/Springboard _repo/CS2-flights-delay-REPO')\n",
    "\n",
    "# pd.set_option('display.max_rows', 130)\n",
    "# pd.set_option('display.width', 200)\n",
    "\n",
    "# Loading timezones for IATA codes of airports\n",
    "IATAtz_df = pd.read_csv('https://raw.githubusercontent.com/hroptatyr/dateutils/tzmaps/iata.tzmap', \n",
    "                        sep = '\\t', \n",
    "                        index_col=0, \n",
    "                        header=None)\n",
    "\n",
    "# Dictionary with IATA codes as keys and timezones as values\n",
    "IATAtz = IATAtz_df.to_dict('dict')[1]\n",
    "del(IATAtz_df)\n",
    "\n",
    "# List of dates of start/end of DST\n",
    "DST = pd.to_datetime(['2014-03-09', '2014-11-02', '2015-03-08', '2015-11-01', \n",
    "       '2016-03-13', '2016-11-06', '2017-03-12', '2017-11-05', \n",
    "       '2018-03-11', '2018-11-04'])\n"
   ]
  },
  {
   "cell_type": "code",
   "execution_count": 2,
   "metadata": {},
   "outputs": [],
   "source": [
    "def load_data_from(zip_file, data_file, field_type=None):\n",
    "    '''\n",
    "    Description\n",
    "    -----------\n",
    "    Load data specified as field_type from one data file from zip-archive \n",
    "\n",
    "    Parameters\n",
    "    -----------\n",
    "    zip_file - path and name of source zip-file contaning 60 csv files\n",
    "    dat_faile - path and name of csv-file with data\n",
    "    field_type - dictinary with fields to load and thiers relative data types\n",
    "\n",
    "    Returns\n",
    "    -----------\n",
    "    DataFrame with data loaded\n",
    "    '''\n",
    "\n",
    "    # reading the file\n",
    "    with zipfile.ZipFile(zip_file) as zip_source:\n",
    "        with zip_source.open(data_file) as file:\n",
    "            if field_type != None:\n",
    "                df = pd.read_csv(file, header = 0, \n",
    "                                usecols = field_type.keys(),\n",
    "                                dtype = field_type)\n",
    "            else:\n",
    "                df = pd.read_csv(file, header = 0, low_memory=False)\n",
    "\n",
    "    # Converting dates and boolean        \n",
    "    if 'FlightDate' in df.columns:\n",
    "        df['FlightDate'] = pd.to_datetime(df['FlightDate'])\n",
    "    if 'DivReachedDest' in df.columns:\n",
    "        df['DivReachedDest'] = df['DivReachedDest'].fillna(0)\n",
    "    if 'Cancelled' in df.columns:\n",
    "        df['Cancelled'] = df['Cancelled'].astype('bool')\n",
    "    if 'Diverted' in df.columns:\n",
    "        df['Diverted'] = df['Diverted'].astype('bool')\n",
    "    if 'DivReachedDest' in df.columns:\n",
    "        df['DivReachedDest'] = df['DivReachedDest'].astype('bool')\n",
    "    return df"
   ]
  },
  {
   "cell_type": "code",
   "execution_count": 3,
   "metadata": {},
   "outputs": [],
   "source": [
    "def time_to_minutes(time_series):\n",
    "    '''Convert times in HHMM format to minutes\n",
    "    \n",
    "    Parameters\n",
    "    -----------\n",
    "    time_series     pd.Series   times in HHMM format\n",
    "    \n",
    "    Returns\n",
    "    -----------\n",
    "    time in menutes from the start of day'''\n",
    "    return time_series // 100 * 60 + time_series % 100"
   ]
  },
  {
   "cell_type": "code",
   "execution_count": 4,
   "metadata": {},
   "outputs": [],
   "source": [
    "def get_CRS_datetime(dates, dep_m, arr_m):\n",
    "    \"\"\"\n",
    "    Description\n",
    "    ------------\n",
    "    Calculate scheduled(CRS) Departure datetime (timezone naive) based on Flight Date and Departure time (minutes)\n",
    "    Calculate scheduled(CRS) Arrival datetiem (timezone naive) based on Flight Date and Arrival time (minutes). \n",
    "        Arrival time is increased by one day from Fllght Date if the difference between CRS Arrival and Departure time \n",
    "        is equal or less than -60 minutes, and decreased by one day if the difference is at least +1380 minutes.\n",
    "\n",
    "    Parameters:\n",
    "    ------------\n",
    "    dates - pandas Series with FlightDate\n",
    "    dep_m - pandas Seiries with CRS Departure time in minutes \n",
    "    arr_m - pandas Seiries with CRS Arrival time in minutes\n",
    "\n",
    "    Returns:\n",
    "    ------------\n",
    "    departure_datetime - CRS Departure datetime (timezone naive) (pd.Series)\n",
    "    arrival_datetime - CRS Arrival datetime (timezone naive) (pd.Series)\n",
    "    \"\"\"\n",
    "\n",
    "    df = pd.DataFrame() \n",
    "    df['departure_datetime'] = pd.to_datetime(dates) + pd.to_timedelta(dep_m, unit='min')\n",
    "\n",
    "    # Filter for scheduled flights arriving next or privios day\n",
    "    arr_next_day_filter = arr_m - dep_m  <= -60\n",
    "    arr_previous_day_filter = arr_m - dep_m  >= 1380\n",
    "\n",
    "    # For all scheduled flights by default arrival date is eaueal to departure date\n",
    "    df['arrival_datetime'] = dates\n",
    "\n",
    "    # Adding one day to the date if flight arrived next day\n",
    "    df.loc[arr_next_day_filter, 'arrival_datetime'] = df.loc[arr_next_day_filter, 'arrival_datetime'] \\\n",
    "                                                        + datetime.timedelta(1)\n",
    "    # Adding one day to the date if flight arrived day befor departure day\n",
    "    df.loc[arr_previous_day_filter, 'arrival_datetime'] = df.loc[arr_previous_day_filter, 'arrival_datetime'] \\\n",
    "                                                        + datetime.timedelta(-1)\n",
    "    # Finally adding actual arrival time to get actual arrival datetime\n",
    "    df['arrival_datetime'] = df['arrival_datetime'] + pd.to_timedelta(arr_m, 'm')\n",
    "\n",
    "    return df['departure_datetime'], df['arrival_datetime']\n"
   ]
  },
  {
   "cell_type": "code",
   "execution_count": 5,
   "metadata": {},
   "outputs": [],
   "source": [
    "def get_Actual_datetime(dates, CRSdep_min, dep_min, arr_min, dep_delay):\n",
    "    \"\"\"\n",
    "    Description\n",
    "    ------------\n",
    "    Calculate Actual Departure datetime (timezone naive) based on Flight Date, Departure time (minutes) and Departure \n",
    "        delay (minutes)\n",
    "    Calculate Actual Arrival datetiem (timezone naive) based on Flight Date, Actual Departure date in accordance with \n",
    "        Departure delay and Arrival time (minutes). Arrival time is increased by one day from Departure Date if \n",
    "        the difference between CRS Arrival and Departure time is equal or less than -60 minutes, and decreased by one day \n",
    "        if the difference is at least +1380 minutes.\n",
    "\n",
    "    Parameters:\n",
    "    ------------\n",
    "    dates - FlightDate (pd.Series)\n",
    "    CRSdep_min - Actual Departure time in minutes (pd.Series)\n",
    "    dep_min - Actual Departure time in minutes (pd.Series)\n",
    "    arr_min - Actual Arrival time in minutes (pd.Series)\n",
    "    dep_delay - departure delay in minutes (pd.Series)\n",
    "\n",
    "    Returns:\n",
    "    ------------\n",
    "    departure_datetime - Actual Departure datetime (timezone naive) (pd.Series)\n",
    "    arrival_datetime - Actual Arrival datetime (timezone naive) (pd.Series)\n",
    "    \"\"\"\n",
    "\n",
    "    # Filters for flights having DepTime_min and ArrTime_min \n",
    "    # These filters actually for not cancelled flights, but they differ each other because some flights cancelles after departure\n",
    "    # So they have departure time but didn't fly \n",
    "    ActDep_exists_filter = ~dep_min.isna()\n",
    "    ActArr_exists_filter = ~arr_min.isna()\n",
    "\n",
    "    # Calculating the array with 'day shift' due to flight delay. NOTICE: some flights have -1 day shift because day had a \n",
    "    # small negative delay having a scheduled departure time several minutes after midnight\n",
    "    d = np.zeros([len(dates)], dtype='int')\n",
    "    d = ((CRSdep_min.fillna(0) + dep_delay.fillna(0)) // 1440).astype(int)\n",
    "    day_deltas_due_to_delay = pd.to_timedelta(d, unit='days')\n",
    "\n",
    "    # Calculating actual departure datetime\n",
    "    df = pd.DataFrame() #pd.NaT, index = [*range(0, len(dates))], columns= ['departure_datetime', 'arrival_datetime'])\n",
    "    df.loc[ActDep_exists_filter, 'departure_datetime'] = dates[ActDep_exists_filter] \\\n",
    "                                                + day_deltas_due_to_delay[ActDep_exists_filter] \\\n",
    "                                                + pd.to_timedelta(dep_min[ActDep_exists_filter], 'm')\n",
    "\n",
    "    # Calculating actual arrival datetime\n",
    "\n",
    "    # Filter for flights arrived next or previous day\n",
    "    Arrived_next_day = arr_min - dep_min  <= -60\n",
    "    Arrived_previous_day = arr_min - dep_min  >= 1380\n",
    "\n",
    "    # For all arrived flights at first arrival date is eaueal to departure date\n",
    "    df.loc[ActArr_exists_filter, 'arrival_datetime'] = dates[ActArr_exists_filter] \\\n",
    "                                                + day_deltas_due_to_delay[ActArr_exists_filter] \n",
    "    # Adding one day to the date if flight arrived next day\n",
    "    df.loc[ActArr_exists_filter & Arrived_next_day, 'arrival_datetime'] = \\\n",
    "            df.loc[ActArr_exists_filter & Arrived_next_day, 'arrival_datetime'] + datetime.timedelta(1)\n",
    "    \n",
    "    # Adding one day to the date if flight arrived previous day\n",
    "    df.loc[ActArr_exists_filter & Arrived_previous_day, 'arrival_datetime'] = \\\n",
    "            df.loc[ActArr_exists_filter & Arrived_previous_day, 'arrival_datetime'] + datetime.timedelta(-1)\n",
    "    \n",
    "    # Finally adding actual arrival time to get actual arrival datetime\n",
    "    df.loc[ActArr_exists_filter, 'arrival_datetime'] = \\\n",
    "            df.loc[ActArr_exists_filter, 'arrival_datetime'] + pd.to_timedelta(arr_min.loc[ActArr_exists_filter], 'm')\n",
    "    \n",
    "    return df['departure_datetime'], df['arrival_datetime']"
   ]
  },
  {
   "cell_type": "code",
   "execution_count": 6,
   "metadata": {},
   "outputs": [],
   "source": [
    "def convert_column_to_UTC(df, dt_field, IATA_code_field):\n",
    "    '''Convert a column with datetimes timezone naive to the column with UTC timezone\n",
    "\n",
    "    Parameters:\n",
    "    ------------\n",
    "    df              DataFrame   The dataframe containing the field (column) to be converted\n",
    "    df_field        string      The name of the column in the dataset to convert from\n",
    "    IATA_code_field string      The name of the column in the dataset with IATA codes of airports to get the time zone of the airport\n",
    "\n",
    "    Returns:\n",
    "    ------------\n",
    "    A list with datetimes in UTC timezone\n",
    "    '''\n",
    "    return [row[dt_field].tz_localize(tz=tz.gettz(IATAtz[row[IATA_code_field]]), ambiguous=True, nonexistent='shift_forward')\n",
    "             .astimezone(tz.UTC) for _, row in df.iterrows()]\n",
    "\n",
    "def local_to_UTC(dt_naive, IATA_code):\n",
    "    '''Converts datetime timezone naive value to UTC timezone datetime\n",
    "    '''\n",
    "    return dt_naive.tz_localize(tz=tz.gettz(IATAtz[IATA_code]), ambiguous=True, nonexistent='shift_forward').astimezone(tz.UTC)\n",
    "\n",
    "\n",
    "def UTC_to_local(dt_UTC, IATA_code):\n",
    "    '''Converts UTC datetime to timezone naive datetime\n",
    "    '''\n",
    "    return dt_UTC.astimezone(tz.gettz(IATAtz[IATA_code])).replace(tzinfo=None)\n",
    "\n",
    "def naive_to_tz_aware(dt_naive, IATA_code):\n",
    "    '''Converting datetime tz-naive value to tz-aware local time\n",
    "    '''\n",
    "    return dt_naive.tz_localize(tz=tz.gettz(IATAtz[IATA_code]), ambiguous=True, nonexistent='shift_forward')"
   ]
  },
  {
   "cell_type": "code",
   "execution_count": 7,
   "metadata": {},
   "outputs": [],
   "source": [
    "def add_local_tz(df, dt_field, IATA_code_field):\n",
    "    '''Function to add to the series of datetime a timezone specified by airports IATA codes\n",
    "    \n",
    "    Papameters\n",
    "    ------------\n",
    "    df                  DataFrame   - dataset with flights records\n",
    "    dt_field            str         - name of the field with tz-naive datetime\n",
    "    IATA_code_filed     str         - name of the field with IATA airport code\n",
    "    '''\n",
    "    return [row[dt_field].tz_localize(tz=tz.gettz(IATAtz[row[IATA_code_field]]), ambiguous=True ,nonexistent='shift_forward')\n",
    "        for _, row in df.iterrows()]"
   ]
  },
  {
   "cell_type": "code",
   "execution_count": 8,
   "metadata": {},
   "outputs": [],
   "source": [
    "def memory_usage_per_type(data_frame):\n",
    "    '''Prints the usage of memory by the DataFrame per each type of data\n",
    "\n",
    "    Papameters\n",
    "    ------------\n",
    "    data_frame  pd.DataFrame\n",
    "\n",
    "    Returns\n",
    "    ------------    \n",
    "    Prints the memory size allocated to each data type in the DataFrame\n",
    "\n",
    "    Source: https://medium.com/@alielagrebi/optimize-the-pandas-dataframe-memory-consuming-for-low-environment-24aa74cf9413\n",
    "    '''\n",
    "    types = ['number', 'object', 'datetimetz', 'category', 'bool']\n",
    "    for tp in types:\n",
    "        selected_col = data_frame.select_dtypes(include=[tp])\n",
    "        memory_usage_per_type_b = selected_col.memory_usage(deep=True).sum()\n",
    "        memory_usage_per_type_mb = memory_usage_per_type_b / 1024**2\n",
    "        print('memory usage for {} columns: {:03.3f} MB'.format(tp, memory_usage_per_type_mb))\n",
    "    \n",
    "\n",
    "def memory_usage(data_frame):\n",
    "    '''Returns the memory size allocated to the entire DataFrame\n",
    "\n",
    "    Papameters\n",
    "    ------------\n",
    "    data_frame  pd.DataFrame\n",
    "\n",
    "    Returns\n",
    "    ------------    \n",
    "    The memory size allocated to the entire DataFrame\n",
    "    \n",
    "    Source: https://medium.com/@alielagrebi/optimize-the-pandas-dataframe-memory-consuming-for-low-environment-24aa74cf9413\n",
    "    '''\n",
    "    \n",
    "    return data_frame.memory_usage(deep=True).sum() / 1024**2"
   ]
  },
  {
   "cell_type": "code",
   "execution_count": 9,
   "metadata": {},
   "outputs": [],
   "source": [
    "def isDST(ds, field_name_1, field_name_2):\n",
    "    '''Returns the sliice of dataset where at least one of two fields of a row is DST start or finish date\n",
    "    \n",
    "    Papameters\n",
    "    ------------\n",
    "    ds              pd.DateFrame    a dataframe with flights data\n",
    "    field_name_1    str             the name of the column with datetime (the departure date)\n",
    "    field_name_2    str             the name of the column with datetime (the arrival date)\n",
    "\n",
    "    Returns\n",
    "    ------------\n",
    "    Returns the dataframe where at least one of the dates (departure or/and errival) is the date of DST start of finish\n",
    "    '''\n",
    "    return (pd.to_datetime(ds.loc[:, field_name_1].dt.date).isin(DST) \n",
    "            | pd.to_datetime(ds.loc[:,field_name_2].dt.date).isin(DST))"
   ]
  },
  {
   "cell_type": "code",
   "execution_count": 10,
   "metadata": {},
   "outputs": [],
   "source": [
    "def correct_IDL(df, time_type):\n",
    "    '''\n",
    "    Description\n",
    "    ------------\n",
    "    Correcting time data for HML and GUM airports which are across IDL \n",
    "\n",
    "    Parameters:\n",
    "    ------------\n",
    "    df - flights dataset (pd.DateFrame)\n",
    "    time_type - 'CRS' for scheduled times and 'Act' for actual\n",
    "    \n",
    "    Returns:\n",
    "    ------------\n",
    "    -1      if the type of the datetime column for correction is wrong\n",
    "    '''\n",
    "    if time_type not in ['CRS', 'Act']:\n",
    "        print('Wrong parameter:', time_type)\n",
    "        return -1\n",
    "    \n",
    "    diff = 'diff_' + time_type\n",
    "    arrUTC = time_type + 'Arr_UTC'\n",
    "    UTCElapsed = 'UTCElapsedTime_' + time_type\n",
    "\n",
    "    error_1440_filter = df[diff].isin([1440, -1440])\n",
    "    error_1440 = df[error_1440_filter]\n",
    "    HNL_GUM_filter = (error_1440['Origin'].isin(['HNL', 'GUM'])) & (error_1440['Dest'].isin(['HNL', 'GUM']))\n",
    "    error_1440 = error_1440[HNL_GUM_filter]\n",
    "    print(error_1440[['Origin', 'Dest', \n",
    "                'CRSDepDT', 'CRSArrDT',\n",
    "                'CRSDep_UTC', 'CRSArr_UTC', \n",
    "                'CRSElapsedTime', 'UTCElapsedTime_CRS', 'diff_CRS']])\n",
    "    error_1440[diff].astype(int)\n",
    "    error_1440[arrUTC] -= pd.to_timedelta(error_1440[diff], 'min')\n",
    "    error_1440[UTCElapsed] -= error_1440[diff]\n",
    "    error_1440[diff] = 0\n",
    "    print(error_1440[['Origin', 'Dest', \n",
    "                'CRSDepDT', 'CRSArrDT',\n",
    "                'CRSDep_UTC', 'CRSArr_UTC', \n",
    "                'CRSElapsedTime', 'UTCElapsedTime_CRS', 'diff_CRS']])\n",
    "\n",
    "    df[error_1440_filter] = error_1440\n",
    "    del(error_1440)\n",
    "\n",
    "    return 1"
   ]
  },
  {
   "cell_type": "code",
   "execution_count": 11,
   "metadata": {},
   "outputs": [],
   "source": [
    "def correct_error_of_time(df, time_type):\n",
    "    '''\n",
    "    Description\n",
    "    ------------\n",
    "    Correcting the Elapsed Times errors in the dataset by subsetting the simillar flights (the same Origin and Destination) \n",
    "    and comparing the flight's Elapsed times (Actual and CRS) with the actual Elapsed time of similar flights \n",
    "\n",
    "    Parameters:\n",
    "    ------------\n",
    "    df - flights dataset (pd.DateFrame)\n",
    "    time_type - 'CRS' for scheduled times and 'Act' for actual\n",
    "    \n",
    "    Returns:\n",
    "    ------------\n",
    "    -1      if the type of the datetime column for correction is wrong\n",
    "    '''\n",
    "\n",
    "    if time_type not in ['CRS', 'Act']:\n",
    "        print('Wrong parameter:', time_type)\n",
    "        return -1\n",
    "\n",
    "    diff = 'diff_' + time_type\n",
    "    arrUTC = time_type + 'Arr_UTC'\n",
    "    depUTC = time_type + 'Dep_UTC'\n",
    "    UTCElapsed = 'UTCElapsedTime_' + time_type\n",
    "    if time_type == 'Act':\n",
    "        ElapsedTime = 'ActualElapsedTime'\n",
    "        arrDT = 'ArrDT'\n",
    "        depDT = 'DepDT'\n",
    "    else:\n",
    "        ElapsedTime = 'CRSElapsedTime'\n",
    "        arrDT = time_type + 'ArrDT'\n",
    "        depDT = time_type + 'DepDT'\n",
    "\n",
    "\n",
    "    # Process only records that have non-Zero and non-NaN difference\n",
    "    differencies = df[(df[diff] != 0) & (~df[diff].isna())]\n",
    "    \n",
    "    total_number = len(differencies)\n",
    "    counter_original = 0\n",
    "    counter_utc_based = 0\n",
    "    counter_niether = 0\n",
    "    counter_unique = 0\n",
    "\n",
    "    for ind, row in differencies.iterrows():\n",
    "        # Finding flights for the same Origin and Destination to find an estimate of flight durations (ET)\n",
    "        similar_df_filter = (df['Origin'] == row['Origin']) \\\n",
    "                                & (df['Dest'] == row['Dest'])\n",
    "        similar_df = df[similar_df_filter][ElapsedTime]\n",
    "        similar_df = similar_df[similar_df.notna()]\n",
    "        similar_df = similar_df.astype(int)\n",
    "\n",
    "        # Only if similar fligths were found\n",
    "        if (len(similar_df) - 1) > 0:\n",
    "            # Confidence interval \n",
    "            min_ci_time, max_ci_time = st.t.interval(0.95, len(similar_df)-1, \n",
    "                                                        loc=np.mean(similar_df), \n",
    "                                                        scale=st.sem(similar_df))\n",
    "            mid_time = (min_ci_time + max_ci_time) / 2\n",
    "\n",
    "            ET_from_mid_time = abs(row[ElapsedTime] - mid_time)\n",
    "            UTC_from_mid_time = abs(row[UTCElapsed] - mid_time)\n",
    "\n",
    "            if (ET_from_mid_time < UTC_from_mid_time) & ((ET_from_mid_time / mid_time) < .12):   # Sourced ET is closer to mediad time\n",
    "                # df.loc[ind, arrUTC] = local_to_UTC(row[arrDT], row['Dest'])\n",
    "                # df.loc[ind, UTCElapsed] = (df.loc[ind, arrUTC] - df.loc[ind, depUTC]).total_seconds()/60\n",
    "                # df.loc[ind, diff] = (df.loc[ind, UTCElapsed] - df.loc[ind, ElapsedTime])\n",
    "                counter_utc_based += 1\n",
    "            elif (ET_from_mid_time > UTC_from_mid_time) & ((UTC_from_mid_time / mid_time)  < .12): # UTC-based ET is closer to median timm\n",
    "                df.loc[ind, arrDT] = UTC_to_local(row[arrUTC], row['Dest'])\n",
    "                df.loc[ind, ElapsedTime] = (df.loc[ind, arrUTC] - df.loc[ind, depUTC]).total_seconds()/60\n",
    "                df.loc[ind, diff] = (df.loc[ind, UTCElapsed] - df.loc[ind, ElapsedTime])\n",
    "                counter_original += 1\n",
    "            else:\n",
    "                print('The flight\\'s (index {:d} elapsed times (UTC and CRS) are too far from median time.'.format(ind))\n",
    "                print('Confidence interval ({:.1f}, {:.1f}) with CRS ET =  {:.1f} min and UTC ET = {:.1f} min'.format(min_ci_time, max_ci_time, \n",
    "                                                                                                              row[ElapsedTime], row[UTCElapsed]))\n",
    "                counter_niether += 1\n",
    "        else:\n",
    "            print('The flight number {:d} from {:s} to {:s} index {:d} on {:%Y-%m-%d %H:%M} is unique (ind: {:d})'\n",
    "                  .format(row['Flight_Number_Reporting_Airline'], row['Origin'], row['Dest'], row['CRSDepDT'], ind))\n",
    "            counter_unique += 1\n",
    "\n",
    "    print('__________'*8)\n",
    "    print('Total number of cases:', total_number )\n",
    "    print('      {:d} of them were corrected'.format(counter_original))\n",
    "    print('      {:d} flights have incorrect departure or arrival time (ambiguous to correct)'.format(counter_utc_based))\n",
    "    print('      {:d} flights have elapsed times that are too far from median:'.format(counter_niether))\n",
    "    print('      {:d} flights don\\'t have enought simillar flights to compare with'.format(counter_unique))\n",
    "    print('\\n\\n\\n')\n",
    "\n",
    "        "
   ]
  },
  {
   "cell_type": "code",
   "execution_count": 12,
   "metadata": {},
   "outputs": [],
   "source": [
    "def get_outliers_range(values):\n",
    "    ''' Returns the range for ouliers as 25th quantile - 1.5 * IQR adn 75th quantile + 1.5 * IQR\n",
    "    '''\n",
    "    q25, q75 = values.quantile([0.25, 0.75])\n",
    "    return q25 - (q75 - q25) * 1.5, q75 + (q75 - q25) * 1.5"
   ]
  },
  {
   "cell_type": "markdown",
   "metadata": {},
   "source": [
    "## Loading the first file"
   ]
  },
  {
   "cell_type": "code",
   "execution_count": 13,
   "metadata": {},
   "outputs": [],
   "source": [
    "source_zip_file = 'data/interim/csv_flight.zip'\n",
    "data_file = 'csv_flight/report_2014_1.csv'\n",
    "\n",
    "# reading the first file to evaluate the data\n",
    "with zipfile.ZipFile(source_zip_file) as zip_source:\n",
    "    with zip_source.open(data_file) as data_file:\n",
    "        flights_2014_1 = pd.read_csv(data_file, low_memory=False)"
   ]
  },
  {
   "cell_type": "markdown",
   "metadata": {},
   "source": [
    "## Data size"
   ]
  },
  {
   "cell_type": "code",
   "execution_count": 18,
   "metadata": {},
   "outputs": [
    {
     "name": "stdout",
     "output_type": "stream",
     "text": [
      "Shape of the one-month dataset: (471949, 110)\n",
      "It uses 749.57 MB\n",
      "memory usage for number columns: 327.662 MB\n",
      "memory usage for object columns: 421.907 MB\n",
      "memory usage for datetimetz columns: 0.000 MB\n",
      "memory usage for category columns: 0.000 MB\n",
      "memory usage for bool columns: 0.000 MB\n"
     ]
    }
   ],
   "source": [
    "print('Shape of the one-month dataset:', flights_2014_1.shape)\n",
    "print('It uses {:.2f} MB'.format(memory_usage(flights_2014_1)))\n",
    "memory_usage_per_type(flights_2014_1)\n"
   ]
  },
  {
   "cell_type": "markdown",
   "metadata": {},
   "source": [
    "The data for one month contains 471,949 rows and 110 columns, with a total memory size of 750 MB. The estimated size of the entire dataset, without reorganization or cleaning, may exceed 45 GB, which could be challenging to process locally. Therefore, one of the goals of data preparation will be to reduce the dataset size without compromising quality."
   ]
  },
  {
   "cell_type": "markdown",
   "metadata": {},
   "source": [
    "## Data structure and check\n",
    "### Date of the flight"
   ]
  },
  {
   "cell_type": "code",
   "execution_count": 19,
   "metadata": {},
   "outputs": [
    {
     "data": {
      "text/html": [
       "<div>\n",
       "<style scoped>\n",
       "    .dataframe tbody tr th:only-of-type {\n",
       "        vertical-align: middle;\n",
       "    }\n",
       "\n",
       "    .dataframe tbody tr th {\n",
       "        vertical-align: top;\n",
       "    }\n",
       "\n",
       "    .dataframe thead th {\n",
       "        text-align: right;\n",
       "    }\n",
       "</style>\n",
       "<table border=\"1\" class=\"dataframe\">\n",
       "  <thead>\n",
       "    <tr style=\"text-align: right;\">\n",
       "      <th></th>\n",
       "      <th>Year</th>\n",
       "      <th>Quarter</th>\n",
       "      <th>Month</th>\n",
       "      <th>DayofMonth</th>\n",
       "      <th>DayOfWeek</th>\n",
       "      <th>FlightDate</th>\n",
       "    </tr>\n",
       "  </thead>\n",
       "  <tbody>\n",
       "    <tr>\n",
       "      <th>0</th>\n",
       "      <td>2014</td>\n",
       "      <td>1</td>\n",
       "      <td>1</td>\n",
       "      <td>30</td>\n",
       "      <td>4</td>\n",
       "      <td>2014-01-30</td>\n",
       "    </tr>\n",
       "    <tr>\n",
       "      <th>1</th>\n",
       "      <td>2014</td>\n",
       "      <td>1</td>\n",
       "      <td>1</td>\n",
       "      <td>31</td>\n",
       "      <td>5</td>\n",
       "      <td>2014-01-31</td>\n",
       "    </tr>\n",
       "    <tr>\n",
       "      <th>2</th>\n",
       "      <td>2014</td>\n",
       "      <td>1</td>\n",
       "      <td>1</td>\n",
       "      <td>1</td>\n",
       "      <td>3</td>\n",
       "      <td>2014-01-01</td>\n",
       "    </tr>\n",
       "    <tr>\n",
       "      <th>3</th>\n",
       "      <td>2014</td>\n",
       "      <td>1</td>\n",
       "      <td>1</td>\n",
       "      <td>2</td>\n",
       "      <td>4</td>\n",
       "      <td>2014-01-02</td>\n",
       "    </tr>\n",
       "    <tr>\n",
       "      <th>4</th>\n",
       "      <td>2014</td>\n",
       "      <td>1</td>\n",
       "      <td>1</td>\n",
       "      <td>3</td>\n",
       "      <td>5</td>\n",
       "      <td>2014-01-03</td>\n",
       "    </tr>\n",
       "  </tbody>\n",
       "</table>\n",
       "</div>"
      ],
      "text/plain": [
       "   Year  Quarter  Month  DayofMonth  DayOfWeek  FlightDate\n",
       "0  2014        1      1          30          4  2014-01-30\n",
       "1  2014        1      1          31          5  2014-01-31\n",
       "2  2014        1      1           1          3  2014-01-01\n",
       "3  2014        1      1           2          4  2014-01-02\n",
       "4  2014        1      1           3          5  2014-01-03"
      ]
     },
     "execution_count": 19,
     "metadata": {},
     "output_type": "execute_result"
    }
   ],
   "source": [
    "flights_2014_1.iloc[:,:6].head()"
   ]
  },
  {
   "cell_type": "markdown",
   "metadata": {},
   "source": [
    "0. **Year**\n",
    "    * **Description:** Year\n",
    "    * **Data type:** int16\n",
    "    * **Drop**\n",
    "    * **Comment:** We have a flight date which includes this data\n",
    "\n",
    "1. **Quarter**  \n",
    "    * **Description:** Quarter (1-4)  \n",
    "    * **Data type:** int8\n",
    "    * **Drop**\n",
    "    * **Comment:** We have a flight date which includes this data\n",
    "\n",
    "2. **Month**  \n",
    "    * **Description:** Month (1-12)  \n",
    "    * **Data type:** int8\n",
    "    * **Drop**\n",
    "    * **Comment:** We have a flight date which includes this data\n",
    "\n",
    "3. **DayofMonth**  \n",
    "    * **Description:** Day of month  \n",
    "    * **Data type:** int8\n",
    "    * **Drop**\n",
    "    * **Comment:** We have a flight date which includes this data\n",
    "\n",
    "4. **DayOfWeek**  \n",
    "    * **Description:** Day of week  \n",
    "    * **Data type:** int8\n",
    "    * **Drop**\n",
    "    * **Comment:** We have a flight date which includes this data\n",
    "\n",
    "5. **FlightDate**  \n",
    "    * **Description:** Flight Date (yyyymmdd)\n",
    "    * **Data type:** datetime\n",
    "    * **Keep**"
   ]
  },
  {
   "cell_type": "markdown",
   "metadata": {},
   "source": [
    "Values check for Date of the flight: the data accurate, there is no outliers or NA."
   ]
  },
  {
   "cell_type": "code",
   "execution_count": 20,
   "metadata": {},
   "outputs": [
    {
     "data": {
      "text/plain": [
       "count         471949\n",
       "unique            31\n",
       "top       2014-01-03\n",
       "freq           16726\n",
       "Name: FlightDate, dtype: object"
      ]
     },
     "execution_count": 20,
     "metadata": {},
     "output_type": "execute_result"
    }
   ],
   "source": [
    "flights_2014_1['FlightDate'].describe()"
   ]
  },
  {
   "cell_type": "markdown",
   "metadata": {},
   "source": [
    "I need to change the data type during the data transformation from object to datetime to use memory efficiently."
   ]
  },
  {
   "cell_type": "code",
   "execution_count": 23,
   "metadata": {},
   "outputs": [
    {
     "data": {
      "text/plain": [
       "0"
      ]
     },
     "execution_count": 23,
     "metadata": {},
     "output_type": "execute_result"
    }
   ],
   "source": [
    "flights_2014_1['FlightDate'].isna().sum()"
   ]
  },
  {
   "cell_type": "markdown",
   "metadata": {},
   "source": [
    "###  Airline's and flight's details "
   ]
  },
  {
   "cell_type": "code",
   "execution_count": 24,
   "metadata": {},
   "outputs": [
    {
     "data": {
      "text/html": [
       "<div>\n",
       "<style scoped>\n",
       "    .dataframe tbody tr th:only-of-type {\n",
       "        vertical-align: middle;\n",
       "    }\n",
       "\n",
       "    .dataframe tbody tr th {\n",
       "        vertical-align: top;\n",
       "    }\n",
       "\n",
       "    .dataframe thead th {\n",
       "        text-align: right;\n",
       "    }\n",
       "</style>\n",
       "<table border=\"1\" class=\"dataframe\">\n",
       "  <thead>\n",
       "    <tr style=\"text-align: right;\">\n",
       "      <th></th>\n",
       "      <th>Reporting_Airline</th>\n",
       "      <th>DOT_ID_Reporting_Airline</th>\n",
       "      <th>IATA_CODE_Reporting_Airline</th>\n",
       "      <th>Tail_Number</th>\n",
       "    </tr>\n",
       "  </thead>\n",
       "  <tbody>\n",
       "    <tr>\n",
       "      <th>0</th>\n",
       "      <td>AA</td>\n",
       "      <td>19805</td>\n",
       "      <td>AA</td>\n",
       "      <td>N006AA</td>\n",
       "    </tr>\n",
       "    <tr>\n",
       "      <th>1</th>\n",
       "      <td>AA</td>\n",
       "      <td>19805</td>\n",
       "      <td>AA</td>\n",
       "      <td>N003AA</td>\n",
       "    </tr>\n",
       "    <tr>\n",
       "      <th>2</th>\n",
       "      <td>AA</td>\n",
       "      <td>19805</td>\n",
       "      <td>AA</td>\n",
       "      <td>N002AA</td>\n",
       "    </tr>\n",
       "    <tr>\n",
       "      <th>3</th>\n",
       "      <td>AA</td>\n",
       "      <td>19805</td>\n",
       "      <td>AA</td>\n",
       "      <td>N002AA</td>\n",
       "    </tr>\n",
       "    <tr>\n",
       "      <th>4</th>\n",
       "      <td>AA</td>\n",
       "      <td>19805</td>\n",
       "      <td>AA</td>\n",
       "      <td>N014AA</td>\n",
       "    </tr>\n",
       "  </tbody>\n",
       "</table>\n",
       "</div>"
      ],
      "text/plain": [
       "  Reporting_Airline  DOT_ID_Reporting_Airline IATA_CODE_Reporting_Airline  \\\n",
       "0                AA                     19805                          AA   \n",
       "1                AA                     19805                          AA   \n",
       "2                AA                     19805                          AA   \n",
       "3                AA                     19805                          AA   \n",
       "4                AA                     19805                          AA   \n",
       "\n",
       "  Tail_Number  \n",
       "0      N006AA  \n",
       "1      N003AA  \n",
       "2      N002AA  \n",
       "3      N002AA  \n",
       "4      N014AA  "
      ]
     },
     "execution_count": 24,
     "metadata": {},
     "output_type": "execute_result"
    }
   ],
   "source": [
    "flights_2014_1.iloc[:, 6:10].head()"
   ]
  },
  {
   "cell_type": "markdown",
   "metadata": {},
   "source": [
    "\n",
    "6. **Reporting_Airline**\n",
    "    * **Description:**  Unique Carrier Code. When the same code has been used by multiple carriers, a numeric suffix is used for earlier users, for example, PA, PA(1), PA(2). Use this field for analysis across a range of years. \n",
    "    * **Data type:** category \n",
    "    * **Keep**\n",
    "    * **Comment:** I decided to keep this field and drop DOT_ID_Reporting_Airline and IATA_CODE_Reporting_Airline because it is declared as unique and recomended by data provider as such | \n",
    "\n",
    "7. **DOT_ID_Reporting_Airline**\n",
    "    * **Description** An identification number assigned by US DOT to identify a unique airline (carrier). A unique airline (carrier) is defined as one holding and reporting under the same DOT certificate regardless of its Code, Name, or holding company/corporation.\n",
    "    * **Drop**\n",
    "    * **Comment:** Not unique\n",
    "    \n",
    "8. **IATA_CODE_Reporting_Airline**\n",
    "    * **Description:** Code assigned by IATA and commonly used to identify a carrier. As the same code may have been assigned to different carriers over time, the code is not always unique. For analysis, use the Unique Carrier Code.\n",
    "    * **Drop**\n",
    "    * **Comment:** Not unique\n",
    "\n",
    "9. **Tail_Number**\n",
    "    * **Description:** Tail Number\n",
    "    * **Drop**\n",
    "    * **Comment:** Irrelevant to the purposes of the project\n",
    "\n",
    "10. **Flight_Number_Reporting_Airline**\n",
    "    * **Description:** Flight Number\n",
    "    * **Data type:** int16\n",
    "    * **Keep**\n",
    "    * **Comment:** Unique number of the flight at a specific day/time"
   ]
  },
  {
   "cell_type": "code",
   "execution_count": 25,
   "metadata": {},
   "outputs": [
    {
     "data": {
      "text/plain": [
       "array(['AA', 'AS', 'DL', 'EV', 'B6', 'F9', 'FL', 'HA', 'MQ', 'US', 'OO',\n",
       "       'VX', 'WN', 'UA'], dtype=object)"
      ]
     },
     "execution_count": 25,
     "metadata": {},
     "output_type": "execute_result"
    }
   ],
   "source": [
    "flights_2014_1.iloc[:, 6].unique()"
   ]
  },
  {
   "cell_type": "code",
   "execution_count": 26,
   "metadata": {},
   "outputs": [
    {
     "data": {
      "text/plain": [
       "count    471949.000000\n",
       "mean       2304.719605\n",
       "std        1857.378202\n",
       "min           1.000000\n",
       "25%         707.000000\n",
       "50%        1780.000000\n",
       "75%        3583.000000\n",
       "max        8404.000000\n",
       "Name: Flight_Number_Reporting_Airline, dtype: float64"
      ]
     },
     "execution_count": 26,
     "metadata": {},
     "output_type": "execute_result"
    }
   ],
   "source": [
    "flights_2014_1['Flight_Number_Reporting_Airline'].describe()"
   ]
  },
  {
   "cell_type": "code",
   "execution_count": 27,
   "metadata": {},
   "outputs": [
    {
     "name": "stdout",
     "output_type": "stream",
     "text": [
      "<class 'pandas.core.frame.DataFrame'>\n",
      "RangeIndex: 471949 entries, 0 to 471948\n",
      "Data columns (total 2 columns):\n",
      " #   Column                           Non-Null Count   Dtype \n",
      "---  ------                           --------------   ----- \n",
      " 0   Reporting_Airline                471949 non-null  object\n",
      " 1   Flight_Number_Reporting_Airline  471949 non-null  int64 \n",
      "dtypes: int64(1), object(1)\n",
      "memory usage: 7.2+ MB\n"
     ]
    }
   ],
   "source": [
    "flights_2014_1[['Reporting_Airline', 'Flight_Number_Reporting_Airline']].info()"
   ]
  },
  {
   "cell_type": "code",
   "execution_count": 28,
   "metadata": {},
   "outputs": [
    {
     "data": {
      "text/plain": [
       "Reporting_Airline                  0\n",
       "Flight_Number_Reporting_Airline    0\n",
       "dtype: int64"
      ]
     },
     "execution_count": 28,
     "metadata": {},
     "output_type": "execute_result"
    }
   ],
   "source": [
    "flights_2014_1[['Reporting_Airline', 'Flight_Number_Reporting_Airline']].isna().sum()"
   ]
  },
  {
   "cell_type": "markdown",
   "metadata": {},
   "source": [
    "The data in the fields Reporting_Airline and Flight_Number_Reporting_Airline is accurate, there is no outliers or NA, But I need to change the data type during the data transformation."
   ]
  },
  {
   "cell_type": "markdown",
   "metadata": {},
   "source": [
    "###  Origin and Destination detailes"
   ]
  },
  {
   "cell_type": "code",
   "execution_count": 29,
   "metadata": {},
   "outputs": [
    {
     "data": {
      "text/html": [
       "<div>\n",
       "<style scoped>\n",
       "    .dataframe tbody tr th:only-of-type {\n",
       "        vertical-align: middle;\n",
       "    }\n",
       "\n",
       "    .dataframe tbody tr th {\n",
       "        vertical-align: top;\n",
       "    }\n",
       "\n",
       "    .dataframe thead th {\n",
       "        text-align: right;\n",
       "    }\n",
       "</style>\n",
       "<table border=\"1\" class=\"dataframe\">\n",
       "  <thead>\n",
       "    <tr style=\"text-align: right;\">\n",
       "      <th></th>\n",
       "      <th>DestAirportID</th>\n",
       "      <th>DestAirportSeqID</th>\n",
       "      <th>DestCityMarketID</th>\n",
       "      <th>Dest</th>\n",
       "      <th>DestCityName</th>\n",
       "      <th>DestState</th>\n",
       "      <th>DestStateFips</th>\n",
       "      <th>DestStateName</th>\n",
       "      <th>DestWac</th>\n",
       "    </tr>\n",
       "  </thead>\n",
       "  <tbody>\n",
       "    <tr>\n",
       "      <th>0</th>\n",
       "      <td>12278</td>\n",
       "      <td>1227802</td>\n",
       "      <td>30928</td>\n",
       "      <td>ICT</td>\n",
       "      <td>Wichita, KS</td>\n",
       "      <td>KS</td>\n",
       "      <td>20</td>\n",
       "      <td>Kansas</td>\n",
       "      <td>62</td>\n",
       "    </tr>\n",
       "    <tr>\n",
       "      <th>1</th>\n",
       "      <td>12278</td>\n",
       "      <td>1227802</td>\n",
       "      <td>30928</td>\n",
       "      <td>ICT</td>\n",
       "      <td>Wichita, KS</td>\n",
       "      <td>KS</td>\n",
       "      <td>20</td>\n",
       "      <td>Kansas</td>\n",
       "      <td>62</td>\n",
       "    </tr>\n",
       "    <tr>\n",
       "      <th>2</th>\n",
       "      <td>11298</td>\n",
       "      <td>1129803</td>\n",
       "      <td>30194</td>\n",
       "      <td>DFW</td>\n",
       "      <td>Dallas/Fort Worth, TX</td>\n",
       "      <td>TX</td>\n",
       "      <td>48</td>\n",
       "      <td>Texas</td>\n",
       "      <td>74</td>\n",
       "    </tr>\n",
       "    <tr>\n",
       "      <th>3</th>\n",
       "      <td>11298</td>\n",
       "      <td>1129803</td>\n",
       "      <td>30194</td>\n",
       "      <td>DFW</td>\n",
       "      <td>Dallas/Fort Worth, TX</td>\n",
       "      <td>TX</td>\n",
       "      <td>48</td>\n",
       "      <td>Texas</td>\n",
       "      <td>74</td>\n",
       "    </tr>\n",
       "    <tr>\n",
       "      <th>4</th>\n",
       "      <td>11298</td>\n",
       "      <td>1129803</td>\n",
       "      <td>30194</td>\n",
       "      <td>DFW</td>\n",
       "      <td>Dallas/Fort Worth, TX</td>\n",
       "      <td>TX</td>\n",
       "      <td>48</td>\n",
       "      <td>Texas</td>\n",
       "      <td>74</td>\n",
       "    </tr>\n",
       "    <tr>\n",
       "      <th>5</th>\n",
       "      <td>11298</td>\n",
       "      <td>1129803</td>\n",
       "      <td>30194</td>\n",
       "      <td>DFW</td>\n",
       "      <td>Dallas/Fort Worth, TX</td>\n",
       "      <td>TX</td>\n",
       "      <td>48</td>\n",
       "      <td>Texas</td>\n",
       "      <td>74</td>\n",
       "    </tr>\n",
       "  </tbody>\n",
       "</table>\n",
       "</div>"
      ],
      "text/plain": [
       "   DestAirportID  DestAirportSeqID  DestCityMarketID Dest  \\\n",
       "0          12278           1227802             30928  ICT   \n",
       "1          12278           1227802             30928  ICT   \n",
       "2          11298           1129803             30194  DFW   \n",
       "3          11298           1129803             30194  DFW   \n",
       "4          11298           1129803             30194  DFW   \n",
       "5          11298           1129803             30194  DFW   \n",
       "\n",
       "            DestCityName DestState  DestStateFips DestStateName  DestWac  \n",
       "0            Wichita, KS        KS             20        Kansas       62  \n",
       "1            Wichita, KS        KS             20        Kansas       62  \n",
       "2  Dallas/Fort Worth, TX        TX             48         Texas       74  \n",
       "3  Dallas/Fort Worth, TX        TX             48         Texas       74  \n",
       "4  Dallas/Fort Worth, TX        TX             48         Texas       74  \n",
       "5  Dallas/Fort Worth, TX        TX             48         Texas       74  "
      ]
     },
     "execution_count": 29,
     "metadata": {},
     "output_type": "execute_result"
    }
   ],
   "source": [
    "DestFields = ['DestAirportID', \n",
    "                'DestAirportSeqID', \n",
    "                'DestCityMarketID',\n",
    "                'Dest',\n",
    "                'DestCityName',\n",
    "                'DestState',\n",
    "                'DestStateFips',\n",
    "                'DestStateName',\n",
    "                'DestWac']\n",
    "flights_2014_1.loc[:5, DestFields]"
   ]
  },
  {
   "cell_type": "code",
   "execution_count": 30,
   "metadata": {},
   "outputs": [
    {
     "data": {
      "text/html": [
       "<div>\n",
       "<style scoped>\n",
       "    .dataframe tbody tr th:only-of-type {\n",
       "        vertical-align: middle;\n",
       "    }\n",
       "\n",
       "    .dataframe tbody tr th {\n",
       "        vertical-align: top;\n",
       "    }\n",
       "\n",
       "    .dataframe thead th {\n",
       "        text-align: right;\n",
       "    }\n",
       "</style>\n",
       "<table border=\"1\" class=\"dataframe\">\n",
       "  <thead>\n",
       "    <tr style=\"text-align: right;\">\n",
       "      <th></th>\n",
       "      <th>OriginAirportID</th>\n",
       "      <th>OriginAirportSeqID</th>\n",
       "      <th>OriginCityMarketID</th>\n",
       "      <th>Origin</th>\n",
       "      <th>OriginCityName</th>\n",
       "      <th>OriginState</th>\n",
       "      <th>OriginStateFips</th>\n",
       "      <th>OriginStateName</th>\n",
       "      <th>OriginWac</th>\n",
       "    </tr>\n",
       "  </thead>\n",
       "  <tbody>\n",
       "    <tr>\n",
       "      <th>0</th>\n",
       "      <td>11298</td>\n",
       "      <td>1129803</td>\n",
       "      <td>30194</td>\n",
       "      <td>DFW</td>\n",
       "      <td>Dallas/Fort Worth, TX</td>\n",
       "      <td>TX</td>\n",
       "      <td>48</td>\n",
       "      <td>Texas</td>\n",
       "      <td>74</td>\n",
       "    </tr>\n",
       "    <tr>\n",
       "      <th>1</th>\n",
       "      <td>11298</td>\n",
       "      <td>1129803</td>\n",
       "      <td>30194</td>\n",
       "      <td>DFW</td>\n",
       "      <td>Dallas/Fort Worth, TX</td>\n",
       "      <td>TX</td>\n",
       "      <td>48</td>\n",
       "      <td>Texas</td>\n",
       "      <td>74</td>\n",
       "    </tr>\n",
       "    <tr>\n",
       "      <th>2</th>\n",
       "      <td>12278</td>\n",
       "      <td>1227802</td>\n",
       "      <td>30928</td>\n",
       "      <td>ICT</td>\n",
       "      <td>Wichita, KS</td>\n",
       "      <td>KS</td>\n",
       "      <td>20</td>\n",
       "      <td>Kansas</td>\n",
       "      <td>62</td>\n",
       "    </tr>\n",
       "    <tr>\n",
       "      <th>3</th>\n",
       "      <td>12278</td>\n",
       "      <td>1227802</td>\n",
       "      <td>30928</td>\n",
       "      <td>ICT</td>\n",
       "      <td>Wichita, KS</td>\n",
       "      <td>KS</td>\n",
       "      <td>20</td>\n",
       "      <td>Kansas</td>\n",
       "      <td>62</td>\n",
       "    </tr>\n",
       "    <tr>\n",
       "      <th>4</th>\n",
       "      <td>12278</td>\n",
       "      <td>1227802</td>\n",
       "      <td>30928</td>\n",
       "      <td>ICT</td>\n",
       "      <td>Wichita, KS</td>\n",
       "      <td>KS</td>\n",
       "      <td>20</td>\n",
       "      <td>Kansas</td>\n",
       "      <td>62</td>\n",
       "    </tr>\n",
       "    <tr>\n",
       "      <th>5</th>\n",
       "      <td>12278</td>\n",
       "      <td>1227802</td>\n",
       "      <td>30928</td>\n",
       "      <td>ICT</td>\n",
       "      <td>Wichita, KS</td>\n",
       "      <td>KS</td>\n",
       "      <td>20</td>\n",
       "      <td>Kansas</td>\n",
       "      <td>62</td>\n",
       "    </tr>\n",
       "  </tbody>\n",
       "</table>\n",
       "</div>"
      ],
      "text/plain": [
       "   OriginAirportID  OriginAirportSeqID  OriginCityMarketID Origin  \\\n",
       "0            11298             1129803               30194    DFW   \n",
       "1            11298             1129803               30194    DFW   \n",
       "2            12278             1227802               30928    ICT   \n",
       "3            12278             1227802               30928    ICT   \n",
       "4            12278             1227802               30928    ICT   \n",
       "5            12278             1227802               30928    ICT   \n",
       "\n",
       "          OriginCityName OriginState  OriginStateFips OriginStateName  \\\n",
       "0  Dallas/Fort Worth, TX          TX               48           Texas   \n",
       "1  Dallas/Fort Worth, TX          TX               48           Texas   \n",
       "2            Wichita, KS          KS               20          Kansas   \n",
       "3            Wichita, KS          KS               20          Kansas   \n",
       "4            Wichita, KS          KS               20          Kansas   \n",
       "5            Wichita, KS          KS               20          Kansas   \n",
       "\n",
       "   OriginWac  \n",
       "0         74  \n",
       "1         74  \n",
       "2         62  \n",
       "3         62  \n",
       "4         62  \n",
       "5         62  "
      ]
     },
     "execution_count": 30,
     "metadata": {},
     "output_type": "execute_result"
    }
   ],
   "source": [
    "OriginFields = ['OriginAirportID', \n",
    "                'OriginAirportSeqID', \n",
    "                'OriginCityMarketID',\n",
    "                'Origin',\n",
    "                'OriginCityName',\n",
    "                'OriginState',\n",
    "                'OriginStateFips',\n",
    "                'OriginStateName',\n",
    "                'OriginWac']\n",
    "flights_2014_1.loc[:5, OriginFields]"
   ]
  },
  {
   "cell_type": "markdown",
   "metadata": {},
   "source": [
    "Origin and Destination data has the same structure so I will treat it the same way.\n",
    "\n",
    "11.\t**OriginAirportID / 20. DestAirportID**  \n",
    "    * **Description:** Origin/Destination Airport, Airport ID. An identification number assigned by US DOT to identify a unique airport. Use this field for airport analysis across a range of years because an airport can change its airport code and airport codes can be reused.  \n",
    "    * **Data type:** category  \n",
    "    * **Keep**  \n",
    "    * **Comment:** I decided to keep these codes because of its uniqueness, assuared by data provider.  \n",
    "    \n",
    "12.\t**OriginAirportSeqID / 21. DestAirportSeqID**  \n",
    "    * **Description:** Origin/Destination Airport, Airport Sequence ID. An identification number assigned by US DOT to identify a unique airport at a given point of time. Airport attributes, such as airport name or coordinates, may change over time.\n",
    "    * **Drop**\n",
    "13.\t**OriginCityMarketID / 22. DestCityMarketID**\n",
    "    * **Description:** Origin/Destination Airport, City Market ID. City Market ID is an identification number assigned by US DOT to identify a city market. Use this field to consolidate airports serving the same city market.\n",
    "    * **Drop**\n",
    "14.\t**Origin / 23. Dest**\n",
    "    * **Description:** Origin/Destination Airport\n",
    "    * **Data type:** category\n",
    "    * **Keep**\n",
    "    * **Comment:** This core is IATA code of the airport, which is represented in most traveling documents. It could be useful in the model.\n",
    "15.\t**OriginCityName / 24. DestCityName**\n",
    "    * **Description:** Origin/Destination Airport, City Name\n",
    "    * **Drop**\n",
    "16.\t**OriginState / 25. DestState**\n",
    "    * **Description:** Origin/Destination Airport, State Code\n",
    "    * **Drop**\n",
    "17.\t**OriginStateFips / 26. DestStateFips**\n",
    "    * **Description:** Origin/Destination Airport, State Fips\n",
    "    * **Drop**\n",
    "18.\t**OriginStateName / 27. DestStateName**\n",
    "    * **Description:** Origin/Destination Airport, State Name\n",
    "    * **Drop**\n",
    "19.\t**OriginWac / 28. DestWac**\n",
    "    * **Description:** Origin/Destination Airport, World Area Code\n",
    "    * **Drop**"
   ]
  },
  {
   "cell_type": "code",
   "execution_count": 31,
   "metadata": {},
   "outputs": [
    {
     "data": {
      "text/plain": [
       "array([11298, 12278, 13303, 10666, 14057, 13830, 13796, 14893, 12758,\n",
       "       12173, 14831, 14747, 14679, 12982, 10299, 11278, 11618, 12892,\n",
       "       13204, 10721, 13930, 11697, 13487, 14100, 10551, 10170, 14709,\n",
       "       10754, 11630, 12819, 12523, 10926, 15991, 14828, 14256, 15841,\n",
       "       13873, 13970, 14107, 14771, 14262, 14908, 10800, 13891, 12889,\n",
       "       15376, 10423, 11292, 14683, 11884, 14869, 12266, 10397, 15016,\n",
       "       13198, 10165, 11193, 10713, 15624, 14730, 14027, 12953, 12478,\n",
       "       10994, 10693, 10781, 10599, 11481, 15304, 14635, 11433, 10821,\n",
       "       10868, 13342, 11042, 11066, 13244, 10257, 11109, 13485, 10529,\n",
       "       11775, 11996, 12448, 14193, 11641, 11057, 12206, 12264, 10208,\n",
       "       10792, 11267, 12992, 14843, 11624, 10874, 14122, 15412, 14524,\n",
       "       11973, 10140, 13871, 13495, 15370, 14576, 11721, 13851, 13931,\n",
       "       15249, 12217, 11252, 15024, 13232, 10849, 12451, 14685, 12339,\n",
       "       14492, 13577, 11503, 13360, 11995, 14986, 12191, 15323, 14570,\n",
       "       11986, 15096, 13422, 11540, 11637, 12094, 12323, 10620, 12945,\n",
       "       10980, 12441, 11423, 11146, 14307, 10431, 14321, 10279, 14842,\n",
       "       10747, 10185, 14814, 13502, 13061, 13158, 12915, 10785, 12951,\n",
       "       11982, 12197, 11413, 10728, 14457, 13367, 14696, 10136, 15411,\n",
       "       14674, 11003, 11140, 13296, 13230, 13433, 11049, 14574, 12884,\n",
       "       12896, 15380, 13029, 11921, 13256, 11203, 10434, 15919, 14254,\n",
       "       12954, 10732, 15070, 13933, 15027, 11259, 13377, 12177, 11612,\n",
       "       11778, 11617, 14108, 10135, 10731, 13795, 11308, 14098, 11537,\n",
       "       14783, 11953, 10408, 12007, 13277, 15607, 11150, 10685, 10581,\n",
       "       11823, 10990, 10146, 11977, 11726, 10627, 11315, 14711, 12389,\n",
       "       12320, 11603, 10643, 15356, 14689, 11638, 12402, 14222, 12891,\n",
       "       14588, 15295, 11867, 10155, 14960, 14952, 12511, 11980, 10268,\n",
       "       11111, 10361, 11067, 13290, 14633, 11274, 10372, 10469, 11905,\n",
       "       13459, 15048, 15401, 12003, 11122, 11648, 13264, 12016, 12391,\n",
       "       11337, 13486, 11865, 14794, 11041, 11076, 12280, 13476, 10561,\n",
       "       16218, 11695, 14489, 14006, 10157, 14487, 12012, 12129, 14698,\n",
       "       13024, 13076, 13388, 13344, 11898, 14252, 12156, 13184, 13127,\n",
       "       15041, 14543, 10930, 11471, 11002, 13424, 12888, 14905, 10141,\n",
       "       10333, 10631, 15389, 10739, 10779, 10918, 12335, 14520, 12343,\n",
       "       14113, 11525, 11097, 13964])"
      ]
     },
     "execution_count": 31,
     "metadata": {},
     "output_type": "execute_result"
    }
   ],
   "source": [
    "flights_2014_1.loc[:, 'OriginAirportID'].unique()"
   ]
  },
  {
   "cell_type": "code",
   "execution_count": 32,
   "metadata": {},
   "outputs": [
    {
     "data": {
      "text/plain": [
       "array([12278, 11298, 15304, 13830, 14831, 12758, 14893, 14747, 14057,\n",
       "       13796, 12173, 14679, 10299, 12982, 10666, 11278, 12892, 11618,\n",
       "       13204, 10721, 13930, 14100, 11697, 13487, 10551, 10170, 14709,\n",
       "       10754, 11630, 12819, 12523, 15991, 10926, 14828, 14256, 15841,\n",
       "       13873, 13970, 14107, 14771, 14262, 14908, 10800, 13891, 12889,\n",
       "       15376, 10423, 11292, 11884, 14683, 14869, 12266, 10397, 15016,\n",
       "       13198, 10165, 12953, 10713, 12478, 10821, 15624, 14027, 11433,\n",
       "       13495, 14492, 11066, 13232, 14986, 11996, 11986, 10868, 10994,\n",
       "       13342, 12448, 11995, 10599, 13244, 14321, 11481, 12264, 11042,\n",
       "       11057, 14635, 13303, 12339, 11193, 13485, 10529, 14193, 14843,\n",
       "       12206, 10792, 11267, 10693, 12992, 11624, 10874, 15412, 14122,\n",
       "       14524, 11973, 10140, 13871, 15370, 14576, 15024, 10781, 11721,\n",
       "       13851, 13931, 15249, 12217, 11252, 14685, 10849, 12451, 14730,\n",
       "       11503, 13577, 11641, 13360, 11637, 11540, 12191, 14570, 14307,\n",
       "       15096, 13422, 12094, 10208, 12945, 11775, 10620, 12441, 10980,\n",
       "       15323, 12323, 10257, 11423, 11146, 11109, 10431, 10279, 14814,\n",
       "       14842, 10185, 13502, 10747, 13158, 10728, 12915, 11982, 11413,\n",
       "       14457, 13061, 13367, 14696, 10136, 15411, 13230, 11003, 11140,\n",
       "       10434, 13296, 13433, 11049, 12951, 12896, 13029, 15380, 10785,\n",
       "       13256, 11203, 12197, 12954, 14254, 10732, 15070, 13933, 15027,\n",
       "       13377, 15919, 12884, 11259, 14574, 10627, 12177, 11921, 11612,\n",
       "       11778, 11617, 14108, 10731, 13795, 11308, 14098, 14783, 10990,\n",
       "       11953, 10408, 12007, 13277, 10135, 15607, 11150, 10685, 11537,\n",
       "       10146, 10581, 11823, 11977, 11726, 14674, 11315, 14711, 12389,\n",
       "       12320, 11638, 10643, 15356, 14689, 11603, 12402, 14222, 14588,\n",
       "       11067, 11867, 10155, 14960, 15295, 11980, 10268, 13290, 10361,\n",
       "       14952, 14633, 11274, 15048, 13459, 12891, 11905, 12511, 10372,\n",
       "       15401, 11111, 13476, 11122, 12391, 12016, 10469, 11337, 14489,\n",
       "       14794, 11041, 16218, 12280, 13127, 11695, 10561, 14487, 12012,\n",
       "       12003, 11002, 11097, 13264, 14698, 11648, 10157, 13076, 14252,\n",
       "       10930, 13344, 11471, 13388, 13184, 11898, 13486, 12156, 12129,\n",
       "       11076, 15041, 14006, 11865, 13024, 14543, 12888, 13424, 14905,\n",
       "       15389, 10141, 10333, 10631, 10739, 12343, 10779, 10918, 14520,\n",
       "       12335, 14113, 11525, 13964])"
      ]
     },
     "execution_count": 32,
     "metadata": {},
     "output_type": "execute_result"
    }
   ],
   "source": [
    "flights_2014_1.loc[:, 'DestAirportID'].unique()"
   ]
  },
  {
   "cell_type": "code",
   "execution_count": 33,
   "metadata": {},
   "outputs": [
    {
     "data": {
      "text/plain": [
       "array(['DFW', 'ICT', 'MIA', 'BLI', 'PDX', 'OGG', 'OAK', 'SMF', 'KOA',\n",
       "       'HNL', 'SJC', 'SEA', 'SAN', 'LIH', 'ANC', 'DCA', 'EWR', 'LAX',\n",
       "       'MCO', 'BOS', 'ORD', 'FLL', 'MSP', 'PHL', 'BET', 'ADQ', 'SCC',\n",
       "       'BRW', 'FAI', 'KTN', 'JNU', 'CDV', 'YAK', 'SIT', 'PSG', 'WRG',\n",
       "       'OME', 'OTZ', 'PHX', 'SFO', 'PSP', 'SNA', 'BUR', 'ONT', 'LAS',\n",
       "       'TUS', 'AUS', 'DEN', 'SAT', 'GEG', 'SLC', 'IAH', 'ATL', 'STL',\n",
       "       'MCI', 'ADK', 'CVG', 'BOI', 'VPS', 'SDF', 'PBI', 'LGA', 'JFK',\n",
       "       'CHS', 'BNA', 'BTR', 'BHM', 'ECP', 'TPA', 'RSW', 'DTW', 'BWI',\n",
       "       'CAE', 'MKE', 'CLE', 'CMH', 'MEM', 'ALB', 'COS', 'MSN', 'BDL',\n",
       "       'FSD', 'GSP', 'JAN', 'PNS', 'FAY', 'CLT', 'HRL', 'IAD', 'AGS',\n",
       "       'BUF', 'DAY', 'LIT', 'SJU', 'EYW', 'CAK', 'PIT', 'TYS', 'RIC',\n",
       "       'GPT', 'ABQ', 'OMA', 'MSY', 'TUL', 'ROC', 'FNT', 'OKC', 'ORF',\n",
       "       'TLH', 'HSV', 'DAB', 'STT', 'MDW', 'BZN', 'JAX', 'SAV', 'IND',\n",
       "       'RDU', 'MYR', 'EGE', 'MLB', 'GSO', 'SRQ', 'HOU', 'TRI', 'RNO',\n",
       "       'GRR', 'SYR', 'MOB', 'ELP', 'FAR', 'HDN', 'ILM', 'BIL', 'LEX',\n",
       "       'CHA', 'JAC', 'DSM', 'CRW', 'PVD', 'AVL', 'PWM', 'AMA', 'SJT',\n",
       "       'BRO', 'AEX', 'SHV', 'MTJ', 'LRD', 'MAF', 'LCH', 'BTV', 'LFT',\n",
       "       'GRK', 'HPN', 'DRO', 'BPT', 'RAP', 'MLI', 'SBN', 'ABI', 'TYR',\n",
       "       'SAF', 'CID', 'CRP', 'MHT', 'MDT', 'MOT', 'CLL', 'ROA', 'LAN',\n",
       "       'LBB', 'TVC', 'LNK', 'GJT', 'MFE', 'CWA', 'AVP', 'XNA', 'PSE',\n",
       "       'LGB', 'BQN', 'SWF', 'ORH', 'STX', 'DAL', 'MLU', 'HOB', 'EVV',\n",
       "       'FSM', 'EWN', 'PIA', 'ABE', 'BQK', 'OAJ', 'DHN', 'PHF', 'ELM',\n",
       "       'SGF', 'GNV', 'ATW', 'GTR', 'MGM', 'VLD', 'CSG', 'BMI', 'BGR',\n",
       "       'FWA', 'CHO', 'ABY', 'GRB', 'FOE', 'BIS', 'DIK', 'SCE', 'ISN',\n",
       "       'ILG', 'EUG', 'BKG', 'TTN', 'SBA', 'FAT', 'ITO', 'PPG', 'LAW',\n",
       "       'ROW', 'TOL', 'GCK', 'ACT', 'SPS', 'SPI', 'JLN', 'GRI', 'ALO',\n",
       "       'COU', 'ART', 'CMI', 'MHK', 'RST', 'DBQ', 'ASE', 'AZO', 'GGG',\n",
       "       'MQT', 'SUX', 'TXK', 'GTF', 'CPR', 'FCA', 'MFR', 'GUM', 'ISP',\n",
       "       'DLH', 'MSO', 'GCC', 'SGU', 'CLD', 'CMX', 'IDA', 'MRY', 'BFL',\n",
       "       'YUM', 'FLG', 'RDM', 'PAH', 'ACV', 'RDD', 'GUC', 'HIB', 'SBP',\n",
       "       'LMT', 'LSE', 'MMH', 'MKG', 'GFK', 'PSC', 'HLN', 'MBS', 'LWS',\n",
       "       'SUN', 'RKS', 'CEC', 'EAU', 'CIC', 'MOD', 'LAR', 'SMX', 'ABR',\n",
       "       'APN', 'BJI', 'TWF', 'BRD', 'BTM', 'CDC', 'IMT', 'RHI', 'INL',\n",
       "       'PIH', 'EKO', 'COD', 'OTH'], dtype=object)"
      ]
     },
     "execution_count": 33,
     "metadata": {},
     "output_type": "execute_result"
    }
   ],
   "source": [
    "flights_2014_1.loc[:, 'Origin'].unique()"
   ]
  },
  {
   "cell_type": "code",
   "execution_count": 34,
   "metadata": {},
   "outputs": [
    {
     "data": {
      "text/plain": [
       "array(['ICT', 'DFW', 'TPA', 'OGG', 'SJC', 'KOA', 'SMF', 'SEA', 'PDX',\n",
       "       'OAK', 'HNL', 'SAN', 'ANC', 'LIH', 'BLI', 'DCA', 'LAX', 'EWR',\n",
       "       'MCO', 'BOS', 'ORD', 'PHL', 'FLL', 'MSP', 'BET', 'ADQ', 'SCC',\n",
       "       'BRW', 'FAI', 'KTN', 'JNU', 'YAK', 'CDV', 'SIT', 'PSG', 'WRG',\n",
       "       'OME', 'OTZ', 'PHX', 'SFO', 'PSP', 'SNA', 'BUR', 'ONT', 'LAS',\n",
       "       'TUS', 'AUS', 'DEN', 'GEG', 'SAT', 'SLC', 'IAH', 'ATL', 'STL',\n",
       "       'MCI', 'ADK', 'LGA', 'BOI', 'JFK', 'BWI', 'VPS', 'PBI', 'DTW',\n",
       "       'MSY', 'RDU', 'CMH', 'MDW', 'SRQ', 'GSP', 'GRR', 'CAE', 'CHS',\n",
       "       'MKE', 'JAN', 'GSO', 'BHM', 'MEM', 'PWM', 'ECP', 'IAD', 'CLE',\n",
       "       'CLT', 'RSW', 'MIA', 'IND', 'CVG', 'MSN', 'BDL', 'PNS', 'SJU',\n",
       "       'HRL', 'BUF', 'DAY', 'BNA', 'LIT', 'EYW', 'CAK', 'TYS', 'PIT',\n",
       "       'RIC', 'GPT', 'ABQ', 'OMA', 'TUL', 'ROC', 'STT', 'BTR', 'FNT',\n",
       "       'OKC', 'ORF', 'TLH', 'HSV', 'DAB', 'SAV', 'BZN', 'JAX', 'SDF',\n",
       "       'EGE', 'MYR', 'FAY', 'MLB', 'FAR', 'ELP', 'HOU', 'RNO', 'PVD',\n",
       "       'SYR', 'MOB', 'HDN', 'AGS', 'LEX', 'FSD', 'BIL', 'JAC', 'CHA',\n",
       "       'TRI', 'ILM', 'ALB', 'DSM', 'CRW', 'COS', 'AVL', 'AMA', 'SHV',\n",
       "       'SJT', 'AEX', 'MTJ', 'BRO', 'MAF', 'BPT', 'LCH', 'GRK', 'DRO',\n",
       "       'RAP', 'LRD', 'MLI', 'SBN', 'ABI', 'TYR', 'MDT', 'CID', 'CRP',\n",
       "       'AVP', 'MHT', 'MOT', 'CLL', 'LFT', 'LBB', 'LNK', 'TVC', 'BTV',\n",
       "       'MFE', 'CWA', 'HPN', 'LGB', 'PSE', 'BQN', 'SWF', 'ORH', 'STX',\n",
       "       'MLU', 'XNA', 'LAN', 'DAL', 'ROA', 'BIS', 'HOB', 'GJT', 'EVV',\n",
       "       'FSM', 'EWN', 'PIA', 'BQK', 'OAJ', 'DHN', 'PHF', 'SGF', 'CHO',\n",
       "       'GNV', 'ATW', 'GTR', 'MGM', 'ABE', 'VLD', 'CSG', 'BMI', 'ELM',\n",
       "       'ABY', 'BGR', 'FWA', 'GRB', 'FOE', 'SAF', 'DIK', 'SCE', 'ISN',\n",
       "       'ILG', 'FAT', 'BKG', 'TTN', 'SBA', 'EUG', 'ITO', 'PPG', 'ROW',\n",
       "       'CMI', 'GCK', 'ACT', 'SPS', 'TOL', 'GRI', 'ALO', 'MHK', 'ART',\n",
       "       'SPI', 'RST', 'DBQ', 'SUX', 'MQT', 'LAW', 'GGG', 'JLN', 'ASE',\n",
       "       'TXK', 'COU', 'MRY', 'CPR', 'ISP', 'GUM', 'AZO', 'DLH', 'RDM',\n",
       "       'SGU', 'CLD', 'YUM', 'IDA', 'LWS', 'FLG', 'BFL', 'RDD', 'GUC',\n",
       "       'GTF', 'CIC', 'COD', 'MFR', 'SBP', 'FCA', 'ACV', 'LSE', 'PSC',\n",
       "       'CEC', 'MKG', 'EAU', 'MMH', 'MBS', 'GFK', 'MSO', 'HLN', 'HIB',\n",
       "       'CMX', 'SUN', 'PAH', 'GCC', 'LMT', 'RKS', 'LAR', 'MOD', 'SMX',\n",
       "       'TWF', 'ABR', 'APN', 'BJI', 'BRD', 'INL', 'BTM', 'CDC', 'RHI',\n",
       "       'IMT', 'PIH', 'EKO', 'OTH'], dtype=object)"
      ]
     },
     "execution_count": 34,
     "metadata": {},
     "output_type": "execute_result"
    }
   ],
   "source": [
    "flights_2014_1.loc[:, 'Dest'].unique()"
   ]
  },
  {
   "cell_type": "code",
   "execution_count": 35,
   "metadata": {},
   "outputs": [
    {
     "name": "stdout",
     "output_type": "stream",
     "text": [
      "Number of unique OriginAirport IDs: 301 \n",
      "Number of unique Origin codes: 301\n"
     ]
    }
   ],
   "source": [
    "# Check for equal number of Origin Airport IDs and Origin (IATA codes)\n",
    "print('Number of unique OriginAirport IDs:', flights_2014_1.loc[:, 'OriginAirportID'].nunique(),\n",
    "      '\\nNumber of unique Origin codes:', flights_2014_1.loc[:, 'Origin'].nunique())"
   ]
  },
  {
   "cell_type": "code",
   "execution_count": 36,
   "metadata": {},
   "outputs": [
    {
     "name": "stdout",
     "output_type": "stream",
     "text": [
      "Number of unique DestAirport IDs: 301 \n",
      "Number of unique Destination codes: 301\n"
     ]
    }
   ],
   "source": [
    "# Check for equal number of Origin Airport IDs and Origin (IATA codes)\n",
    "print('Number of unique DestAirport IDs:', flights_2014_1.loc[:, 'DestAirportID'].nunique(),\n",
    "      '\\nNumber of unique Destination codes:', flights_2014_1.loc[:, 'Dest'].nunique())"
   ]
  },
  {
   "cell_type": "code",
   "execution_count": 37,
   "metadata": {},
   "outputs": [
    {
     "data": {
      "text/plain": [
       "OriginAirportID    0\n",
       "Origin             0\n",
       "DestAirportID      0\n",
       "Dest               0\n",
       "dtype: int64"
      ]
     },
     "execution_count": 37,
     "metadata": {},
     "output_type": "execute_result"
    }
   ],
   "source": [
    "# Check for NA-values in the fields, I suppose to keep\n",
    "flights_2014_1[['OriginAirportID', 'Origin', 'DestAirportID', 'Dest']].isna().sum()"
   ]
  },
  {
   "cell_type": "markdown",
   "metadata": {},
   "source": [
    "The numbers of unique codes for OriginalAirportID/DestAirportID and Origin/Dest are equal, and they don't have NA-values."
   ]
  },
  {
   "cell_type": "markdown",
   "metadata": {},
   "source": [
    "###  Departure and Arrival times (scheduled and actual)"
   ]
  },
  {
   "cell_type": "code",
   "execution_count": 38,
   "metadata": {},
   "outputs": [
    {
     "data": {
      "text/html": [
       "<div>\n",
       "<style scoped>\n",
       "    .dataframe tbody tr th:only-of-type {\n",
       "        vertical-align: middle;\n",
       "    }\n",
       "\n",
       "    .dataframe tbody tr th {\n",
       "        vertical-align: top;\n",
       "    }\n",
       "\n",
       "    .dataframe thead th {\n",
       "        text-align: right;\n",
       "    }\n",
       "</style>\n",
       "<table border=\"1\" class=\"dataframe\">\n",
       "  <thead>\n",
       "    <tr style=\"text-align: right;\">\n",
       "      <th></th>\n",
       "      <th>CRSDepTime</th>\n",
       "      <th>DepTime</th>\n",
       "      <th>DepDelay</th>\n",
       "      <th>DepDelayMinutes</th>\n",
       "      <th>DepDel15</th>\n",
       "      <th>DepartureDelayGroups</th>\n",
       "      <th>DepTimeBlk</th>\n",
       "    </tr>\n",
       "  </thead>\n",
       "  <tbody>\n",
       "    <tr>\n",
       "      <th>0</th>\n",
       "      <td>940</td>\n",
       "      <td>935.0</td>\n",
       "      <td>-5.0</td>\n",
       "      <td>0.0</td>\n",
       "      <td>0.0</td>\n",
       "      <td>-1.0</td>\n",
       "      <td>0900-0959</td>\n",
       "    </tr>\n",
       "    <tr>\n",
       "      <th>1</th>\n",
       "      <td>940</td>\n",
       "      <td>951.0</td>\n",
       "      <td>11.0</td>\n",
       "      <td>11.0</td>\n",
       "      <td>0.0</td>\n",
       "      <td>0.0</td>\n",
       "      <td>0900-0959</td>\n",
       "    </tr>\n",
       "    <tr>\n",
       "      <th>2</th>\n",
       "      <td>1135</td>\n",
       "      <td>1144.0</td>\n",
       "      <td>9.0</td>\n",
       "      <td>9.0</td>\n",
       "      <td>0.0</td>\n",
       "      <td>0.0</td>\n",
       "      <td>1100-1159</td>\n",
       "    </tr>\n",
       "    <tr>\n",
       "      <th>3</th>\n",
       "      <td>1135</td>\n",
       "      <td>1134.0</td>\n",
       "      <td>-1.0</td>\n",
       "      <td>0.0</td>\n",
       "      <td>0.0</td>\n",
       "      <td>-1.0</td>\n",
       "      <td>1100-1159</td>\n",
       "    </tr>\n",
       "    <tr>\n",
       "      <th>4</th>\n",
       "      <td>1135</td>\n",
       "      <td>1129.0</td>\n",
       "      <td>-6.0</td>\n",
       "      <td>0.0</td>\n",
       "      <td>0.0</td>\n",
       "      <td>-1.0</td>\n",
       "      <td>1100-1159</td>\n",
       "    </tr>\n",
       "    <tr>\n",
       "      <th>5</th>\n",
       "      <td>1135</td>\n",
       "      <td>1141.0</td>\n",
       "      <td>6.0</td>\n",
       "      <td>6.0</td>\n",
       "      <td>0.0</td>\n",
       "      <td>0.0</td>\n",
       "      <td>1100-1159</td>\n",
       "    </tr>\n",
       "  </tbody>\n",
       "</table>\n",
       "</div>"
      ],
      "text/plain": [
       "   CRSDepTime  DepTime  DepDelay  DepDelayMinutes  DepDel15  \\\n",
       "0         940    935.0      -5.0              0.0       0.0   \n",
       "1         940    951.0      11.0             11.0       0.0   \n",
       "2        1135   1144.0       9.0              9.0       0.0   \n",
       "3        1135   1134.0      -1.0              0.0       0.0   \n",
       "4        1135   1129.0      -6.0              0.0       0.0   \n",
       "5        1135   1141.0       6.0              6.0       0.0   \n",
       "\n",
       "   DepartureDelayGroups DepTimeBlk  \n",
       "0                  -1.0  0900-0959  \n",
       "1                   0.0  0900-0959  \n",
       "2                   0.0  1100-1159  \n",
       "3                  -1.0  1100-1159  \n",
       "4                  -1.0  1100-1159  \n",
       "5                   0.0  1100-1159  "
      ]
     },
     "execution_count": 38,
     "metadata": {},
     "output_type": "execute_result"
    }
   ],
   "source": [
    "# Sample of the block of data for departure times\n",
    "DepFields = ['CRSDepTime', \n",
    "             'DepTime',\n",
    "             'DepDelay',\n",
    "             'DepDelayMinutes',\n",
    "             'DepDel15',\n",
    "             'DepartureDelayGroups',\n",
    "             'DepTimeBlk']\n",
    "flights_2014_1.loc[:5, DepFields]"
   ]
  },
  {
   "cell_type": "code",
   "execution_count": 39,
   "metadata": {},
   "outputs": [
    {
     "data": {
      "text/html": [
       "<div>\n",
       "<style scoped>\n",
       "    .dataframe tbody tr th:only-of-type {\n",
       "        vertical-align: middle;\n",
       "    }\n",
       "\n",
       "    .dataframe tbody tr th {\n",
       "        vertical-align: top;\n",
       "    }\n",
       "\n",
       "    .dataframe thead th {\n",
       "        text-align: right;\n",
       "    }\n",
       "</style>\n",
       "<table border=\"1\" class=\"dataframe\">\n",
       "  <thead>\n",
       "    <tr style=\"text-align: right;\">\n",
       "      <th></th>\n",
       "      <th>CRSArrTime</th>\n",
       "      <th>ArrTime</th>\n",
       "      <th>ArrDelay</th>\n",
       "      <th>ArrDelayMinutes</th>\n",
       "      <th>ArrDel15</th>\n",
       "      <th>ArrivalDelayGroups</th>\n",
       "      <th>ArrTimeBlk</th>\n",
       "    </tr>\n",
       "  </thead>\n",
       "  <tbody>\n",
       "    <tr>\n",
       "      <th>0</th>\n",
       "      <td>1055</td>\n",
       "      <td>1051.0</td>\n",
       "      <td>-4.0</td>\n",
       "      <td>0.0</td>\n",
       "      <td>0.0</td>\n",
       "      <td>-1.0</td>\n",
       "      <td>1000-1059</td>\n",
       "    </tr>\n",
       "    <tr>\n",
       "      <th>1</th>\n",
       "      <td>1055</td>\n",
       "      <td>1115.0</td>\n",
       "      <td>20.0</td>\n",
       "      <td>20.0</td>\n",
       "      <td>1.0</td>\n",
       "      <td>1.0</td>\n",
       "      <td>1000-1059</td>\n",
       "    </tr>\n",
       "    <tr>\n",
       "      <th>2</th>\n",
       "      <td>1300</td>\n",
       "      <td>1302.0</td>\n",
       "      <td>2.0</td>\n",
       "      <td>2.0</td>\n",
       "      <td>0.0</td>\n",
       "      <td>0.0</td>\n",
       "      <td>1300-1359</td>\n",
       "    </tr>\n",
       "    <tr>\n",
       "      <th>3</th>\n",
       "      <td>1300</td>\n",
       "      <td>1253.0</td>\n",
       "      <td>-7.0</td>\n",
       "      <td>0.0</td>\n",
       "      <td>0.0</td>\n",
       "      <td>-1.0</td>\n",
       "      <td>1300-1359</td>\n",
       "    </tr>\n",
       "    <tr>\n",
       "      <th>4</th>\n",
       "      <td>1300</td>\n",
       "      <td>1244.0</td>\n",
       "      <td>-16.0</td>\n",
       "      <td>0.0</td>\n",
       "      <td>0.0</td>\n",
       "      <td>-2.0</td>\n",
       "      <td>1300-1359</td>\n",
       "    </tr>\n",
       "    <tr>\n",
       "      <th>5</th>\n",
       "      <td>1300</td>\n",
       "      <td>1301.0</td>\n",
       "      <td>1.0</td>\n",
       "      <td>1.0</td>\n",
       "      <td>0.0</td>\n",
       "      <td>0.0</td>\n",
       "      <td>1300-1359</td>\n",
       "    </tr>\n",
       "  </tbody>\n",
       "</table>\n",
       "</div>"
      ],
      "text/plain": [
       "   CRSArrTime  ArrTime  ArrDelay  ArrDelayMinutes  ArrDel15  \\\n",
       "0        1055   1051.0      -4.0              0.0       0.0   \n",
       "1        1055   1115.0      20.0             20.0       1.0   \n",
       "2        1300   1302.0       2.0              2.0       0.0   \n",
       "3        1300   1253.0      -7.0              0.0       0.0   \n",
       "4        1300   1244.0     -16.0              0.0       0.0   \n",
       "5        1300   1301.0       1.0              1.0       0.0   \n",
       "\n",
       "   ArrivalDelayGroups ArrTimeBlk  \n",
       "0                -1.0  1000-1059  \n",
       "1                 1.0  1000-1059  \n",
       "2                 0.0  1300-1359  \n",
       "3                -1.0  1300-1359  \n",
       "4                -2.0  1300-1359  \n",
       "5                 0.0  1300-1359  "
      ]
     },
     "execution_count": 39,
     "metadata": {},
     "output_type": "execute_result"
    }
   ],
   "source": [
    "# Sample of the block of data for arrival times\n",
    "ArrFields = ['CRSArrTime', \n",
    "             'ArrTime',\n",
    "             'ArrDelay',\n",
    "             'ArrDelayMinutes',\n",
    "             'ArrDel15',\n",
    "             'ArrivalDelayGroups',\n",
    "             'ArrTimeBlk']\n",
    "flights_2014_1.loc[:5, ArrFields]"
   ]
  },
  {
   "cell_type": "markdown",
   "metadata": {},
   "source": [
    "Two groups of data (for Departure and Arrival time) have the same stricture and similar meaning (with difference in departure or arrival), so I group and describe them togethher.\n",
    "\n",
    "All time date in dataset is integer in format HHMM. I think for the further analysis it's worth to convert it into the number of minutes from the start of the day.\n",
    "\n",
    "29.\t**CRSDepTime  40. CRSArrTime** \n",
    "    * **Description:** CRS Departure/Arrival Time (local time: hhmm)\n",
    "    * **Data type:** float\n",
    "    * **Keep**\n",
    "    * **Comment:** CRS (Computer Reservation System) represents the scuduled time for the flight. I decided to keep this data at this stage becuase it's not clear yet which will be the drivers of the future model - time or categorical time blocks, such as DepTimeBlk or ArrTimeBlk. I suppose to make this decision later. Needs to conver to the number of minutes.\n",
    "30.\t**DepTime  41. ArrTime**  \n",
    "    * **Description:** Actual Departure/Arrival Time (local time: hhmm)\n",
    "    * **Data type:** float\n",
    "    * **Keep**\n",
    "    * **Comment:** Needs to conver to the number of minutes.\n",
    "31.\t**DepDelay  42. ArrDelay**  \n",
    "    * **Description:** Difference in minutes between scheduled and actual departure/arrival time. Early departures/arrival show negative numbers.\n",
    "    * **Data type:** float\n",
    "    * **Keep**\n",
    "32.\t**DepDelayMinutes  43. ArrDelayMinutes**\n",
    "    * **Description:** Difference in minutes between scheduled and actual departure/arrival time. Early departures/arrival set to 0.\n",
    "    * **Drop**\n",
    "    * **Comment:** This data dublicates partially the field DepDelay and ArrDelay with only differency that this data doesnt't show the negative values - departures or arrivals earlier\n",
    "33.\t**DepDel15  44. ArrDel15**\n",
    "    * **Description:** Departure/Arrival Delay Indicator, 15 Minutes or More (1=Yes)\n",
    "    * **Drop**\n",
    "    * **Comment:** This field represents a boolean data indicating wheather or not the flight delayed. We have the same, and even more detailed information, in the fields with the delay in minutes\n",
    "34.\t**DepartureDelayGroups  45. ArrivalDelayGroups**\n",
    "    * **Description:** Departure/Arrival Delay intervals, every (15 minutes from <-15 to >180)\n",
    "    * **Data type:** category\n",
    "    * **Keep**\n",
    "    * **Comment:** This categorical data can be useful for prediction model instead of actual delay time. We have to decide and choose it later.\n",
    "35.\t**DepTimeBlk  46. ArrTimeBlk**\n",
    "    * **Description:** CRS Departure Time Block, Hourly Intervals\n",
    "    * **Data type:** category\n",
    "    * **Keep**\n",
    "    * **Comment:** This categorical data probably will be more usefull for the prediction model comparing to the acrual departure or arrival times in minutes. \n",
    "\n",
    "The folllowing data represent some time and duration for processes which I think highly correlated with data described above. I suppose this data (below) doesn't add any value to the prediction model, and I am going to DROP it.  \n",
    "36.\tTaxiOut: Taxi Out Time, in Minutes  \n",
    "37.\tWheelsOff: Wheels Off Time (local time: hhmm)  \n",
    "38.\tWheelsOn: Wheels On Time (local time: hhmm)  \n",
    "39.\tTaxiIn: Taxi In Time, in Minutes  \n",
    "\n"
   ]
  },
  {
   "cell_type": "markdown",
   "metadata": {},
   "source": [
    "Let's check the fields supposed to be kept for null values and incosistent data "
   ]
  },
  {
   "cell_type": "code",
   "execution_count": 40,
   "metadata": {},
   "outputs": [
    {
     "data": {
      "text/html": [
       "<div>\n",
       "<style scoped>\n",
       "    .dataframe tbody tr th:only-of-type {\n",
       "        vertical-align: middle;\n",
       "    }\n",
       "\n",
       "    .dataframe tbody tr th {\n",
       "        vertical-align: top;\n",
       "    }\n",
       "\n",
       "    .dataframe thead th {\n",
       "        text-align: right;\n",
       "    }\n",
       "</style>\n",
       "<table border=\"1\" class=\"dataframe\">\n",
       "  <thead>\n",
       "    <tr style=\"text-align: right;\">\n",
       "      <th></th>\n",
       "      <th>CRSDepTime</th>\n",
       "      <th>DepTime</th>\n",
       "      <th>DepDelay</th>\n",
       "      <th>DepDelayMinutes</th>\n",
       "      <th>DepDel15</th>\n",
       "      <th>DepartureDelayGroups</th>\n",
       "    </tr>\n",
       "  </thead>\n",
       "  <tbody>\n",
       "    <tr>\n",
       "      <th>count</th>\n",
       "      <td>471949.000000</td>\n",
       "      <td>441622.000000</td>\n",
       "      <td>441622.000000</td>\n",
       "      <td>441622.000000</td>\n",
       "      <td>441622.000000</td>\n",
       "      <td>441622.000000</td>\n",
       "    </tr>\n",
       "    <tr>\n",
       "      <th>mean</th>\n",
       "      <td>1324.137998</td>\n",
       "      <td>1340.554716</td>\n",
       "      <td>16.049397</td>\n",
       "      <td>18.382259</td>\n",
       "      <td>0.267820</td>\n",
       "      <td>0.468930</td>\n",
       "    </tr>\n",
       "    <tr>\n",
       "      <th>std</th>\n",
       "      <td>459.332673</td>\n",
       "      <td>473.999078</td>\n",
       "      <td>45.539116</td>\n",
       "      <td>44.463942</td>\n",
       "      <td>0.442824</td>\n",
       "      <td>2.503865</td>\n",
       "    </tr>\n",
       "    <tr>\n",
       "      <th>min</th>\n",
       "      <td>5.000000</td>\n",
       "      <td>1.000000</td>\n",
       "      <td>-112.000000</td>\n",
       "      <td>0.000000</td>\n",
       "      <td>0.000000</td>\n",
       "      <td>-2.000000</td>\n",
       "    </tr>\n",
       "    <tr>\n",
       "      <th>25%</th>\n",
       "      <td>930.000000</td>\n",
       "      <td>940.000000</td>\n",
       "      <td>-4.000000</td>\n",
       "      <td>0.000000</td>\n",
       "      <td>0.000000</td>\n",
       "      <td>-1.000000</td>\n",
       "    </tr>\n",
       "    <tr>\n",
       "      <th>50%</th>\n",
       "      <td>1320.000000</td>\n",
       "      <td>1333.000000</td>\n",
       "      <td>0.000000</td>\n",
       "      <td>0.000000</td>\n",
       "      <td>0.000000</td>\n",
       "      <td>0.000000</td>\n",
       "    </tr>\n",
       "    <tr>\n",
       "      <th>75%</th>\n",
       "      <td>1715.000000</td>\n",
       "      <td>1729.000000</td>\n",
       "      <td>17.000000</td>\n",
       "      <td>17.000000</td>\n",
       "      <td>1.000000</td>\n",
       "      <td>1.000000</td>\n",
       "    </tr>\n",
       "    <tr>\n",
       "      <th>max</th>\n",
       "      <td>2359.000000</td>\n",
       "      <td>2400.000000</td>\n",
       "      <td>1560.000000</td>\n",
       "      <td>1560.000000</td>\n",
       "      <td>1.000000</td>\n",
       "      <td>12.000000</td>\n",
       "    </tr>\n",
       "  </tbody>\n",
       "</table>\n",
       "</div>"
      ],
      "text/plain": [
       "          CRSDepTime        DepTime       DepDelay  DepDelayMinutes  \\\n",
       "count  471949.000000  441622.000000  441622.000000    441622.000000   \n",
       "mean     1324.137998    1340.554716      16.049397        18.382259   \n",
       "std       459.332673     473.999078      45.539116        44.463942   \n",
       "min         5.000000       1.000000    -112.000000         0.000000   \n",
       "25%       930.000000     940.000000      -4.000000         0.000000   \n",
       "50%      1320.000000    1333.000000       0.000000         0.000000   \n",
       "75%      1715.000000    1729.000000      17.000000        17.000000   \n",
       "max      2359.000000    2400.000000    1560.000000      1560.000000   \n",
       "\n",
       "            DepDel15  DepartureDelayGroups  \n",
       "count  441622.000000         441622.000000  \n",
       "mean        0.267820              0.468930  \n",
       "std         0.442824              2.503865  \n",
       "min         0.000000             -2.000000  \n",
       "25%         0.000000             -1.000000  \n",
       "50%         0.000000              0.000000  \n",
       "75%         1.000000              1.000000  \n",
       "max         1.000000             12.000000  "
      ]
     },
     "execution_count": 40,
     "metadata": {},
     "output_type": "execute_result"
    }
   ],
   "source": [
    "# Check for values of the Departure block fields\n",
    "flights_2014_1.loc[:, DepFields].describe()"
   ]
  },
  {
   "cell_type": "code",
   "execution_count": 41,
   "metadata": {},
   "outputs": [
    {
     "data": {
      "text/html": [
       "<div>\n",
       "<style scoped>\n",
       "    .dataframe tbody tr th:only-of-type {\n",
       "        vertical-align: middle;\n",
       "    }\n",
       "\n",
       "    .dataframe tbody tr th {\n",
       "        vertical-align: top;\n",
       "    }\n",
       "\n",
       "    .dataframe thead th {\n",
       "        text-align: right;\n",
       "    }\n",
       "</style>\n",
       "<table border=\"1\" class=\"dataframe\">\n",
       "  <thead>\n",
       "    <tr style=\"text-align: right;\">\n",
       "      <th></th>\n",
       "      <th>CRSArrTime</th>\n",
       "      <th>ArrTime</th>\n",
       "      <th>ArrDelay</th>\n",
       "      <th>ArrDelayMinutes</th>\n",
       "      <th>ArrDel15</th>\n",
       "      <th>ArrivalDelayGroups</th>\n",
       "    </tr>\n",
       "  </thead>\n",
       "  <tbody>\n",
       "    <tr>\n",
       "      <th>count</th>\n",
       "      <td>471949.000000</td>\n",
       "      <td>440453.000000</td>\n",
       "      <td>439620.000000</td>\n",
       "      <td>439620.000000</td>\n",
       "      <td>439620.000000</td>\n",
       "      <td>439620.000000</td>\n",
       "    </tr>\n",
       "    <tr>\n",
       "      <th>mean</th>\n",
       "      <td>1510.874029</td>\n",
       "      <td>1501.132577</td>\n",
       "      <td>12.745314</td>\n",
       "      <td>18.775929</td>\n",
       "      <td>0.272949</td>\n",
       "      <td>0.314458</td>\n",
       "    </tr>\n",
       "    <tr>\n",
       "      <th>std</th>\n",
       "      <td>470.669308</td>\n",
       "      <td>496.412439</td>\n",
       "      <td>48.058170</td>\n",
       "      <td>44.886828</td>\n",
       "      <td>0.445476</td>\n",
       "      <td>2.645731</td>\n",
       "    </tr>\n",
       "    <tr>\n",
       "      <th>min</th>\n",
       "      <td>1.000000</td>\n",
       "      <td>1.000000</td>\n",
       "      <td>-112.000000</td>\n",
       "      <td>0.000000</td>\n",
       "      <td>0.000000</td>\n",
       "      <td>-2.000000</td>\n",
       "    </tr>\n",
       "    <tr>\n",
       "      <th>25%</th>\n",
       "      <td>1130.000000</td>\n",
       "      <td>1128.000000</td>\n",
       "      <td>-11.000000</td>\n",
       "      <td>0.000000</td>\n",
       "      <td>0.000000</td>\n",
       "      <td>-1.000000</td>\n",
       "    </tr>\n",
       "    <tr>\n",
       "      <th>50%</th>\n",
       "      <td>1527.000000</td>\n",
       "      <td>1528.000000</td>\n",
       "      <td>-1.000000</td>\n",
       "      <td>0.000000</td>\n",
       "      <td>0.000000</td>\n",
       "      <td>-1.000000</td>\n",
       "    </tr>\n",
       "    <tr>\n",
       "      <th>75%</th>\n",
       "      <td>1910.000000</td>\n",
       "      <td>1915.000000</td>\n",
       "      <td>17.000000</td>\n",
       "      <td>17.000000</td>\n",
       "      <td>1.000000</td>\n",
       "      <td>1.000000</td>\n",
       "    </tr>\n",
       "    <tr>\n",
       "      <th>max</th>\n",
       "      <td>2359.000000</td>\n",
       "      <td>2400.000000</td>\n",
       "      <td>1530.000000</td>\n",
       "      <td>1530.000000</td>\n",
       "      <td>1.000000</td>\n",
       "      <td>12.000000</td>\n",
       "    </tr>\n",
       "  </tbody>\n",
       "</table>\n",
       "</div>"
      ],
      "text/plain": [
       "          CRSArrTime        ArrTime       ArrDelay  ArrDelayMinutes  \\\n",
       "count  471949.000000  440453.000000  439620.000000    439620.000000   \n",
       "mean     1510.874029    1501.132577      12.745314        18.775929   \n",
       "std       470.669308     496.412439      48.058170        44.886828   \n",
       "min         1.000000       1.000000    -112.000000         0.000000   \n",
       "25%      1130.000000    1128.000000     -11.000000         0.000000   \n",
       "50%      1527.000000    1528.000000      -1.000000         0.000000   \n",
       "75%      1910.000000    1915.000000      17.000000        17.000000   \n",
       "max      2359.000000    2400.000000    1530.000000      1530.000000   \n",
       "\n",
       "            ArrDel15  ArrivalDelayGroups  \n",
       "count  439620.000000       439620.000000  \n",
       "mean        0.272949            0.314458  \n",
       "std         0.445476            2.645731  \n",
       "min         0.000000           -2.000000  \n",
       "25%         0.000000           -1.000000  \n",
       "50%         0.000000           -1.000000  \n",
       "75%         1.000000            1.000000  \n",
       "max         1.000000           12.000000  "
      ]
     },
     "execution_count": 41,
     "metadata": {},
     "output_type": "execute_result"
    }
   ],
   "source": [
    "# Check for values of the Arrival block fields\n",
    "flights_2014_1.loc[:, ArrFields].describe()"
   ]
  },
  {
   "cell_type": "code",
   "execution_count": 42,
   "metadata": {},
   "outputs": [
    {
     "data": {
      "text/plain": [
       "CRSDepTime                  0\n",
       "DepTime                 30327\n",
       "DepDelay                30327\n",
       "DepDelayMinutes         30327\n",
       "DepDel15                30327\n",
       "DepartureDelayGroups    30327\n",
       "DepTimeBlk                  0\n",
       "dtype: int64"
      ]
     },
     "execution_count": 42,
     "metadata": {},
     "output_type": "execute_result"
    }
   ],
   "source": [
    "# Check for NA-values in the Departure block fields\n",
    "flights_2014_1.loc[:, DepFields].isna().sum()"
   ]
  },
  {
   "cell_type": "code",
   "execution_count": 43,
   "metadata": {},
   "outputs": [
    {
     "data": {
      "text/plain": [
       "CRSArrTime                0\n",
       "ArrTime               31496\n",
       "ArrDelay              32329\n",
       "ArrDelayMinutes       32329\n",
       "ArrDel15              32329\n",
       "ArrivalDelayGroups    32329\n",
       "ArrTimeBlk                0\n",
       "dtype: int64"
      ]
     },
     "execution_count": 43,
     "metadata": {},
     "output_type": "execute_result"
    }
   ],
   "source": [
    "# Check for NA-values in the Arrival block fields\n",
    "flights_2014_1.loc[:, ArrFields].isna().sum()"
   ]
  },
  {
   "cell_type": "code",
   "execution_count": 44,
   "metadata": {},
   "outputs": [
    {
     "name": "stdout",
     "output_type": "stream",
     "text": [
      "[-1.  0.  1.  2.  6.  4.  3.  5. -2. nan 12.  9. 11.  8. 10.  7.]\n",
      "[-1.  1.  0. -2.  2.  6.  3.  5. nan  7.  4.  8. 12.  9. 10. 11.]\n"
     ]
    }
   ],
   "source": [
    "print(flights_2014_1['DepartureDelayGroups'].unique())\n",
    "print(flights_2014_1['ArrivalDelayGroups'].unique())"
   ]
  },
  {
   "cell_type": "code",
   "execution_count": 45,
   "metadata": {},
   "outputs": [
    {
     "name": "stdout",
     "output_type": "stream",
     "text": [
      "['0001-0559', '0600-0659', '0700-0759', '0800-0859', '0900-0959', '1000-1059', '1100-1159', '1200-1259', '1300-1359', '1400-1459', '1500-1559', '1600-1659', '1700-1759', '1800-1859', '1900-1959', '2000-2059', '2100-2159', '2200-2259', '2300-2359']\n",
      "['0001-0559', '0600-0659', '0700-0759', '0800-0859', '0900-0959', '1000-1059', '1100-1159', '1200-1259', '1300-1359', '1400-1459', '1500-1559', '1600-1659', '1700-1759', '1800-1859', '1900-1959', '2000-2059', '2100-2159', '2200-2259', '2300-2359']\n"
     ]
    }
   ],
   "source": [
    "print(sorted(flights_2014_1['DepTimeBlk'].unique()))\n",
    "print(sorted(flights_2014_1['ArrTimeBlk'].unique()))"
   ]
  },
  {
   "cell_type": "markdown",
   "metadata": {},
   "source": [
    "#### Problems to analyse and solve:\n",
    "1. **DepTime** and **ArrTime** contain time values '2400' (at the same time CRS times contain only 2359). I have to convert it into 0h00m of the next day.\n",
    "2. It is needed to convert time from HHMM format into simple number of minutes from the start of the day.\n",
    "3. DepTime has the same number of NA-values as DepDelay, but ArrTime and ArrDelay have number of NA-values different of those from NA-values in DepTime and DepDelay. Reason can be related to cancelled and diverted flights. There is need to check.\n",
    "4. Delay Groups (Arrival and Departure) contain NaN values. Need to investigate."
   ]
  },
  {
   "cell_type": "code",
   "execution_count": 46,
   "metadata": {},
   "outputs": [
    {
     "name": "stdout",
     "output_type": "stream",
     "text": [
      "The Cancelled field has only these values: [0. 1.]\n",
      "In this dataset there are 30852 cancelled flights in total\n",
      "Among 30327 flights with NA DepTime there are 30327 cancelled flights\n"
     ]
    }
   ],
   "source": [
    "# Test that all flight wtth NA Departure Time (DepTime) were cancelled\n",
    "print('The Cancelled field has only these values:', flights_2014_1['Cancelled'].unique())\n",
    "print('In this dataset there are', int(flights_2014_1['Cancelled'].sum()), 'cancelled flights in total')\n",
    "print('Among', flights_2014_1.DepTime.isna().sum(), 'flights with NA DepTime there are', \n",
    "      flights_2014_1[flights_2014_1.DepTime.isna()]['Cancelled'].count(),'cancelled flights')"
   ]
  },
  {
   "cell_type": "markdown",
   "metadata": {},
   "source": [
    "Ok. We see that all NA-values in DepTime field are explained by the flight cancellaiton. \n",
    "However, there is one more interesting thing: the total number of cancelled flight is higher than the number of NA-values in DepTime field. Does it mean that these flight were cancelled but still have departure time? Let's take a look at this. "
   ]
  },
  {
   "cell_type": "code",
   "execution_count": 47,
   "metadata": {},
   "outputs": [
    {
     "data": {
      "text/plain": [
       "Cancelled    30852.0\n",
       "Diverted      1477.0\n",
       "dtype: float64"
      ]
     },
     "execution_count": 47,
     "metadata": {},
     "output_type": "execute_result"
    }
   ],
   "source": [
    "# How many Cancelled and Diverted flight are there in total?\n",
    "flights_2014_1[['Cancelled', 'Diverted']].agg('sum')"
   ]
  },
  {
   "cell_type": "code",
   "execution_count": 49,
   "metadata": {},
   "outputs": [
    {
     "data": {
      "text/html": [
       "<div>\n",
       "<style scoped>\n",
       "    .dataframe tbody tr th:only-of-type {\n",
       "        vertical-align: middle;\n",
       "    }\n",
       "\n",
       "    .dataframe tbody tr th {\n",
       "        vertical-align: top;\n",
       "    }\n",
       "\n",
       "    .dataframe thead th {\n",
       "        text-align: right;\n",
       "    }\n",
       "</style>\n",
       "<table border=\"1\" class=\"dataframe\">\n",
       "  <thead>\n",
       "    <tr style=\"text-align: right;\">\n",
       "      <th></th>\n",
       "      <th>Cancelled</th>\n",
       "      <th>Diverted</th>\n",
       "    </tr>\n",
       "    <tr>\n",
       "      <th>DepTime</th>\n",
       "      <th></th>\n",
       "      <th></th>\n",
       "    </tr>\n",
       "  </thead>\n",
       "  <tbody>\n",
       "    <tr>\n",
       "      <th>False</th>\n",
       "      <td>30327.0</td>\n",
       "      <td>0.0</td>\n",
       "    </tr>\n",
       "    <tr>\n",
       "      <th>True</th>\n",
       "      <td>525.0</td>\n",
       "      <td>1477.0</td>\n",
       "    </tr>\n",
       "  </tbody>\n",
       "</table>\n",
       "</div>"
      ],
      "text/plain": [
       "         Cancelled  Diverted\n",
       "DepTime                     \n",
       "False      30327.0       0.0\n",
       "True         525.0    1477.0"
      ]
     },
     "execution_count": 49,
     "metadata": {},
     "output_type": "execute_result"
    }
   ],
   "source": [
    "# What is a split of flights with/NA Departure Time vs. Cancelled and Diverted flights \n",
    "flights_2014_1.groupby(~flights_2014_1['DepTime'].isna())[['Cancelled', 'Diverted']].agg('sum')"
   ]
  },
  {
   "cell_type": "markdown",
   "metadata": {},
   "source": [
    "We see that 525 flights have the departure time but were cancelled."
   ]
  },
  {
   "cell_type": "code",
   "execution_count": 51,
   "metadata": {},
   "outputs": [
    {
     "name": "stdout",
     "output_type": "stream",
     "text": [
      "Are all flights depatured but cancelled have NA as AirTime? True\n"
     ]
    }
   ],
   "source": [
    "# Check all cancelled flight with existing departure time don't have Time in Air (flight time)\n",
    "departured_cancelled_flights = (~flights_2014_1['DepTime'].isna()) & (flights_2014_1['Cancelled'] == 1)\n",
    "print('Are all flights depatured but cancelled have NA as AirTime?',\n",
    "      flights_2014_1[departured_cancelled_flights]['AirTime'].isna().all())"
   ]
  },
  {
   "cell_type": "markdown",
   "metadata": {},
   "source": [
    "So all departured but Cancelled flights actually weren't in air (they don't have AirTime). I can conclude that they were departured from the gate, but they didn't took off, were cancelled and returned back to the gate. "
   ]
  },
  {
   "cell_type": "code",
   "execution_count": 52,
   "metadata": {},
   "outputs": [
    {
     "name": "stdout",
     "output_type": "stream",
     "text": [
      "Number of NA_values in DepartureDelayGoups: 30327\n",
      "Are all cancelled prior departure flights have NA-value in DepartureDelayGroups? True\n"
     ]
    }
   ],
   "source": [
    "# Investigating which flights have NA DepartureDelayGroups\n",
    "NA_DepDelay_group = flights_2014_1['DepartureDelayGroups'].isna()\n",
    "print('Number of NA_values in DepartureDelayGoups:', NA_DepDelay_group.sum())\n",
    "\n",
    "cancelled_before_depurture = flights_2014_1['DepTime'].isna() & (flights_2014_1['Cancelled'] == 1)\n",
    "print('Are all cancelled prior departure flights have NA-value in DepartureDelayGroups?',\n",
    "      flights_2014_1[cancelled_before_depurture]['DepartureDelayGroups'].isna().all())"
   ]
  },
  {
   "cell_type": "markdown",
   "metadata": {},
   "source": [
    "Conclusions: \n",
    "1. Departured flights still could be cancelled after departure (didn't take off, ruturned to gate) OR diverted to a different destination.\n",
    "2. All flight with NA actual Departure Time ('DepTime' field) were canceled and have NA-Value in DepartureDelayGroups"
   ]
  },
  {
   "cell_type": "markdown",
   "metadata": {},
   "source": [
    "Let’s examine the Arrival times in more detail."
   ]
  },
  {
   "cell_type": "code",
   "execution_count": 54,
   "metadata": {},
   "outputs": [
    {
     "data": {
      "text/html": [
       "<div>\n",
       "<style scoped>\n",
       "    .dataframe tbody tr th:only-of-type {\n",
       "        vertical-align: middle;\n",
       "    }\n",
       "\n",
       "    .dataframe tbody tr th {\n",
       "        vertical-align: top;\n",
       "    }\n",
       "\n",
       "    .dataframe thead th {\n",
       "        text-align: right;\n",
       "    }\n",
       "</style>\n",
       "<table border=\"1\" class=\"dataframe\">\n",
       "  <thead>\n",
       "    <tr style=\"text-align: right;\">\n",
       "      <th></th>\n",
       "      <th>Cancelled</th>\n",
       "      <th>Diverted</th>\n",
       "    </tr>\n",
       "    <tr>\n",
       "      <th>ArrTime</th>\n",
       "      <th></th>\n",
       "      <th></th>\n",
       "    </tr>\n",
       "  </thead>\n",
       "  <tbody>\n",
       "    <tr>\n",
       "      <th>False</th>\n",
       "      <td>30852.0</td>\n",
       "      <td>644.0</td>\n",
       "    </tr>\n",
       "    <tr>\n",
       "      <th>True</th>\n",
       "      <td>0.0</td>\n",
       "      <td>833.0</td>\n",
       "    </tr>\n",
       "  </tbody>\n",
       "</table>\n",
       "</div>"
      ],
      "text/plain": [
       "         Cancelled  Diverted\n",
       "ArrTime                     \n",
       "False      30852.0     644.0\n",
       "True           0.0     833.0"
      ]
     },
     "execution_count": 54,
     "metadata": {},
     "output_type": "execute_result"
    }
   ],
   "source": [
    "# What is a split of flights with/NA Arrival Time vs. Cancelled and Diverted flights \n",
    "flights_2014_1.groupby(~flights_2014_1['ArrTime'].isna())[['Cancelled', 'Diverted']].agg('sum')"
   ]
  },
  {
   "cell_type": "markdown",
   "metadata": {},
   "source": [
    "In this split it is interesting that some diverted flights (directed to other airports) still have Arrival time. What does this arravel time mean? Is it the arrival time to the Destination airport or the airport where the flight had beed diverted?\n",
    "Le't examine this question using the field 'DivReachedDest' marking the flights reached Destination after being diverted."
   ]
  },
  {
   "cell_type": "code",
   "execution_count": 55,
   "metadata": {},
   "outputs": [
    {
     "name": "stdout",
     "output_type": "stream",
     "text": [
      "Number of diverted flights that have ArrTime 833\n",
      "Number of diverted flights reached initial destination 833.0\n",
      "Are all these the same flitghts? True\n"
     ]
    }
   ],
   "source": [
    "# Check the numbers from diverted flights' split over w/NA ArrTime \n",
    "diverted_but_arrived = (~flights_2014_1['ArrTime'].isna()) & (flights_2014_1['Diverted'] == 1)\n",
    "print('Number of diverted flights that have ArrTime', \n",
    "      flights_2014_1[diverted_but_arrived]['Flight_Number_Reporting_Airline'].count())\n",
    "print('Number of diverted flights reached initial destination', \n",
    "      flights_2014_1['DivReachedDest'].sum())\n",
    "print('Are all these the same flitghts?',\n",
    "      flights_2014_1[diverted_but_arrived]['DivReachedDest'].sum() == flights_2014_1['DivReachedDest'].sum())"
   ]
  },
  {
   "cell_type": "markdown",
   "metadata": {},
   "source": [
    "So, yes, all diverted flights which finally reached their initial destination have the Arrival time."
   ]
  },
  {
   "cell_type": "markdown",
   "metadata": {},
   "source": [
    "1. All flights having an actual Arrival Time ('ArrTime') split over flied directly from Origin to Destination OR were diverted but finally reached the Destination\n",
    "2. All flights with NA ArrTime were wheather canceled or diverted and landed in different airport (not the Destination airport)"
   ]
  },
  {
   "cell_type": "code",
   "execution_count": 56,
   "metadata": {},
   "outputs": [
    {
     "name": "stdout",
     "output_type": "stream",
     "text": [
      "The number of flight with NA-value in ArrivalDelayGroups 32329\n",
      "Are all flights with NA-value ArrivalDelayGroups were canceled or diverted? True\n"
     ]
    }
   ],
   "source": [
    "# Investigating which flights have NA ArrivalDelayGroups\n",
    "NA_ArrivalDelay_groups = flights_2014_1['ArrivalDelayGroups'].isna()\n",
    "flight_cancelled_OR_diverted = (flights_2014_1['Cancelled'] == 1) | (flights_2014_1['Diverted'] == 1)\n",
    "print('The number of flight with NA-value in ArrivalDelayGroups', NA_ArrivalDelay_groups.sum())\n",
    "print('Are all flights with NA-value ArrivalDelayGroups were canceled or diverted?',\n",
    "      flights_2014_1[NA_ArrivalDelay_groups & flight_cancelled_OR_diverted]['Flight_Number_Reporting_Airline'].count() ==\n",
    "      flights_2014_1[NA_ArrivalDelay_groups]['Flight_Number_Reporting_Airline'].count())"
   ]
  },
  {
   "cell_type": "markdown",
   "metadata": {},
   "source": [
    "All Diverted or Cancelled flights have NA-value ArrivalDelayGroup"
   ]
  },
  {
   "cell_type": "markdown",
   "metadata": {},
   "source": [
    "### Flight Status and Reasons for Delay  \n",
    "\n",
    "I’m going to keep the following fields because they contain information that can be useful for interpreting the departure and arrival time fields and for calculating the actual elapsed time, respectively:\n",
    "\n",
    "47.\t**Cancelled**\n",
    "    * **Description:** Cancelled Flight Indicator (1=Yes)  \n",
    "    * **Data type:** boolean\n",
    "    * **Keep**\n",
    "\n",
    "48.\t**CancellationCode**\n",
    "    * **Description:** Specifies The Reason For Cancellation\n",
    "    * **Data type:**  category\n",
    "    * **Keep**\n",
    "\n",
    "49.\t**Diverted**\n",
    "    * **Description:** Diverted Flight Indicator (1=Yes)  \n",
    "    * **Data type:** boolean\n",
    "    * **Keep**\n",
    "    \n",
    "\n",
    "Next fileds I suppose to keep to analyse the correclation between these reasons for delay with specific airlines, airport or states:\n",
    "\n",
    "56.\t**CarrierDelay**\n",
    "    * **Description**: Carrier Delay, in Minutes  \n",
    "    * **Data type:** float\n",
    "    * **Keep**\n",
    "\n",
    "57.\t**WeatherDelay**  \n",
    "    * **Description**: Weather Delay, in Minutes  \n",
    "    * **Data type:** float\n",
    "    * **Keep**\n",
    "\n",
    "58.\t**NASDelay** \n",
    "    * **Description**: National Air System Delay, in Minutes  \n",
    "    * **Data type:** float\n",
    "    * **Keep**\n",
    "\n",
    "59.\t**SecurityDelay**  \n",
    "    * **Description**: Security Delay, in Minutes  \n",
    "    * **Data type:** float\n",
    "    * **Keep**\n",
    "\n",
    "60.\t**LateAircraftDelay**\n",
    "    * **Description**: Late Aircraft Delay, in Minutes  \n",
    "    * **Data type:** float\n",
    "    * **Keep**"
   ]
  },
  {
   "cell_type": "code",
   "execution_count": 57,
   "metadata": {},
   "outputs": [
    {
     "name": "stdout",
     "output_type": "stream",
     "text": [
      "           Cancelled       Diverted\n",
      "count  471949.000000  471949.000000\n",
      "mean        0.065371       0.003130\n",
      "std         0.247180       0.055855\n",
      "min         0.000000       0.000000\n",
      "25%         0.000000       0.000000\n",
      "50%         0.000000       0.000000\n",
      "75%         0.000000       0.000000\n",
      "max         1.000000       1.000000\n",
      "Cancelled                0\n",
      "CancellationCode    441097\n",
      "Diverted                 0\n",
      "dtype: int64\n"
     ]
    }
   ],
   "source": [
    "# Discovering the values and NA-values\n",
    "flight_status_fields = ['Cancelled',\n",
    "                        'CancellationCode',\n",
    "                        'Diverted']\n",
    "print(flights_2014_1[flight_status_fields].describe())\n",
    "print(flights_2014_1[flight_status_fields].isna().sum())"
   ]
  },
  {
   "cell_type": "code",
   "execution_count": 58,
   "metadata": {},
   "outputs": [
    {
     "data": {
      "text/plain": [
       "array([nan, 'B', 'A', 'C'], dtype=object)"
      ]
     },
     "execution_count": 58,
     "metadata": {},
     "output_type": "execute_result"
    }
   ],
   "source": [
    "# Which values does the Cancellatino Code field have?\n",
    "flights_2014_1['CancellationCode'].unique()"
   ]
  },
  {
   "cell_type": "code",
   "execution_count": 59,
   "metadata": {},
   "outputs": [
    {
     "name": "stdout",
     "output_type": "stream",
     "text": [
      "Cancelled  Diverted\n",
      "0.0        0.0             0\n",
      "           1.0             0\n",
      "1.0        0.0         30852\n",
      "Name: CancellationCode, dtype: int64\n",
      "Number of recortds (flights) with absent Cancellation Code but still were cancelled: 0\n"
     ]
    }
   ],
   "source": [
    "# Examining the presence of Cancellation Codes for all Cancelled flights\n",
    "print(flights_2014_1.groupby(['Cancelled', 'Diverted'])['CancellationCode'].agg('count'))\n",
    "no_cancellation_code = flights_2014_1['CancellationCode'].isna()\n",
    "print('Number of recortds (flights) with absent Cancellation Code but still were cancelled:',\n",
    "      len(flights_2014_1[no_cancellation_code & ('Cancelled' == 0)]))"
   ]
  },
  {
   "cell_type": "markdown",
   "metadata": {},
   "source": [
    "The conclusion is that the data represented in the Flight Status and Cancellation Code fields is accurate and comprehensive."
   ]
  },
  {
   "cell_type": "markdown",
   "metadata": {},
   "source": [
    "### Elapsed time  \n",
    "\n",
    "The scheduled and actual Elapsed Time data are the primary candidates for the outcome of the proposed prediction model, or at least one of the main components for constructing such a variable. This is why it is important to keep this data. Air Time can also be useful because, as we have already seen, it helps with identifying flights that were cancelled after departure.\n",
    "\n",
    "50.\t**CRSElapsedTime**\n",
    "    * **Description:** CRS Elapsed Time of Flight, in Minutes  \n",
    "    * **Data type:** float\n",
    "    * **Keep**\n",
    "\n",
    "51.\t**ActualElapsedTime**  \n",
    "    * **Description:** Elapsed Time of Flight, in Minutes  \n",
    "    * **Data type:** float\n",
    "    * **Keep**\n",
    "\n",
    "52.\t**AirTime:**  \n",
    "    * **Description:** Flight Time, in Minutes  \n",
    "    * **Data type:** float\n",
    "    * **Keep**\n",
    "\n",
    "\n",
    "The following data can be dropped because it is seemed irrelevant or can be obtaing from another fields:  \n",
    "\n",
    "53.\t**Flights**  \n",
    "    * **Description:** Number of Flights  \n",
    "    * **Drop**  \n",
    "\n",
    "54.\t**Distance**  \n",
    "    * **Description:** Distance between airports (miles)  \n",
    "    * **Drop**  \n",
    "\n",
    "55.\t**DistanceGroup**\n",
    "    * **Description:**  Distance Intervals, every 250 Miles, for Flight Segment  \n",
    "    * **Drop**\n",
    " \n",
    "61.\t**FirstDepTime**  \n",
    "    * **Description:** First Gate Departure Time at Origin Airport  \n",
    "    * **Drop**\n",
    "\n",
    "62.\t**TotalAddGTime**  \n",
    "    * **Description:** Total Ground Time Away from Gate for Gate Return or Cancelled Flight  \n",
    "    * **Drop**\n",
    "\n",
    "63.\t**LongestAddGTime**  \n",
    "    * **Description:** Longest Time Away from Gate for Gate Return or Cancelled Flight  \n",
    "    * **Drop**\n",
    "\n",
    "64.\t**DivAirportLandings**\n",
    "    * **Description:** Number of Diverted Airport Landings  \n",
    "    * **Drop**\n",
    "\n",
    "As we already know, the next fields can be useful in evaluation of an acrual elapsed time when the flight was diverted, so we need to keep them:  \n",
    "\n",
    "65.\t**DivReachedDest**  \n",
    "    * **Description:** Diverted Flight Reaching Scheduled Destination Indicator (1=Yes)  \n",
    "    * **Data type:** boolean\n",
    "    * **Keep**\n",
    "\n",
    "66.\t**DivActualElapsedTime**\n",
    "    * **Description:** Elapsed Time of Diverted Flight Reaching Scheduled Destination, in Minutes. The ActualElapsedTime column remains NULL for all diverted flights.  \n",
    "    * **Data type:** float\n",
    "    * **Keep**\n",
    "\n",
    "67.\t**DivArrDelay**  \n",
    "    * **Description:** Difference in minutes between scheduled and actual arrival time for a diverted flight reaching scheduled destination. The ArrDelay column remains NULL for all diverted flights.  \n",
    "    * **Data Type:** float\n",
    "    * **Keep**\n",
    "\n",
    "The distance beetween the scheduled destination and final diverted airport in miles is unimportant for the purposed model because if the flight landed in different location, it is reasonable for the purpose of model consider this fliaght as not arrived to the distanation.\n",
    "\n",
    "68.\t**DivDistance**\n",
    "    * **Description:** Distance between scheduled destination and final diverted airport (miles). Value will be 0 for diverted flight reaching scheduled destination.  \n",
    "    * **Drop**"
   ]
  },
  {
   "cell_type": "code",
   "execution_count": 60,
   "metadata": {},
   "outputs": [
    {
     "name": "stdout",
     "output_type": "stream",
     "text": [
      "       CRSElapsedTime  ActualElapsedTime        AirTime\n",
      "count   471949.000000      439620.000000  439620.000000\n",
      "mean       137.400615         135.086875     111.636413\n",
      "std         74.130674          74.329305      72.117051\n",
      "min         19.000000          16.000000       7.000000\n",
      "25%         85.000000          80.000000      59.000000\n",
      "50%        118.000000         116.000000      92.000000\n",
      "75%        170.000000         168.000000     142.000000\n",
      "max        670.000000         764.000000     688.000000\n",
      "CRSElapsedTime           0\n",
      "ActualElapsedTime    32329\n",
      "AirTime              32329\n",
      "dtype: int64\n"
     ]
    }
   ],
   "source": [
    "# Checking for possible and NA values for Elapsed time data block\n",
    "elapsed_time_fields = ['CRSElapsedTime',\n",
    "                       'ActualElapsedTime',\n",
    "                       'AirTime']\n",
    "print(flights_2014_1[elapsed_time_fields].describe())\n",
    "print(flights_2014_1[elapsed_time_fields].isna().sum())"
   ]
  },
  {
   "cell_type": "code",
   "execution_count": 61,
   "metadata": {},
   "outputs": [
    {
     "name": "stdout",
     "output_type": "stream",
     "text": [
      "       DivReachedDest  DivActualElapsedTime  DivArrDelay\n",
      "count     1477.000000            833.000000   833.000000\n",
      "mean         0.563981            364.955582   228.453782\n",
      "std          0.496057            195.155613   183.260456\n",
      "min          0.000000             90.000000     9.000000\n",
      "25%          0.000000            250.000000   129.000000\n",
      "50%          1.000000            313.000000   178.000000\n",
      "75%          1.000000            417.000000   251.000000\n",
      "max          1.000000           1968.000000  1651.000000\n",
      "DivReachedDest          470472\n",
      "DivActualElapsedTime    471116\n",
      "DivArrDelay             471116\n",
      "dtype: int64\n"
     ]
    }
   ],
   "source": [
    "# Checking for possible and NA values for Diverted flights data block\n",
    "diverted_flights_fields = ['DivReachedDest',\n",
    "                       'DivActualElapsedTime',\n",
    "                       'DivArrDelay']\n",
    "print(flights_2014_1[diverted_flights_fields].describe())\n",
    "print(flights_2014_1[diverted_flights_fields].isna().sum())"
   ]
  },
  {
   "cell_type": "markdown",
   "metadata": {},
   "source": [
    "### Another infermation about diverted flights\n",
    "\n",
    "The rest of the dataset contains 5 equal blocks for five airports where the flight can be diverted consiquently. Each block contains:\n",
    "* Diverted Airport Code, Airport ID of Diverted Airport,  \n",
    "* Airport Sequence ID of Diverted Airport,  \n",
    "* Wheels On Time (local time: hhmm) at Diverted Airport Code,  \n",
    "* Total Ground Time Away from Gate at Diverted Airport Code,  \n",
    "* Longest Ground Time Away from Gate at Diverted Airport Code,  \n",
    "* Wheels Off Time (local time: hhmm) at Diverted Airport Code,  \n",
    "* Aircraft Tail Number for Diverted Airport Code\n",
    "\n",
    "All this information is not rellevant to the project. "
   ]
  },
  {
   "cell_type": "markdown",
   "metadata": {},
   "source": [
    "### Conclustion about data structure and quality:  \n",
    "\n",
    "1. The data needed for the project is selected\n",
    "2. The proposed data type for each field is selected\n",
    "3. The quality of the data is good. The data represented in the dataset is mostly comprehesive, but I will examine it in more detail in next section.\n",
    "4. The logic of data for calncelled and diverted flights and consiquencies for actual departure and arrival times, time delays and elapsed times was identified and recorded\n",
    "5. On the data transformaiton stage I have to change data types for selected for the model fields and solve the 'time-2400' problem.\n",
    "6. I suppose to use delay times as a prediction variable in the model. I plan not rely on the provided delay time and calculate it directly subtracting actual arrival time from scheduled arrival time. To be sure in the correctness of these times I will do extensive check in the following sections by comparting them with elapsed times."
   ]
  },
  {
   "cell_type": "markdown",
   "metadata": {},
   "source": [
    "## Evaluating the Accuracy of Scheduled and Actual Elapsed Times"
   ]
  },
  {
   "cell_type": "markdown",
   "metadata": {},
   "source": [
    "The elapsed times (scheduled and actual), along with departure and arrival times, are expected to play a crucial role in the checking the accuracy of departure and arrival times (scheduled and actual). Therefore, I must give special attention to their quality and accuracy.\n",
    "\n",
    "There are 60 data files, which makes it difficult to check all the data at once, so I plan to start by examining one file, ‘report_2014_3.csv,’ to design an approach for handling potential errors. In the future, I will apply this approach to the remaining files.\n",
    "\n",
    "I chose March because the start of Daylight Saving Time (DST) occurs in this month, which may introduce errors into our data."
   ]
  },
  {
   "cell_type": "code",
   "execution_count": 62,
   "metadata": {},
   "outputs": [],
   "source": [
    "# These are fields I plan to examine\n",
    "data_types = {\n",
    "    'FlightDate':           'str',\n",
    "    'Flight_Number_Reporting_Airline':  np.int16,\n",
    "    'Origin':               'category',\n",
    "    'Dest':                 'category',\n",
    "    'CRSDepTime':           np.int16,\n",
    "    'DepTime':              np.float32,\n",
    "    'DepDelay':             np.float32,\n",
    "    'CRSArrTime':           np.int16,\n",
    "    'ArrTime':              np.float32,\n",
    "    'ArrDelay':             np.float32,\n",
    "    'Cancelled':            np.int8,        # boolean\n",
    "    'Diverted':             np.int8,        # boolean\n",
    "    'CRSElapsedTime':       np.float32,\n",
    "    'ActualElapsedTime':    np.float32,\n",
    "    'AirTime':              np.float32}"
   ]
  },
  {
   "cell_type": "code",
   "execution_count": 63,
   "metadata": {},
   "outputs": [],
   "source": [
    "# The most important combinations of fields for analysis\n",
    "Date_details = ['FlightDate']\n",
    "DepTime_details = ['CRSDepTime', 'DepTime']\n",
    "ArrTime_details = ['CRSArrTime', 'ArrTime']\n",
    "DepTime_min_details = ['CRSDepTime_min', 'DepTime_min']\n",
    "ArrTime_min_details = ['CRSArrTime_min', 'ArrTime_min']\n",
    "ElapsedTime_details = ['CRSElapsedTime', 'ActualElapsedTime']\n",
    "CRS_details = ['CRSDepTime', 'CRSArrTime', 'CRSElapsedTime']\n",
    "CRS_min_details = ['CRSDepTime_min', 'CRSArrTime_min', 'CRSElapsedTime']\n",
    "Route_datails = ['Origin', 'Dest']"
   ]
  },
  {
   "cell_type": "code",
   "execution_count": 64,
   "metadata": {},
   "outputs": [],
   "source": [
    "# Loading some dataset just for tests\n",
    "source_zip = 'data/interim/csv_flight.zip'\n",
    "source_path = 'csv_flight/report_'\n",
    "\n",
    "flights = load_data_from(source_zip, source_path + '2014_3.csv', data_types)"
   ]
  },
  {
   "cell_type": "markdown",
   "metadata": {},
   "source": [
    "To evaluate the accuracy of departure times, arrival times, and durations (both scheduled and actual), I need to calculate the UTC datetimes for both departure and arrival. The original data includes the scheduled flight date, along with two sets of data (scheduled and actual) for departure and arrival times, as well as elapsed time. To calculate the scheduled departure datetime in the local timezone, I can combine the ‘FlightDate’ with the departure time from ‘CRSDepTime.’ For the arrival time, I first need to determine the correct date, as flights may arrive on the next day — or even the previous day — due to timezone differences. I plan to use a criterion based on the difference between the departure and arrival times to indicate a change in date. A threshold for this time difference could serve as the indicator."
   ]
  },
  {
   "cell_type": "markdown",
   "metadata": {},
   "source": [
    "In original data set all time data is provided in format HHMM, which is not conviniet for the purposes of calculation and comparison. I convert it into the simple number of minutes from midnight. "
   ]
  },
  {
   "cell_type": "code",
   "execution_count": 65,
   "metadata": {},
   "outputs": [],
   "source": [
    "flights['CRSDepTime_min'] = time_to_minutes(flights['CRSDepTime'])\n",
    "flights['CRSArrTime_min'] = time_to_minutes(flights['CRSArrTime'])\n",
    "flights['DepTime_min'] = time_to_minutes(flights['DepTime'])\n",
    "flights['ArrTime_min'] = time_to_minutes(flights['ArrTime'])\n"
   ]
  },
  {
   "cell_type": "markdown",
   "metadata": {},
   "source": [
    "My hypothesis is that all flights arriving the next day will have a significant negative difference between arrival and departure times (in minutes). For example, if a flight departs at 1420 min (equivalent to 23:40) and arrives at 75 minutes  (equivalent to 1:15 AM), it definitely arrived the next day. However, the negative differece can occur not only when the date changes but also when a flight departs from one timezone and arrives in another where the time difference with UTC is larger. In this case, the flight’s duration should be less than the time difference. Let’s examine this for short flights (less than 60 minutes) to chose a correct threshhold. "
   ]
  },
  {
   "cell_type": "code",
   "execution_count": 66,
   "metadata": {},
   "outputs": [
    {
     "data": {
      "text/html": [
       "<div>\n",
       "<style scoped>\n",
       "    .dataframe tbody tr th:only-of-type {\n",
       "        vertical-align: middle;\n",
       "    }\n",
       "\n",
       "    .dataframe tbody tr th {\n",
       "        vertical-align: top;\n",
       "    }\n",
       "\n",
       "    .dataframe thead th {\n",
       "        text-align: right;\n",
       "    }\n",
       "</style>\n",
       "<table border=\"1\" class=\"dataframe\">\n",
       "  <thead>\n",
       "    <tr style=\"text-align: right;\">\n",
       "      <th></th>\n",
       "      <th>FlightDate</th>\n",
       "      <th>CRSDepTime_min</th>\n",
       "      <th>CRSArrTime_min</th>\n",
       "      <th>CRSElapsedTime</th>\n",
       "    </tr>\n",
       "  </thead>\n",
       "  <tbody>\n",
       "    <tr>\n",
       "      <th>342964</th>\n",
       "      <td>2014-03-08</td>\n",
       "      <td>1430</td>\n",
       "      <td>29</td>\n",
       "      <td>39.0</td>\n",
       "    </tr>\n",
       "    <tr>\n",
       "      <th>342963</th>\n",
       "      <td>2014-03-07</td>\n",
       "      <td>1430</td>\n",
       "      <td>29</td>\n",
       "      <td>39.0</td>\n",
       "    </tr>\n",
       "    <tr>\n",
       "      <th>342961</th>\n",
       "      <td>2014-03-06</td>\n",
       "      <td>1430</td>\n",
       "      <td>29</td>\n",
       "      <td>39.0</td>\n",
       "    </tr>\n",
       "    <tr>\n",
       "      <th>211861</th>\n",
       "      <td>2014-03-01</td>\n",
       "      <td>1095</td>\n",
       "      <td>1081</td>\n",
       "      <td>46.0</td>\n",
       "    </tr>\n",
       "    <tr>\n",
       "      <th>319613</th>\n",
       "      <td>2014-03-28</td>\n",
       "      <td>763</td>\n",
       "      <td>750</td>\n",
       "      <td>47.0</td>\n",
       "    </tr>\n",
       "  </tbody>\n",
       "</table>\n",
       "</div>"
      ],
      "text/plain": [
       "       FlightDate  CRSDepTime_min  CRSArrTime_min  CRSElapsedTime\n",
       "342964 2014-03-08            1430              29            39.0\n",
       "342963 2014-03-07            1430              29            39.0\n",
       "342961 2014-03-06            1430              29            39.0\n",
       "211861 2014-03-01            1095            1081            46.0\n",
       "319613 2014-03-28             763             750            47.0"
      ]
     },
     "execution_count": 66,
     "metadata": {},
     "output_type": "execute_result"
    }
   ],
   "source": [
    "# Filter for flights when CRS Arrival time is less of equal than CRS Departure time\n",
    "CRSArr_less_than_CRSDep_min = flights['CRSArrTime_min'] <= flights['CRSDepTime_min']\n",
    "less_than_60_min = flights['CRSElapsedTime'] < 60\n",
    "\n",
    "# FOR TIMES EXPRESSED IN MINUTES !!!\n",
    "# Flights where CRS Arrival time less than CRS Departure time AND a flight was less than 60 min\n",
    "# To evaluate is it possible to 'travel in time' - to arrive the same day earlier \n",
    "flights[CRSArr_less_than_CRSDep_min & less_than_60_min][Date_details + CRS_min_details] \\\n",
    "    .sort_values('CRSElapsedTime').head()"
   ]
  },
  {
   "cell_type": "markdown",
   "metadata": {},
   "source": [
    "We see in the table above the flights have negative difference and definitely arrived the next day, but the last two also have negative difference but arrived the same day."
   ]
  },
  {
   "cell_type": "code",
   "execution_count": 67,
   "metadata": {},
   "outputs": [
    {
     "data": {
      "text/html": [
       "<div>\n",
       "<style scoped>\n",
       "    .dataframe tbody tr th:only-of-type {\n",
       "        vertical-align: middle;\n",
       "    }\n",
       "\n",
       "    .dataframe tbody tr th {\n",
       "        vertical-align: top;\n",
       "    }\n",
       "\n",
       "    .dataframe thead th {\n",
       "        text-align: right;\n",
       "    }\n",
       "</style>\n",
       "<table border=\"1\" class=\"dataframe\">\n",
       "  <thead>\n",
       "    <tr style=\"text-align: right;\">\n",
       "      <th></th>\n",
       "      <th>FlightDate</th>\n",
       "      <th>CRSDepTime_min</th>\n",
       "      <th>CRSArrTime_min</th>\n",
       "      <th>CRSElapsedTime</th>\n",
       "    </tr>\n",
       "  </thead>\n",
       "  <tbody>\n",
       "    <tr>\n",
       "      <th>306171</th>\n",
       "      <td>2014-03-16</td>\n",
       "      <td>965</td>\n",
       "      <td>964</td>\n",
       "      <td>59.0</td>\n",
       "    </tr>\n",
       "    <tr>\n",
       "      <th>306170</th>\n",
       "      <td>2014-03-24</td>\n",
       "      <td>965</td>\n",
       "      <td>964</td>\n",
       "      <td>59.0</td>\n",
       "    </tr>\n",
       "    <tr>\n",
       "      <th>306169</th>\n",
       "      <td>2014-03-23</td>\n",
       "      <td>965</td>\n",
       "      <td>964</td>\n",
       "      <td>59.0</td>\n",
       "    </tr>\n",
       "    <tr>\n",
       "      <th>306176</th>\n",
       "      <td>2014-03-21</td>\n",
       "      <td>965</td>\n",
       "      <td>964</td>\n",
       "      <td>59.0</td>\n",
       "    </tr>\n",
       "    <tr>\n",
       "      <th>392396</th>\n",
       "      <td>2014-03-01</td>\n",
       "      <td>1115</td>\n",
       "      <td>1114</td>\n",
       "      <td>59.0</td>\n",
       "    </tr>\n",
       "  </tbody>\n",
       "</table>\n",
       "</div>"
      ],
      "text/plain": [
       "       FlightDate  CRSDepTime_min  CRSArrTime_min  CRSElapsedTime\n",
       "306171 2014-03-16             965             964            59.0\n",
       "306170 2014-03-24             965             964            59.0\n",
       "306169 2014-03-23             965             964            59.0\n",
       "306176 2014-03-21             965             964            59.0\n",
       "392396 2014-03-01            1115            1114            59.0"
      ]
     },
     "execution_count": 67,
     "metadata": {},
     "output_type": "execute_result"
    }
   ],
   "source": [
    "# ... and the END of the table\n",
    "flights[CRSArr_less_than_CRSDep_min & less_than_60_min][Date_details + CRS_min_details] \\\n",
    "    .sort_values('CRSElapsedTime').tail()"
   ]
  },
  {
   "cell_type": "markdown",
   "metadata": {},
   "source": [
    "In this table all flights have negative difference between arrival and departure time but all of them arrived the same day"
   ]
  },
  {
   "cell_type": "code",
   "execution_count": 69,
   "metadata": {},
   "outputs": [],
   "source": [
    "# Calculation of the difference between departure and arrival time \n",
    "flights['CRS_Arr_minus_Dep'] = flights['CRSArrTime_min'] - flights['CRSDepTime_min'] "
   ]
  },
  {
   "cell_type": "code",
   "execution_count": 70,
   "metadata": {},
   "outputs": [
    {
     "data": {
      "image/png": "[encoded data removed]",
      "text/plain": [
       "<Figure size 640x480 with 1 Axes>"
      ]
     },
     "metadata": {},
     "output_type": "display_data"
    }
   ],
   "source": [
    "# Examine the difference between CRS Arrival and Departure times\n",
    "bins = np.arange(-1440, 1440, 100)\n",
    "plt.hist(flights['CRS_Arr_minus_Dep'], density=True,  bins = bins)\n",
    "plt.show()"
   ]
  },
  {
   "cell_type": "markdown",
   "metadata": {},
   "source": [
    "We can see that the time difference between arrival and departure can be negative or possitive but it seems that there is a certain gap in negative values. Let's zoom this part of the histogram in. "
   ]
  },
  {
   "cell_type": "code",
   "execution_count": 72,
   "metadata": {},
   "outputs": [
    {
     "data": {
      "image/png": "[encoded data removed]",
      "text/plain": [
       "<Figure size 640x480 with 1 Axes>"
      ]
     },
     "metadata": {},
     "output_type": "display_data"
    }
   ],
   "source": [
    "# Examine MORE CLOSELY the difference between CRS Arrival and Departure times \n",
    "bins = np.arange(-540, 60, 60)\n",
    "plt.hist(flights['CRS_Arr_minus_Dep'], density=True,  bins = bins)\n",
    "plt.xticks(bins)\n",
    "plt.show()"
   ]
  },
  {
   "cell_type": "markdown",
   "metadata": {},
   "source": [
    "We see that there is no negative values between -8 hours (-480 min) and -1 hour (-60 min). However, to be sure let's examine the data."
   ]
  },
  {
   "cell_type": "code",
   "execution_count": 73,
   "metadata": {},
   "outputs": [
    {
     "name": "stdout",
     "output_type": "stream",
     "text": [
      "Empty DataFrame\n",
      "Columns: [FlightDate, Flight_Number_Reporting_Airline, Origin, Dest, CRSDepTime, DepTime, DepDelay, CRSArrTime, ArrTime, ArrDelay, Cancelled, Diverted, CRSElapsedTime, ActualElapsedTime, AirTime, CRSDepTime_min, CRSArrTime_min, DepTime_min, ArrTime_min, CRS_Arr_minus_Dep]\n",
      "Index: []\n"
     ]
    }
   ],
   "source": [
    "# Are there any values between -900 and -200\n",
    "diff_between_900_200 = (flights['CRS_Arr_minus_Dep'] > -480) & (flights['CRS_Arr_minus_Dep'] < -60)\n",
    "print(flights[diff_between_900_200])\n",
    "\n",
    "del(diff_between_900_200)"
   ]
  },
  {
   "cell_type": "markdown",
   "metadata": {},
   "source": [
    "Yes, there is no values between -480 and -60 minutes. \n",
    "It is possible to ‘travel in time’ only for a maximum of 60 minutes. All other differences occur when flights take off before midnight and land the next day. I can use a threshold of -60 minutes to adjust the departure date by adding one day in order to calculate the arrival date."
   ]
  },
  {
   "cell_type": "code",
   "execution_count": 74,
   "metadata": {},
   "outputs": [
    {
     "name": "stdout",
     "output_type": "stream",
     "text": [
      "Empty DataFrame\n",
      "Columns: [FlightDate, Flight_Number_Reporting_Airline, Origin, Dest, CRSDepTime, DepTime, DepDelay, CRSArrTime, ArrTime, ArrDelay, Cancelled, Diverted, CRSElapsedTime, ActualElapsedTime, AirTime, CRSDepTime_min, CRSArrTime_min, DepTime_min, ArrTime_min, CRS_Arr_minus_Dep]\n",
      "Index: []\n"
     ]
    }
   ],
   "source": [
    "# Are there any values between -900 and -200\n",
    "diff_greater_than_1300 = (flights['CRS_Arr_minus_Dep'] > 1300)\n",
    "print(flights[diff_greater_than_1300])\n",
    "\n",
    "del(diff_greater_than_1300)"
   ]
  },
  {
   "cell_type": "markdown",
   "metadata": {},
   "source": [
    "There are no records with positive difference more than 1300 minutes, but when this occures it means the flight has arrived at the previouse day due to timezone difference. I will use this calculating arrival dates. "
   ]
  },
  {
   "cell_type": "markdown",
   "metadata": {},
   "source": [
    "### Calculating dates of departure and arrivel timezone naive "
   ]
  },
  {
   "cell_type": "markdown",
   "metadata": {},
   "source": [
    "#### Scheduled dates"
   ]
  },
  {
   "cell_type": "code",
   "execution_count": 75,
   "metadata": {},
   "outputs": [],
   "source": [
    "# converting CRS times (departure and arrival into datetime with correct arrival date - the previous, the same or the next day)\n",
    "flights['CRSDepDT'], flights['CRSArrDT'] = get_CRS_datetime(flights['FlightDate'], \n",
    "                                                                              flights['CRSDepTime_min'], \n",
    "                                                                              flights['CRSArrTime_min'])"
   ]
  },
  {
   "cell_type": "code",
   "execution_count": 78,
   "metadata": {},
   "outputs": [
    {
     "name": "stdout",
     "output_type": "stream",
     "text": [
      "Flights arrived next day after departure\n",
      "     FlightDate            CRSDepDT  CRSDepTime            CRSArrDT  CRSArrTime\n",
      "259 2014-03-20 2014-03-20 20:40:00        2040 2014-03-21 00:05:00           5\n",
      "529 2014-03-20 2014-03-20 21:50:00        2150 2014-03-21 00:15:00          15\n",
      "559 2014-03-20 2014-03-20 17:55:00        1755 2014-03-21 00:30:00          30\n",
      "569 2014-03-20 2014-03-20 17:15:00        1715 2014-03-21 00:20:00          20\n",
      "578 2014-03-20 2014-03-20 17:40:00        1740 2014-03-21 00:50:00          50\n",
      "\n",
      "Flights arrived the same day as departured\n",
      "   FlightDate            CRSDepDT  CRSDepTime            CRSArrDT  CRSArrTime\n",
      "0 2014-03-20 2014-03-20 07:00:00         700 2014-03-20 08:25:00         825\n",
      "1 2014-03-20 2014-03-20 16:50:00        1650 2014-03-20 18:10:00        1810\n",
      "2 2014-03-20 2014-03-20 09:05:00         905 2014-03-20 10:25:00        1025\n",
      "3 2014-03-20 2014-03-20 07:05:00         705 2014-03-20 07:25:00         725\n",
      "4 2014-03-20 2014-03-20 21:10:00        2110 2014-03-20 21:25:00        2125\n",
      "\n",
      "Flights arrived the previous day as departured\n",
      " Empty DataFrame\n",
      "Columns: [FlightDate, CRSDepDT, CRSDepTime, CRSArrDT, CRSArrTime]\n",
      "Index: []\n"
     ]
    }
   ],
   "source": [
    "\n",
    "# Check for actual departure and arrival datetimes \n",
    "pd.set_option('display.width', 200)\n",
    "\n",
    "CRS_Arrived_next_day = flights['CRSArrTime_min'] - flights['CRSDepTime_min']  <= -60\n",
    "CRS_Arrived_previous_day = flights['CRSArrTime_min'] - flights['CRSDepTime_min']  >= 1380\n",
    "fields_to_check = ['FlightDate', 'CRSDepDT', 'CRSDepTime', 'CRSArrDT', 'CRSArrTime']\n",
    "print('Flights arrived next day after departure\\n', flights[CRS_Arrived_next_day][fields_to_check].head())\n",
    "print('\\nFlights arrived the same day as departured\\n', flights[~CRS_Arrived_next_day][fields_to_check].head())\n",
    "print('\\nFlights arrived the previous day as departured\\n', flights[CRS_Arrived_previous_day][fields_to_check].head())\n",
    "\n",
    "pd.reset_option('display.width')"
   ]
  },
  {
   "cell_type": "markdown",
   "metadata": {},
   "source": [
    "#### Actual dates\n",
    "\n",
    "Calculating actual dates we have to take into account that even the departure date can differ from the dataset's 'FlightDate', because this date is for scheduled time, but actual time can move to the next or previous day due to flight positive or negative delay."
   ]
  },
  {
   "cell_type": "code",
   "execution_count": 79,
   "metadata": {},
   "outputs": [],
   "source": [
    "flights['ActDepDT'], flights['ActArrDT'] = get_Actual_datetime(flights['FlightDate'], \n",
    "                                                                flights['CRSDepTime_min'],\n",
    "                                                                flights['DepTime_min'],\n",
    "                                                                flights['ArrTime_min'],\n",
    "                                                                flights['DepDelay'])"
   ]
  },
  {
   "cell_type": "code",
   "execution_count": 80,
   "metadata": {},
   "outputs": [
    {
     "name": "stdout",
     "output_type": "stream",
     "text": [
      "\n",
      "Flights arrived next day after departure\n",
      "     FlightDate  CRSDepTime  DepDelay            ActDepDT  DepTime  \\\n",
      "80  2014-03-20        2130      59.0 2014-03-20 22:29:00   2229.0   \n",
      "94  2014-03-20        2110     145.0 2014-03-20 23:35:00   2335.0   \n",
      "108 2014-03-20        1910     236.0 2014-03-20 23:06:00   2306.0   \n",
      "204 2014-03-20        1915     224.0 2014-03-20 22:59:00   2259.0   \n",
      "259 2014-03-20        2040      29.0 2014-03-20 21:09:00   2109.0   \n",
      "\n",
      "               ActArrDT  ArrTime  \n",
      "80  2014-03-21 00:13:00     13.0  \n",
      "94  2014-03-21 01:58:00    158.0  \n",
      "108 2014-03-21 00:16:00     16.0  \n",
      "204 2014-03-21 01:22:00    122.0  \n",
      "259 2014-03-21 00:22:00     22.0  \n",
      "\n",
      "Flights arrived the same day as departured\n",
      "   FlightDate  CRSDepTime  DepDelay            ActDepDT  DepTime  \\\n",
      "0 2014-03-20         700       0.0 2014-03-20 07:00:00    700.0   \n",
      "1 2014-03-20        1650      90.0 2014-03-20 18:20:00   1820.0   \n",
      "2 2014-03-20         905       0.0 2014-03-20 09:05:00    905.0   \n",
      "3 2014-03-20         705      -3.0 2014-03-20 07:02:00    702.0   \n",
      "4 2014-03-20        2110      35.0 2014-03-20 21:45:00   2145.0   \n",
      "\n",
      "             ActArrDT  ArrTime  \n",
      "0 2014-03-20 08:11:00    811.0  \n",
      "1 2014-03-20 19:30:00   1930.0  \n",
      "2 2014-03-20 10:18:00   1018.0  \n",
      "3 2014-03-20 07:23:00    723.0  \n",
      "4 2014-03-20 22:01:00   2201.0  \n",
      "\n",
      "Flights arrived the previous day as departured\n",
      "        FlightDate  CRSDepTime  DepDelay            ActDepDT  DepTime  \\\n",
      "124808 2014-03-03        2245      87.0 2014-03-04 00:12:00     12.0   \n",
      "150068 2014-03-14        2245      77.0 2014-03-15 00:02:00      2.0   \n",
      "\n",
      "                  ActArrDT  ArrTime  \n",
      "124808 2014-03-03 23:52:00   2352.0  \n",
      "150068 2014-03-14 23:43:00   2343.0  \n"
     ]
    }
   ],
   "source": [
    "# Check for actual departure and arrival datetimes \n",
    "Arrived_next_day = flights['ArrTime_min'] - flights['DepTime_min']  <= -60\n",
    "Arrived_previous_day = flights['ArrTime_min'] - flights['DepTime_min']  >= 1380\n",
    "fields_to_check = ['FlightDate', 'CRSDepTime', 'DepDelay', 'ActDepDT', 'DepTime', 'ActArrDT', 'ArrTime']\n",
    "\n",
    "print('\\nFlights arrived next day after departure\\n', flights[Arrived_next_day][fields_to_check].head())\n",
    "print('\\nFlights arrived the same day as departured\\n', flights[~Arrived_next_day][fields_to_check].head())\n",
    "print('\\nFlights arrived the previous day as departured\\n', flights[Arrived_previous_day][fields_to_check].head())"
   ]
  },
  {
   "cell_type": "markdown",
   "metadata": {},
   "source": [
    "#### Converting datetimes to UTC timezone"
   ]
  },
  {
   "cell_type": "code",
   "execution_count": 81,
   "metadata": {},
   "outputs": [],
   "source": [
    "# Converting scheduled (CRS) departure and arrival times into UTC timezone datetime\n",
    "flights['CRSDep_UTC'] = convert_column_to_UTC(flights, 'CRSDepDT', 'Origin')\n",
    "flights['CRSArr_UTC'] = convert_column_to_UTC(flights, 'CRSArrDT', 'Dest')\n",
    "\n",
    "# Converting actual departure times into UTC timezone datetime\n",
    "# We have to filter for non-NA values because astimezone doesn't work wiht NaN/NaT\n",
    "nonNA_Dep = ~flights['ActDepDT'].isna()\n",
    "flights['ActDep_UTC'] = pd.NaT\n",
    "flights['ActDep_UTC'] = flights['ActDep_UTC'].dt.tz_localize(tz.UTC)\n",
    "flights.loc[nonNA_Dep, 'ActDep_UTC'] = convert_column_to_UTC(flights[nonNA_Dep], 'ActDepDT', 'Origin')\n",
    "\n",
    "# Converting actual arrival times into UTC timezone datetime\n",
    "# We have to filter for non-NA values because astimezone doesn't work wiht NaN/NaT\n",
    "nonNA_Arr = ~flights['ActArrDT'].isna()\n",
    "flights['ActArr_UTC'] = pd.NaT\n",
    "flights['ActArr_UTC'] = flights['ActArr_UTC'].dt.tz_localize(tz.UTC)\n",
    "flights.loc[nonNA_Arr, 'ActArr_UTC'] = convert_column_to_UTC(flights[nonNA_Arr], 'ActArrDT', 'Dest')"
   ]
  },
  {
   "cell_type": "code",
   "execution_count": 84,
   "metadata": {},
   "outputs": [
    {
     "name": "stdout",
     "output_type": "stream",
     "text": [
      "             CRSDepDT                CRSDep_UTC            CRSArrDT                CRSArr_UTC\n",
      "0 2014-03-20 07:00:00 2014-03-20 13:00:00+00:00 2014-03-20 08:25:00 2014-03-20 14:25:00+00:00\n",
      "1 2014-03-20 16:50:00 2014-03-20 22:50:00+00:00 2014-03-20 18:10:00 2014-03-21 00:10:00+00:00\n",
      "2 2014-03-20 09:05:00 2014-03-20 15:05:00+00:00 2014-03-20 10:25:00 2014-03-20 16:25:00+00:00\n",
      "3 2014-03-20 07:05:00 2014-03-20 13:05:00+00:00 2014-03-20 07:25:00 2014-03-20 14:25:00+00:00\n",
      "4 2014-03-20 21:10:00 2014-03-21 03:10:00+00:00 2014-03-20 21:25:00 2014-03-21 04:25:00+00:00\n",
      "             ActDepDT                ActDep_UTC            ActArrDT                ActArr_UTC\n",
      "0 2014-03-20 07:00:00 2014-03-20 13:00:00+00:00 2014-03-20 08:11:00 2014-03-20 14:11:00+00:00\n",
      "1 2014-03-20 18:20:00 2014-03-21 00:20:00+00:00 2014-03-20 19:30:00 2014-03-21 01:30:00+00:00\n",
      "2 2014-03-20 09:05:00 2014-03-20 15:05:00+00:00 2014-03-20 10:18:00 2014-03-20 16:18:00+00:00\n",
      "3 2014-03-20 07:02:00 2014-03-20 13:02:00+00:00 2014-03-20 07:23:00 2014-03-20 14:23:00+00:00\n",
      "4 2014-03-20 21:45:00 2014-03-21 03:45:00+00:00 2014-03-20 22:01:00 2014-03-21 05:01:00+00:00\n"
     ]
    }
   ],
   "source": [
    "with pd.option_context('display.width', 200):\n",
    "    # Check CRS\n",
    "    fields_to_check_UTC_CRS = ['CRSDepDT', 'CRSDep_UTC', 'CRSArrDT', 'CRSArr_UTC']\n",
    "    print(flights[fields_to_check_UTC_CRS].head())\n",
    "\n",
    "    # Check ACTUAL\n",
    "    fields_to_check_UTC_Act = ['ActDepDT', 'ActDep_UTC', 'ActArrDT', 'ActArr_UTC']\n",
    "    print(flights[fields_to_check_UTC_Act].head())"
   ]
  },
  {
   "cell_type": "markdown",
   "metadata": {},
   "source": [
    "#### Calculating scheduled and actual elapsed times based on UTC departure and arrival"
   ]
  },
  {
   "cell_type": "code",
   "execution_count": 85,
   "metadata": {},
   "outputs": [],
   "source": [
    "# Calculating Elapsed time based on UTC times\n",
    "flights['UTCElapsedTime_CRS'] = (flights['CRSArr_UTC'] - flights['CRSDep_UTC']).dt.total_seconds() / 60\n",
    "\n",
    "flights.loc[nonNA_Arr, 'UTCElapsedTime_Act'] = pd.to_timedelta((flights.loc[nonNA_Arr, 'ActArr_UTC'] - \n",
    "                                                                flights.loc[nonNA_Arr, 'ActDep_UTC'])).dt.total_seconds() / 60\n",
    "\n"
   ]
  },
  {
   "cell_type": "code",
   "execution_count": 86,
   "metadata": {},
   "outputs": [],
   "source": [
    "# The difference between UTC-based Elapsed time and CRS/ACTUAL Elapsed time\n",
    "flights['diff_CRS'] = flights['UTCElapsedTime_CRS'] - flights['CRSElapsedTime']\n",
    "flights['diff_Act'] = flights['UTCElapsedTime_Act'] - flights['ActualElapsedTime']"
   ]
  },
  {
   "cell_type": "markdown",
   "metadata": {},
   "source": [
    "### Examining the accuracy of CRS Elapsed time"
   ]
  },
  {
   "cell_type": "code",
   "execution_count": 95,
   "metadata": {},
   "outputs": [
    {
     "name": "stdout",
     "output_type": "stream",
     "text": [
      "There are 76 flights where CRS Elapsed time differ from CRS Elapsed time culculated based on UTC\n",
      "                 CRSDepDT                CRSDep_UTC            CRSArrDT                CRSArr_UTC  CRSElapsedTime  UTCElapsedTime_CRS\n",
      "86022 2014-03-08 23:00:00 2014-03-09 07:00:00+00:00 2014-03-09 01:50:00 2014-03-09 10:50:00+00:00           290.0               230.0\n",
      "86031 2014-03-08 23:50:00 2014-03-09 07:50:00+00:00 2014-03-09 03:46:00 2014-03-09 11:46:00+00:00           296.0               236.0\n",
      "86033 2014-03-08 23:05:00 2014-03-09 07:05:00+00:00 2014-03-09 01:56:00 2014-03-09 10:56:00+00:00           291.0               231.0\n",
      "86262 2014-03-08 23:15:00 2014-03-09 09:15:00+00:00 2014-03-09 08:07:00 2014-03-09 15:07:00+00:00           412.0               352.0\n",
      "86265 2014-03-08 23:55:00 2014-03-09 09:55:00+00:00 2014-03-09 08:31:00 2014-03-09 15:31:00+00:00           396.0               336.0\n"
     ]
    }
   ],
   "source": [
    "# Examine the flights having difference between UTC-Based and CRS Elapsed times \n",
    "diff_not_zero = flights[flights['diff_CRS'] != 0][fields_to_check_UTC_CRS + ['CRSElapsedTime', 'UTCElapsedTime_CRS']]\n",
    "print('There are', len(diff_not_zero), 'flights where CRS Elapsed time differ from CRS Elapsed time culculated based on UTC')\n",
    "print(diff_not_zero.head())\n",
    "\n",
    "del(diff_not_zero)"
   ]
  },
  {
   "cell_type": "code",
   "execution_count": 88,
   "metadata": {},
   "outputs": [
    {
     "data": {
      "text/plain": [
       "diff_CRS\n",
       " 0.0       503682\n",
       " 1440.0        31\n",
       "-1440.0        31\n",
       "-60.0          13\n",
       "-36.0           1\n",
       "Name: count, dtype: int64"
      ]
     },
     "execution_count": 88,
     "metadata": {},
     "output_type": "execute_result"
    }
   ],
   "source": [
    "flights['diff_CRS'].value_counts()"
   ]
  },
  {
   "cell_type": "markdown",
   "metadata": {},
   "source": [
    "There are 76 flights in the datased where we have a difference between UTC and CRS elapsed time.\n"
   ]
  },
  {
   "cell_type": "markdown",
   "metadata": {},
   "source": [
    "Let’s take a detailed look at one of these flights: the first one from the table above, with ID = 86022, which has a -60 minute difference between UTC and CRS elapsed times."
   ]
  },
  {
   "cell_type": "code",
   "execution_count": 96,
   "metadata": {},
   "outputs": [
    {
     "data": {
      "text/plain": [
       "FlightDate                               2014-03-08 00:00:00\n",
       "Flight_Number_Reporting_Airline                          103\n",
       "Origin                                                   SEA\n",
       "Dest                                                     ANC\n",
       "CRSDepTime                                              2300\n",
       "DepTime                                               2347.0\n",
       "DepDelay                                                47.0\n",
       "CRSArrTime                                               150\n",
       "ArrTime                                                206.0\n",
       "ArrDelay                                                16.0\n",
       "Cancelled                                              False\n",
       "Diverted                                               False\n",
       "CRSElapsedTime                                         290.0\n",
       "ActualElapsedTime                                      259.0\n",
       "AirTime                                                241.0\n",
       "CRSDepTime_min                                          1380\n",
       "CRSArrTime_min                                           110\n",
       "DepTime_min                                           1427.0\n",
       "ArrTime_min                                            126.0\n",
       "CRS_Arr_minus_Dep                                      -1270\n",
       "CRSDepDT                                 2014-03-08 23:00:00\n",
       "CRSArrDT                                 2014-03-09 01:50:00\n",
       "ActDepDT                                 2014-03-08 23:47:00\n",
       "ActArrDT                                 2014-03-09 02:06:00\n",
       "CRSDep_UTC                         2014-03-09 07:00:00+00:00\n",
       "CRSArr_UTC                         2014-03-09 10:50:00+00:00\n",
       "ActDep_UTC                         2014-03-09 07:47:00+00:00\n",
       "ActArr_UTC                         2014-03-09 12:00:00+00:00\n",
       "UTCElapsedTime_CRS                                     230.0\n",
       "UTCElapsedTime_Act                                     253.0\n",
       "diff_CRS                                               -60.0\n",
       "diff_Act                                                -6.0\n",
       "Name: 86022, dtype: object"
      ]
     },
     "execution_count": 96,
     "metadata": {},
     "output_type": "execute_result"
    }
   ],
   "source": [
    "# Let's take a look on the first flight with diffeence\n",
    "flights.iloc[86022]"
   ]
  },
  {
   "cell_type": "markdown",
   "metadata": {},
   "source": [
    "First, we see that this flight took place during the on March 9th 2014 - the spring start of DST, and the difference between UTC and CRS elapsed times is exactly 60 minutes. But which time is correct? Let’s take a look at similar flights on the other days."
   ]
  },
  {
   "cell_type": "code",
   "execution_count": 97,
   "metadata": {},
   "outputs": [
    {
     "data": {
      "text/html": [
       "<div>\n",
       "<style scoped>\n",
       "    .dataframe tbody tr th:only-of-type {\n",
       "        vertical-align: middle;\n",
       "    }\n",
       "\n",
       "    .dataframe tbody tr th {\n",
       "        vertical-align: top;\n",
       "    }\n",
       "\n",
       "    .dataframe thead th {\n",
       "        text-align: right;\n",
       "    }\n",
       "</style>\n",
       "<table border=\"1\" class=\"dataframe\">\n",
       "  <thead>\n",
       "    <tr style=\"text-align: right;\">\n",
       "      <th></th>\n",
       "      <th>CRSArrTime</th>\n",
       "      <th>CRSElapsedTime</th>\n",
       "      <th>UTCElapsedTime_CRS</th>\n",
       "      <th>diff_CRS</th>\n",
       "    </tr>\n",
       "  </thead>\n",
       "  <tbody>\n",
       "    <tr>\n",
       "      <th>84659</th>\n",
       "      <td>150</td>\n",
       "      <td>230.0</td>\n",
       "      <td>230.0</td>\n",
       "      <td>0.0</td>\n",
       "    </tr>\n",
       "    <tr>\n",
       "      <th>85219</th>\n",
       "      <td>150</td>\n",
       "      <td>230.0</td>\n",
       "      <td>230.0</td>\n",
       "      <td>0.0</td>\n",
       "    </tr>\n",
       "    <tr>\n",
       "      <th>85612</th>\n",
       "      <td>150</td>\n",
       "      <td>230.0</td>\n",
       "      <td>230.0</td>\n",
       "      <td>0.0</td>\n",
       "    </tr>\n",
       "    <tr>\n",
       "      <th>86022</th>\n",
       "      <td>150</td>\n",
       "      <td>290.0</td>\n",
       "      <td>230.0</td>\n",
       "      <td>-60.0</td>\n",
       "    </tr>\n",
       "    <tr>\n",
       "      <th>87954</th>\n",
       "      <td>2147</td>\n",
       "      <td>212.0</td>\n",
       "      <td>212.0</td>\n",
       "      <td>0.0</td>\n",
       "    </tr>\n",
       "    <tr>\n",
       "      <th>88114</th>\n",
       "      <td>150</td>\n",
       "      <td>230.0</td>\n",
       "      <td>230.0</td>\n",
       "      <td>0.0</td>\n",
       "    </tr>\n",
       "    <tr>\n",
       "      <th>88520</th>\n",
       "      <td>150</td>\n",
       "      <td>230.0</td>\n",
       "      <td>230.0</td>\n",
       "      <td>0.0</td>\n",
       "    </tr>\n",
       "    <tr>\n",
       "      <th>88902</th>\n",
       "      <td>150</td>\n",
       "      <td>230.0</td>\n",
       "      <td>230.0</td>\n",
       "      <td>0.0</td>\n",
       "    </tr>\n",
       "    <tr>\n",
       "      <th>89349</th>\n",
       "      <td>2147</td>\n",
       "      <td>212.0</td>\n",
       "      <td>212.0</td>\n",
       "      <td>0.0</td>\n",
       "    </tr>\n",
       "    <tr>\n",
       "      <th>90881</th>\n",
       "      <td>2147</td>\n",
       "      <td>212.0</td>\n",
       "      <td>212.0</td>\n",
       "      <td>0.0</td>\n",
       "    </tr>\n",
       "    <tr>\n",
       "      <th>91318</th>\n",
       "      <td>2147</td>\n",
       "      <td>212.0</td>\n",
       "      <td>212.0</td>\n",
       "      <td>0.0</td>\n",
       "    </tr>\n",
       "    <tr>\n",
       "      <th>91633</th>\n",
       "      <td>2147</td>\n",
       "      <td>212.0</td>\n",
       "      <td>212.0</td>\n",
       "      <td>0.0</td>\n",
       "    </tr>\n",
       "    <tr>\n",
       "      <th>92061</th>\n",
       "      <td>2147</td>\n",
       "      <td>212.0</td>\n",
       "      <td>212.0</td>\n",
       "      <td>0.0</td>\n",
       "    </tr>\n",
       "    <tr>\n",
       "      <th>92197</th>\n",
       "      <td>2147</td>\n",
       "      <td>212.0</td>\n",
       "      <td>212.0</td>\n",
       "      <td>0.0</td>\n",
       "    </tr>\n",
       "    <tr>\n",
       "      <th>92602</th>\n",
       "      <td>2147</td>\n",
       "      <td>212.0</td>\n",
       "      <td>212.0</td>\n",
       "      <td>0.0</td>\n",
       "    </tr>\n",
       "    <tr>\n",
       "      <th>93317</th>\n",
       "      <td>2147</td>\n",
       "      <td>212.0</td>\n",
       "      <td>212.0</td>\n",
       "      <td>0.0</td>\n",
       "    </tr>\n",
       "    <tr>\n",
       "      <th>93731</th>\n",
       "      <td>2147</td>\n",
       "      <td>212.0</td>\n",
       "      <td>212.0</td>\n",
       "      <td>0.0</td>\n",
       "    </tr>\n",
       "    <tr>\n",
       "      <th>94286</th>\n",
       "      <td>2147</td>\n",
       "      <td>212.0</td>\n",
       "      <td>212.0</td>\n",
       "      <td>0.0</td>\n",
       "    </tr>\n",
       "    <tr>\n",
       "      <th>95124</th>\n",
       "      <td>2147</td>\n",
       "      <td>212.0</td>\n",
       "      <td>212.0</td>\n",
       "      <td>0.0</td>\n",
       "    </tr>\n",
       "    <tr>\n",
       "      <th>95561</th>\n",
       "      <td>2147</td>\n",
       "      <td>212.0</td>\n",
       "      <td>212.0</td>\n",
       "      <td>0.0</td>\n",
       "    </tr>\n",
       "    <tr>\n",
       "      <th>96534</th>\n",
       "      <td>150</td>\n",
       "      <td>230.0</td>\n",
       "      <td>230.0</td>\n",
       "      <td>0.0</td>\n",
       "    </tr>\n",
       "    <tr>\n",
       "      <th>97001</th>\n",
       "      <td>2147</td>\n",
       "      <td>212.0</td>\n",
       "      <td>212.0</td>\n",
       "      <td>0.0</td>\n",
       "    </tr>\n",
       "    <tr>\n",
       "      <th>97438</th>\n",
       "      <td>2147</td>\n",
       "      <td>212.0</td>\n",
       "      <td>212.0</td>\n",
       "      <td>0.0</td>\n",
       "    </tr>\n",
       "    <tr>\n",
       "      <th>97974</th>\n",
       "      <td>2147</td>\n",
       "      <td>212.0</td>\n",
       "      <td>212.0</td>\n",
       "      <td>0.0</td>\n",
       "    </tr>\n",
       "    <tr>\n",
       "      <th>99578</th>\n",
       "      <td>2147</td>\n",
       "      <td>212.0</td>\n",
       "      <td>212.0</td>\n",
       "      <td>0.0</td>\n",
       "    </tr>\n",
       "    <tr>\n",
       "      <th>99713</th>\n",
       "      <td>2147</td>\n",
       "      <td>212.0</td>\n",
       "      <td>212.0</td>\n",
       "      <td>0.0</td>\n",
       "    </tr>\n",
       "    <tr>\n",
       "      <th>100120</th>\n",
       "      <td>2147</td>\n",
       "      <td>212.0</td>\n",
       "      <td>212.0</td>\n",
       "      <td>0.0</td>\n",
       "    </tr>\n",
       "    <tr>\n",
       "      <th>100550</th>\n",
       "      <td>2147</td>\n",
       "      <td>212.0</td>\n",
       "      <td>212.0</td>\n",
       "      <td>0.0</td>\n",
       "    </tr>\n",
       "    <tr>\n",
       "      <th>120862</th>\n",
       "      <td>2147</td>\n",
       "      <td>212.0</td>\n",
       "      <td>212.0</td>\n",
       "      <td>0.0</td>\n",
       "    </tr>\n",
       "    <tr>\n",
       "      <th>157217</th>\n",
       "      <td>2147</td>\n",
       "      <td>212.0</td>\n",
       "      <td>212.0</td>\n",
       "      <td>0.0</td>\n",
       "    </tr>\n",
       "  </tbody>\n",
       "</table>\n",
       "</div>"
      ],
      "text/plain": [
       "        CRSArrTime  CRSElapsedTime  UTCElapsedTime_CRS  diff_CRS\n",
       "84659          150           230.0               230.0       0.0\n",
       "85219          150           230.0               230.0       0.0\n",
       "85612          150           230.0               230.0       0.0\n",
       "86022          150           290.0               230.0     -60.0\n",
       "87954         2147           212.0               212.0       0.0\n",
       "88114          150           230.0               230.0       0.0\n",
       "88520          150           230.0               230.0       0.0\n",
       "88902          150           230.0               230.0       0.0\n",
       "89349         2147           212.0               212.0       0.0\n",
       "90881         2147           212.0               212.0       0.0\n",
       "91318         2147           212.0               212.0       0.0\n",
       "91633         2147           212.0               212.0       0.0\n",
       "92061         2147           212.0               212.0       0.0\n",
       "92197         2147           212.0               212.0       0.0\n",
       "92602         2147           212.0               212.0       0.0\n",
       "93317         2147           212.0               212.0       0.0\n",
       "93731         2147           212.0               212.0       0.0\n",
       "94286         2147           212.0               212.0       0.0\n",
       "95124         2147           212.0               212.0       0.0\n",
       "95561         2147           212.0               212.0       0.0\n",
       "96534          150           230.0               230.0       0.0\n",
       "97001         2147           212.0               212.0       0.0\n",
       "97438         2147           212.0               212.0       0.0\n",
       "97974         2147           212.0               212.0       0.0\n",
       "99578         2147           212.0               212.0       0.0\n",
       "99713         2147           212.0               212.0       0.0\n",
       "100120        2147           212.0               212.0       0.0\n",
       "100550        2147           212.0               212.0       0.0\n",
       "120862        2147           212.0               212.0       0.0\n",
       "157217        2147           212.0               212.0       0.0"
      ]
     },
     "execution_count": 97,
     "metadata": {},
     "output_type": "execute_result"
    }
   ],
   "source": [
    "flights[(flights['Flight_Number_Reporting_Airline'] == 103) &\n",
    "         (flights['Origin'] == 'SEA')][['CRSArrTime', 'CRSElapsedTime', 'UTCElapsedTime_CRS', 'diff_CRS']]"
   ]
  },
  {
   "cell_type": "markdown",
   "metadata": {},
   "source": [
    "It seems that the only flight having the difference is the filight landed 9th March 2014 and the UTC-based elapsed time is correct (CRSElapsedTime has the wrong value for DST day). Let's examine other flights having difference of 60 min."
   ]
  },
  {
   "cell_type": "code",
   "execution_count": 100,
   "metadata": {},
   "outputs": [
    {
     "name": "stdout",
     "output_type": "stream",
     "text": [
      "13 records\n",
      "                 CRSDepDT            CRSArrDT  CRSElapsedTime  UTCElapsedTime_CRS  diff_CRS\n",
      "86022 2014-03-08 23:00:00 2014-03-09 01:50:00           290.0               230.0     -60.0\n",
      "86031 2014-03-08 23:50:00 2014-03-09 03:46:00           296.0               236.0     -60.0\n",
      "86033 2014-03-08 23:05:00 2014-03-09 01:56:00           291.0               231.0     -60.0\n",
      "86262 2014-03-08 23:15:00 2014-03-09 08:07:00           412.0               352.0     -60.0\n",
      "86265 2014-03-08 23:55:00 2014-03-09 08:31:00           396.0               336.0     -60.0\n",
      "86289 2014-03-08 20:55:00 2014-03-09 05:55:00           420.0               360.0     -60.0\n",
      "86293 2014-03-08 22:30:00 2014-03-09 06:50:00           440.0               380.0     -60.0\n",
      "86296 2014-03-08 22:10:00 2014-03-09 06:55:00           405.0               345.0     -60.0\n",
      "86303 2014-03-08 23:55:00 2014-03-09 08:58:00           423.0               363.0     -60.0\n",
      "86307 2014-03-08 20:50:00 2014-03-09 06:09:00           379.0               319.0     -60.0\n",
      "86312 2014-03-08 22:10:00 2014-03-09 08:20:00           430.0               370.0     -60.0\n",
      "86404 2014-03-09 00:35:00 2014-03-09 05:55:00           260.0               200.0     -60.0\n",
      "86409 2014-03-09 00:40:00 2014-03-09 06:23:00           283.0               223.0     -60.0\n"
     ]
    }
   ],
   "source": [
    "diff_60_min = flights[flights['diff_CRS'] == -60][['CRSDepDT', 'CRSArrDT', 'CRSElapsedTime', 'UTCElapsedTime_CRS', 'diff_CRS']]\n",
    "print(len(diff_60_min), 'records')\n",
    "print(diff_60_min)\n",
    "\n",
    "del(diff_60_min)"
   ]
  },
  {
   "cell_type": "markdown",
   "metadata": {},
   "source": [
    "We can see that all flights with a -60 minute difference between UTC and CRS elapsed times occurred during DST. There are 13 such records in the dataset.\n",
    "\n",
    "We can conclude that the CRS elapsed time is incorrect for all 13 flights that passed through DST.\n",
    "\n",
    "This explains the discrepancy between UTC and CRS elapsed times for 13 out of the 76 flights in the dataset. But what about the remaining flights with a difference?"
   ]
  },
  {
   "cell_type": "code",
   "execution_count": 101,
   "metadata": {},
   "outputs": [
    {
     "data": {
      "text/plain": [
       "count    503758.000000\n",
       "mean        137.281445\n",
       "std          75.220284\n",
       "min        -975.000000\n",
       "25%          84.000000\n",
       "50%         119.000000\n",
       "75%         170.000000\n",
       "max        1875.000000\n",
       "Name: UTCElapsedTime_CRS, dtype: float64"
      ]
     },
     "execution_count": 101,
     "metadata": {},
     "output_type": "execute_result"
    }
   ],
   "source": [
    "flights['UTCElapsedTime_CRS'].describe()"
   ]
  },
  {
   "cell_type": "markdown",
   "metadata": {},
   "source": [
    "There is another interesting fact - some flights has also a negative UTC elapsed time! How is this possible?"
   ]
  },
  {
   "cell_type": "code",
   "execution_count": 103,
   "metadata": {},
   "outputs": [
    {
     "name": "stdout",
     "output_type": "stream",
     "text": [
      "Number of flihgts with negative UTC-based duration: 31\n"
     ]
    },
    {
     "data": {
      "text/html": [
       "<div>\n",
       "<style scoped>\n",
       "    .dataframe tbody tr th:only-of-type {\n",
       "        vertical-align: middle;\n",
       "    }\n",
       "\n",
       "    .dataframe tbody tr th {\n",
       "        vertical-align: top;\n",
       "    }\n",
       "\n",
       "    .dataframe thead th {\n",
       "        text-align: right;\n",
       "    }\n",
       "</style>\n",
       "<table border=\"1\" class=\"dataframe\">\n",
       "  <thead>\n",
       "    <tr style=\"text-align: right;\">\n",
       "      <th></th>\n",
       "      <th>CRSDepTime</th>\n",
       "      <th>Origin</th>\n",
       "      <th>CRSArrTime</th>\n",
       "      <th>Dest</th>\n",
       "      <th>CRSElapsedTime</th>\n",
       "      <th>UTCElapsedTime_CRS</th>\n",
       "      <th>diff_CRS</th>\n",
       "    </tr>\n",
       "  </thead>\n",
       "  <tbody>\n",
       "    <tr>\n",
       "      <th>355885</th>\n",
       "      <td>1415</td>\n",
       "      <td>HNL</td>\n",
       "      <td>1800</td>\n",
       "      <td>GUM</td>\n",
       "      <td>465.0</td>\n",
       "      <td>-975.0</td>\n",
       "      <td>-1440.0</td>\n",
       "    </tr>\n",
       "    <tr>\n",
       "      <th>356594</th>\n",
       "      <td>1415</td>\n",
       "      <td>HNL</td>\n",
       "      <td>1800</td>\n",
       "      <td>GUM</td>\n",
       "      <td>465.0</td>\n",
       "      <td>-975.0</td>\n",
       "      <td>-1440.0</td>\n",
       "    </tr>\n",
       "    <tr>\n",
       "      <th>357533</th>\n",
       "      <td>1405</td>\n",
       "      <td>HNL</td>\n",
       "      <td>1755</td>\n",
       "      <td>GUM</td>\n",
       "      <td>470.0</td>\n",
       "      <td>-970.0</td>\n",
       "      <td>-1440.0</td>\n",
       "    </tr>\n",
       "    <tr>\n",
       "      <th>359004</th>\n",
       "      <td>1405</td>\n",
       "      <td>HNL</td>\n",
       "      <td>1755</td>\n",
       "      <td>GUM</td>\n",
       "      <td>470.0</td>\n",
       "      <td>-970.0</td>\n",
       "      <td>-1440.0</td>\n",
       "    </tr>\n",
       "    <tr>\n",
       "      <th>363144</th>\n",
       "      <td>1405</td>\n",
       "      <td>HNL</td>\n",
       "      <td>1755</td>\n",
       "      <td>GUM</td>\n",
       "      <td>470.0</td>\n",
       "      <td>-970.0</td>\n",
       "      <td>-1440.0</td>\n",
       "    </tr>\n",
       "    <tr>\n",
       "      <th>363988</th>\n",
       "      <td>1405</td>\n",
       "      <td>HNL</td>\n",
       "      <td>1755</td>\n",
       "      <td>GUM</td>\n",
       "      <td>470.0</td>\n",
       "      <td>-970.0</td>\n",
       "      <td>-1440.0</td>\n",
       "    </tr>\n",
       "    <tr>\n",
       "      <th>365214</th>\n",
       "      <td>1405</td>\n",
       "      <td>HNL</td>\n",
       "      <td>1755</td>\n",
       "      <td>GUM</td>\n",
       "      <td>470.0</td>\n",
       "      <td>-970.0</td>\n",
       "      <td>-1440.0</td>\n",
       "    </tr>\n",
       "    <tr>\n",
       "      <th>366081</th>\n",
       "      <td>1405</td>\n",
       "      <td>HNL</td>\n",
       "      <td>1755</td>\n",
       "      <td>GUM</td>\n",
       "      <td>470.0</td>\n",
       "      <td>-970.0</td>\n",
       "      <td>-1440.0</td>\n",
       "    </tr>\n",
       "    <tr>\n",
       "      <th>367783</th>\n",
       "      <td>1405</td>\n",
       "      <td>HNL</td>\n",
       "      <td>1755</td>\n",
       "      <td>GUM</td>\n",
       "      <td>470.0</td>\n",
       "      <td>-970.0</td>\n",
       "      <td>-1440.0</td>\n",
       "    </tr>\n",
       "    <tr>\n",
       "      <th>368046</th>\n",
       "      <td>1405</td>\n",
       "      <td>HNL</td>\n",
       "      <td>1755</td>\n",
       "      <td>GUM</td>\n",
       "      <td>470.0</td>\n",
       "      <td>-970.0</td>\n",
       "      <td>-1440.0</td>\n",
       "    </tr>\n",
       "    <tr>\n",
       "      <th>369895</th>\n",
       "      <td>1405</td>\n",
       "      <td>HNL</td>\n",
       "      <td>1755</td>\n",
       "      <td>GUM</td>\n",
       "      <td>470.0</td>\n",
       "      <td>-970.0</td>\n",
       "      <td>-1440.0</td>\n",
       "    </tr>\n",
       "    <tr>\n",
       "      <th>371191</th>\n",
       "      <td>1405</td>\n",
       "      <td>HNL</td>\n",
       "      <td>1755</td>\n",
       "      <td>GUM</td>\n",
       "      <td>470.0</td>\n",
       "      <td>-970.0</td>\n",
       "      <td>-1440.0</td>\n",
       "    </tr>\n",
       "    <tr>\n",
       "      <th>371496</th>\n",
       "      <td>1405</td>\n",
       "      <td>HNL</td>\n",
       "      <td>1755</td>\n",
       "      <td>GUM</td>\n",
       "      <td>470.0</td>\n",
       "      <td>-970.0</td>\n",
       "      <td>-1440.0</td>\n",
       "    </tr>\n",
       "    <tr>\n",
       "      <th>372345</th>\n",
       "      <td>1405</td>\n",
       "      <td>HNL</td>\n",
       "      <td>1755</td>\n",
       "      <td>GUM</td>\n",
       "      <td>470.0</td>\n",
       "      <td>-970.0</td>\n",
       "      <td>-1440.0</td>\n",
       "    </tr>\n",
       "    <tr>\n",
       "      <th>375334</th>\n",
       "      <td>1405</td>\n",
       "      <td>HNL</td>\n",
       "      <td>1755</td>\n",
       "      <td>GUM</td>\n",
       "      <td>470.0</td>\n",
       "      <td>-970.0</td>\n",
       "      <td>-1440.0</td>\n",
       "    </tr>\n",
       "    <tr>\n",
       "      <th>375864</th>\n",
       "      <td>1405</td>\n",
       "      <td>HNL</td>\n",
       "      <td>1755</td>\n",
       "      <td>GUM</td>\n",
       "      <td>470.0</td>\n",
       "      <td>-970.0</td>\n",
       "      <td>-1440.0</td>\n",
       "    </tr>\n",
       "    <tr>\n",
       "      <th>377030</th>\n",
       "      <td>1405</td>\n",
       "      <td>HNL</td>\n",
       "      <td>1755</td>\n",
       "      <td>GUM</td>\n",
       "      <td>470.0</td>\n",
       "      <td>-970.0</td>\n",
       "      <td>-1440.0</td>\n",
       "    </tr>\n",
       "    <tr>\n",
       "      <th>377664</th>\n",
       "      <td>1405</td>\n",
       "      <td>HNL</td>\n",
       "      <td>1755</td>\n",
       "      <td>GUM</td>\n",
       "      <td>470.0</td>\n",
       "      <td>-970.0</td>\n",
       "      <td>-1440.0</td>\n",
       "    </tr>\n",
       "    <tr>\n",
       "      <th>381741</th>\n",
       "      <td>1405</td>\n",
       "      <td>HNL</td>\n",
       "      <td>1755</td>\n",
       "      <td>GUM</td>\n",
       "      <td>470.0</td>\n",
       "      <td>-970.0</td>\n",
       "      <td>-1440.0</td>\n",
       "    </tr>\n",
       "    <tr>\n",
       "      <th>382588</th>\n",
       "      <td>1405</td>\n",
       "      <td>HNL</td>\n",
       "      <td>1755</td>\n",
       "      <td>GUM</td>\n",
       "      <td>470.0</td>\n",
       "      <td>-970.0</td>\n",
       "      <td>-1440.0</td>\n",
       "    </tr>\n",
       "    <tr>\n",
       "      <th>383709</th>\n",
       "      <td>1405</td>\n",
       "      <td>HNL</td>\n",
       "      <td>1755</td>\n",
       "      <td>GUM</td>\n",
       "      <td>470.0</td>\n",
       "      <td>-970.0</td>\n",
       "      <td>-1440.0</td>\n",
       "    </tr>\n",
       "    <tr>\n",
       "      <th>384670</th>\n",
       "      <td>1405</td>\n",
       "      <td>HNL</td>\n",
       "      <td>1755</td>\n",
       "      <td>GUM</td>\n",
       "      <td>470.0</td>\n",
       "      <td>-970.0</td>\n",
       "      <td>-1440.0</td>\n",
       "    </tr>\n",
       "    <tr>\n",
       "      <th>387480</th>\n",
       "      <td>1450</td>\n",
       "      <td>HNL</td>\n",
       "      <td>1840</td>\n",
       "      <td>GUM</td>\n",
       "      <td>470.0</td>\n",
       "      <td>-970.0</td>\n",
       "      <td>-1440.0</td>\n",
       "    </tr>\n",
       "    <tr>\n",
       "      <th>388176</th>\n",
       "      <td>1450</td>\n",
       "      <td>HNL</td>\n",
       "      <td>1840</td>\n",
       "      <td>GUM</td>\n",
       "      <td>470.0</td>\n",
       "      <td>-970.0</td>\n",
       "      <td>-1440.0</td>\n",
       "    </tr>\n",
       "    <tr>\n",
       "      <th>389549</th>\n",
       "      <td>1450</td>\n",
       "      <td>HNL</td>\n",
       "      <td>1840</td>\n",
       "      <td>GUM</td>\n",
       "      <td>470.0</td>\n",
       "      <td>-970.0</td>\n",
       "      <td>-1440.0</td>\n",
       "    </tr>\n",
       "    <tr>\n",
       "      <th>390370</th>\n",
       "      <td>1450</td>\n",
       "      <td>HNL</td>\n",
       "      <td>1840</td>\n",
       "      <td>GUM</td>\n",
       "      <td>470.0</td>\n",
       "      <td>-970.0</td>\n",
       "      <td>-1440.0</td>\n",
       "    </tr>\n",
       "    <tr>\n",
       "      <th>394416</th>\n",
       "      <td>1450</td>\n",
       "      <td>HNL</td>\n",
       "      <td>1840</td>\n",
       "      <td>GUM</td>\n",
       "      <td>470.0</td>\n",
       "      <td>-970.0</td>\n",
       "      <td>-1440.0</td>\n",
       "    </tr>\n",
       "    <tr>\n",
       "      <th>395162</th>\n",
       "      <td>1450</td>\n",
       "      <td>HNL</td>\n",
       "      <td>1840</td>\n",
       "      <td>GUM</td>\n",
       "      <td>470.0</td>\n",
       "      <td>-970.0</td>\n",
       "      <td>-1440.0</td>\n",
       "    </tr>\n",
       "    <tr>\n",
       "      <th>406757</th>\n",
       "      <td>1450</td>\n",
       "      <td>HNL</td>\n",
       "      <td>1840</td>\n",
       "      <td>GUM</td>\n",
       "      <td>470.0</td>\n",
       "      <td>-970.0</td>\n",
       "      <td>-1440.0</td>\n",
       "    </tr>\n",
       "    <tr>\n",
       "      <th>427026</th>\n",
       "      <td>1405</td>\n",
       "      <td>HNL</td>\n",
       "      <td>1755</td>\n",
       "      <td>GUM</td>\n",
       "      <td>470.0</td>\n",
       "      <td>-970.0</td>\n",
       "      <td>-1440.0</td>\n",
       "    </tr>\n",
       "    <tr>\n",
       "      <th>468929</th>\n",
       "      <td>1450</td>\n",
       "      <td>HNL</td>\n",
       "      <td>1840</td>\n",
       "      <td>GUM</td>\n",
       "      <td>470.0</td>\n",
       "      <td>-970.0</td>\n",
       "      <td>-1440.0</td>\n",
       "    </tr>\n",
       "  </tbody>\n",
       "</table>\n",
       "</div>"
      ],
      "text/plain": [
       "        CRSDepTime Origin  CRSArrTime Dest  CRSElapsedTime  UTCElapsedTime_CRS  diff_CRS\n",
       "355885        1415    HNL        1800  GUM           465.0              -975.0   -1440.0\n",
       "356594        1415    HNL        1800  GUM           465.0              -975.0   -1440.0\n",
       "357533        1405    HNL        1755  GUM           470.0              -970.0   -1440.0\n",
       "359004        1405    HNL        1755  GUM           470.0              -970.0   -1440.0\n",
       "363144        1405    HNL        1755  GUM           470.0              -970.0   -1440.0\n",
       "363988        1405    HNL        1755  GUM           470.0              -970.0   -1440.0\n",
       "365214        1405    HNL        1755  GUM           470.0              -970.0   -1440.0\n",
       "366081        1405    HNL        1755  GUM           470.0              -970.0   -1440.0\n",
       "367783        1405    HNL        1755  GUM           470.0              -970.0   -1440.0\n",
       "368046        1405    HNL        1755  GUM           470.0              -970.0   -1440.0\n",
       "369895        1405    HNL        1755  GUM           470.0              -970.0   -1440.0\n",
       "371191        1405    HNL        1755  GUM           470.0              -970.0   -1440.0\n",
       "371496        1405    HNL        1755  GUM           470.0              -970.0   -1440.0\n",
       "372345        1405    HNL        1755  GUM           470.0              -970.0   -1440.0\n",
       "375334        1405    HNL        1755  GUM           470.0              -970.0   -1440.0\n",
       "375864        1405    HNL        1755  GUM           470.0              -970.0   -1440.0\n",
       "377030        1405    HNL        1755  GUM           470.0              -970.0   -1440.0\n",
       "377664        1405    HNL        1755  GUM           470.0              -970.0   -1440.0\n",
       "381741        1405    HNL        1755  GUM           470.0              -970.0   -1440.0\n",
       "382588        1405    HNL        1755  GUM           470.0              -970.0   -1440.0\n",
       "383709        1405    HNL        1755  GUM           470.0              -970.0   -1440.0\n",
       "384670        1405    HNL        1755  GUM           470.0              -970.0   -1440.0\n",
       "387480        1450    HNL        1840  GUM           470.0              -970.0   -1440.0\n",
       "388176        1450    HNL        1840  GUM           470.0              -970.0   -1440.0\n",
       "389549        1450    HNL        1840  GUM           470.0              -970.0   -1440.0\n",
       "390370        1450    HNL        1840  GUM           470.0              -970.0   -1440.0\n",
       "394416        1450    HNL        1840  GUM           470.0              -970.0   -1440.0\n",
       "395162        1450    HNL        1840  GUM           470.0              -970.0   -1440.0\n",
       "406757        1450    HNL        1840  GUM           470.0              -970.0   -1440.0\n",
       "427026        1405    HNL        1755  GUM           470.0              -970.0   -1440.0\n",
       "468929        1450    HNL        1840  GUM           470.0              -970.0   -1440.0"
      ]
     },
     "execution_count": 103,
     "metadata": {},
     "output_type": "execute_result"
    }
   ],
   "source": [
    "error_less_0 = flights[flights['UTCElapsedTime_CRS'] < 0]\n",
    "print('Number of flihgts with negative UTC-based duration:', len(error_less_0))\n",
    "error_less_0[\n",
    "    ['CRSDepTime', \n",
    "     'Origin', \n",
    "     'CRSArrTime', \n",
    "     'Dest', \n",
    "     'CRSElapsedTime', \n",
    "     'UTCElapsedTime_CRS', \n",
    "     'diff_CRS']]"
   ]
  },
  {
   "cell_type": "markdown",
   "metadata": {},
   "source": [
    "There are 31 flights with a negative UTC elapsed time. Previously, we analyzed the differences between UTC and CRS elapsed times and found that 31 flights had a -1440 minute difference. These are the same flights. A difference of 1440 minutes is equivalent to 24 hours.\n",
    "\n",
    "All 31 flights were from HNL to GUM, which is interesting because HNL is in the UTC-10 timezone, while GUM is in the UTC+10 timezone. These two airports are located across the International Date Line (IDL)."
   ]
  },
  {
   "cell_type": "code",
   "execution_count": 104,
   "metadata": {},
   "outputs": [
    {
     "name": "stdout",
     "output_type": "stream",
     "text": [
      "                      CRSDep_UTC  CRSDepTime Origin                CRSArr_UTC  CRSArrTime Dest  diff_CRS\n",
      "355885 2014-04-01 00:15:00+00:00        1415    HNL 2014-03-31 08:00:00+00:00        1800  GUM   -1440.0\n",
      "356594 2014-03-31 00:15:00+00:00        1415    HNL 2014-03-30 08:00:00+00:00        1800  GUM   -1440.0\n",
      "357533 2014-03-28 00:05:00+00:00        1405    HNL 2014-03-27 07:55:00+00:00        1755  GUM   -1440.0\n",
      "359004 2014-03-29 00:05:00+00:00        1405    HNL 2014-03-28 07:55:00+00:00        1755  GUM   -1440.0\n",
      "363144 2014-03-27 00:05:00+00:00        1405    HNL 2014-03-26 07:55:00+00:00        1755  GUM   -1440.0\n"
     ]
    }
   ],
   "source": [
    "print(error_less_0[['CRSDep_UTC', 'CRSDepTime', 'Origin', 'CRSArr_UTC', 'CRSArrTime', 'Dest', 'diff_CRS']].head())\n",
    "\n",
    "del(error_less_0)"
   ]
  },
  {
   "cell_type": "markdown",
   "metadata": {},
   "source": [
    "The easiest way to correct this is to find all flight with UTC Departures less than UTC Arrival and add 24 x 60 minutes to the UTC Elapsed time"
   ]
  },
  {
   "cell_type": "markdown",
   "metadata": {},
   "source": [
    "There ara other flights which have the \"oposite\" difference - they differ on +1440 minutes. "
   ]
  },
  {
   "cell_type": "code",
   "execution_count": 105,
   "metadata": {},
   "outputs": [
    {
     "name": "stdout",
     "output_type": "stream",
     "text": [
      "31\n",
      "                      CRSDep_UTC  CRSDepTime Origin                CRSArr_UTC  CRSArrTime Dest  diff_CRS\n",
      "355883 2014-03-30 20:30:00+00:00         630    GUM 2014-04-01 03:45:00+00:00        1745  HNL    1440.0\n",
      "356592 2014-03-29 20:30:00+00:00         630    GUM 2014-03-31 03:45:00+00:00        1745  HNL    1440.0\n",
      "357531 2014-03-26 20:40:00+00:00         640    GUM 2014-03-28 03:40:00+00:00        1740  HNL    1440.0\n",
      "359002 2014-03-27 20:40:00+00:00         640    GUM 2014-03-29 03:40:00+00:00        1740  HNL    1440.0\n",
      "363142 2014-03-25 20:40:00+00:00         640    GUM 2014-03-27 03:40:00+00:00        1740  HNL    1440.0\n",
      "363986 2014-03-23 20:40:00+00:00         640    GUM 2014-03-25 03:40:00+00:00        1740  HNL    1440.0\n",
      "365212 2014-03-24 20:40:00+00:00         640    GUM 2014-03-26 03:40:00+00:00        1740  HNL    1440.0\n",
      "366079 2014-03-22 20:40:00+00:00         640    GUM 2014-03-24 03:40:00+00:00        1740  HNL    1440.0\n",
      "367781 2014-03-19 20:40:00+00:00         640    GUM 2014-03-21 03:40:00+00:00        1740  HNL    1440.0\n",
      "368044 2014-03-21 20:40:00+00:00         640    GUM 2014-03-23 03:40:00+00:00        1740  HNL    1440.0\n",
      "369893 2014-03-20 20:40:00+00:00         640    GUM 2014-03-22 03:40:00+00:00        1740  HNL    1440.0\n",
      "371189 2014-03-17 20:40:00+00:00         640    GUM 2014-03-19 03:40:00+00:00        1740  HNL    1440.0\n",
      "371494 2014-03-18 20:40:00+00:00         640    GUM 2014-03-20 03:40:00+00:00        1740  HNL    1440.0\n",
      "372343 2014-03-16 20:40:00+00:00         640    GUM 2014-03-18 03:40:00+00:00        1740  HNL    1440.0\n",
      "375332 2014-03-15 20:40:00+00:00         640    GUM 2014-03-17 03:40:00+00:00        1740  HNL    1440.0\n",
      "375862 2014-03-13 20:40:00+00:00         640    GUM 2014-03-15 03:40:00+00:00        1740  HNL    1440.0\n",
      "377028 2014-03-14 20:40:00+00:00         640    GUM 2014-03-16 03:40:00+00:00        1740  HNL    1440.0\n",
      "377662 2014-03-12 20:40:00+00:00         640    GUM 2014-03-14 03:40:00+00:00        1740  HNL    1440.0\n",
      "381739 2014-03-11 20:40:00+00:00         640    GUM 2014-03-13 03:40:00+00:00        1740  HNL    1440.0\n",
      "382586 2014-03-09 20:40:00+00:00         640    GUM 2014-03-11 03:40:00+00:00        1740  HNL    1440.0\n",
      "383707 2014-03-10 20:40:00+00:00         640    GUM 2014-03-12 03:40:00+00:00        1740  HNL    1440.0\n",
      "384668 2014-03-08 20:40:00+00:00         640    GUM 2014-03-10 03:40:00+00:00        1740  HNL    1440.0\n",
      "387478 2014-03-06 21:15:00+00:00         715    GUM 2014-03-08 04:15:00+00:00        1815  HNL    1440.0\n",
      "388174 2014-03-07 21:15:00+00:00         715    GUM 2014-03-09 04:15:00+00:00        1815  HNL    1440.0\n",
      "389547 2014-03-05 21:15:00+00:00         715    GUM 2014-03-07 04:15:00+00:00        1815  HNL    1440.0\n",
      "390368 2014-03-03 21:15:00+00:00         715    GUM 2014-03-05 04:15:00+00:00        1815  HNL    1440.0\n",
      "394414 2014-03-02 21:15:00+00:00         715    GUM 2014-03-04 04:15:00+00:00        1815  HNL    1440.0\n",
      "395160 2014-02-28 21:15:00+00:00         715    GUM 2014-03-02 04:15:00+00:00        1815  HNL    1440.0\n",
      "406755 2014-03-01 21:15:00+00:00         715    GUM 2014-03-03 04:15:00+00:00        1815  HNL    1440.0\n",
      "427024 2014-03-28 20:40:00+00:00         640    GUM 2014-03-30 03:40:00+00:00        1740  HNL    1440.0\n",
      "468927 2014-03-04 21:15:00+00:00         715    GUM 2014-03-06 04:15:00+00:00        1815  HNL    1440.0\n"
     ]
    }
   ],
   "source": [
    "error_plus_1440 = flights[flights['diff_CRS'] == 1440]\n",
    "print(len(error_plus_1440))\n",
    "print(error_plus_1440[['CRSDep_UTC', 'CRSDepTime', 'Origin', 'CRSArr_UTC', 'CRSArrTime', 'Dest', 'diff_CRS']])\n",
    "\n",
    "del(error_plus_1440)"
   ]
  },
  {
   "cell_type": "markdown",
   "metadata": {},
   "source": [
    "All these flight are back flights from GUM to HLN across Internation Date Line (IDL). The ramedy is simillar - to subtract 24 x 60 (1440) minutes from UTC elapsed time. \n",
    "\n",
    "There is just one flight with unexamined yet difference. "
   ]
  },
  {
   "cell_type": "code",
   "execution_count": 106,
   "metadata": {},
   "outputs": [
    {
     "name": "stdout",
     "output_type": "stream",
     "text": [
      "1 records\n",
      "                                                    253577\n",
      "Flight_Number_Reporting_Airline                        317\n",
      "CRSDep_UTC                       2014-03-30 14:05:00+00:00\n",
      "CRSDepTime                                             805\n",
      "Origin                                                 DEN\n",
      "CRSArr_UTC                       2014-03-30 16:14:00+00:00\n",
      "CRSArrTime                                             914\n",
      "Dest                                                   PSP\n",
      "CRSElapsedTime                                       165.0\n",
      "UTCElapsedTime_CRS                                   129.0\n",
      "ActualElapsedTime                                      NaN\n",
      "diff_CRS                                             -36.0\n",
      "Cancelled                                            False\n",
      "Diverted                                              True\n"
     ]
    }
   ],
   "source": [
    "error_minus_36 = flights[flights['diff_CRS'] == -36]\n",
    "print(len(error_minus_36), 'records')\n",
    "print(error_minus_36[['Flight_Number_Reporting_Airline', 'CRSDep_UTC', 'CRSDepTime', 'Origin', 'CRSArr_UTC', \n",
    "               'CRSArrTime', 'Dest', 'CRSElapsedTime', 'UTCElapsedTime_CRS', \n",
    "               'ActualElapsedTime', 'diff_CRS', 'Cancelled', 'Diverted']].T)\n",
    "\n",
    "del(error_minus_36)"
   ]
  },
  {
   "cell_type": "code",
   "execution_count": 107,
   "metadata": {},
   "outputs": [
    {
     "data": {
      "text/html": [
       "<div>\n",
       "<style scoped>\n",
       "    .dataframe tbody tr th:only-of-type {\n",
       "        vertical-align: middle;\n",
       "    }\n",
       "\n",
       "    .dataframe tbody tr th {\n",
       "        vertical-align: top;\n",
       "    }\n",
       "\n",
       "    .dataframe thead th {\n",
       "        text-align: right;\n",
       "    }\n",
       "</style>\n",
       "<table border=\"1\" class=\"dataframe\">\n",
       "  <thead>\n",
       "    <tr style=\"text-align: right;\">\n",
       "      <th></th>\n",
       "      <th>CRSElapsedTime</th>\n",
       "      <th>UTCElapsedTime_CRS</th>\n",
       "      <th>diff_CRS</th>\n",
       "    </tr>\n",
       "  </thead>\n",
       "  <tbody>\n",
       "    <tr>\n",
       "      <th>246801</th>\n",
       "      <td>129.0</td>\n",
       "      <td>129.0</td>\n",
       "      <td>0.0</td>\n",
       "    </tr>\n",
       "    <tr>\n",
       "      <th>247742</th>\n",
       "      <td>129.0</td>\n",
       "      <td>129.0</td>\n",
       "      <td>0.0</td>\n",
       "    </tr>\n",
       "    <tr>\n",
       "      <th>247840</th>\n",
       "      <td>129.0</td>\n",
       "      <td>129.0</td>\n",
       "      <td>0.0</td>\n",
       "    </tr>\n",
       "    <tr>\n",
       "      <th>248214</th>\n",
       "      <td>129.0</td>\n",
       "      <td>129.0</td>\n",
       "      <td>0.0</td>\n",
       "    </tr>\n",
       "    <tr>\n",
       "      <th>248832</th>\n",
       "      <td>129.0</td>\n",
       "      <td>129.0</td>\n",
       "      <td>0.0</td>\n",
       "    </tr>\n",
       "    <tr>\n",
       "      <th>249571</th>\n",
       "      <td>129.0</td>\n",
       "      <td>129.0</td>\n",
       "      <td>0.0</td>\n",
       "    </tr>\n",
       "    <tr>\n",
       "      <th>250063</th>\n",
       "      <td>129.0</td>\n",
       "      <td>129.0</td>\n",
       "      <td>0.0</td>\n",
       "    </tr>\n",
       "    <tr>\n",
       "      <th>250962</th>\n",
       "      <td>129.0</td>\n",
       "      <td>129.0</td>\n",
       "      <td>0.0</td>\n",
       "    </tr>\n",
       "    <tr>\n",
       "      <th>251072</th>\n",
       "      <td>129.0</td>\n",
       "      <td>129.0</td>\n",
       "      <td>0.0</td>\n",
       "    </tr>\n",
       "    <tr>\n",
       "      <th>251378</th>\n",
       "      <td>129.0</td>\n",
       "      <td>129.0</td>\n",
       "      <td>0.0</td>\n",
       "    </tr>\n",
       "    <tr>\n",
       "      <th>251631</th>\n",
       "      <td>129.0</td>\n",
       "      <td>129.0</td>\n",
       "      <td>0.0</td>\n",
       "    </tr>\n",
       "    <tr>\n",
       "      <th>251887</th>\n",
       "      <td>129.0</td>\n",
       "      <td>129.0</td>\n",
       "      <td>0.0</td>\n",
       "    </tr>\n",
       "    <tr>\n",
       "      <th>252038</th>\n",
       "      <td>129.0</td>\n",
       "      <td>129.0</td>\n",
       "      <td>0.0</td>\n",
       "    </tr>\n",
       "    <tr>\n",
       "      <th>252332</th>\n",
       "      <td>129.0</td>\n",
       "      <td>129.0</td>\n",
       "      <td>0.0</td>\n",
       "    </tr>\n",
       "    <tr>\n",
       "      <th>252629</th>\n",
       "      <td>129.0</td>\n",
       "      <td>129.0</td>\n",
       "      <td>0.0</td>\n",
       "    </tr>\n",
       "    <tr>\n",
       "      <th>253505</th>\n",
       "      <td>129.0</td>\n",
       "      <td>129.0</td>\n",
       "      <td>0.0</td>\n",
       "    </tr>\n",
       "    <tr>\n",
       "      <th>253577</th>\n",
       "      <td>165.0</td>\n",
       "      <td>129.0</td>\n",
       "      <td>-36.0</td>\n",
       "    </tr>\n",
       "    <tr>\n",
       "      <th>253825</th>\n",
       "      <td>129.0</td>\n",
       "      <td>129.0</td>\n",
       "      <td>0.0</td>\n",
       "    </tr>\n",
       "    <tr>\n",
       "      <th>255049</th>\n",
       "      <td>129.0</td>\n",
       "      <td>129.0</td>\n",
       "      <td>0.0</td>\n",
       "    </tr>\n",
       "    <tr>\n",
       "      <th>330845</th>\n",
       "      <td>131.0</td>\n",
       "      <td>131.0</td>\n",
       "      <td>0.0</td>\n",
       "    </tr>\n",
       "  </tbody>\n",
       "</table>\n",
       "</div>"
      ],
      "text/plain": [
       "        CRSElapsedTime  UTCElapsedTime_CRS  diff_CRS\n",
       "246801           129.0               129.0       0.0\n",
       "247742           129.0               129.0       0.0\n",
       "247840           129.0               129.0       0.0\n",
       "248214           129.0               129.0       0.0\n",
       "248832           129.0               129.0       0.0\n",
       "249571           129.0               129.0       0.0\n",
       "250063           129.0               129.0       0.0\n",
       "250962           129.0               129.0       0.0\n",
       "251072           129.0               129.0       0.0\n",
       "251378           129.0               129.0       0.0\n",
       "251631           129.0               129.0       0.0\n",
       "251887           129.0               129.0       0.0\n",
       "252038           129.0               129.0       0.0\n",
       "252332           129.0               129.0       0.0\n",
       "252629           129.0               129.0       0.0\n",
       "253505           129.0               129.0       0.0\n",
       "253577           165.0               129.0     -36.0\n",
       "253825           129.0               129.0       0.0\n",
       "255049           129.0               129.0       0.0\n",
       "330845           131.0               131.0       0.0"
      ]
     },
     "execution_count": 107,
     "metadata": {},
     "output_type": "execute_result"
    }
   ],
   "source": [
    "flights[(flights['Flight_Number_Reporting_Airline'] == 317) &\n",
    "        (flights['Origin'] == 'DEN') &\n",
    "        (flights['Dest'] == 'PSP')] [['CRSElapsedTime', 'UTCElapsedTime_CRS', 'diff_CRS']]"
   ]
  },
  {
   "cell_type": "markdown",
   "metadata": {},
   "source": [
    "In this case we see that CRS Elapsed time is:\n",
    "1. also inconsistent with CRS Departure and CRS Arrival times\n",
    "2. all other flights for this route have the equal CRS and UTC elapsed times which is 129 minutes  \n",
    "\n",
    "So this can be an error"
   ]
  },
  {
   "cell_type": "markdown",
   "metadata": {},
   "source": [
    "### Checking ACTUAL time"
   ]
  },
  {
   "cell_type": "code",
   "execution_count": 108,
   "metadata": {},
   "outputs": [
    {
     "data": {
      "text/plain": [
       "diff_Act\n",
       " 0.0       492965\n",
       "-1440.0        30\n",
       " 1440.0        30\n",
       "-60.0          15\n",
       "-6.0            1\n",
       " 5.0            1\n",
       "-51.0           1\n",
       "Name: count, dtype: int64"
      ]
     },
     "execution_count": 108,
     "metadata": {},
     "output_type": "execute_result"
    }
   ],
   "source": [
    "flights['diff_Act'].value_counts()"
   ]
  },
  {
   "cell_type": "markdown",
   "metadata": {},
   "source": [
    "It appears that the actual elapsed time shows the same differences as the scheduled elapsed time between the two types of flight duration: one calculated using UTC arrival and departure times, and the other based on the ActualElapsedTime provided in the dataset. Let’s take a closer look.\n",
    "\n",
    "The total number of discrepancies is 78, with the following breakdown:\n",
    "*\t+/-1440 minutes: 60 records, likely related to flights crossing the International Date Line (IDL) from HNL to GUM and back.\n",
    "*\t-60 minutes: 15 records, possibly due to flights occurring during the transition to Daylight Saving Time (DST) in the spring.\n",
    "*\tOther: 3 records with small, random differences, which could be attributed to minor errors."
   ]
  },
  {
   "cell_type": "code",
   "execution_count": 109,
   "metadata": {},
   "outputs": [
    {
     "name": "stdout",
     "output_type": "stream",
     "text": [
      "There are: 60 records with differenc +/-1440 min (equal to 24 hours)\n",
      "Which airports are presented among these flights? - GUM HNL\n"
     ]
    }
   ],
   "source": [
    "error_1440 = flights[flights['diff_Act'].isin([1440, -1440])]\n",
    "print('There are:', len(error_1440), 'records with differenc +/-1440 min (equal to 24 hours)')\n",
    "print('Which airports are presented among these flights? -', *set(error_1440['Origin']).union(set(error_1440['Origin'])))\n",
    "\n",
    "del(error_1440)"
   ]
  },
  {
   "cell_type": "markdown",
   "metadata": {},
   "source": [
    "All these flights are again between two airports across IDL. We already know this problem and know how to cue it. "
   ]
  },
  {
   "cell_type": "code",
   "execution_count": 113,
   "metadata": {},
   "outputs": [],
   "source": [
    "# Let's check the flights with difference between actual and UTC-based actual duration equal to -60 minutes\n",
    "fields_to_check = ['Flight_Number_Reporting_Airline', 'ActDepDT', 'ActArrDT',\n",
    "                   'Origin', 'Dest', 'ActualElapsedTime', 'UTCElapsedTime_Act']\n",
    "error_60 = flights[flights['diff_Act'] == -60][fields_to_check]"
   ]
  },
  {
   "cell_type": "code",
   "execution_count": 114,
   "metadata": {},
   "outputs": [
    {
     "name": "stdout",
     "output_type": "stream",
     "text": [
      "        Flight_Number_Reporting_Airline            ActDepDT            ActArrDT Origin Dest  ActualElapsedTime  UTCElapsedTime_Act\n",
      "86031                               121 2014-03-09 00:10:00 2014-03-09 03:39:00    SEA  ANC              269.0               209.0\n",
      "86033                               125 2014-03-08 23:03:00 2014-03-09 01:38:00    SEA  FAI              275.0               215.0\n",
      "86262                               816 2014-03-08 23:15:00 2014-03-09 07:28:00    LIH  SEA              373.0               313.0\n",
      "86265                               822 2014-03-08 23:50:00 2014-03-09 07:42:00    OGG  PDX              352.0               292.0\n",
      "86289                               864 2014-03-08 21:06:00 2014-03-09 05:21:00    HNL  SEA              375.0               315.0\n",
      "86293                               871 2014-03-08 22:22:00 2014-03-09 06:51:00    HNL  ANC              449.0               389.0\n",
      "86296                               878 2014-03-08 21:56:00 2014-03-09 06:05:00    OGG  SEA              369.0               309.0\n",
      "86303                               898 2014-03-08 23:46:00 2014-03-09 08:07:00    HNL  BLI              381.0               321.0\n",
      "86307                               910 2014-03-08 21:00:00 2014-03-09 06:02:00    SEA  MCO              362.0               302.0\n",
      "86312                               938 2014-03-08 22:01:00 2014-03-09 08:07:00    ANC  ORD              426.0               366.0\n",
      "86404                               108 2014-03-09 00:32:00 2014-03-09 05:39:00    ANC  SEA              247.0               187.0\n",
      "86409                               122 2014-03-09 00:32:00 2014-03-09 06:00:00    ANC  PDX              268.0               208.0\n",
      "387047                             1200 2014-03-08 21:12:00 2014-03-09 05:00:00    OGG  LAX              348.0               288.0\n",
      "463068                             1012 2014-03-09 00:10:00 2014-03-09 04:12:00    FLL  BUF              242.0               182.0\n",
      "464699                             3491 2014-03-08 21:21:00 2014-03-09 03:38:00    LAS  STL              257.0               197.0\n",
      "There are 15 flights with -60 minutes difference\n"
     ]
    }
   ],
   "source": [
    "# Converting datetimes naive to tz-aware datetimes\n",
    "error_60['ActDepDT_tz'] = add_local_tz(error_60, 'ActDepDT', 'Origin')\n",
    "error_60['ActArrDT_tz'] = add_local_tz(error_60, 'ActArrDT', 'Dest')\n",
    "\n",
    "print(error_60[fields_to_check])\n",
    "print('There are', len(error_60), 'flights with -60 minutes difference')"
   ]
  },
  {
   "cell_type": "markdown",
   "metadata": {},
   "source": [
    "All these flights departured before the transition to DST and arrived after it (except one flight 125 from SEA to FAI). This is the reason they have a wrong ActualElapsedTime. It's worth to mention that theirs arrival time is correct because UTC-based durations have correct values (UTC-based duration is calculated based on departure and arrival times).\n"
   ]
  },
  {
   "cell_type": "code",
   "execution_count": 115,
   "metadata": {},
   "outputs": [
    {
     "data": {
      "text/html": [
       "<div>\n",
       "<style scoped>\n",
       "    .dataframe tbody tr th:only-of-type {\n",
       "        vertical-align: middle;\n",
       "    }\n",
       "\n",
       "    .dataframe tbody tr th {\n",
       "        vertical-align: top;\n",
       "    }\n",
       "\n",
       "    .dataframe thead th {\n",
       "        text-align: right;\n",
       "    }\n",
       "</style>\n",
       "<table border=\"1\" class=\"dataframe\">\n",
       "  <thead>\n",
       "    <tr style=\"text-align: right;\">\n",
       "      <th></th>\n",
       "      <th>Flight_Number_Reporting_Airline</th>\n",
       "      <th>ActDepDT</th>\n",
       "      <th>ActArrDT</th>\n",
       "      <th>Origin</th>\n",
       "      <th>Dest</th>\n",
       "      <th>ActualElapsedTime</th>\n",
       "      <th>UTCElapsedTime_Act</th>\n",
       "      <th>diff_CRS</th>\n",
       "    </tr>\n",
       "  </thead>\n",
       "  <tbody>\n",
       "    <tr>\n",
       "      <th>84672</th>\n",
       "      <td>125</td>\n",
       "      <td>2014-03-06 22:57:00</td>\n",
       "      <td>2014-03-07 01:34:00</td>\n",
       "      <td>SEA</td>\n",
       "      <td>FAI</td>\n",
       "      <td>217.0</td>\n",
       "      <td>217.0</td>\n",
       "      <td>0.0</td>\n",
       "    </tr>\n",
       "    <tr>\n",
       "      <th>85230</th>\n",
       "      <td>125</td>\n",
       "      <td>2014-03-01 23:05:00</td>\n",
       "      <td>2014-03-02 01:50:00</td>\n",
       "      <td>SEA</td>\n",
       "      <td>FAI</td>\n",
       "      <td>225.0</td>\n",
       "      <td>225.0</td>\n",
       "      <td>0.0</td>\n",
       "    </tr>\n",
       "    <tr>\n",
       "      <th>85624</th>\n",
       "      <td>125</td>\n",
       "      <td>2014-03-02 23:04:00</td>\n",
       "      <td>2014-03-03 01:36:00</td>\n",
       "      <td>SEA</td>\n",
       "      <td>FAI</td>\n",
       "      <td>212.0</td>\n",
       "      <td>212.0</td>\n",
       "      <td>0.0</td>\n",
       "    </tr>\n",
       "    <tr>\n",
       "      <th>86033</th>\n",
       "      <td>125</td>\n",
       "      <td>2014-03-08 23:03:00</td>\n",
       "      <td>2014-03-09 01:38:00</td>\n",
       "      <td>SEA</td>\n",
       "      <td>FAI</td>\n",
       "      <td>275.0</td>\n",
       "      <td>215.0</td>\n",
       "      <td>-60.0</td>\n",
       "    </tr>\n",
       "    <tr>\n",
       "      <th>88127</th>\n",
       "      <td>125</td>\n",
       "      <td>2014-03-03 23:05:00</td>\n",
       "      <td>2014-03-04 01:42:00</td>\n",
       "      <td>SEA</td>\n",
       "      <td>FAI</td>\n",
       "      <td>217.0</td>\n",
       "      <td>217.0</td>\n",
       "      <td>0.0</td>\n",
       "    </tr>\n",
       "    <tr>\n",
       "      <th>88533</th>\n",
       "      <td>125</td>\n",
       "      <td>2014-03-04 22:56:00</td>\n",
       "      <td>2014-03-05 01:38:00</td>\n",
       "      <td>SEA</td>\n",
       "      <td>FAI</td>\n",
       "      <td>222.0</td>\n",
       "      <td>222.0</td>\n",
       "      <td>0.0</td>\n",
       "    </tr>\n",
       "    <tr>\n",
       "      <th>88915</th>\n",
       "      <td>125</td>\n",
       "      <td>2014-03-05 23:10:00</td>\n",
       "      <td>2014-03-06 01:55:00</td>\n",
       "      <td>SEA</td>\n",
       "      <td>FAI</td>\n",
       "      <td>225.0</td>\n",
       "      <td>225.0</td>\n",
       "      <td>0.0</td>\n",
       "    </tr>\n",
       "    <tr>\n",
       "      <th>96547</th>\n",
       "      <td>125</td>\n",
       "      <td>2014-03-07 23:04:00</td>\n",
       "      <td>2014-03-08 01:29:00</td>\n",
       "      <td>SEA</td>\n",
       "      <td>FAI</td>\n",
       "      <td>205.0</td>\n",
       "      <td>205.0</td>\n",
       "      <td>0.0</td>\n",
       "    </tr>\n",
       "  </tbody>\n",
       "</table>\n",
       "</div>"
      ],
      "text/plain": [
       "       Flight_Number_Reporting_Airline            ActDepDT            ActArrDT Origin Dest  ActualElapsedTime  UTCElapsedTime_Act  diff_CRS\n",
       "84672                              125 2014-03-06 22:57:00 2014-03-07 01:34:00    SEA  FAI              217.0               217.0       0.0\n",
       "85230                              125 2014-03-01 23:05:00 2014-03-02 01:50:00    SEA  FAI              225.0               225.0       0.0\n",
       "85624                              125 2014-03-02 23:04:00 2014-03-03 01:36:00    SEA  FAI              212.0               212.0       0.0\n",
       "86033                              125 2014-03-08 23:03:00 2014-03-09 01:38:00    SEA  FAI              275.0               215.0     -60.0\n",
       "88127                              125 2014-03-03 23:05:00 2014-03-04 01:42:00    SEA  FAI              217.0               217.0       0.0\n",
       "88533                              125 2014-03-04 22:56:00 2014-03-05 01:38:00    SEA  FAI              222.0               222.0       0.0\n",
       "88915                              125 2014-03-05 23:10:00 2014-03-06 01:55:00    SEA  FAI              225.0               225.0       0.0\n",
       "96547                              125 2014-03-07 23:04:00 2014-03-08 01:29:00    SEA  FAI              205.0               205.0       0.0"
      ]
     },
     "execution_count": 115,
     "metadata": {},
     "output_type": "execute_result"
    }
   ],
   "source": [
    "flights[(flights['Flight_Number_Reporting_Airline'] == 125) &\n",
    "         (flights['Origin'] == 'SEA') &\n",
    "         (flights['Dest'] == 'FAI')] [['Flight_Number_Reporting_Airline', \n",
    "                                       'ActDepDT', 'ActArrDT', \n",
    "                                       'Origin', 'Dest', \n",
    "                                       'ActualElapsedTime', 'UTCElapsedTime_Act', 'diff_CRS']]"
   ]
  },
  {
   "cell_type": "markdown",
   "metadata": {},
   "source": [
    "The flight 125 from SEA to FAI has the wrong Actual Elapsed time only on March 9th 2014. On all other days the actual elapsed times are equil to UTC-based actual elapsed time. "
   ]
  },
  {
   "cell_type": "markdown",
   "metadata": {},
   "source": [
    "Let's analyse remaining flights with differencies"
   ]
  },
  {
   "cell_type": "code",
   "execution_count": 116,
   "metadata": {},
   "outputs": [
    {
     "name": "stdout",
     "output_type": "stream",
     "text": [
      "3\n"
     ]
    },
    {
     "data": {
      "text/html": [
       "<div>\n",
       "<style scoped>\n",
       "    .dataframe tbody tr th:only-of-type {\n",
       "        vertical-align: middle;\n",
       "    }\n",
       "\n",
       "    .dataframe tbody tr th {\n",
       "        vertical-align: top;\n",
       "    }\n",
       "\n",
       "    .dataframe thead th {\n",
       "        text-align: right;\n",
       "    }\n",
       "</style>\n",
       "<table border=\"1\" class=\"dataframe\">\n",
       "  <thead>\n",
       "    <tr style=\"text-align: right;\">\n",
       "      <th></th>\n",
       "      <th>86022</th>\n",
       "      <th>86023</th>\n",
       "      <th>233975</th>\n",
       "    </tr>\n",
       "  </thead>\n",
       "  <tbody>\n",
       "    <tr>\n",
       "      <th>Flight_Number_Reporting_Airline</th>\n",
       "      <td>103</td>\n",
       "      <td>106</td>\n",
       "      <td>5702</td>\n",
       "    </tr>\n",
       "    <tr>\n",
       "      <th>ActDepDT</th>\n",
       "      <td>2014-03-08 23:47:00</td>\n",
       "      <td>2014-03-08 21:33:00</td>\n",
       "      <td>2014-03-09 00:20:00</td>\n",
       "    </tr>\n",
       "    <tr>\n",
       "      <th>ActArrDT</th>\n",
       "      <td>2014-03-09 02:06:00</td>\n",
       "      <td>2014-03-09 02:55:00</td>\n",
       "      <td>2014-03-09 02:51:00</td>\n",
       "    </tr>\n",
       "    <tr>\n",
       "      <th>Origin</th>\n",
       "      <td>SEA</td>\n",
       "      <td>ANC</td>\n",
       "      <td>ORD</td>\n",
       "    </tr>\n",
       "    <tr>\n",
       "      <th>Dest</th>\n",
       "      <td>ANC</td>\n",
       "      <td>SEA</td>\n",
       "      <td>CAE</td>\n",
       "    </tr>\n",
       "    <tr>\n",
       "      <th>ActDep_UTC</th>\n",
       "      <td>2014-03-09 07:47:00+00:00</td>\n",
       "      <td>2014-03-09 06:33:00+00:00</td>\n",
       "      <td>2014-03-09 06:20:00+00:00</td>\n",
       "    </tr>\n",
       "    <tr>\n",
       "      <th>ActArr_UTC</th>\n",
       "      <td>2014-03-09 12:00:00+00:00</td>\n",
       "      <td>2014-03-09 10:00:00+00:00</td>\n",
       "      <td>2014-03-09 07:00:00+00:00</td>\n",
       "    </tr>\n",
       "    <tr>\n",
       "      <th>diff_Act</th>\n",
       "      <td>-6.0</td>\n",
       "      <td>5.0</td>\n",
       "      <td>-51.0</td>\n",
       "    </tr>\n",
       "    <tr>\n",
       "      <th>ActualElapsedTime</th>\n",
       "      <td>259.0</td>\n",
       "      <td>202.0</td>\n",
       "      <td>91.0</td>\n",
       "    </tr>\n",
       "    <tr>\n",
       "      <th>UTCElapsedTime_Act</th>\n",
       "      <td>253.0</td>\n",
       "      <td>207.0</td>\n",
       "      <td>40.0</td>\n",
       "    </tr>\n",
       "  </tbody>\n",
       "</table>\n",
       "</div>"
      ],
      "text/plain": [
       "                                                    86022                      86023                      233975\n",
       "Flight_Number_Reporting_Airline                        103                        106                       5702\n",
       "ActDepDT                               2014-03-08 23:47:00        2014-03-08 21:33:00        2014-03-09 00:20:00\n",
       "ActArrDT                               2014-03-09 02:06:00        2014-03-09 02:55:00        2014-03-09 02:51:00\n",
       "Origin                                                 SEA                        ANC                        ORD\n",
       "Dest                                                   ANC                        SEA                        CAE\n",
       "ActDep_UTC                       2014-03-09 07:47:00+00:00  2014-03-09 06:33:00+00:00  2014-03-09 06:20:00+00:00\n",
       "ActArr_UTC                       2014-03-09 12:00:00+00:00  2014-03-09 10:00:00+00:00  2014-03-09 07:00:00+00:00\n",
       "diff_Act                                              -6.0                        5.0                      -51.0\n",
       "ActualElapsedTime                                    259.0                      202.0                       91.0\n",
       "UTCElapsedTime_Act                                   253.0                      207.0                       40.0"
      ]
     },
     "execution_count": 116,
     "metadata": {},
     "output_type": "execute_result"
    }
   ],
   "source": [
    "fields_to_check = ['Flight_Number_Reporting_Airline',\n",
    "       'ActDepDT', \n",
    "       'ActArrDT',\n",
    "       'Origin', \n",
    "       'Dest', \n",
    "       'ActDep_UTC',\n",
    "       'ActArr_UTC',\n",
    "       'diff_Act', \n",
    "       'ActualElapsedTime', \n",
    "       'UTCElapsedTime_Act']\n",
    "other = flights[(flights['diff_Act'] > -60) & (flights['diff_Act'] < 10) & (flights['diff_Act'] != 0)]\n",
    "print(len(other))\n",
    "other[fields_to_check].T"
   ]
  },
  {
   "cell_type": "markdown",
   "metadata": {},
   "source": [
    "First of all, we notice that all these differences appear again on the spring DST start date.\n",
    "Secondly, it looks like the first two flights have minor errors that we can disregard, and we can use UTC elapsed time instead of Actual elapsed time. However, the third flight has a significant difference. Let’s examine it in more detail."
   ]
  },
  {
   "cell_type": "code",
   "execution_count": 117,
   "metadata": {},
   "outputs": [
    {
     "data": {
      "text/html": [
       "<div>\n",
       "<style scoped>\n",
       "    .dataframe tbody tr th:only-of-type {\n",
       "        vertical-align: middle;\n",
       "    }\n",
       "\n",
       "    .dataframe tbody tr th {\n",
       "        vertical-align: top;\n",
       "    }\n",
       "\n",
       "    .dataframe thead th {\n",
       "        text-align: right;\n",
       "    }\n",
       "</style>\n",
       "<table border=\"1\" class=\"dataframe\">\n",
       "  <thead>\n",
       "    <tr style=\"text-align: right;\">\n",
       "      <th></th>\n",
       "      <th>Flight_Number_Reporting_Airline</th>\n",
       "      <th>ActDepDT</th>\n",
       "      <th>ActArrDT</th>\n",
       "      <th>Origin</th>\n",
       "      <th>Dest</th>\n",
       "      <th>ActDep_UTC</th>\n",
       "      <th>ActArr_UTC</th>\n",
       "      <th>diff_Act</th>\n",
       "      <th>ActualElapsedTime</th>\n",
       "      <th>UTCElapsedTime_Act</th>\n",
       "    </tr>\n",
       "  </thead>\n",
       "  <tbody>\n",
       "    <tr>\n",
       "      <th>233969</th>\n",
       "      <td>5702</td>\n",
       "      <td>NaT</td>\n",
       "      <td>NaT</td>\n",
       "      <td>ORD</td>\n",
       "      <td>CAE</td>\n",
       "      <td>NaT</td>\n",
       "      <td>NaT</td>\n",
       "      <td>NaN</td>\n",
       "      <td>NaN</td>\n",
       "      <td>NaN</td>\n",
       "    </tr>\n",
       "    <tr>\n",
       "      <th>233970</th>\n",
       "      <td>5702</td>\n",
       "      <td>NaT</td>\n",
       "      <td>NaT</td>\n",
       "      <td>ORD</td>\n",
       "      <td>CAE</td>\n",
       "      <td>NaT</td>\n",
       "      <td>NaT</td>\n",
       "      <td>NaN</td>\n",
       "      <td>NaN</td>\n",
       "      <td>NaN</td>\n",
       "    </tr>\n",
       "    <tr>\n",
       "      <th>233971</th>\n",
       "      <td>5702</td>\n",
       "      <td>2014-03-01 21:45:00</td>\n",
       "      <td>2014-03-02 00:25:00</td>\n",
       "      <td>ORD</td>\n",
       "      <td>CAE</td>\n",
       "      <td>2014-03-02 03:45:00+00:00</td>\n",
       "      <td>2014-03-02 05:25:00+00:00</td>\n",
       "      <td>0.0</td>\n",
       "      <td>100.0</td>\n",
       "      <td>100.0</td>\n",
       "    </tr>\n",
       "    <tr>\n",
       "      <th>233972</th>\n",
       "      <td>5702</td>\n",
       "      <td>2014-03-04 20:47:00</td>\n",
       "      <td>2014-03-04 23:40:00</td>\n",
       "      <td>ORD</td>\n",
       "      <td>CAE</td>\n",
       "      <td>2014-03-05 02:47:00+00:00</td>\n",
       "      <td>2014-03-05 04:40:00+00:00</td>\n",
       "      <td>0.0</td>\n",
       "      <td>113.0</td>\n",
       "      <td>113.0</td>\n",
       "    </tr>\n",
       "    <tr>\n",
       "      <th>233973</th>\n",
       "      <td>5702</td>\n",
       "      <td>2014-03-02 18:22:00</td>\n",
       "      <td>2014-03-02 21:09:00</td>\n",
       "      <td>ORD</td>\n",
       "      <td>CAE</td>\n",
       "      <td>2014-03-03 00:22:00+00:00</td>\n",
       "      <td>2014-03-03 02:09:00+00:00</td>\n",
       "      <td>0.0</td>\n",
       "      <td>107.0</td>\n",
       "      <td>107.0</td>\n",
       "    </tr>\n",
       "    <tr>\n",
       "      <th>233974</th>\n",
       "      <td>5702</td>\n",
       "      <td>2014-03-06 21:53:00</td>\n",
       "      <td>2014-03-07 00:54:00</td>\n",
       "      <td>ORD</td>\n",
       "      <td>CAE</td>\n",
       "      <td>2014-03-07 03:53:00+00:00</td>\n",
       "      <td>2014-03-07 05:54:00+00:00</td>\n",
       "      <td>0.0</td>\n",
       "      <td>121.0</td>\n",
       "      <td>121.0</td>\n",
       "    </tr>\n",
       "    <tr>\n",
       "      <th>233975</th>\n",
       "      <td>5702</td>\n",
       "      <td>2014-03-09 00:20:00</td>\n",
       "      <td>2014-03-09 02:51:00</td>\n",
       "      <td>ORD</td>\n",
       "      <td>CAE</td>\n",
       "      <td>2014-03-09 06:20:00+00:00</td>\n",
       "      <td>2014-03-09 07:00:00+00:00</td>\n",
       "      <td>-51.0</td>\n",
       "      <td>91.0</td>\n",
       "      <td>40.0</td>\n",
       "    </tr>\n",
       "    <tr>\n",
       "      <th>233976</th>\n",
       "      <td>5702</td>\n",
       "      <td>2014-03-07 18:08:00</td>\n",
       "      <td>2014-03-07 20:52:00</td>\n",
       "      <td>ORD</td>\n",
       "      <td>CAE</td>\n",
       "      <td>2014-03-08 00:08:00+00:00</td>\n",
       "      <td>2014-03-08 01:52:00+00:00</td>\n",
       "      <td>0.0</td>\n",
       "      <td>104.0</td>\n",
       "      <td>104.0</td>\n",
       "    </tr>\n",
       "    <tr>\n",
       "      <th>233977</th>\n",
       "      <td>5702</td>\n",
       "      <td>2014-03-15 19:36:00</td>\n",
       "      <td>2014-03-15 22:20:00</td>\n",
       "      <td>ORD</td>\n",
       "      <td>CAE</td>\n",
       "      <td>2014-03-16 00:36:00+00:00</td>\n",
       "      <td>2014-03-16 02:20:00+00:00</td>\n",
       "      <td>0.0</td>\n",
       "      <td>104.0</td>\n",
       "      <td>104.0</td>\n",
       "    </tr>\n",
       "    <tr>\n",
       "      <th>233978</th>\n",
       "      <td>5702</td>\n",
       "      <td>2014-03-13 18:37:00</td>\n",
       "      <td>2014-03-13 21:12:00</td>\n",
       "      <td>ORD</td>\n",
       "      <td>CAE</td>\n",
       "      <td>2014-03-13 23:37:00+00:00</td>\n",
       "      <td>2014-03-14 01:12:00+00:00</td>\n",
       "      <td>0.0</td>\n",
       "      <td>95.0</td>\n",
       "      <td>95.0</td>\n",
       "    </tr>\n",
       "    <tr>\n",
       "      <th>233979</th>\n",
       "      <td>5702</td>\n",
       "      <td>2014-03-14 18:07:00</td>\n",
       "      <td>2014-03-14 20:50:00</td>\n",
       "      <td>ORD</td>\n",
       "      <td>CAE</td>\n",
       "      <td>2014-03-14 23:07:00+00:00</td>\n",
       "      <td>2014-03-15 00:50:00+00:00</td>\n",
       "      <td>0.0</td>\n",
       "      <td>103.0</td>\n",
       "      <td>103.0</td>\n",
       "    </tr>\n",
       "    <tr>\n",
       "      <th>233980</th>\n",
       "      <td>5702</td>\n",
       "      <td>2014-03-11 18:08:00</td>\n",
       "      <td>2014-03-11 20:53:00</td>\n",
       "      <td>ORD</td>\n",
       "      <td>CAE</td>\n",
       "      <td>2014-03-11 23:08:00+00:00</td>\n",
       "      <td>2014-03-12 00:53:00+00:00</td>\n",
       "      <td>0.0</td>\n",
       "      <td>105.0</td>\n",
       "      <td>105.0</td>\n",
       "    </tr>\n",
       "    <tr>\n",
       "      <th>233981</th>\n",
       "      <td>5702</td>\n",
       "      <td>2014-03-17 18:45:00</td>\n",
       "      <td>2014-03-17 21:38:00</td>\n",
       "      <td>ORD</td>\n",
       "      <td>CAE</td>\n",
       "      <td>2014-03-17 23:45:00+00:00</td>\n",
       "      <td>2014-03-18 01:38:00+00:00</td>\n",
       "      <td>0.0</td>\n",
       "      <td>113.0</td>\n",
       "      <td>113.0</td>\n",
       "    </tr>\n",
       "    <tr>\n",
       "      <th>233982</th>\n",
       "      <td>5702</td>\n",
       "      <td>2014-03-23 18:06:00</td>\n",
       "      <td>2014-03-23 20:40:00</td>\n",
       "      <td>ORD</td>\n",
       "      <td>CAE</td>\n",
       "      <td>2014-03-23 23:06:00+00:00</td>\n",
       "      <td>2014-03-24 00:40:00+00:00</td>\n",
       "      <td>0.0</td>\n",
       "      <td>94.0</td>\n",
       "      <td>94.0</td>\n",
       "    </tr>\n",
       "    <tr>\n",
       "      <th>233983</th>\n",
       "      <td>5702</td>\n",
       "      <td>2014-03-22 20:53:00</td>\n",
       "      <td>2014-03-22 23:34:00</td>\n",
       "      <td>ORD</td>\n",
       "      <td>CAE</td>\n",
       "      <td>2014-03-23 01:53:00+00:00</td>\n",
       "      <td>2014-03-23 03:34:00+00:00</td>\n",
       "      <td>0.0</td>\n",
       "      <td>101.0</td>\n",
       "      <td>101.0</td>\n",
       "    </tr>\n",
       "    <tr>\n",
       "      <th>233984</th>\n",
       "      <td>5702</td>\n",
       "      <td>2014-03-25 18:17:00</td>\n",
       "      <td>2014-03-25 20:59:00</td>\n",
       "      <td>ORD</td>\n",
       "      <td>CAE</td>\n",
       "      <td>2014-03-25 23:17:00+00:00</td>\n",
       "      <td>2014-03-26 00:59:00+00:00</td>\n",
       "      <td>0.0</td>\n",
       "      <td>102.0</td>\n",
       "      <td>102.0</td>\n",
       "    </tr>\n",
       "    <tr>\n",
       "      <th>233985</th>\n",
       "      <td>5702</td>\n",
       "      <td>2014-03-19 19:37:00</td>\n",
       "      <td>2014-03-19 22:17:00</td>\n",
       "      <td>ORD</td>\n",
       "      <td>CAE</td>\n",
       "      <td>2014-03-20 00:37:00+00:00</td>\n",
       "      <td>2014-03-20 02:17:00+00:00</td>\n",
       "      <td>0.0</td>\n",
       "      <td>100.0</td>\n",
       "      <td>100.0</td>\n",
       "    </tr>\n",
       "    <tr>\n",
       "      <th>233986</th>\n",
       "      <td>5702</td>\n",
       "      <td>2014-03-31 18:18:00</td>\n",
       "      <td>2014-03-31 21:06:00</td>\n",
       "      <td>ORD</td>\n",
       "      <td>CAE</td>\n",
       "      <td>2014-03-31 23:18:00+00:00</td>\n",
       "      <td>2014-04-01 01:06:00+00:00</td>\n",
       "      <td>0.0</td>\n",
       "      <td>108.0</td>\n",
       "      <td>108.0</td>\n",
       "    </tr>\n",
       "    <tr>\n",
       "      <th>233987</th>\n",
       "      <td>5702</td>\n",
       "      <td>2014-03-12 18:48:00</td>\n",
       "      <td>2014-03-12 21:33:00</td>\n",
       "      <td>ORD</td>\n",
       "      <td>CAE</td>\n",
       "      <td>2014-03-12 23:48:00+00:00</td>\n",
       "      <td>2014-03-13 01:33:00+00:00</td>\n",
       "      <td>0.0</td>\n",
       "      <td>105.0</td>\n",
       "      <td>105.0</td>\n",
       "    </tr>\n",
       "    <tr>\n",
       "      <th>233988</th>\n",
       "      <td>5702</td>\n",
       "      <td>2014-03-30 18:58:00</td>\n",
       "      <td>2014-03-30 21:35:00</td>\n",
       "      <td>ORD</td>\n",
       "      <td>CAE</td>\n",
       "      <td>2014-03-30 23:58:00+00:00</td>\n",
       "      <td>2014-03-31 01:35:00+00:00</td>\n",
       "      <td>0.0</td>\n",
       "      <td>97.0</td>\n",
       "      <td>97.0</td>\n",
       "    </tr>\n",
       "    <tr>\n",
       "      <th>233989</th>\n",
       "      <td>5702</td>\n",
       "      <td>2014-03-21 18:54:00</td>\n",
       "      <td>2014-03-21 21:32:00</td>\n",
       "      <td>ORD</td>\n",
       "      <td>CAE</td>\n",
       "      <td>2014-03-21 23:54:00+00:00</td>\n",
       "      <td>2014-03-22 01:32:00+00:00</td>\n",
       "      <td>0.0</td>\n",
       "      <td>98.0</td>\n",
       "      <td>98.0</td>\n",
       "    </tr>\n",
       "    <tr>\n",
       "      <th>233990</th>\n",
       "      <td>5702</td>\n",
       "      <td>2014-03-16 18:08:00</td>\n",
       "      <td>2014-03-16 21:03:00</td>\n",
       "      <td>ORD</td>\n",
       "      <td>CAE</td>\n",
       "      <td>2014-03-16 23:08:00+00:00</td>\n",
       "      <td>2014-03-17 01:03:00+00:00</td>\n",
       "      <td>0.0</td>\n",
       "      <td>115.0</td>\n",
       "      <td>115.0</td>\n",
       "    </tr>\n",
       "    <tr>\n",
       "      <th>233991</th>\n",
       "      <td>5702</td>\n",
       "      <td>2014-03-27 18:01:00</td>\n",
       "      <td>2014-03-27 20:54:00</td>\n",
       "      <td>ORD</td>\n",
       "      <td>CAE</td>\n",
       "      <td>2014-03-27 23:01:00+00:00</td>\n",
       "      <td>2014-03-28 00:54:00+00:00</td>\n",
       "      <td>0.0</td>\n",
       "      <td>113.0</td>\n",
       "      <td>113.0</td>\n",
       "    </tr>\n",
       "    <tr>\n",
       "      <th>233992</th>\n",
       "      <td>5702</td>\n",
       "      <td>2014-03-29 20:06:00</td>\n",
       "      <td>2014-03-29 22:54:00</td>\n",
       "      <td>ORD</td>\n",
       "      <td>CAE</td>\n",
       "      <td>2014-03-30 01:06:00+00:00</td>\n",
       "      <td>2014-03-30 02:54:00+00:00</td>\n",
       "      <td>0.0</td>\n",
       "      <td>108.0</td>\n",
       "      <td>108.0</td>\n",
       "    </tr>\n",
       "    <tr>\n",
       "      <th>233993</th>\n",
       "      <td>5702</td>\n",
       "      <td>2014-03-10 18:12:00</td>\n",
       "      <td>2014-03-10 20:57:00</td>\n",
       "      <td>ORD</td>\n",
       "      <td>CAE</td>\n",
       "      <td>2014-03-10 23:12:00+00:00</td>\n",
       "      <td>2014-03-11 00:57:00+00:00</td>\n",
       "      <td>0.0</td>\n",
       "      <td>105.0</td>\n",
       "      <td>105.0</td>\n",
       "    </tr>\n",
       "    <tr>\n",
       "      <th>233994</th>\n",
       "      <td>5702</td>\n",
       "      <td>2014-03-24 18:26:00</td>\n",
       "      <td>2014-03-24 21:04:00</td>\n",
       "      <td>ORD</td>\n",
       "      <td>CAE</td>\n",
       "      <td>2014-03-24 23:26:00+00:00</td>\n",
       "      <td>2014-03-25 01:04:00+00:00</td>\n",
       "      <td>0.0</td>\n",
       "      <td>98.0</td>\n",
       "      <td>98.0</td>\n",
       "    </tr>\n",
       "    <tr>\n",
       "      <th>233995</th>\n",
       "      <td>5702</td>\n",
       "      <td>2014-03-18 18:05:00</td>\n",
       "      <td>2014-03-18 21:20:00</td>\n",
       "      <td>ORD</td>\n",
       "      <td>CAE</td>\n",
       "      <td>2014-03-18 23:05:00+00:00</td>\n",
       "      <td>2014-03-19 01:20:00+00:00</td>\n",
       "      <td>0.0</td>\n",
       "      <td>135.0</td>\n",
       "      <td>135.0</td>\n",
       "    </tr>\n",
       "    <tr>\n",
       "      <th>233996</th>\n",
       "      <td>5702</td>\n",
       "      <td>2014-03-20 18:22:00</td>\n",
       "      <td>2014-03-20 21:04:00</td>\n",
       "      <td>ORD</td>\n",
       "      <td>CAE</td>\n",
       "      <td>2014-03-20 23:22:00+00:00</td>\n",
       "      <td>2014-03-21 01:04:00+00:00</td>\n",
       "      <td>0.0</td>\n",
       "      <td>102.0</td>\n",
       "      <td>102.0</td>\n",
       "    </tr>\n",
       "    <tr>\n",
       "      <th>233997</th>\n",
       "      <td>5702</td>\n",
       "      <td>2014-03-28 19:59:00</td>\n",
       "      <td>2014-03-28 22:52:00</td>\n",
       "      <td>ORD</td>\n",
       "      <td>CAE</td>\n",
       "      <td>2014-03-29 00:59:00+00:00</td>\n",
       "      <td>2014-03-29 02:52:00+00:00</td>\n",
       "      <td>0.0</td>\n",
       "      <td>113.0</td>\n",
       "      <td>113.0</td>\n",
       "    </tr>\n",
       "    <tr>\n",
       "      <th>233998</th>\n",
       "      <td>5702</td>\n",
       "      <td>2014-03-26 19:44:00</td>\n",
       "      <td>2014-03-26 22:30:00</td>\n",
       "      <td>ORD</td>\n",
       "      <td>CAE</td>\n",
       "      <td>2014-03-27 00:44:00+00:00</td>\n",
       "      <td>2014-03-27 02:30:00+00:00</td>\n",
       "      <td>0.0</td>\n",
       "      <td>106.0</td>\n",
       "      <td>106.0</td>\n",
       "    </tr>\n",
       "    <tr>\n",
       "      <th>233999</th>\n",
       "      <td>5702</td>\n",
       "      <td>NaT</td>\n",
       "      <td>NaT</td>\n",
       "      <td>ORD</td>\n",
       "      <td>CAE</td>\n",
       "      <td>NaT</td>\n",
       "      <td>NaT</td>\n",
       "      <td>NaN</td>\n",
       "      <td>NaN</td>\n",
       "      <td>NaN</td>\n",
       "    </tr>\n",
       "  </tbody>\n",
       "</table>\n",
       "</div>"
      ],
      "text/plain": [
       "        Flight_Number_Reporting_Airline            ActDepDT            ActArrDT Origin Dest                ActDep_UTC                ActArr_UTC  diff_Act  ActualElapsedTime  UTCElapsedTime_Act\n",
       "233969                             5702                 NaT                 NaT    ORD  CAE                       NaT                       NaT       NaN                NaN                 NaN\n",
       "233970                             5702                 NaT                 NaT    ORD  CAE                       NaT                       NaT       NaN                NaN                 NaN\n",
       "233971                             5702 2014-03-01 21:45:00 2014-03-02 00:25:00    ORD  CAE 2014-03-02 03:45:00+00:00 2014-03-02 05:25:00+00:00       0.0              100.0               100.0\n",
       "233972                             5702 2014-03-04 20:47:00 2014-03-04 23:40:00    ORD  CAE 2014-03-05 02:47:00+00:00 2014-03-05 04:40:00+00:00       0.0              113.0               113.0\n",
       "233973                             5702 2014-03-02 18:22:00 2014-03-02 21:09:00    ORD  CAE 2014-03-03 00:22:00+00:00 2014-03-03 02:09:00+00:00       0.0              107.0               107.0\n",
       "233974                             5702 2014-03-06 21:53:00 2014-03-07 00:54:00    ORD  CAE 2014-03-07 03:53:00+00:00 2014-03-07 05:54:00+00:00       0.0              121.0               121.0\n",
       "233975                             5702 2014-03-09 00:20:00 2014-03-09 02:51:00    ORD  CAE 2014-03-09 06:20:00+00:00 2014-03-09 07:00:00+00:00     -51.0               91.0                40.0\n",
       "233976                             5702 2014-03-07 18:08:00 2014-03-07 20:52:00    ORD  CAE 2014-03-08 00:08:00+00:00 2014-03-08 01:52:00+00:00       0.0              104.0               104.0\n",
       "233977                             5702 2014-03-15 19:36:00 2014-03-15 22:20:00    ORD  CAE 2014-03-16 00:36:00+00:00 2014-03-16 02:20:00+00:00       0.0              104.0               104.0\n",
       "233978                             5702 2014-03-13 18:37:00 2014-03-13 21:12:00    ORD  CAE 2014-03-13 23:37:00+00:00 2014-03-14 01:12:00+00:00       0.0               95.0                95.0\n",
       "233979                             5702 2014-03-14 18:07:00 2014-03-14 20:50:00    ORD  CAE 2014-03-14 23:07:00+00:00 2014-03-15 00:50:00+00:00       0.0              103.0               103.0\n",
       "233980                             5702 2014-03-11 18:08:00 2014-03-11 20:53:00    ORD  CAE 2014-03-11 23:08:00+00:00 2014-03-12 00:53:00+00:00       0.0              105.0               105.0\n",
       "233981                             5702 2014-03-17 18:45:00 2014-03-17 21:38:00    ORD  CAE 2014-03-17 23:45:00+00:00 2014-03-18 01:38:00+00:00       0.0              113.0               113.0\n",
       "233982                             5702 2014-03-23 18:06:00 2014-03-23 20:40:00    ORD  CAE 2014-03-23 23:06:00+00:00 2014-03-24 00:40:00+00:00       0.0               94.0                94.0\n",
       "233983                             5702 2014-03-22 20:53:00 2014-03-22 23:34:00    ORD  CAE 2014-03-23 01:53:00+00:00 2014-03-23 03:34:00+00:00       0.0              101.0               101.0\n",
       "233984                             5702 2014-03-25 18:17:00 2014-03-25 20:59:00    ORD  CAE 2014-03-25 23:17:00+00:00 2014-03-26 00:59:00+00:00       0.0              102.0               102.0\n",
       "233985                             5702 2014-03-19 19:37:00 2014-03-19 22:17:00    ORD  CAE 2014-03-20 00:37:00+00:00 2014-03-20 02:17:00+00:00       0.0              100.0               100.0\n",
       "233986                             5702 2014-03-31 18:18:00 2014-03-31 21:06:00    ORD  CAE 2014-03-31 23:18:00+00:00 2014-04-01 01:06:00+00:00       0.0              108.0               108.0\n",
       "233987                             5702 2014-03-12 18:48:00 2014-03-12 21:33:00    ORD  CAE 2014-03-12 23:48:00+00:00 2014-03-13 01:33:00+00:00       0.0              105.0               105.0\n",
       "233988                             5702 2014-03-30 18:58:00 2014-03-30 21:35:00    ORD  CAE 2014-03-30 23:58:00+00:00 2014-03-31 01:35:00+00:00       0.0               97.0                97.0\n",
       "233989                             5702 2014-03-21 18:54:00 2014-03-21 21:32:00    ORD  CAE 2014-03-21 23:54:00+00:00 2014-03-22 01:32:00+00:00       0.0               98.0                98.0\n",
       "233990                             5702 2014-03-16 18:08:00 2014-03-16 21:03:00    ORD  CAE 2014-03-16 23:08:00+00:00 2014-03-17 01:03:00+00:00       0.0              115.0               115.0\n",
       "233991                             5702 2014-03-27 18:01:00 2014-03-27 20:54:00    ORD  CAE 2014-03-27 23:01:00+00:00 2014-03-28 00:54:00+00:00       0.0              113.0               113.0\n",
       "233992                             5702 2014-03-29 20:06:00 2014-03-29 22:54:00    ORD  CAE 2014-03-30 01:06:00+00:00 2014-03-30 02:54:00+00:00       0.0              108.0               108.0\n",
       "233993                             5702 2014-03-10 18:12:00 2014-03-10 20:57:00    ORD  CAE 2014-03-10 23:12:00+00:00 2014-03-11 00:57:00+00:00       0.0              105.0               105.0\n",
       "233994                             5702 2014-03-24 18:26:00 2014-03-24 21:04:00    ORD  CAE 2014-03-24 23:26:00+00:00 2014-03-25 01:04:00+00:00       0.0               98.0                98.0\n",
       "233995                             5702 2014-03-18 18:05:00 2014-03-18 21:20:00    ORD  CAE 2014-03-18 23:05:00+00:00 2014-03-19 01:20:00+00:00       0.0              135.0               135.0\n",
       "233996                             5702 2014-03-20 18:22:00 2014-03-20 21:04:00    ORD  CAE 2014-03-20 23:22:00+00:00 2014-03-21 01:04:00+00:00       0.0              102.0               102.0\n",
       "233997                             5702 2014-03-28 19:59:00 2014-03-28 22:52:00    ORD  CAE 2014-03-29 00:59:00+00:00 2014-03-29 02:52:00+00:00       0.0              113.0               113.0\n",
       "233998                             5702 2014-03-26 19:44:00 2014-03-26 22:30:00    ORD  CAE 2014-03-27 00:44:00+00:00 2014-03-27 02:30:00+00:00       0.0              106.0               106.0\n",
       "233999                             5702                 NaT                 NaT    ORD  CAE                       NaT                       NaT       NaN                NaN                 NaN"
      ]
     },
     "execution_count": 117,
     "metadata": {},
     "output_type": "execute_result"
    }
   ],
   "source": [
    "flights[(flights['Flight_Number_Reporting_Airline'] == 5702) &\\\n",
    "        (flights['Origin'] == 'ORD') & (flights['Dest'] == 'CAE')] [fields_to_check]"
   ]
  },
  {
   "cell_type": "markdown",
   "metadata": {},
   "source": [
    "We observe that the same flight on other days has a duration close to the actual elapsed time recorded on March 9th. The elapsed time based on UTC, however, is significantly different from the real duration, which suggests that either the actual departure or arrival time (or both) is incorrect. There are several options to address this, such as adjusting the departure or arrival time based on the average duration of similar flights. However, due to the insignificance of this error (1 out of almost 500k flights in total, and 25 flights on this route in the same month), the simplest solution is to drop this record on the next stage."
   ]
  },
  {
   "cell_type": "markdown",
   "metadata": {},
   "source": [
    "### Conclusions for evaluation of the accuracy of Scheduled and Actual Elapsed Times  \n",
    "1. The most of data accurate\n",
    "2. The flights across IDL (particularly GUM and HNL airports) reqieres substructuo of 1440 minutes (24hours) due to the date change.\n",
    "3. The start (and probably the end) of DST creates minor errors in elapsed time calculation and requires correction.\n",
    "4. Therea are absulute minorite of flights that have indiscrepencies between elapsed time and departur and arrival time (3 flight for more about 500k records for March 2014.)"
   ]
  },
  {
   "cell_type": "markdown",
   "metadata": {},
   "source": [
    "## Data transformation"
   ]
  },
  {
   "cell_type": "markdown",
   "metadata": {},
   "source": [
    "### Preprocessing all 60 data files (one file - one month)"
   ]
  },
  {
   "cell_type": "code",
   "execution_count": 118,
   "metadata": {},
   "outputs": [],
   "source": [
    "fields_to_load = {\n",
    "    # 'Year':                 np.int16,               \n",
    "    # 'Quarter':              np.int8,                \n",
    "    # 'Month':                np.int8,                \n",
    "    # 'DayofMonth':           np.int8,\n",
    "    # 'DayOfWeek':            np.int8,\n",
    "    'FlightDate':           'str',\n",
    "    'Reporting_Airline':    'category',\n",
    "    'Flight_Number_Reporting_Airline':  np.int16,\n",
    "    # 'OriginAirportID':      'category',\n",
    "    'Origin':               'category',\n",
    "    # 'DestAirportID':        'category',\n",
    "    'Dest':                 'category',\n",
    "    'CRSDepTime':           np.int16,\n",
    "    'DepTime':              'float32',\n",
    "    'DepDelay':             'float32',\n",
    "    'DepartureDelayGroups': 'category',\n",
    "    'DepTimeBlk':           'category',\n",
    "    'CRSArrTime':           np.int16,\n",
    "    'ArrTime':              'float32',\n",
    "    'ArrDelay':             'float32',\n",
    "    # 'Distance':             'float32',\n",
    "    'ArrivalDelayGroups':   'category',\n",
    "    'ArrTimeBlk':           'category',\n",
    "    'Cancelled':            np.int8,        # boolean\n",
    "    'CancellationCode':     'category',\n",
    "    'Diverted':             np.int8,        # boolean\n",
    "    'CarrierDelay':         'float32',\n",
    "    'WeatherDelay':         'float32',\n",
    "    'NASDelay':             'float32',\n",
    "    'SecurityDelay':        'float32',\n",
    "    'LateAircraftDelay':    'float32',\n",
    "    'CRSElapsedTime':       'float32',\n",
    "    'ActualElapsedTime':    'float32',\n",
    "    'AirTime':              'float32',\n",
    "    'DivReachedDest':       'float32',      # boolean\n",
    "    'DivActualElapsedTime': 'float32',\n",
    "    'DivArrDelay':          'float32'}"
   ]
  },
  {
   "cell_type": "code",
   "execution_count": null,
   "metadata": {},
   "outputs": [
    {
     "name": "stdout",
     "output_type": "stream",
     "text": [
      "csv_flight/report_2014_1.csv 49.9 sec, total time: 49.9 sec, avg:  49.9 sec, remaining time (estimate) 49 min.\n",
      "csv_flight/report_2014_2.csv 45.6 sec, total time: 95.5 sec, avg:  47.8 sec, remaining time (estimate) 46 min.\n",
      "csv_flight/report_2014_3.csv 55.0 sec, total time: 150.6 sec, avg:  50.2 sec, remaining time (estimate) 48 min.\n",
      "csv_flight/report_2014_4.csv 52.7 sec, total time: 203.3 sec, avg:  50.8 sec, remaining time (estimate) 47 min.\n",
      "csv_flight/report_2014_5.csv 54.4 sec, total time: 257.7 sec, avg:  51.5 sec, remaining time (estimate) 47 min.\n",
      "csv_flight/report_2014_6.csv 55.9 sec, total time: 313.6 sec, avg:  52.3 sec, remaining time (estimate) 47 min.\n",
      "csv_flight/report_2014_7.csv 55.8 sec, total time: 369.5 sec, avg:  52.8 sec, remaining time (estimate) 47 min.\n",
      "csv_flight/report_2014_8.csv 54.6 sec, total time: 424.1 sec, avg:  53.0 sec, remaining time (estimate) 46 min.\n",
      "csv_flight/report_2014_9.csv 50.3 sec, total time: 474.5 sec, avg:  52.7 sec, remaining time (estimate) 45 min.\n",
      "csv_flight/report_2014_10.csv 53.1 sec, total time: 527.5 sec, avg:  52.8 sec, remaining time (estimate) 44 min.\n",
      "csv_flight/report_2014_11.csv 49.6 sec, total time: 577.1 sec, avg:  52.5 sec, remaining time (estimate) 43 min.\n",
      "csv_flight/report_2014_12.csv 53.0 sec, total time: 630.1 sec, avg:  52.5 sec, remaining time (estimate) 42 min.\n",
      "csv_flight/report_2015_1.csv 50.7 sec, total time: 680.8 sec, avg:  52.4 sec, remaining time (estimate) 41 min.\n",
      "csv_flight/report_2015_2.csv 46.9 sec, total time: 727.8 sec, avg:  52.0 sec, remaining time (estimate) 40 min.\n",
      "csv_flight/report_2015_3.csv 55.4 sec, total time: 783.2 sec, avg:  52.2 sec, remaining time (estimate) 39 min.\n",
      "csv_flight/report_2015_4.csv 54.1 sec, total time: 837.3 sec, avg:  52.3 sec, remaining time (estimate) 38 min.\n",
      "csv_flight/report_2015_5.csv 54.7 sec, total time: 892.0 sec, avg:  52.5 sec, remaining time (estimate) 38 min.\n",
      "csv_flight/report_2015_6.csv 54.8 sec, total time: 946.8 sec, avg:  52.6 sec, remaining time (estimate) 37 min.\n",
      "csv_flight/report_2015_7.csv 56.9 sec, total time: 1003.7 sec, avg:  52.8 sec, remaining time (estimate) 36 min.\n",
      "csv_flight/report_2015_8.csv 55.4 sec, total time: 1059.1 sec, avg:  53.0 sec, remaining time (estimate) 35 min.\n",
      "csv_flight/report_2015_9.csv 50.4 sec, total time: 1109.5 sec, avg:  52.8 sec, remaining time (estimate) 34 min.\n",
      "csv_flight/report_2015_10.csv 53.6 sec, total time: 1163.1 sec, avg:  52.9 sec, remaining time (estimate) 33 min.\n",
      "csv_flight/report_2015_11.csv 50.3 sec, total time: 1213.4 sec, avg:  52.8 sec, remaining time (estimate) 33 min.\n",
      "csv_flight/report_2015_12.csv 51.1 sec, total time: 1264.5 sec, avg:  52.7 sec, remaining time (estimate) 32 min.\n",
      "csv_flight/report_2016_1.csv 47.7 sec, total time: 1312.2 sec, avg:  52.5 sec, remaining time (estimate) 31 min.\n",
      "csv_flight/report_2016_2.csv 45.5 sec, total time: 1357.8 sec, avg:  52.2 sec, remaining time (estimate) 30 min.\n",
      "csv_flight/report_2016_3.csv 52.4 sec, total time: 1410.1 sec, avg:  52.2 sec, remaining time (estimate) 29 min.\n",
      "csv_flight/report_2016_4.csv 49.6 sec, total time: 1459.8 sec, avg:  52.1 sec, remaining time (estimate) 28 min.\n",
      "csv_flight/report_2016_5.csv 52.2 sec, total time: 1511.9 sec, avg:  52.1 sec, remaining time (estimate) 27 min.\n",
      "csv_flight/report_2016_6.csv 52.3 sec, total time: 1564.2 sec, avg:  52.1 sec, remaining time (estimate) 26 min.\n",
      "csv_flight/report_2016_7.csv 53.8 sec, total time: 1618.0 sec, avg:  52.2 sec, remaining time (estimate) 25 min.\n",
      "csv_flight/report_2016_8.csv 53.4 sec, total time: 1671.4 sec, avg:  52.2 sec, remaining time (estimate) 24 min.\n",
      "csv_flight/report_2016_9.csv 48.6 sec, total time: 1720.1 sec, avg:  52.1 sec, remaining time (estimate) 23 min.\n",
      "csv_flight/report_2016_10.csv 50.4 sec, total time: 1770.5 sec, avg:  52.1 sec, remaining time (estimate) 23 min.\n",
      "csv_flight/report_2016_11.csv 48.3 sec, total time: 1818.8 sec, avg:  52.0 sec, remaining time (estimate) 22 min.\n",
      "csv_flight/report_2016_12.csv 50.8 sec, total time: 1869.6 sec, avg:  51.9 sec, remaining time (estimate) 21 min.\n",
      "csv_flight/report_2017_1.csv 48.9 sec, total time: 1918.4 sec, avg:  51.8 sec, remaining time (estimate) 20 min.\n",
      "csv_flight/report_2017_2.csv 44.6 sec, total time: 1963.1 sec, avg:  51.7 sec, remaining time (estimate) 19 min.\n",
      "csv_flight/report_2017_3.csv 52.7 sec, total time: 2015.8 sec, avg:  51.7 sec, remaining time (estimate) 18 min.\n",
      "csv_flight/report_2017_4.csv 51.3 sec, total time: 2067.0 sec, avg:  51.7 sec, remaining time (estimate) 17 min.\n",
      "csv_flight/report_2017_5.csv "
     ]
    }
   ],
   "source": [
    "source_zip = 'data/interim/csv_flight.zip'\n",
    "source_path = 'csv_flight/report_'\n",
    "counter = 0\n",
    "total_time = 0\n",
    "\n",
    "# Fields to downcast type from 'float32' to 'float16'\n",
    "downcast_fields = ['DepDelay', 'ArrDelay', 'CarrierDelay', 'WeatherDelay','NASDelay', 'SecurityDelay', 'LateAircraftDelay', \n",
    "                   'CRSElapsedTime', 'ActualElapsedTime', 'AirTime', 'DivActualElapsedTime', 'DivArrDelay', 'UTCElapsedTime_CRS',\n",
    "                   'UTCElapsedTime_Act', 'diff_CRS', 'diff_Act']\n",
    "\n",
    "for year in range(2014, 2019):\n",
    "    for month in range(1, 13): \n",
    "        t_start = time()\n",
    "        counter += 1\n",
    "        source_data = source_path + str(year) + '_' + str(month) + '.csv'\n",
    "        print(source_data + ' ', end='')\n",
    "\n",
    "        flights = pd.DataFrame()\n",
    "        flights = load_data_from(source_zip, source_data, fields_to_load)\n",
    "\n",
    "        flights['CRSArrTime_min'] = time_to_minutes(flights['CRSArrTime'])\n",
    "        flights['CRSDepTime_min'] = time_to_minutes(flights['CRSDepTime'])\n",
    "        flights['ArrTime_min'] = time_to_minutes(flights['ArrTime'])\n",
    "        flights['DepTime_min'] = time_to_minutes(flights['DepTime'])\n",
    "\n",
    "        flights['CRSDepDT'], flights['CRSArrDT'] = get_CRS_datetime(flights['FlightDate'], \n",
    "                                                                    flights['CRSDepTime_min'], \n",
    "                                                                    flights['CRSArrTime_min'])\n",
    "\n",
    "        flights['DepDT'], flights['ArrDT'] = get_Actual_datetime(flights['FlightDate'],\n",
    "                                                                flights['CRSDepTime_min'],  \n",
    "                                                                flights['DepTime_min'], \n",
    "                                                                flights['ArrTime_min'],\n",
    "                                                                flights['DepDelay'])\n",
    "\n",
    "        # Getting UTC timezone for scheduled (CRS) departure and arrival times\n",
    "        flights['CRSDep_UTC'] = convert_column_to_UTC(flights, 'CRSDepDT', 'Origin')\n",
    "        flights['CRSArr_UTC'] = convert_column_to_UTC(flights, 'CRSArrDT', 'Dest')\n",
    "\n",
    "        # We have to filter for non-NA values because astimezone doesn't work wiht NaN/NaT\n",
    "        nonNA_Dep = ~flights['DepTime'].isna()\n",
    "        flights['ActDep_UTC'] = pd.NaT\n",
    "        flights['ActDep_UTC'] = flights['ActDep_UTC'].dt.tz_localize(tz.UTC)\n",
    "        flights.loc[nonNA_Dep, 'ActDep_UTC'] = pd.to_datetime(convert_column_to_UTC(flights[nonNA_Dep], 'DepDT', 'Origin'))\n",
    "\n",
    "        # We have to filter for non-NA values because astimezone doesn't work wiht NaN/NaT\n",
    "        nonNA_Arr = ~flights['ArrTime'].isna()\n",
    "        flights['ActArr_UTC'] = pd.NaT\n",
    "        flights['ActArr_UTC'] = flights['ActArr_UTC'].dt.tz_localize(tz.UTC)\n",
    "        flights.loc[nonNA_Arr, 'ActArr_UTC'] = convert_column_to_UTC(flights[nonNA_Arr], 'ArrDT', 'Dest')\n",
    "\n",
    "        # Calculating Elapsed time based on UTC times\n",
    "        flights['UTCElapsedTime_CRS'] = (flights['CRSArr_UTC'] - flights['CRSDep_UTC']).dt.total_seconds() / 60\n",
    "        flights.loc[nonNA_Arr, 'UTCElapsedTime_Act'] = pd.to_timedelta((flights.loc[nonNA_Arr, 'ActArr_UTC'] - \n",
    "                                                                flights.loc[nonNA_Arr, 'ActDep_UTC'])).dt.total_seconds() / 60\n",
    "\n",
    "        flights['diff_CRS'] = flights['UTCElapsedTime_CRS'] - flights['CRSElapsedTime']\n",
    "        flights['diff_Act'] = flights['UTCElapsedTime_Act'] - flights['ActualElapsedTime']\n",
    "       \n",
    "        # Cleaning the dataset\n",
    "        flights.drop(['FlightDate', \n",
    "                    'DepTime', 'DepTime_min', 'ArrTime', 'ArrTime_min',\n",
    "                    'CRSDepTime', 'CRSDepTime_min', 'CRSArrTime', 'CRSArrTime_min'], axis = 1, inplace = True)\n",
    "        flights[downcast_fields] = flights[downcast_fields].astype('float16')\n",
    "\n",
    "        # Export data\n",
    "        output_file_name = 'data/processed/processed_' + str(year) + '_' + str(month) + '.pickle'\n",
    "        with open(output_file_name, 'wb') as out_file:\n",
    "            pickle.dump(flights, out_file, protocol=pickle.HIGHEST_PROTOCOL)\n",
    "\n",
    "        t_end = time()\n",
    "        elapsed_t = t_end - t_start\n",
    "        total_time += elapsed_t\n",
    "        print(round(elapsed_t, 1), 'sec, total time:', round(total_time, 1), \\\n",
    "            'sec, avg: ', round(total_time / counter, 1), 'sec, remaining time (estimate)', \n",
    "            round(total_time / counter * (60 - counter) /60), 'min.')\n",
    "\n",
    "print('\\nTotal files:', counter)\n",
    "print('Total time:', round(total_time / 60, 1), 'min')\n",
    "print('Average time:', round(total_time / counter, 1), 'sec')\n",
    "del(flights)"
   ]
  },
  {
   "cell_type": "code",
   "execution_count": null,
   "metadata": {},
   "outputs": [],
   "source": [
    "print('Total files:', counter)\n",
    "print('Total time:', round(total_time / 60, 1), 'min')\n",
    "print('Average time:', round(total_time / counter, 1), 'sec')"
   ]
  },
  {
   "cell_type": "markdown",
   "metadata": {},
   "source": [
    "### Loading the total dataset"
   ]
  },
  {
   "cell_type": "code",
   "execution_count": null,
   "metadata": {},
   "outputs": [],
   "source": [
    "flights = pd.DataFrame()\n",
    "flights_list = []\n",
    "for year in range(2014, 2019):\n",
    "    for month in range(1, 13): \n",
    "        input_file_name = 'data/processed/processed_' + str(year) + '_' + str(month) + '.pickle'\n",
    "        print(input_file_name)\n",
    "        with open(input_file_name, 'rb') as in_file:\n",
    "            flights_list.append(pickle.load(in_file))\n",
    "\n",
    "flights = pd.concat(flights_list, axis=0, ignore_index=True)\n",
    "del(flights_list)"
   ]
  },
  {
   "cell_type": "code",
   "execution_count": null,
   "metadata": {},
   "outputs": [],
   "source": [
    "# There 35 flights which doesn't have CRS Elapsed Time \n",
    "# I will assign UTC Elapsed TIme (CRS) to CRS Elapsed Time for these flights\n",
    "# and set their diff_CRS field to 0\n",
    "\n",
    "flights_with_zero_CRS_ET = flights['CRSElapsedTime'].isna()\n",
    "\n",
    "print('Number of records with NaN CRS Elapsed Time before:', flights['CRSElapsedTime'].isna().sum())\n",
    "flights[flights_with_zero_CRS_ET][['CRSElapsedTime', 'UTCElapsedTime_CRS', 'diff_CRS', 'CRSDepDT', 'CRSArrDT']]\n",
    "flights.loc[flights_with_zero_CRS_ET, 'CRSElapsedTime'], flights.loc[flights_with_zero_CRS_ET, 'diff_CRS'] = \\\n",
    "    flights.loc[flights_with_zero_CRS_ET, 'UTCElapsedTime_CRS'],  0\n",
    "print('Number of records with NaN CRS Elapsed Time before:', flights['CRSElapsedTime'].isna().sum())\n"
   ]
  },
  {
   "cell_type": "markdown",
   "metadata": {},
   "source": [
    "Let's check the memory usage"
   ]
  },
  {
   "cell_type": "code",
   "execution_count": null,
   "metadata": {},
   "outputs": [],
   "source": [
    "memory_usage_per_type(flights)\n",
    "print('Memory usage by dataframe {:.2f} MB'.format(memory_usage(flights)) )"
   ]
  },
  {
   "cell_type": "markdown",
   "metadata": {},
   "source": [
    "All 'category' fileds become 'object' and use a lot of memory. Let's change them back to 'category' to save memory"
   ]
  },
  {
   "cell_type": "code",
   "execution_count": 102,
   "metadata": {},
   "outputs": [],
   "source": [
    "category_fields = ['Reporting_Airline', 'Origin', 'Dest', 'CancellationCode']\n",
    "flights[category_fields] = flights[category_fields].astype('category')"
   ]
  },
  {
   "cell_type": "code",
   "execution_count": null,
   "metadata": {},
   "outputs": [],
   "source": [
    "print(flights.info())"
   ]
  },
  {
   "cell_type": "code",
   "execution_count": null,
   "metadata": {},
   "outputs": [],
   "source": [
    "memory_usage_per_type(flights)\n",
    "print('Memory usage by dataframe {:.2f} MB'.format(memory_usage(flights)) )"
   ]
  },
  {
   "cell_type": "markdown",
   "metadata": {},
   "source": [
    "Saving the total dataset to .pickle file without correcting the elapsed time errors identified earlier"
   ]
  },
  {
   "cell_type": "code",
   "execution_count": 105,
   "metadata": {},
   "outputs": [],
   "source": [
    "output_file_name = 'data/processed/processed_2014_2018.pickle'\n",
    "with open(output_file_name, 'wb') as out_file:\n",
    "    pickle.dump(flights, out_file, protocol=pickle.HIGHEST_PROTOCOL)\n"
   ]
  },
  {
   "cell_type": "markdown",
   "metadata": {},
   "source": [
    "-------------------------------------------------------------------------------------------------------------------------------------------------------------------------------------------------------------------\n",
    "-------------------------------------------------------------------------------------------------------------------------------------------------------------------------------------------------------------------\n",
    "-------------------------------------------------------------------------------------------------------------------------------------------------------------------------------------------------------------------\n",
    "-------------------------------------------------------------------------------------------------------------------------------------------------------------------------------------------------------------------\n",
    "-------------------------------------------------------------------------------------------------------------------------------------------------------------------------------------------------------------------\n",
    "-------------------------------------------------------------------------------------------------------------------------------------------------------------------------------------------------------------------\n",
    "-------------------------------------------------------------------------------------------------------------------------------------------------------------------------------------------------------------------\n",
    "-------------------------------------------------------------------------------------------------------------------------------------------------------------------------------------------------------------------\n",
    "-------------------------------------------------------------------------------------------------------------------------------------------------------------------------------------------------------------------\n",
    "-------------------------------------------------------------------------------------------------------------------------------------------------------------------------------------------------------------------\n",
    "-------------------------------------------------------------------------------------------------------------------------------------------------------------------------------------------------------------------\n",
    "-------------------------------------------------------------------------------------------------------------------------------------------------------------------------------------------------------------------\n",
    "-------------------------------------------------------------------------------------------------------------------------------------------------------------------------------------------------------------------\n",
    "-------------------------------------------------------------------------------------------------------------------------------------------------------------------------------------------------------------------\n",
    "-------------------------------------------------------------------------------------------------------------------------------------------------------------------------------------------------------------------\n",
    "-------------------------------------------------------------------------------------------------------------------------------------------------------------------------------------------------------------------\n",
    "-------------------------------------------------------------------------------------------------------------------------------------------------------------------------------------------------------------------\n",
    "-------------------------------------------------------------------------------------------------------------------------------------------------------------------------------------------------------------------\n"
   ]
  },
  {
   "cell_type": "markdown",
   "metadata": {},
   "source": [
    "### Correcting elapsed times errrors"
   ]
  },
  {
   "cell_type": "code",
   "execution_count": 106,
   "metadata": {},
   "outputs": [],
   "source": [
    "# Loading preprocessed dataset\n",
    "\n",
    "input_file_name = 'data/processed/processed_2014_2018.pickle'\n",
    "with open(input_file_name, 'rb') as in_file:\n",
    "    flights = pickle.load(in_file)"
   ]
  },
  {
   "cell_type": "code",
   "execution_count": 107,
   "metadata": {},
   "outputs": [],
   "source": [
    "pd.reset_option('display.max_rows')\n",
    "pd.reset_option('display.width')"
   ]
  },
  {
   "cell_type": "markdown",
   "metadata": {},
   "source": [
    "#### Scheduled (CRS) and UTC_based scheduled elapsed times"
   ]
  },
  {
   "cell_type": "code",
   "execution_count": null,
   "metadata": {},
   "outputs": [],
   "source": [
    "flights['diff_CRS'].value_counts()"
   ]
  },
  {
   "cell_type": "code",
   "execution_count": null,
   "metadata": {},
   "outputs": [],
   "source": [
    "pd.set_option('display.width', 200)\n",
    "correct_IDL(flights, 'CRS')\n",
    "correct_IDL(flights, 'Act')\n",
    "pd.reset_option('display.width')"
   ]
  },
  {
   "cell_type": "code",
   "execution_count": null,
   "metadata": {},
   "outputs": [],
   "source": [
    "print(flights['diff_CRS'].value_counts())\n",
    "print('Total number of records with different CRS Elapsed time (UTC-based vs. source data):', (flights['diff_CRS'] != 0).sum())\n",
    "print(flights['diff_Act'].value_counts())\n",
    "print('Total number of records with different Actual Elapsed time (UTC-based vs. source data):', ((flights['diff_Act'] != 0) & (~flights['diff_Act'].isna())).sum())\n"
   ]
  },
  {
   "cell_type": "code",
   "execution_count": null,
   "metadata": {},
   "outputs": [],
   "source": [
    "print(flights.groupby(['Cancelled', 'Diverted'])[['diff_CRS', 'diff_Act']].count())"
   ]
  },
  {
   "cell_type": "markdown",
   "metadata": {},
   "source": [
    "There are two unusual flights: neither was Cancelled or Diverted, but both lack Air Time and Actual Elapsed Time (so they didn’t fly?). Despite this, one of them even shows an Actual Arrival Time 283 minutes after the Actual Departure Time.\n",
    "\n",
    "I’m planning to delete both of these records.”"
   ]
  },
  {
   "cell_type": "code",
   "execution_count": null,
   "metadata": {},
   "outputs": [],
   "source": [
    "with pd.option_context('display.width', 200):\n",
    "    print(flights[~flights['Cancelled'] & ~flights['Diverted'] & flights['diff_Act'].isna()].T)"
   ]
  },
  {
   "cell_type": "code",
   "execution_count": null,
   "metadata": {},
   "outputs": [],
   "source": [
    "print('Number of records BEFORE the deletion: {:,d}'.format(len(flights)))\n",
    "flights = flights[~(~flights['Cancelled'] & ~flights['Diverted'] & flights['diff_Act'].isna())]\n",
    "print('Number of records AFTER the deletion: {:,d}'.format(len(flights)))"
   ]
  },
  {
   "cell_type": "code",
   "execution_count": null,
   "metadata": {},
   "outputs": [],
   "source": [
    "print('Total number of records: {:,d}'.format(total := len(flights)))\n",
    "print('Records with NaN-values at \\'diff_Act\\': {:,d}'.format(NA_diff_act := flights['diff_Act'].isna().sum()))\n",
    "print('The difference between total number of records and not NaN \\'diff_Act\\': {:,d}'.format(total - NA_diff_act))\n",
    "print('The number of \\'diff_CRS\\' with NaM values: {:,d}'.format(flights['diff_CRS'].isna().sum()))"
   ]
  },
  {
   "cell_type": "code",
   "execution_count": null,
   "metadata": {},
   "outputs": [],
   "source": [
    "# How many flights have difference in CRS but this difference is less then 5 minutes?\n",
    "difference_CRS_less_5_min = (abs(flights['diff_CRS']) < 5) & (abs(flights['diff_CRS']) != 0)\n",
    "print('There are', len(flights[difference_CRS_less_5_min]), 'flights with very small scheduled difference of which can be attrabuted to minor')"
   ]
  },
  {
   "cell_type": "code",
   "execution_count": null,
   "metadata": {},
   "outputs": [],
   "source": [
    "# Correcting the records with minir errors in CRS Elapsed times (less than 5 minutes)\n",
    "print('Number of records with minor errors in CRS Elapsed Time (before):', len(flights[difference_CRS_less_5_min]))\n",
    "flights.loc[difference_CRS_less_5_min, 'CRSElapsedTime'], flights.loc[difference_CRS_less_5_min, 'diff_CRS'] = \\\n",
    "    flights.loc[difference_CRS_less_5_min, 'UTCElapsedTime_CRS'],  0\n",
    "print('Number of records with minor errors in CRS Elapsed Time (after)', len(flights[(abs(flights['diff_CRS']) < 5) & \\\n",
    "                                                                                     (abs(flights['diff_CRS']) != 0)]))"
   ]
  },
  {
   "cell_type": "code",
   "execution_count": null,
   "metadata": {},
   "outputs": [],
   "source": [
    "# How many flights have difference in Actual elapsed times but this difference is less then 5 minutes?\n",
    "difference_Act_less_5_min = (abs(flights['diff_Act']) < 5) & (abs(flights['diff_Act']) != 0)\n",
    "print('There are', len(flights[difference_Act_less_5_min]), 'flights with very small actual difference which can be attrabuted to minor')"
   ]
  },
  {
   "cell_type": "code",
   "execution_count": null,
   "metadata": {},
   "outputs": [],
   "source": [
    "# Correcting the records with minir errors in Actual Elapsed times (less than 5 minutes)\n",
    "print('Number of records with minor errors in Actual Elapsed Time (before):', len(flights[difference_Act_less_5_min]))\n",
    "flights.loc[difference_Act_less_5_min, 'ActElapsedTime'], flights.loc[difference_Act_less_5_min, 'diff_Act'] = \\\n",
    "    flights.loc[difference_Act_less_5_min, 'UTCElapsedTime_Act'],  0\n",
    "print('Number of records with minor errors in Actual Elapsed Time (after)', len(flights[(abs(flights['diff_Act']) < 5) & (abs(flights['diff_Act']) != 0)]))"
   ]
  },
  {
   "cell_type": "code",
   "execution_count": null,
   "metadata": {},
   "outputs": [],
   "source": [
    "#Correcting errors with CRS and Actual elapsed times\n",
    "correct_error_of_time(flights, 'CRS')\n",
    "correct_error_of_time(flights, 'Act')\n"
   ]
  },
  {
   "cell_type": "code",
   "execution_count": null,
   "metadata": {},
   "outputs": [],
   "source": [
    "print(flights['diff_CRS'].value_counts())\n",
    "print('Total number of records with different CRS Elapsed time (UTC-based vs. source data):', (flights['diff_CRS'] != 0).sum())\n",
    "print(flights['diff_Act'].value_counts())\n",
    "print('Total number of records with different Actual Elapsed time (UTC-based vs. source data):', ((flights['diff_Act'] != 0) & (~flights['diff_Act'].isna())).sum())"
   ]
  },
  {
   "cell_type": "code",
   "execution_count": null,
   "metadata": {},
   "outputs": [],
   "source": [
    "# Deleting flights with errors eather CRS or Actual Elapsed Times, or both\n",
    "print('Number of records BEFORE deleting records: {:,d}'.format(b := len(flights)))\n",
    "CRS_error_filter = flights['diff_CRS'] != 0\n",
    "Act_error_filter = (flights['diff_Act'] != 0) & (~flights['diff_Act'].isna())\n",
    "\n",
    "flights = flights[~(CRS_error_filter | Act_error_filter)]\n",
    "print('{:,d} records were deleted.'.format(b - len(flights)))"
   ]
  },
  {
   "cell_type": "code",
   "execution_count": 122,
   "metadata": {},
   "outputs": [],
   "source": [
    "output_file_name = 'data/processed/processed_2014_2018_final.pickle'\n",
    "with open(output_file_name, 'wb') as out_file:\n",
    "    pickle.dump(flights, out_file, protocol=pickle.HIGHEST_PROTOCOL)\n"
   ]
  },
  {
   "cell_type": "markdown",
   "metadata": {},
   "source": [
    "### Checking the difference between scheduled and actual elapsed times"
   ]
  },
  {
   "cell_type": "code",
   "execution_count": 123,
   "metadata": {},
   "outputs": [],
   "source": [
    "rout_info = ['Flight_Number_Reporting_Airline', 'Origin', 'Dest', 'CRSDepDT', 'CRSElapsedTime']"
   ]
  },
  {
   "cell_type": "code",
   "execution_count": null,
   "metadata": {},
   "outputs": [],
   "source": [
    "elapsed_less_then_ZERO = flights['CRSElapsedTime'] < 0\n",
    "flights[elapsed_less_then_ZERO][rout_info]"
   ]
  },
  {
   "cell_type": "code",
   "execution_count": 125,
   "metadata": {},
   "outputs": [],
   "source": [
    "flights = flights[~elapsed_less_then_ZERO]"
   ]
  },
  {
   "cell_type": "code",
   "execution_count": 126,
   "metadata": {},
   "outputs": [],
   "source": [
    "# Analysis of difference between 'ActualElapsedTime' and 'CRSElapsedTime'\n",
    "flights['ElapsedTimeDiff'] = flights['ActualElapsedTime'] - flights['CRSElapsedTime']\n",
    "flights['RelElapTimeDiff'] = (flights['ElapsedTimeDiff'] / flights['CRSElapsedTime']).astype(float)"
   ]
  },
  {
   "cell_type": "code",
   "execution_count": 127,
   "metadata": {},
   "outputs": [],
   "source": [
    "ET_less_30_min = flights['CRSElapsedTime'] < 30"
   ]
  },
  {
   "cell_type": "code",
   "execution_count": 128,
   "metadata": {},
   "outputs": [],
   "source": [
    "outlier_limit_low, outlier_limit_high = get_outliers_range(flights['RelElapTimeDiff'])\n",
    "\n",
    "# Filtering flights that had actual elapsed time to short relative to scheduled \n",
    "relative_diff_low_outliers = (flights['RelElapTimeDiff'] < outlier_limit_low) \n",
    "relative_diff_higher_outliers = (flights['RelElapTimeDiff'] > outlier_limit_high)\n",
    "outliers = (flights['RelElapTimeDiff'] < outlier_limit_low) | (flights['RelElapTimeDiff'] > outlier_limit_high)"
   ]
  },
  {
   "cell_type": "code",
   "execution_count": null,
   "metadata": {},
   "outputs": [],
   "source": [
    "bins = np.arange(0, 35, 5)\n",
    "plt.hist(flights[relative_diff_higher_outliers & ET_less_30_min]['CRSElapsedTime'], bins = bins)\n",
    "plt.show()"
   ]
  },
  {
   "cell_type": "code",
   "execution_count": null,
   "metadata": {},
   "outputs": [],
   "source": [
    "# Filtering the flights with Elapsed time between 15 and 20 minutes, which relative difference of ETs is high\n",
    "pd.set_option('display.max_rows', 70)\n",
    "pd.set_option('display.width', 120)\n",
    "print(flights[relative_diff_higher_outliers & (15 < flights['CRSElapsedTime']) & \n",
    "              (flights['CRSElapsedTime'] < 20)][rout_info + ['ActualElapsedTime']])\n",
    "pd.reset_option('display.max_rows')\n",
    "pd.reset_option('display.width')"
   ]
  },
  {
   "cell_type": "markdown",
   "metadata": {},
   "source": [
    "These flights look like delayed normal short flights "
   ]
  },
  {
   "cell_type": "code",
   "execution_count": null,
   "metadata": {},
   "outputs": [],
   "source": [
    "# Filtering the flights with Elapsed time less than 15, which relative difference of ETs is high\n",
    "flights[relative_diff_higher_outliers & (flights['CRSElapsedTime'] < 15)][rout_info + ['ActualElapsedTime']]"
   ]
  },
  {
   "cell_type": "markdown",
   "metadata": {},
   "source": [
    "And these flights seem very unsual due to extreemly short scheduled elapsed times. I plan to drop them"
   ]
  },
  {
   "cell_type": "code",
   "execution_count": 132,
   "metadata": {},
   "outputs": [],
   "source": [
    "flights = flights[~(relative_diff_higher_outliers & (flights['CRSElapsedTime'] < 15))]"
   ]
  },
  {
   "cell_type": "code",
   "execution_count": 133,
   "metadata": {},
   "outputs": [],
   "source": [
    "outlier_limit_low, outlier_limit_high = get_outliers_range(flights['RelElapTimeDiff'])\n",
    "\n",
    "# Filtering flights that had actual elapsed time too short or lond relative to their scheduled time\n",
    "relative_diff_low_outliers = (flights['RelElapTimeDiff'] < outlier_limit_low) \n",
    "relative_diff_higher_outliers = (flights['RelElapTimeDiff'] > outlier_limit_high)\n",
    "outliers = (flights['RelElapTimeDiff'] < outlier_limit_low) | (flights['RelElapTimeDiff'] > outlier_limit_high)"
   ]
  },
  {
   "cell_type": "code",
   "execution_count": null,
   "metadata": {},
   "outputs": [],
   "source": [
    "# Printing some summary for ALL OUTLIERS\n",
    "print('In 2014-2018 there were {:,d} flights with relative ET difference out of range ({:.2%}, {:+.2%}%), which represent {:.2%} of total flights'\n",
    "      .format(n:=flights[outliers]['Flight_Number_Reporting_Airline'].count(), \n",
    "              outlier_limit_low, \n",
    "              outlier_limit_high, \n",
    "              n / len(flights)))"
   ]
  },
  {
   "cell_type": "code",
   "execution_count": null,
   "metadata": {},
   "outputs": [],
   "source": [
    "pd.set_option('display.width', 200)\n",
    "# Printing the TOP-10 fasterst flights\n",
    "print(flights[relative_diff_low_outliers][rout_info + ['ActualElapsedTime', \n",
    "                        'ElapsedTimeDiff',\n",
    "                        'RelElapTimeDiff', \n",
    "                        'diff_CRS', 'diff_Act']]\n",
    "      .sort_values('RelElapTimeDiff', ascending=True))\n",
    "print()\n",
    "pd.reset_option('display.width')"
   ]
  },
  {
   "cell_type": "code",
   "execution_count": null,
   "metadata": {},
   "outputs": [],
   "source": [
    "line_x = [0, 700]\n",
    "line_y = [0, 700]\n",
    "flights_sample = flights.sample(n=1000000)\n",
    "sns.relplot(data=flights_sample,\n",
    "            x='CRSElapsedTime', \n",
    "            y='ActualElapsedTime',\n",
    "            hue='RelElapTimeDiff',\n",
    "            kind='scatter')\n",
    "plt.xlabel('Scheduled elapsed time (min)')\n",
    "plt.ylabel('Actual elapsed time (min)')\n",
    "plt.plot(line_x, line_y, color ='r')\n",
    "plt.show()"
   ]
  },
  {
   "cell_type": "code",
   "execution_count": null,
   "metadata": {},
   "outputs": [],
   "source": [
    "pd.set_option('display.width', 400)\n",
    "print(flights[flights['RelElapTimeDiff'] > 2][rout_info + ['CRSArrDT', 'CRSDep_UTC', 'CRSArr_UTC', 'DepDT', 'ArrDT', 'ActDep_UTC', 'ActArr_UTC',\n",
    "                                                           'ActualElapsedTime', 'Diverted', 'Cancelled', 'RelElapTimeDiff', 'diff_CRS', 'diff_Act']].sort_values('RelElapTimeDiff', ascending = False))\n",
    "pd.reset_option('display.width')"
   ]
  },
  {
   "cell_type": "code",
   "execution_count": null,
   "metadata": {},
   "outputs": [],
   "source": [
    "print(flights[relative_diff_low_outliers].groupby(['Cancelled', 'Diverted'])['Flight_Number_Reporting_Airline'].agg('count'))"
   ]
  },
  {
   "cell_type": "code",
   "execution_count": null,
   "metadata": {},
   "outputs": [],
   "source": [
    "print(len(flights[relative_diff_low_outliers]))\n",
    "print(flights[relative_diff_low_outliers]['Cancelled'].sum())\n",
    "print(flights[relative_diff_low_outliers]['Diverted'].sum())"
   ]
  },
  {
   "cell_type": "code",
   "execution_count": null,
   "metadata": {},
   "outputs": [],
   "source": [
    "print(flights[relative_diff_higher_outliers].groupby(['Cancelled', 'Diverted'])['Flight_Number_Reporting_Airline'].agg('count'))"
   ]
  },
  {
   "cell_type": "code",
   "execution_count": null,
   "metadata": {},
   "outputs": [],
   "source": [
    "print(len(flights[relative_diff_higher_outliers]))\n",
    "print(flights[relative_diff_higher_outliers]['Cancelled'].sum())\n",
    "print(flights[relative_diff_higher_outliers]['Diverted'].sum())"
   ]
  },
  {
   "cell_type": "code",
   "execution_count": null,
   "metadata": {},
   "outputs": [],
   "source": [
    "flights[flights['DivReachedDest']][['ArrDT', 'ArrDelay', 'DivArrDelay']].head(10)"
   ]
  },
  {
   "cell_type": "code",
   "execution_count": null,
   "metadata": {},
   "outputs": [],
   "source": [
    "flights[flights['DivReachedDest'] & ~flights['ArrDelay'].isna()][['ArrDT', 'ArrDelay', 'DivArrDelay']].head(10)"
   ]
  },
  {
   "cell_type": "markdown",
   "metadata": {},
   "source": [
    "-------------------------------------------------------------------------------------------------------------------------------------------------------------------------------------------------------------------\n",
    "-------------------------------------------------------------------------------------------------------------------------------------------------------------------------------------------------------------------\n",
    "-------------------------------------------------------------------------------------------------------------------------------------------------------------------------------------------------------------------\n",
    "-------------------------------------------------------------------------------------------------------------------------------------------------------------------------------------------------------------------\n",
    "-------------------------------------------------------------------------------------------------------------------------------------------------------------------------------------------------------------------\n",
    "-------------------------------------------------------------------------------------------------------------------------------------------------------------------------------------------------------------------\n",
    "-------------------------------------------------------------------------------------------------------------------------------------------------------------------------------------------------------------------\n",
    "-------------------------------------------------------------------------------------------------------------------------------------------------------------------------------------------------------------------\n",
    "-------------------------------------------------------------------------------------------------------------------------------------------------------------------------------------------------------------------\n",
    "-------------------------------------------------------------------------------------------------------------------------------------------------------------------------------------------------------------------\n",
    "-------------------------------------------------------------------------------------------------------------------------------------------------------------------------------------------------------------------\n",
    "-------------------------------------------------------------------------------------------------------------------------------------------------------------------------------------------------------------------\n",
    "-------------------------------------------------------------------------------------------------------------------------------------------------------------------------------------------------------------------\n",
    "-------------------------------------------------------------------------------------------------------------------------------------------------------------------------------------------------------------------\n",
    "-------------------------------------------------------------------------------------------------------------------------------------------------------------------------------------------------------------------\n",
    "-------------------------------------------------------------------------------------------------------------------------------------------------------------------------------------------------------------------\n",
    "-------------------------------------------------------------------------------------------------------------------------------------------------------------------------------------------------------------------\n",
    "-------------------------------------------------------------------------------------------------------------------------------------------------------------------------------------------------------------------\n"
   ]
  },
  {
   "cell_type": "code",
   "execution_count": null,
   "metadata": {},
   "outputs": [],
   "source": [
    "Act_vs_CRS_ET = flights['ElapsedTimeDiff']\n",
    "Act_vs_CRS_ET = Act_vs_CRS_ET.astype(float)\n",
    "sample_mean = Act_vs_CRS_ET.mean()\n",
    "sample_std = Act_vs_CRS_ET.std()\n",
    "rng = np.random.default_rng(18)\n",
    "gauss_distr = rng.normal(sample_mean,\n",
    "                        sample_std,\n",
    "                        size=1000000)\n",
    "\n",
    "bins = np.arange(-50,50)\n",
    "plt.hist(Act_vs_CRS_ET, bins=bins, density=True)\n",
    "plt.hist(gauss_distr, histtype='step', bins=bins, color='r', density=True)\n",
    "plt.xlim(-50,50)\n",
    "plt.show()\n",
    "print('Mean difference between scheduled and actual time', round(sample_mean, 2))\n",
    "print('Standard deviation of the difference', round(sample_std, 2))"
   ]
  },
  {
   "cell_type": "markdown",
   "metadata": {},
   "source": [
    "The diffence between acheduled and actual elapsed time is not normally distribute (despite being very close), In average the actual elapsed time less than the scheduled (-4.73 min). However, this is the duration of the flight and not a arrival time."
   ]
  },
  {
   "cell_type": "markdown",
   "metadata": {},
   "source": [
    "It is interesting to examine the most negative values of the difference between scheduled and actual elapsed time: how shorter the actual duration of flight can be against its scheduled duration?"
   ]
  },
  {
   "cell_type": "code",
   "execution_count": null,
   "metadata": {},
   "outputs": [],
   "source": [
    "flights['ElapsedTimeDiff'].astype(float).describe()"
   ]
  },
  {
   "cell_type": "markdown",
   "metadata": {},
   "source": [
    "Interesting!!!! Some flights lasted more than 200 minutes less/more than they were scheduled!!! For sure there are errors in data."
   ]
  },
  {
   "cell_type": "markdown",
   "metadata": {},
   "source": [
    "How many flights have an elapsed time difference that is an outlier in the range?\n",
    "To answer this question let's first calculate the relative difference of elapsed time, because on long distanced the absolute difference in minutes can be higher."
   ]
  },
  {
   "cell_type": "code",
   "execution_count": null,
   "metadata": {},
   "outputs": [],
   "source": [
    "print('Mean relative difference between scheduled and actual time (%)', round(flights['RelElapTimeDiff'].mean() * 100, 2))\n",
    "print('Standard deviation of the relative difference (%)', round(flights['RelElapTimeDiff'].std() * 100, 2))"
   ]
  },
  {
   "cell_type": "code",
   "execution_count": null,
   "metadata": {},
   "outputs": [],
   "source": [
    "rng = np.random.default_rng(18)\n",
    "gauss_distr = rng.normal(flights['RelElapTimeDiff'].mean(),\n",
    "                        flights['RelElapTimeDiff'].std(),\n",
    "                        size=1000000)\n",
    "\n",
    "bins = np.arange(-1, 1, 0.01)\n",
    "\n",
    "plt.hist(flights['RelElapTimeDiff'], bins=bins, density=True)\n",
    "plt.hist(gauss_distr, histtype='step', bins=bins, color='r', density=True)\n",
    "plt.xlim(-0.5, 0.5)\n",
    "plt.show()"
   ]
  },
  {
   "cell_type": "markdown",
   "metadata": {},
   "source": [
    "There are flights with scheduled (CRS) elapsed time that is too short. The scheduled departure and arrival time correspodn to the elapsed time so we are not able to rectify them (the only way to rectify is to set the same times and duration based on actual times and duration but this don't have value for our further mothel). Fortunately, there are only few such flights. "
   ]
  },
  {
   "cell_type": "code",
   "execution_count": null,
   "metadata": {},
   "outputs": [],
   "source": [
    "# Details for the flight ind = 21568647 which has the most significant difference between scheduled and actual \n",
    "# elapsed times\n",
    "\n",
    "print(flights.iloc[28530440].T)\n",
    "print('Flight number:', flights.iloc[28530440]['Flight_Number_Reporting_Airline'])"
   ]
  },
  {
   "cell_type": "code",
   "execution_count": null,
   "metadata": {},
   "outputs": [],
   "source": [
    "# Details for the flight ind = 26994453 which has the second most significant difference between scheduled and actual \n",
    "# elapsed times\n",
    "print(flights.iloc[21568647].T)\n",
    "print('Flight number:', flights.iloc[21568647]['Flight_Number_Reporting_Airline'])\n"
   ]
  },
  {
   "cell_type": "markdown",
   "metadata": {},
   "source": [
    "The second most differing flight has the same story: Google [search](https://www.google.com/maps/dir/LaGuardia+Airport+(LGA),+East+Elmhurst,+NY,+USA/Dallas+Fort+Worth+International+Airport+(DFW),+2400+Aviation+Dr,+Dallas,+TX+75261,+United+States/@36.3681193,-96.0279203,5z/data=!3m1!4b1!4m14!4m13!1m5!1m1!1s0x89c25f8983424db5:0x772fc4660e9666b3!2m2!1d-73.8742467!2d40.7766422!1m5!1m1!1s0x864c2a660d222aa7:0x73323f5e067d201c!2m2!1d-97.0335765!2d32.8990434!3e4?entry=ttu&g_ep=EgoyMDI0MTAwMi4xIKXMDSoASAFQAw%3D%3D) shows the estimated time of the direct flight 3h 40m which again closer to the actual elapsed time and far away from scheduled 431 min - more than 7h!"
   ]
  },
  {
   "cell_type": "code",
   "execution_count": null,
   "metadata": {},
   "outputs": [],
   "source": [
    "# load source file for accessing some detailes that were deleted in the result dataset\n",
    "_fl = load_data_from(source_zip, source_path + '2017_10.csv')\n",
    "\n",
    "# tiltering the flight of interest \n",
    "ind = _fl[(_fl['Flight_Number_Reporting_Airline'] == 5028) \n",
    "    & (_fl['DayofMonth'] == 9) \n",
    "    & (_fl['Origin'] == 'SBP')\n",
    "    & (_fl['Dest'] == 'SFO')].index\n",
    "flight_top1 = _fl.iloc[*ind]\n",
    "\n",
    "# Printing results \n",
    "pd.set_option('display.max_rows', 115)\n",
    "print(_fl.iloc[*ind][:70])"
   ]
  },
  {
   "cell_type": "code",
   "execution_count": null,
   "metadata": {},
   "outputs": [],
   "source": [
    "# load source file for accessing some detailes that were deleted in the result dataset\n",
    "_fl = load_data_from(source_zip, source_path + '2018_7.csv')\n",
    "\n",
    "# tiltering the flight of interest \n",
    "ind = _fl[(_fl['Flight_Number_Reporting_Airline'] == 5935) \n",
    "    & (_fl['DayofMonth'] == 25) \n",
    "    & (_fl['Origin'] == 'DFW')\n",
    "    & (_fl['Dest'] == 'LGA')].index\n",
    "flight_top2 = _fl.iloc[*ind]\n",
    "\n",
    "# Printing results \n",
    "pd.set_option('display.max_rows', 115)\n",
    "print(_fl.iloc[*ind][:70])"
   ]
  },
  {
   "cell_type": "markdown",
   "metadata": {},
   "source": [
    "These two flight were quite ordinary flights: they were not canceled or diverted, they had just one flight (field 'Fligths'), and as we know from Google search above their actual elapsed time seems reasonable but their GRSElapsedTime doesn't. "
   ]
  },
  {
   "cell_type": "markdown",
   "metadata": {},
   "source": [
    "Could the CRS Elapsed Time have been calculated incorrectly due to timezone differences?\n",
    "Let's check it"
   ]
  },
  {
   "cell_type": "code",
   "execution_count": 2,
   "metadata": {},
   "outputs": [],
   "source": [
    "# [FUNCTION]\n",
    "\n",
    "# The fastest flight - TOP1\n",
    "def time_check(list_of_flights):\n",
    "    for a in list_of_flights:\n",
    "        CRSDepTime = datetime(a.Year, a.Month, a.DayofMonth, a.CRSDepTime // 100, a.CRSDepTime % 100)\n",
    "        CRSArrTime = datetime(a.Year, a.Month, a.DayofMonth, a.CRSArrTime // 100, a.CRSArrTime % 100)\n",
    "\n",
    "        print('Flight #', a.Flight_Number_Reporting_Airline)\n",
    "        print('CRS: ')\n",
    "        print(a.Origin, '\\nTime zone: ', tz.gettz(IATAtz[a.Origin]))\n",
    "        print('Local departure time:      ', CRSDepTime)\n",
    "        print('Local departure time (tz): ', airport_time_tz(CRSDepTime, a.Origin))\n",
    "        print('UTC Departure time:        ', airport_time_UTC(CRSDepTime, a.Origin))\n",
    "        print('')\n",
    "        print(a.Dest, '\\nTime zone: ', tz.gettz(IATAtz[a.Dest]))\n",
    "        print('Local departure time:      ', CRSArrTime)\n",
    "        print('Local departure time (tz): ', airport_time_tz(CRSArrTime, a.Dest))\n",
    "        print('UTC Departure time:        ', airport_time_UTC(CRSArrTime, a.Dest))\n",
    "        print('')\n",
    "        print('Elapsed time (CRS):', round(a.CRSElapsedTime / 60, 2))\n",
    "        print('Elapsed time (UTC):', round((airport_time_UTC(CRSArrTime, a.Dest) - airport_time_UTC(CRSDepTime, a.Origin)).seconds / 3600, 2))\n",
    "        print('\\n')\n"
   ]
  },
  {
   "cell_type": "code",
   "execution_count": null,
   "metadata": {},
   "outputs": [],
   "source": [
    "time_check([flight_top1, flight_top2])\n",
    "\n"
   ]
  },
  {
   "cell_type": "markdown",
   "metadata": {},
   "source": [
    "As we can wee there is no error due to incorrect calculatinb elapsed time for different timezones of Origin and Destination. \n",
    "Let's check all outliers flights"
   ]
  },
  {
   "cell_type": "markdown",
   "metadata": {},
   "source": [
    "Ok, we see that the data for the flight wiht the earliest arrival is correct. \n",
    "Let's check correctness of Elapsed times for the sample of 1000 flights"
   ]
  },
  {
   "cell_type": "code",
   "execution_count": null,
   "metadata": {},
   "outputs": [],
   "source": [
    "# Check for correctness of CRS ET (elapsed times) for all records (rows)\n",
    "from datetime import datetime\n",
    "\n",
    "# filtering only flights that were not cancelled or diverted\n",
    "not_canceled_or_diverted = (flights['Cancelled'] != 1) & (flights['Diverted'] != 1)\n",
    "ordinary_flights = flights[not_canceled_or_diverted]\n",
    "print('Number of not cancelled or diverted flights', len(ordinary_flights))"
   ]
  },
  {
   "cell_type": "code",
   "execution_count": null,
   "metadata": {},
   "outputs": [],
   "source": []
  }
 ],
 "metadata": {
  "kernelspec": {
   "display_name": "base",
   "language": "python",
   "name": "python3"
  },
  "language_info": {
   "codemirror_mode": {
    "name": "ipython",
    "version": 3
   },
   "file_extension": ".py",
   "mimetype": "text/x-python",
   "name": "python",
   "nbconvert_exporter": "python",
   "pygments_lexer": "ipython3",
   "version": "3.12.4"
  }
 },
 "nbformat": 4,
 "nbformat_minor": 2
}
