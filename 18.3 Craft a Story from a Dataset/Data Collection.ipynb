{
 "cells": [
  {
   "cell_type": "code",
   "execution_count": 1,
   "metadata": {},
   "outputs": [],
   "source": [
    "import pandas as pd\n",
    "import numpy as np\n",
    "import matplotlib.pyplot as plt\n",
    "import seaborn as sns\n",
    "\n",
    "from pathlib import Path"
   ]
  },
  {
   "cell_type": "code",
   "execution_count": 2,
   "metadata": {},
   "outputs": [],
   "source": [
    "countries = pd.read_csv(Path('__file__').parent / 'data' / 'country_dict.csv', index_col=0)"
   ]
  },
  {
   "cell_type": "code",
   "execution_count": 3,
   "metadata": {},
   "outputs": [],
   "source": [
    "# Healthy life expectancy\n",
    "\n",
    "# https://www.who.int/data/gho/indicator-metadata-registry/imr-details/66\n",
    "file_path = Path('__file__').parent / 'data' / 'data_Healthy_life_expectancy_(HALE)_at_birth_(years).csv'\n",
    "hale = pd.read_csv(file_path)\n",
    "hale_clear = hale[['Indicator', 'ParentLocationCode', 'ParentLocation', 'SpatialDimValueCode', 'Location', 'Period', 'Dim1', 'FactValueNumeric']]\n",
    "hale_clear = hale_clear.rename(columns = {'ParentLocationCode': 'RegionCode',\n",
    "                                      'FactValueNumeric': 'Value', \n",
    "                                      'Location': 'Country', \n",
    "                                      'SpatialDimValueCode': 'CountryCode', \n",
    "                                      'ParentLocation': 'Region', \n",
    "                                      'Dim1': 'Sex', \n",
    "                                      'Period': 'Year'})\n",
    "hale_clear = hale_clear.merge(right = countries[['CountryCode', 'WBIncomeCode']], on = 'CountryCode')\n",
    "hale_clear = hale_clear[['Indicator', 'RegionCode', 'Region', 'WBIncomeCode', 'CountryCode', 'Country', 'Year', 'Sex', 'Value']]\n",
    "hale_clear['Index'] = hale_clear['Year'].astype(str) + hale_clear['CountryCode']"
   ]
  },
  {
   "cell_type": "code",
   "execution_count": null,
   "metadata": {},
   "outputs": [],
   "source": [
    "# Current health expenditure (CHE) as percentage of gross domestic product (GDP) (%)\n",
    "\n",
    "# Current health expenditure as a share of GDP provides an indication on the level of resources channelled to health relative \n",
    "# to other uses. It shows the importance of the health sector in the whole economy and indicates the societal priority \n",
    "# which health is given measured in monetary terms.\n",
    "\n",
    "file_path = '/Users/a.kholodov/Documents/02. Personal/20. Education/50. Universities/Springboard/18. Data Storytelling/18.3 Apply Your Storytelling Skills/18.3 Craft a Story from a Dataset/data/data_CHE_as_percentage_of_GDP.csv'\n",
    "che = pd.read_csv(file_path)\n",
    "\n",
    "\n",
    "che_clear = che[['Indicator', 'ParentLocationCode', 'ParentLocation', 'SpatialDimValueCode', 'Location', 'Period', 'Dim1', 'FactValueNumeric']]\n",
    "che_clear = che_clear.rename(columns = {'ParentLocationCode': 'RegionCode',\n",
    "                                      'FactValueNumeric': 'Value', \n",
    "                                      'Location': 'Country', \n",
    "                                      'SpatialDimValueCode': 'CountryCode', \n",
    "                                      'ParentLocation': 'Region', \n",
    "                                      'Dim1': 'Parameter', \n",
    "                                      'Period': 'Year'})\n",
    "che_clear = che_clear.merge(right = countries[['CountryCode', 'WBIncomeCode']], on = 'CountryCode')\n",
    "che_clear = che_clear[['Indicator', 'RegionCode', 'Region', 'WBIncomeCode', 'CountryCode', 'Country', 'Year', 'Parameter', 'Value']]\n",
    "che_clear['Index'] = che_clear['Year'].astype(str) + che_clear['CountryCode']"
   ]
  },
  {
   "cell_type": "code",
   "execution_count": 5,
   "metadata": {},
   "outputs": [],
   "source": [
    "# Age-standardized prevalence of tobacco use among persons 15 years and older (%)\n",
    "\n",
    "file_path = '/Users/a.kholodov/Documents/02. Personal/20. Education/50. Universities/Springboard/18. Data Storytelling/18.3 Apply Your Storytelling Skills/18.3 Craft a Story from a Dataset/data/data_tobacco.csv'\n",
    "tbc = pd.read_csv(file_path)\n",
    "\n",
    "tbc_clear = tbc[['Indicator', 'Year', 'Country ISO 3 code', 'Country', 'WHO region', 'World bank income group', 'Sex', 'Value Numeric']]\n",
    "tbc_clear = tbc_clear.rename(columns = {'World bank income group': 'WBIncomeCode',\n",
    "                                      'Value Numeric': 'Value', \n",
    "                                      'Location': 'Country', \n",
    "                                      'Country ISO 3 code': 'CountryCode', \n",
    "                                      'WHO region': 'Region'})\n",
    "tbc_clear = tbc_clear.merge(right = countries[['CountryCode', 'RegionCode']], on = 'CountryCode')\n",
    "tbc_clear = tbc_clear[['Indicator', 'RegionCode', 'Region', 'WBIncomeCode', 'CountryCode', 'Country', 'Year', 'Sex', 'Value']]\n",
    "tbc_clear['Index'] = tbc_clear['Year'].astype(str) + tbc_clear['CountryCode']"
   ]
  },
  {
   "cell_type": "code",
   "execution_count": 6,
   "metadata": {},
   "outputs": [],
   "source": [
    "file_path = '/Users/a.kholodov/Documents/02. Personal/20. Education/50. Universities/Springboard/18. Data Storytelling/18.3 Apply Your Storytelling Skills/18.3 Craft a Story from a Dataset/data/data_alcohol.csv'\n",
    "alc = pd.read_csv(file_path)\n",
    "\n",
    "alc_clear = alc[['Indicator', 'ParentLocationCode', 'ParentLocation', 'SpatialDimValueCode', 'Location', 'Period', 'Dim1', 'FactValueNumeric']]\n",
    "alc_clear = alc_clear.rename(columns = {'ParentLocationCode': 'RegionCode',\n",
    "                                      'FactValueNumeric': 'Value', \n",
    "                                      'Location': 'Country', \n",
    "                                      'SpatialDimValueCode': 'CountryCode', \n",
    "                                      'ParentLocation': 'Region', \n",
    "                                      'Dim1': 'Sex', \n",
    "                                      'Period': 'Year'})\n",
    "alc_clear = alc_clear.merge(right = countries[['CountryCode', 'WBIncomeCode']], on = 'CountryCode')\n",
    "alc_clear = alc_clear[['Indicator', 'RegionCode', 'Region', 'WBIncomeCode', 'CountryCode', 'Country', 'Year', 'Sex', 'Value']]\n",
    "alc_clear['Index'] = alc_clear['Year'].astype(str) + alc_clear['CountryCode']"
   ]
  },
  {
   "cell_type": "code",
   "execution_count": 7,
   "metadata": {},
   "outputs": [],
   "source": [
    "file_path = '/Users/a.kholodov/Documents/02. Personal/20. Education/50. Universities/Springboard/18. Data Storytelling/18.3 Apply Your Storytelling Skills/18.3 Craft a Story from a Dataset/data/data_expend10.csv'\n",
    "expend = pd.read_csv(file_path)\n",
    "\n",
    "expend_clear = expend[['Indicator', 'ParentLocationCode', 'ParentLocation', 'SpatialDimValueCode', 'Location', 'Period', 'Dim1', 'FactValueNumeric']]\n",
    "expend_clear = expend_clear.rename(columns = {'ParentLocationCode': 'RegionCode',\n",
    "                                      'FactValueNumeric': 'Value', \n",
    "                                      'Location': 'Country', \n",
    "                                      'SpatialDimValueCode': 'CountryCode', \n",
    "                                      'ParentLocation': 'Region', \n",
    "                                      'Dim1': 'Parameter', \n",
    "                                      'Period': 'Year'})\n",
    "expend_clear = expend_clear.merge(right = countries[['CountryCode', 'WBIncomeCode']], on = 'CountryCode')\n",
    "expend_clear = expend_clear[['Indicator', 'RegionCode', 'Region', 'WBIncomeCode', 'CountryCode', 'Country', 'Year', 'Parameter', 'Value']]\n",
    "expend_clear['Index'] = expend_clear['Year'].astype(str) + expend_clear['CountryCode']"
   ]
  },
  {
   "cell_type": "code",
   "execution_count": 8,
   "metadata": {},
   "outputs": [],
   "source": [
    "dataset = pd.DataFrame(columns = ['CountryCode', 'Country', 'Region', 'RegionCode', 'WBIncomeCode', 'Year'])\n",
    "for year in range(2000, 2022):\n",
    "    tmp = countries\n",
    "    tmp['Year'] = year\n",
    "    dataset = pd.concat([dataset, tmp])\n",
    "dataset['Index'] = dataset['Year'].astype(str) + dataset['CountryCode']"
   ]
  },
  {
   "cell_type": "code",
   "execution_count": 9,
   "metadata": {},
   "outputs": [],
   "source": [
    "indicator = hale_clear['Indicator'] == 'Healthy life expectancy (HALE) at birth (years)'\n",
    "sex = hale_clear['Sex'] == 'Both sexes'\n",
    "dataset = dataset.merge(right = hale_clear.loc[sex & indicator, ['Index', 'Value']], on = 'Index', how = 'left') \\\n",
    "    .rename(columns={'Value': 'HALE at birth (years)'})\n",
    "\n",
    "indicator = hale_clear['Indicator'] == 'Healthy life expectancy (HALE) at age 60 (years)'\n",
    "dataset = dataset.merge(right = hale_clear.loc[sex & indicator, ['Index', 'Value']], on = 'Index', how = 'left') \\\n",
    "    .rename(columns={'Value': 'HALE at age 60 (years)'})"
   ]
  },
  {
   "cell_type": "code",
   "execution_count": null,
   "metadata": {},
   "outputs": [],
   "source": [
    "#  CHE as percentage of GDP (%)\n",
    "dataset = dataset.merge(right = che_clear.loc[:, ['Index', 'Value']], on = 'Index', how = 'left') \\\n",
    "    .rename(columns={'Value': 'CHE as percentage of GDP (%)'})"
   ]
  },
  {
   "cell_type": "code",
   "execution_count": null,
   "metadata": {},
   "outputs": [],
   "source": [
    "# Age-standardized prevalence of current tobacco smoking among persons aged 15 years and older\n",
    "# The percentage of the population aged 15 years and over who currently use any tobacco product\n",
    "\n",
    "sex = tbc_clear['Sex'] == 'Both sexes'\n",
    "dataset = dataset.merge(right = tbc_clear.loc[sex, ['Index', 'Value']], on = 'Index', how = 'left') \\\n",
    "    .rename(columns={'Value': 'Share of smokers (%)'})"
   ]
  },
  {
   "cell_type": "code",
   "execution_count": null,
   "metadata": {},
   "outputs": [],
   "source": [
    "# Alcohol, total per capita (15+) consumption (in litres of pure alcohol) (SDG Indicator 3.5.2), three-year average\n",
    "\n",
    "sex = alc_clear['Sex'] == 'Both sexes'\n",
    "dataset = dataset.merge(right = alc_clear.loc[sex, ['Index', 'Value']], on = 'Index', how = 'left') \\\n",
    "    .rename(columns={'Value': 'Alcohol, total per capita (litres)'})"
   ]
  },
  {
   "cell_type": "code",
   "execution_count": null,
   "metadata": {},
   "outputs": [],
   "source": [
    "# Population with household spending on health greater than 10% of total household budget (SDG 3.8.2, reported data) (%)\n",
    "\n",
    "parameter = expend_clear['Parameter'] == 'Adults with older persons'\n",
    "dataset = dataset.merge(right = expend_clear.loc[parameter, ['Index', 'Value']], on = 'Index', how = 'left') \\\n",
    "    .rename(columns={'Value': 'Spending more 10% (%)'})"
   ]
  },
  {
   "cell_type": "code",
   "execution_count": 16,
   "metadata": {},
   "outputs": [],
   "source": [
    "dataset.to_csv(Path('__file__').parent / 'data' / 'health_data.csv')"
   ]
  },
  {
   "cell_type": "markdown",
   "metadata": {},
   "source": [
    "----------------------------------------------------------------------------------------------------------------------------------\n",
    "----------------------------------------------------------------------------------------------------------------------------------\n",
    "----------------------------------------------------------------------------------------------------------------------------------\n",
    "----------------------------------------------------------------------------------------------------------------------------------"
   ]
  }
 ],
 "metadata": {
  "kernelspec": {
   "display_name": "springboard",
   "language": "python",
   "name": "python3"
  },
  "language_info": {
   "codemirror_mode": {
    "name": "ipython",
    "version": 3
   },
   "file_extension": ".py",
   "mimetype": "text/x-python",
   "name": "python",
   "nbconvert_exporter": "python",
   "pygments_lexer": "ipython3",
   "version": "3.12.7"
  }
 },
 "nbformat": 4,
 "nbformat_minor": 2
}
