{
 "cells": [
  {
   "cell_type": "code",
   "execution_count": 375,
   "metadata": {},
   "outputs": [],
   "source": [
    "import pandas as pd\n",
    "import numpy as np\n",
    "import chardet\n",
    "from collections import defaultdict\n",
    "\n",
    "from sklearn.model_selection import train_test_split, GridSearchCV, RandomizedSearchCV, KFold\n",
    "from sklearn.ensemble import RandomForestClassifier, GradientBoostingClassifier\n",
    "from sklearn.pipeline import Pipeline\n",
    "from sklearn.preprocessing import LabelEncoder\n",
    "\n",
    "import seaborn as sns\n",
    "import matplotlib.pyplot as ply"
   ]
  },
  {
   "cell_type": "markdown",
   "metadata": {},
   "source": [
    "## Load and Clean User Data"
   ]
  },
  {
   "cell_type": "code",
   "execution_count": 376,
   "metadata": {},
   "outputs": [
    {
     "name": "stdout",
     "output_type": "stream",
     "text": [
      "Detected encoding: ISO-8859-1 (Confidence: 0.73)\n"
     ]
    }
   ],
   "source": [
    "# Read a the file in binary mode\n",
    "with open('takehome_users.csv', 'rb') as f:\n",
    "    encoding_info = chardet.detect(f.read())\n",
    "\n",
    "print(f\"Detected encoding: {encoding_info['encoding']} (Confidence: {encoding_info['confidence']:.2f})\")\n",
    "\n",
    "# Loading data from csv with correct encoding\n",
    "users_df = pd.read_csv('takehome_users.csv', parse_dates = ['creation_time'], index_col = 'object_id', encoding = encoding) "
   ]
  },
  {
   "cell_type": "code",
   "execution_count": 378,
   "metadata": {},
   "outputs": [],
   "source": [
    "# Convert timestamps & boolean columns\n",
    "datetime_columns = ['creation_time', 'last_session_creation_time']\n",
    "users_df['creation_time'] = pd.to_datetime(users_df['creation_time'], unit = 's')\n",
    "users_df['last_session_creation_time'] = pd.to_datetime(users_df['last_session_creation_time'], unit = 's')\n",
    "\n",
    "bool_columns = [\"opted_in_to_mailing_list\", \"enabled_for_marketing_drip\"]\n",
    "users_df[bool_columns] = users_df[bool_columns].astype(bool)"
   ]
  },
  {
   "cell_type": "markdown",
   "metadata": {},
   "source": [
    "### Treating missing values"
   ]
  },
  {
   "cell_type": "code",
   "execution_count": 379,
   "metadata": {},
   "outputs": [
    {
     "data": {
      "text/plain": [
       "creation_time                    0\n",
       "name                             0\n",
       "email                            0\n",
       "creation_source                  0\n",
       "last_session_creation_time    3177\n",
       "opted_in_to_mailing_list         0\n",
       "enabled_for_marketing_drip       0\n",
       "org_id                           0\n",
       "invited_by_user_id            5583\n",
       "dtype: int64"
      ]
     },
     "execution_count": 379,
     "metadata": {},
     "output_type": "execute_result"
    }
   ],
   "source": [
    "users_df.isna().sum()"
   ]
  },
  {
   "cell_type": "code",
   "execution_count": 355,
   "metadata": {},
   "outputs": [
    {
     "name": "stdout",
     "output_type": "stream",
     "text": [
      "There is no object_id == 0\n"
     ]
    }
   ],
   "source": [
    "try:\n",
    "    print(users_df.loc[0])\n",
    "except:\n",
    "    print('There is no object_id == 0')"
   ]
  },
  {
   "cell_type": "code",
   "execution_count": 356,
   "metadata": {},
   "outputs": [],
   "source": [
    "# Impute NaN in invited_by_user_id by 0\n",
    "users_df['invited_by_user_id'] = users_df['invited_by_user_id'].fillna(0).astype('int')\n",
    "\n",
    "# Impute NaT values for last_session_creation_time by '1970-01-01'\n",
    "users_df['last_session_creation_time'] = users_df['last_session_creation_time'].fillna(pd.Timestamp(\"1970-01-01\"))"
   ]
  },
  {
   "cell_type": "code",
   "execution_count": 357,
   "metadata": {},
   "outputs": [
    {
     "data": {
      "text/plain": [
       "creation_time                 0\n",
       "name                          0\n",
       "email                         0\n",
       "creation_source               0\n",
       "last_session_creation_time    0\n",
       "opted_in_to_mailing_list      0\n",
       "enabled_for_marketing_drip    0\n",
       "org_id                        0\n",
       "invited_by_user_id            0\n",
       "dtype: int64"
      ]
     },
     "execution_count": 357,
     "metadata": {},
     "output_type": "execute_result"
    }
   ],
   "source": [
    "users_df.isna().sum()"
   ]
  },
  {
   "cell_type": "markdown",
   "metadata": {},
   "source": [
    "## Load and Analyse Login Data"
   ]
  },
  {
   "cell_type": "code",
   "execution_count": 358,
   "metadata": {},
   "outputs": [
    {
     "name": "stdout",
     "output_type": "stream",
     "text": [
      "Missing values in the Login Data:\n",
      "time_stamp    0\n",
      "user_id       0\n",
      "visited       0\n",
      "dtype: int64\n",
      "\n",
      "The number of unique users: 8823\n",
      "\n",
      "\n",
      "<class 'pandas.core.frame.DataFrame'>\n",
      "RangeIndex: 207917 entries, 0 to 207916\n",
      "Data columns (total 3 columns):\n",
      " #   Column      Non-Null Count   Dtype         \n",
      "---  ------      --------------   -----         \n",
      " 0   time_stamp  207917 non-null  datetime64[ns]\n",
      " 1   user_id     207917 non-null  int64         \n",
      " 2   visited     207917 non-null  int64         \n",
      "dtypes: datetime64[ns](1), int64(2)\n",
      "memory usage: 4.8 MB\n",
      "None\n",
      "\n",
      "\n",
      "                          time_stamp        user_id   visited\n",
      "count                         207917  207917.000000  207917.0\n",
      "mean   2013-10-30 05:06:45.648763648    5913.314197       1.0\n",
      "min              2012-05-31 08:20:06       1.000000       1.0\n",
      "25%              2013-07-16 20:17:21    3087.000000       1.0\n",
      "50%              2013-12-03 06:38:34    5682.000000       1.0\n",
      "75%              2014-03-13 08:00:24    8944.000000       1.0\n",
      "max              2014-06-06 14:58:50   12000.000000       1.0\n",
      "std                              NaN    3394.941674       0.0\n"
     ]
    }
   ],
   "source": [
    "logins_df = pd.read_csv('takehome_user_engagement.csv', parse_dates = ['time_stamp'], encoding = encoding_info['encoding'])\n",
    "\n",
    "print(f'Missing values in the Login Data:\\n{logins_df.isna().sum()}')\n",
    "print(f'\\nThe number of unique users: {logins_df['user_id'].nunique()}')\n",
    "print('\\n')\n",
    "print(logins_df.info())\n",
    "print('\\n')\n",
    "print(logins_df.describe())"
   ]
  },
  {
   "cell_type": "code",
   "execution_count": 359,
   "metadata": {},
   "outputs": [
    {
     "name": "stdout",
     "output_type": "stream",
     "text": [
      "Are there any users with two or more records on the same day? False\n"
     ]
    }
   ],
   "source": [
    "# Assessing whether a user is adopeted or not\n",
    "logins_df = logins_df.set_index('time_stamp')\n",
    "adopted_users = defaultdict(bool)\n",
    "check = []\n",
    "\n",
    "for user in logins_df['user_id'].unique():\n",
    "    user_activity = pd.DataFrame(logins_df[logins_df['user_id'] == user].resample('D').size(), columns = ['logins'])\n",
    "    check.append(max(user_activity['logins']))\n",
    "    user_activity['MS_7days'] = user_activity['logins'].rolling(7, min_periods = 1).sum()\n",
    "    adopted_users[user] = (True if max(user_activity['MS_7days']) >= 3 else False)\n",
    "\n",
    "# To check that there were no two or more records for the same user_id on a single day\n",
    "print(\"Are there any users with two or more records on the same day?\", (True if max(check) > 1 else False))"
   ]
  },
  {
   "cell_type": "code",
   "execution_count": 360,
   "metadata": {},
   "outputs": [
    {
     "name": "stdout",
     "output_type": "stream",
     "text": [
      "The number of users in the users dataset: 12000\n",
      "The number of users from the login dataset: 8823\n"
     ]
    }
   ],
   "source": [
    "# Converting the new feature (adopted_user) into DataFrame\n",
    "adopted_users_df = pd.DataFrame.from_dict(adopted_users, orient = 'index', columns = ['adopted_user'])\n",
    "adopted_users_df.index.name = 'user_id'\n",
    "\n",
    "# Enriching the original user data by the target variable\n",
    "users_df = pd.merge(users_df, adopted_users_df, left_on = 'object_id', right_on = 'user_id', how = 'outer')\n",
    "\n",
    "print('The number of users in the users dataset:', len(users_df))\n",
    "print('The number of users from the login dataset:', logins_df['user_id'].nunique())"
   ]
  },
  {
   "cell_type": "code",
   "execution_count": 361,
   "metadata": {},
   "outputs": [
    {
     "data": {
      "text/plain": [
       "array([nan], dtype=object)"
      ]
     },
     "execution_count": 361,
     "metadata": {},
     "output_type": "execute_result"
    }
   ],
   "source": [
    "users_df.loc[users_df['last_session_creation_time'] == '1970-01-01 00:00:00', 'adopted_user'].unique()"
   ]
  },
  {
   "cell_type": "markdown",
   "metadata": {},
   "source": [
    "We can see that we have more records in the original user information dataset than we have records about adopted users (12,000 vs. 8,823). Furthermore, all records (and only them) that initially had NaN values in ‘last_session_creation_time’ (I imputed them with ‘1970-01-01 00:00:00’) do not have any login information in ‘takehome_user_engagement.csv’.\n",
    "\n",
    "This means that there is no reason to keep these records because we can not use them for modeling — we do not know whether they are adopted users or not (maybe their login records were just missed or not included, OR maybe they really did not log in at all—we simply do not know and cannot assume anything about this)."
   ]
  },
  {
   "cell_type": "code",
   "execution_count": 362,
   "metadata": {},
   "outputs": [
    {
     "name": "stdout",
     "output_type": "stream",
     "text": [
      "<class 'pandas.core.frame.DataFrame'>\n",
      "Index: 8823 entries, 0 to 11999\n",
      "Data columns (total 10 columns):\n",
      " #   Column                      Non-Null Count  Dtype         \n",
      "---  ------                      --------------  -----         \n",
      " 0   creation_time               8823 non-null   datetime64[ns]\n",
      " 1   name                        8823 non-null   object        \n",
      " 2   email                       8823 non-null   object        \n",
      " 3   creation_source             8823 non-null   object        \n",
      " 4   last_session_creation_time  8823 non-null   datetime64[ns]\n",
      " 5   opted_in_to_mailing_list    8823 non-null   bool          \n",
      " 6   enabled_for_marketing_drip  8823 non-null   bool          \n",
      " 7   org_id                      8823 non-null   int64         \n",
      " 8   invited_by_user_id          8823 non-null   int64         \n",
      " 9   adopted_user                8823 non-null   object        \n",
      "dtypes: bool(2), datetime64[ns](2), int64(2), object(4)\n",
      "memory usage: 637.6+ KB\n"
     ]
    }
   ],
   "source": [
    "users_df = users_df.dropna()\n",
    "users_df.info()"
   ]
  },
  {
   "cell_type": "markdown",
   "metadata": {},
   "source": [
    "## Preparing dataset for the model"
   ]
  },
  {
   "cell_type": "code",
   "execution_count": 363,
   "metadata": {},
   "outputs": [
    {
     "data": {
      "text/html": [
       "<div>\n",
       "<style scoped>\n",
       "    .dataframe tbody tr th:only-of-type {\n",
       "        vertical-align: middle;\n",
       "    }\n",
       "\n",
       "    .dataframe tbody tr th {\n",
       "        vertical-align: top;\n",
       "    }\n",
       "\n",
       "    .dataframe thead th {\n",
       "        text-align: right;\n",
       "    }\n",
       "</style>\n",
       "<table border=\"1\" class=\"dataframe\">\n",
       "  <thead>\n",
       "    <tr style=\"text-align: right;\">\n",
       "      <th></th>\n",
       "      <th>creation_time</th>\n",
       "      <th>name</th>\n",
       "      <th>email</th>\n",
       "      <th>creation_source</th>\n",
       "      <th>last_session_creation_time</th>\n",
       "      <th>opted_in_to_mailing_list</th>\n",
       "      <th>enabled_for_marketing_drip</th>\n",
       "      <th>org_id</th>\n",
       "      <th>invited_by_user_id</th>\n",
       "      <th>adopted_user</th>\n",
       "    </tr>\n",
       "  </thead>\n",
       "  <tbody>\n",
       "    <tr>\n",
       "      <th>0</th>\n",
       "      <td>2014-04-22 03:53:30</td>\n",
       "      <td>Clausen August</td>\n",
       "      <td>AugustCClausen@yahoo.com</td>\n",
       "      <td>GUEST_INVITE</td>\n",
       "      <td>2014-04-22 03:53:30</td>\n",
       "      <td>True</td>\n",
       "      <td>False</td>\n",
       "      <td>11</td>\n",
       "      <td>10803</td>\n",
       "      <td>False</td>\n",
       "    </tr>\n",
       "    <tr>\n",
       "      <th>1</th>\n",
       "      <td>2013-11-15 03:45:04</td>\n",
       "      <td>Poole Matthew</td>\n",
       "      <td>MatthewPoole@gustr.com</td>\n",
       "      <td>ORG_INVITE</td>\n",
       "      <td>2014-03-31 03:45:04</td>\n",
       "      <td>False</td>\n",
       "      <td>False</td>\n",
       "      <td>1</td>\n",
       "      <td>316</td>\n",
       "      <td>True</td>\n",
       "    </tr>\n",
       "    <tr>\n",
       "      <th>2</th>\n",
       "      <td>2013-03-19 23:14:52</td>\n",
       "      <td>Bottrill Mitchell</td>\n",
       "      <td>MitchellBottrill@gustr.com</td>\n",
       "      <td>ORG_INVITE</td>\n",
       "      <td>2013-03-19 23:14:52</td>\n",
       "      <td>False</td>\n",
       "      <td>False</td>\n",
       "      <td>94</td>\n",
       "      <td>1525</td>\n",
       "      <td>False</td>\n",
       "    </tr>\n",
       "    <tr>\n",
       "      <th>3</th>\n",
       "      <td>2013-05-21 08:09:28</td>\n",
       "      <td>Clausen Nicklas</td>\n",
       "      <td>NicklasSClausen@yahoo.com</td>\n",
       "      <td>GUEST_INVITE</td>\n",
       "      <td>2013-05-22 08:09:28</td>\n",
       "      <td>False</td>\n",
       "      <td>False</td>\n",
       "      <td>1</td>\n",
       "      <td>5151</td>\n",
       "      <td>False</td>\n",
       "    </tr>\n",
       "    <tr>\n",
       "      <th>4</th>\n",
       "      <td>2013-01-17 10:14:20</td>\n",
       "      <td>Raw Grace</td>\n",
       "      <td>GraceRaw@yahoo.com</td>\n",
       "      <td>GUEST_INVITE</td>\n",
       "      <td>2013-01-22 10:14:20</td>\n",
       "      <td>False</td>\n",
       "      <td>False</td>\n",
       "      <td>193</td>\n",
       "      <td>5240</td>\n",
       "      <td>False</td>\n",
       "    </tr>\n",
       "  </tbody>\n",
       "</table>\n",
       "</div>"
      ],
      "text/plain": [
       "        creation_time               name                       email  \\\n",
       "0 2014-04-22 03:53:30     Clausen August    AugustCClausen@yahoo.com   \n",
       "1 2013-11-15 03:45:04      Poole Matthew      MatthewPoole@gustr.com   \n",
       "2 2013-03-19 23:14:52  Bottrill Mitchell  MitchellBottrill@gustr.com   \n",
       "3 2013-05-21 08:09:28    Clausen Nicklas   NicklasSClausen@yahoo.com   \n",
       "4 2013-01-17 10:14:20          Raw Grace          GraceRaw@yahoo.com   \n",
       "\n",
       "  creation_source last_session_creation_time  opted_in_to_mailing_list  \\\n",
       "0    GUEST_INVITE        2014-04-22 03:53:30                      True   \n",
       "1      ORG_INVITE        2014-03-31 03:45:04                     False   \n",
       "2      ORG_INVITE        2013-03-19 23:14:52                     False   \n",
       "3    GUEST_INVITE        2013-05-22 08:09:28                     False   \n",
       "4    GUEST_INVITE        2013-01-22 10:14:20                     False   \n",
       "\n",
       "   enabled_for_marketing_drip  org_id  invited_by_user_id adopted_user  \n",
       "0                       False      11               10803        False  \n",
       "1                       False       1                 316         True  \n",
       "2                       False      94                1525        False  \n",
       "3                       False       1                5151        False  \n",
       "4                       False     193                5240        False  "
      ]
     },
     "execution_count": 363,
     "metadata": {},
     "output_type": "execute_result"
    }
   ],
   "source": [
    "users_df.head(5)"
   ]
  },
  {
   "cell_type": "markdown",
   "metadata": {},
   "source": [
    "I will also drop 'name' and 'email' columns to avoid overfitting by memorizing exact personal information. \n",
    "\n",
    "I will keep 'creation_time' and 'last_session_creation_time' but convert them to integer format (as the number of days from 1970-01-01) to make them sutable for modelling and avoid overfitting due to precise timestemp.\n",
    "\n",
    "I also consider that 'last_session_creation_time' can be the most influential factor but it might be too impractical to use it because it may be too late to predict the user churn when a user has not logged in for some time. However, I will test two approaches: including 'last_session_creation_time' as factor and excluding it."
   ]
  },
  {
   "cell_type": "code",
   "execution_count": 364,
   "metadata": {},
   "outputs": [
    {
     "data": {
      "text/html": [
       "<div>\n",
       "<style scoped>\n",
       "    .dataframe tbody tr th:only-of-type {\n",
       "        vertical-align: middle;\n",
       "    }\n",
       "\n",
       "    .dataframe tbody tr th {\n",
       "        vertical-align: top;\n",
       "    }\n",
       "\n",
       "    .dataframe thead th {\n",
       "        text-align: right;\n",
       "    }\n",
       "</style>\n",
       "<table border=\"1\" class=\"dataframe\">\n",
       "  <thead>\n",
       "    <tr style=\"text-align: right;\">\n",
       "      <th></th>\n",
       "      <th>creation_time</th>\n",
       "      <th>creation_source</th>\n",
       "      <th>last_session_creation_time</th>\n",
       "      <th>opted_in_to_mailing_list</th>\n",
       "      <th>enabled_for_marketing_drip</th>\n",
       "      <th>org_id</th>\n",
       "      <th>invited_by_user_id</th>\n",
       "      <th>adopted_user</th>\n",
       "    </tr>\n",
       "  </thead>\n",
       "  <tbody>\n",
       "    <tr>\n",
       "      <th>0</th>\n",
       "      <td>16182</td>\n",
       "      <td>GUEST_INVITE</td>\n",
       "      <td>16182</td>\n",
       "      <td>True</td>\n",
       "      <td>False</td>\n",
       "      <td>11</td>\n",
       "      <td>10803</td>\n",
       "      <td>False</td>\n",
       "    </tr>\n",
       "    <tr>\n",
       "      <th>1</th>\n",
       "      <td>16024</td>\n",
       "      <td>ORG_INVITE</td>\n",
       "      <td>16160</td>\n",
       "      <td>False</td>\n",
       "      <td>False</td>\n",
       "      <td>1</td>\n",
       "      <td>316</td>\n",
       "      <td>True</td>\n",
       "    </tr>\n",
       "    <tr>\n",
       "      <th>2</th>\n",
       "      <td>15783</td>\n",
       "      <td>ORG_INVITE</td>\n",
       "      <td>15783</td>\n",
       "      <td>False</td>\n",
       "      <td>False</td>\n",
       "      <td>94</td>\n",
       "      <td>1525</td>\n",
       "      <td>False</td>\n",
       "    </tr>\n",
       "    <tr>\n",
       "      <th>3</th>\n",
       "      <td>15846</td>\n",
       "      <td>GUEST_INVITE</td>\n",
       "      <td>15847</td>\n",
       "      <td>False</td>\n",
       "      <td>False</td>\n",
       "      <td>1</td>\n",
       "      <td>5151</td>\n",
       "      <td>False</td>\n",
       "    </tr>\n",
       "    <tr>\n",
       "      <th>4</th>\n",
       "      <td>15722</td>\n",
       "      <td>GUEST_INVITE</td>\n",
       "      <td>15727</td>\n",
       "      <td>False</td>\n",
       "      <td>False</td>\n",
       "      <td>193</td>\n",
       "      <td>5240</td>\n",
       "      <td>False</td>\n",
       "    </tr>\n",
       "  </tbody>\n",
       "</table>\n",
       "</div>"
      ],
      "text/plain": [
       "   creation_time creation_source  last_session_creation_time  \\\n",
       "0          16182    GUEST_INVITE                       16182   \n",
       "1          16024      ORG_INVITE                       16160   \n",
       "2          15783      ORG_INVITE                       15783   \n",
       "3          15846    GUEST_INVITE                       15847   \n",
       "4          15722    GUEST_INVITE                       15727   \n",
       "\n",
       "   opted_in_to_mailing_list  enabled_for_marketing_drip  org_id  \\\n",
       "0                      True                       False      11   \n",
       "1                     False                       False       1   \n",
       "2                     False                       False      94   \n",
       "3                     False                       False       1   \n",
       "4                     False                       False     193   \n",
       "\n",
       "   invited_by_user_id  adopted_user  \n",
       "0               10803         False  \n",
       "1                 316          True  \n",
       "2                1525         False  \n",
       "3                5151         False  \n",
       "4                5240         False  "
      ]
     },
     "execution_count": 364,
     "metadata": {},
     "output_type": "execute_result"
    }
   ],
   "source": [
    "model_df = users_df.reset_index(drop = True)\n",
    "model_df = model_df.drop(columns = ['name', 'email'])\n",
    "\n",
    "model_df['creation_time'] = (model_df['creation_time'] - pd.Timestamp('1970-01-01')) // pd.Timedelta(days = 1)\n",
    "model_df['last_session_creation_time'] = (model_df['last_session_creation_time'] - pd.Timestamp('1970-01-01')) // pd.Timedelta(days = 1)\n",
    "\n",
    "model_df['adopted_user'] = model_df['adopted_user'].astype('bool')\n",
    "\n",
    "model_df.head()"
   ]
  },
  {
   "cell_type": "code",
   "execution_count": 365,
   "metadata": {},
   "outputs": [
    {
     "name": "stdout",
     "output_type": "stream",
     "text": [
      "Number of unique orgaisations IDs: 417\n",
      "Number of unique invited by user IDs: 2230\n",
      "Number of unique creation sources: 5\n"
     ]
    }
   ],
   "source": [
    "print('Number of unique orgaisations IDs:', users_df['org_id'].nunique())\n",
    "print('Number of unique invited by user IDs:', users_df['invited_by_user_id'].nunique())\n",
    "print('Number of unique creation sources:', users_df['creation_source'].nunique())"
   ]
  },
  {
   "cell_type": "markdown",
   "metadata": {},
   "source": [
    "The 'creation_source' column contains justs few unique value (5) and can be OneHotEncoded. However, two other columns ('org_id' and 'invited_by_user_id') contain too many unique values for OneHotEncoding, so I will use Frequency Encoding in the Pipeline to prevent data leakage."
   ]
  },
  {
   "cell_type": "code",
   "execution_count": 366,
   "metadata": {},
   "outputs": [],
   "source": [
    "# Copy for correlation analysis (without dummies)\n",
    "correlation_df = model_df\n",
    "cols = list(correlation_df.columns)\n",
    "cols.remove('adopted_user')\n",
    "cols.append('adopted_user')\n",
    "model_df = correlation_df[cols]\n",
    "\n",
    "# OneHotEncoding the 'creation_source; column\n",
    "model_df = pd.get_dummies(model_df, columns = ['creation_source'], drop_first = True)\n",
    "\n",
    "# Rearrange columns for convenience \n",
    "cols = list(model_df.columns)\n",
    "cols.remove('adopted_user')\n",
    "cols.append('adopted_user')\n",
    "model_df = model_df[cols]"
   ]
  },
  {
   "cell_type": "code",
   "execution_count": 367,
   "metadata": {},
   "outputs": [
    {
     "name": "stdout",
     "output_type": "stream",
     "text": [
      "<class 'pandas.core.frame.DataFrame'>\n",
      "RangeIndex: 8823 entries, 0 to 8822\n",
      "Data columns (total 11 columns):\n",
      " #   Column                              Non-Null Count  Dtype\n",
      "---  ------                              --------------  -----\n",
      " 0   creation_time                       8823 non-null   int64\n",
      " 1   last_session_creation_time          8823 non-null   int64\n",
      " 2   opted_in_to_mailing_list            8823 non-null   bool \n",
      " 3   enabled_for_marketing_drip          8823 non-null   bool \n",
      " 4   org_id                              8823 non-null   int64\n",
      " 5   invited_by_user_id                  8823 non-null   int64\n",
      " 6   creation_source_ORG_INVITE          8823 non-null   bool \n",
      " 7   creation_source_PERSONAL_PROJECTS   8823 non-null   bool \n",
      " 8   creation_source_SIGNUP              8823 non-null   bool \n",
      " 9   creation_source_SIGNUP_GOOGLE_AUTH  8823 non-null   bool \n",
      " 10  adopted_user                        8823 non-null   bool \n",
      "dtypes: bool(7), int64(4)\n",
      "memory usage: 336.2 KB\n"
     ]
    }
   ],
   "source": [
    "model_df.info()"
   ]
  },
  {
   "cell_type": "markdown",
   "metadata": {},
   "source": [
    "## Correlation analysis"
   ]
  },
  {
   "cell_type": "code",
   "execution_count": 368,
   "metadata": {},
   "outputs": [
    {
     "name": "stdout",
     "output_type": "stream",
     "text": [
      "<class 'pandas.core.frame.DataFrame'>\n",
      "RangeIndex: 8823 entries, 0 to 8822\n",
      "Data columns (total 8 columns):\n",
      " #   Column                      Non-Null Count  Dtype\n",
      "---  ------                      --------------  -----\n",
      " 0   creation_time               8823 non-null   int64\n",
      " 1   creation_source             8823 non-null   int64\n",
      " 2   last_session_creation_time  8823 non-null   int64\n",
      " 3   opted_in_to_mailing_list    8823 non-null   bool \n",
      " 4   enabled_for_marketing_drip  8823 non-null   bool \n",
      " 5   org_id                      8823 non-null   int64\n",
      " 6   invited_by_user_id          8823 non-null   int64\n",
      " 7   adopted_user                8823 non-null   bool \n",
      "dtypes: bool(3), int64(5)\n",
      "memory usage: 370.6 KB\n"
     ]
    }
   ],
   "source": [
    "my_encoder = LabelEncoder()\n",
    "correlation_df['creation_source'] = my_encoder.fit_transform(correlation_df['creation_source'].astype('category'))\n",
    "correlation_df.info()"
   ]
  },
  {
   "cell_type": "code",
   "execution_count": 369,
   "metadata": {},
   "outputs": [
    {
     "data": {
      "text/plain": [
       "<Axes: >"
      ]
     },
     "execution_count": 369,
     "metadata": {},
     "output_type": "execute_result"
    },
    {
     "data": {
      "image/png": "[encoded data removed]",
      "text/plain": [
       "<Figure size 640x480 with 2 Axes>"
      ]
     },
     "metadata": {},
     "output_type": "display_data"
    }
   ],
   "source": [
    "# Plot heatmap for correlation matrix\n",
    "heatmap = correlation_df.corr()\n",
    "sns.heatmap(data = heatmap, annot = True, fmt = '.2f')"
   ]
  },
  {
   "cell_type": "markdown",
   "metadata": {},
   "source": [
    "We observe that the most influential factors are:\n",
    "-\tThe time of the last login (though it may be a post-hoc factor)\n",
    "-\tThe sign-up date\n",
    "-\tThe organization"
   ]
  },
  {
   "cell_type": "markdown",
   "metadata": {},
   "source": [
    "## Modelling"
   ]
  },
  {
   "cell_type": "code",
   "execution_count": 370,
   "metadata": {},
   "outputs": [],
   "source": [
    "# Separate factors and target variable\n",
    "X = model_df.iloc[:, :-1]\n",
    "y = model_df.iloc[:, -1]"
   ]
  },
  {
   "cell_type": "code",
   "execution_count": 371,
   "metadata": {},
   "outputs": [],
   "source": [
    "# Split onto train and test datasets\n",
    "# X_train, X_test, y_train, y_test = train_test_split(X, y, shuffle = True, test_size = 0.2, random_state = 1812)"
   ]
  },
  {
   "cell_type": "markdown",
   "metadata": {},
   "source": [
    "__NOTE:__ We do not need to split the data into training and testing datasets because our goal is to identify the most influential factors rather than to evaluate a model."
   ]
  },
  {
   "cell_type": "code",
   "execution_count": 372,
   "metadata": {},
   "outputs": [],
   "source": [
    "# Define my transformer to use frequency encoding without data leakage\n",
    "from sklearn.base import BaseEstimator, TransformerMixin\n",
    "\n",
    "class FrequencyEncoder(BaseEstimator, TransformerMixin):\n",
    "    # Transformer for frequency encoding of a categorical column\n",
    "\n",
    "    def __init__(self, column):\n",
    "        self.column = column\n",
    "        self.freq_mapping = None\n",
    "\n",
    "    def fit(self, X, y=None):\n",
    "        # Computing frequencies based only on training data\n",
    "        self.freq_mapping = X[self.column].value_counts().to_dict()\n",
    "        return self\n",
    "\n",
    "    def transform(self, X):\n",
    "        # Frequency encoding\n",
    "        X_copy = X.copy()\n",
    "        X_copy[self.column] = X_copy[self.column].map(self.freq_mapping).fillna(0)\n",
    "        return X_copy"
   ]
  },
  {
   "cell_type": "code",
   "execution_count": 373,
   "metadata": {},
   "outputs": [],
   "source": [
    "# Define two models to identify independently the most influential factors: Random Forest and Gradient Boosting\n",
    "# I will use both model to get 'two independent decisions'\n",
    "models = {'Random Forest': RandomForestClassifier(min_samples_leaf = 5, random_state = 1812, n_jobs = -1),\n",
    "          'Gradient Boosting': GradientBoostingClassifier(max_leaf_nodes = 15, random_state = 1812)}\n",
    "\n",
    "# Hyperparameters fro each model\n",
    "param_grids = {'Random Forest': {'classifier__n_estimators': [10, 20, 50, 100]},\n",
    "               'Gradient Boosting': {'classifier__learning_rate': [0.1, 0.01, 0.001]}}\n",
    "\n",
    "# Define folds for cross-validation\n",
    "cv = KFold(n_splits = 4, shuffle = True, random_state = 1812)\n",
    "\n",
    "# Use cross validation in cycle for each model\n",
    "results = []\n",
    "for name, model in models.items():\n",
    "    # Pipeline to apply frequence encoding for two factors - 'org_id' and 'invited_by_user_id' \n",
    "    pipeline = Pipeline([\n",
    "        ('freq_encoder_org', FrequencyEncoder(column = 'org_id')),\n",
    "        ('freq_encoder_inv', FrequencyEncoder(column = 'invited_by_user_id')),\n",
    "        ('classifier', model)])\n",
    "    \n",
    "    # Grid searche for the best hyperparameters \n",
    "    grid_search = GridSearchCV(\n",
    "        estimator = pipeline,\n",
    "        param_grid = param_grids[name],\n",
    "        return_train_score = True,\n",
    "        cv = cv).fit(X, y)\n",
    "\n",
    "    # Save results\n",
    "    result = {'model': name, \n",
    "              'cv_results': pd.DataFrame(grid_search.cv_results_),\n",
    "              'feature_importance': grid_search.best_estimator_.named_steps['classifier'].feature_importances_\n",
    "              }\n",
    "    results.append(result)"
   ]
  },
  {
   "cell_type": "code",
   "execution_count": 374,
   "metadata": {},
   "outputs": [
    {
     "name": "stdout",
     "output_type": "stream",
     "text": [
      "Model name: Random Forest\n",
      "                            Importance\n",
      "creation_source               0.765567\n",
      "creation_time                 0.181500\n",
      "enabled_for_marketing_drip    0.030312\n",
      "org_id                        0.010391\n",
      "invited_by_user_id            0.003070\n",
      "last_session_creation_time    0.002243\n",
      "opted_in_to_mailing_list      0.002142\n",
      "\n",
      "Model name: Gradient Boosting\n",
      "                            Importance\n",
      "creation_source               0.580508\n",
      "creation_time                 0.417320\n",
      "enabled_for_marketing_drip    0.001314\n",
      "opted_in_to_mailing_list      0.000276\n",
      "last_session_creation_time    0.000132\n",
      "org_id                        0.000100\n",
      "invited_by_user_id            0.000000\n",
      "\n"
     ]
    }
   ],
   "source": [
    "# Print the most influencial factors for each model\n",
    "for i in range(2):\n",
    "    feature_importance = defaultdict(float)\n",
    "    for feature, importance in zip(tmp_df.columns[:-1], results[i]['feature_importance']):\n",
    "        feature_importance[feature] = importance\n",
    "\n",
    "    print('Model name:', results[i]['model'])\n",
    "    print(pd.DataFrame.from_dict(feature_importance, orient = 'index', columns = ['Importance']).sort_values('Importance', ascending = False))\n",
    "    print('')"
   ]
  },
  {
   "cell_type": "markdown",
   "metadata": {},
   "source": [
    "We see both models don't pay too much attention to the 'last_session_creation_time', so I will not try training models excluding this factor.\n",
    "\n",
    "The most important factors predicting future user adoption are:\n",
    "- Creation Source \n",
    "- Creation Time"
   ]
  }
 ],
 "metadata": {
  "kernelspec": {
   "display_name": "springboard",
   "language": "python",
   "name": "python3"
  },
  "language_info": {
   "codemirror_mode": {
    "name": "ipython",
    "version": 3
   },
   "file_extension": ".py",
   "mimetype": "text/x-python",
   "name": "python",
   "nbconvert_exporter": "python",
   "pygments_lexer": "ipython3",
   "version": "3.12.2"
  }
 },
 "nbformat": 4,
 "nbformat_minor": 2
}
